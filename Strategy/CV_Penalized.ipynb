{
 "cells": [
  {
   "cell_type": "code",
   "execution_count": 44,
   "id": "7e248287",
   "metadata": {},
   "outputs": [],
   "source": [
    "import pandas as pd\n",
    "import numpy as np\n",
    "\n",
    "from numpy import mean\n",
    "from numpy import std\n",
    "\n",
    "from sklearn.preprocessing import StandardScaler\n",
    "\n",
    "from sklearn.linear_model import Ridge\n",
    "from sklearn.linear_model import Lasso\n",
    "from sklearn.linear_model import ElasticNet\n",
    "from sklearn.ensemble import RandomForestRegressor\n",
    "from sklearn.ensemble import GradientBoostingRegressor\n",
    "from xgboost import XGBRegressor\n",
    "#from sklearn.svm import SVR\n",
    "\n",
    "\n",
    "from sklearn.model_selection import cross_val_score, cross_validate\n",
    "from sklearn.model_selection import RepeatedKFold\n",
    "\n",
    "from matplotlib import pyplot\n"
   ]
  },
  {
   "cell_type": "code",
   "execution_count": 45,
   "id": "bb4533d1",
   "metadata": {},
   "outputs": [
    {
     "data": {
      "text/plain": [
       "(2580, 299)"
      ]
     },
     "execution_count": 45,
     "metadata": {},
     "output_type": "execute_result"
    }
   ],
   "source": [
    "# Basic Dummified Dataset for Linear Models\n",
    "base = pd.read_csv('../Data/BaseData.csv')\n",
    "base.shape"
   ]
  },
  {
   "cell_type": "code",
   "execution_count": 46,
   "id": "cae76f5e",
   "metadata": {},
   "outputs": [],
   "source": [
    "X = base.drop(['SalePrice'], axis=1).values\n",
    "y = base.SalePrice.values\n",
    "\n",
    "scaler = StandardScaler()\n",
    "X = scaler.fit_transform(X)\n",
    "#y=np.log10(y)"
   ]
  },
  {
   "cell_type": "code",
   "execution_count": 47,
   "id": "b38d5ea8",
   "metadata": {},
   "outputs": [],
   "source": [
    "# list of penalized regression models to evaluate\n",
    "\n",
    "def get_models():\n",
    "    models = dict()\n",
    "    models['ridge'] = Ridge() \n",
    "    models['lasso'] = Lasso() \n",
    "    models['elastic_net'] = ElasticNet()\n",
    "    return models\n"
   ]
  },
  {
   "cell_type": "code",
   "execution_count": 48,
   "id": "ba2ba143",
   "metadata": {},
   "outputs": [],
   "source": [
    "# Use cross-validation to evaluate model performance\n",
    "\n",
    "def evaluate_model(model, X, y):\n",
    "    \n",
    "    # define the evaluation procedure\n",
    "    cv = RepeatedKFold(n_splits=10, n_repeats=1, random_state=1)\n",
    "    \n",
    "    # evaluate the model and collect the results\n",
    "    scores = cross_validate(model, X, y, scoring=['r2', 'neg_mean_absolute_error'], \n",
    "                                  cv=cv, n_jobs=-1) \n",
    "    \n",
    "    return scores"
   ]
  },
  {
   "cell_type": "code",
   "execution_count": 49,
   "id": "409b6f97",
   "metadata": {},
   "outputs": [],
   "source": [
    "models = get_models()"
   ]
  },
  {
   "cell_type": "code",
   "execution_count": 50,
   "id": "024c48ae",
   "metadata": {},
   "outputs": [],
   "source": [
    "scores = evaluate_model(Ridge(), X, y)"
   ]
  },
  {
   "cell_type": "code",
   "execution_count": 51,
   "id": "f9653346",
   "metadata": {},
   "outputs": [
    {
     "data": {
      "text/plain": [
       "{'fit_time': array([0.03617692, 0.01906991, 0.02771401, 0.02484894, 0.02312922,\n",
       "        0.02729797, 0.01761889, 0.02449894, 0.02235293, 0.02082992]),\n",
       " 'score_time': array([0.00154305, 0.00038195, 0.00099993, 0.00042105, 0.00035191,\n",
       "        0.00098014, 0.00042486, 0.00107598, 0.00041318, 0.00043488]),\n",
       " 'test_r2': array([0.90794069, 0.91835231, 0.92737793, 0.79440718, 0.86954043,\n",
       "        0.8834173 , 0.92623184, 0.91807102, 0.95360891, 0.9334045 ]),\n",
       " 'test_neg_mean_absolute_error': array([-15324.29766639, -14576.88213751, -13822.34838153, -15680.85328561,\n",
       "        -15493.87253426, -16324.49987266, -13910.66264679, -14802.2469141 ,\n",
       "        -12289.71114789, -12904.29339444])}"
      ]
     },
     "execution_count": 51,
     "metadata": {},
     "output_type": "execute_result"
    }
   ],
   "source": [
    "scores"
   ]
  },
  {
   "cell_type": "code",
   "execution_count": 52,
   "id": "d775740f",
   "metadata": {},
   "outputs": [
    {
     "data": {
      "text/html": [
       "<div>\n",
       "<style scoped>\n",
       "    .dataframe tbody tr th:only-of-type {\n",
       "        vertical-align: middle;\n",
       "    }\n",
       "\n",
       "    .dataframe tbody tr th {\n",
       "        vertical-align: top;\n",
       "    }\n",
       "\n",
       "    .dataframe thead th {\n",
       "        text-align: right;\n",
       "    }\n",
       "</style>\n",
       "<table border=\"1\" class=\"dataframe\">\n",
       "  <thead>\n",
       "    <tr style=\"text-align: right;\">\n",
       "      <th></th>\n",
       "      <th>0</th>\n",
       "    </tr>\n",
       "  </thead>\n",
       "  <tbody>\n",
       "    <tr>\n",
       "      <th>count</th>\n",
       "      <td>10.000000</td>\n",
       "    </tr>\n",
       "    <tr>\n",
       "      <th>mean</th>\n",
       "      <td>0.903235</td>\n",
       "    </tr>\n",
       "    <tr>\n",
       "      <th>std</th>\n",
       "      <td>0.045218</td>\n",
       "    </tr>\n",
       "    <tr>\n",
       "      <th>min</th>\n",
       "      <td>0.794407</td>\n",
       "    </tr>\n",
       "    <tr>\n",
       "      <th>25%</th>\n",
       "      <td>0.889548</td>\n",
       "    </tr>\n",
       "    <tr>\n",
       "      <th>50%</th>\n",
       "      <td>0.918212</td>\n",
       "    </tr>\n",
       "    <tr>\n",
       "      <th>75%</th>\n",
       "      <td>0.927091</td>\n",
       "    </tr>\n",
       "    <tr>\n",
       "      <th>max</th>\n",
       "      <td>0.953609</td>\n",
       "    </tr>\n",
       "  </tbody>\n",
       "</table>\n",
       "</div>"
      ],
      "text/plain": [
       "               0\n",
       "count  10.000000\n",
       "mean    0.903235\n",
       "std     0.045218\n",
       "min     0.794407\n",
       "25%     0.889548\n",
       "50%     0.918212\n",
       "75%     0.927091\n",
       "max     0.953609"
      ]
     },
     "execution_count": 52,
     "metadata": {},
     "output_type": "execute_result"
    }
   ],
   "source": [
    "pd.DataFrame(scores['test_r2']).describe()"
   ]
  },
  {
   "cell_type": "code",
   "execution_count": 53,
   "id": "0f620e91",
   "metadata": {},
   "outputs": [
    {
     "data": {
      "text/plain": [
       "array([-15324.29766639, -14576.88213751, -13822.34838153, -15680.85328561,\n",
       "       -15493.87253426, -16324.49987266, -13910.66264679, -14802.2469141 ,\n",
       "       -12289.71114789, -12904.29339444])"
      ]
     },
     "execution_count": 53,
     "metadata": {},
     "output_type": "execute_result"
    }
   ],
   "source": [
    "scores['test_neg_mean_absolute_error']"
   ]
  },
  {
   "cell_type": "code",
   "execution_count": 54,
   "id": "5d25718c",
   "metadata": {},
   "outputs": [
    {
     "data": {
      "text/plain": [
       "array([15324.29766639, 14576.88213751, 13822.34838153, 15680.85328561,\n",
       "       15493.87253426, 16324.49987266, 13910.66264679, 14802.2469141 ,\n",
       "       12289.71114789, 12904.29339444])"
      ]
     },
     "execution_count": 54,
     "metadata": {},
     "output_type": "execute_result"
    }
   ],
   "source": [
    "np.abs(scores['test_neg_mean_absolute_error'])"
   ]
  },
  {
   "cell_type": "code",
   "execution_count": 10,
   "id": "1c7f3a72",
   "metadata": {},
   "outputs": [
    {
     "data": {
      "text/plain": [
       "{'ridge': Ridge(), 'lasso': Lasso(), 'elastic_net': ElasticNet()}"
      ]
     },
     "execution_count": 10,
     "metadata": {},
     "output_type": "execute_result"
    }
   ],
   "source": [
    "models"
   ]
  },
  {
   "cell_type": "code",
   "execution_count": 40,
   "id": "3e806699",
   "metadata": {},
   "outputs": [
    {
     "name": "stdout",
     "output_type": "stream",
     "text": [
      ">ridge 0.910 (0.033)\n",
      ">lasso -0.004 (0.130)\n",
      ">elastic_net -0.004 (0.130)\n"
     ]
    }
   ],
   "source": [
    "#results_r2, results_neg_mse, names = list(), list(), list()\n",
    "\n",
    "for name, model in models.items():\n",
    "    \n",
    "    # evaluate the model\n",
    "    scores = evaluate_model(model, X, y)\n",
    "    #print(scores)\n",
    "    \n",
    "    # store the results\n",
    "    results_r2 = []\n",
    "    results_neg_mse = []\n",
    "    names = []\n",
    "    results_r2.append(scores['test_r2'])\n",
    "    results_neg_mse.append(scores['test_neg_mean_absolute_error'])\n",
    "    names.append(name)\n",
    "    \n",
    "    # summarize the performance along the way\n",
    "    print('>%s %.3f (%.3f)' % (name, mean(results_r2), mean(np.abs(results_neg_mse))))"
   ]
  },
  {
   "cell_type": "code",
   "execution_count": null,
   "id": "51080edb",
   "metadata": {},
   "outputs": [],
   "source": []
  }
 ],
 "metadata": {
  "hide_input": false,
  "kernelspec": {
   "display_name": "Python 3 (ipykernel)",
   "language": "python",
   "name": "python3"
  },
  "language_info": {
   "codemirror_mode": {
    "name": "ipython",
    "version": 3
   },
   "file_extension": ".py",
   "mimetype": "text/x-python",
   "name": "python",
   "nbconvert_exporter": "python",
   "pygments_lexer": "ipython3",
   "version": "3.8.8"
  },
  "varInspector": {
   "cols": {
    "lenName": 16,
    "lenType": 16,
    "lenVar": 40
   },
   "kernels_config": {
    "python": {
     "delete_cmd_postfix": "",
     "delete_cmd_prefix": "del ",
     "library": "var_list.py",
     "varRefreshCmd": "print(var_dic_list())"
    },
    "r": {
     "delete_cmd_postfix": ") ",
     "delete_cmd_prefix": "rm(",
     "library": "var_list.r",
     "varRefreshCmd": "cat(var_dic_list()) "
    }
   },
   "types_to_exclude": [
    "module",
    "function",
    "builtin_function_or_method",
    "instance",
    "_Feature"
   ],
   "window_display": false
  }
 },
 "nbformat": 4,
 "nbformat_minor": 5
}
