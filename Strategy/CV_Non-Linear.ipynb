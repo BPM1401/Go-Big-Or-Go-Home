{
 "cells": [
  {
   "cell_type": "code",
   "execution_count": 1,
   "id": "7e248287",
   "metadata": {},
   "outputs": [],
   "source": [
    "import pandas as pd\n",
    "import numpy as np\n",
    "\n",
    "from numpy import mean\n",
    "from numpy import std\n",
    "\n",
    "from sklearn.preprocessing import StandardScaler\n",
    "\n",
    "from sklearn.linear_model import Ridge\n",
    "from sklearn.linear_model import Lasso\n",
    "from sklearn.linear_model import ElasticNet\n",
    "from sklearn.ensemble import RandomForestRegressor\n",
    "from sklearn.ensemble import GradientBoostingRegressor\n",
    "from xgboost import XGBRegressor\n",
    "#from sklearn.svm import SVR\n",
    "\n",
    "\n",
    "from sklearn.model_selection import cross_val_score, cross_validate\n",
    "from sklearn.model_selection import RepeatedKFold\n",
    "\n",
    "from matplotlib import pyplot\n"
   ]
  },
  {
   "cell_type": "code",
   "execution_count": 2,
   "id": "600929ec",
   "metadata": {},
   "outputs": [],
   "source": [
    "# Basic Ordinal Encoded Dataset for Non-Linear Models\n",
    "ordinal = pd.read_csv('../Data/BaseOrdinal.csv')"
   ]
  },
  {
   "cell_type": "code",
   "execution_count": 3,
   "id": "34ee7471",
   "metadata": {},
   "outputs": [],
   "source": [
    "X = ordinal.drop(['SalePrice'], axis=1).values\n",
    "y = ordinal.SalePrice.values\n",
    "\n",
    "scaler = StandardScaler()\n",
    "X = scaler.fit_transform(X)"
   ]
  },
  {
   "cell_type": "code",
   "execution_count": 4,
   "id": "eb76fa54",
   "metadata": {},
   "outputs": [],
   "source": [
    "# list of other models to evaluate\n",
    "\n",
    "def get_models():\n",
    "    models = dict()\n",
    "    models['rf no bs'] = RandomForestRegressor(n_estimators=100, criterion='squared_error', bootstrap=False) \n",
    "    models['rf w bs'] = RandomForestRegressor(n_estimators=100, criterion='squared_error', bootstrap=True) \n",
    "    models['gradient boost'] = GradientBoostingRegressor()\n",
    "    models['Xtreme GB'] = XGBRegressor()\n",
    "    #models['svm'] = SVR()\n",
    "    return models"
   ]
  },
  {
   "cell_type": "code",
   "execution_count": 5,
   "id": "3979daae",
   "metadata": {},
   "outputs": [],
   "source": [
    "# Use cross-validation to evaluate model performance\n",
    "\n",
    "def evaluate_model(model, X, y):\n",
    "    \n",
    "    # define the evaluation procedure\n",
    "    cv = RepeatedKFold(n_splits=10, n_repeats=3, random_state=1)\n",
    "    \n",
    "    # evaluate the model and collect the results\n",
    "    scores = cross_validate(model, X, y, scoring=['r2', 'neg_mean_absolute_error'], \n",
    "                                  cv=cv, n_jobs=-1) \n",
    "    \n",
    "    return scores"
   ]
  },
  {
   "cell_type": "code",
   "execution_count": 6,
   "id": "b8f92d46",
   "metadata": {},
   "outputs": [],
   "source": [
    "models = get_models()"
   ]
  },
  {
   "cell_type": "code",
   "execution_count": 7,
   "id": "3cbd54da",
   "metadata": {},
   "outputs": [
    {
     "name": "stdout",
     "output_type": "stream",
     "text": [
      ">rf no bs 0.787 (21883.556)\n",
      ">rf w bs 0.890 (14913.072)\n",
      ">gradient boost 0.903 (13738.377)\n",
      ">Xtreme GB 0.894 (14644.156)\n"
     ]
    }
   ],
   "source": [
    "#results_r2, results_neg_mse, names = list(), list(), list()\n",
    "\n",
    "for name, model in models.items():\n",
    "    \n",
    "    # evaluate the model\n",
    "    scores = evaluate_model(model, X, y)\n",
    "    #print(scores)\n",
    "    \n",
    "    # store the results\n",
    "    results_r2 = []\n",
    "    results_neg_mse = []\n",
    "    names = []\n",
    "    results_r2.append(scores['test_r2'])\n",
    "    results_neg_mse.append(scores['test_neg_mean_absolute_error'])\n",
    "    names.append(name)\n",
    "    \n",
    "    # summarize the performance along the way\n",
    "    print('>%s %.3f (%.3f)' % (name, mean(results_r2), mean(np.abs(results_neg_mse))))"
   ]
  },
  {
   "cell_type": "code",
   "execution_count": null,
   "id": "39350971",
   "metadata": {},
   "outputs": [],
   "source": []
  },
  {
   "cell_type": "code",
   "execution_count": null,
   "id": "fcbda54e",
   "metadata": {},
   "outputs": [],
   "source": []
  }
 ],
 "metadata": {
  "hide_input": false,
  "kernelspec": {
   "display_name": "Python 3 (ipykernel)",
   "language": "python",
   "name": "python3"
  },
  "language_info": {
   "codemirror_mode": {
    "name": "ipython",
    "version": 3
   },
   "file_extension": ".py",
   "mimetype": "text/x-python",
   "name": "python",
   "nbconvert_exporter": "python",
   "pygments_lexer": "ipython3",
   "version": "3.8.8"
  },
  "varInspector": {
   "cols": {
    "lenName": 16,
    "lenType": 16,
    "lenVar": 40
   },
   "kernels_config": {
    "python": {
     "delete_cmd_postfix": "",
     "delete_cmd_prefix": "del ",
     "library": "var_list.py",
     "varRefreshCmd": "print(var_dic_list())"
    },
    "r": {
     "delete_cmd_postfix": ") ",
     "delete_cmd_prefix": "rm(",
     "library": "var_list.r",
     "varRefreshCmd": "cat(var_dic_list()) "
    }
   },
   "types_to_exclude": [
    "module",
    "function",
    "builtin_function_or_method",
    "instance",
    "_Feature"
   ],
   "window_display": false
  }
 },
 "nbformat": 4,
 "nbformat_minor": 5
}
