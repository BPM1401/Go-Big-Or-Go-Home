{
 "cells": [
  {
   "cell_type": "code",
   "execution_count": 1,
   "id": "2c74da32",
   "metadata": {},
   "outputs": [],
   "source": [
    "import numpy as np\n",
    "import pandas as pd\n",
    "pd.set_option(\"display.max_columns\", 300)\n",
    "pd.set_option(\"display.max_rows\", 100)\n",
    "pd.set_option(\"max_colwidth\", 200)\n",
    "\n",
    "from sklearn import preprocessing\n",
    "from sklearn.ensemble import StackingRegressor\n",
    "from sklearn.ensemble import GradientBoostingRegressor\n",
    "from catboost import CatBoostRegressor\n",
    "\n",
    "from sklearn.model_selection import train_test_split\n",
    "from sklearn.metrics import mean_squared_error, r2_score, mean_absolute_error\n",
    "\n",
    "from sklearn.model_selection import cross_val_score, cross_validate\n",
    "from sklearn.model_selection import RepeatedKFold\n",
    "\n",
    "import seaborn as sns\n",
    "import matplotlib.pyplot as plt"
   ]
  },
  {
   "cell_type": "code",
   "execution_count": 2,
   "id": "53baea6f",
   "metadata": {},
   "outputs": [
    {
     "data": {
      "text/plain": [
       "(2579, 81)"
      ]
     },
     "execution_count": 2,
     "metadata": {},
     "output_type": "execute_result"
    }
   ],
   "source": [
    "ordinal = pd.read_csv('../../Isolation Forest/OrdinalDrop1.csv')\n",
    "ordinal.shape"
   ]
  },
  {
   "cell_type": "code",
   "execution_count": 3,
   "id": "ea691224",
   "metadata": {},
   "outputs": [
    {
     "data": {
      "text/plain": [
       "(2579, 80)"
      ]
     },
     "execution_count": 3,
     "metadata": {},
     "output_type": "execute_result"
    }
   ],
   "source": [
    "ordinal = ordinal.drop(['Unnamed: 0'], axis=1)\n",
    "ordinal.shape"
   ]
  },
  {
   "cell_type": "code",
   "execution_count": 4,
   "id": "f1f7b517",
   "metadata": {},
   "outputs": [],
   "source": [
    "X = ordinal.drop(['SalePrice'], axis=1)\n",
    "y = ordinal.SalePrice"
   ]
  },
  {
   "cell_type": "code",
   "execution_count": 5,
   "id": "92eb7564",
   "metadata": {},
   "outputs": [],
   "source": [
    "gb = GradientBoostingRegressor(random_state=1)\n",
    "cb = CatBoostRegressor(random_state=1, verbose=False)"
   ]
  },
  {
   "cell_type": "code",
   "execution_count": null,
   "id": "e58e509f",
   "metadata": {},
   "outputs": [],
   "source": []
  },
  {
   "cell_type": "markdown",
   "id": "a23bf585",
   "metadata": {},
   "source": [
    "### n_jobs @ 2, 1, None makes no impact on stacking_regressor.score"
   ]
  },
  {
   "cell_type": "code",
   "execution_count": 6,
   "id": "a7273fb8",
   "metadata": {},
   "outputs": [],
   "source": [
    "stacking_regressor1 = StackingRegressor(estimators=[('GB', gb)], final_estimator=cb, n_jobs=2,\n",
    "                                       cv=RepeatedKFold(n_splits=5, n_repeats=1, random_state=1),\n",
    "                                       passthrough=True)"
   ]
  },
  {
   "cell_type": "code",
   "execution_count": 7,
   "id": "be2d5f6e",
   "metadata": {},
   "outputs": [
    {
     "data": {
      "text/html": [
       "<style>#sk-container-id-1 {color: black;background-color: white;}#sk-container-id-1 pre{padding: 0;}#sk-container-id-1 div.sk-toggleable {background-color: white;}#sk-container-id-1 label.sk-toggleable__label {cursor: pointer;display: block;width: 100%;margin-bottom: 0;padding: 0.3em;box-sizing: border-box;text-align: center;}#sk-container-id-1 label.sk-toggleable__label-arrow:before {content: \"▸\";float: left;margin-right: 0.25em;color: #696969;}#sk-container-id-1 label.sk-toggleable__label-arrow:hover:before {color: black;}#sk-container-id-1 div.sk-estimator:hover label.sk-toggleable__label-arrow:before {color: black;}#sk-container-id-1 div.sk-toggleable__content {max-height: 0;max-width: 0;overflow: hidden;text-align: left;background-color: #f0f8ff;}#sk-container-id-1 div.sk-toggleable__content pre {margin: 0.2em;color: black;border-radius: 0.25em;background-color: #f0f8ff;}#sk-container-id-1 input.sk-toggleable__control:checked~div.sk-toggleable__content {max-height: 200px;max-width: 100%;overflow: auto;}#sk-container-id-1 input.sk-toggleable__control:checked~label.sk-toggleable__label-arrow:before {content: \"▾\";}#sk-container-id-1 div.sk-estimator input.sk-toggleable__control:checked~label.sk-toggleable__label {background-color: #d4ebff;}#sk-container-id-1 div.sk-label input.sk-toggleable__control:checked~label.sk-toggleable__label {background-color: #d4ebff;}#sk-container-id-1 input.sk-hidden--visually {border: 0;clip: rect(1px 1px 1px 1px);clip: rect(1px, 1px, 1px, 1px);height: 1px;margin: -1px;overflow: hidden;padding: 0;position: absolute;width: 1px;}#sk-container-id-1 div.sk-estimator {font-family: monospace;background-color: #f0f8ff;border: 1px dotted black;border-radius: 0.25em;box-sizing: border-box;margin-bottom: 0.5em;}#sk-container-id-1 div.sk-estimator:hover {background-color: #d4ebff;}#sk-container-id-1 div.sk-parallel-item::after {content: \"\";width: 100%;border-bottom: 1px solid gray;flex-grow: 1;}#sk-container-id-1 div.sk-label:hover label.sk-toggleable__label {background-color: #d4ebff;}#sk-container-id-1 div.sk-serial::before {content: \"\";position: absolute;border-left: 1px solid gray;box-sizing: border-box;top: 0;bottom: 0;left: 50%;z-index: 0;}#sk-container-id-1 div.sk-serial {display: flex;flex-direction: column;align-items: center;background-color: white;padding-right: 0.2em;padding-left: 0.2em;position: relative;}#sk-container-id-1 div.sk-item {position: relative;z-index: 1;}#sk-container-id-1 div.sk-parallel {display: flex;align-items: stretch;justify-content: center;background-color: white;position: relative;}#sk-container-id-1 div.sk-item::before, #sk-container-id-1 div.sk-parallel-item::before {content: \"\";position: absolute;border-left: 1px solid gray;box-sizing: border-box;top: 0;bottom: 0;left: 50%;z-index: -1;}#sk-container-id-1 div.sk-parallel-item {display: flex;flex-direction: column;z-index: 1;position: relative;background-color: white;}#sk-container-id-1 div.sk-parallel-item:first-child::after {align-self: flex-end;width: 50%;}#sk-container-id-1 div.sk-parallel-item:last-child::after {align-self: flex-start;width: 50%;}#sk-container-id-1 div.sk-parallel-item:only-child::after {width: 0;}#sk-container-id-1 div.sk-dashed-wrapped {border: 1px dashed gray;margin: 0 0.4em 0.5em 0.4em;box-sizing: border-box;padding-bottom: 0.4em;background-color: white;}#sk-container-id-1 div.sk-label label {font-family: monospace;font-weight: bold;display: inline-block;line-height: 1.2em;}#sk-container-id-1 div.sk-label-container {text-align: center;}#sk-container-id-1 div.sk-container {/* jupyter's `normalize.less` sets `[hidden] { display: none; }` but bootstrap.min.css set `[hidden] { display: none !important; }` so we also need the `!important` here to be able to override the default hidden behavior on the sphinx rendered scikit-learn.org. See: https://github.com/scikit-learn/scikit-learn/issues/21755 */display: inline-block !important;position: relative;}#sk-container-id-1 div.sk-text-repr-fallback {display: none;}</style><div id=\"sk-container-id-1\" class=\"sk-top-container\"><div class=\"sk-text-repr-fallback\"><pre>StackingRegressor(cv=RepeatedKFold(n_repeats=1, n_splits=5, random_state=1),\n",
       "                  estimators=[(&#x27;GB&#x27;,\n",
       "                               GradientBoostingRegressor(random_state=1))],\n",
       "                  final_estimator=&lt;catboost.core.CatBoostRegressor object at 0x7f79d0046d00&gt;,\n",
       "                  n_jobs=2, passthrough=True)</pre><b>In a Jupyter environment, please rerun this cell to show the HTML representation or trust the notebook. <br />On GitHub, the HTML representation is unable to render, please try loading this page with nbviewer.org.</b></div><div class=\"sk-container\" hidden><div class=\"sk-item sk-dashed-wrapped\"><div class=\"sk-label-container\"><div class=\"sk-label sk-toggleable\"><input class=\"sk-toggleable__control sk-hidden--visually\" id=\"sk-estimator-id-1\" type=\"checkbox\" ><label for=\"sk-estimator-id-1\" class=\"sk-toggleable__label sk-toggleable__label-arrow\">StackingRegressor</label><div class=\"sk-toggleable__content\"><pre>StackingRegressor(cv=RepeatedKFold(n_repeats=1, n_splits=5, random_state=1),\n",
       "                  estimators=[(&#x27;GB&#x27;,\n",
       "                               GradientBoostingRegressor(random_state=1))],\n",
       "                  final_estimator=&lt;catboost.core.CatBoostRegressor object at 0x7f79d0046d00&gt;,\n",
       "                  n_jobs=2, passthrough=True)</pre></div></div></div><div class=\"sk-serial\"><div class=\"sk-item\"><div class=\"sk-parallel\"><div class=\"sk-parallel-item\"><div class=\"sk-item\"><div class=\"sk-label-container\"><div class=\"sk-label sk-toggleable\"><label>GB</label></div></div><div class=\"sk-serial\"><div class=\"sk-item\"><div class=\"sk-estimator sk-toggleable\"><input class=\"sk-toggleable__control sk-hidden--visually\" id=\"sk-estimator-id-2\" type=\"checkbox\" ><label for=\"sk-estimator-id-2\" class=\"sk-toggleable__label sk-toggleable__label-arrow\">GradientBoostingRegressor</label><div class=\"sk-toggleable__content\"><pre>GradientBoostingRegressor(random_state=1)</pre></div></div></div></div></div></div></div></div><div class=\"sk-item\"><div class=\"sk-parallel\"><div class=\"sk-parallel-item\"><div class=\"sk-item\"><div class=\"sk-label-container\"><div class=\"sk-label sk-toggleable\"><label>final_estimator</label></div></div><div class=\"sk-serial\"><div class=\"sk-item\"><div class=\"sk-estimator sk-toggleable\"><input class=\"sk-toggleable__control sk-hidden--visually\" id=\"sk-estimator-id-3\" type=\"checkbox\" ><label for=\"sk-estimator-id-3\" class=\"sk-toggleable__label sk-toggleable__label-arrow\">CatBoostRegressor</label><div class=\"sk-toggleable__content\"><pre>&lt;catboost.core.CatBoostRegressor object at 0x7f79d0046d00&gt;</pre></div></div></div></div></div></div></div></div></div></div></div></div>"
      ],
      "text/plain": [
       "StackingRegressor(cv=RepeatedKFold(n_repeats=1, n_splits=5, random_state=1),\n",
       "                  estimators=[('GB',\n",
       "                               GradientBoostingRegressor(random_state=1))],\n",
       "                  final_estimator=<catboost.core.CatBoostRegressor object at 0x7f79d0046d00>,\n",
       "                  n_jobs=2, passthrough=True)"
      ]
     },
     "execution_count": 7,
     "metadata": {},
     "output_type": "execute_result"
    }
   ],
   "source": [
    "stacking_regressor1.fit(X,y)"
   ]
  },
  {
   "cell_type": "code",
   "execution_count": 8,
   "id": "fb816161",
   "metadata": {},
   "outputs": [
    {
     "data": {
      "text/plain": [
       "0.9897657978120481"
      ]
     },
     "execution_count": 8,
     "metadata": {},
     "output_type": "execute_result"
    }
   ],
   "source": [
    "stacking_regressor1.score(X,y)"
   ]
  },
  {
   "cell_type": "code",
   "execution_count": null,
   "id": "e8efd112",
   "metadata": {},
   "outputs": [],
   "source": []
  },
  {
   "cell_type": "code",
   "execution_count": 9,
   "id": "6bd81b62",
   "metadata": {},
   "outputs": [],
   "source": [
    "stacking_regressor2 = StackingRegressor(estimators=[('GB', gb)], final_estimator=cb, n_jobs=1,\n",
    "                                       cv=RepeatedKFold(n_splits=5, n_repeats=1, random_state=1),\n",
    "                                       passthrough=True)"
   ]
  },
  {
   "cell_type": "code",
   "execution_count": 10,
   "id": "8f870252",
   "metadata": {},
   "outputs": [
    {
     "data": {
      "text/html": [
       "<style>#sk-container-id-2 {color: black;background-color: white;}#sk-container-id-2 pre{padding: 0;}#sk-container-id-2 div.sk-toggleable {background-color: white;}#sk-container-id-2 label.sk-toggleable__label {cursor: pointer;display: block;width: 100%;margin-bottom: 0;padding: 0.3em;box-sizing: border-box;text-align: center;}#sk-container-id-2 label.sk-toggleable__label-arrow:before {content: \"▸\";float: left;margin-right: 0.25em;color: #696969;}#sk-container-id-2 label.sk-toggleable__label-arrow:hover:before {color: black;}#sk-container-id-2 div.sk-estimator:hover label.sk-toggleable__label-arrow:before {color: black;}#sk-container-id-2 div.sk-toggleable__content {max-height: 0;max-width: 0;overflow: hidden;text-align: left;background-color: #f0f8ff;}#sk-container-id-2 div.sk-toggleable__content pre {margin: 0.2em;color: black;border-radius: 0.25em;background-color: #f0f8ff;}#sk-container-id-2 input.sk-toggleable__control:checked~div.sk-toggleable__content {max-height: 200px;max-width: 100%;overflow: auto;}#sk-container-id-2 input.sk-toggleable__control:checked~label.sk-toggleable__label-arrow:before {content: \"▾\";}#sk-container-id-2 div.sk-estimator input.sk-toggleable__control:checked~label.sk-toggleable__label {background-color: #d4ebff;}#sk-container-id-2 div.sk-label input.sk-toggleable__control:checked~label.sk-toggleable__label {background-color: #d4ebff;}#sk-container-id-2 input.sk-hidden--visually {border: 0;clip: rect(1px 1px 1px 1px);clip: rect(1px, 1px, 1px, 1px);height: 1px;margin: -1px;overflow: hidden;padding: 0;position: absolute;width: 1px;}#sk-container-id-2 div.sk-estimator {font-family: monospace;background-color: #f0f8ff;border: 1px dotted black;border-radius: 0.25em;box-sizing: border-box;margin-bottom: 0.5em;}#sk-container-id-2 div.sk-estimator:hover {background-color: #d4ebff;}#sk-container-id-2 div.sk-parallel-item::after {content: \"\";width: 100%;border-bottom: 1px solid gray;flex-grow: 1;}#sk-container-id-2 div.sk-label:hover label.sk-toggleable__label {background-color: #d4ebff;}#sk-container-id-2 div.sk-serial::before {content: \"\";position: absolute;border-left: 1px solid gray;box-sizing: border-box;top: 0;bottom: 0;left: 50%;z-index: 0;}#sk-container-id-2 div.sk-serial {display: flex;flex-direction: column;align-items: center;background-color: white;padding-right: 0.2em;padding-left: 0.2em;position: relative;}#sk-container-id-2 div.sk-item {position: relative;z-index: 1;}#sk-container-id-2 div.sk-parallel {display: flex;align-items: stretch;justify-content: center;background-color: white;position: relative;}#sk-container-id-2 div.sk-item::before, #sk-container-id-2 div.sk-parallel-item::before {content: \"\";position: absolute;border-left: 1px solid gray;box-sizing: border-box;top: 0;bottom: 0;left: 50%;z-index: -1;}#sk-container-id-2 div.sk-parallel-item {display: flex;flex-direction: column;z-index: 1;position: relative;background-color: white;}#sk-container-id-2 div.sk-parallel-item:first-child::after {align-self: flex-end;width: 50%;}#sk-container-id-2 div.sk-parallel-item:last-child::after {align-self: flex-start;width: 50%;}#sk-container-id-2 div.sk-parallel-item:only-child::after {width: 0;}#sk-container-id-2 div.sk-dashed-wrapped {border: 1px dashed gray;margin: 0 0.4em 0.5em 0.4em;box-sizing: border-box;padding-bottom: 0.4em;background-color: white;}#sk-container-id-2 div.sk-label label {font-family: monospace;font-weight: bold;display: inline-block;line-height: 1.2em;}#sk-container-id-2 div.sk-label-container {text-align: center;}#sk-container-id-2 div.sk-container {/* jupyter's `normalize.less` sets `[hidden] { display: none; }` but bootstrap.min.css set `[hidden] { display: none !important; }` so we also need the `!important` here to be able to override the default hidden behavior on the sphinx rendered scikit-learn.org. See: https://github.com/scikit-learn/scikit-learn/issues/21755 */display: inline-block !important;position: relative;}#sk-container-id-2 div.sk-text-repr-fallback {display: none;}</style><div id=\"sk-container-id-2\" class=\"sk-top-container\"><div class=\"sk-text-repr-fallback\"><pre>StackingRegressor(cv=RepeatedKFold(n_repeats=1, n_splits=5, random_state=1),\n",
       "                  estimators=[(&#x27;GB&#x27;,\n",
       "                               GradientBoostingRegressor(random_state=1))],\n",
       "                  final_estimator=&lt;catboost.core.CatBoostRegressor object at 0x7f79d0046d00&gt;,\n",
       "                  n_jobs=1, passthrough=True)</pre><b>In a Jupyter environment, please rerun this cell to show the HTML representation or trust the notebook. <br />On GitHub, the HTML representation is unable to render, please try loading this page with nbviewer.org.</b></div><div class=\"sk-container\" hidden><div class=\"sk-item sk-dashed-wrapped\"><div class=\"sk-label-container\"><div class=\"sk-label sk-toggleable\"><input class=\"sk-toggleable__control sk-hidden--visually\" id=\"sk-estimator-id-4\" type=\"checkbox\" ><label for=\"sk-estimator-id-4\" class=\"sk-toggleable__label sk-toggleable__label-arrow\">StackingRegressor</label><div class=\"sk-toggleable__content\"><pre>StackingRegressor(cv=RepeatedKFold(n_repeats=1, n_splits=5, random_state=1),\n",
       "                  estimators=[(&#x27;GB&#x27;,\n",
       "                               GradientBoostingRegressor(random_state=1))],\n",
       "                  final_estimator=&lt;catboost.core.CatBoostRegressor object at 0x7f79d0046d00&gt;,\n",
       "                  n_jobs=1, passthrough=True)</pre></div></div></div><div class=\"sk-serial\"><div class=\"sk-item\"><div class=\"sk-parallel\"><div class=\"sk-parallel-item\"><div class=\"sk-item\"><div class=\"sk-label-container\"><div class=\"sk-label sk-toggleable\"><label>GB</label></div></div><div class=\"sk-serial\"><div class=\"sk-item\"><div class=\"sk-estimator sk-toggleable\"><input class=\"sk-toggleable__control sk-hidden--visually\" id=\"sk-estimator-id-5\" type=\"checkbox\" ><label for=\"sk-estimator-id-5\" class=\"sk-toggleable__label sk-toggleable__label-arrow\">GradientBoostingRegressor</label><div class=\"sk-toggleable__content\"><pre>GradientBoostingRegressor(random_state=1)</pre></div></div></div></div></div></div></div></div><div class=\"sk-item\"><div class=\"sk-parallel\"><div class=\"sk-parallel-item\"><div class=\"sk-item\"><div class=\"sk-label-container\"><div class=\"sk-label sk-toggleable\"><label>final_estimator</label></div></div><div class=\"sk-serial\"><div class=\"sk-item\"><div class=\"sk-estimator sk-toggleable\"><input class=\"sk-toggleable__control sk-hidden--visually\" id=\"sk-estimator-id-6\" type=\"checkbox\" ><label for=\"sk-estimator-id-6\" class=\"sk-toggleable__label sk-toggleable__label-arrow\">CatBoostRegressor</label><div class=\"sk-toggleable__content\"><pre>&lt;catboost.core.CatBoostRegressor object at 0x7f79d0046d00&gt;</pre></div></div></div></div></div></div></div></div></div></div></div></div>"
      ],
      "text/plain": [
       "StackingRegressor(cv=RepeatedKFold(n_repeats=1, n_splits=5, random_state=1),\n",
       "                  estimators=[('GB',\n",
       "                               GradientBoostingRegressor(random_state=1))],\n",
       "                  final_estimator=<catboost.core.CatBoostRegressor object at 0x7f79d0046d00>,\n",
       "                  n_jobs=1, passthrough=True)"
      ]
     },
     "execution_count": 10,
     "metadata": {},
     "output_type": "execute_result"
    }
   ],
   "source": [
    "stacking_regressor2.fit(X,y)"
   ]
  },
  {
   "cell_type": "code",
   "execution_count": 11,
   "id": "236bf885",
   "metadata": {},
   "outputs": [
    {
     "data": {
      "text/plain": [
       "0.9897657978120481"
      ]
     },
     "execution_count": 11,
     "metadata": {},
     "output_type": "execute_result"
    }
   ],
   "source": [
    "stacking_regressor2.score(X,y)"
   ]
  },
  {
   "cell_type": "code",
   "execution_count": null,
   "id": "077d6ba8",
   "metadata": {},
   "outputs": [],
   "source": []
  },
  {
   "cell_type": "code",
   "execution_count": 12,
   "id": "013595c0",
   "metadata": {},
   "outputs": [],
   "source": [
    "stacking_regressor3 = StackingRegressor(estimators=[('GB', gb)], final_estimator=cb,\n",
    "                                       cv=RepeatedKFold(n_splits=5, n_repeats=1, random_state=1),\n",
    "                                       passthrough=True)"
   ]
  },
  {
   "cell_type": "code",
   "execution_count": 13,
   "id": "e62c1c42",
   "metadata": {},
   "outputs": [
    {
     "data": {
      "text/html": [
       "<style>#sk-container-id-3 {color: black;background-color: white;}#sk-container-id-3 pre{padding: 0;}#sk-container-id-3 div.sk-toggleable {background-color: white;}#sk-container-id-3 label.sk-toggleable__label {cursor: pointer;display: block;width: 100%;margin-bottom: 0;padding: 0.3em;box-sizing: border-box;text-align: center;}#sk-container-id-3 label.sk-toggleable__label-arrow:before {content: \"▸\";float: left;margin-right: 0.25em;color: #696969;}#sk-container-id-3 label.sk-toggleable__label-arrow:hover:before {color: black;}#sk-container-id-3 div.sk-estimator:hover label.sk-toggleable__label-arrow:before {color: black;}#sk-container-id-3 div.sk-toggleable__content {max-height: 0;max-width: 0;overflow: hidden;text-align: left;background-color: #f0f8ff;}#sk-container-id-3 div.sk-toggleable__content pre {margin: 0.2em;color: black;border-radius: 0.25em;background-color: #f0f8ff;}#sk-container-id-3 input.sk-toggleable__control:checked~div.sk-toggleable__content {max-height: 200px;max-width: 100%;overflow: auto;}#sk-container-id-3 input.sk-toggleable__control:checked~label.sk-toggleable__label-arrow:before {content: \"▾\";}#sk-container-id-3 div.sk-estimator input.sk-toggleable__control:checked~label.sk-toggleable__label {background-color: #d4ebff;}#sk-container-id-3 div.sk-label input.sk-toggleable__control:checked~label.sk-toggleable__label {background-color: #d4ebff;}#sk-container-id-3 input.sk-hidden--visually {border: 0;clip: rect(1px 1px 1px 1px);clip: rect(1px, 1px, 1px, 1px);height: 1px;margin: -1px;overflow: hidden;padding: 0;position: absolute;width: 1px;}#sk-container-id-3 div.sk-estimator {font-family: monospace;background-color: #f0f8ff;border: 1px dotted black;border-radius: 0.25em;box-sizing: border-box;margin-bottom: 0.5em;}#sk-container-id-3 div.sk-estimator:hover {background-color: #d4ebff;}#sk-container-id-3 div.sk-parallel-item::after {content: \"\";width: 100%;border-bottom: 1px solid gray;flex-grow: 1;}#sk-container-id-3 div.sk-label:hover label.sk-toggleable__label {background-color: #d4ebff;}#sk-container-id-3 div.sk-serial::before {content: \"\";position: absolute;border-left: 1px solid gray;box-sizing: border-box;top: 0;bottom: 0;left: 50%;z-index: 0;}#sk-container-id-3 div.sk-serial {display: flex;flex-direction: column;align-items: center;background-color: white;padding-right: 0.2em;padding-left: 0.2em;position: relative;}#sk-container-id-3 div.sk-item {position: relative;z-index: 1;}#sk-container-id-3 div.sk-parallel {display: flex;align-items: stretch;justify-content: center;background-color: white;position: relative;}#sk-container-id-3 div.sk-item::before, #sk-container-id-3 div.sk-parallel-item::before {content: \"\";position: absolute;border-left: 1px solid gray;box-sizing: border-box;top: 0;bottom: 0;left: 50%;z-index: -1;}#sk-container-id-3 div.sk-parallel-item {display: flex;flex-direction: column;z-index: 1;position: relative;background-color: white;}#sk-container-id-3 div.sk-parallel-item:first-child::after {align-self: flex-end;width: 50%;}#sk-container-id-3 div.sk-parallel-item:last-child::after {align-self: flex-start;width: 50%;}#sk-container-id-3 div.sk-parallel-item:only-child::after {width: 0;}#sk-container-id-3 div.sk-dashed-wrapped {border: 1px dashed gray;margin: 0 0.4em 0.5em 0.4em;box-sizing: border-box;padding-bottom: 0.4em;background-color: white;}#sk-container-id-3 div.sk-label label {font-family: monospace;font-weight: bold;display: inline-block;line-height: 1.2em;}#sk-container-id-3 div.sk-label-container {text-align: center;}#sk-container-id-3 div.sk-container {/* jupyter's `normalize.less` sets `[hidden] { display: none; }` but bootstrap.min.css set `[hidden] { display: none !important; }` so we also need the `!important` here to be able to override the default hidden behavior on the sphinx rendered scikit-learn.org. See: https://github.com/scikit-learn/scikit-learn/issues/21755 */display: inline-block !important;position: relative;}#sk-container-id-3 div.sk-text-repr-fallback {display: none;}</style><div id=\"sk-container-id-3\" class=\"sk-top-container\"><div class=\"sk-text-repr-fallback\"><pre>StackingRegressor(cv=RepeatedKFold(n_repeats=1, n_splits=5, random_state=1),\n",
       "                  estimators=[(&#x27;GB&#x27;,\n",
       "                               GradientBoostingRegressor(random_state=1))],\n",
       "                  final_estimator=&lt;catboost.core.CatBoostRegressor object at 0x7f79d0046d00&gt;,\n",
       "                  passthrough=True)</pre><b>In a Jupyter environment, please rerun this cell to show the HTML representation or trust the notebook. <br />On GitHub, the HTML representation is unable to render, please try loading this page with nbviewer.org.</b></div><div class=\"sk-container\" hidden><div class=\"sk-item sk-dashed-wrapped\"><div class=\"sk-label-container\"><div class=\"sk-label sk-toggleable\"><input class=\"sk-toggleable__control sk-hidden--visually\" id=\"sk-estimator-id-7\" type=\"checkbox\" ><label for=\"sk-estimator-id-7\" class=\"sk-toggleable__label sk-toggleable__label-arrow\">StackingRegressor</label><div class=\"sk-toggleable__content\"><pre>StackingRegressor(cv=RepeatedKFold(n_repeats=1, n_splits=5, random_state=1),\n",
       "                  estimators=[(&#x27;GB&#x27;,\n",
       "                               GradientBoostingRegressor(random_state=1))],\n",
       "                  final_estimator=&lt;catboost.core.CatBoostRegressor object at 0x7f79d0046d00&gt;,\n",
       "                  passthrough=True)</pre></div></div></div><div class=\"sk-serial\"><div class=\"sk-item\"><div class=\"sk-parallel\"><div class=\"sk-parallel-item\"><div class=\"sk-item\"><div class=\"sk-label-container\"><div class=\"sk-label sk-toggleable\"><label>GB</label></div></div><div class=\"sk-serial\"><div class=\"sk-item\"><div class=\"sk-estimator sk-toggleable\"><input class=\"sk-toggleable__control sk-hidden--visually\" id=\"sk-estimator-id-8\" type=\"checkbox\" ><label for=\"sk-estimator-id-8\" class=\"sk-toggleable__label sk-toggleable__label-arrow\">GradientBoostingRegressor</label><div class=\"sk-toggleable__content\"><pre>GradientBoostingRegressor(random_state=1)</pre></div></div></div></div></div></div></div></div><div class=\"sk-item\"><div class=\"sk-parallel\"><div class=\"sk-parallel-item\"><div class=\"sk-item\"><div class=\"sk-label-container\"><div class=\"sk-label sk-toggleable\"><label>final_estimator</label></div></div><div class=\"sk-serial\"><div class=\"sk-item\"><div class=\"sk-estimator sk-toggleable\"><input class=\"sk-toggleable__control sk-hidden--visually\" id=\"sk-estimator-id-9\" type=\"checkbox\" ><label for=\"sk-estimator-id-9\" class=\"sk-toggleable__label sk-toggleable__label-arrow\">CatBoostRegressor</label><div class=\"sk-toggleable__content\"><pre>&lt;catboost.core.CatBoostRegressor object at 0x7f79d0046d00&gt;</pre></div></div></div></div></div></div></div></div></div></div></div></div>"
      ],
      "text/plain": [
       "StackingRegressor(cv=RepeatedKFold(n_repeats=1, n_splits=5, random_state=1),\n",
       "                  estimators=[('GB',\n",
       "                               GradientBoostingRegressor(random_state=1))],\n",
       "                  final_estimator=<catboost.core.CatBoostRegressor object at 0x7f79d0046d00>,\n",
       "                  passthrough=True)"
      ]
     },
     "execution_count": 13,
     "metadata": {},
     "output_type": "execute_result"
    }
   ],
   "source": [
    "stacking_regressor3.fit(X,y)"
   ]
  },
  {
   "cell_type": "code",
   "execution_count": 14,
   "id": "5fdc0a44",
   "metadata": {},
   "outputs": [
    {
     "data": {
      "text/plain": [
       "0.9897657978120481"
      ]
     },
     "execution_count": 14,
     "metadata": {},
     "output_type": "execute_result"
    }
   ],
   "source": [
    "stacking_regressor3.score(X,y)"
   ]
  },
  {
   "cell_type": "code",
   "execution_count": null,
   "id": "8dcd4e54",
   "metadata": {},
   "outputs": [],
   "source": []
  },
  {
   "cell_type": "markdown",
   "id": "a6adc7ea",
   "metadata": {},
   "source": [
    "### cv=5, cv=5, or None has no impact on stacking_regressor.score"
   ]
  },
  {
   "cell_type": "code",
   "execution_count": 15,
   "id": "6669a941",
   "metadata": {},
   "outputs": [],
   "source": [
    "stacking_regressor4 = StackingRegressor(estimators=[('GB', gb)], final_estimator=cb,\n",
    "                                        cv=5,\n",
    "                                        passthrough=True)"
   ]
  },
  {
   "cell_type": "code",
   "execution_count": 16,
   "id": "5793fae0",
   "metadata": {},
   "outputs": [
    {
     "data": {
      "text/html": [
       "<style>#sk-container-id-4 {color: black;background-color: white;}#sk-container-id-4 pre{padding: 0;}#sk-container-id-4 div.sk-toggleable {background-color: white;}#sk-container-id-4 label.sk-toggleable__label {cursor: pointer;display: block;width: 100%;margin-bottom: 0;padding: 0.3em;box-sizing: border-box;text-align: center;}#sk-container-id-4 label.sk-toggleable__label-arrow:before {content: \"▸\";float: left;margin-right: 0.25em;color: #696969;}#sk-container-id-4 label.sk-toggleable__label-arrow:hover:before {color: black;}#sk-container-id-4 div.sk-estimator:hover label.sk-toggleable__label-arrow:before {color: black;}#sk-container-id-4 div.sk-toggleable__content {max-height: 0;max-width: 0;overflow: hidden;text-align: left;background-color: #f0f8ff;}#sk-container-id-4 div.sk-toggleable__content pre {margin: 0.2em;color: black;border-radius: 0.25em;background-color: #f0f8ff;}#sk-container-id-4 input.sk-toggleable__control:checked~div.sk-toggleable__content {max-height: 200px;max-width: 100%;overflow: auto;}#sk-container-id-4 input.sk-toggleable__control:checked~label.sk-toggleable__label-arrow:before {content: \"▾\";}#sk-container-id-4 div.sk-estimator input.sk-toggleable__control:checked~label.sk-toggleable__label {background-color: #d4ebff;}#sk-container-id-4 div.sk-label input.sk-toggleable__control:checked~label.sk-toggleable__label {background-color: #d4ebff;}#sk-container-id-4 input.sk-hidden--visually {border: 0;clip: rect(1px 1px 1px 1px);clip: rect(1px, 1px, 1px, 1px);height: 1px;margin: -1px;overflow: hidden;padding: 0;position: absolute;width: 1px;}#sk-container-id-4 div.sk-estimator {font-family: monospace;background-color: #f0f8ff;border: 1px dotted black;border-radius: 0.25em;box-sizing: border-box;margin-bottom: 0.5em;}#sk-container-id-4 div.sk-estimator:hover {background-color: #d4ebff;}#sk-container-id-4 div.sk-parallel-item::after {content: \"\";width: 100%;border-bottom: 1px solid gray;flex-grow: 1;}#sk-container-id-4 div.sk-label:hover label.sk-toggleable__label {background-color: #d4ebff;}#sk-container-id-4 div.sk-serial::before {content: \"\";position: absolute;border-left: 1px solid gray;box-sizing: border-box;top: 0;bottom: 0;left: 50%;z-index: 0;}#sk-container-id-4 div.sk-serial {display: flex;flex-direction: column;align-items: center;background-color: white;padding-right: 0.2em;padding-left: 0.2em;position: relative;}#sk-container-id-4 div.sk-item {position: relative;z-index: 1;}#sk-container-id-4 div.sk-parallel {display: flex;align-items: stretch;justify-content: center;background-color: white;position: relative;}#sk-container-id-4 div.sk-item::before, #sk-container-id-4 div.sk-parallel-item::before {content: \"\";position: absolute;border-left: 1px solid gray;box-sizing: border-box;top: 0;bottom: 0;left: 50%;z-index: -1;}#sk-container-id-4 div.sk-parallel-item {display: flex;flex-direction: column;z-index: 1;position: relative;background-color: white;}#sk-container-id-4 div.sk-parallel-item:first-child::after {align-self: flex-end;width: 50%;}#sk-container-id-4 div.sk-parallel-item:last-child::after {align-self: flex-start;width: 50%;}#sk-container-id-4 div.sk-parallel-item:only-child::after {width: 0;}#sk-container-id-4 div.sk-dashed-wrapped {border: 1px dashed gray;margin: 0 0.4em 0.5em 0.4em;box-sizing: border-box;padding-bottom: 0.4em;background-color: white;}#sk-container-id-4 div.sk-label label {font-family: monospace;font-weight: bold;display: inline-block;line-height: 1.2em;}#sk-container-id-4 div.sk-label-container {text-align: center;}#sk-container-id-4 div.sk-container {/* jupyter's `normalize.less` sets `[hidden] { display: none; }` but bootstrap.min.css set `[hidden] { display: none !important; }` so we also need the `!important` here to be able to override the default hidden behavior on the sphinx rendered scikit-learn.org. See: https://github.com/scikit-learn/scikit-learn/issues/21755 */display: inline-block !important;position: relative;}#sk-container-id-4 div.sk-text-repr-fallback {display: none;}</style><div id=\"sk-container-id-4\" class=\"sk-top-container\"><div class=\"sk-text-repr-fallback\"><pre>StackingRegressor(cv=5,\n",
       "                  estimators=[(&#x27;GB&#x27;,\n",
       "                               GradientBoostingRegressor(random_state=1))],\n",
       "                  final_estimator=&lt;catboost.core.CatBoostRegressor object at 0x7f79d0046d00&gt;,\n",
       "                  passthrough=True)</pre><b>In a Jupyter environment, please rerun this cell to show the HTML representation or trust the notebook. <br />On GitHub, the HTML representation is unable to render, please try loading this page with nbviewer.org.</b></div><div class=\"sk-container\" hidden><div class=\"sk-item sk-dashed-wrapped\"><div class=\"sk-label-container\"><div class=\"sk-label sk-toggleable\"><input class=\"sk-toggleable__control sk-hidden--visually\" id=\"sk-estimator-id-10\" type=\"checkbox\" ><label for=\"sk-estimator-id-10\" class=\"sk-toggleable__label sk-toggleable__label-arrow\">StackingRegressor</label><div class=\"sk-toggleable__content\"><pre>StackingRegressor(cv=5,\n",
       "                  estimators=[(&#x27;GB&#x27;,\n",
       "                               GradientBoostingRegressor(random_state=1))],\n",
       "                  final_estimator=&lt;catboost.core.CatBoostRegressor object at 0x7f79d0046d00&gt;,\n",
       "                  passthrough=True)</pre></div></div></div><div class=\"sk-serial\"><div class=\"sk-item\"><div class=\"sk-parallel\"><div class=\"sk-parallel-item\"><div class=\"sk-item\"><div class=\"sk-label-container\"><div class=\"sk-label sk-toggleable\"><label>GB</label></div></div><div class=\"sk-serial\"><div class=\"sk-item\"><div class=\"sk-estimator sk-toggleable\"><input class=\"sk-toggleable__control sk-hidden--visually\" id=\"sk-estimator-id-11\" type=\"checkbox\" ><label for=\"sk-estimator-id-11\" class=\"sk-toggleable__label sk-toggleable__label-arrow\">GradientBoostingRegressor</label><div class=\"sk-toggleable__content\"><pre>GradientBoostingRegressor(random_state=1)</pre></div></div></div></div></div></div></div></div><div class=\"sk-item\"><div class=\"sk-parallel\"><div class=\"sk-parallel-item\"><div class=\"sk-item\"><div class=\"sk-label-container\"><div class=\"sk-label sk-toggleable\"><label>final_estimator</label></div></div><div class=\"sk-serial\"><div class=\"sk-item\"><div class=\"sk-estimator sk-toggleable\"><input class=\"sk-toggleable__control sk-hidden--visually\" id=\"sk-estimator-id-12\" type=\"checkbox\" ><label for=\"sk-estimator-id-12\" class=\"sk-toggleable__label sk-toggleable__label-arrow\">CatBoostRegressor</label><div class=\"sk-toggleable__content\"><pre>&lt;catboost.core.CatBoostRegressor object at 0x7f79d0046d00&gt;</pre></div></div></div></div></div></div></div></div></div></div></div></div>"
      ],
      "text/plain": [
       "StackingRegressor(cv=5,\n",
       "                  estimators=[('GB',\n",
       "                               GradientBoostingRegressor(random_state=1))],\n",
       "                  final_estimator=<catboost.core.CatBoostRegressor object at 0x7f79d0046d00>,\n",
       "                  passthrough=True)"
      ]
     },
     "execution_count": 16,
     "metadata": {},
     "output_type": "execute_result"
    }
   ],
   "source": [
    "stacking_regressor4.fit(X,y)"
   ]
  },
  {
   "cell_type": "code",
   "execution_count": 17,
   "id": "4a6aa0ac",
   "metadata": {},
   "outputs": [
    {
     "data": {
      "text/plain": [
       "0.9893671498149426"
      ]
     },
     "execution_count": 17,
     "metadata": {},
     "output_type": "execute_result"
    }
   ],
   "source": [
    "stacking_regressor4.score(X,y)"
   ]
  },
  {
   "cell_type": "code",
   "execution_count": null,
   "id": "1e8e14fc",
   "metadata": {},
   "outputs": [],
   "source": []
  },
  {
   "cell_type": "code",
   "execution_count": 18,
   "id": "2f391777",
   "metadata": {},
   "outputs": [],
   "source": [
    "stacking_regressor5 = StackingRegressor(estimators=[('GB', gb)], final_estimator=cb,\n",
    "                                        cv=5,\n",
    "                                        passthrough=True)"
   ]
  },
  {
   "cell_type": "code",
   "execution_count": 19,
   "id": "b4586ec9",
   "metadata": {},
   "outputs": [
    {
     "data": {
      "text/html": [
       "<style>#sk-container-id-5 {color: black;background-color: white;}#sk-container-id-5 pre{padding: 0;}#sk-container-id-5 div.sk-toggleable {background-color: white;}#sk-container-id-5 label.sk-toggleable__label {cursor: pointer;display: block;width: 100%;margin-bottom: 0;padding: 0.3em;box-sizing: border-box;text-align: center;}#sk-container-id-5 label.sk-toggleable__label-arrow:before {content: \"▸\";float: left;margin-right: 0.25em;color: #696969;}#sk-container-id-5 label.sk-toggleable__label-arrow:hover:before {color: black;}#sk-container-id-5 div.sk-estimator:hover label.sk-toggleable__label-arrow:before {color: black;}#sk-container-id-5 div.sk-toggleable__content {max-height: 0;max-width: 0;overflow: hidden;text-align: left;background-color: #f0f8ff;}#sk-container-id-5 div.sk-toggleable__content pre {margin: 0.2em;color: black;border-radius: 0.25em;background-color: #f0f8ff;}#sk-container-id-5 input.sk-toggleable__control:checked~div.sk-toggleable__content {max-height: 200px;max-width: 100%;overflow: auto;}#sk-container-id-5 input.sk-toggleable__control:checked~label.sk-toggleable__label-arrow:before {content: \"▾\";}#sk-container-id-5 div.sk-estimator input.sk-toggleable__control:checked~label.sk-toggleable__label {background-color: #d4ebff;}#sk-container-id-5 div.sk-label input.sk-toggleable__control:checked~label.sk-toggleable__label {background-color: #d4ebff;}#sk-container-id-5 input.sk-hidden--visually {border: 0;clip: rect(1px 1px 1px 1px);clip: rect(1px, 1px, 1px, 1px);height: 1px;margin: -1px;overflow: hidden;padding: 0;position: absolute;width: 1px;}#sk-container-id-5 div.sk-estimator {font-family: monospace;background-color: #f0f8ff;border: 1px dotted black;border-radius: 0.25em;box-sizing: border-box;margin-bottom: 0.5em;}#sk-container-id-5 div.sk-estimator:hover {background-color: #d4ebff;}#sk-container-id-5 div.sk-parallel-item::after {content: \"\";width: 100%;border-bottom: 1px solid gray;flex-grow: 1;}#sk-container-id-5 div.sk-label:hover label.sk-toggleable__label {background-color: #d4ebff;}#sk-container-id-5 div.sk-serial::before {content: \"\";position: absolute;border-left: 1px solid gray;box-sizing: border-box;top: 0;bottom: 0;left: 50%;z-index: 0;}#sk-container-id-5 div.sk-serial {display: flex;flex-direction: column;align-items: center;background-color: white;padding-right: 0.2em;padding-left: 0.2em;position: relative;}#sk-container-id-5 div.sk-item {position: relative;z-index: 1;}#sk-container-id-5 div.sk-parallel {display: flex;align-items: stretch;justify-content: center;background-color: white;position: relative;}#sk-container-id-5 div.sk-item::before, #sk-container-id-5 div.sk-parallel-item::before {content: \"\";position: absolute;border-left: 1px solid gray;box-sizing: border-box;top: 0;bottom: 0;left: 50%;z-index: -1;}#sk-container-id-5 div.sk-parallel-item {display: flex;flex-direction: column;z-index: 1;position: relative;background-color: white;}#sk-container-id-5 div.sk-parallel-item:first-child::after {align-self: flex-end;width: 50%;}#sk-container-id-5 div.sk-parallel-item:last-child::after {align-self: flex-start;width: 50%;}#sk-container-id-5 div.sk-parallel-item:only-child::after {width: 0;}#sk-container-id-5 div.sk-dashed-wrapped {border: 1px dashed gray;margin: 0 0.4em 0.5em 0.4em;box-sizing: border-box;padding-bottom: 0.4em;background-color: white;}#sk-container-id-5 div.sk-label label {font-family: monospace;font-weight: bold;display: inline-block;line-height: 1.2em;}#sk-container-id-5 div.sk-label-container {text-align: center;}#sk-container-id-5 div.sk-container {/* jupyter's `normalize.less` sets `[hidden] { display: none; }` but bootstrap.min.css set `[hidden] { display: none !important; }` so we also need the `!important` here to be able to override the default hidden behavior on the sphinx rendered scikit-learn.org. See: https://github.com/scikit-learn/scikit-learn/issues/21755 */display: inline-block !important;position: relative;}#sk-container-id-5 div.sk-text-repr-fallback {display: none;}</style><div id=\"sk-container-id-5\" class=\"sk-top-container\"><div class=\"sk-text-repr-fallback\"><pre>StackingRegressor(cv=5,\n",
       "                  estimators=[(&#x27;GB&#x27;,\n",
       "                               GradientBoostingRegressor(random_state=1))],\n",
       "                  final_estimator=&lt;catboost.core.CatBoostRegressor object at 0x7f79d0046d00&gt;,\n",
       "                  passthrough=True)</pre><b>In a Jupyter environment, please rerun this cell to show the HTML representation or trust the notebook. <br />On GitHub, the HTML representation is unable to render, please try loading this page with nbviewer.org.</b></div><div class=\"sk-container\" hidden><div class=\"sk-item sk-dashed-wrapped\"><div class=\"sk-label-container\"><div class=\"sk-label sk-toggleable\"><input class=\"sk-toggleable__control sk-hidden--visually\" id=\"sk-estimator-id-13\" type=\"checkbox\" ><label for=\"sk-estimator-id-13\" class=\"sk-toggleable__label sk-toggleable__label-arrow\">StackingRegressor</label><div class=\"sk-toggleable__content\"><pre>StackingRegressor(cv=5,\n",
       "                  estimators=[(&#x27;GB&#x27;,\n",
       "                               GradientBoostingRegressor(random_state=1))],\n",
       "                  final_estimator=&lt;catboost.core.CatBoostRegressor object at 0x7f79d0046d00&gt;,\n",
       "                  passthrough=True)</pre></div></div></div><div class=\"sk-serial\"><div class=\"sk-item\"><div class=\"sk-parallel\"><div class=\"sk-parallel-item\"><div class=\"sk-item\"><div class=\"sk-label-container\"><div class=\"sk-label sk-toggleable\"><label>GB</label></div></div><div class=\"sk-serial\"><div class=\"sk-item\"><div class=\"sk-estimator sk-toggleable\"><input class=\"sk-toggleable__control sk-hidden--visually\" id=\"sk-estimator-id-14\" type=\"checkbox\" ><label for=\"sk-estimator-id-14\" class=\"sk-toggleable__label sk-toggleable__label-arrow\">GradientBoostingRegressor</label><div class=\"sk-toggleable__content\"><pre>GradientBoostingRegressor(random_state=1)</pre></div></div></div></div></div></div></div></div><div class=\"sk-item\"><div class=\"sk-parallel\"><div class=\"sk-parallel-item\"><div class=\"sk-item\"><div class=\"sk-label-container\"><div class=\"sk-label sk-toggleable\"><label>final_estimator</label></div></div><div class=\"sk-serial\"><div class=\"sk-item\"><div class=\"sk-estimator sk-toggleable\"><input class=\"sk-toggleable__control sk-hidden--visually\" id=\"sk-estimator-id-15\" type=\"checkbox\" ><label for=\"sk-estimator-id-15\" class=\"sk-toggleable__label sk-toggleable__label-arrow\">CatBoostRegressor</label><div class=\"sk-toggleable__content\"><pre>&lt;catboost.core.CatBoostRegressor object at 0x7f79d0046d00&gt;</pre></div></div></div></div></div></div></div></div></div></div></div></div>"
      ],
      "text/plain": [
       "StackingRegressor(cv=5,\n",
       "                  estimators=[('GB',\n",
       "                               GradientBoostingRegressor(random_state=1))],\n",
       "                  final_estimator=<catboost.core.CatBoostRegressor object at 0x7f79d0046d00>,\n",
       "                  passthrough=True)"
      ]
     },
     "execution_count": 19,
     "metadata": {},
     "output_type": "execute_result"
    }
   ],
   "source": [
    "stacking_regressor5.fit(X,y)"
   ]
  },
  {
   "cell_type": "code",
   "execution_count": 20,
   "id": "a27cac6b",
   "metadata": {},
   "outputs": [
    {
     "data": {
      "text/plain": [
       "0.9893671498149426"
      ]
     },
     "execution_count": 20,
     "metadata": {},
     "output_type": "execute_result"
    }
   ],
   "source": [
    "stacking_regressor5.score(X,y)"
   ]
  },
  {
   "cell_type": "code",
   "execution_count": null,
   "id": "cba6dd20",
   "metadata": {},
   "outputs": [],
   "source": []
  },
  {
   "cell_type": "code",
   "execution_count": 21,
   "id": "bbd8e2da",
   "metadata": {},
   "outputs": [],
   "source": [
    "stacking_regressor6 = StackingRegressor(estimators=[('GB', gb)], final_estimator=cb, passthrough=True)"
   ]
  },
  {
   "cell_type": "code",
   "execution_count": 22,
   "id": "d796f5ac",
   "metadata": {},
   "outputs": [
    {
     "data": {
      "text/html": [
       "<style>#sk-container-id-6 {color: black;background-color: white;}#sk-container-id-6 pre{padding: 0;}#sk-container-id-6 div.sk-toggleable {background-color: white;}#sk-container-id-6 label.sk-toggleable__label {cursor: pointer;display: block;width: 100%;margin-bottom: 0;padding: 0.3em;box-sizing: border-box;text-align: center;}#sk-container-id-6 label.sk-toggleable__label-arrow:before {content: \"▸\";float: left;margin-right: 0.25em;color: #696969;}#sk-container-id-6 label.sk-toggleable__label-arrow:hover:before {color: black;}#sk-container-id-6 div.sk-estimator:hover label.sk-toggleable__label-arrow:before {color: black;}#sk-container-id-6 div.sk-toggleable__content {max-height: 0;max-width: 0;overflow: hidden;text-align: left;background-color: #f0f8ff;}#sk-container-id-6 div.sk-toggleable__content pre {margin: 0.2em;color: black;border-radius: 0.25em;background-color: #f0f8ff;}#sk-container-id-6 input.sk-toggleable__control:checked~div.sk-toggleable__content {max-height: 200px;max-width: 100%;overflow: auto;}#sk-container-id-6 input.sk-toggleable__control:checked~label.sk-toggleable__label-arrow:before {content: \"▾\";}#sk-container-id-6 div.sk-estimator input.sk-toggleable__control:checked~label.sk-toggleable__label {background-color: #d4ebff;}#sk-container-id-6 div.sk-label input.sk-toggleable__control:checked~label.sk-toggleable__label {background-color: #d4ebff;}#sk-container-id-6 input.sk-hidden--visually {border: 0;clip: rect(1px 1px 1px 1px);clip: rect(1px, 1px, 1px, 1px);height: 1px;margin: -1px;overflow: hidden;padding: 0;position: absolute;width: 1px;}#sk-container-id-6 div.sk-estimator {font-family: monospace;background-color: #f0f8ff;border: 1px dotted black;border-radius: 0.25em;box-sizing: border-box;margin-bottom: 0.5em;}#sk-container-id-6 div.sk-estimator:hover {background-color: #d4ebff;}#sk-container-id-6 div.sk-parallel-item::after {content: \"\";width: 100%;border-bottom: 1px solid gray;flex-grow: 1;}#sk-container-id-6 div.sk-label:hover label.sk-toggleable__label {background-color: #d4ebff;}#sk-container-id-6 div.sk-serial::before {content: \"\";position: absolute;border-left: 1px solid gray;box-sizing: border-box;top: 0;bottom: 0;left: 50%;z-index: 0;}#sk-container-id-6 div.sk-serial {display: flex;flex-direction: column;align-items: center;background-color: white;padding-right: 0.2em;padding-left: 0.2em;position: relative;}#sk-container-id-6 div.sk-item {position: relative;z-index: 1;}#sk-container-id-6 div.sk-parallel {display: flex;align-items: stretch;justify-content: center;background-color: white;position: relative;}#sk-container-id-6 div.sk-item::before, #sk-container-id-6 div.sk-parallel-item::before {content: \"\";position: absolute;border-left: 1px solid gray;box-sizing: border-box;top: 0;bottom: 0;left: 50%;z-index: -1;}#sk-container-id-6 div.sk-parallel-item {display: flex;flex-direction: column;z-index: 1;position: relative;background-color: white;}#sk-container-id-6 div.sk-parallel-item:first-child::after {align-self: flex-end;width: 50%;}#sk-container-id-6 div.sk-parallel-item:last-child::after {align-self: flex-start;width: 50%;}#sk-container-id-6 div.sk-parallel-item:only-child::after {width: 0;}#sk-container-id-6 div.sk-dashed-wrapped {border: 1px dashed gray;margin: 0 0.4em 0.5em 0.4em;box-sizing: border-box;padding-bottom: 0.4em;background-color: white;}#sk-container-id-6 div.sk-label label {font-family: monospace;font-weight: bold;display: inline-block;line-height: 1.2em;}#sk-container-id-6 div.sk-label-container {text-align: center;}#sk-container-id-6 div.sk-container {/* jupyter's `normalize.less` sets `[hidden] { display: none; }` but bootstrap.min.css set `[hidden] { display: none !important; }` so we also need the `!important` here to be able to override the default hidden behavior on the sphinx rendered scikit-learn.org. See: https://github.com/scikit-learn/scikit-learn/issues/21755 */display: inline-block !important;position: relative;}#sk-container-id-6 div.sk-text-repr-fallback {display: none;}</style><div id=\"sk-container-id-6\" class=\"sk-top-container\"><div class=\"sk-text-repr-fallback\"><pre>StackingRegressor(estimators=[(&#x27;GB&#x27;,\n",
       "                               GradientBoostingRegressor(random_state=1))],\n",
       "                  final_estimator=&lt;catboost.core.CatBoostRegressor object at 0x7f79d0046d00&gt;,\n",
       "                  passthrough=True)</pre><b>In a Jupyter environment, please rerun this cell to show the HTML representation or trust the notebook. <br />On GitHub, the HTML representation is unable to render, please try loading this page with nbviewer.org.</b></div><div class=\"sk-container\" hidden><div class=\"sk-item sk-dashed-wrapped\"><div class=\"sk-label-container\"><div class=\"sk-label sk-toggleable\"><input class=\"sk-toggleable__control sk-hidden--visually\" id=\"sk-estimator-id-16\" type=\"checkbox\" ><label for=\"sk-estimator-id-16\" class=\"sk-toggleable__label sk-toggleable__label-arrow\">StackingRegressor</label><div class=\"sk-toggleable__content\"><pre>StackingRegressor(estimators=[(&#x27;GB&#x27;,\n",
       "                               GradientBoostingRegressor(random_state=1))],\n",
       "                  final_estimator=&lt;catboost.core.CatBoostRegressor object at 0x7f79d0046d00&gt;,\n",
       "                  passthrough=True)</pre></div></div></div><div class=\"sk-serial\"><div class=\"sk-item\"><div class=\"sk-parallel\"><div class=\"sk-parallel-item\"><div class=\"sk-item\"><div class=\"sk-label-container\"><div class=\"sk-label sk-toggleable\"><label>GB</label></div></div><div class=\"sk-serial\"><div class=\"sk-item\"><div class=\"sk-estimator sk-toggleable\"><input class=\"sk-toggleable__control sk-hidden--visually\" id=\"sk-estimator-id-17\" type=\"checkbox\" ><label for=\"sk-estimator-id-17\" class=\"sk-toggleable__label sk-toggleable__label-arrow\">GradientBoostingRegressor</label><div class=\"sk-toggleable__content\"><pre>GradientBoostingRegressor(random_state=1)</pre></div></div></div></div></div></div></div></div><div class=\"sk-item\"><div class=\"sk-parallel\"><div class=\"sk-parallel-item\"><div class=\"sk-item\"><div class=\"sk-label-container\"><div class=\"sk-label sk-toggleable\"><label>final_estimator</label></div></div><div class=\"sk-serial\"><div class=\"sk-item\"><div class=\"sk-estimator sk-toggleable\"><input class=\"sk-toggleable__control sk-hidden--visually\" id=\"sk-estimator-id-18\" type=\"checkbox\" ><label for=\"sk-estimator-id-18\" class=\"sk-toggleable__label sk-toggleable__label-arrow\">CatBoostRegressor</label><div class=\"sk-toggleable__content\"><pre>&lt;catboost.core.CatBoostRegressor object at 0x7f79d0046d00&gt;</pre></div></div></div></div></div></div></div></div></div></div></div></div>"
      ],
      "text/plain": [
       "StackingRegressor(estimators=[('GB',\n",
       "                               GradientBoostingRegressor(random_state=1))],\n",
       "                  final_estimator=<catboost.core.CatBoostRegressor object at 0x7f79d0046d00>,\n",
       "                  passthrough=True)"
      ]
     },
     "execution_count": 22,
     "metadata": {},
     "output_type": "execute_result"
    }
   ],
   "source": [
    "stacking_regressor6.fit(X,y)"
   ]
  },
  {
   "cell_type": "code",
   "execution_count": 23,
   "id": "3ca65afe",
   "metadata": {},
   "outputs": [
    {
     "data": {
      "text/plain": [
       "0.9893671498149426"
      ]
     },
     "execution_count": 23,
     "metadata": {},
     "output_type": "execute_result"
    }
   ],
   "source": [
    "stacking_regressor6.score(X,y)"
   ]
  },
  {
   "cell_type": "code",
   "execution_count": null,
   "id": "f37a45d6",
   "metadata": {},
   "outputs": [],
   "source": []
  },
  {
   "cell_type": "markdown",
   "id": "2040326e",
   "metadata": {},
   "source": [
    "### scores1, scores2, scores3 --> produce same results (same StackingRegressor + same cv)"
   ]
  },
  {
   "cell_type": "markdown",
   "id": "7488e3ad",
   "metadata": {},
   "source": [
    "### scores4, scores5, scores5 --> produce same results (same StackingRegressor w/default cv for train, same cv for test)"
   ]
  },
  {
   "cell_type": "code",
   "execution_count": 24,
   "id": "f5496ca4",
   "metadata": {},
   "outputs": [],
   "source": [
    "scores1 = cross_validate(stacking_regressor1, X, y, cv=RepeatedKFold(n_splits=5, n_repeats=1, random_state=1), return_estimator=True)"
   ]
  },
  {
   "cell_type": "code",
   "execution_count": 25,
   "id": "de28d75d",
   "metadata": {},
   "outputs": [
    {
     "data": {
      "text/plain": [
       "{'fit_time': array([4.04158306, 4.03392816, 4.03959775, 4.01647091, 4.04221487]),\n",
       " 'score_time': array([0.00351477, 0.00351477, 0.00346327, 0.00340891, 0.00342488]),\n",
       " 'estimator': [StackingRegressor(cv=RepeatedKFold(n_repeats=1, n_splits=5, random_state=1),\n",
       "                    estimators=[('GB',\n",
       "                                 GradientBoostingRegressor(random_state=1))],\n",
       "                    final_estimator=<catboost.core.CatBoostRegressor object at 0x7f7a1182afd0>,\n",
       "                    n_jobs=2, passthrough=True),\n",
       "  StackingRegressor(cv=RepeatedKFold(n_repeats=1, n_splits=5, random_state=1),\n",
       "                    estimators=[('GB',\n",
       "                                 GradientBoostingRegressor(random_state=1))],\n",
       "                    final_estimator=<catboost.core.CatBoostRegressor object at 0x7f7a1182e490>,\n",
       "                    n_jobs=2, passthrough=True),\n",
       "  StackingRegressor(cv=RepeatedKFold(n_repeats=1, n_splits=5, random_state=1),\n",
       "                    estimators=[('GB',\n",
       "                                 GradientBoostingRegressor(random_state=1))],\n",
       "                    final_estimator=<catboost.core.CatBoostRegressor object at 0x7f7a1182ea00>,\n",
       "                    n_jobs=2, passthrough=True),\n",
       "  StackingRegressor(cv=RepeatedKFold(n_repeats=1, n_splits=5, random_state=1),\n",
       "                    estimators=[('GB',\n",
       "                                 GradientBoostingRegressor(random_state=1))],\n",
       "                    final_estimator=<catboost.core.CatBoostRegressor object at 0x7f7a1186ba60>,\n",
       "                    n_jobs=2, passthrough=True),\n",
       "  StackingRegressor(cv=RepeatedKFold(n_repeats=1, n_splits=5, random_state=1),\n",
       "                    estimators=[('GB',\n",
       "                                 GradientBoostingRegressor(random_state=1))],\n",
       "                    final_estimator=<catboost.core.CatBoostRegressor object at 0x7f7a11879730>,\n",
       "                    n_jobs=2, passthrough=True)],\n",
       " 'test_score': array([0.92965491, 0.9472429 , 0.94351263, 0.91038393, 0.95117844])}"
      ]
     },
     "execution_count": 25,
     "metadata": {},
     "output_type": "execute_result"
    }
   ],
   "source": [
    "scores1"
   ]
  },
  {
   "cell_type": "code",
   "execution_count": null,
   "id": "a5e5797b",
   "metadata": {},
   "outputs": [],
   "source": []
  },
  {
   "cell_type": "code",
   "execution_count": 26,
   "id": "2dcee663",
   "metadata": {},
   "outputs": [],
   "source": [
    "scores2 = cross_validate(stacking_regressor2, X, y, cv=RepeatedKFold(n_splits=5, n_repeats=1, random_state=1), return_estimator=True)"
   ]
  },
  {
   "cell_type": "code",
   "execution_count": 27,
   "id": "b3b9a7e8",
   "metadata": {},
   "outputs": [
    {
     "data": {
      "text/plain": [
       "{'fit_time': array([5.070333  , 5.06353402, 5.0632062 , 5.03131294, 5.05367994]),\n",
       " 'score_time': array([0.00338101, 0.00498509, 0.00342679, 0.00336194, 0.00336504]),\n",
       " 'estimator': [StackingRegressor(cv=RepeatedKFold(n_repeats=1, n_splits=5, random_state=1),\n",
       "                    estimators=[('GB',\n",
       "                                 GradientBoostingRegressor(random_state=1))],\n",
       "                    final_estimator=<catboost.core.CatBoostRegressor object at 0x7f7a232d2280>,\n",
       "                    n_jobs=1, passthrough=True),\n",
       "  StackingRegressor(cv=RepeatedKFold(n_repeats=1, n_splits=5, random_state=1),\n",
       "                    estimators=[('GB',\n",
       "                                 GradientBoostingRegressor(random_state=1))],\n",
       "                    final_estimator=<catboost.core.CatBoostRegressor object at 0x7f7a232d23d0>,\n",
       "                    n_jobs=1, passthrough=True),\n",
       "  StackingRegressor(cv=RepeatedKFold(n_repeats=1, n_splits=5, random_state=1),\n",
       "                    estimators=[('GB',\n",
       "                                 GradientBoostingRegressor(random_state=1))],\n",
       "                    final_estimator=<catboost.core.CatBoostRegressor object at 0x7f7a1182af40>,\n",
       "                    n_jobs=1, passthrough=True),\n",
       "  StackingRegressor(cv=RepeatedKFold(n_repeats=1, n_splits=5, random_state=1),\n",
       "                    estimators=[('GB',\n",
       "                                 GradientBoostingRegressor(random_state=1))],\n",
       "                    final_estimator=<catboost.core.CatBoostRegressor object at 0x7f7a232ddb50>,\n",
       "                    n_jobs=1, passthrough=True),\n",
       "  StackingRegressor(cv=RepeatedKFold(n_repeats=1, n_splits=5, random_state=1),\n",
       "                    estimators=[('GB',\n",
       "                                 GradientBoostingRegressor(random_state=1))],\n",
       "                    final_estimator=<catboost.core.CatBoostRegressor object at 0x7f7a1182e700>,\n",
       "                    n_jobs=1, passthrough=True)],\n",
       " 'test_score': array([0.92965491, 0.9472429 , 0.94351263, 0.91038393, 0.95117844])}"
      ]
     },
     "execution_count": 27,
     "metadata": {},
     "output_type": "execute_result"
    }
   ],
   "source": [
    "scores2"
   ]
  },
  {
   "cell_type": "code",
   "execution_count": null,
   "id": "b5a6469a",
   "metadata": {},
   "outputs": [],
   "source": []
  },
  {
   "cell_type": "code",
   "execution_count": 28,
   "id": "ed7c5d60",
   "metadata": {},
   "outputs": [],
   "source": [
    "scores3 = cross_validate(stacking_regressor3, X, y, cv=RepeatedKFold(n_splits=5, n_repeats=1, random_state=1), return_estimator=True)"
   ]
  },
  {
   "cell_type": "code",
   "execution_count": 29,
   "id": "d358f558",
   "metadata": {},
   "outputs": [
    {
     "data": {
      "text/plain": [
       "{'fit_time': array([5.06589603, 5.06124496, 5.08118916, 5.04288888, 5.04896116]),\n",
       " 'score_time': array([0.00336504, 0.00466204, 0.00340199, 0.00336218, 0.00341392]),\n",
       " 'estimator': [StackingRegressor(cv=RepeatedKFold(n_repeats=1, n_splits=5, random_state=1),\n",
       "                    estimators=[('GB',\n",
       "                                 GradientBoostingRegressor(random_state=1))],\n",
       "                    final_estimator=<catboost.core.CatBoostRegressor object at 0x7f7a11879460>,\n",
       "                    passthrough=True),\n",
       "  StackingRegressor(cv=RepeatedKFold(n_repeats=1, n_splits=5, random_state=1),\n",
       "                    estimators=[('GB',\n",
       "                                 GradientBoostingRegressor(random_state=1))],\n",
       "                    final_estimator=<catboost.core.CatBoostRegressor object at 0x7f7a232ddf70>,\n",
       "                    passthrough=True),\n",
       "  StackingRegressor(cv=RepeatedKFold(n_repeats=1, n_splits=5, random_state=1),\n",
       "                    estimators=[('GB',\n",
       "                                 GradientBoostingRegressor(random_state=1))],\n",
       "                    final_estimator=<catboost.core.CatBoostRegressor object at 0x7f7a117e5d90>,\n",
       "                    passthrough=True),\n",
       "  StackingRegressor(cv=RepeatedKFold(n_repeats=1, n_splits=5, random_state=1),\n",
       "                    estimators=[('GB',\n",
       "                                 GradientBoostingRegressor(random_state=1))],\n",
       "                    final_estimator=<catboost.core.CatBoostRegressor object at 0x7f7a232d2070>,\n",
       "                    passthrough=True),\n",
       "  StackingRegressor(cv=RepeatedKFold(n_repeats=1, n_splits=5, random_state=1),\n",
       "                    estimators=[('GB',\n",
       "                                 GradientBoostingRegressor(random_state=1))],\n",
       "                    final_estimator=<catboost.core.CatBoostRegressor object at 0x7f7a1182ab20>,\n",
       "                    passthrough=True)],\n",
       " 'test_score': array([0.92965491, 0.9472429 , 0.94351263, 0.91038393, 0.95117844])}"
      ]
     },
     "execution_count": 29,
     "metadata": {},
     "output_type": "execute_result"
    }
   ],
   "source": [
    "scores3"
   ]
  },
  {
   "cell_type": "code",
   "execution_count": null,
   "id": "8ccabdc1",
   "metadata": {},
   "outputs": [],
   "source": []
  },
  {
   "cell_type": "code",
   "execution_count": 30,
   "id": "b87e2a9d",
   "metadata": {},
   "outputs": [],
   "source": [
    "scores4 = cross_validate(stacking_regressor4, X, y, cv=RepeatedKFold(n_splits=5, n_repeats=1, random_state=1), return_estimator=True)"
   ]
  },
  {
   "cell_type": "code",
   "execution_count": 31,
   "id": "6eb1be5d",
   "metadata": {},
   "outputs": [
    {
     "data": {
      "text/plain": [
       "{'fit_time': array([5.05103278, 5.07132387, 5.05107784, 5.03999901, 5.06222796]),\n",
       " 'score_time': array([0.00334311, 0.00338912, 0.00341988, 0.00488091, 0.00333905]),\n",
       " 'estimator': [StackingRegressor(cv=5,\n",
       "                    estimators=[('GB',\n",
       "                                 GradientBoostingRegressor(random_state=1))],\n",
       "                    final_estimator=<catboost.core.CatBoostRegressor object at 0x7f7a11879b50>,\n",
       "                    passthrough=True),\n",
       "  StackingRegressor(cv=5,\n",
       "                    estimators=[('GB',\n",
       "                                 GradientBoostingRegressor(random_state=1))],\n",
       "                    final_estimator=<catboost.core.CatBoostRegressor object at 0x7f7a23151ee0>,\n",
       "                    passthrough=True),\n",
       "  StackingRegressor(cv=5,\n",
       "                    estimators=[('GB',\n",
       "                                 GradientBoostingRegressor(random_state=1))],\n",
       "                    final_estimator=<catboost.core.CatBoostRegressor object at 0x7f7a23151e80>,\n",
       "                    passthrough=True),\n",
       "  StackingRegressor(cv=5,\n",
       "                    estimators=[('GB',\n",
       "                                 GradientBoostingRegressor(random_state=1))],\n",
       "                    final_estimator=<catboost.core.CatBoostRegressor object at 0x7f7a23151f10>,\n",
       "                    passthrough=True),\n",
       "  StackingRegressor(cv=5,\n",
       "                    estimators=[('GB',\n",
       "                                 GradientBoostingRegressor(random_state=1))],\n",
       "                    final_estimator=<catboost.core.CatBoostRegressor object at 0x7f7a23163fa0>,\n",
       "                    passthrough=True)],\n",
       " 'test_score': array([0.93028185, 0.9463613 , 0.93898523, 0.90842524, 0.95203266])}"
      ]
     },
     "execution_count": 31,
     "metadata": {},
     "output_type": "execute_result"
    }
   ],
   "source": [
    "scores4"
   ]
  },
  {
   "cell_type": "code",
   "execution_count": null,
   "id": "87985691",
   "metadata": {},
   "outputs": [],
   "source": []
  },
  {
   "cell_type": "code",
   "execution_count": 32,
   "id": "67655537",
   "metadata": {},
   "outputs": [],
   "source": [
    "scores5 = cross_validate(stacking_regressor5, X, y, cv=RepeatedKFold(n_splits=5, n_repeats=1, random_state=1), return_estimator=True)"
   ]
  },
  {
   "cell_type": "code",
   "execution_count": 33,
   "id": "cabf0a4e",
   "metadata": {},
   "outputs": [
    {
     "data": {
      "text/plain": [
       "{'fit_time': array([5.05526495, 5.06732011, 5.06050396, 5.0351069 , 5.05555797]),\n",
       " 'score_time': array([0.0034461 , 0.0034492 , 0.00415206, 0.00332904, 0.00332212]),\n",
       " 'estimator': [StackingRegressor(cv=5,\n",
       "                    estimators=[('GB',\n",
       "                                 GradientBoostingRegressor(random_state=1))],\n",
       "                    final_estimator=<catboost.core.CatBoostRegressor object at 0x7f7a23173760>,\n",
       "                    passthrough=True),\n",
       "  StackingRegressor(cv=5,\n",
       "                    estimators=[('GB',\n",
       "                                 GradientBoostingRegressor(random_state=1))],\n",
       "                    final_estimator=<catboost.core.CatBoostRegressor object at 0x7f7a23222d90>,\n",
       "                    passthrough=True),\n",
       "  StackingRegressor(cv=5,\n",
       "                    estimators=[('GB',\n",
       "                                 GradientBoostingRegressor(random_state=1))],\n",
       "                    final_estimator=<catboost.core.CatBoostRegressor object at 0x7f7a232502b0>,\n",
       "                    passthrough=True),\n",
       "  StackingRegressor(cv=5,\n",
       "                    estimators=[('GB',\n",
       "                                 GradientBoostingRegressor(random_state=1))],\n",
       "                    final_estimator=<catboost.core.CatBoostRegressor object at 0x7f7a2317d3d0>,\n",
       "                    passthrough=True),\n",
       "  StackingRegressor(cv=5,\n",
       "                    estimators=[('GB',\n",
       "                                 GradientBoostingRegressor(random_state=1))],\n",
       "                    final_estimator=<catboost.core.CatBoostRegressor object at 0x7f7a2317d460>,\n",
       "                    passthrough=True)],\n",
       " 'test_score': array([0.93028185, 0.9463613 , 0.93898523, 0.90842524, 0.95203266])}"
      ]
     },
     "execution_count": 33,
     "metadata": {},
     "output_type": "execute_result"
    }
   ],
   "source": [
    "scores5"
   ]
  },
  {
   "cell_type": "code",
   "execution_count": null,
   "id": "79a66d30",
   "metadata": {},
   "outputs": [],
   "source": []
  },
  {
   "cell_type": "code",
   "execution_count": 34,
   "id": "f3202119",
   "metadata": {},
   "outputs": [],
   "source": [
    "scores6 = cross_validate(stacking_regressor6, X, y, cv=RepeatedKFold(n_splits=5, n_repeats=1, random_state=1), return_estimator=True)"
   ]
  },
  {
   "cell_type": "code",
   "execution_count": 35,
   "id": "4555c2f0",
   "metadata": {},
   "outputs": [
    {
     "data": {
      "text/plain": [
       "{'fit_time': array([5.06252789, 5.07124114, 5.05407882, 5.04792809, 5.05622196]),\n",
       " 'score_time': array([0.00339508, 0.00339293, 0.00336123, 0.00337481, 0.00338507]),\n",
       " 'estimator': [StackingRegressor(estimators=[('GB',\n",
       "                                 GradientBoostingRegressor(random_state=1))],\n",
       "                    final_estimator=<catboost.core.CatBoostRegressor object at 0x7f7a117e56d0>,\n",
       "                    passthrough=True),\n",
       "  StackingRegressor(estimators=[('GB',\n",
       "                                 GradientBoostingRegressor(random_state=1))],\n",
       "                    final_estimator=<catboost.core.CatBoostRegressor object at 0x7f7a23222460>,\n",
       "                    passthrough=True),\n",
       "  StackingRegressor(estimators=[('GB',\n",
       "                                 GradientBoostingRegressor(random_state=1))],\n",
       "                    final_estimator=<catboost.core.CatBoostRegressor object at 0x7f7a23222550>,\n",
       "                    passthrough=True),\n",
       "  StackingRegressor(estimators=[('GB',\n",
       "                                 GradientBoostingRegressor(random_state=1))],\n",
       "                    final_estimator=<catboost.core.CatBoostRegressor object at 0x7f7a23222100>,\n",
       "                    passthrough=True),\n",
       "  StackingRegressor(estimators=[('GB',\n",
       "                                 GradientBoostingRegressor(random_state=1))],\n",
       "                    final_estimator=<catboost.core.CatBoostRegressor object at 0x7f7a233db1c0>,\n",
       "                    passthrough=True)],\n",
       " 'test_score': array([0.93028185, 0.9463613 , 0.93898523, 0.90842524, 0.95203266])}"
      ]
     },
     "execution_count": 35,
     "metadata": {},
     "output_type": "execute_result"
    }
   ],
   "source": [
    "scores6"
   ]
  },
  {
   "cell_type": "code",
   "execution_count": null,
   "id": "a97b4961",
   "metadata": {},
   "outputs": [],
   "source": []
  },
  {
   "cell_type": "code",
   "execution_count": 36,
   "id": "ef426d35",
   "metadata": {},
   "outputs": [],
   "source": [
    "# Use cross-validation to evaluate model performance\n",
    "\n",
    "def evaluate_model(model, X, y):\n",
    "    \n",
    "    # define the evaluation procedure\n",
    "    cv = RepeatedKFold(n_splits=5, n_repeats=3, random_state=1)\n",
    "    \n",
    "    # evaluate the model and collect the results\n",
    "    scores = cross_validate(model, X, y, cv=cv, n_jobs=-1)\n",
    "    \n",
    "    #scores = cross_validate(model, X, y, scoring=scoring, \n",
    "    #                              cv=cv, n_jobs=-1) \n",
    "    \n",
    "    df = pd.DataFrame(scores)\n",
    "    \n",
    "    return df"
   ]
  },
  {
   "cell_type": "code",
   "execution_count": null,
   "id": "50374d80",
   "metadata": {},
   "outputs": [],
   "source": []
  },
  {
   "cell_type": "code",
   "execution_count": 37,
   "id": "c7195241",
   "metadata": {},
   "outputs": [],
   "source": [
    "cat = evaluate_model(cb, X, y)"
   ]
  },
  {
   "cell_type": "code",
   "execution_count": 38,
   "id": "bfc73659",
   "metadata": {},
   "outputs": [
    {
     "data": {
      "text/html": [
       "<div>\n",
       "<style scoped>\n",
       "    .dataframe tbody tr th:only-of-type {\n",
       "        vertical-align: middle;\n",
       "    }\n",
       "\n",
       "    .dataframe tbody tr th {\n",
       "        vertical-align: top;\n",
       "    }\n",
       "\n",
       "    .dataframe thead th {\n",
       "        text-align: right;\n",
       "    }\n",
       "</style>\n",
       "<table border=\"1\" class=\"dataframe\">\n",
       "  <thead>\n",
       "    <tr style=\"text-align: right;\">\n",
       "      <th></th>\n",
       "      <th>fit_time</th>\n",
       "      <th>score_time</th>\n",
       "      <th>test_score</th>\n",
       "    </tr>\n",
       "  </thead>\n",
       "  <tbody>\n",
       "    <tr>\n",
       "      <th>0</th>\n",
       "      <td>8.146050</td>\n",
       "      <td>0.019520</td>\n",
       "      <td>0.929560</td>\n",
       "    </tr>\n",
       "    <tr>\n",
       "      <th>1</th>\n",
       "      <td>7.925259</td>\n",
       "      <td>0.020624</td>\n",
       "      <td>0.948942</td>\n",
       "    </tr>\n",
       "    <tr>\n",
       "      <th>2</th>\n",
       "      <td>8.030242</td>\n",
       "      <td>0.020575</td>\n",
       "      <td>0.943433</td>\n",
       "    </tr>\n",
       "    <tr>\n",
       "      <th>3</th>\n",
       "      <td>5.159423</td>\n",
       "      <td>0.004241</td>\n",
       "      <td>0.913321</td>\n",
       "    </tr>\n",
       "    <tr>\n",
       "      <th>4</th>\n",
       "      <td>5.087507</td>\n",
       "      <td>0.006051</td>\n",
       "      <td>0.951898</td>\n",
       "    </tr>\n",
       "    <tr>\n",
       "      <th>5</th>\n",
       "      <td>7.968694</td>\n",
       "      <td>0.022602</td>\n",
       "      <td>0.933712</td>\n",
       "    </tr>\n",
       "    <tr>\n",
       "      <th>6</th>\n",
       "      <td>5.251831</td>\n",
       "      <td>0.007186</td>\n",
       "      <td>0.932560</td>\n",
       "    </tr>\n",
       "    <tr>\n",
       "      <th>7</th>\n",
       "      <td>5.290271</td>\n",
       "      <td>0.006072</td>\n",
       "      <td>0.927932</td>\n",
       "    </tr>\n",
       "    <tr>\n",
       "      <th>8</th>\n",
       "      <td>4.524969</td>\n",
       "      <td>0.005938</td>\n",
       "      <td>0.949594</td>\n",
       "    </tr>\n",
       "    <tr>\n",
       "      <th>9</th>\n",
       "      <td>5.197820</td>\n",
       "      <td>0.004343</td>\n",
       "      <td>0.940376</td>\n",
       "    </tr>\n",
       "    <tr>\n",
       "      <th>10</th>\n",
       "      <td>4.604410</td>\n",
       "      <td>0.005269</td>\n",
       "      <td>0.944154</td>\n",
       "    </tr>\n",
       "    <tr>\n",
       "      <th>11</th>\n",
       "      <td>4.640087</td>\n",
       "      <td>0.014566</td>\n",
       "      <td>0.924555</td>\n",
       "    </tr>\n",
       "    <tr>\n",
       "      <th>12</th>\n",
       "      <td>3.943980</td>\n",
       "      <td>0.003891</td>\n",
       "      <td>0.933176</td>\n",
       "    </tr>\n",
       "    <tr>\n",
       "      <th>13</th>\n",
       "      <td>3.783881</td>\n",
       "      <td>0.004155</td>\n",
       "      <td>0.944935</td>\n",
       "    </tr>\n",
       "    <tr>\n",
       "      <th>14</th>\n",
       "      <td>3.826262</td>\n",
       "      <td>0.003495</td>\n",
       "      <td>0.940292</td>\n",
       "    </tr>\n",
       "  </tbody>\n",
       "</table>\n",
       "</div>"
      ],
      "text/plain": [
       "    fit_time  score_time  test_score\n",
       "0   8.146050    0.019520    0.929560\n",
       "1   7.925259    0.020624    0.948942\n",
       "2   8.030242    0.020575    0.943433\n",
       "3   5.159423    0.004241    0.913321\n",
       "4   5.087507    0.006051    0.951898\n",
       "5   7.968694    0.022602    0.933712\n",
       "6   5.251831    0.007186    0.932560\n",
       "7   5.290271    0.006072    0.927932\n",
       "8   4.524969    0.005938    0.949594\n",
       "9   5.197820    0.004343    0.940376\n",
       "10  4.604410    0.005269    0.944154\n",
       "11  4.640087    0.014566    0.924555\n",
       "12  3.943980    0.003891    0.933176\n",
       "13  3.783881    0.004155    0.944935\n",
       "14  3.826262    0.003495    0.940292"
      ]
     },
     "execution_count": 38,
     "metadata": {},
     "output_type": "execute_result"
    }
   ],
   "source": [
    "cat"
   ]
  },
  {
   "cell_type": "code",
   "execution_count": 39,
   "id": "3e5d4630",
   "metadata": {},
   "outputs": [],
   "source": [
    "cat = cat[['test_score']].rename(columns={'test_score':'cat_score'})"
   ]
  },
  {
   "cell_type": "code",
   "execution_count": 40,
   "id": "1cb952da",
   "metadata": {},
   "outputs": [
    {
     "data": {
      "text/html": [
       "<div>\n",
       "<style scoped>\n",
       "    .dataframe tbody tr th:only-of-type {\n",
       "        vertical-align: middle;\n",
       "    }\n",
       "\n",
       "    .dataframe tbody tr th {\n",
       "        vertical-align: top;\n",
       "    }\n",
       "\n",
       "    .dataframe thead th {\n",
       "        text-align: right;\n",
       "    }\n",
       "</style>\n",
       "<table border=\"1\" class=\"dataframe\">\n",
       "  <thead>\n",
       "    <tr style=\"text-align: right;\">\n",
       "      <th></th>\n",
       "      <th>cat_score</th>\n",
       "    </tr>\n",
       "  </thead>\n",
       "  <tbody>\n",
       "    <tr>\n",
       "      <th>0</th>\n",
       "      <td>0.929560</td>\n",
       "    </tr>\n",
       "    <tr>\n",
       "      <th>1</th>\n",
       "      <td>0.948942</td>\n",
       "    </tr>\n",
       "    <tr>\n",
       "      <th>2</th>\n",
       "      <td>0.943433</td>\n",
       "    </tr>\n",
       "    <tr>\n",
       "      <th>3</th>\n",
       "      <td>0.913321</td>\n",
       "    </tr>\n",
       "    <tr>\n",
       "      <th>4</th>\n",
       "      <td>0.951898</td>\n",
       "    </tr>\n",
       "    <tr>\n",
       "      <th>5</th>\n",
       "      <td>0.933712</td>\n",
       "    </tr>\n",
       "    <tr>\n",
       "      <th>6</th>\n",
       "      <td>0.932560</td>\n",
       "    </tr>\n",
       "    <tr>\n",
       "      <th>7</th>\n",
       "      <td>0.927932</td>\n",
       "    </tr>\n",
       "    <tr>\n",
       "      <th>8</th>\n",
       "      <td>0.949594</td>\n",
       "    </tr>\n",
       "    <tr>\n",
       "      <th>9</th>\n",
       "      <td>0.940376</td>\n",
       "    </tr>\n",
       "    <tr>\n",
       "      <th>10</th>\n",
       "      <td>0.944154</td>\n",
       "    </tr>\n",
       "    <tr>\n",
       "      <th>11</th>\n",
       "      <td>0.924555</td>\n",
       "    </tr>\n",
       "    <tr>\n",
       "      <th>12</th>\n",
       "      <td>0.933176</td>\n",
       "    </tr>\n",
       "    <tr>\n",
       "      <th>13</th>\n",
       "      <td>0.944935</td>\n",
       "    </tr>\n",
       "    <tr>\n",
       "      <th>14</th>\n",
       "      <td>0.940292</td>\n",
       "    </tr>\n",
       "  </tbody>\n",
       "</table>\n",
       "</div>"
      ],
      "text/plain": [
       "    cat_score\n",
       "0    0.929560\n",
       "1    0.948942\n",
       "2    0.943433\n",
       "3    0.913321\n",
       "4    0.951898\n",
       "5    0.933712\n",
       "6    0.932560\n",
       "7    0.927932\n",
       "8    0.949594\n",
       "9    0.940376\n",
       "10   0.944154\n",
       "11   0.924555\n",
       "12   0.933176\n",
       "13   0.944935\n",
       "14   0.940292"
      ]
     },
     "execution_count": 40,
     "metadata": {},
     "output_type": "execute_result"
    }
   ],
   "source": [
    "cat"
   ]
  },
  {
   "cell_type": "code",
   "execution_count": null,
   "id": "a40f0e24",
   "metadata": {},
   "outputs": [],
   "source": []
  },
  {
   "cell_type": "code",
   "execution_count": 41,
   "id": "2b0eec02",
   "metadata": {},
   "outputs": [],
   "source": [
    "g = evaluate_model(gb, X, y)"
   ]
  },
  {
   "cell_type": "code",
   "execution_count": 42,
   "id": "86d03a8f",
   "metadata": {},
   "outputs": [
    {
     "data": {
      "text/html": [
       "<div>\n",
       "<style scoped>\n",
       "    .dataframe tbody tr th:only-of-type {\n",
       "        vertical-align: middle;\n",
       "    }\n",
       "\n",
       "    .dataframe tbody tr th {\n",
       "        vertical-align: top;\n",
       "    }\n",
       "\n",
       "    .dataframe thead th {\n",
       "        text-align: right;\n",
       "    }\n",
       "</style>\n",
       "<table border=\"1\" class=\"dataframe\">\n",
       "  <thead>\n",
       "    <tr style=\"text-align: right;\">\n",
       "      <th></th>\n",
       "      <th>fit_time</th>\n",
       "      <th>score_time</th>\n",
       "      <th>test_score</th>\n",
       "    </tr>\n",
       "  </thead>\n",
       "  <tbody>\n",
       "    <tr>\n",
       "      <th>0</th>\n",
       "      <td>0.924757</td>\n",
       "      <td>0.003516</td>\n",
       "      <td>0.911278</td>\n",
       "    </tr>\n",
       "    <tr>\n",
       "      <th>1</th>\n",
       "      <td>0.910056</td>\n",
       "      <td>0.002331</td>\n",
       "      <td>0.938055</td>\n",
       "    </tr>\n",
       "    <tr>\n",
       "      <th>2</th>\n",
       "      <td>0.957707</td>\n",
       "      <td>0.002256</td>\n",
       "      <td>0.934433</td>\n",
       "    </tr>\n",
       "    <tr>\n",
       "      <th>3</th>\n",
       "      <td>0.904654</td>\n",
       "      <td>0.002905</td>\n",
       "      <td>0.896948</td>\n",
       "    </tr>\n",
       "    <tr>\n",
       "      <th>4</th>\n",
       "      <td>0.927390</td>\n",
       "      <td>0.004701</td>\n",
       "      <td>0.939217</td>\n",
       "    </tr>\n",
       "    <tr>\n",
       "      <th>5</th>\n",
       "      <td>0.923554</td>\n",
       "      <td>0.002290</td>\n",
       "      <td>0.908808</td>\n",
       "    </tr>\n",
       "    <tr>\n",
       "      <th>6</th>\n",
       "      <td>0.916041</td>\n",
       "      <td>0.006383</td>\n",
       "      <td>0.926451</td>\n",
       "    </tr>\n",
       "    <tr>\n",
       "      <th>7</th>\n",
       "      <td>0.918701</td>\n",
       "      <td>0.002260</td>\n",
       "      <td>0.917490</td>\n",
       "    </tr>\n",
       "    <tr>\n",
       "      <th>8</th>\n",
       "      <td>0.882644</td>\n",
       "      <td>0.002276</td>\n",
       "      <td>0.944368</td>\n",
       "    </tr>\n",
       "    <tr>\n",
       "      <th>9</th>\n",
       "      <td>0.881497</td>\n",
       "      <td>0.002246</td>\n",
       "      <td>0.924041</td>\n",
       "    </tr>\n",
       "    <tr>\n",
       "      <th>10</th>\n",
       "      <td>0.874605</td>\n",
       "      <td>0.002301</td>\n",
       "      <td>0.928746</td>\n",
       "    </tr>\n",
       "    <tr>\n",
       "      <th>11</th>\n",
       "      <td>0.874888</td>\n",
       "      <td>0.002204</td>\n",
       "      <td>0.916443</td>\n",
       "    </tr>\n",
       "    <tr>\n",
       "      <th>12</th>\n",
       "      <td>0.884506</td>\n",
       "      <td>0.002137</td>\n",
       "      <td>0.919614</td>\n",
       "    </tr>\n",
       "    <tr>\n",
       "      <th>13</th>\n",
       "      <td>0.870040</td>\n",
       "      <td>0.002228</td>\n",
       "      <td>0.933767</td>\n",
       "    </tr>\n",
       "    <tr>\n",
       "      <th>14</th>\n",
       "      <td>0.871755</td>\n",
       "      <td>0.002341</td>\n",
       "      <td>0.924766</td>\n",
       "    </tr>\n",
       "  </tbody>\n",
       "</table>\n",
       "</div>"
      ],
      "text/plain": [
       "    fit_time  score_time  test_score\n",
       "0   0.924757    0.003516    0.911278\n",
       "1   0.910056    0.002331    0.938055\n",
       "2   0.957707    0.002256    0.934433\n",
       "3   0.904654    0.002905    0.896948\n",
       "4   0.927390    0.004701    0.939217\n",
       "5   0.923554    0.002290    0.908808\n",
       "6   0.916041    0.006383    0.926451\n",
       "7   0.918701    0.002260    0.917490\n",
       "8   0.882644    0.002276    0.944368\n",
       "9   0.881497    0.002246    0.924041\n",
       "10  0.874605    0.002301    0.928746\n",
       "11  0.874888    0.002204    0.916443\n",
       "12  0.884506    0.002137    0.919614\n",
       "13  0.870040    0.002228    0.933767\n",
       "14  0.871755    0.002341    0.924766"
      ]
     },
     "execution_count": 42,
     "metadata": {},
     "output_type": "execute_result"
    }
   ],
   "source": [
    "g"
   ]
  },
  {
   "cell_type": "code",
   "execution_count": 43,
   "id": "54d89007",
   "metadata": {},
   "outputs": [],
   "source": [
    "g = g[['test_score']].rename(columns={'test_score':'gb_score'})"
   ]
  },
  {
   "cell_type": "code",
   "execution_count": 44,
   "id": "da5c9b26",
   "metadata": {},
   "outputs": [
    {
     "data": {
      "text/html": [
       "<div>\n",
       "<style scoped>\n",
       "    .dataframe tbody tr th:only-of-type {\n",
       "        vertical-align: middle;\n",
       "    }\n",
       "\n",
       "    .dataframe tbody tr th {\n",
       "        vertical-align: top;\n",
       "    }\n",
       "\n",
       "    .dataframe thead th {\n",
       "        text-align: right;\n",
       "    }\n",
       "</style>\n",
       "<table border=\"1\" class=\"dataframe\">\n",
       "  <thead>\n",
       "    <tr style=\"text-align: right;\">\n",
       "      <th></th>\n",
       "      <th>gb_score</th>\n",
       "    </tr>\n",
       "  </thead>\n",
       "  <tbody>\n",
       "    <tr>\n",
       "      <th>0</th>\n",
       "      <td>0.911278</td>\n",
       "    </tr>\n",
       "    <tr>\n",
       "      <th>1</th>\n",
       "      <td>0.938055</td>\n",
       "    </tr>\n",
       "    <tr>\n",
       "      <th>2</th>\n",
       "      <td>0.934433</td>\n",
       "    </tr>\n",
       "    <tr>\n",
       "      <th>3</th>\n",
       "      <td>0.896948</td>\n",
       "    </tr>\n",
       "    <tr>\n",
       "      <th>4</th>\n",
       "      <td>0.939217</td>\n",
       "    </tr>\n",
       "    <tr>\n",
       "      <th>5</th>\n",
       "      <td>0.908808</td>\n",
       "    </tr>\n",
       "    <tr>\n",
       "      <th>6</th>\n",
       "      <td>0.926451</td>\n",
       "    </tr>\n",
       "    <tr>\n",
       "      <th>7</th>\n",
       "      <td>0.917490</td>\n",
       "    </tr>\n",
       "    <tr>\n",
       "      <th>8</th>\n",
       "      <td>0.944368</td>\n",
       "    </tr>\n",
       "    <tr>\n",
       "      <th>9</th>\n",
       "      <td>0.924041</td>\n",
       "    </tr>\n",
       "    <tr>\n",
       "      <th>10</th>\n",
       "      <td>0.928746</td>\n",
       "    </tr>\n",
       "    <tr>\n",
       "      <th>11</th>\n",
       "      <td>0.916443</td>\n",
       "    </tr>\n",
       "    <tr>\n",
       "      <th>12</th>\n",
       "      <td>0.919614</td>\n",
       "    </tr>\n",
       "    <tr>\n",
       "      <th>13</th>\n",
       "      <td>0.933767</td>\n",
       "    </tr>\n",
       "    <tr>\n",
       "      <th>14</th>\n",
       "      <td>0.924766</td>\n",
       "    </tr>\n",
       "  </tbody>\n",
       "</table>\n",
       "</div>"
      ],
      "text/plain": [
       "    gb_score\n",
       "0   0.911278\n",
       "1   0.938055\n",
       "2   0.934433\n",
       "3   0.896948\n",
       "4   0.939217\n",
       "5   0.908808\n",
       "6   0.926451\n",
       "7   0.917490\n",
       "8   0.944368\n",
       "9   0.924041\n",
       "10  0.928746\n",
       "11  0.916443\n",
       "12  0.919614\n",
       "13  0.933767\n",
       "14  0.924766"
      ]
     },
     "execution_count": 44,
     "metadata": {},
     "output_type": "execute_result"
    }
   ],
   "source": [
    "g"
   ]
  },
  {
   "cell_type": "code",
   "execution_count": null,
   "id": "f86f607e",
   "metadata": {},
   "outputs": [],
   "source": []
  },
  {
   "cell_type": "code",
   "execution_count": 45,
   "id": "e1027e8f",
   "metadata": {},
   "outputs": [],
   "source": [
    "df1 = evaluate_model(stacking_regressor1, X, y)"
   ]
  },
  {
   "cell_type": "code",
   "execution_count": 46,
   "id": "a3fb7a0e",
   "metadata": {},
   "outputs": [
    {
     "data": {
      "text/html": [
       "<div>\n",
       "<style scoped>\n",
       "    .dataframe tbody tr th:only-of-type {\n",
       "        vertical-align: middle;\n",
       "    }\n",
       "\n",
       "    .dataframe tbody tr th {\n",
       "        vertical-align: top;\n",
       "    }\n",
       "\n",
       "    .dataframe thead th {\n",
       "        text-align: right;\n",
       "    }\n",
       "</style>\n",
       "<table border=\"1\" class=\"dataframe\">\n",
       "  <thead>\n",
       "    <tr style=\"text-align: right;\">\n",
       "      <th></th>\n",
       "      <th>fit_time</th>\n",
       "      <th>score_time</th>\n",
       "      <th>test_score</th>\n",
       "    </tr>\n",
       "  </thead>\n",
       "  <tbody>\n",
       "    <tr>\n",
       "      <th>0</th>\n",
       "      <td>12.195860</td>\n",
       "      <td>0.009428</td>\n",
       "      <td>0.929655</td>\n",
       "    </tr>\n",
       "    <tr>\n",
       "      <th>1</th>\n",
       "      <td>12.164871</td>\n",
       "      <td>0.008604</td>\n",
       "      <td>0.947243</td>\n",
       "    </tr>\n",
       "    <tr>\n",
       "      <th>2</th>\n",
       "      <td>12.296514</td>\n",
       "      <td>0.006890</td>\n",
       "      <td>0.943513</td>\n",
       "    </tr>\n",
       "    <tr>\n",
       "      <th>3</th>\n",
       "      <td>11.802094</td>\n",
       "      <td>0.010074</td>\n",
       "      <td>0.910384</td>\n",
       "    </tr>\n",
       "    <tr>\n",
       "      <th>4</th>\n",
       "      <td>12.478370</td>\n",
       "      <td>0.006757</td>\n",
       "      <td>0.951178</td>\n",
       "    </tr>\n",
       "    <tr>\n",
       "      <th>5</th>\n",
       "      <td>11.940661</td>\n",
       "      <td>0.007172</td>\n",
       "      <td>0.925782</td>\n",
       "    </tr>\n",
       "    <tr>\n",
       "      <th>6</th>\n",
       "      <td>13.685141</td>\n",
       "      <td>0.009314</td>\n",
       "      <td>0.931796</td>\n",
       "    </tr>\n",
       "    <tr>\n",
       "      <th>7</th>\n",
       "      <td>11.708071</td>\n",
       "      <td>0.011135</td>\n",
       "      <td>0.932813</td>\n",
       "    </tr>\n",
       "    <tr>\n",
       "      <th>8</th>\n",
       "      <td>10.994438</td>\n",
       "      <td>0.024673</td>\n",
       "      <td>0.948536</td>\n",
       "    </tr>\n",
       "    <tr>\n",
       "      <th>9</th>\n",
       "      <td>11.128459</td>\n",
       "      <td>0.005256</td>\n",
       "      <td>0.937194</td>\n",
       "    </tr>\n",
       "    <tr>\n",
       "      <th>10</th>\n",
       "      <td>10.824335</td>\n",
       "      <td>0.011924</td>\n",
       "      <td>0.939435</td>\n",
       "    </tr>\n",
       "    <tr>\n",
       "      <th>11</th>\n",
       "      <td>9.760984</td>\n",
       "      <td>0.004180</td>\n",
       "      <td>0.915301</td>\n",
       "    </tr>\n",
       "    <tr>\n",
       "      <th>12</th>\n",
       "      <td>10.926385</td>\n",
       "      <td>0.013429</td>\n",
       "      <td>0.929896</td>\n",
       "    </tr>\n",
       "    <tr>\n",
       "      <th>13</th>\n",
       "      <td>10.912902</td>\n",
       "      <td>0.004620</td>\n",
       "      <td>0.943714</td>\n",
       "    </tr>\n",
       "    <tr>\n",
       "      <th>14</th>\n",
       "      <td>9.394270</td>\n",
       "      <td>0.004931</td>\n",
       "      <td>0.935172</td>\n",
       "    </tr>\n",
       "  </tbody>\n",
       "</table>\n",
       "</div>"
      ],
      "text/plain": [
       "     fit_time  score_time  test_score\n",
       "0   12.195860    0.009428    0.929655\n",
       "1   12.164871    0.008604    0.947243\n",
       "2   12.296514    0.006890    0.943513\n",
       "3   11.802094    0.010074    0.910384\n",
       "4   12.478370    0.006757    0.951178\n",
       "5   11.940661    0.007172    0.925782\n",
       "6   13.685141    0.009314    0.931796\n",
       "7   11.708071    0.011135    0.932813\n",
       "8   10.994438    0.024673    0.948536\n",
       "9   11.128459    0.005256    0.937194\n",
       "10  10.824335    0.011924    0.939435\n",
       "11   9.760984    0.004180    0.915301\n",
       "12  10.926385    0.013429    0.929896\n",
       "13  10.912902    0.004620    0.943714\n",
       "14   9.394270    0.004931    0.935172"
      ]
     },
     "execution_count": 46,
     "metadata": {},
     "output_type": "execute_result"
    }
   ],
   "source": [
    "df1"
   ]
  },
  {
   "cell_type": "code",
   "execution_count": 47,
   "id": "fda12814",
   "metadata": {},
   "outputs": [],
   "source": [
    "df1 = df1[['test_score']].rename(columns={'test_score':'test_score_1'})"
   ]
  },
  {
   "cell_type": "code",
   "execution_count": 48,
   "id": "16d7d88d",
   "metadata": {},
   "outputs": [
    {
     "data": {
      "text/html": [
       "<div>\n",
       "<style scoped>\n",
       "    .dataframe tbody tr th:only-of-type {\n",
       "        vertical-align: middle;\n",
       "    }\n",
       "\n",
       "    .dataframe tbody tr th {\n",
       "        vertical-align: top;\n",
       "    }\n",
       "\n",
       "    .dataframe thead th {\n",
       "        text-align: right;\n",
       "    }\n",
       "</style>\n",
       "<table border=\"1\" class=\"dataframe\">\n",
       "  <thead>\n",
       "    <tr style=\"text-align: right;\">\n",
       "      <th></th>\n",
       "      <th>test_score_1</th>\n",
       "    </tr>\n",
       "  </thead>\n",
       "  <tbody>\n",
       "    <tr>\n",
       "      <th>0</th>\n",
       "      <td>0.929655</td>\n",
       "    </tr>\n",
       "    <tr>\n",
       "      <th>1</th>\n",
       "      <td>0.947243</td>\n",
       "    </tr>\n",
       "    <tr>\n",
       "      <th>2</th>\n",
       "      <td>0.943513</td>\n",
       "    </tr>\n",
       "    <tr>\n",
       "      <th>3</th>\n",
       "      <td>0.910384</td>\n",
       "    </tr>\n",
       "    <tr>\n",
       "      <th>4</th>\n",
       "      <td>0.951178</td>\n",
       "    </tr>\n",
       "    <tr>\n",
       "      <th>5</th>\n",
       "      <td>0.925782</td>\n",
       "    </tr>\n",
       "    <tr>\n",
       "      <th>6</th>\n",
       "      <td>0.931796</td>\n",
       "    </tr>\n",
       "    <tr>\n",
       "      <th>7</th>\n",
       "      <td>0.932813</td>\n",
       "    </tr>\n",
       "    <tr>\n",
       "      <th>8</th>\n",
       "      <td>0.948536</td>\n",
       "    </tr>\n",
       "    <tr>\n",
       "      <th>9</th>\n",
       "      <td>0.937194</td>\n",
       "    </tr>\n",
       "    <tr>\n",
       "      <th>10</th>\n",
       "      <td>0.939435</td>\n",
       "    </tr>\n",
       "    <tr>\n",
       "      <th>11</th>\n",
       "      <td>0.915301</td>\n",
       "    </tr>\n",
       "    <tr>\n",
       "      <th>12</th>\n",
       "      <td>0.929896</td>\n",
       "    </tr>\n",
       "    <tr>\n",
       "      <th>13</th>\n",
       "      <td>0.943714</td>\n",
       "    </tr>\n",
       "    <tr>\n",
       "      <th>14</th>\n",
       "      <td>0.935172</td>\n",
       "    </tr>\n",
       "  </tbody>\n",
       "</table>\n",
       "</div>"
      ],
      "text/plain": [
       "    test_score_1\n",
       "0       0.929655\n",
       "1       0.947243\n",
       "2       0.943513\n",
       "3       0.910384\n",
       "4       0.951178\n",
       "5       0.925782\n",
       "6       0.931796\n",
       "7       0.932813\n",
       "8       0.948536\n",
       "9       0.937194\n",
       "10      0.939435\n",
       "11      0.915301\n",
       "12      0.929896\n",
       "13      0.943714\n",
       "14      0.935172"
      ]
     },
     "execution_count": 48,
     "metadata": {},
     "output_type": "execute_result"
    }
   ],
   "source": [
    "df1"
   ]
  },
  {
   "cell_type": "code",
   "execution_count": null,
   "id": "93c4eafb",
   "metadata": {},
   "outputs": [],
   "source": []
  },
  {
   "cell_type": "code",
   "execution_count": 49,
   "id": "55cc59d0",
   "metadata": {},
   "outputs": [],
   "source": [
    "df2 = evaluate_model(stacking_regressor2, X, y)"
   ]
  },
  {
   "cell_type": "code",
   "execution_count": 50,
   "id": "d7cafb36",
   "metadata": {},
   "outputs": [
    {
     "data": {
      "text/html": [
       "<div>\n",
       "<style scoped>\n",
       "    .dataframe tbody tr th:only-of-type {\n",
       "        vertical-align: middle;\n",
       "    }\n",
       "\n",
       "    .dataframe tbody tr th {\n",
       "        vertical-align: top;\n",
       "    }\n",
       "\n",
       "    .dataframe thead th {\n",
       "        text-align: right;\n",
       "    }\n",
       "</style>\n",
       "<table border=\"1\" class=\"dataframe\">\n",
       "  <thead>\n",
       "    <tr style=\"text-align: right;\">\n",
       "      <th></th>\n",
       "      <th>fit_time</th>\n",
       "      <th>score_time</th>\n",
       "      <th>test_score</th>\n",
       "    </tr>\n",
       "  </thead>\n",
       "  <tbody>\n",
       "    <tr>\n",
       "      <th>0</th>\n",
       "      <td>11.005521</td>\n",
       "      <td>0.007030</td>\n",
       "      <td>0.929655</td>\n",
       "    </tr>\n",
       "    <tr>\n",
       "      <th>1</th>\n",
       "      <td>11.863029</td>\n",
       "      <td>0.005384</td>\n",
       "      <td>0.947243</td>\n",
       "    </tr>\n",
       "    <tr>\n",
       "      <th>2</th>\n",
       "      <td>11.568304</td>\n",
       "      <td>0.010411</td>\n",
       "      <td>0.943513</td>\n",
       "    </tr>\n",
       "    <tr>\n",
       "      <th>3</th>\n",
       "      <td>10.836069</td>\n",
       "      <td>0.006812</td>\n",
       "      <td>0.910384</td>\n",
       "    </tr>\n",
       "    <tr>\n",
       "      <th>4</th>\n",
       "      <td>10.912638</td>\n",
       "      <td>0.005213</td>\n",
       "      <td>0.951178</td>\n",
       "    </tr>\n",
       "    <tr>\n",
       "      <th>5</th>\n",
       "      <td>11.528972</td>\n",
       "      <td>0.014170</td>\n",
       "      <td>0.925782</td>\n",
       "    </tr>\n",
       "    <tr>\n",
       "      <th>6</th>\n",
       "      <td>11.837805</td>\n",
       "      <td>0.006936</td>\n",
       "      <td>0.931796</td>\n",
       "    </tr>\n",
       "    <tr>\n",
       "      <th>7</th>\n",
       "      <td>11.707841</td>\n",
       "      <td>0.006320</td>\n",
       "      <td>0.932813</td>\n",
       "    </tr>\n",
       "    <tr>\n",
       "      <th>8</th>\n",
       "      <td>13.720052</td>\n",
       "      <td>0.004899</td>\n",
       "      <td>0.948536</td>\n",
       "    </tr>\n",
       "    <tr>\n",
       "      <th>9</th>\n",
       "      <td>13.277202</td>\n",
       "      <td>0.018403</td>\n",
       "      <td>0.937194</td>\n",
       "    </tr>\n",
       "    <tr>\n",
       "      <th>10</th>\n",
       "      <td>13.461975</td>\n",
       "      <td>0.005875</td>\n",
       "      <td>0.939435</td>\n",
       "    </tr>\n",
       "    <tr>\n",
       "      <th>11</th>\n",
       "      <td>13.117820</td>\n",
       "      <td>0.005069</td>\n",
       "      <td>0.915301</td>\n",
       "    </tr>\n",
       "    <tr>\n",
       "      <th>12</th>\n",
       "      <td>13.189179</td>\n",
       "      <td>0.004495</td>\n",
       "      <td>0.929896</td>\n",
       "    </tr>\n",
       "    <tr>\n",
       "      <th>13</th>\n",
       "      <td>13.045121</td>\n",
       "      <td>0.004328</td>\n",
       "      <td>0.943714</td>\n",
       "    </tr>\n",
       "    <tr>\n",
       "      <th>14</th>\n",
       "      <td>13.012542</td>\n",
       "      <td>0.003421</td>\n",
       "      <td>0.935172</td>\n",
       "    </tr>\n",
       "  </tbody>\n",
       "</table>\n",
       "</div>"
      ],
      "text/plain": [
       "     fit_time  score_time  test_score\n",
       "0   11.005521    0.007030    0.929655\n",
       "1   11.863029    0.005384    0.947243\n",
       "2   11.568304    0.010411    0.943513\n",
       "3   10.836069    0.006812    0.910384\n",
       "4   10.912638    0.005213    0.951178\n",
       "5   11.528972    0.014170    0.925782\n",
       "6   11.837805    0.006936    0.931796\n",
       "7   11.707841    0.006320    0.932813\n",
       "8   13.720052    0.004899    0.948536\n",
       "9   13.277202    0.018403    0.937194\n",
       "10  13.461975    0.005875    0.939435\n",
       "11  13.117820    0.005069    0.915301\n",
       "12  13.189179    0.004495    0.929896\n",
       "13  13.045121    0.004328    0.943714\n",
       "14  13.012542    0.003421    0.935172"
      ]
     },
     "execution_count": 50,
     "metadata": {},
     "output_type": "execute_result"
    }
   ],
   "source": [
    "df2"
   ]
  },
  {
   "cell_type": "code",
   "execution_count": 51,
   "id": "599bff57",
   "metadata": {},
   "outputs": [],
   "source": [
    "df2 = df2[['test_score']].rename(columns={'test_score':'test_score_2'})"
   ]
  },
  {
   "cell_type": "code",
   "execution_count": 52,
   "id": "c13b5f93",
   "metadata": {},
   "outputs": [
    {
     "data": {
      "text/html": [
       "<div>\n",
       "<style scoped>\n",
       "    .dataframe tbody tr th:only-of-type {\n",
       "        vertical-align: middle;\n",
       "    }\n",
       "\n",
       "    .dataframe tbody tr th {\n",
       "        vertical-align: top;\n",
       "    }\n",
       "\n",
       "    .dataframe thead th {\n",
       "        text-align: right;\n",
       "    }\n",
       "</style>\n",
       "<table border=\"1\" class=\"dataframe\">\n",
       "  <thead>\n",
       "    <tr style=\"text-align: right;\">\n",
       "      <th></th>\n",
       "      <th>test_score_2</th>\n",
       "    </tr>\n",
       "  </thead>\n",
       "  <tbody>\n",
       "    <tr>\n",
       "      <th>0</th>\n",
       "      <td>0.929655</td>\n",
       "    </tr>\n",
       "    <tr>\n",
       "      <th>1</th>\n",
       "      <td>0.947243</td>\n",
       "    </tr>\n",
       "    <tr>\n",
       "      <th>2</th>\n",
       "      <td>0.943513</td>\n",
       "    </tr>\n",
       "    <tr>\n",
       "      <th>3</th>\n",
       "      <td>0.910384</td>\n",
       "    </tr>\n",
       "    <tr>\n",
       "      <th>4</th>\n",
       "      <td>0.951178</td>\n",
       "    </tr>\n",
       "    <tr>\n",
       "      <th>5</th>\n",
       "      <td>0.925782</td>\n",
       "    </tr>\n",
       "    <tr>\n",
       "      <th>6</th>\n",
       "      <td>0.931796</td>\n",
       "    </tr>\n",
       "    <tr>\n",
       "      <th>7</th>\n",
       "      <td>0.932813</td>\n",
       "    </tr>\n",
       "    <tr>\n",
       "      <th>8</th>\n",
       "      <td>0.948536</td>\n",
       "    </tr>\n",
       "    <tr>\n",
       "      <th>9</th>\n",
       "      <td>0.937194</td>\n",
       "    </tr>\n",
       "    <tr>\n",
       "      <th>10</th>\n",
       "      <td>0.939435</td>\n",
       "    </tr>\n",
       "    <tr>\n",
       "      <th>11</th>\n",
       "      <td>0.915301</td>\n",
       "    </tr>\n",
       "    <tr>\n",
       "      <th>12</th>\n",
       "      <td>0.929896</td>\n",
       "    </tr>\n",
       "    <tr>\n",
       "      <th>13</th>\n",
       "      <td>0.943714</td>\n",
       "    </tr>\n",
       "    <tr>\n",
       "      <th>14</th>\n",
       "      <td>0.935172</td>\n",
       "    </tr>\n",
       "  </tbody>\n",
       "</table>\n",
       "</div>"
      ],
      "text/plain": [
       "    test_score_2\n",
       "0       0.929655\n",
       "1       0.947243\n",
       "2       0.943513\n",
       "3       0.910384\n",
       "4       0.951178\n",
       "5       0.925782\n",
       "6       0.931796\n",
       "7       0.932813\n",
       "8       0.948536\n",
       "9       0.937194\n",
       "10      0.939435\n",
       "11      0.915301\n",
       "12      0.929896\n",
       "13      0.943714\n",
       "14      0.935172"
      ]
     },
     "execution_count": 52,
     "metadata": {},
     "output_type": "execute_result"
    }
   ],
   "source": [
    "df2"
   ]
  },
  {
   "cell_type": "code",
   "execution_count": null,
   "id": "3133b197",
   "metadata": {},
   "outputs": [],
   "source": []
  },
  {
   "cell_type": "code",
   "execution_count": 53,
   "id": "3aad68d0",
   "metadata": {},
   "outputs": [],
   "source": [
    "df3 = evaluate_model(stacking_regressor3, X, y)"
   ]
  },
  {
   "cell_type": "code",
   "execution_count": 54,
   "id": "7de056d2",
   "metadata": {},
   "outputs": [
    {
     "data": {
      "text/html": [
       "<div>\n",
       "<style scoped>\n",
       "    .dataframe tbody tr th:only-of-type {\n",
       "        vertical-align: middle;\n",
       "    }\n",
       "\n",
       "    .dataframe tbody tr th {\n",
       "        vertical-align: top;\n",
       "    }\n",
       "\n",
       "    .dataframe thead th {\n",
       "        text-align: right;\n",
       "    }\n",
       "</style>\n",
       "<table border=\"1\" class=\"dataframe\">\n",
       "  <thead>\n",
       "    <tr style=\"text-align: right;\">\n",
       "      <th></th>\n",
       "      <th>fit_time</th>\n",
       "      <th>score_time</th>\n",
       "      <th>test_score</th>\n",
       "    </tr>\n",
       "  </thead>\n",
       "  <tbody>\n",
       "    <tr>\n",
       "      <th>0</th>\n",
       "      <td>11.611137</td>\n",
       "      <td>0.010260</td>\n",
       "      <td>0.929655</td>\n",
       "    </tr>\n",
       "    <tr>\n",
       "      <th>1</th>\n",
       "      <td>11.529823</td>\n",
       "      <td>0.010561</td>\n",
       "      <td>0.947243</td>\n",
       "    </tr>\n",
       "    <tr>\n",
       "      <th>2</th>\n",
       "      <td>11.414523</td>\n",
       "      <td>0.017625</td>\n",
       "      <td>0.943513</td>\n",
       "    </tr>\n",
       "    <tr>\n",
       "      <th>3</th>\n",
       "      <td>13.531156</td>\n",
       "      <td>0.008239</td>\n",
       "      <td>0.910384</td>\n",
       "    </tr>\n",
       "    <tr>\n",
       "      <th>4</th>\n",
       "      <td>11.351115</td>\n",
       "      <td>0.011884</td>\n",
       "      <td>0.951178</td>\n",
       "    </tr>\n",
       "    <tr>\n",
       "      <th>5</th>\n",
       "      <td>11.594858</td>\n",
       "      <td>0.011451</td>\n",
       "      <td>0.925782</td>\n",
       "    </tr>\n",
       "    <tr>\n",
       "      <th>6</th>\n",
       "      <td>11.346429</td>\n",
       "      <td>0.007629</td>\n",
       "      <td>0.931796</td>\n",
       "    </tr>\n",
       "    <tr>\n",
       "      <th>7</th>\n",
       "      <td>11.541958</td>\n",
       "      <td>0.008749</td>\n",
       "      <td>0.932813</td>\n",
       "    </tr>\n",
       "    <tr>\n",
       "      <th>8</th>\n",
       "      <td>11.448381</td>\n",
       "      <td>0.003979</td>\n",
       "      <td>0.948536</td>\n",
       "    </tr>\n",
       "    <tr>\n",
       "      <th>9</th>\n",
       "      <td>11.374058</td>\n",
       "      <td>0.008435</td>\n",
       "      <td>0.937194</td>\n",
       "    </tr>\n",
       "    <tr>\n",
       "      <th>10</th>\n",
       "      <td>11.364714</td>\n",
       "      <td>0.007197</td>\n",
       "      <td>0.939435</td>\n",
       "    </tr>\n",
       "    <tr>\n",
       "      <th>11</th>\n",
       "      <td>11.279605</td>\n",
       "      <td>0.005295</td>\n",
       "      <td>0.915301</td>\n",
       "    </tr>\n",
       "    <tr>\n",
       "      <th>12</th>\n",
       "      <td>11.318030</td>\n",
       "      <td>0.003433</td>\n",
       "      <td>0.929896</td>\n",
       "    </tr>\n",
       "    <tr>\n",
       "      <th>13</th>\n",
       "      <td>11.208373</td>\n",
       "      <td>0.004788</td>\n",
       "      <td>0.943714</td>\n",
       "    </tr>\n",
       "    <tr>\n",
       "      <th>14</th>\n",
       "      <td>11.236250</td>\n",
       "      <td>0.003920</td>\n",
       "      <td>0.935172</td>\n",
       "    </tr>\n",
       "  </tbody>\n",
       "</table>\n",
       "</div>"
      ],
      "text/plain": [
       "     fit_time  score_time  test_score\n",
       "0   11.611137    0.010260    0.929655\n",
       "1   11.529823    0.010561    0.947243\n",
       "2   11.414523    0.017625    0.943513\n",
       "3   13.531156    0.008239    0.910384\n",
       "4   11.351115    0.011884    0.951178\n",
       "5   11.594858    0.011451    0.925782\n",
       "6   11.346429    0.007629    0.931796\n",
       "7   11.541958    0.008749    0.932813\n",
       "8   11.448381    0.003979    0.948536\n",
       "9   11.374058    0.008435    0.937194\n",
       "10  11.364714    0.007197    0.939435\n",
       "11  11.279605    0.005295    0.915301\n",
       "12  11.318030    0.003433    0.929896\n",
       "13  11.208373    0.004788    0.943714\n",
       "14  11.236250    0.003920    0.935172"
      ]
     },
     "execution_count": 54,
     "metadata": {},
     "output_type": "execute_result"
    }
   ],
   "source": [
    "df3"
   ]
  },
  {
   "cell_type": "code",
   "execution_count": 55,
   "id": "1f2edad0",
   "metadata": {},
   "outputs": [],
   "source": [
    "df3 = df3[['test_score']].rename(columns={'test_score':'test_score_3'})"
   ]
  },
  {
   "cell_type": "code",
   "execution_count": 56,
   "id": "6c1b0014",
   "metadata": {},
   "outputs": [
    {
     "data": {
      "text/html": [
       "<div>\n",
       "<style scoped>\n",
       "    .dataframe tbody tr th:only-of-type {\n",
       "        vertical-align: middle;\n",
       "    }\n",
       "\n",
       "    .dataframe tbody tr th {\n",
       "        vertical-align: top;\n",
       "    }\n",
       "\n",
       "    .dataframe thead th {\n",
       "        text-align: right;\n",
       "    }\n",
       "</style>\n",
       "<table border=\"1\" class=\"dataframe\">\n",
       "  <thead>\n",
       "    <tr style=\"text-align: right;\">\n",
       "      <th></th>\n",
       "      <th>test_score_3</th>\n",
       "    </tr>\n",
       "  </thead>\n",
       "  <tbody>\n",
       "    <tr>\n",
       "      <th>0</th>\n",
       "      <td>0.929655</td>\n",
       "    </tr>\n",
       "    <tr>\n",
       "      <th>1</th>\n",
       "      <td>0.947243</td>\n",
       "    </tr>\n",
       "    <tr>\n",
       "      <th>2</th>\n",
       "      <td>0.943513</td>\n",
       "    </tr>\n",
       "    <tr>\n",
       "      <th>3</th>\n",
       "      <td>0.910384</td>\n",
       "    </tr>\n",
       "    <tr>\n",
       "      <th>4</th>\n",
       "      <td>0.951178</td>\n",
       "    </tr>\n",
       "    <tr>\n",
       "      <th>5</th>\n",
       "      <td>0.925782</td>\n",
       "    </tr>\n",
       "    <tr>\n",
       "      <th>6</th>\n",
       "      <td>0.931796</td>\n",
       "    </tr>\n",
       "    <tr>\n",
       "      <th>7</th>\n",
       "      <td>0.932813</td>\n",
       "    </tr>\n",
       "    <tr>\n",
       "      <th>8</th>\n",
       "      <td>0.948536</td>\n",
       "    </tr>\n",
       "    <tr>\n",
       "      <th>9</th>\n",
       "      <td>0.937194</td>\n",
       "    </tr>\n",
       "    <tr>\n",
       "      <th>10</th>\n",
       "      <td>0.939435</td>\n",
       "    </tr>\n",
       "    <tr>\n",
       "      <th>11</th>\n",
       "      <td>0.915301</td>\n",
       "    </tr>\n",
       "    <tr>\n",
       "      <th>12</th>\n",
       "      <td>0.929896</td>\n",
       "    </tr>\n",
       "    <tr>\n",
       "      <th>13</th>\n",
       "      <td>0.943714</td>\n",
       "    </tr>\n",
       "    <tr>\n",
       "      <th>14</th>\n",
       "      <td>0.935172</td>\n",
       "    </tr>\n",
       "  </tbody>\n",
       "</table>\n",
       "</div>"
      ],
      "text/plain": [
       "    test_score_3\n",
       "0       0.929655\n",
       "1       0.947243\n",
       "2       0.943513\n",
       "3       0.910384\n",
       "4       0.951178\n",
       "5       0.925782\n",
       "6       0.931796\n",
       "7       0.932813\n",
       "8       0.948536\n",
       "9       0.937194\n",
       "10      0.939435\n",
       "11      0.915301\n",
       "12      0.929896\n",
       "13      0.943714\n",
       "14      0.935172"
      ]
     },
     "execution_count": 56,
     "metadata": {},
     "output_type": "execute_result"
    }
   ],
   "source": [
    "df3"
   ]
  },
  {
   "cell_type": "code",
   "execution_count": null,
   "id": "ad69e8b9",
   "metadata": {},
   "outputs": [],
   "source": []
  },
  {
   "cell_type": "code",
   "execution_count": 57,
   "id": "37c24042",
   "metadata": {},
   "outputs": [],
   "source": [
    "df4 = evaluate_model(stacking_regressor4, X, y)"
   ]
  },
  {
   "cell_type": "code",
   "execution_count": 58,
   "id": "3c6849e0",
   "metadata": {},
   "outputs": [
    {
     "data": {
      "text/html": [
       "<div>\n",
       "<style scoped>\n",
       "    .dataframe tbody tr th:only-of-type {\n",
       "        vertical-align: middle;\n",
       "    }\n",
       "\n",
       "    .dataframe tbody tr th {\n",
       "        vertical-align: top;\n",
       "    }\n",
       "\n",
       "    .dataframe thead th {\n",
       "        text-align: right;\n",
       "    }\n",
       "</style>\n",
       "<table border=\"1\" class=\"dataframe\">\n",
       "  <thead>\n",
       "    <tr style=\"text-align: right;\">\n",
       "      <th></th>\n",
       "      <th>fit_time</th>\n",
       "      <th>score_time</th>\n",
       "      <th>test_score</th>\n",
       "    </tr>\n",
       "  </thead>\n",
       "  <tbody>\n",
       "    <tr>\n",
       "      <th>0</th>\n",
       "      <td>13.241216</td>\n",
       "      <td>0.010227</td>\n",
       "      <td>0.930282</td>\n",
       "    </tr>\n",
       "    <tr>\n",
       "      <th>1</th>\n",
       "      <td>12.702614</td>\n",
       "      <td>0.011034</td>\n",
       "      <td>0.946361</td>\n",
       "    </tr>\n",
       "    <tr>\n",
       "      <th>2</th>\n",
       "      <td>12.450101</td>\n",
       "      <td>0.019895</td>\n",
       "      <td>0.938985</td>\n",
       "    </tr>\n",
       "    <tr>\n",
       "      <th>3</th>\n",
       "      <td>12.270227</td>\n",
       "      <td>0.020622</td>\n",
       "      <td>0.908425</td>\n",
       "    </tr>\n",
       "    <tr>\n",
       "      <th>4</th>\n",
       "      <td>12.383892</td>\n",
       "      <td>0.008264</td>\n",
       "      <td>0.952033</td>\n",
       "    </tr>\n",
       "    <tr>\n",
       "      <th>5</th>\n",
       "      <td>12.458958</td>\n",
       "      <td>0.020475</td>\n",
       "      <td>0.929325</td>\n",
       "    </tr>\n",
       "    <tr>\n",
       "      <th>6</th>\n",
       "      <td>13.013943</td>\n",
       "      <td>0.013006</td>\n",
       "      <td>0.932299</td>\n",
       "    </tr>\n",
       "    <tr>\n",
       "      <th>7</th>\n",
       "      <td>12.756338</td>\n",
       "      <td>0.007829</td>\n",
       "      <td>0.928175</td>\n",
       "    </tr>\n",
       "    <tr>\n",
       "      <th>8</th>\n",
       "      <td>10.688427</td>\n",
       "      <td>0.008625</td>\n",
       "      <td>0.948570</td>\n",
       "    </tr>\n",
       "    <tr>\n",
       "      <th>9</th>\n",
       "      <td>10.788021</td>\n",
       "      <td>0.007361</td>\n",
       "      <td>0.935603</td>\n",
       "    </tr>\n",
       "    <tr>\n",
       "      <th>10</th>\n",
       "      <td>10.843873</td>\n",
       "      <td>0.005813</td>\n",
       "      <td>0.941879</td>\n",
       "    </tr>\n",
       "    <tr>\n",
       "      <th>11</th>\n",
       "      <td>10.817379</td>\n",
       "      <td>0.005400</td>\n",
       "      <td>0.918193</td>\n",
       "    </tr>\n",
       "    <tr>\n",
       "      <th>12</th>\n",
       "      <td>10.621945</td>\n",
       "      <td>0.004499</td>\n",
       "      <td>0.933862</td>\n",
       "    </tr>\n",
       "    <tr>\n",
       "      <th>13</th>\n",
       "      <td>10.581904</td>\n",
       "      <td>0.004650</td>\n",
       "      <td>0.943220</td>\n",
       "    </tr>\n",
       "    <tr>\n",
       "      <th>14</th>\n",
       "      <td>10.577155</td>\n",
       "      <td>0.003379</td>\n",
       "      <td>0.932578</td>\n",
       "    </tr>\n",
       "  </tbody>\n",
       "</table>\n",
       "</div>"
      ],
      "text/plain": [
       "     fit_time  score_time  test_score\n",
       "0   13.241216    0.010227    0.930282\n",
       "1   12.702614    0.011034    0.946361\n",
       "2   12.450101    0.019895    0.938985\n",
       "3   12.270227    0.020622    0.908425\n",
       "4   12.383892    0.008264    0.952033\n",
       "5   12.458958    0.020475    0.929325\n",
       "6   13.013943    0.013006    0.932299\n",
       "7   12.756338    0.007829    0.928175\n",
       "8   10.688427    0.008625    0.948570\n",
       "9   10.788021    0.007361    0.935603\n",
       "10  10.843873    0.005813    0.941879\n",
       "11  10.817379    0.005400    0.918193\n",
       "12  10.621945    0.004499    0.933862\n",
       "13  10.581904    0.004650    0.943220\n",
       "14  10.577155    0.003379    0.932578"
      ]
     },
     "execution_count": 58,
     "metadata": {},
     "output_type": "execute_result"
    }
   ],
   "source": [
    "df4"
   ]
  },
  {
   "cell_type": "code",
   "execution_count": 59,
   "id": "53abede9",
   "metadata": {},
   "outputs": [],
   "source": [
    "df4 = df4[['test_score']].rename(columns={'test_score':'test_score_4'})"
   ]
  },
  {
   "cell_type": "code",
   "execution_count": 60,
   "id": "5dbeeb11",
   "metadata": {},
   "outputs": [
    {
     "data": {
      "text/html": [
       "<div>\n",
       "<style scoped>\n",
       "    .dataframe tbody tr th:only-of-type {\n",
       "        vertical-align: middle;\n",
       "    }\n",
       "\n",
       "    .dataframe tbody tr th {\n",
       "        vertical-align: top;\n",
       "    }\n",
       "\n",
       "    .dataframe thead th {\n",
       "        text-align: right;\n",
       "    }\n",
       "</style>\n",
       "<table border=\"1\" class=\"dataframe\">\n",
       "  <thead>\n",
       "    <tr style=\"text-align: right;\">\n",
       "      <th></th>\n",
       "      <th>test_score_4</th>\n",
       "    </tr>\n",
       "  </thead>\n",
       "  <tbody>\n",
       "    <tr>\n",
       "      <th>0</th>\n",
       "      <td>0.930282</td>\n",
       "    </tr>\n",
       "    <tr>\n",
       "      <th>1</th>\n",
       "      <td>0.946361</td>\n",
       "    </tr>\n",
       "    <tr>\n",
       "      <th>2</th>\n",
       "      <td>0.938985</td>\n",
       "    </tr>\n",
       "    <tr>\n",
       "      <th>3</th>\n",
       "      <td>0.908425</td>\n",
       "    </tr>\n",
       "    <tr>\n",
       "      <th>4</th>\n",
       "      <td>0.952033</td>\n",
       "    </tr>\n",
       "    <tr>\n",
       "      <th>5</th>\n",
       "      <td>0.929325</td>\n",
       "    </tr>\n",
       "    <tr>\n",
       "      <th>6</th>\n",
       "      <td>0.932299</td>\n",
       "    </tr>\n",
       "    <tr>\n",
       "      <th>7</th>\n",
       "      <td>0.928175</td>\n",
       "    </tr>\n",
       "    <tr>\n",
       "      <th>8</th>\n",
       "      <td>0.948570</td>\n",
       "    </tr>\n",
       "    <tr>\n",
       "      <th>9</th>\n",
       "      <td>0.935603</td>\n",
       "    </tr>\n",
       "    <tr>\n",
       "      <th>10</th>\n",
       "      <td>0.941879</td>\n",
       "    </tr>\n",
       "    <tr>\n",
       "      <th>11</th>\n",
       "      <td>0.918193</td>\n",
       "    </tr>\n",
       "    <tr>\n",
       "      <th>12</th>\n",
       "      <td>0.933862</td>\n",
       "    </tr>\n",
       "    <tr>\n",
       "      <th>13</th>\n",
       "      <td>0.943220</td>\n",
       "    </tr>\n",
       "    <tr>\n",
       "      <th>14</th>\n",
       "      <td>0.932578</td>\n",
       "    </tr>\n",
       "  </tbody>\n",
       "</table>\n",
       "</div>"
      ],
      "text/plain": [
       "    test_score_4\n",
       "0       0.930282\n",
       "1       0.946361\n",
       "2       0.938985\n",
       "3       0.908425\n",
       "4       0.952033\n",
       "5       0.929325\n",
       "6       0.932299\n",
       "7       0.928175\n",
       "8       0.948570\n",
       "9       0.935603\n",
       "10      0.941879\n",
       "11      0.918193\n",
       "12      0.933862\n",
       "13      0.943220\n",
       "14      0.932578"
      ]
     },
     "execution_count": 60,
     "metadata": {},
     "output_type": "execute_result"
    }
   ],
   "source": [
    "df4"
   ]
  },
  {
   "cell_type": "code",
   "execution_count": null,
   "id": "91a2511e",
   "metadata": {},
   "outputs": [],
   "source": []
  },
  {
   "cell_type": "code",
   "execution_count": 61,
   "id": "7683ece9",
   "metadata": {},
   "outputs": [],
   "source": [
    "df5 = evaluate_model(stacking_regressor5, X, y)"
   ]
  },
  {
   "cell_type": "code",
   "execution_count": 62,
   "id": "1a8c7d33",
   "metadata": {},
   "outputs": [
    {
     "data": {
      "text/html": [
       "<div>\n",
       "<style scoped>\n",
       "    .dataframe tbody tr th:only-of-type {\n",
       "        vertical-align: middle;\n",
       "    }\n",
       "\n",
       "    .dataframe tbody tr th {\n",
       "        vertical-align: top;\n",
       "    }\n",
       "\n",
       "    .dataframe thead th {\n",
       "        text-align: right;\n",
       "    }\n",
       "</style>\n",
       "<table border=\"1\" class=\"dataframe\">\n",
       "  <thead>\n",
       "    <tr style=\"text-align: right;\">\n",
       "      <th></th>\n",
       "      <th>fit_time</th>\n",
       "      <th>score_time</th>\n",
       "      <th>test_score</th>\n",
       "    </tr>\n",
       "  </thead>\n",
       "  <tbody>\n",
       "    <tr>\n",
       "      <th>0</th>\n",
       "      <td>11.930479</td>\n",
       "      <td>0.007337</td>\n",
       "      <td>0.930282</td>\n",
       "    </tr>\n",
       "    <tr>\n",
       "      <th>1</th>\n",
       "      <td>11.496202</td>\n",
       "      <td>0.010461</td>\n",
       "      <td>0.946361</td>\n",
       "    </tr>\n",
       "    <tr>\n",
       "      <th>2</th>\n",
       "      <td>11.376078</td>\n",
       "      <td>0.015897</td>\n",
       "      <td>0.938985</td>\n",
       "    </tr>\n",
       "    <tr>\n",
       "      <th>3</th>\n",
       "      <td>11.168020</td>\n",
       "      <td>0.010460</td>\n",
       "      <td>0.908425</td>\n",
       "    </tr>\n",
       "    <tr>\n",
       "      <th>4</th>\n",
       "      <td>11.464942</td>\n",
       "      <td>0.009902</td>\n",
       "      <td>0.952033</td>\n",
       "    </tr>\n",
       "    <tr>\n",
       "      <th>5</th>\n",
       "      <td>11.653533</td>\n",
       "      <td>0.008877</td>\n",
       "      <td>0.929325</td>\n",
       "    </tr>\n",
       "    <tr>\n",
       "      <th>6</th>\n",
       "      <td>11.247543</td>\n",
       "      <td>0.017991</td>\n",
       "      <td>0.932299</td>\n",
       "    </tr>\n",
       "    <tr>\n",
       "      <th>7</th>\n",
       "      <td>11.324624</td>\n",
       "      <td>0.014796</td>\n",
       "      <td>0.928175</td>\n",
       "    </tr>\n",
       "    <tr>\n",
       "      <th>8</th>\n",
       "      <td>9.931679</td>\n",
       "      <td>0.008422</td>\n",
       "      <td>0.948570</td>\n",
       "    </tr>\n",
       "    <tr>\n",
       "      <th>9</th>\n",
       "      <td>10.889916</td>\n",
       "      <td>0.003400</td>\n",
       "      <td>0.935603</td>\n",
       "    </tr>\n",
       "    <tr>\n",
       "      <th>10</th>\n",
       "      <td>10.097650</td>\n",
       "      <td>0.004144</td>\n",
       "      <td>0.941879</td>\n",
       "    </tr>\n",
       "    <tr>\n",
       "      <th>11</th>\n",
       "      <td>10.052936</td>\n",
       "      <td>0.005777</td>\n",
       "      <td>0.918193</td>\n",
       "    </tr>\n",
       "    <tr>\n",
       "      <th>12</th>\n",
       "      <td>9.962010</td>\n",
       "      <td>0.005004</td>\n",
       "      <td>0.933862</td>\n",
       "    </tr>\n",
       "    <tr>\n",
       "      <th>13</th>\n",
       "      <td>9.909933</td>\n",
       "      <td>0.008074</td>\n",
       "      <td>0.943220</td>\n",
       "    </tr>\n",
       "    <tr>\n",
       "      <th>14</th>\n",
       "      <td>9.880954</td>\n",
       "      <td>0.003710</td>\n",
       "      <td>0.932578</td>\n",
       "    </tr>\n",
       "  </tbody>\n",
       "</table>\n",
       "</div>"
      ],
      "text/plain": [
       "     fit_time  score_time  test_score\n",
       "0   11.930479    0.007337    0.930282\n",
       "1   11.496202    0.010461    0.946361\n",
       "2   11.376078    0.015897    0.938985\n",
       "3   11.168020    0.010460    0.908425\n",
       "4   11.464942    0.009902    0.952033\n",
       "5   11.653533    0.008877    0.929325\n",
       "6   11.247543    0.017991    0.932299\n",
       "7   11.324624    0.014796    0.928175\n",
       "8    9.931679    0.008422    0.948570\n",
       "9   10.889916    0.003400    0.935603\n",
       "10  10.097650    0.004144    0.941879\n",
       "11  10.052936    0.005777    0.918193\n",
       "12   9.962010    0.005004    0.933862\n",
       "13   9.909933    0.008074    0.943220\n",
       "14   9.880954    0.003710    0.932578"
      ]
     },
     "execution_count": 62,
     "metadata": {},
     "output_type": "execute_result"
    }
   ],
   "source": [
    "df5"
   ]
  },
  {
   "cell_type": "code",
   "execution_count": 63,
   "id": "80334a5c",
   "metadata": {},
   "outputs": [],
   "source": [
    "df5 = df5[['test_score']].rename(columns={'test_score':'test_score_5'})"
   ]
  },
  {
   "cell_type": "code",
   "execution_count": 64,
   "id": "41d0f719",
   "metadata": {},
   "outputs": [
    {
     "data": {
      "text/html": [
       "<div>\n",
       "<style scoped>\n",
       "    .dataframe tbody tr th:only-of-type {\n",
       "        vertical-align: middle;\n",
       "    }\n",
       "\n",
       "    .dataframe tbody tr th {\n",
       "        vertical-align: top;\n",
       "    }\n",
       "\n",
       "    .dataframe thead th {\n",
       "        text-align: right;\n",
       "    }\n",
       "</style>\n",
       "<table border=\"1\" class=\"dataframe\">\n",
       "  <thead>\n",
       "    <tr style=\"text-align: right;\">\n",
       "      <th></th>\n",
       "      <th>test_score_5</th>\n",
       "    </tr>\n",
       "  </thead>\n",
       "  <tbody>\n",
       "    <tr>\n",
       "      <th>0</th>\n",
       "      <td>0.930282</td>\n",
       "    </tr>\n",
       "    <tr>\n",
       "      <th>1</th>\n",
       "      <td>0.946361</td>\n",
       "    </tr>\n",
       "    <tr>\n",
       "      <th>2</th>\n",
       "      <td>0.938985</td>\n",
       "    </tr>\n",
       "    <tr>\n",
       "      <th>3</th>\n",
       "      <td>0.908425</td>\n",
       "    </tr>\n",
       "    <tr>\n",
       "      <th>4</th>\n",
       "      <td>0.952033</td>\n",
       "    </tr>\n",
       "    <tr>\n",
       "      <th>5</th>\n",
       "      <td>0.929325</td>\n",
       "    </tr>\n",
       "    <tr>\n",
       "      <th>6</th>\n",
       "      <td>0.932299</td>\n",
       "    </tr>\n",
       "    <tr>\n",
       "      <th>7</th>\n",
       "      <td>0.928175</td>\n",
       "    </tr>\n",
       "    <tr>\n",
       "      <th>8</th>\n",
       "      <td>0.948570</td>\n",
       "    </tr>\n",
       "    <tr>\n",
       "      <th>9</th>\n",
       "      <td>0.935603</td>\n",
       "    </tr>\n",
       "    <tr>\n",
       "      <th>10</th>\n",
       "      <td>0.941879</td>\n",
       "    </tr>\n",
       "    <tr>\n",
       "      <th>11</th>\n",
       "      <td>0.918193</td>\n",
       "    </tr>\n",
       "    <tr>\n",
       "      <th>12</th>\n",
       "      <td>0.933862</td>\n",
       "    </tr>\n",
       "    <tr>\n",
       "      <th>13</th>\n",
       "      <td>0.943220</td>\n",
       "    </tr>\n",
       "    <tr>\n",
       "      <th>14</th>\n",
       "      <td>0.932578</td>\n",
       "    </tr>\n",
       "  </tbody>\n",
       "</table>\n",
       "</div>"
      ],
      "text/plain": [
       "    test_score_5\n",
       "0       0.930282\n",
       "1       0.946361\n",
       "2       0.938985\n",
       "3       0.908425\n",
       "4       0.952033\n",
       "5       0.929325\n",
       "6       0.932299\n",
       "7       0.928175\n",
       "8       0.948570\n",
       "9       0.935603\n",
       "10      0.941879\n",
       "11      0.918193\n",
       "12      0.933862\n",
       "13      0.943220\n",
       "14      0.932578"
      ]
     },
     "execution_count": 64,
     "metadata": {},
     "output_type": "execute_result"
    }
   ],
   "source": [
    "df5"
   ]
  },
  {
   "cell_type": "code",
   "execution_count": null,
   "id": "dcd72db4",
   "metadata": {},
   "outputs": [],
   "source": []
  },
  {
   "cell_type": "code",
   "execution_count": null,
   "id": "17b7990f",
   "metadata": {},
   "outputs": [],
   "source": [
    "df6 = evaluate_model(stacking_regressor6, X, y)"
   ]
  },
  {
   "cell_type": "code",
   "execution_count": null,
   "id": "17017cf3",
   "metadata": {},
   "outputs": [],
   "source": [
    "df6"
   ]
  },
  {
   "cell_type": "code",
   "execution_count": null,
   "id": "aadcd868",
   "metadata": {},
   "outputs": [],
   "source": [
    "df6 = df6[['test_score']].rename(columns={'test_score':'test_score_6'})"
   ]
  },
  {
   "cell_type": "code",
   "execution_count": null,
   "id": "7ecb2e93",
   "metadata": {},
   "outputs": [],
   "source": [
    "df6"
   ]
  },
  {
   "cell_type": "code",
   "execution_count": null,
   "id": "072a36d6",
   "metadata": {},
   "outputs": [],
   "source": []
  },
  {
   "cell_type": "code",
   "execution_count": null,
   "id": "027388b6",
   "metadata": {},
   "outputs": [],
   "source": [
    "combo = pd.concat([cat, g, df1, df2, df3, df4, df5, df6], axis=1)"
   ]
  },
  {
   "cell_type": "code",
   "execution_count": null,
   "id": "c16da7fe",
   "metadata": {},
   "outputs": [],
   "source": [
    "combo"
   ]
  },
  {
   "cell_type": "code",
   "execution_count": null,
   "id": "14ed5e6b",
   "metadata": {},
   "outputs": [],
   "source": [
    "sns.boxplot(data=combo, showmeans=True);"
   ]
  },
  {
   "cell_type": "code",
   "execution_count": null,
   "id": "95db25e8",
   "metadata": {},
   "outputs": [],
   "source": [
    "sns.boxplot(data=combo, showmeans=True);"
   ]
  },
  {
   "cell_type": "code",
   "execution_count": null,
   "id": "f869dadc",
   "metadata": {},
   "outputs": [],
   "source": [
    "combo.describe()"
   ]
  },
  {
   "cell_type": "code",
   "execution_count": null,
   "id": "03b3ff6f",
   "metadata": {},
   "outputs": [],
   "source": []
  }
 ],
 "metadata": {
  "hide_input": false,
  "kernelspec": {
   "display_name": "Python 3 (ipykernel)",
   "language": "python",
   "name": "python3"
  },
  "language_info": {
   "codemirror_mode": {
    "name": "ipython",
    "version": 3
   },
   "file_extension": ".py",
   "mimetype": "text/x-python",
   "name": "python",
   "nbconvert_exporter": "python",
   "pygments_lexer": "ipython3",
   "version": "3.8.8"
  },
  "varInspector": {
   "cols": {
    "lenName": 16,
    "lenType": 16,
    "lenVar": 40
   },
   "kernels_config": {
    "python": {
     "delete_cmd_postfix": "",
     "delete_cmd_prefix": "del ",
     "library": "var_list.py",
     "varRefreshCmd": "print(var_dic_list())"
    },
    "r": {
     "delete_cmd_postfix": ") ",
     "delete_cmd_prefix": "rm(",
     "library": "var_list.r",
     "varRefreshCmd": "cat(var_dic_list()) "
    }
   },
   "types_to_exclude": [
    "module",
    "function",
    "builtin_function_or_method",
    "instance",
    "_Feature"
   ],
   "window_display": false
  }
 },
 "nbformat": 4,
 "nbformat_minor": 5
}
