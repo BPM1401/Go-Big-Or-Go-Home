{
 "cells": [
  {
   "cell_type": "code",
   "execution_count": 1,
   "id": "2c74da32",
   "metadata": {},
   "outputs": [],
   "source": [
    "import numpy as np\n",
    "import pandas as pd\n",
    "pd.set_option(\"display.max_columns\", 300)\n",
    "pd.set_option(\"display.max_rows\", 100)\n",
    "pd.set_option(\"max_colwidth\", 200)\n",
    "\n",
    "from sklearn import preprocessing\n",
    "from sklearn.ensemble import StackingRegressor\n",
    "from sklearn.ensemble import GradientBoostingRegressor\n",
    "from catboost import CatBoostRegressor\n",
    "from xgboost import XGBRegressor\n",
    "from sklearn.linear_model import Ridge\n",
    "from sklearn.linear_model import Lasso\n",
    "\n",
    "from sklearn.model_selection import train_test_split\n",
    "from sklearn.metrics import mean_squared_error, r2_score, mean_absolute_error\n",
    "\n",
    "from sklearn.model_selection import cross_val_score, cross_validate\n",
    "from sklearn.model_selection import RepeatedKFold\n",
    "\n",
    "import seaborn as sns\n",
    "import matplotlib.pyplot as plt"
   ]
  },
  {
   "cell_type": "code",
   "execution_count": 2,
   "id": "53baea6f",
   "metadata": {},
   "outputs": [
    {
     "data": {
      "text/plain": [
       "(2580, 81)"
      ]
     },
     "execution_count": 2,
     "metadata": {},
     "output_type": "execute_result"
    }
   ],
   "source": [
    "ordinal = pd.read_csv('../../Data/BaseOrdinal.csv')\n",
    "ordinal.shape"
   ]
  },
  {
   "cell_type": "code",
   "execution_count": 3,
   "id": "ea691224",
   "metadata": {},
   "outputs": [
    {
     "data": {
      "text/plain": [
       "(2580, 80)"
      ]
     },
     "execution_count": 3,
     "metadata": {},
     "output_type": "execute_result"
    }
   ],
   "source": [
    "ordinal = ordinal.drop(['Unnamed: 0'], axis=1)\n",
    "ordinal.shape"
   ]
  },
  {
   "cell_type": "code",
   "execution_count": 4,
   "id": "f1f7b517",
   "metadata": {},
   "outputs": [],
   "source": [
    "X = ordinal.drop(['SalePrice'], axis=1)\n",
    "y = ordinal.SalePrice"
   ]
  },
  {
   "cell_type": "code",
   "execution_count": 5,
   "id": "92eb7564",
   "metadata": {},
   "outputs": [],
   "source": [
    "cb = CatBoostRegressor(random_state=1, verbose=False)\n",
    "ridge = Ridge()\n",
    "lasso = Lasso()"
   ]
  },
  {
   "cell_type": "code",
   "execution_count": null,
   "id": "e58e509f",
   "metadata": {},
   "outputs": [],
   "source": []
  },
  {
   "cell_type": "code",
   "execution_count": 6,
   "id": "ef426d35",
   "metadata": {},
   "outputs": [],
   "source": [
    "# Use cross-validation to evaluate model performance\n",
    "\n",
    "def evaluate_model(model, X, y):\n",
    "    \n",
    "    # define the evaluation procedure\n",
    "    cv = RepeatedKFold(n_splits=5, n_repeats=3, random_state=1)\n",
    "    \n",
    "    # evaluate the model and collect the results\n",
    "    scores = cross_validate(model, X, y, cv=cv, n_jobs=-1)\n",
    "    \n",
    "    #scores = cross_validate(model, X, y, scoring=scoring, \n",
    "    #                              cv=cv, n_jobs=-1) \n",
    "    \n",
    "    df = pd.DataFrame(scores)\n",
    "    \n",
    "    return df"
   ]
  },
  {
   "cell_type": "code",
   "execution_count": null,
   "id": "50374d80",
   "metadata": {},
   "outputs": [],
   "source": []
  },
  {
   "cell_type": "code",
   "execution_count": 7,
   "id": "c7195241",
   "metadata": {},
   "outputs": [],
   "source": [
    "cat = evaluate_model(cb, X, y)"
   ]
  },
  {
   "cell_type": "code",
   "execution_count": 8,
   "id": "bfc73659",
   "metadata": {},
   "outputs": [],
   "source": [
    "#cat"
   ]
  },
  {
   "cell_type": "code",
   "execution_count": 9,
   "id": "3e5d4630",
   "metadata": {},
   "outputs": [],
   "source": [
    "cat = cat[['test_score']].rename(columns={'test_score':'cat_score'})"
   ]
  },
  {
   "cell_type": "code",
   "execution_count": 10,
   "id": "1cb952da",
   "metadata": {},
   "outputs": [
    {
     "data": {
      "text/html": [
       "<div>\n",
       "<style scoped>\n",
       "    .dataframe tbody tr th:only-of-type {\n",
       "        vertical-align: middle;\n",
       "    }\n",
       "\n",
       "    .dataframe tbody tr th {\n",
       "        vertical-align: top;\n",
       "    }\n",
       "\n",
       "    .dataframe thead th {\n",
       "        text-align: right;\n",
       "    }\n",
       "</style>\n",
       "<table border=\"1\" class=\"dataframe\">\n",
       "  <thead>\n",
       "    <tr style=\"text-align: right;\">\n",
       "      <th></th>\n",
       "      <th>cat_score</th>\n",
       "    </tr>\n",
       "  </thead>\n",
       "  <tbody>\n",
       "    <tr>\n",
       "      <th>0</th>\n",
       "      <td>0.920566</td>\n",
       "    </tr>\n",
       "    <tr>\n",
       "      <th>1</th>\n",
       "      <td>0.899820</td>\n",
       "    </tr>\n",
       "    <tr>\n",
       "      <th>2</th>\n",
       "      <td>0.938045</td>\n",
       "    </tr>\n",
       "    <tr>\n",
       "      <th>3</th>\n",
       "      <td>0.933383</td>\n",
       "    </tr>\n",
       "    <tr>\n",
       "      <th>4</th>\n",
       "      <td>0.949361</td>\n",
       "    </tr>\n",
       "    <tr>\n",
       "      <th>5</th>\n",
       "      <td>0.934502</td>\n",
       "    </tr>\n",
       "    <tr>\n",
       "      <th>6</th>\n",
       "      <td>0.944618</td>\n",
       "    </tr>\n",
       "    <tr>\n",
       "      <th>7</th>\n",
       "      <td>0.924652</td>\n",
       "    </tr>\n",
       "    <tr>\n",
       "      <th>8</th>\n",
       "      <td>0.947610</td>\n",
       "    </tr>\n",
       "    <tr>\n",
       "      <th>9</th>\n",
       "      <td>0.883656</td>\n",
       "    </tr>\n",
       "    <tr>\n",
       "      <th>10</th>\n",
       "      <td>0.942856</td>\n",
       "    </tr>\n",
       "    <tr>\n",
       "      <th>11</th>\n",
       "      <td>0.921890</td>\n",
       "    </tr>\n",
       "    <tr>\n",
       "      <th>12</th>\n",
       "      <td>0.868666</td>\n",
       "    </tr>\n",
       "    <tr>\n",
       "      <th>13</th>\n",
       "      <td>0.940871</td>\n",
       "    </tr>\n",
       "    <tr>\n",
       "      <th>14</th>\n",
       "      <td>0.945284</td>\n",
       "    </tr>\n",
       "  </tbody>\n",
       "</table>\n",
       "</div>"
      ],
      "text/plain": [
       "    cat_score\n",
       "0    0.920566\n",
       "1    0.899820\n",
       "2    0.938045\n",
       "3    0.933383\n",
       "4    0.949361\n",
       "5    0.934502\n",
       "6    0.944618\n",
       "7    0.924652\n",
       "8    0.947610\n",
       "9    0.883656\n",
       "10   0.942856\n",
       "11   0.921890\n",
       "12   0.868666\n",
       "13   0.940871\n",
       "14   0.945284"
      ]
     },
     "execution_count": 10,
     "metadata": {},
     "output_type": "execute_result"
    }
   ],
   "source": [
    "cat"
   ]
  },
  {
   "cell_type": "code",
   "execution_count": null,
   "id": "f479f28f",
   "metadata": {},
   "outputs": [],
   "source": []
  },
  {
   "cell_type": "code",
   "execution_count": 11,
   "id": "444432d8",
   "metadata": {},
   "outputs": [],
   "source": [
    "r = evaluate_model(ridge, X, y)"
   ]
  },
  {
   "cell_type": "code",
   "execution_count": 12,
   "id": "1d68b2ce",
   "metadata": {},
   "outputs": [],
   "source": [
    "r = r[['test_score']].rename(columns={'test_score':'r_score'})"
   ]
  },
  {
   "cell_type": "code",
   "execution_count": 13,
   "id": "f6e60c50",
   "metadata": {},
   "outputs": [
    {
     "data": {
      "text/html": [
       "<div>\n",
       "<style scoped>\n",
       "    .dataframe tbody tr th:only-of-type {\n",
       "        vertical-align: middle;\n",
       "    }\n",
       "\n",
       "    .dataframe tbody tr th {\n",
       "        vertical-align: top;\n",
       "    }\n",
       "\n",
       "    .dataframe thead th {\n",
       "        text-align: right;\n",
       "    }\n",
       "</style>\n",
       "<table border=\"1\" class=\"dataframe\">\n",
       "  <thead>\n",
       "    <tr style=\"text-align: right;\">\n",
       "      <th></th>\n",
       "      <th>r_score</th>\n",
       "    </tr>\n",
       "  </thead>\n",
       "  <tbody>\n",
       "    <tr>\n",
       "      <th>0</th>\n",
       "      <td>0.884882</td>\n",
       "    </tr>\n",
       "    <tr>\n",
       "      <th>1</th>\n",
       "      <td>0.820268</td>\n",
       "    </tr>\n",
       "    <tr>\n",
       "      <th>2</th>\n",
       "      <td>0.878579</td>\n",
       "    </tr>\n",
       "    <tr>\n",
       "      <th>3</th>\n",
       "      <td>0.894912</td>\n",
       "    </tr>\n",
       "    <tr>\n",
       "      <th>4</th>\n",
       "      <td>0.909873</td>\n",
       "    </tr>\n",
       "    <tr>\n",
       "      <th>5</th>\n",
       "      <td>0.884696</td>\n",
       "    </tr>\n",
       "    <tr>\n",
       "      <th>6</th>\n",
       "      <td>0.894489</td>\n",
       "    </tr>\n",
       "    <tr>\n",
       "      <th>7</th>\n",
       "      <td>0.888569</td>\n",
       "    </tr>\n",
       "    <tr>\n",
       "      <th>8</th>\n",
       "      <td>0.906913</td>\n",
       "    </tr>\n",
       "    <tr>\n",
       "      <th>9</th>\n",
       "      <td>0.830368</td>\n",
       "    </tr>\n",
       "    <tr>\n",
       "      <th>10</th>\n",
       "      <td>0.909045</td>\n",
       "    </tr>\n",
       "    <tr>\n",
       "      <th>11</th>\n",
       "      <td>0.881766</td>\n",
       "    </tr>\n",
       "    <tr>\n",
       "      <th>12</th>\n",
       "      <td>0.780889</td>\n",
       "    </tr>\n",
       "    <tr>\n",
       "      <th>13</th>\n",
       "      <td>0.892592</td>\n",
       "    </tr>\n",
       "    <tr>\n",
       "      <th>14</th>\n",
       "      <td>0.897056</td>\n",
       "    </tr>\n",
       "  </tbody>\n",
       "</table>\n",
       "</div>"
      ],
      "text/plain": [
       "     r_score\n",
       "0   0.884882\n",
       "1   0.820268\n",
       "2   0.878579\n",
       "3   0.894912\n",
       "4   0.909873\n",
       "5   0.884696\n",
       "6   0.894489\n",
       "7   0.888569\n",
       "8   0.906913\n",
       "9   0.830368\n",
       "10  0.909045\n",
       "11  0.881766\n",
       "12  0.780889\n",
       "13  0.892592\n",
       "14  0.897056"
      ]
     },
     "execution_count": 13,
     "metadata": {},
     "output_type": "execute_result"
    }
   ],
   "source": [
    "r"
   ]
  },
  {
   "cell_type": "code",
   "execution_count": null,
   "id": "c8cb6324",
   "metadata": {},
   "outputs": [],
   "source": []
  },
  {
   "cell_type": "code",
   "execution_count": 14,
   "id": "0e4b0eeb",
   "metadata": {},
   "outputs": [],
   "source": [
    "l = evaluate_model(lasso, X, y)"
   ]
  },
  {
   "cell_type": "code",
   "execution_count": 15,
   "id": "1bc61b9a",
   "metadata": {},
   "outputs": [],
   "source": [
    "l = l[['test_score']].rename(columns={'test_score':'l_score'})"
   ]
  },
  {
   "cell_type": "code",
   "execution_count": 16,
   "id": "e33a81bd",
   "metadata": {},
   "outputs": [
    {
     "data": {
      "text/html": [
       "<div>\n",
       "<style scoped>\n",
       "    .dataframe tbody tr th:only-of-type {\n",
       "        vertical-align: middle;\n",
       "    }\n",
       "\n",
       "    .dataframe tbody tr th {\n",
       "        vertical-align: top;\n",
       "    }\n",
       "\n",
       "    .dataframe thead th {\n",
       "        text-align: right;\n",
       "    }\n",
       "</style>\n",
       "<table border=\"1\" class=\"dataframe\">\n",
       "  <thead>\n",
       "    <tr style=\"text-align: right;\">\n",
       "      <th></th>\n",
       "      <th>l_score</th>\n",
       "    </tr>\n",
       "  </thead>\n",
       "  <tbody>\n",
       "    <tr>\n",
       "      <th>0</th>\n",
       "      <td>0.884248</td>\n",
       "    </tr>\n",
       "    <tr>\n",
       "      <th>1</th>\n",
       "      <td>0.820005</td>\n",
       "    </tr>\n",
       "    <tr>\n",
       "      <th>2</th>\n",
       "      <td>0.878481</td>\n",
       "    </tr>\n",
       "    <tr>\n",
       "      <th>3</th>\n",
       "      <td>0.894871</td>\n",
       "    </tr>\n",
       "    <tr>\n",
       "      <th>4</th>\n",
       "      <td>0.908929</td>\n",
       "    </tr>\n",
       "    <tr>\n",
       "      <th>5</th>\n",
       "      <td>0.884602</td>\n",
       "    </tr>\n",
       "    <tr>\n",
       "      <th>6</th>\n",
       "      <td>0.894312</td>\n",
       "    </tr>\n",
       "    <tr>\n",
       "      <th>7</th>\n",
       "      <td>0.887901</td>\n",
       "    </tr>\n",
       "    <tr>\n",
       "      <th>8</th>\n",
       "      <td>0.907123</td>\n",
       "    </tr>\n",
       "    <tr>\n",
       "      <th>9</th>\n",
       "      <td>0.830368</td>\n",
       "    </tr>\n",
       "    <tr>\n",
       "      <th>10</th>\n",
       "      <td>0.908336</td>\n",
       "    </tr>\n",
       "    <tr>\n",
       "      <th>11</th>\n",
       "      <td>0.881873</td>\n",
       "    </tr>\n",
       "    <tr>\n",
       "      <th>12</th>\n",
       "      <td>0.779403</td>\n",
       "    </tr>\n",
       "    <tr>\n",
       "      <th>13</th>\n",
       "      <td>0.892396</td>\n",
       "    </tr>\n",
       "    <tr>\n",
       "      <th>14</th>\n",
       "      <td>0.896995</td>\n",
       "    </tr>\n",
       "  </tbody>\n",
       "</table>\n",
       "</div>"
      ],
      "text/plain": [
       "     l_score\n",
       "0   0.884248\n",
       "1   0.820005\n",
       "2   0.878481\n",
       "3   0.894871\n",
       "4   0.908929\n",
       "5   0.884602\n",
       "6   0.894312\n",
       "7   0.887901\n",
       "8   0.907123\n",
       "9   0.830368\n",
       "10  0.908336\n",
       "11  0.881873\n",
       "12  0.779403\n",
       "13  0.892396\n",
       "14  0.896995"
      ]
     },
     "execution_count": 16,
     "metadata": {},
     "output_type": "execute_result"
    }
   ],
   "source": [
    "l"
   ]
  },
  {
   "cell_type": "code",
   "execution_count": null,
   "id": "062716d8",
   "metadata": {},
   "outputs": [],
   "source": []
  },
  {
   "cell_type": "code",
   "execution_count": 17,
   "id": "027388b6",
   "metadata": {},
   "outputs": [],
   "source": [
    "combo = pd.concat([cat, r, l], axis=1)"
   ]
  },
  {
   "cell_type": "code",
   "execution_count": 18,
   "id": "c16da7fe",
   "metadata": {},
   "outputs": [
    {
     "data": {
      "text/html": [
       "<div>\n",
       "<style scoped>\n",
       "    .dataframe tbody tr th:only-of-type {\n",
       "        vertical-align: middle;\n",
       "    }\n",
       "\n",
       "    .dataframe tbody tr th {\n",
       "        vertical-align: top;\n",
       "    }\n",
       "\n",
       "    .dataframe thead th {\n",
       "        text-align: right;\n",
       "    }\n",
       "</style>\n",
       "<table border=\"1\" class=\"dataframe\">\n",
       "  <thead>\n",
       "    <tr style=\"text-align: right;\">\n",
       "      <th></th>\n",
       "      <th>cat_score</th>\n",
       "      <th>r_score</th>\n",
       "      <th>l_score</th>\n",
       "    </tr>\n",
       "  </thead>\n",
       "  <tbody>\n",
       "    <tr>\n",
       "      <th>0</th>\n",
       "      <td>0.920566</td>\n",
       "      <td>0.884882</td>\n",
       "      <td>0.884248</td>\n",
       "    </tr>\n",
       "    <tr>\n",
       "      <th>1</th>\n",
       "      <td>0.899820</td>\n",
       "      <td>0.820268</td>\n",
       "      <td>0.820005</td>\n",
       "    </tr>\n",
       "    <tr>\n",
       "      <th>2</th>\n",
       "      <td>0.938045</td>\n",
       "      <td>0.878579</td>\n",
       "      <td>0.878481</td>\n",
       "    </tr>\n",
       "    <tr>\n",
       "      <th>3</th>\n",
       "      <td>0.933383</td>\n",
       "      <td>0.894912</td>\n",
       "      <td>0.894871</td>\n",
       "    </tr>\n",
       "    <tr>\n",
       "      <th>4</th>\n",
       "      <td>0.949361</td>\n",
       "      <td>0.909873</td>\n",
       "      <td>0.908929</td>\n",
       "    </tr>\n",
       "    <tr>\n",
       "      <th>5</th>\n",
       "      <td>0.934502</td>\n",
       "      <td>0.884696</td>\n",
       "      <td>0.884602</td>\n",
       "    </tr>\n",
       "    <tr>\n",
       "      <th>6</th>\n",
       "      <td>0.944618</td>\n",
       "      <td>0.894489</td>\n",
       "      <td>0.894312</td>\n",
       "    </tr>\n",
       "    <tr>\n",
       "      <th>7</th>\n",
       "      <td>0.924652</td>\n",
       "      <td>0.888569</td>\n",
       "      <td>0.887901</td>\n",
       "    </tr>\n",
       "    <tr>\n",
       "      <th>8</th>\n",
       "      <td>0.947610</td>\n",
       "      <td>0.906913</td>\n",
       "      <td>0.907123</td>\n",
       "    </tr>\n",
       "    <tr>\n",
       "      <th>9</th>\n",
       "      <td>0.883656</td>\n",
       "      <td>0.830368</td>\n",
       "      <td>0.830368</td>\n",
       "    </tr>\n",
       "    <tr>\n",
       "      <th>10</th>\n",
       "      <td>0.942856</td>\n",
       "      <td>0.909045</td>\n",
       "      <td>0.908336</td>\n",
       "    </tr>\n",
       "    <tr>\n",
       "      <th>11</th>\n",
       "      <td>0.921890</td>\n",
       "      <td>0.881766</td>\n",
       "      <td>0.881873</td>\n",
       "    </tr>\n",
       "    <tr>\n",
       "      <th>12</th>\n",
       "      <td>0.868666</td>\n",
       "      <td>0.780889</td>\n",
       "      <td>0.779403</td>\n",
       "    </tr>\n",
       "    <tr>\n",
       "      <th>13</th>\n",
       "      <td>0.940871</td>\n",
       "      <td>0.892592</td>\n",
       "      <td>0.892396</td>\n",
       "    </tr>\n",
       "    <tr>\n",
       "      <th>14</th>\n",
       "      <td>0.945284</td>\n",
       "      <td>0.897056</td>\n",
       "      <td>0.896995</td>\n",
       "    </tr>\n",
       "  </tbody>\n",
       "</table>\n",
       "</div>"
      ],
      "text/plain": [
       "    cat_score   r_score   l_score\n",
       "0    0.920566  0.884882  0.884248\n",
       "1    0.899820  0.820268  0.820005\n",
       "2    0.938045  0.878579  0.878481\n",
       "3    0.933383  0.894912  0.894871\n",
       "4    0.949361  0.909873  0.908929\n",
       "5    0.934502  0.884696  0.884602\n",
       "6    0.944618  0.894489  0.894312\n",
       "7    0.924652  0.888569  0.887901\n",
       "8    0.947610  0.906913  0.907123\n",
       "9    0.883656  0.830368  0.830368\n",
       "10   0.942856  0.909045  0.908336\n",
       "11   0.921890  0.881766  0.881873\n",
       "12   0.868666  0.780889  0.779403\n",
       "13   0.940871  0.892592  0.892396\n",
       "14   0.945284  0.897056  0.896995"
      ]
     },
     "execution_count": 18,
     "metadata": {},
     "output_type": "execute_result"
    }
   ],
   "source": [
    "combo"
   ]
  },
  {
   "cell_type": "code",
   "execution_count": 19,
   "id": "14ed5e6b",
   "metadata": {},
   "outputs": [
    {
     "data": {
      "image/png": "[encoded data removed]",
      "text/plain": [
       "<Figure size 432x288 with 1 Axes>"
      ]
     },
     "metadata": {
      "needs_background": "light"
     },
     "output_type": "display_data"
    }
   ],
   "source": [
    "sns.boxplot(data=combo, showmeans=True);"
   ]
  },
  {
   "cell_type": "code",
   "execution_count": 20,
   "id": "f869dadc",
   "metadata": {},
   "outputs": [
    {
     "data": {
      "text/html": [
       "<div>\n",
       "<style scoped>\n",
       "    .dataframe tbody tr th:only-of-type {\n",
       "        vertical-align: middle;\n",
       "    }\n",
       "\n",
       "    .dataframe tbody tr th {\n",
       "        vertical-align: top;\n",
       "    }\n",
       "\n",
       "    .dataframe thead th {\n",
       "        text-align: right;\n",
       "    }\n",
       "</style>\n",
       "<table border=\"1\" class=\"dataframe\">\n",
       "  <thead>\n",
       "    <tr style=\"text-align: right;\">\n",
       "      <th></th>\n",
       "      <th>cat_score</th>\n",
       "      <th>r_score</th>\n",
       "      <th>l_score</th>\n",
       "    </tr>\n",
       "  </thead>\n",
       "  <tbody>\n",
       "    <tr>\n",
       "      <th>count</th>\n",
       "      <td>15.000000</td>\n",
       "      <td>15.000000</td>\n",
       "      <td>15.000000</td>\n",
       "    </tr>\n",
       "    <tr>\n",
       "      <th>mean</th>\n",
       "      <td>0.926385</td>\n",
       "      <td>0.876993</td>\n",
       "      <td>0.876656</td>\n",
       "    </tr>\n",
       "    <tr>\n",
       "      <th>std</th>\n",
       "      <td>0.024378</td>\n",
       "      <td>0.037018</td>\n",
       "      <td>0.037193</td>\n",
       "    </tr>\n",
       "    <tr>\n",
       "      <th>min</th>\n",
       "      <td>0.868666</td>\n",
       "      <td>0.780889</td>\n",
       "      <td>0.779403</td>\n",
       "    </tr>\n",
       "    <tr>\n",
       "      <th>25%</th>\n",
       "      <td>0.921228</td>\n",
       "      <td>0.880172</td>\n",
       "      <td>0.880177</td>\n",
       "    </tr>\n",
       "    <tr>\n",
       "      <th>50%</th>\n",
       "      <td>0.934502</td>\n",
       "      <td>0.888569</td>\n",
       "      <td>0.887901</td>\n",
       "    </tr>\n",
       "    <tr>\n",
       "      <th>75%</th>\n",
       "      <td>0.943737</td>\n",
       "      <td>0.895984</td>\n",
       "      <td>0.895933</td>\n",
       "    </tr>\n",
       "    <tr>\n",
       "      <th>max</th>\n",
       "      <td>0.949361</td>\n",
       "      <td>0.909873</td>\n",
       "      <td>0.908929</td>\n",
       "    </tr>\n",
       "  </tbody>\n",
       "</table>\n",
       "</div>"
      ],
      "text/plain": [
       "       cat_score    r_score    l_score\n",
       "count  15.000000  15.000000  15.000000\n",
       "mean    0.926385   0.876993   0.876656\n",
       "std     0.024378   0.037018   0.037193\n",
       "min     0.868666   0.780889   0.779403\n",
       "25%     0.921228   0.880172   0.880177\n",
       "50%     0.934502   0.888569   0.887901\n",
       "75%     0.943737   0.895984   0.895933\n",
       "max     0.949361   0.909873   0.908929"
      ]
     },
     "execution_count": 20,
     "metadata": {},
     "output_type": "execute_result"
    }
   ],
   "source": [
    "combo.describe()"
   ]
  },
  {
   "cell_type": "code",
   "execution_count": null,
   "id": "03b3ff6f",
   "metadata": {},
   "outputs": [],
   "source": []
  }
 ],
 "metadata": {
  "hide_input": false,
  "kernelspec": {
   "display_name": "Python 3 (ipykernel)",
   "language": "python",
   "name": "python3"
  },
  "language_info": {
   "codemirror_mode": {
    "name": "ipython",
    "version": 3
   },
   "file_extension": ".py",
   "mimetype": "text/x-python",
   "name": "python",
   "nbconvert_exporter": "python",
   "pygments_lexer": "ipython3",
   "version": "3.8.8"
  },
  "varInspector": {
   "cols": {
    "lenName": 16,
    "lenType": 16,
    "lenVar": 40
   },
   "kernels_config": {
    "python": {
     "delete_cmd_postfix": "",
     "delete_cmd_prefix": "del ",
     "library": "var_list.py",
     "varRefreshCmd": "print(var_dic_list())"
    },
    "r": {
     "delete_cmd_postfix": ") ",
     "delete_cmd_prefix": "rm(",
     "library": "var_list.r",
     "varRefreshCmd": "cat(var_dic_list()) "
    }
   },
   "types_to_exclude": [
    "module",
    "function",
    "builtin_function_or_method",
    "instance",
    "_Feature"
   ],
   "window_display": false
  }
 },
 "nbformat": 4,
 "nbformat_minor": 5
}
