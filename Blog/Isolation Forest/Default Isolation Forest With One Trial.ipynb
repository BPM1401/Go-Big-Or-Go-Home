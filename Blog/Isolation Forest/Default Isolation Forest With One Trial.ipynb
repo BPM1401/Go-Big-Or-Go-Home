{
 "cells": [
  {
   "cell_type": "markdown",
   "id": "8949c0dd",
   "metadata": {},
   "source": [
    "## Default Isolation Forest With One Trial"
   ]
  },
  {
   "cell_type": "code",
   "execution_count": 1,
   "id": "95a79135",
   "metadata": {},
   "outputs": [],
   "source": [
    "from sklearn.ensemble import IsolationForest\n",
    "import pandas as pd\n",
    "import numpy as np\n",
    "pd.set_option(\"display.max_columns\", 300)\n",
    "import seaborn as sns"
   ]
  },
  {
   "cell_type": "code",
   "execution_count": 3,
   "id": "c6095431",
   "metadata": {},
   "outputs": [
    {
     "data": {
      "text/plain": [
       "(2580, 81)"
      ]
     },
     "execution_count": 3,
     "metadata": {},
     "output_type": "execute_result"
    }
   ],
   "source": [
    "ordinal = pd.read_csv('../Data/BaseOrdinal.csv')\n",
    "ordinal.shape"
   ]
  },
  {
   "cell_type": "code",
   "execution_count": 4,
   "id": "40d38ec8",
   "metadata": {},
   "outputs": [
    {
     "data": {
      "text/plain": [
       "(2580, 80)"
      ]
     },
     "execution_count": 4,
     "metadata": {},
     "output_type": "execute_result"
    }
   ],
   "source": [
    "ordinal = ordinal.drop(['Unnamed: 0'], axis=1)\n",
    "ordinal.shape"
   ]
  },
  {
   "cell_type": "code",
   "execution_count": 5,
   "id": "feb48b8d",
   "metadata": {},
   "outputs": [],
   "source": [
    "X = ordinal.values\n",
    "#y = ordinal.SalePrice.values"
   ]
  },
  {
   "cell_type": "code",
   "execution_count": 6,
   "id": "6cb83da7",
   "metadata": {},
   "outputs": [],
   "source": [
    "results = []\n",
    "dec_func = []\n",
    "\n",
    "for i in range(1):\n",
    "    #iso = IsolationForest(n_estimators=1000, max_samples=750, contamination=0.01).fit(X)\n",
    "    iso = IsolationForest().fit(X)\n",
    "    pred = pd.Series(iso.predict(X))\n",
    "    dec = pd.Series(iso.decision_function(X))\n",
    "    #result = pd.concat([pred], axis=1)\n",
    "    #results.append(pred)\n",
    "    #dec_func.append(dec)"
   ]
  },
  {
   "cell_type": "code",
   "execution_count": 7,
   "id": "dd363320",
   "metadata": {},
   "outputs": [],
   "source": [
    "#pred"
   ]
  },
  {
   "cell_type": "code",
   "execution_count": 8,
   "id": "d9956981",
   "metadata": {},
   "outputs": [],
   "source": [
    "#dec"
   ]
  },
  {
   "cell_type": "code",
   "execution_count": 9,
   "id": "9abb32b7",
   "metadata": {},
   "outputs": [
    {
     "data": {
      "text/html": [
       "<div>\n",
       "<style scoped>\n",
       "    .dataframe tbody tr th:only-of-type {\n",
       "        vertical-align: middle;\n",
       "    }\n",
       "\n",
       "    .dataframe tbody tr th {\n",
       "        vertical-align: top;\n",
       "    }\n",
       "\n",
       "    .dataframe thead th {\n",
       "        text-align: right;\n",
       "    }\n",
       "</style>\n",
       "<table border=\"1\" class=\"dataframe\">\n",
       "  <thead>\n",
       "    <tr style=\"text-align: right;\">\n",
       "      <th></th>\n",
       "      <th>Prediction</th>\n",
       "      <th>Decision_Function</th>\n",
       "    </tr>\n",
       "  </thead>\n",
       "  <tbody>\n",
       "    <tr>\n",
       "      <th>2425</th>\n",
       "      <td>-1</td>\n",
       "      <td>-0.094695</td>\n",
       "    </tr>\n",
       "    <tr>\n",
       "      <th>50</th>\n",
       "      <td>-1</td>\n",
       "      <td>-0.089397</td>\n",
       "    </tr>\n",
       "    <tr>\n",
       "      <th>487</th>\n",
       "      <td>-1</td>\n",
       "      <td>-0.081013</td>\n",
       "    </tr>\n",
       "    <tr>\n",
       "      <th>2513</th>\n",
       "      <td>-1</td>\n",
       "      <td>-0.079941</td>\n",
       "    </tr>\n",
       "    <tr>\n",
       "      <th>2204</th>\n",
       "      <td>-1</td>\n",
       "      <td>-0.078403</td>\n",
       "    </tr>\n",
       "    <tr>\n",
       "      <th>...</th>\n",
       "      <td>...</td>\n",
       "      <td>...</td>\n",
       "    </tr>\n",
       "    <tr>\n",
       "      <th>1647</th>\n",
       "      <td>1</td>\n",
       "      <td>0.131992</td>\n",
       "    </tr>\n",
       "    <tr>\n",
       "      <th>1962</th>\n",
       "      <td>1</td>\n",
       "      <td>0.132181</td>\n",
       "    </tr>\n",
       "    <tr>\n",
       "      <th>1588</th>\n",
       "      <td>1</td>\n",
       "      <td>0.132623</td>\n",
       "    </tr>\n",
       "    <tr>\n",
       "      <th>878</th>\n",
       "      <td>1</td>\n",
       "      <td>0.133104</td>\n",
       "    </tr>\n",
       "    <tr>\n",
       "      <th>1969</th>\n",
       "      <td>1</td>\n",
       "      <td>0.133642</td>\n",
       "    </tr>\n",
       "  </tbody>\n",
       "</table>\n",
       "<p>2580 rows × 2 columns</p>\n",
       "</div>"
      ],
      "text/plain": [
       "      Prediction  Decision_Function\n",
       "2425          -1          -0.094695\n",
       "50            -1          -0.089397\n",
       "487           -1          -0.081013\n",
       "2513          -1          -0.079941\n",
       "2204          -1          -0.078403\n",
       "...          ...                ...\n",
       "1647           1           0.131992\n",
       "1962           1           0.132181\n",
       "1588           1           0.132623\n",
       "878            1           0.133104\n",
       "1969           1           0.133642\n",
       "\n",
       "[2580 rows x 2 columns]"
      ]
     },
     "execution_count": 9,
     "metadata": {},
     "output_type": "execute_result"
    }
   ],
   "source": [
    "pred_dec = pd.DataFrame(\n",
    "    {'Prediction': pred,\n",
    "     'Decision_Function': dec\n",
    "    })\n",
    "\n",
    "#Prediction: Returns -1 for outliers and 1 for inliers.\n",
    "#Decision Function: The anomaly score of the input samples. The lower, the more abnormal. \n",
    "#                   Negative scores represent outliers, positive scores represent inliers.\n",
    "\n",
    "pred_dec.sort_values(by='Decision_Function')"
   ]
  },
  {
   "cell_type": "code",
   "execution_count": 10,
   "id": "80383471",
   "metadata": {},
   "outputs": [],
   "source": [
    "#Yields 50"
   ]
  },
  {
   "cell_type": "code",
   "execution_count": null,
   "id": "a7211f9e",
   "metadata": {},
   "outputs": [],
   "source": []
  }
 ],
 "metadata": {
  "hide_input": false,
  "kernelspec": {
   "display_name": "Python 3 (ipykernel)",
   "language": "python",
   "name": "python3"
  },
  "language_info": {
   "codemirror_mode": {
    "name": "ipython",
    "version": 3
   },
   "file_extension": ".py",
   "mimetype": "text/x-python",
   "name": "python",
   "nbconvert_exporter": "python",
   "pygments_lexer": "ipython3",
   "version": "3.8.8"
  },
  "varInspector": {
   "cols": {
    "lenName": 16,
    "lenType": 16,
    "lenVar": 40
   },
   "kernels_config": {
    "python": {
     "delete_cmd_postfix": "",
     "delete_cmd_prefix": "del ",
     "library": "var_list.py",
     "varRefreshCmd": "print(var_dic_list())"
    },
    "r": {
     "delete_cmd_postfix": ") ",
     "delete_cmd_prefix": "rm(",
     "library": "var_list.r",
     "varRefreshCmd": "cat(var_dic_list()) "
    }
   },
   "types_to_exclude": [
    "module",
    "function",
    "builtin_function_or_method",
    "instance",
    "_Feature"
   ],
   "window_display": false
  }
 },
 "nbformat": 4,
 "nbformat_minor": 5
}
