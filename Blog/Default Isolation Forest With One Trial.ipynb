{
 "cells": [
  {
   "cell_type": "markdown",
   "id": "8949c0dd",
   "metadata": {},
   "source": [
    "## Default Isolation Forest With One Trial"
   ]
  },
  {
   "cell_type": "code",
   "execution_count": 1,
   "id": "95a79135",
   "metadata": {},
   "outputs": [],
   "source": [
    "from sklearn.ensemble import IsolationForest\n",
    "import pandas as pd\n",
    "import numpy as np\n",
    "pd.set_option(\"display.max_columns\", 300)\n",
    "import seaborn as sns"
   ]
  },
  {
   "cell_type": "code",
   "execution_count": 2,
   "id": "c6095431",
   "metadata": {},
   "outputs": [
    {
     "data": {
      "text/plain": [
       "(2580, 83)"
      ]
     },
     "execution_count": 2,
     "metadata": {},
     "output_type": "execute_result"
    }
   ],
   "source": [
    "ordinal = pd.read_csv('BaseOrdinal.csv')\n",
    "ordinal.shape"
   ]
  },
  {
   "cell_type": "code",
   "execution_count": 3,
   "id": "40d38ec8",
   "metadata": {},
   "outputs": [
    {
     "data": {
      "text/plain": [
       "(2580, 80)"
      ]
     },
     "execution_count": 3,
     "metadata": {},
     "output_type": "execute_result"
    }
   ],
   "source": [
    "ordinal = ordinal.drop(['Unnamed: 0', 'PID', 'Unnamed: 0.1'], axis=1)\n",
    "ordinal.shape"
   ]
  },
  {
   "cell_type": "code",
   "execution_count": 4,
   "id": "feb48b8d",
   "metadata": {},
   "outputs": [],
   "source": [
    "X = ordinal.values\n",
    "#y = ordinal.SalePrice.values"
   ]
  },
  {
   "cell_type": "code",
   "execution_count": 5,
   "id": "6cb83da7",
   "metadata": {},
   "outputs": [],
   "source": [
    "results = []\n",
    "dec_func = []\n",
    "\n",
    "for i in range(1):\n",
    "    #iso = IsolationForest(n_estimators=1000, max_samples=750, contamination=0.01).fit(X)\n",
    "    iso = IsolationForest().fit(X)\n",
    "    pred = pd.Series(iso.predict(X))\n",
    "    dec = pd.Series(iso.decision_function(X))\n",
    "    #result = pd.concat([pred], axis=1)\n",
    "    #results.append(pred)\n",
    "    #dec_func.append(dec)"
   ]
  },
  {
   "cell_type": "code",
   "execution_count": 6,
   "id": "dd363320",
   "metadata": {},
   "outputs": [],
   "source": [
    "#pred"
   ]
  },
  {
   "cell_type": "code",
   "execution_count": 7,
   "id": "d9956981",
   "metadata": {},
   "outputs": [],
   "source": [
    "#dec"
   ]
  },
  {
   "cell_type": "code",
   "execution_count": 8,
   "id": "9abb32b7",
   "metadata": {},
   "outputs": [
    {
     "data": {
      "text/html": [
       "<div>\n",
       "<style scoped>\n",
       "    .dataframe tbody tr th:only-of-type {\n",
       "        vertical-align: middle;\n",
       "    }\n",
       "\n",
       "    .dataframe tbody tr th {\n",
       "        vertical-align: top;\n",
       "    }\n",
       "\n",
       "    .dataframe thead th {\n",
       "        text-align: right;\n",
       "    }\n",
       "</style>\n",
       "<table border=\"1\" class=\"dataframe\">\n",
       "  <thead>\n",
       "    <tr style=\"text-align: right;\">\n",
       "      <th></th>\n",
       "      <th>Prediction</th>\n",
       "      <th>Decision_Function</th>\n",
       "    </tr>\n",
       "  </thead>\n",
       "  <tbody>\n",
       "    <tr>\n",
       "      <th>309</th>\n",
       "      <td>-1</td>\n",
       "      <td>-0.121563</td>\n",
       "    </tr>\n",
       "    <tr>\n",
       "      <th>50</th>\n",
       "      <td>-1</td>\n",
       "      <td>-0.115907</td>\n",
       "    </tr>\n",
       "    <tr>\n",
       "      <th>2004</th>\n",
       "      <td>-1</td>\n",
       "      <td>-0.084354</td>\n",
       "    </tr>\n",
       "    <tr>\n",
       "      <th>2436</th>\n",
       "      <td>-1</td>\n",
       "      <td>-0.082651</td>\n",
       "    </tr>\n",
       "    <tr>\n",
       "      <th>2273</th>\n",
       "      <td>-1</td>\n",
       "      <td>-0.074319</td>\n",
       "    </tr>\n",
       "    <tr>\n",
       "      <th>...</th>\n",
       "      <td>...</td>\n",
       "      <td>...</td>\n",
       "    </tr>\n",
       "    <tr>\n",
       "      <th>1128</th>\n",
       "      <td>1</td>\n",
       "      <td>0.129605</td>\n",
       "    </tr>\n",
       "    <tr>\n",
       "      <th>1969</th>\n",
       "      <td>1</td>\n",
       "      <td>0.129861</td>\n",
       "    </tr>\n",
       "    <tr>\n",
       "      <th>1992</th>\n",
       "      <td>1</td>\n",
       "      <td>0.131259</td>\n",
       "    </tr>\n",
       "    <tr>\n",
       "      <th>633</th>\n",
       "      <td>1</td>\n",
       "      <td>0.133435</td>\n",
       "    </tr>\n",
       "    <tr>\n",
       "      <th>736</th>\n",
       "      <td>1</td>\n",
       "      <td>0.135374</td>\n",
       "    </tr>\n",
       "  </tbody>\n",
       "</table>\n",
       "<p>2580 rows × 2 columns</p>\n",
       "</div>"
      ],
      "text/plain": [
       "      Prediction  Decision_Function\n",
       "309           -1          -0.121563\n",
       "50            -1          -0.115907\n",
       "2004          -1          -0.084354\n",
       "2436          -1          -0.082651\n",
       "2273          -1          -0.074319\n",
       "...          ...                ...\n",
       "1128           1           0.129605\n",
       "1969           1           0.129861\n",
       "1992           1           0.131259\n",
       "633            1           0.133435\n",
       "736            1           0.135374\n",
       "\n",
       "[2580 rows x 2 columns]"
      ]
     },
     "execution_count": 8,
     "metadata": {},
     "output_type": "execute_result"
    }
   ],
   "source": [
    "pred_dec = pd.DataFrame(\n",
    "    {'Prediction': pred,\n",
    "     'Decision_Function': dec\n",
    "    })\n",
    "\n",
    "#Prediction: Returns -1 for outliers and 1 for inliers.\n",
    "#Decision Function: The anomaly score of the input samples. The lower, the more abnormal. \n",
    "#                   Negative scores represent outliers, positive scores represent inliers.\n",
    "\n",
    "pred_dec.sort_values(by='Decision_Function')"
   ]
  },
  {
   "cell_type": "code",
   "execution_count": 9,
   "id": "80383471",
   "metadata": {},
   "outputs": [],
   "source": [
    "#Yields 50"
   ]
  },
  {
   "cell_type": "code",
   "execution_count": null,
   "id": "a7211f9e",
   "metadata": {},
   "outputs": [],
   "source": []
  }
 ],
 "metadata": {
  "hide_input": false,
  "kernelspec": {
   "display_name": "Python 3 (ipykernel)",
   "language": "python",
   "name": "python3"
  },
  "language_info": {
   "codemirror_mode": {
    "name": "ipython",
    "version": 3
   },
   "file_extension": ".py",
   "mimetype": "text/x-python",
   "name": "python",
   "nbconvert_exporter": "python",
   "pygments_lexer": "ipython3",
   "version": "3.8.8"
  },
  "varInspector": {
   "cols": {
    "lenName": 16,
    "lenType": 16,
    "lenVar": 40
   },
   "kernels_config": {
    "python": {
     "delete_cmd_postfix": "",
     "delete_cmd_prefix": "del ",
     "library": "var_list.py",
     "varRefreshCmd": "print(var_dic_list())"
    },
    "r": {
     "delete_cmd_postfix": ") ",
     "delete_cmd_prefix": "rm(",
     "library": "var_list.r",
     "varRefreshCmd": "cat(var_dic_list()) "
    }
   },
   "types_to_exclude": [
    "module",
    "function",
    "builtin_function_or_method",
    "instance",
    "_Feature"
   ],
   "window_display": false
  }
 },
 "nbformat": 4,
 "nbformat_minor": 5
}
