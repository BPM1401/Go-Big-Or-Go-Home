{
 "cells": [
  {
   "cell_type": "code",
   "execution_count": 1,
   "id": "c16eae57",
   "metadata": {},
   "outputs": [],
   "source": [
    "import numpy as np\n",
    "import pandas as pd\n",
    "pd.set_option(\"display.max_columns\", 300)\n",
    "pd.set_option(\"max_colwidth\", 200)\n",
    "\n",
    "from sklearn.linear_model import LinearRegression\n",
    "from sklearn.linear_model import HuberRegressor\n",
    "from sklearn.linear_model import Ridge\n",
    "from sklearn.linear_model import RidgeCV\n",
    "from sklearn.linear_model import Lasso\n",
    "from sklearn.linear_model import LassoCV\n",
    "from sklearn.linear_model import ElasticNet\n",
    "from numpy import arange\n",
    "from sklearn.model_selection import GridSearchCV\n",
    "from sklearn.ensemble import RandomForestRegressor\n",
    "from sklearn.ensemble import GradientBoostingRegressor\n",
    "from xgboost import XGBRegressor\n",
    "\n",
    "from sklearn import preprocessing\n",
    "\n",
    "from sklearn.metrics import mean_squared_error, r2_score\n",
    "from sklearn.feature_selection import SequentialFeatureSelector\n",
    "\n",
    "from sklearn.model_selection import train_test_split\n",
    "from sklearn.model_selection import KFold\n",
    "\n",
    "import matplotlib.pyplot as plt\n",
    "import statistics"
   ]
  },
  {
   "cell_type": "code",
   "execution_count": 2,
   "id": "a1026f79",
   "metadata": {},
   "outputs": [],
   "source": [
    "base_ordinal = pd.read_csv('../Data/BaseOrdinal.csv')"
   ]
  },
  {
   "cell_type": "code",
   "execution_count": 3,
   "id": "86abe471",
   "metadata": {},
   "outputs": [],
   "source": [
    "X = base_ordinal.drop(['SalePrice'], axis=1).values\n",
    "y = base_ordinal.SalePrice.values"
   ]
  },
  {
   "cell_type": "code",
   "execution_count": 4,
   "id": "e7e6ea72",
   "metadata": {},
   "outputs": [],
   "source": [
    "Scores = []\n",
    "\n",
    "for i in range(100):\n",
    "    \n",
    "    X_train, X_test, Y_train, Y_test = train_test_split(X,y,test_size=0.25)\n",
    "    \n",
    "    scaler = preprocessing.StandardScaler().fit(X_train)\n",
    "    X_train_scaled = scaler.transform(X_train)\n",
    "    X_test_scaled = scaler.transform(X_test)\n",
    "    \n",
    "    RF_W_Bootstrap = RandomForestRegressor(n_estimators=100, criterion='squared_error', \n",
    "                                            bootstrap=True)\n",
    "    RF_W_Bootstrap.fit(X_train_scaled, Y_train)\n",
    "    RF_W_Bootstrap_Score = RF_W_Bootstrap.score(X_test_scaled, Y_test)\n",
    "    \n",
    "    Scores.append(RF_W_Bootstrap_Score)"
   ]
  },
  {
   "cell_type": "code",
   "execution_count": 5,
   "id": "93d16968",
   "metadata": {},
   "outputs": [],
   "source": [
    "Positive = []\n",
    "Negative = []\n",
    "\n",
    "for i in Scores:\n",
    "    if i < 0:\n",
    "        Negative.append(i)\n",
    "    else:\n",
    "        Positive.append(i)"
   ]
  },
  {
   "cell_type": "code",
   "execution_count": 6,
   "id": "6b0eae29",
   "metadata": {},
   "outputs": [
    {
     "name": "stdout",
     "output_type": "stream",
     "text": [
      "Median R2 is: 0.8937959519902143\n",
      "Mean R2 is: 0.8877260123928205\n",
      "Standard Deviation R2 is: 0.022194022544304994\n"
     ]
    },
    {
     "data": {
      "image/png": "[encoded data removed]",
      "text/plain": [
       "<Figure size 432x288 with 1 Axes>"
      ]
     },
     "metadata": {
      "needs_background": "light"
     },
     "output_type": "display_data"
    }
   ],
   "source": [
    "plt.boxplot(Positive)\n",
    "plt.title('R2 for 100 Random Forest (With Bootstrap) Trials at 75/25 Splits')\n",
    "print(\"Median R2 is: \" + str(statistics.median(Positive)))\n",
    "print(\"Mean R2 is: \" + str(statistics.mean(Positive)))\n",
    "print(\"Standard Deviation R2 is: \" + str(statistics.stdev(Positive)))"
   ]
  },
  {
   "cell_type": "code",
   "execution_count": 7,
   "id": "8a016855",
   "metadata": {},
   "outputs": [
    {
     "name": "stdout",
     "output_type": "stream",
     "text": [
      "Number of times results produced Negative R2: 0\n"
     ]
    }
   ],
   "source": [
    "print(\"Number of times results produced Negative R2: \" + str((len(Negative))))"
   ]
  },
  {
   "cell_type": "code",
   "execution_count": 8,
   "id": "4363edc1",
   "metadata": {},
   "outputs": [
    {
     "data": {
      "text/plain": [
       "[]"
      ]
     },
     "execution_count": 8,
     "metadata": {},
     "output_type": "execute_result"
    }
   ],
   "source": [
    "Negative"
   ]
  },
  {
   "cell_type": "code",
   "execution_count": null,
   "id": "3847c664",
   "metadata": {},
   "outputs": [],
   "source": []
  }
 ],
 "metadata": {
  "hide_input": false,
  "kernelspec": {
   "display_name": "Python 3 (ipykernel)",
   "language": "python",
   "name": "python3"
  },
  "language_info": {
   "codemirror_mode": {
    "name": "ipython",
    "version": 3
   },
   "file_extension": ".py",
   "mimetype": "text/x-python",
   "name": "python",
   "nbconvert_exporter": "python",
   "pygments_lexer": "ipython3",
   "version": "3.8.8"
  },
  "varInspector": {
   "cols": {
    "lenName": 16,
    "lenType": 16,
    "lenVar": 40
   },
   "kernels_config": {
    "python": {
     "delete_cmd_postfix": "",
     "delete_cmd_prefix": "del ",
     "library": "var_list.py",
     "varRefreshCmd": "print(var_dic_list())"
    },
    "r": {
     "delete_cmd_postfix": ") ",
     "delete_cmd_prefix": "rm(",
     "library": "var_list.r",
     "varRefreshCmd": "cat(var_dic_list()) "
    }
   },
   "types_to_exclude": [
    "module",
    "function",
    "builtin_function_or_method",
    "instance",
    "_Feature"
   ],
   "window_display": false
  }
 },
 "nbformat": 4,
 "nbformat_minor": 5
}
