{
 "cells": [
  {
   "cell_type": "code",
   "execution_count": 1,
   "id": "c069f297",
   "metadata": {},
   "outputs": [],
   "source": [
    "import numpy as np\n",
    "import pandas as pd\n",
    "pd.set_option(\"display.max_columns\", 300)"
   ]
  },
  {
   "cell_type": "code",
   "execution_count": 2,
   "id": "2e95e9c7",
   "metadata": {},
   "outputs": [],
   "source": [
    "df = pd.read_csv('BaseData.csv')"
   ]
  },
  {
   "cell_type": "code",
   "execution_count": 3,
   "id": "66513577",
   "metadata": {},
   "outputs": [
    {
     "data": {
      "text/plain": [
       "(2580, 299)"
      ]
     },
     "execution_count": 3,
     "metadata": {},
     "output_type": "execute_result"
    }
   ],
   "source": [
    "df.shape"
   ]
  },
  {
   "cell_type": "code",
   "execution_count": 4,
   "id": "20c86017",
   "metadata": {},
   "outputs": [
    {
     "data": {
      "text/plain": [
       "(1970, 299)"
      ]
     },
     "execution_count": 4,
     "metadata": {},
     "output_type": "execute_result"
    }
   ],
   "source": [
    "train = df[((df.YrSold_2007==0) & (df.YrSold_2008==0) &(df.YrSold_2009==0) & (df.YrSold_2010==0))|\n",
    "          (df.YrSold_2007==1)|\n",
    "          (df.YrSold_2008==1)|\n",
    "          ((df.YrSold_2009==1)&(df.MoSold_2==1))|\n",
    "          ((df.YrSold_2009==1)&(df.MoSold_3==1))|\n",
    "          ((df.YrSold_2009==1)&(df.MoSold_4==1))|\n",
    "          ((df.YrSold_2009==1)&(df.MoSold_5==1))|\n",
    "          ((df.YrSold_2009==1)&(df.MoSold_6==1))|\n",
    "          ((df.YrSold_2009==1)&((df.MoSold_2==0)\n",
    "                                &(df.MoSold_3==0)&(df.MoSold_4==0)\n",
    "                                &(df.MoSold_5==0)&(df.MoSold_5==0)\n",
    "                                &(df.MoSold_6==0)&(df.MoSold_7==0)\n",
    "                                &(df.MoSold_8==0)&(df.MoSold_9==0)\n",
    "                                &(df.MoSold_10==0)&(df.MoSold_11==0)\n",
    "                                &(df.MoSold_12==0)))]\n",
    "\n",
    "train.shape"
   ]
  },
  {
   "cell_type": "code",
   "execution_count": 5,
   "id": "819f141a",
   "metadata": {},
   "outputs": [],
   "source": [
    "train.to_csv('TrainYear.csv')"
   ]
  },
  {
   "cell_type": "code",
   "execution_count": 6,
   "id": "2813a73d",
   "metadata": {},
   "outputs": [
    {
     "data": {
      "text/plain": [
       "(610, 299)"
      ]
     },
     "execution_count": 6,
     "metadata": {},
     "output_type": "execute_result"
    }
   ],
   "source": [
    "test = df[(df.YrSold_2010==1)|\n",
    "          ((df.YrSold_2009==1)&(df.MoSold_12==1))|\n",
    "          ((df.YrSold_2009==1)&(df.MoSold_11==1))|\n",
    "          ((df.YrSold_2009==1)&(df.MoSold_10==1))|\n",
    "          ((df.YrSold_2009==1)&(df.MoSold_9==1))|\n",
    "          ((df.YrSold_2009==1)&(df.MoSold_8==1))|\n",
    "          ((df.YrSold_2009==1)&(df.MoSold_7==1))]\n",
    "\n",
    "test.shape"
   ]
  },
  {
   "cell_type": "code",
   "execution_count": 7,
   "id": "57181e22",
   "metadata": {},
   "outputs": [],
   "source": [
    "test.to_csv('TestYear.csv')"
   ]
  },
  {
   "cell_type": "code",
   "execution_count": null,
   "id": "542f0443",
   "metadata": {},
   "outputs": [],
   "source": []
  }
 ],
 "metadata": {
  "hide_input": false,
  "kernelspec": {
   "display_name": "Python 3 (ipykernel)",
   "language": "python",
   "name": "python3"
  },
  "language_info": {
   "codemirror_mode": {
    "name": "ipython",
    "version": 3
   },
   "file_extension": ".py",
   "mimetype": "text/x-python",
   "name": "python",
   "nbconvert_exporter": "python",
   "pygments_lexer": "ipython3",
   "version": "3.8.8"
  },
  "varInspector": {
   "cols": {
    "lenName": 16,
    "lenType": 16,
    "lenVar": 40
   },
   "kernels_config": {
    "python": {
     "delete_cmd_postfix": "",
     "delete_cmd_prefix": "del ",
     "library": "var_list.py",
     "varRefreshCmd": "print(var_dic_list())"
    },
    "r": {
     "delete_cmd_postfix": ") ",
     "delete_cmd_prefix": "rm(",
     "library": "var_list.r",
     "varRefreshCmd": "cat(var_dic_list()) "
    }
   },
   "types_to_exclude": [
    "module",
    "function",
    "builtin_function_or_method",
    "instance",
    "_Feature"
   ],
   "window_display": false
  }
 },
 "nbformat": 4,
 "nbformat_minor": 5
}
