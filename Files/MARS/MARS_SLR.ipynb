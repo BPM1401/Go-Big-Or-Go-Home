{
 "cells": [
  {
   "cell_type": "code",
   "execution_count": 1,
   "id": "c7827d74",
   "metadata": {},
   "outputs": [],
   "source": [
    "import pandas as pd\n",
    "import numpy as np\n",
    "import matplotlib.pyplot as plt\n",
    "\n",
    "import seaborn as sns\n",
    "sns.set()\n",
    "\n",
    "import scipy as sp\n",
    "from sklearn.linear_model import LinearRegression\n",
    "\n",
    "pd.set_option(\"display.max_columns\", 100)\n",
    "\n",
    "import statsmodels.api as sm\n",
    "import statsmodels.stats.api as sms\n"
   ]
  },
  {
   "cell_type": "code",
   "execution_count": 2,
   "id": "4f503bff",
   "metadata": {},
   "outputs": [],
   "source": [
    "df = pd.read_csv('../Data/Ames_HousePrice.csv')"
   ]
  },
  {
   "cell_type": "code",
   "execution_count": 3,
   "id": "ed631014",
   "metadata": {},
   "outputs": [
    {
     "data": {
      "text/html": [
       "<div>\n",
       "<style scoped>\n",
       "    .dataframe tbody tr th:only-of-type {\n",
       "        vertical-align: middle;\n",
       "    }\n",
       "\n",
       "    .dataframe tbody tr th {\n",
       "        vertical-align: top;\n",
       "    }\n",
       "\n",
       "    .dataframe thead th {\n",
       "        text-align: right;\n",
       "    }\n",
       "</style>\n",
       "<table border=\"1\" class=\"dataframe\">\n",
       "  <thead>\n",
       "    <tr style=\"text-align: right;\">\n",
       "      <th></th>\n",
       "      <th>Unnamed: 0</th>\n",
       "      <th>PID</th>\n",
       "      <th>GrLivArea</th>\n",
       "      <th>SalePrice</th>\n",
       "      <th>MSSubClass</th>\n",
       "      <th>LotFrontage</th>\n",
       "      <th>LotArea</th>\n",
       "      <th>OverallQual</th>\n",
       "      <th>OverallCond</th>\n",
       "      <th>YearBuilt</th>\n",
       "      <th>YearRemodAdd</th>\n",
       "      <th>MasVnrArea</th>\n",
       "      <th>BsmtFinSF1</th>\n",
       "      <th>BsmtFinSF2</th>\n",
       "      <th>BsmtUnfSF</th>\n",
       "      <th>TotalBsmtSF</th>\n",
       "      <th>1stFlrSF</th>\n",
       "      <th>2ndFlrSF</th>\n",
       "      <th>LowQualFinSF</th>\n",
       "      <th>BsmtFullBath</th>\n",
       "      <th>BsmtHalfBath</th>\n",
       "      <th>FullBath</th>\n",
       "      <th>HalfBath</th>\n",
       "      <th>BedroomAbvGr</th>\n",
       "      <th>KitchenAbvGr</th>\n",
       "      <th>TotRmsAbvGrd</th>\n",
       "      <th>Fireplaces</th>\n",
       "      <th>GarageYrBlt</th>\n",
       "      <th>GarageCars</th>\n",
       "      <th>GarageArea</th>\n",
       "      <th>WoodDeckSF</th>\n",
       "      <th>OpenPorchSF</th>\n",
       "      <th>EnclosedPorch</th>\n",
       "      <th>3SsnPorch</th>\n",
       "      <th>ScreenPorch</th>\n",
       "      <th>PoolArea</th>\n",
       "      <th>MiscVal</th>\n",
       "      <th>MoSold</th>\n",
       "      <th>YrSold</th>\n",
       "    </tr>\n",
       "  </thead>\n",
       "  <tbody>\n",
       "    <tr>\n",
       "      <th>0</th>\n",
       "      <td>1</td>\n",
       "      <td>909176150</td>\n",
       "      <td>856</td>\n",
       "      <td>126000</td>\n",
       "      <td>30</td>\n",
       "      <td>NaN</td>\n",
       "      <td>7890</td>\n",
       "      <td>6</td>\n",
       "      <td>6</td>\n",
       "      <td>1939</td>\n",
       "      <td>1950</td>\n",
       "      <td>0.0</td>\n",
       "      <td>238.0</td>\n",
       "      <td>0.0</td>\n",
       "      <td>618.0</td>\n",
       "      <td>856.0</td>\n",
       "      <td>856</td>\n",
       "      <td>0</td>\n",
       "      <td>0</td>\n",
       "      <td>1.0</td>\n",
       "      <td>0.0</td>\n",
       "      <td>1</td>\n",
       "      <td>0</td>\n",
       "      <td>2</td>\n",
       "      <td>1</td>\n",
       "      <td>4</td>\n",
       "      <td>1</td>\n",
       "      <td>1939.0</td>\n",
       "      <td>2.0</td>\n",
       "      <td>399.0</td>\n",
       "      <td>0</td>\n",
       "      <td>0</td>\n",
       "      <td>0</td>\n",
       "      <td>0</td>\n",
       "      <td>166</td>\n",
       "      <td>0</td>\n",
       "      <td>0</td>\n",
       "      <td>3</td>\n",
       "      <td>2010</td>\n",
       "    </tr>\n",
       "    <tr>\n",
       "      <th>1</th>\n",
       "      <td>2</td>\n",
       "      <td>905476230</td>\n",
       "      <td>1049</td>\n",
       "      <td>139500</td>\n",
       "      <td>120</td>\n",
       "      <td>42.0</td>\n",
       "      <td>4235</td>\n",
       "      <td>5</td>\n",
       "      <td>5</td>\n",
       "      <td>1984</td>\n",
       "      <td>1984</td>\n",
       "      <td>149.0</td>\n",
       "      <td>552.0</td>\n",
       "      <td>393.0</td>\n",
       "      <td>104.0</td>\n",
       "      <td>1049.0</td>\n",
       "      <td>1049</td>\n",
       "      <td>0</td>\n",
       "      <td>0</td>\n",
       "      <td>1.0</td>\n",
       "      <td>0.0</td>\n",
       "      <td>2</td>\n",
       "      <td>0</td>\n",
       "      <td>2</td>\n",
       "      <td>1</td>\n",
       "      <td>5</td>\n",
       "      <td>0</td>\n",
       "      <td>1984.0</td>\n",
       "      <td>1.0</td>\n",
       "      <td>266.0</td>\n",
       "      <td>0</td>\n",
       "      <td>105</td>\n",
       "      <td>0</td>\n",
       "      <td>0</td>\n",
       "      <td>0</td>\n",
       "      <td>0</td>\n",
       "      <td>0</td>\n",
       "      <td>2</td>\n",
       "      <td>2009</td>\n",
       "    </tr>\n",
       "    <tr>\n",
       "      <th>2</th>\n",
       "      <td>3</td>\n",
       "      <td>911128020</td>\n",
       "      <td>1001</td>\n",
       "      <td>124900</td>\n",
       "      <td>30</td>\n",
       "      <td>60.0</td>\n",
       "      <td>6060</td>\n",
       "      <td>5</td>\n",
       "      <td>9</td>\n",
       "      <td>1930</td>\n",
       "      <td>2007</td>\n",
       "      <td>0.0</td>\n",
       "      <td>737.0</td>\n",
       "      <td>0.0</td>\n",
       "      <td>100.0</td>\n",
       "      <td>837.0</td>\n",
       "      <td>1001</td>\n",
       "      <td>0</td>\n",
       "      <td>0</td>\n",
       "      <td>0.0</td>\n",
       "      <td>0.0</td>\n",
       "      <td>1</td>\n",
       "      <td>0</td>\n",
       "      <td>2</td>\n",
       "      <td>1</td>\n",
       "      <td>5</td>\n",
       "      <td>0</td>\n",
       "      <td>1930.0</td>\n",
       "      <td>1.0</td>\n",
       "      <td>216.0</td>\n",
       "      <td>154</td>\n",
       "      <td>0</td>\n",
       "      <td>42</td>\n",
       "      <td>86</td>\n",
       "      <td>0</td>\n",
       "      <td>0</td>\n",
       "      <td>0</td>\n",
       "      <td>11</td>\n",
       "      <td>2007</td>\n",
       "    </tr>\n",
       "  </tbody>\n",
       "</table>\n",
       "</div>"
      ],
      "text/plain": [
       "   Unnamed: 0        PID  GrLivArea  SalePrice  MSSubClass  LotFrontage  \\\n",
       "0           1  909176150        856     126000          30          NaN   \n",
       "1           2  905476230       1049     139500         120         42.0   \n",
       "2           3  911128020       1001     124900          30         60.0   \n",
       "\n",
       "   LotArea  OverallQual  OverallCond  YearBuilt  YearRemodAdd  MasVnrArea  \\\n",
       "0     7890            6            6       1939          1950         0.0   \n",
       "1     4235            5            5       1984          1984       149.0   \n",
       "2     6060            5            9       1930          2007         0.0   \n",
       "\n",
       "   BsmtFinSF1  BsmtFinSF2  BsmtUnfSF  TotalBsmtSF  1stFlrSF  2ndFlrSF  \\\n",
       "0       238.0         0.0      618.0        856.0       856         0   \n",
       "1       552.0       393.0      104.0       1049.0      1049         0   \n",
       "2       737.0         0.0      100.0        837.0      1001         0   \n",
       "\n",
       "   LowQualFinSF  BsmtFullBath  BsmtHalfBath  FullBath  HalfBath  BedroomAbvGr  \\\n",
       "0             0           1.0           0.0         1         0             2   \n",
       "1             0           1.0           0.0         2         0             2   \n",
       "2             0           0.0           0.0         1         0             2   \n",
       "\n",
       "   KitchenAbvGr  TotRmsAbvGrd  Fireplaces  GarageYrBlt  GarageCars  \\\n",
       "0             1             4           1       1939.0         2.0   \n",
       "1             1             5           0       1984.0         1.0   \n",
       "2             1             5           0       1930.0         1.0   \n",
       "\n",
       "   GarageArea  WoodDeckSF  OpenPorchSF  EnclosedPorch  3SsnPorch  ScreenPorch  \\\n",
       "0       399.0           0            0              0          0          166   \n",
       "1       266.0           0          105              0          0            0   \n",
       "2       216.0         154            0             42         86            0   \n",
       "\n",
       "   PoolArea  MiscVal  MoSold  YrSold  \n",
       "0         0        0       3    2010  \n",
       "1         0        0       2    2009  \n",
       "2         0        0      11    2007  "
      ]
     },
     "execution_count": 3,
     "metadata": {},
     "output_type": "execute_result"
    }
   ],
   "source": [
    "numeric = df.select_dtypes('number')\n",
    "numeric.head(3)"
   ]
  },
  {
   "cell_type": "code",
   "execution_count": 4,
   "id": "c24a4f3a",
   "metadata": {},
   "outputs": [
    {
     "data": {
      "text/html": [
       "<div>\n",
       "<style scoped>\n",
       "    .dataframe tbody tr th:only-of-type {\n",
       "        vertical-align: middle;\n",
       "    }\n",
       "\n",
       "    .dataframe tbody tr th {\n",
       "        vertical-align: top;\n",
       "    }\n",
       "\n",
       "    .dataframe thead th {\n",
       "        text-align: right;\n",
       "    }\n",
       "</style>\n",
       "<table border=\"1\" class=\"dataframe\">\n",
       "  <thead>\n",
       "    <tr style=\"text-align: right;\">\n",
       "      <th></th>\n",
       "      <th>LotArea</th>\n",
       "      <th>GrLivArea</th>\n",
       "      <th>1stFlrSF</th>\n",
       "      <th>2ndFlrSF</th>\n",
       "      <th>LowQualFinSF</th>\n",
       "      <th>3SsnPorch</th>\n",
       "      <th>BsmtFinSF1</th>\n",
       "      <th>BsmtFinSF2</th>\n",
       "      <th>WoodDeckSF</th>\n",
       "      <th>BsmtUnfSF</th>\n",
       "      <th>EnclosedPorch</th>\n",
       "      <th>GarageArea</th>\n",
       "      <th>LotFrontage</th>\n",
       "      <th>MasVnrArea</th>\n",
       "      <th>OpenPorchSF</th>\n",
       "      <th>PoolArea</th>\n",
       "      <th>ScreenPorch</th>\n",
       "      <th>TotalBsmtSF</th>\n",
       "    </tr>\n",
       "  </thead>\n",
       "  <tbody>\n",
       "    <tr>\n",
       "      <th>0</th>\n",
       "      <td>7890</td>\n",
       "      <td>856</td>\n",
       "      <td>856</td>\n",
       "      <td>0</td>\n",
       "      <td>0</td>\n",
       "      <td>0</td>\n",
       "      <td>238.0</td>\n",
       "      <td>0.0</td>\n",
       "      <td>0</td>\n",
       "      <td>618.0</td>\n",
       "      <td>0</td>\n",
       "      <td>399.0</td>\n",
       "      <td>NaN</td>\n",
       "      <td>0.0</td>\n",
       "      <td>0</td>\n",
       "      <td>0</td>\n",
       "      <td>166</td>\n",
       "      <td>856.0</td>\n",
       "    </tr>\n",
       "    <tr>\n",
       "      <th>1</th>\n",
       "      <td>4235</td>\n",
       "      <td>1049</td>\n",
       "      <td>1049</td>\n",
       "      <td>0</td>\n",
       "      <td>0</td>\n",
       "      <td>0</td>\n",
       "      <td>552.0</td>\n",
       "      <td>393.0</td>\n",
       "      <td>0</td>\n",
       "      <td>104.0</td>\n",
       "      <td>0</td>\n",
       "      <td>266.0</td>\n",
       "      <td>42.0</td>\n",
       "      <td>149.0</td>\n",
       "      <td>105</td>\n",
       "      <td>0</td>\n",
       "      <td>0</td>\n",
       "      <td>1049.0</td>\n",
       "    </tr>\n",
       "    <tr>\n",
       "      <th>2</th>\n",
       "      <td>6060</td>\n",
       "      <td>1001</td>\n",
       "      <td>1001</td>\n",
       "      <td>0</td>\n",
       "      <td>0</td>\n",
       "      <td>86</td>\n",
       "      <td>737.0</td>\n",
       "      <td>0.0</td>\n",
       "      <td>154</td>\n",
       "      <td>100.0</td>\n",
       "      <td>42</td>\n",
       "      <td>216.0</td>\n",
       "      <td>60.0</td>\n",
       "      <td>0.0</td>\n",
       "      <td>0</td>\n",
       "      <td>0</td>\n",
       "      <td>0</td>\n",
       "      <td>837.0</td>\n",
       "    </tr>\n",
       "  </tbody>\n",
       "</table>\n",
       "</div>"
      ],
      "text/plain": [
       "   LotArea  GrLivArea  1stFlrSF  2ndFlrSF  LowQualFinSF  3SsnPorch  \\\n",
       "0     7890        856       856         0             0          0   \n",
       "1     4235       1049      1049         0             0          0   \n",
       "2     6060       1001      1001         0             0         86   \n",
       "\n",
       "   BsmtFinSF1  BsmtFinSF2  WoodDeckSF  BsmtUnfSF  EnclosedPorch  GarageArea  \\\n",
       "0       238.0         0.0           0      618.0              0       399.0   \n",
       "1       552.0       393.0           0      104.0              0       266.0   \n",
       "2       737.0         0.0         154      100.0             42       216.0   \n",
       "\n",
       "   LotFrontage  MasVnrArea  OpenPorchSF  PoolArea  ScreenPorch  TotalBsmtSF  \n",
       "0          NaN         0.0            0         0          166        856.0  \n",
       "1         42.0       149.0          105         0            0       1049.0  \n",
       "2         60.0         0.0            0         0            0        837.0  "
      ]
     },
     "execution_count": 4,
     "metadata": {},
     "output_type": "execute_result"
    }
   ],
   "source": [
    "Area = numeric[['LotArea','GrLivArea','1stFlrSF', '2ndFlrSF', 'LowQualFinSF', '3SsnPorch', 'BsmtFinSF1', \n",
    "                'BsmtFinSF2', 'WoodDeckSF','BsmtUnfSF', 'EnclosedPorch', 'GarageArea',\n",
    "               'LotFrontage', 'MasVnrArea', 'OpenPorchSF', 'PoolArea',\n",
    "               'ScreenPorch', 'TotalBsmtSF']]\n",
    "Area.head(3)"
   ]
  },
  {
   "cell_type": "code",
   "execution_count": 5,
   "id": "1829ee3a",
   "metadata": {},
   "outputs": [
    {
     "name": "stderr",
     "output_type": "stream",
     "text": [
      "/var/folders/kl/4xt5tydd0xb8yvwkgnx2mnc00000gn/T/ipykernel_21383/1729680531.py:2: SettingWithCopyWarning: \n",
      "A value is trying to be set on a copy of a slice from a DataFrame.\n",
      "Try using .loc[row_indexer,col_indexer] = value instead\n",
      "\n",
      "See the caveats in the documentation: https://pandas.pydata.org/pandas-docs/stable/user_guide/indexing.html#returning-a-view-versus-a-copy\n",
      "  Area['TotalBsmtSF'] = Area['TotalBsmtSF'].replace(np.nan, 896)\n"
     ]
    }
   ],
   "source": [
    "#Impute with 896 for the one missing TotalBsmtSF which is size of 1stFlrSF:\n",
    "Area['TotalBsmtSF'] = Area['TotalBsmtSF'].replace(np.nan, 896)"
   ]
  },
  {
   "cell_type": "code",
   "execution_count": 6,
   "id": "c27b50cb",
   "metadata": {},
   "outputs": [
    {
     "name": "stderr",
     "output_type": "stream",
     "text": [
      "/var/folders/kl/4xt5tydd0xb8yvwkgnx2mnc00000gn/T/ipykernel_21383/2728991719.py:1: SettingWithCopyWarning: \n",
      "A value is trying to be set on a copy of a slice from a DataFrame.\n",
      "Try using .loc[row_indexer,col_indexer] = value instead\n",
      "\n",
      "See the caveats in the documentation: https://pandas.pydata.org/pandas-docs/stable/user_guide/indexing.html#returning-a-view-versus-a-copy\n",
      "  Area['GarageArea'] = Area['GarageArea'].replace(np.nan, 0)\n"
     ]
    }
   ],
   "source": [
    "Area['GarageArea'] = Area['GarageArea'].replace(np.nan, 0)"
   ]
  },
  {
   "cell_type": "code",
   "execution_count": 7,
   "id": "4a6f2190",
   "metadata": {},
   "outputs": [
    {
     "name": "stderr",
     "output_type": "stream",
     "text": [
      "/var/folders/kl/4xt5tydd0xb8yvwkgnx2mnc00000gn/T/ipykernel_21383/289676058.py:1: SettingWithCopyWarning: \n",
      "A value is trying to be set on a copy of a slice from a DataFrame.\n",
      "Try using .loc[row_indexer,col_indexer] = value instead\n",
      "\n",
      "See the caveats in the documentation: https://pandas.pydata.org/pandas-docs/stable/user_guide/indexing.html#returning-a-view-versus-a-copy\n",
      "  Area['MasVnrArea'] = Area['MasVnrArea'].replace(np.nan, 0)\n"
     ]
    }
   ],
   "source": [
    "Area['MasVnrArea'] = Area['MasVnrArea'].replace(np.nan, 0)"
   ]
  },
  {
   "cell_type": "code",
   "execution_count": 8,
   "id": "b3f1fb99",
   "metadata": {},
   "outputs": [
    {
     "name": "stderr",
     "output_type": "stream",
     "text": [
      "/var/folders/kl/4xt5tydd0xb8yvwkgnx2mnc00000gn/T/ipykernel_21383/2369724597.py:9: SettingWithCopyWarning: \n",
      "A value is trying to be set on a copy of a slice from a DataFrame.\n",
      "Try using .loc[row_indexer,col_indexer] = value instead\n",
      "\n",
      "See the caveats in the documentation: https://pandas.pydata.org/pandas-docs/stable/user_guide/indexing.html#returning-a-view-versus-a-copy\n",
      "  Area['LC'] = LC\n",
      "/opt/anaconda3/lib/python3.8/site-packages/pandas/core/indexing.py:1817: SettingWithCopyWarning: \n",
      "A value is trying to be set on a copy of a slice from a DataFrame.\n",
      "Try using .loc[row_indexer,col_indexer] = value instead\n",
      "\n",
      "See the caveats in the documentation: https://pandas.pydata.org/pandas-docs/stable/user_guide/indexing.html#returning-a-view-versus-a-copy\n",
      "  self._setitem_single_column(loc, value, pi)\n"
     ]
    }
   ],
   "source": [
    "# Group lots by configuration\n",
    "grouped_lots = df.groupby(['LotConfig']).agg({\n",
    "   'LotFrontage' : 'mean', \n",
    "})\n",
    "\n",
    "#grouped_lots\n",
    "\n",
    "LC = df[['LotConfig']]\n",
    "Area['LC'] = LC\n",
    "\n",
    "#replace np.nan with average for lot_config of that type\n",
    "Area.loc[(Area['LotFrontage'].isna()) & (Area['LC'] == 'Corner'), 'LotFrontage'] = 84.46\n",
    "Area.loc[(Area['LotFrontage'].isna()) & (Area['LC'] == 'CulDSac'), 'LotFrontage'] = 56.45        \n",
    "Area.loc[(Area['LotFrontage'].isna()) & (Area['LC'] == 'FR2'), 'LotFrontage'] = 59.41        \n",
    "Area.loc[(Area['LotFrontage'].isna()) & (Area['LC'] == 'FR3'), 'LotFrontage'] = 79.3        \n",
    "Area.loc[(Area['LotFrontage'].isna()) & (Area['LC'] == 'Inside'), 'LotFrontage'] = 66.63"
   ]
  },
  {
   "cell_type": "code",
   "execution_count": null,
   "id": "e5e1c624",
   "metadata": {},
   "outputs": [],
   "source": []
  },
  {
   "cell_type": "code",
   "execution_count": 9,
   "id": "c7b0b216",
   "metadata": {},
   "outputs": [
    {
     "data": {
      "text/plain": [
       "(2580, 7)"
      ]
     },
     "execution_count": 9,
     "metadata": {},
     "output_type": "execute_result"
    }
   ],
   "source": [
    "GBGVWLO = Area[['GrLivArea', 'TotalBsmtSF', 'GarageArea','MasVnrArea', 'WoodDeckSF','LotFrontage','OpenPorchSF']]\n",
    "GBGVWLO.shape"
   ]
  },
  {
   "cell_type": "code",
   "execution_count": 10,
   "id": "6c26fe56",
   "metadata": {},
   "outputs": [
    {
     "data": {
      "text/html": [
       "<div>\n",
       "<style scoped>\n",
       "    .dataframe tbody tr th:only-of-type {\n",
       "        vertical-align: middle;\n",
       "    }\n",
       "\n",
       "    .dataframe tbody tr th {\n",
       "        vertical-align: top;\n",
       "    }\n",
       "\n",
       "    .dataframe thead th {\n",
       "        text-align: right;\n",
       "    }\n",
       "</style>\n",
       "<table border=\"1\" class=\"dataframe\">\n",
       "  <thead>\n",
       "    <tr style=\"text-align: right;\">\n",
       "      <th></th>\n",
       "      <th>GrLivArea</th>\n",
       "      <th>TotalBsmtSF</th>\n",
       "      <th>GarageArea</th>\n",
       "      <th>MasVnrArea</th>\n",
       "      <th>WoodDeckSF</th>\n",
       "      <th>LotFrontage</th>\n",
       "      <th>OpenPorchSF</th>\n",
       "      <th>GBGVWLO</th>\n",
       "    </tr>\n",
       "  </thead>\n",
       "  <tbody>\n",
       "    <tr>\n",
       "      <th>0</th>\n",
       "      <td>856</td>\n",
       "      <td>856.0</td>\n",
       "      <td>399.0</td>\n",
       "      <td>0.0</td>\n",
       "      <td>0</td>\n",
       "      <td>84.46</td>\n",
       "      <td>0</td>\n",
       "      <td>2195.46</td>\n",
       "    </tr>\n",
       "    <tr>\n",
       "      <th>1</th>\n",
       "      <td>1049</td>\n",
       "      <td>1049.0</td>\n",
       "      <td>266.0</td>\n",
       "      <td>149.0</td>\n",
       "      <td>0</td>\n",
       "      <td>42.00</td>\n",
       "      <td>105</td>\n",
       "      <td>2660.00</td>\n",
       "    </tr>\n",
       "    <tr>\n",
       "      <th>2</th>\n",
       "      <td>1001</td>\n",
       "      <td>837.0</td>\n",
       "      <td>216.0</td>\n",
       "      <td>0.0</td>\n",
       "      <td>154</td>\n",
       "      <td>60.00</td>\n",
       "      <td>0</td>\n",
       "      <td>2268.00</td>\n",
       "    </tr>\n",
       "  </tbody>\n",
       "</table>\n",
       "</div>"
      ],
      "text/plain": [
       "   GrLivArea  TotalBsmtSF  GarageArea  MasVnrArea  WoodDeckSF  LotFrontage  \\\n",
       "0        856        856.0       399.0         0.0           0        84.46   \n",
       "1       1049       1049.0       266.0       149.0           0        42.00   \n",
       "2       1001        837.0       216.0         0.0         154        60.00   \n",
       "\n",
       "   OpenPorchSF  GBGVWLO  \n",
       "0            0  2195.46  \n",
       "1          105  2660.00  \n",
       "2            0  2268.00  "
      ]
     },
     "execution_count": 10,
     "metadata": {},
     "output_type": "execute_result"
    }
   ],
   "source": [
    "GBGVWLO = GBGVWLO.assign(GBGVWLO = GBGVWLO['GrLivArea'] + GBGVWLO['TotalBsmtSF'] + \n",
    "                     GBGVWLO['GarageArea'] + GBGVWLO['MasVnrArea'] + GBGVWLO['WoodDeckSF'] +\n",
    "                      GBGVWLO['LotFrontage'] + GBGVWLO['OpenPorchSF'])\n",
    "GBGVWLO.head(3)"
   ]
  },
  {
   "cell_type": "code",
   "execution_count": 11,
   "id": "176e5b8c",
   "metadata": {},
   "outputs": [
    {
     "data": {
      "image/png": "[encoded data removed]",
      "text/plain": [
       "<Figure size 720x432 with 1 Axes>"
      ]
     },
     "metadata": {},
     "output_type": "display_data"
    }
   ],
   "source": [
    "regressor = LinearRegression()\n",
    "\n",
    "y = numeric['SalePrice'].values.reshape(-1,1)\n",
    "x = GBGVWLO['GBGVWLO'].values.reshape(-1,1)\n",
    "regressor.fit(x,y)\n",
    "    \n",
    "sns.set()\n",
    "sns.mpl.rcParams['figure.figsize'] = (10.0, 6.0)\n",
    "\n",
    "plt.scatter(x,y, c='green', alpha=0.3)\n",
    "plt.xlabel('Aggregated Area')\n",
    "plt.ylabel('Sale Price')\n",
    "plt.plot(x, regressor.predict(x), lw=2, c='k')\n",
    "plt.annotate(\"r-squared = {:.4f}\".format(regressor.score(x,y)), xy=(0.4,0.9),\n",
    "                 xycoords = 'axes fraction', fontsize=16)\n",
    "plt.show()"
   ]
  },
  {
   "cell_type": "code",
   "execution_count": 12,
   "id": "5f79f225",
   "metadata": {},
   "outputs": [],
   "source": [
    "y_pred = regressor.predict(x)"
   ]
  },
  {
   "cell_type": "code",
   "execution_count": 13,
   "id": "1261ef0b",
   "metadata": {},
   "outputs": [
    {
     "data": {
      "text/plain": [
       "0.7383916509498215"
      ]
     },
     "execution_count": 13,
     "metadata": {},
     "output_type": "execute_result"
    }
   ],
   "source": [
    "regressor.score(x,y)"
   ]
  },
  {
   "cell_type": "code",
   "execution_count": 14,
   "id": "33dbb9f3",
   "metadata": {},
   "outputs": [],
   "source": [
    "from sklearn.metrics import r2_score, mean_squared_error"
   ]
  },
  {
   "cell_type": "code",
   "execution_count": 15,
   "id": "9c9ef3c4",
   "metadata": {},
   "outputs": [
    {
     "data": {
      "text/plain": [
       "0.7383916509498215"
      ]
     },
     "execution_count": 15,
     "metadata": {},
     "output_type": "execute_result"
    }
   ],
   "source": [
    "r2_score(y, y_pred)"
   ]
  },
  {
   "cell_type": "code",
   "execution_count": 16,
   "id": "f351c469",
   "metadata": {},
   "outputs": [
    {
     "data": {
      "text/plain": [
       "1472196362.218024"
      ]
     },
     "execution_count": 16,
     "metadata": {},
     "output_type": "execute_result"
    }
   ],
   "source": [
    "mean_squared_error(y, y_pred)"
   ]
  },
  {
   "cell_type": "code",
   "execution_count": null,
   "id": "20571ccf",
   "metadata": {},
   "outputs": [],
   "source": []
  },
  {
   "cell_type": "code",
   "execution_count": 17,
   "id": "d9301c2a",
   "metadata": {},
   "outputs": [],
   "source": [
    "from pyearth import Earth\n",
    "import plotly.graph_objects as go\n",
    "import plotly.express as px"
   ]
  },
  {
   "cell_type": "code",
   "execution_count": null,
   "id": "8fe2e80f",
   "metadata": {},
   "outputs": [],
   "source": []
  },
  {
   "cell_type": "code",
   "execution_count": 18,
   "id": "cbac9512",
   "metadata": {},
   "outputs": [
    {
     "data": {
      "text/plain": [
       "Earth(max_degree=1, max_terms=10)"
      ]
     },
     "execution_count": 18,
     "metadata": {},
     "output_type": "execute_result"
    }
   ],
   "source": [
    "mars = Earth(max_terms=10, max_degree=1)\n",
    "\n",
    "y = numeric['SalePrice'].values.reshape(-1,1)\n",
    "x = GBGVWLO['GBGVWLO'].values.reshape(-1,1)\n",
    "mars.fit(x,y)\n",
    "    \n",
    "#sns.set()\n",
    "#sns.mpl.rcParams['figure.figsize'] = (10.0, 6.0)\n",
    "\n",
    "#plt.scatter(x,y, c='green', alpha=0.3)\n",
    "#plt.xlabel('Aggregated Area')\n",
    "#plt.ylabel('Sale Price')\n",
    "#plt.plot(x, mars.predict(x), lw=2, c='k')\n",
    "#plt.annotate(\"r-squared = {:.4f}\".format(mars.score(x,y)), xy=(0.4,0.9),\n",
    "#                 xycoords = 'axes fraction', fontsize=16)\n",
    "#plt.show()"
   ]
  },
  {
   "cell_type": "code",
   "execution_count": 19,
   "id": "a460d70e",
   "metadata": {},
   "outputs": [
    {
     "name": "stdout",
     "output_type": "stream",
     "text": [
      "SLR\n",
      "SLR Intercept:  [-21828.23154679]\n",
      "Slope:  [[60.59825831]]\n",
      "\n",
      "Earth Model\n",
      "-------------------------------------\n",
      "Basis Function  Pruned  Coefficient  \n",
      "-------------------------------------\n",
      "(Intercept)     No      448618       \n",
      "h(x0-3853)      Yes     None         \n",
      "h(3853-x0)      No      25.8245      \n",
      "h(x0-7168)      No      -104.189     \n",
      "h(7168-x0)      No      -75.1503     \n",
      "h(x0-6220)      No      78.9916      \n",
      "h(6220-x0)      Yes     None         \n",
      "x0              Yes     None         \n",
      "-------------------------------------\n",
      "MSE: 1351869155.0112, GCV: 1363470865.5990, RSQ: 0.7598, GRSQ: 0.7579\n"
     ]
    }
   ],
   "source": [
    "print(\"SLR\")\n",
    "print(\"SLR Intercept: \", regressor.intercept_)\n",
    "print(\"Slope: \", regressor.coef_)\n",
    "print()\n",
    "\n",
    "print(mars.summary())"
   ]
  },
  {
   "cell_type": "code",
   "execution_count": 20,
   "id": "efb159f6",
   "metadata": {},
   "outputs": [
    {
     "name": "stdout",
     "output_type": "stream",
     "text": [
      "Forward Pass\n",
      "---------------------------------------------------------------------------------\n",
      "iter  parent  var  knot  mse                terms  gcv             rsq    grsq   \n",
      "---------------------------------------------------------------------------------\n",
      "0     -       -    -     5627482332.131722  1      5631847259.121  0.000  0.000  \n",
      "1     0       0    1604  1400006936.387173  3      1406541382.290  0.751  0.750  \n",
      "2     0       0    388   1368765688.730463  5      1380512404.989  0.757  0.755  \n",
      "3     0       0    63    1350879169.939420  7      1367791420.567  0.760  0.757  \n",
      "4     0       0    -1    1350092969.592345  8      1369665028.935  0.760  0.757  \n",
      "---------------------------------------------------------------------------------\n",
      "Stopping Condition 2: Improvement below threshold\n",
      "\n",
      "Pruning Pass\n",
      "--------------------------------------------------------------\n",
      "iter  bf  terms  mse            gcv             rsq    grsq   \n",
      "--------------------------------------------------------------\n",
      "0     -   8      1351869155.01  1371466963.400  0.760  0.756  \n",
      "1     7   7      1351869155.01  1368793799.698  0.760  0.757  \n",
      "2     1   6      1351869155.01  1366128443.890  0.760  0.757  \n",
      "3     6   5      1351869155.01  1363470865.599  0.760  0.758  \n",
      "4     3   4      1364414725.60  1373449680.115  0.758  0.756  \n",
      "5     5   3      1368911003.29  1375300310.850  0.757  0.756  \n",
      "6     2   2      1471688064.71  1475689156.743  0.738  0.738  \n",
      "7     4   1      5627482332.13  5631847259.121  0.000  0.000  \n",
      "--------------------------------------------------------------\n",
      "Selected iteration: 3\n",
      "\n"
     ]
    }
   ],
   "source": [
    "print(mars.trace())"
   ]
  },
  {
   "cell_type": "code",
   "execution_count": null,
   "id": "c219f5fd",
   "metadata": {},
   "outputs": [],
   "source": []
  },
  {
   "cell_type": "code",
   "execution_count": 21,
   "id": "e5f371fe",
   "metadata": {},
   "outputs": [
    {
     "data": {
      "image/png": "[encoded data removed]",
      "text/plain": [
       "<Figure size 720x432 with 1 Axes>"
      ]
     },
     "metadata": {},
     "output_type": "display_data"
    }
   ],
   "source": [
    "y = numeric['SalePrice'].values.reshape(-1,1)\n",
    "x = GBGVWLO['GBGVWLO'].values.reshape(-1,1)\n",
    "\n",
    "x_range = np.linspace(x.min(), x.max(), 20)\n",
    "y_range = regressor.predict(x_range.reshape(-1,1))\n",
    "\n",
    "x_mars = np.array([x.min(), 1000, 2000, 3000, 3853, 4000, 6220, 7168, x.max()])\n",
    "y_mars = mars.predict(x_mars.reshape(-1,1))\n",
    "\n",
    "sns.set()\n",
    "sns.mpl.rcParams['figure.figsize'] = (10.0, 6.0)\n",
    "\n",
    "plt.scatter(x,y, c='green', alpha=0.3)\n",
    "plt.plot(x_range, y_range, lw=2, c='k')\n",
    "plt.plot(x_mars, y_mars, lw=2, c='red');\n"
   ]
  },
  {
   "cell_type": "code",
   "execution_count": null,
   "id": "9638601b",
   "metadata": {},
   "outputs": [],
   "source": []
  }
 ],
 "metadata": {
  "hide_input": false,
  "kernelspec": {
   "display_name": "Python 3 (ipykernel)",
   "language": "python",
   "name": "python3"
  },
  "language_info": {
   "codemirror_mode": {
    "name": "ipython",
    "version": 3
   },
   "file_extension": ".py",
   "mimetype": "text/x-python",
   "name": "python",
   "nbconvert_exporter": "python",
   "pygments_lexer": "ipython3",
   "version": "3.8.8"
  },
  "varInspector": {
   "cols": {
    "lenName": 16,
    "lenType": 16,
    "lenVar": 40
   },
   "kernels_config": {
    "python": {
     "delete_cmd_postfix": "",
     "delete_cmd_prefix": "del ",
     "library": "var_list.py",
     "varRefreshCmd": "print(var_dic_list())"
    },
    "r": {
     "delete_cmd_postfix": ") ",
     "delete_cmd_prefix": "rm(",
     "library": "var_list.r",
     "varRefreshCmd": "cat(var_dic_list()) "
    }
   },
   "types_to_exclude": [
    "module",
    "function",
    "builtin_function_or_method",
    "instance",
    "_Feature"
   ],
   "window_display": false
  }
 },
 "nbformat": 4,
 "nbformat_minor": 5
}
