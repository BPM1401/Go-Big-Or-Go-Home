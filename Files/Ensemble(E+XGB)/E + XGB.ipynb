{
 "cells": [
  {
   "cell_type": "code",
   "execution_count": 1,
   "id": "eb2689a3",
   "metadata": {},
   "outputs": [],
   "source": [
    "import numpy as np\n",
    "import pandas as pd\n",
    "pd.set_option(\"display.max_columns\", 300)\n",
    "pd.set_option(\"max_colwidth\", 200)\n",
    "\n",
    "from sklearn.linear_model import LinearRegression\n",
    "from sklearn.linear_model import HuberRegressor\n",
    "from sklearn.linear_model import Ridge\n",
    "from sklearn.linear_model import RidgeCV\n",
    "from sklearn.linear_model import Lasso\n",
    "from sklearn.linear_model import LassoCV\n",
    "from sklearn.linear_model import ElasticNet\n",
    "from numpy import arange\n",
    "from sklearn.model_selection import GridSearchCV\n",
    "from sklearn.ensemble import RandomForestRegressor\n",
    "from sklearn.ensemble import GradientBoostingRegressor\n",
    "from xgboost import XGBRegressor\n",
    "\n",
    "from sklearn import preprocessing\n",
    "\n",
    "from sklearn.metrics import mean_squared_error, r2_score\n",
    "from sklearn.feature_selection import SequentialFeatureSelector\n",
    "\n",
    "from sklearn.model_selection import train_test_split\n",
    "from sklearn.model_selection import KFold\n",
    "\n",
    "import matplotlib.pyplot as plt\n",
    "import statistics\n",
    "import seaborn as sns"
   ]
  },
  {
   "cell_type": "code",
   "execution_count": 2,
   "id": "505ec533",
   "metadata": {},
   "outputs": [
    {
     "data": {
      "text/plain": [
       "(2580, 299)"
      ]
     },
     "execution_count": 2,
     "metadata": {},
     "output_type": "execute_result"
    }
   ],
   "source": [
    "base = pd.read_csv('../Data/BaseData.csv')\n",
    "base.shape"
   ]
  },
  {
   "cell_type": "code",
   "execution_count": 3,
   "id": "7c899eaa",
   "metadata": {},
   "outputs": [],
   "source": [
    "elastic = ElasticNet(alpha=1, l1_ratio=0.5)"
   ]
  },
  {
   "cell_type": "code",
   "execution_count": 4,
   "id": "f722918f",
   "metadata": {},
   "outputs": [],
   "source": [
    "X = base.drop(['SalePrice'], axis=1).values\n",
    "y = base.SalePrice.values"
   ]
  },
  {
   "cell_type": "code",
   "execution_count": 5,
   "id": "fc64617a",
   "metadata": {},
   "outputs": [],
   "source": [
    "scaler = preprocessing.StandardScaler().fit(X)\n",
    "X_scaled = scaler.transform(X)"
   ]
  },
  {
   "cell_type": "code",
   "execution_count": 6,
   "id": "f42599c4",
   "metadata": {},
   "outputs": [],
   "source": [
    "elastic.fit(X_scaled,y)\n",
    "Elastic_Score = elastic.score(X_scaled, y)"
   ]
  },
  {
   "cell_type": "code",
   "execution_count": 7,
   "id": "e88fef9e",
   "metadata": {},
   "outputs": [
    {
     "data": {
      "text/plain": [
       "0.9116846901768204"
      ]
     },
     "execution_count": 7,
     "metadata": {},
     "output_type": "execute_result"
    }
   ],
   "source": [
    "Elastic_Score"
   ]
  },
  {
   "cell_type": "code",
   "execution_count": 8,
   "id": "7d7e944b",
   "metadata": {},
   "outputs": [
    {
     "data": {
      "text/plain": [
       "2580"
      ]
     },
     "execution_count": 8,
     "metadata": {},
     "output_type": "execute_result"
    }
   ],
   "source": [
    "len(elastic.predict(X))"
   ]
  },
  {
   "cell_type": "code",
   "execution_count": 9,
   "id": "a7f2f1fa",
   "metadata": {},
   "outputs": [],
   "source": [
    "Elastic_Results = elastic.predict(X_scaled)"
   ]
  },
  {
   "cell_type": "code",
   "execution_count": null,
   "id": "caccb553",
   "metadata": {},
   "outputs": [],
   "source": []
  },
  {
   "cell_type": "code",
   "execution_count": 11,
   "id": "857acee2",
   "metadata": {},
   "outputs": [
    {
     "data": {
      "text/plain": [
       "(2580, 83)"
      ]
     },
     "execution_count": 11,
     "metadata": {},
     "output_type": "execute_result"
    }
   ],
   "source": [
    "base_ordinal = pd.read_csv('../Data/BaseOrdinal.csv')\n",
    "base_ordinal.shape"
   ]
  },
  {
   "cell_type": "code",
   "execution_count": 13,
   "id": "af2c19ba",
   "metadata": {},
   "outputs": [
    {
     "data": {
      "text/plain": [
       "numpy.ndarray"
      ]
     },
     "execution_count": 13,
     "metadata": {},
     "output_type": "execute_result"
    }
   ],
   "source": [
    "type(Elastic_Results)"
   ]
  },
  {
   "cell_type": "code",
   "execution_count": null,
   "id": "539c0be4",
   "metadata": {},
   "outputs": [],
   "source": []
  },
  {
   "cell_type": "code",
   "execution_count": 14,
   "id": "f7bc9470",
   "metadata": {},
   "outputs": [],
   "source": [
    "base_ordinal = base_ordinal.assign(Elastic = Elastic_Results)"
   ]
  },
  {
   "cell_type": "code",
   "execution_count": 15,
   "id": "cde95bbb",
   "metadata": {},
   "outputs": [
    {
     "data": {
      "text/plain": [
       "(2580, 84)"
      ]
     },
     "execution_count": 15,
     "metadata": {},
     "output_type": "execute_result"
    }
   ],
   "source": [
    "base_ordinal.shape"
   ]
  },
  {
   "cell_type": "code",
   "execution_count": 16,
   "id": "2839637e",
   "metadata": {},
   "outputs": [],
   "source": [
    "base_ordinal.to_csv('Ordinal+Elastic.csv', index=False)"
   ]
  },
  {
   "cell_type": "code",
   "execution_count": null,
   "id": "c27bf653",
   "metadata": {},
   "outputs": [],
   "source": []
  },
  {
   "cell_type": "code",
   "execution_count": null,
   "id": "73151337",
   "metadata": {},
   "outputs": [],
   "source": []
  },
  {
   "cell_type": "code",
   "execution_count": 17,
   "id": "89a6f17c",
   "metadata": {},
   "outputs": [],
   "source": [
    "X_ordinal = base_ordinal.drop(['SalePrice'], axis=1).values\n",
    "Y_ordinal = base_ordinal.SalePrice.values"
   ]
  },
  {
   "cell_type": "code",
   "execution_count": 18,
   "id": "b4790759",
   "metadata": {},
   "outputs": [
    {
     "data": {
      "text/plain": [
       "(2580, 83)"
      ]
     },
     "execution_count": 18,
     "metadata": {},
     "output_type": "execute_result"
    }
   ],
   "source": [
    "X_ordinal.shape"
   ]
  },
  {
   "cell_type": "code",
   "execution_count": 19,
   "id": "2ab94ac0",
   "metadata": {},
   "outputs": [],
   "source": [
    "X_train, X_test, Y_train, Y_test = train_test_split(X_ordinal,Y_ordinal,test_size=0.25)\n",
    "\n",
    "scaler = preprocessing.StandardScaler().fit(X_train)\n",
    "\n",
    "X_train_scaled = scaler.transform(X_train)\n",
    "X_test_scaled = scaler.transform(X_test)\n",
    "    \n",
    "xgb = XGBRegressor()\n",
    "xgb.fit(X_train_scaled, Y_train)\n",
    "XGB_Score = xgb.score(X_test_scaled, Y_test)"
   ]
  },
  {
   "cell_type": "code",
   "execution_count": 20,
   "id": "cd36cfc0",
   "metadata": {},
   "outputs": [
    {
     "data": {
      "text/plain": [
       "0.940538817313"
      ]
     },
     "execution_count": 20,
     "metadata": {},
     "output_type": "execute_result"
    }
   ],
   "source": [
    "XGB_Score"
   ]
  },
  {
   "cell_type": "code",
   "execution_count": null,
   "id": "47354cdc",
   "metadata": {},
   "outputs": [],
   "source": []
  },
  {
   "cell_type": "code",
   "execution_count": 21,
   "id": "446358eb",
   "metadata": {},
   "outputs": [],
   "source": [
    "Scores = []\n",
    "\n",
    "for i in range(100):\n",
    "    \n",
    "    X_train, X_test, Y_train, Y_test = train_test_split(X_ordinal,Y_ordinal,test_size=0.25)\n",
    "    \n",
    "    scaler = preprocessing.StandardScaler().fit(X_train)\n",
    "    X_train_scaled = scaler.transform(X_train)\n",
    "    X_test_scaled = scaler.transform(X_test)\n",
    "    \n",
    "    xgb = XGBRegressor()\n",
    "    xgb.fit(X_train_scaled, Y_train)\n",
    "    XGB_Score = xgb.score(X_test_scaled, Y_test)\n",
    "    \n",
    "    Scores.append(XGB_Score)"
   ]
  },
  {
   "cell_type": "code",
   "execution_count": 22,
   "id": "55e9555d",
   "metadata": {},
   "outputs": [],
   "source": [
    "Positive = []\n",
    "Negative = []\n",
    "\n",
    "for i in Scores:\n",
    "    if i < 0:\n",
    "        Negative.append(i)\n",
    "    else:\n",
    "        Positive.append(i)"
   ]
  },
  {
   "cell_type": "code",
   "execution_count": 23,
   "id": "51a58601",
   "metadata": {},
   "outputs": [
    {
     "name": "stdout",
     "output_type": "stream",
     "text": [
      "Median R2 is: 0.9307018381995871\n",
      "Mean R2 is: 0.9222727956356219\n",
      "Standard Deviation R2 is: 0.021626073034145564\n"
     ]
    },
    {
     "data": {
      "image/png": "[encoded data removed]",
      "text/plain": [
       "<Figure size 432x288 with 1 Axes>"
      ]
     },
     "metadata": {
      "needs_background": "light"
     },
     "output_type": "display_data"
    }
   ],
   "source": [
    "plt.boxplot(Positive)\n",
    "plt.title('R2 for 100 Ensembles (Elastic + XGB) Trials at 75/25 Splits')\n",
    "print(\"Median R2 is: \" + str(statistics.median(Positive)))\n",
    "print(\"Mean R2 is: \" + str(statistics.mean(Positive)))\n",
    "print(\"Standard Deviation R2 is: \" + str(statistics.stdev(Positive)))"
   ]
  },
  {
   "cell_type": "code",
   "execution_count": 24,
   "id": "3b7a25fc",
   "metadata": {},
   "outputs": [
    {
     "name": "stdout",
     "output_type": "stream",
     "text": [
      "Number of times results produced Negative R2: 0\n"
     ]
    }
   ],
   "source": [
    "print(\"Number of times results produced Negative R2: \" + str((len(Negative))))"
   ]
  },
  {
   "cell_type": "code",
   "execution_count": 25,
   "id": "91802b0a",
   "metadata": {},
   "outputs": [
    {
     "data": {
      "text/plain": [
       "[]"
      ]
     },
     "execution_count": 25,
     "metadata": {},
     "output_type": "execute_result"
    }
   ],
   "source": [
    "Negative"
   ]
  },
  {
   "cell_type": "code",
   "execution_count": 26,
   "id": "8c44e4c5",
   "metadata": {},
   "outputs": [],
   "source": [
    "df = pd.DataFrame(Positive, columns=['Ensemble: Elastic + XGB'])\n",
    "df.to_csv('Ensemble_E_XGB_Scores.csv', index=False)"
   ]
  },
  {
   "cell_type": "code",
   "execution_count": null,
   "id": "3f7d2ba9",
   "metadata": {},
   "outputs": [],
   "source": []
  },
  {
   "cell_type": "code",
   "execution_count": null,
   "id": "e8237ba1",
   "metadata": {},
   "outputs": [],
   "source": []
  }
 ],
 "metadata": {
  "hide_input": false,
  "kernelspec": {
   "display_name": "Python 3 (ipykernel)",
   "language": "python",
   "name": "python3"
  },
  "language_info": {
   "codemirror_mode": {
    "name": "ipython",
    "version": 3
   },
   "file_extension": ".py",
   "mimetype": "text/x-python",
   "name": "python",
   "nbconvert_exporter": "python",
   "pygments_lexer": "ipython3",
   "version": "3.8.8"
  },
  "varInspector": {
   "cols": {
    "lenName": 16,
    "lenType": 16,
    "lenVar": 40
   },
   "kernels_config": {
    "python": {
     "delete_cmd_postfix": "",
     "delete_cmd_prefix": "del ",
     "library": "var_list.py",
     "varRefreshCmd": "print(var_dic_list())"
    },
    "r": {
     "delete_cmd_postfix": ") ",
     "delete_cmd_prefix": "rm(",
     "library": "var_list.r",
     "varRefreshCmd": "cat(var_dic_list()) "
    }
   },
   "types_to_exclude": [
    "module",
    "function",
    "builtin_function_or_method",
    "instance",
    "_Feature"
   ],
   "window_display": false
  }
 },
 "nbformat": 4,
 "nbformat_minor": 5
}
