{
 "cells": [
  {
   "cell_type": "code",
   "execution_count": 1,
   "id": "8687365c",
   "metadata": {},
   "outputs": [],
   "source": [
    "import numpy as np\n",
    "import pandas as pd\n",
    "pd.set_option(\"display.max_columns\", 300)\n",
    "\n",
    "from sklearn.model_selection import KFold\n",
    "from sklearn.linear_model import Lasso\n",
    "from sklearn.linear_model import LassoCV\n",
    "\n",
    "from sklearn.metrics import mean_squared_error, r2_score\n",
    "from sklearn.feature_selection import SequentialFeatureSelector\n",
    "\n",
    "from sklearn.model_selection import train_test_split\n",
    "from sklearn import preprocessing"
   ]
  },
  {
   "cell_type": "code",
   "execution_count": 2,
   "id": "da388474",
   "metadata": {},
   "outputs": [],
   "source": [
    "base = pd.read_csv('Data/BaseData.csv')"
   ]
  },
  {
   "cell_type": "code",
   "execution_count": 3,
   "id": "13c5de78",
   "metadata": {},
   "outputs": [
    {
     "data": {
      "text/plain": [
       "(2580, 299)"
      ]
     },
     "execution_count": 3,
     "metadata": {},
     "output_type": "execute_result"
    }
   ],
   "source": [
    "base.shape"
   ]
  },
  {
   "cell_type": "code",
   "execution_count": 4,
   "id": "1ed3b33f",
   "metadata": {},
   "outputs": [
    {
     "data": {
      "text/plain": [
       "0"
      ]
     },
     "execution_count": 4,
     "metadata": {},
     "output_type": "execute_result"
    }
   ],
   "source": [
    "base.isnull().sum().sum()"
   ]
  },
  {
   "cell_type": "code",
   "execution_count": 6,
   "id": "c18cccb8",
   "metadata": {},
   "outputs": [
    {
     "name": "stdout",
     "output_type": "stream",
     "text": [
      "(2064, 298)\n",
      "(2064,)\n",
      "(516, 298)\n",
      "(516,)\n",
      "299.5877391910952\n",
      "Lasso(alpha=299.5877391910952)\n",
      "R2 Train is: 0.9340690947170441\n",
      "R2 Test is: 0.9204672889179866\n",
      "ADJ_R2 is: 0.9100767812886836\n",
      "Features Dropped: 132\n",
      "Features Kept: 166\n",
      "\n",
      "(2064, 298)\n",
      "(2064,)\n",
      "(516, 298)\n",
      "(516,)\n",
      "225.91695896401967\n",
      "Lasso(alpha=225.91695896401967)\n",
      "R2 Train is: 0.9361813382756597\n",
      "R2 Test is: 0.9136192874899125\n",
      "ADJ_R2 is: 0.9023341264517687\n",
      "Features Dropped: 117\n",
      "Features Kept: 181\n",
      "\n",
      "(2064, 298)\n",
      "(2064,)\n",
      "(516, 298)\n",
      "(516,)\n",
      "104.39510561889361\n",
      "Lasso(alpha=104.39510561889361)\n",
      "R2 Train is: 0.9489223197256474\n",
      "R2 Test is: 0.8435135075399975\n",
      "ADJ_R2 is: 0.82306941514496\n",
      "Features Dropped: 74\n",
      "Features Kept: 224\n",
      "\n",
      "(2064, 298)\n",
      "(2064,)\n",
      "(516, 298)\n",
      "(516,)\n",
      "117.16396520147629\n",
      "Lasso(alpha=117.16396520147629)\n",
      "R2 Train is: 0.9350614457788706\n",
      "R2 Test is: 0.9340831766998755\n",
      "ADJ_R2 is: 0.9254715092981056\n",
      "Features Dropped: 72\n",
      "Features Kept: 226\n",
      "\n",
      "(2064, 298)\n",
      "(2064,)\n",
      "(516, 298)\n",
      "(516,)\n",
      "289.79948372400384\n",
      "Lasso(alpha=289.79948372400384)\n",
      "R2 Train is: 0.9336079608899195\n",
      "R2 Test is: 0.9134311392815346\n",
      "ADJ_R2 is: 0.902121397723401\n",
      "Features Dropped: 136\n",
      "Features Kept: 162\n",
      "\n"
     ]
    }
   ],
   "source": [
    "X = base.drop(['SalePrice'], axis=1).values\n",
    "y = base.SalePrice.values\n",
    "\n",
    "X_frame = base.drop(['SalePrice'], axis=1)\n",
    "\n",
    "folds = KFold(n_splits = 5, shuffle = True, random_state = None)\n",
    "\n",
    "for trainIndex, testIndex in folds.split(X):\n",
    "    X_train, X_test = X[trainIndex], X[testIndex]\n",
    "    y_train, y_test = y[trainIndex], y[testIndex]\n",
    "    print(X_train.shape)\n",
    "    print(y_train.shape)\n",
    "    print(X_test.shape)\n",
    "    print(y_test.shape)\n",
    "    \n",
    "    scaler = preprocessing.StandardScaler().fit(X_train)\n",
    "    X_train_scaled = scaler.transform(X_train)\n",
    "    X_test_scaled = scaler.transform(X_test)\n",
    "    \n",
    "    #alphas = 10**np.linspace(10,-2,100)*0.5\n",
    "    lassocv = LassoCV(alphas=None, cv = 10, max_iter = 100000)\n",
    "    lassocv.fit(X_train_scaled, y_train)\n",
    "    print(lassocv.alpha_)\n",
    "    \n",
    "    lasso = Lasso(alpha=lassocv.alpha_)\n",
    "    print(lasso)\n",
    "    lasso.fit(X_train_scaled, y_train)\n",
    "    print('R2 Train is: ' + str(lasso.score(X_train_scaled, y_train)))\n",
    "    print('R2 Test is: ' + str(lasso.score(X_test_scaled, y_test)))\n",
    "    \n",
    "    #the below offers same result as above, good back up:\n",
    "    pred = lasso.predict(X_test_scaled)\n",
    "    #print(r2_score(y_test, pred))\n",
    "    \n",
    "    ADJ_R2 = 1 - (1-r2_score(y_test, pred)) * (len(y)-1)/(len(y)-X.shape[1]-1)\n",
    "    print('ADJ_R2 is: ' + str(ADJ_R2))\n",
    "    \n",
    "    results = pd.DataFrame(lasso.coef_, index=X_frame.columns)\n",
    "    results.columns = ['Coef']\n",
    "    Null = results[(results['Coef']>-1) & (results['Coef']<1)]\n",
    "    Null_list = list(Null.index.values)\n",
    "    Imp = results[(results['Coef']<-1) | (results['Coef']>1)]\n",
    "    Imp_list = list(Imp.index.values)\n",
    "    #print(Null_list)\n",
    "    print('Features Dropped: ' + str(len(Null_list)))\n",
    "    #print(Imp_list)\n",
    "    print('Features Kept: ' + str(len(Imp_list)))\n",
    "    print()"
   ]
  },
  {
   "cell_type": "code",
   "execution_count": null,
   "id": "bf38681e",
   "metadata": {},
   "outputs": [],
   "source": []
  }
 ],
 "metadata": {
  "hide_input": false,
  "kernelspec": {
   "display_name": "Python 3 (ipykernel)",
   "language": "python",
   "name": "python3"
  },
  "language_info": {
   "codemirror_mode": {
    "name": "ipython",
    "version": 3
   },
   "file_extension": ".py",
   "mimetype": "text/x-python",
   "name": "python",
   "nbconvert_exporter": "python",
   "pygments_lexer": "ipython3",
   "version": "3.8.8"
  },
  "varInspector": {
   "cols": {
    "lenName": 16,
    "lenType": 16,
    "lenVar": 40
   },
   "kernels_config": {
    "python": {
     "delete_cmd_postfix": "",
     "delete_cmd_prefix": "del ",
     "library": "var_list.py",
     "varRefreshCmd": "print(var_dic_list())"
    },
    "r": {
     "delete_cmd_postfix": ") ",
     "delete_cmd_prefix": "rm(",
     "library": "var_list.r",
     "varRefreshCmd": "cat(var_dic_list()) "
    }
   },
   "types_to_exclude": [
    "module",
    "function",
    "builtin_function_or_method",
    "instance",
    "_Feature"
   ],
   "window_display": false
  }
 },
 "nbformat": 4,
 "nbformat_minor": 5
}
