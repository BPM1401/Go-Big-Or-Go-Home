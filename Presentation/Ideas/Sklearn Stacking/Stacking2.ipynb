{
 "cells": [
  {
   "cell_type": "code",
   "execution_count": 1,
   "id": "7475b10b",
   "metadata": {},
   "outputs": [],
   "source": [
    "import pandas as pd\n",
    "import numpy as np\n",
    "\n",
    "import sklearn \n",
    "\n",
    "from numpy import mean\n",
    "from numpy import std\n",
    "\n",
    "from sklearn.preprocessing import StandardScaler\n",
    "\n",
    "from catboost import CatBoostRegressor\n",
    "#from sklearn.linear_model import Ridge\n",
    "#from sklearn.linear_model import Lasso\n",
    "#from sklearn.linear_model import ElasticNet\n",
    "#from sklearn.ensemble import RandomForestRegressor\n",
    "from sklearn.ensemble import GradientBoostingRegressor\n",
    "#from xgboost import XGBRegressor\n",
    "#from sklearn.svm import SVR\n",
    "\n",
    "from sklearn.ensemble import StackingRegressor\n",
    "\n",
    "from sklearn.model_selection import cross_val_score, cross_validate\n",
    "from sklearn.model_selection import RepeatedKFold\n",
    "\n",
    "#from sklearn.metrics import make_scorer\n",
    "\n",
    "from matplotlib import pyplot\n",
    "import seaborn as sns"
   ]
  },
  {
   "cell_type": "code",
   "execution_count": null,
   "id": "a280e257",
   "metadata": {},
   "outputs": [],
   "source": []
  },
  {
   "cell_type": "code",
   "execution_count": 2,
   "id": "70cdd078",
   "metadata": {},
   "outputs": [],
   "source": [
    "# Basic Ordinal Encoded Dataset for Non-Linear Models\n",
    "ordinal = pd.read_csv('../Data/BaseOrdinal.csv')\n",
    "\n",
    "X_o = ordinal.drop(['SalePrice'], axis=1).values\n",
    "y_o = ordinal.SalePrice.values\n",
    "\n",
    "scaler_o = StandardScaler()\n",
    "X_o = scaler_o.fit_transform(X_o)"
   ]
  },
  {
   "cell_type": "code",
   "execution_count": 3,
   "id": "40571c14",
   "metadata": {},
   "outputs": [],
   "source": [
    "# Basic Dummified Dataset for Linear Models\n",
    "base = pd.read_csv('../Data/BaseData.csv')\n",
    "\n",
    "X_b = base.drop(['SalePrice'], axis=1).values\n",
    "y_b = base.SalePrice.values\n",
    "\n",
    "scaler_b = StandardScaler()\n",
    "X_b = scaler_b.fit_transform(X_b)"
   ]
  },
  {
   "cell_type": "code",
   "execution_count": null,
   "id": "61dbb784",
   "metadata": {},
   "outputs": [],
   "source": []
  },
  {
   "cell_type": "code",
   "execution_count": null,
   "id": "75058ce7",
   "metadata": {},
   "outputs": [],
   "source": []
  },
  {
   "cell_type": "code",
   "execution_count": 4,
   "id": "3c4aafc6",
   "metadata": {},
   "outputs": [],
   "source": [
    "# get a stacking ensemble of models\n",
    "def get_stacking():\n",
    "    # define the base models\n",
    "    level0 = list()\n",
    "    level0.append(('cb', CatBoostRegressor(verbose=False)))\n",
    "    #level0.append(('cart', DecisionTreeRegressor()))\n",
    "    #level0.append(('svm', SVR()))\n",
    "    # define meta learner model\n",
    "    level1 = GradientBoostingRegressor()\n",
    "    # define the stacking ensemble\n",
    "    model = StackingRegressor(estimators=level0, final_estimator=level1, cv=5) \n",
    "    return model"
   ]
  },
  {
   "cell_type": "code",
   "execution_count": 5,
   "id": "e9da83ac",
   "metadata": {},
   "outputs": [],
   "source": [
    "def get_models():\n",
    "    models = dict()\n",
    "    models['cb'] = CatBoostRegressor(verbose=False) \n",
    "    models['gradient boost'] = GradientBoostingRegressor() \n",
    "    models['stacking'] = get_stacking() \n",
    "    return models"
   ]
  },
  {
   "cell_type": "code",
   "execution_count": 6,
   "id": "04a6f87b",
   "metadata": {},
   "outputs": [],
   "source": [
    "scoring = {'r2': 'r2',\n",
    "           'neg_mae': 'neg_mean_absolute_error'}"
   ]
  },
  {
   "cell_type": "code",
   "execution_count": 7,
   "id": "08c69df4",
   "metadata": {},
   "outputs": [],
   "source": [
    "def evaluate_model(model, X, y):\n",
    "    \n",
    "    # define the evaluation procedure\n",
    "    cv = RepeatedKFold(n_splits=5, n_repeats=1, random_state=1)\n",
    "    \n",
    "    # evaluate the model and collect the results\n",
    "    scores = cross_validate(model, X, y, scoring=scoring, cv=cv, n_jobs=-1) \n",
    "    \n",
    "    df = pd.DataFrame(scores)\n",
    "    \n",
    "    return df"
   ]
  },
  {
   "cell_type": "code",
   "execution_count": 8,
   "id": "53ebaa29",
   "metadata": {},
   "outputs": [],
   "source": [
    "df_cb = evaluate_model(CatBoostRegressor(verbose=False), X_o, y_o)"
   ]
  },
  {
   "cell_type": "code",
   "execution_count": 9,
   "id": "822d7ea7",
   "metadata": {},
   "outputs": [
    {
     "data": {
      "text/html": [
       "<div>\n",
       "<style scoped>\n",
       "    .dataframe tbody tr th:only-of-type {\n",
       "        vertical-align: middle;\n",
       "    }\n",
       "\n",
       "    .dataframe tbody tr th {\n",
       "        vertical-align: top;\n",
       "    }\n",
       "\n",
       "    .dataframe thead th {\n",
       "        text-align: right;\n",
       "    }\n",
       "</style>\n",
       "<table border=\"1\" class=\"dataframe\">\n",
       "  <thead>\n",
       "    <tr style=\"text-align: right;\">\n",
       "      <th></th>\n",
       "      <th>fit_time</th>\n",
       "      <th>score_time</th>\n",
       "      <th>test_r2</th>\n",
       "      <th>test_neg_mae</th>\n",
       "    </tr>\n",
       "  </thead>\n",
       "  <tbody>\n",
       "    <tr>\n",
       "      <th>0</th>\n",
       "      <td>5.052222</td>\n",
       "      <td>0.012686</td>\n",
       "      <td>0.930637</td>\n",
       "      <td>-12458.598681</td>\n",
       "    </tr>\n",
       "    <tr>\n",
       "      <th>1</th>\n",
       "      <td>4.971679</td>\n",
       "      <td>0.012705</td>\n",
       "      <td>0.903094</td>\n",
       "      <td>-12068.154461</td>\n",
       "    </tr>\n",
       "    <tr>\n",
       "      <th>2</th>\n",
       "      <td>5.109332</td>\n",
       "      <td>0.011164</td>\n",
       "      <td>0.935673</td>\n",
       "      <td>-12285.637600</td>\n",
       "    </tr>\n",
       "    <tr>\n",
       "      <th>3</th>\n",
       "      <td>4.870954</td>\n",
       "      <td>0.013534</td>\n",
       "      <td>0.929734</td>\n",
       "      <td>-11867.911520</td>\n",
       "    </tr>\n",
       "    <tr>\n",
       "      <th>4</th>\n",
       "      <td>4.999295</td>\n",
       "      <td>0.011896</td>\n",
       "      <td>0.950324</td>\n",
       "      <td>-11318.734225</td>\n",
       "    </tr>\n",
       "  </tbody>\n",
       "</table>\n",
       "</div>"
      ],
      "text/plain": [
       "   fit_time  score_time   test_r2  test_neg_mae\n",
       "0  5.052222    0.012686  0.930637 -12458.598681\n",
       "1  4.971679    0.012705  0.903094 -12068.154461\n",
       "2  5.109332    0.011164  0.935673 -12285.637600\n",
       "3  4.870954    0.013534  0.929734 -11867.911520\n",
       "4  4.999295    0.011896  0.950324 -11318.734225"
      ]
     },
     "execution_count": 9,
     "metadata": {},
     "output_type": "execute_result"
    }
   ],
   "source": [
    "df_cb"
   ]
  },
  {
   "cell_type": "code",
   "execution_count": 10,
   "id": "5e43fb5e",
   "metadata": {},
   "outputs": [],
   "source": [
    "df_gbm = evaluate_model(GradientBoostingRegressor(), X_o, y_o)"
   ]
  },
  {
   "cell_type": "code",
   "execution_count": 11,
   "id": "4cf4d5bc",
   "metadata": {},
   "outputs": [
    {
     "data": {
      "text/html": [
       "<div>\n",
       "<style scoped>\n",
       "    .dataframe tbody tr th:only-of-type {\n",
       "        vertical-align: middle;\n",
       "    }\n",
       "\n",
       "    .dataframe tbody tr th {\n",
       "        vertical-align: top;\n",
       "    }\n",
       "\n",
       "    .dataframe thead th {\n",
       "        text-align: right;\n",
       "    }\n",
       "</style>\n",
       "<table border=\"1\" class=\"dataframe\">\n",
       "  <thead>\n",
       "    <tr style=\"text-align: right;\">\n",
       "      <th></th>\n",
       "      <th>fit_time</th>\n",
       "      <th>score_time</th>\n",
       "      <th>test_r2</th>\n",
       "      <th>test_neg_mae</th>\n",
       "    </tr>\n",
       "  </thead>\n",
       "  <tbody>\n",
       "    <tr>\n",
       "      <th>0</th>\n",
       "      <td>0.934897</td>\n",
       "      <td>0.001335</td>\n",
       "      <td>0.917604</td>\n",
       "      <td>-14273.330859</td>\n",
       "    </tr>\n",
       "    <tr>\n",
       "      <th>1</th>\n",
       "      <td>0.934804</td>\n",
       "      <td>0.001299</td>\n",
       "      <td>0.831319</td>\n",
       "      <td>-13979.651137</td>\n",
       "    </tr>\n",
       "    <tr>\n",
       "      <th>2</th>\n",
       "      <td>0.942021</td>\n",
       "      <td>0.001270</td>\n",
       "      <td>0.919332</td>\n",
       "      <td>-14156.107988</td>\n",
       "    </tr>\n",
       "    <tr>\n",
       "      <th>3</th>\n",
       "      <td>0.942383</td>\n",
       "      <td>0.001270</td>\n",
       "      <td>0.902700</td>\n",
       "      <td>-13557.214801</td>\n",
       "    </tr>\n",
       "    <tr>\n",
       "      <th>4</th>\n",
       "      <td>0.939984</td>\n",
       "      <td>0.001497</td>\n",
       "      <td>0.925318</td>\n",
       "      <td>-13499.393658</td>\n",
       "    </tr>\n",
       "  </tbody>\n",
       "</table>\n",
       "</div>"
      ],
      "text/plain": [
       "   fit_time  score_time   test_r2  test_neg_mae\n",
       "0  0.934897    0.001335  0.917604 -14273.330859\n",
       "1  0.934804    0.001299  0.831319 -13979.651137\n",
       "2  0.942021    0.001270  0.919332 -14156.107988\n",
       "3  0.942383    0.001270  0.902700 -13557.214801\n",
       "4  0.939984    0.001497  0.925318 -13499.393658"
      ]
     },
     "execution_count": 11,
     "metadata": {},
     "output_type": "execute_result"
    }
   ],
   "source": [
    "df_gbm"
   ]
  },
  {
   "cell_type": "code",
   "execution_count": 12,
   "id": "45729b5d",
   "metadata": {},
   "outputs": [],
   "source": [
    "df_stack = evaluate_model(get_stacking(), X_b, y_b)"
   ]
  },
  {
   "cell_type": "code",
   "execution_count": 13,
   "id": "9cc694b8",
   "metadata": {},
   "outputs": [
    {
     "data": {
      "text/html": [
       "<div>\n",
       "<style scoped>\n",
       "    .dataframe tbody tr th:only-of-type {\n",
       "        vertical-align: middle;\n",
       "    }\n",
       "\n",
       "    .dataframe tbody tr th {\n",
       "        vertical-align: top;\n",
       "    }\n",
       "\n",
       "    .dataframe thead th {\n",
       "        text-align: right;\n",
       "    }\n",
       "</style>\n",
       "<table border=\"1\" class=\"dataframe\">\n",
       "  <thead>\n",
       "    <tr style=\"text-align: right;\">\n",
       "      <th></th>\n",
       "      <th>fit_time</th>\n",
       "      <th>score_time</th>\n",
       "      <th>test_r2</th>\n",
       "      <th>test_neg_mae</th>\n",
       "    </tr>\n",
       "  </thead>\n",
       "  <tbody>\n",
       "    <tr>\n",
       "      <th>count</th>\n",
       "      <td>5.000000</td>\n",
       "      <td>5.000000</td>\n",
       "      <td>5.000000</td>\n",
       "      <td>5.000000</td>\n",
       "    </tr>\n",
       "    <tr>\n",
       "      <th>mean</th>\n",
       "      <td>37.585126</td>\n",
       "      <td>0.040443</td>\n",
       "      <td>0.908220</td>\n",
       "      <td>-12588.962210</td>\n",
       "    </tr>\n",
       "    <tr>\n",
       "      <th>std</th>\n",
       "      <td>0.488445</td>\n",
       "      <td>0.002624</td>\n",
       "      <td>0.045388</td>\n",
       "      <td>488.814865</td>\n",
       "    </tr>\n",
       "    <tr>\n",
       "      <th>min</th>\n",
       "      <td>36.898669</td>\n",
       "      <td>0.038135</td>\n",
       "      <td>0.828919</td>\n",
       "      <td>-13207.171544</td>\n",
       "    </tr>\n",
       "    <tr>\n",
       "      <th>25%</th>\n",
       "      <td>37.334051</td>\n",
       "      <td>0.038451</td>\n",
       "      <td>0.912699</td>\n",
       "      <td>-12976.334905</td>\n",
       "    </tr>\n",
       "    <tr>\n",
       "      <th>50%</th>\n",
       "      <td>37.714269</td>\n",
       "      <td>0.039676</td>\n",
       "      <td>0.926566</td>\n",
       "      <td>-12448.537744</td>\n",
       "    </tr>\n",
       "    <tr>\n",
       "      <th>75%</th>\n",
       "      <td>37.793576</td>\n",
       "      <td>0.041424</td>\n",
       "      <td>0.936235</td>\n",
       "      <td>-12277.939321</td>\n",
       "    </tr>\n",
       "    <tr>\n",
       "      <th>max</th>\n",
       "      <td>38.185063</td>\n",
       "      <td>0.044529</td>\n",
       "      <td>0.936683</td>\n",
       "      <td>-12034.827537</td>\n",
       "    </tr>\n",
       "  </tbody>\n",
       "</table>\n",
       "</div>"
      ],
      "text/plain": [
       "        fit_time  score_time   test_r2  test_neg_mae\n",
       "count   5.000000    5.000000  5.000000      5.000000\n",
       "mean   37.585126    0.040443  0.908220 -12588.962210\n",
       "std     0.488445    0.002624  0.045388    488.814865\n",
       "min    36.898669    0.038135  0.828919 -13207.171544\n",
       "25%    37.334051    0.038451  0.912699 -12976.334905\n",
       "50%    37.714269    0.039676  0.926566 -12448.537744\n",
       "75%    37.793576    0.041424  0.936235 -12277.939321\n",
       "max    38.185063    0.044529  0.936683 -12034.827537"
      ]
     },
     "execution_count": 13,
     "metadata": {},
     "output_type": "execute_result"
    }
   ],
   "source": [
    "df_stack.describe()"
   ]
  },
  {
   "cell_type": "code",
   "execution_count": 14,
   "id": "afd28027",
   "metadata": {},
   "outputs": [
    {
     "data": {
      "image/png": "[encoded data removed]",
      "text/plain": [
       "<Figure size 432x288 with 1 Axes>"
      ]
     },
     "metadata": {
      "needs_background": "light"
     },
     "output_type": "display_data"
    }
   ],
   "source": [
    "sns.boxplot(data=df_stack[['test_r2']], showmeans=True,\n",
    "           meanprops={\"marker\":\"o\",\n",
    "                       \"markerfacecolor\":\"white\", \n",
    "                       \"markeredgecolor\":\"black\",\n",
    "                      \"markersize\":\"8\"});"
   ]
  },
  {
   "cell_type": "code",
   "execution_count": null,
   "id": "013c62c4",
   "metadata": {},
   "outputs": [],
   "source": []
  }
 ],
 "metadata": {
  "hide_input": false,
  "kernelspec": {
   "display_name": "Python 3 (ipykernel)",
   "language": "python",
   "name": "python3"
  },
  "language_info": {
   "codemirror_mode": {
    "name": "ipython",
    "version": 3
   },
   "file_extension": ".py",
   "mimetype": "text/x-python",
   "name": "python",
   "nbconvert_exporter": "python",
   "pygments_lexer": "ipython3",
   "version": "3.8.8"
  },
  "varInspector": {
   "cols": {
    "lenName": 16,
    "lenType": 16,
    "lenVar": 40
   },
   "kernels_config": {
    "python": {
     "delete_cmd_postfix": "",
     "delete_cmd_prefix": "del ",
     "library": "var_list.py",
     "varRefreshCmd": "print(var_dic_list())"
    },
    "r": {
     "delete_cmd_postfix": ") ",
     "delete_cmd_prefix": "rm(",
     "library": "var_list.r",
     "varRefreshCmd": "cat(var_dic_list()) "
    }
   },
   "types_to_exclude": [
    "module",
    "function",
    "builtin_function_or_method",
    "instance",
    "_Feature"
   ],
   "window_display": false
  }
 },
 "nbformat": 4,
 "nbformat_minor": 5
}
