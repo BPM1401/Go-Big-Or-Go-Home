{
 "cells": [
  {
   "cell_type": "code",
   "execution_count": 1,
   "id": "0f2f393f",
   "metadata": {},
   "outputs": [],
   "source": [
    "import numpy as np\n",
    "import pandas as pd\n",
    "import sklearn.ensemble\n",
    "%matplotlib inline\n",
    "import matplotlib.pyplot as plt\n",
    "plt.style.use('ggplot')"
   ]
  },
  {
   "cell_type": "code",
   "execution_count": 2,
   "id": "e094b503",
   "metadata": {},
   "outputs": [],
   "source": [
    "from sklearn.ensemble import GradientBoostingRegressor\n",
    "\n",
    "from sklearn.model_selection import train_test_split\n",
    "from sklearn.preprocessing import StandardScaler"
   ]
  },
  {
   "cell_type": "code",
   "execution_count": 3,
   "id": "8a3722eb",
   "metadata": {},
   "outputs": [],
   "source": [
    "base = pd.read_csv('../Data/BaseData.csv')"
   ]
  },
  {
   "cell_type": "code",
   "execution_count": 4,
   "id": "83782a8c",
   "metadata": {},
   "outputs": [
    {
     "data": {
      "text/plain": [
       "(2580, 299)"
      ]
     },
     "execution_count": 4,
     "metadata": {},
     "output_type": "execute_result"
    }
   ],
   "source": [
    "base.shape"
   ]
  },
  {
   "cell_type": "code",
   "execution_count": 5,
   "id": "37268b76",
   "metadata": {},
   "outputs": [],
   "source": [
    "gbm = GradientBoostingRegressor()"
   ]
  },
  {
   "cell_type": "code",
   "execution_count": 6,
   "id": "3f2d6a15",
   "metadata": {},
   "outputs": [],
   "source": [
    "X = base.drop(['SalePrice'], axis=1).values\n",
    "y = base.SalePrice.values"
   ]
  },
  {
   "cell_type": "code",
   "execution_count": 7,
   "id": "bb658d29",
   "metadata": {},
   "outputs": [
    {
     "data": {
      "text/plain": [
       "GradientBoostingRegressor()"
      ]
     },
     "execution_count": 7,
     "metadata": {},
     "output_type": "execute_result"
    }
   ],
   "source": [
    "gbm.fit(X,y)"
   ]
  },
  {
   "cell_type": "code",
   "execution_count": 8,
   "id": "41f9ddde",
   "metadata": {},
   "outputs": [
    {
     "data": {
      "text/plain": [
       "0.963814292526382"
      ]
     },
     "execution_count": 8,
     "metadata": {},
     "output_type": "execute_result"
    }
   ],
   "source": [
    "gbm.score(X,y)"
   ]
  },
  {
   "cell_type": "code",
   "execution_count": 9,
   "id": "96065176",
   "metadata": {},
   "outputs": [
    {
     "data": {
      "text/plain": [
       "[('OverallQual', 0.4865024860842125),\n",
       " ('GrLivArea', 0.16547510538022295),\n",
       " ('TotalBsmtSF', 0.0519297135564174),\n",
       " ('YearBuilt', 0.04853573497584956),\n",
       " ('1stFlrSF', 0.046597213835743986),\n",
       " ('BsmtFinSF1', 0.034634993162830606),\n",
       " ('GarageArea', 0.03181680792056865),\n",
       " ('Fireplaces', 0.016587106569037852),\n",
       " ('GarageCars', 0.016196202490314865),\n",
       " ('LotArea', 0.013777114797778153),\n",
       " ('YearRemodAdd', 0.011087615021397448),\n",
       " ('2ndFlrSF', 0.011065679434226868),\n",
       " ('OverallCond', 0.008642737687892973),\n",
       " ('MSSubClass_60', 0.006067422146754832),\n",
       " ('KitchenQual_TA', 0.006027160540520036),\n",
       " ('FireplaceQu_None', 0.005179384712364848),\n",
       " ('CentralAir_Y', 0.003339361575049342),\n",
       " ('MasVnrArea', 0.00303766052887361),\n",
       " ('BsmtExposure_Gd', 0.0026032774116810076),\n",
       " ('ScreenPorch', 0.0023588675775050153),\n",
       " ('BsmtFullBath', 0.002277826975730768),\n",
       " ('Neighborhood_Crawfor', 0.0022439380366596337),\n",
       " ('PID', 0.002197937345416752),\n",
       " ('MSZoning_RL', 0.0018985382203336502),\n",
       " ('GarageType_Detchd', 0.0017542346565003228),\n",
       " ('SaleCondition_Partial', 0.0016112655184060416),\n",
       " ('SaleCondition_Family', 0.0014229963720944804),\n",
       " ('GarageType_Attchd', 0.0009602895012264468),\n",
       " ('BsmtFinType1_GLQ', 0.0008144473523181977),\n",
       " ('Neighborhood_StoneBr', 0.0007644974896108104),\n",
       " ('LotFrontage', 0.0007617515871675899),\n",
       " ('Neighborhood_Somerst', 0.0007311043100390268),\n",
       " ('Neighborhood_GrnHill', 0.0007208844902345324),\n",
       " ('MSZoning_RM', 0.0007057414210790395),\n",
       " ('Functional_Typ', 0.0007001269095024982),\n",
       " ('Exterior1st_BrkFace', 0.0006566944676074772),\n",
       " ('OpenPorchSF', 0.0006468764283055954),\n",
       " ('HalfBath', 0.0005460762515949278),\n",
       " ('LandContour_Lvl', 0.0005338458861687401),\n",
       " ('Neighborhood_ClearCr', 0.0004993608048282998),\n",
       " ('GarageCond_TA', 0.0004949039204867908),\n",
       " ('WoodDeckSF', 0.00047636590431909874),\n",
       " ('Condition1_Norm', 0.00042649825015749),\n",
       " ('BsmtUnfSF', 0.000402649049270905),\n",
       " ('GarageYrBlt', 0.0003627655401255074),\n",
       " ('BsmtFinSF2', 0.0003446310703664586),\n",
       " ('SaleCondition_Normal', 0.00020182892193069865),\n",
       " ('MoSold_7', 0.00018713508020300518),\n",
       " ('EnclosedPorch', 0.00017935023506304552),\n",
       " ('Unnamed: 0.1', 0.0001715154726484621),\n",
       " ('Heating_OthW', 0.00015040810335535047),\n",
       " ('Condition2_PosN', 0.00014370088885542356),\n",
       " ('BsmtQual_Gd', 0.00013355456400023286),\n",
       " ('ExterQual_TA', 0.0001304738500179873),\n",
       " ('PavedDrive_Y', 0.00012428865841243716),\n",
       " ('KitchenAbvGr', 0.00011757788176436605),\n",
       " ('HouseStyle_1Story', 0.00011675133738978857),\n",
       " ('LandSlope_Mod', 0.00011438037256704578),\n",
       " ('LotConfig_FR3', 0.00010881727669322691),\n",
       " ('ExterCond_Gd', 0.00010645963011102653),\n",
       " ('FullBath', 0.00010026822406581661),\n",
       " ('Neighborhood_Edwards', 9.309746564519056e-05),\n",
       " ('BsmtCond_Gd', 9.153441624293962e-05),\n",
       " ('MoSold_10', 8.454022578873038e-05),\n",
       " ('HeatingQC_TA', 7.747237743840523e-05),\n",
       " ('MoSold_8', 7.544675802688053e-05),\n",
       " ('BsmtHalfBath', 7.263270975018974e-05),\n",
       " ('RoofMatl_WdShngl', 7.217872755719326e-05),\n",
       " ('Exterior2nd_Plywood', 6.89624774782047e-05),\n",
       " ('RoofStyle_Mansard', 6.157668752974724e-05),\n",
       " ('SaleType_New', 5.38401710119056e-05),\n",
       " ('MSSubClass_30', 5.159529506248843e-05),\n",
       " ('BsmtExposure_No', 5.1424281762907054e-05),\n",
       " ('MSZoning_FV', 4.7791877772235767e-05),\n",
       " ('Unnamed: 0', 4.569253530177759e-05),\n",
       " ('BsmtQual_TA', 4.360266193753947e-05),\n",
       " ('MSSubClass_50', 4.121457538649294e-05),\n",
       " ('BedroomAbvGr', 3.916763337880379e-05),\n",
       " ('MasVnrType_Stone', 3.8789378565953715e-05),\n",
       " ('Condition1_PosN', 3.684234981351949e-05),\n",
       " ('Condition1_PosA', 3.592852942473257e-05),\n",
       " ('RoofStyle_Gable', 3.323438423677834e-05),\n",
       " ('Foundation_Wood', 3.3198265000735714e-05),\n",
       " ('Exterior1st_WdShing', 3.141841764418255e-05),\n",
       " ('PavedDrive_P', 2.69294016843315e-05),\n",
       " ('Exterior1st_HdBoard', 2.6021858925415056e-05),\n",
       " ('BsmtFinType1_LwQ', 2.288799702805146e-05),\n",
       " ('BsmtFinType1_Rec', 2.015359361536844e-05),\n",
       " ('YrSold_2010', 1.7466916990352095e-05),\n",
       " ('BsmtCond_Fa', 1.4126482660058549e-05),\n",
       " ('RoofStyle_Hip', 1.3129475434008898e-05),\n",
       " ('Exterior1st_MetalSd', 1.204422236982713e-05),\n",
       " ('LotShape_Reg', 1.0704685877417906e-05),\n",
       " ('KitchenQual_Gd', 1.0451349922380167e-05),\n",
       " ('Exterior1st_VinylSd', 9.467716268399707e-06),\n",
       " ('HouseStyle_2.5Fin', 9.405237204463197e-06),\n",
       " ('YrSold_2008', 6.443851992169879e-06),\n",
       " ('BsmtFinType1_BLQ', 5.602918417678692e-06),\n",
       " ('Exterior2nd_Wd Sdng', 3.6194628106943784e-06),\n",
       " ('BsmtExposure_None', 1.6663109952672832e-06),\n",
       " ('MoSold_9', 1.2883515704990425e-06),\n",
       " ('BsmtCond_None', 1.112178594405943e-06),\n",
       " ('Alley_None', 8.925759987946872e-07),\n",
       " ('YrSold_2009', 6.688357297290482e-07),\n",
       " ('TotRmsAbvGrd', 3.307082817420894e-07),\n",
       " ('MSSubClass_150', 0.0),\n",
       " ('MSSubClass_160', 0.0),\n",
       " ('MSSubClass_180', 0.0),\n",
       " ('MSSubClass_190', 0.0),\n",
       " ('MSSubClass_20', 0.0),\n",
       " ('MSSubClass_40', 0.0),\n",
       " ('MSSubClass_45', 0.0),\n",
       " ('MSSubClass_70', 0.0),\n",
       " ('MSSubClass_75', 0.0),\n",
       " ('MSSubClass_80', 0.0),\n",
       " ('MSSubClass_85', 0.0),\n",
       " ('MSSubClass_90', 0.0),\n",
       " ('MSZoning_C (all)', 0.0),\n",
       " ('MSZoning_I (all)', 0.0),\n",
       " ('MSZoning_RH', 0.0),\n",
       " ('Street_Pave', 0.0),\n",
       " ('Alley_Pave', 0.0),\n",
       " ('LotShape_IR2', 0.0),\n",
       " ('LotShape_IR3', 0.0),\n",
       " ('LandContour_HLS', 0.0),\n",
       " ('LandContour_Low', 0.0),\n",
       " ('Utilities_NoSewr', 0.0),\n",
       " ('LotConfig_CulDSac', 0.0),\n",
       " ('LotConfig_FR2', 0.0),\n",
       " ('LotConfig_Inside', 0.0),\n",
       " ('LandSlope_Sev', 0.0),\n",
       " ('Neighborhood_Blueste', 0.0),\n",
       " ('Neighborhood_BrDale', 0.0),\n",
       " ('Neighborhood_BrkSide', 0.0),\n",
       " ('Neighborhood_CollgCr', 0.0),\n",
       " ('Neighborhood_Gilbert', 0.0),\n",
       " ('Neighborhood_Greens', 0.0),\n",
       " ('Neighborhood_IDOTRR', 0.0),\n",
       " ('Neighborhood_Landmrk', 0.0),\n",
       " ('Neighborhood_MeadowV', 0.0),\n",
       " ('Neighborhood_Mitchel', 0.0),\n",
       " ('Neighborhood_NAmes', 0.0),\n",
       " ('Neighborhood_NPkVill', 0.0),\n",
       " ('Neighborhood_NWAmes', 0.0),\n",
       " ('Neighborhood_NoRidge', 0.0),\n",
       " ('Neighborhood_NridgHt', 0.0),\n",
       " ('Neighborhood_OldTown', 0.0),\n",
       " ('Neighborhood_SWISU', 0.0),\n",
       " ('Neighborhood_Sawyer', 0.0),\n",
       " ('Neighborhood_SawyerW', 0.0),\n",
       " ('Neighborhood_Timber', 0.0),\n",
       " ('Neighborhood_Veenker', 0.0),\n",
       " ('Condition1_Feedr', 0.0),\n",
       " ('Condition1_RRAe', 0.0),\n",
       " ('Condition1_RRAn', 0.0),\n",
       " ('Condition1_RRNe', 0.0),\n",
       " ('Condition1_RRNn', 0.0),\n",
       " ('Condition2_Feedr', 0.0),\n",
       " ('Condition2_Norm', 0.0),\n",
       " ('Condition2_PosA', 0.0),\n",
       " ('Condition2_RRAe', 0.0),\n",
       " ('Condition2_RRAn', 0.0),\n",
       " ('Condition2_RRNn', 0.0),\n",
       " ('BldgType_2fmCon', 0.0),\n",
       " ('BldgType_Duplex', 0.0),\n",
       " ('BldgType_Twnhs', 0.0),\n",
       " ('BldgType_TwnhsE', 0.0),\n",
       " ('HouseStyle_1.5Unf', 0.0),\n",
       " ('HouseStyle_2.5Unf', 0.0),\n",
       " ('HouseStyle_2Story', 0.0),\n",
       " ('HouseStyle_SFoyer', 0.0),\n",
       " ('HouseStyle_SLvl', 0.0),\n",
       " ('RoofStyle_Gambrel', 0.0),\n",
       " ('RoofStyle_Shed', 0.0),\n",
       " ('RoofMatl_Membran', 0.0),\n",
       " ('RoofMatl_Metal', 0.0),\n",
       " ('RoofMatl_Roll', 0.0),\n",
       " ('RoofMatl_Tar&Grv', 0.0),\n",
       " ('RoofMatl_WdShake', 0.0),\n",
       " ('Exterior1st_AsphShn', 0.0),\n",
       " ('Exterior1st_BrkComm', 0.0),\n",
       " ('Exterior1st_CBlock', 0.0),\n",
       " ('Exterior1st_CemntBd', 0.0),\n",
       " ('Exterior1st_ImStucc', 0.0),\n",
       " ('Exterior1st_Plywood', 0.0),\n",
       " ('Exterior1st_PreCast', 0.0),\n",
       " ('Exterior1st_Stucco', 0.0),\n",
       " ('Exterior1st_Wd Sdng', 0.0),\n",
       " ('Exterior2nd_AsphShn', 0.0),\n",
       " ('Exterior2nd_Brk Cmn', 0.0),\n",
       " ('Exterior2nd_BrkFace', 0.0),\n",
       " ('Exterior2nd_CBlock', 0.0),\n",
       " ('Exterior2nd_CmentBd', 0.0),\n",
       " ('Exterior2nd_HdBoard', 0.0),\n",
       " ('Exterior2nd_ImStucc', 0.0),\n",
       " ('Exterior2nd_MetalSd', 0.0),\n",
       " ('Exterior2nd_PreCast', 0.0),\n",
       " ('Exterior2nd_Stone', 0.0),\n",
       " ('Exterior2nd_Stucco', 0.0),\n",
       " ('Exterior2nd_VinylSd', 0.0),\n",
       " ('Exterior2nd_Wd Shng', 0.0),\n",
       " ('MasVnrType_BrkFace', 0.0),\n",
       " ('MasVnrType_None', 0.0),\n",
       " ('ExterQual_Fa', 0.0),\n",
       " ('ExterQual_Gd', 0.0),\n",
       " ('ExterCond_Fa', 0.0),\n",
       " ('ExterCond_Po', 0.0),\n",
       " ('ExterCond_TA', 0.0),\n",
       " ('Foundation_CBlock', 0.0),\n",
       " ('Foundation_PConc', 0.0),\n",
       " ('Foundation_Slab', 0.0),\n",
       " ('Foundation_Stone', 0.0),\n",
       " ('BsmtQual_Fa', 0.0),\n",
       " ('BsmtQual_None', 0.0),\n",
       " ('BsmtQual_Po', 0.0),\n",
       " ('BsmtCond_Po', 0.0),\n",
       " ('BsmtCond_TA', 0.0),\n",
       " ('BsmtExposure_Mn', 0.0),\n",
       " ('BsmtFinType1_None', 0.0),\n",
       " ('BsmtFinType1_Unf', 0.0),\n",
       " ('BsmtFinType2_BLQ', 0.0),\n",
       " ('BsmtFinType2_GLQ', 0.0),\n",
       " ('BsmtFinType2_LwQ', 0.0),\n",
       " ('BsmtFinType2_None', 0.0),\n",
       " ('BsmtFinType2_Rec', 0.0),\n",
       " ('BsmtFinType2_Unf', 0.0),\n",
       " ('Heating_GasA', 0.0),\n",
       " ('Heating_GasW', 0.0),\n",
       " ('Heating_Grav', 0.0),\n",
       " ('Heating_Wall', 0.0),\n",
       " ('HeatingQC_Fa', 0.0),\n",
       " ('HeatingQC_Gd', 0.0),\n",
       " ('HeatingQC_Po', 0.0),\n",
       " ('Electrical_FuseF', 0.0),\n",
       " ('Electrical_FuseP', 0.0),\n",
       " ('Electrical_None', 0.0),\n",
       " ('Electrical_SBrkr', 0.0),\n",
       " ('KitchenQual_Fa', 0.0),\n",
       " ('KitchenQual_Po', 0.0),\n",
       " ('Functional_Maj2', 0.0),\n",
       " ('Functional_Min1', 0.0),\n",
       " ('Functional_Min2', 0.0),\n",
       " ('Functional_Mod', 0.0),\n",
       " ('Functional_Sal', 0.0),\n",
       " ('FireplaceQu_Fa', 0.0),\n",
       " ('FireplaceQu_Gd', 0.0),\n",
       " ('FireplaceQu_Po', 0.0),\n",
       " ('FireplaceQu_TA', 0.0),\n",
       " ('GarageType_Basment', 0.0),\n",
       " ('GarageType_BuiltIn', 0.0),\n",
       " ('GarageType_CarPort', 0.0),\n",
       " ('GarageType_None', 0.0),\n",
       " ('GarageFinish_None', 0.0),\n",
       " ('GarageFinish_RFn', 0.0),\n",
       " ('GarageFinish_Unf', 0.0),\n",
       " ('GarageQual_Fa', 0.0),\n",
       " ('GarageQual_Gd', 0.0),\n",
       " ('GarageQual_None', 0.0),\n",
       " ('GarageQual_Po', 0.0),\n",
       " ('GarageQual_TA', 0.0),\n",
       " ('GarageCond_Fa', 0.0),\n",
       " ('GarageCond_Gd', 0.0),\n",
       " ('GarageCond_None', 0.0),\n",
       " ('GarageCond_Po', 0.0),\n",
       " ('PoolQC_Fa', 0.0),\n",
       " ('PoolQC_Gd', 0.0),\n",
       " ('PoolQC_None', 0.0),\n",
       " ('PoolQC_TA', 0.0),\n",
       " ('Fence_GdWo', 0.0),\n",
       " ('Fence_MnPrv', 0.0),\n",
       " ('Fence_MnWw', 0.0),\n",
       " ('Fence_None', 0.0),\n",
       " ('MiscFeature_None', 0.0),\n",
       " ('MiscFeature_Othr', 0.0),\n",
       " ('MiscFeature_Shed', 0.0),\n",
       " ('MiscFeature_TenC', 0.0),\n",
       " ('MoSold_11', 0.0),\n",
       " ('MoSold_12', 0.0),\n",
       " ('MoSold_2', 0.0),\n",
       " ('MoSold_3', 0.0),\n",
       " ('MoSold_4', 0.0),\n",
       " ('MoSold_5', 0.0),\n",
       " ('MoSold_6', 0.0),\n",
       " ('YrSold_2007', 0.0),\n",
       " ('SaleType_CWD', 0.0),\n",
       " ('SaleType_Con', 0.0),\n",
       " ('SaleType_ConLD', 0.0),\n",
       " ('SaleType_ConLI', 0.0),\n",
       " ('SaleType_ConLw', 0.0),\n",
       " ('SaleType_Oth', 0.0),\n",
       " ('SaleType_VWD', 0.0),\n",
       " ('SaleType_WD ', 0.0),\n",
       " ('SaleCondition_AdjLand', 0.0),\n",
       " ('SaleCondition_Alloca', 0.0),\n",
       " ('LowQualFinSF', 0.0),\n",
       " ('3SsnPorch', 0.0),\n",
       " ('PoolArea', 0.0),\n",
       " ('MiscVal', 0.0)]"
      ]
     },
     "execution_count": 9,
     "metadata": {},
     "output_type": "execute_result"
    }
   ],
   "source": [
    "X_cols = base.drop(['SalePrice'], axis=1).columns\n",
    "sorted_importance = sorted(zip(X_cols, gbm.feature_importances_), key=lambda t:t[1], reverse=True)\n",
    "sorted_importance"
   ]
  },
  {
   "cell_type": "code",
   "execution_count": 10,
   "id": "53ded0a2",
   "metadata": {},
   "outputs": [
    {
     "data": {
      "image/png": "[encoded data removed]",
      "text/plain": [
       "<Figure size 432x288 with 1 Axes>"
      ]
     },
     "metadata": {},
     "output_type": "display_data"
    }
   ],
   "source": [
    "a, b = zip(*sorted_importance[0:15]) # this splits the list of tuples into two lists\n",
    "pd.DataFrame({'feature_name':a, 'importance_score':b}).plot.bar(x='feature_name',y='importance_score', legend=None)\n",
    "plt.title('Top 15 Feature Importance Plot of Basic GBM');"
   ]
  },
  {
   "cell_type": "markdown",
   "id": "d46ed264",
   "metadata": {},
   "source": [
    "## No Scaling.....vs ##"
   ]
  },
  {
   "cell_type": "code",
   "execution_count": 35,
   "id": "efbfdfa5",
   "metadata": {},
   "outputs": [],
   "source": [
    "X_train, X_test, y_train, y_test = train_test_split(X, y, train_size=0.7)"
   ]
  },
  {
   "cell_type": "code",
   "execution_count": 36,
   "id": "c72c7c2b",
   "metadata": {},
   "outputs": [
    {
     "data": {
      "text/plain": [
       "GradientBoostingRegressor()"
      ]
     },
     "execution_count": 36,
     "metadata": {},
     "output_type": "execute_result"
    }
   ],
   "source": [
    "gbm.fit(X_train,y_train)"
   ]
  },
  {
   "cell_type": "code",
   "execution_count": 37,
   "id": "f8f7a7c3",
   "metadata": {},
   "outputs": [
    {
     "data": {
      "text/plain": [
       "0.9686333180303556"
      ]
     },
     "execution_count": 37,
     "metadata": {},
     "output_type": "execute_result"
    }
   ],
   "source": [
    "gbm.score(X_train, y_train)"
   ]
  },
  {
   "cell_type": "code",
   "execution_count": 38,
   "id": "e0ea90fa",
   "metadata": {},
   "outputs": [
    {
     "data": {
      "text/plain": [
       "0.9119141799918922"
      ]
     },
     "execution_count": 38,
     "metadata": {},
     "output_type": "execute_result"
    }
   ],
   "source": [
    "gbm.score(X_test, y_test)"
   ]
  },
  {
   "cell_type": "code",
   "execution_count": 39,
   "id": "9dc478e9",
   "metadata": {},
   "outputs": [],
   "source": [
    "predicted_value = gbm.predict(X_test)\n",
    "true_value = y_test"
   ]
  },
  {
   "cell_type": "code",
   "execution_count": 40,
   "id": "79c10e45",
   "metadata": {},
   "outputs": [
    {
     "data": {
      "image/png": "[encoded data removed]",
      "text/plain": [
       "<Figure size 720x720 with 1 Axes>"
      ]
     },
     "metadata": {},
     "output_type": "display_data"
    }
   ],
   "source": [
    "plt.figure(figsize=(10,10))\n",
    "plt.scatter(predicted_value, true_value, c='crimson')\n",
    "#plt.yscale('log')\n",
    "#plt.xscale('log')\n",
    "\n",
    "plt.title('Gradient Boosting Regressor Base')\n",
    "p1 = max(max(predicted_value), max(true_value))\n",
    "p2 = min(min(predicted_value), min(true_value))\n",
    "plt.plot([p1, p2], [p1, p2], 'b-')\n",
    "plt.xlabel('Predictions', fontsize=15)\n",
    "plt.ylabel('True Values', fontsize=15)\n",
    "plt.axis('equal')\n",
    "plt.show()"
   ]
  },
  {
   "cell_type": "code",
   "execution_count": null,
   "id": "3ab2e8e6",
   "metadata": {},
   "outputs": [],
   "source": []
  },
  {
   "cell_type": "markdown",
   "id": "fd04daa2",
   "metadata": {},
   "source": [
    "## Scaling.... ##"
   ]
  },
  {
   "cell_type": "code",
   "execution_count": 41,
   "id": "704bfd44",
   "metadata": {},
   "outputs": [],
   "source": [
    "scaler = StandardScaler()\n",
    "X = scaler.fit_transform(X)"
   ]
  },
  {
   "cell_type": "code",
   "execution_count": 42,
   "id": "f02d876a",
   "metadata": {},
   "outputs": [],
   "source": [
    "X_train, X_test, y_train, y_test = train_test_split(X, y, train_size=0.7)"
   ]
  },
  {
   "cell_type": "code",
   "execution_count": 43,
   "id": "a3007afb",
   "metadata": {},
   "outputs": [
    {
     "data": {
      "text/plain": [
       "GradientBoostingRegressor()"
      ]
     },
     "execution_count": 43,
     "metadata": {},
     "output_type": "execute_result"
    }
   ],
   "source": [
    "gbm.fit(X_train,y_train)"
   ]
  },
  {
   "cell_type": "code",
   "execution_count": 44,
   "id": "462e4644",
   "metadata": {},
   "outputs": [
    {
     "data": {
      "text/plain": [
       "0.9692316519514993"
      ]
     },
     "execution_count": 44,
     "metadata": {},
     "output_type": "execute_result"
    }
   ],
   "source": [
    "gbm.score(X_train, y_train)"
   ]
  },
  {
   "cell_type": "code",
   "execution_count": 45,
   "id": "5efc742a",
   "metadata": {},
   "outputs": [
    {
     "data": {
      "text/plain": [
       "0.8620909161581889"
      ]
     },
     "execution_count": 45,
     "metadata": {},
     "output_type": "execute_result"
    }
   ],
   "source": [
    "gbm.score(X_test, y_test)"
   ]
  },
  {
   "cell_type": "code",
   "execution_count": 46,
   "id": "6547c954",
   "metadata": {},
   "outputs": [
    {
     "data": {
      "text/plain": [
       "[('OverallQual', 0.4488148985656704),\n",
       " ('GrLivArea', 0.13767815476620826),\n",
       " ('1stFlrSF', 0.06555811934126318),\n",
       " ('GarageCars', 0.06034975395741916),\n",
       " ('TotalBsmtSF', 0.058431386441158834),\n",
       " ('BsmtFinSF1', 0.03510662935935227),\n",
       " ('YearBuilt', 0.029514836392699032),\n",
       " ('GarageArea', 0.022235431113602322),\n",
       " ('FullBath', 0.015664361201478114),\n",
       " ('LotArea', 0.015183397994169784),\n",
       " ('YearRemodAdd', 0.013970335963689868),\n",
       " ('Fireplaces', 0.012020047387789121),\n",
       " ('MasVnrArea', 0.0078118482663272915),\n",
       " ('FireplaceQu_None', 0.007355987488343944),\n",
       " ('2ndFlrSF', 0.006859464413895766),\n",
       " ('OverallCond', 0.006530851928938904),\n",
       " ('GarageType_Detchd', 0.005038219340052487),\n",
       " ('BsmtFullBath', 0.0035963426762387492),\n",
       " ('BsmtFinType1_GLQ', 0.003389539188204519),\n",
       " ('BsmtQual_Gd', 0.0033315985526198534),\n",
       " ('MSSubClass_60', 0.0029188191458566805),\n",
       " ('CentralAir_Y', 0.0026781350423346773),\n",
       " ('KitchenQual_TA', 0.0026638718278789012),\n",
       " ('BsmtExposure_Gd', 0.0025587306139074266),\n",
       " ('PID', 0.002450981056932365),\n",
       " ('Neighborhood_Crawfor', 0.002193946157029996),\n",
       " ('ScreenPorch', 0.0021309425294314017),\n",
       " ('MSZoning_RM', 0.002066814535432308),\n",
       " ('SaleCondition_Partial', 0.001618148696461152),\n",
       " ('KitchenQual_Gd', 0.001432899617631092),\n",
       " ('LotFrontage', 0.0013891110585063954),\n",
       " ('GarageType_Attchd', 0.0013462241608074943),\n",
       " ('Functional_Typ', 0.0011515559573296273),\n",
       " ('Neighborhood_GrnHill', 0.0010965869526748425),\n",
       " ('Neighborhood_ClearCr', 0.0009148978472534887),\n",
       " ('TotRmsAbvGrd', 0.0009035732905646515),\n",
       " ('SaleCondition_Family', 0.0008118991618604212),\n",
       " ('Neighborhood_StoneBr', 0.0007530929919462823),\n",
       " ('MSZoning_RL', 0.000744756012229523),\n",
       " ('HalfBath', 0.0007076036089786518),\n",
       " ('Neighborhood_Somerst', 0.0005902238678301162),\n",
       " ('GarageYrBlt', 0.000567409293720237),\n",
       " ('BsmtUnfSF', 0.0005535272300655583),\n",
       " ('OpenPorchSF', 0.0005198867267427509),\n",
       " ('Exterior1st_BrkFace', 0.0005168013682085173),\n",
       " ('MSSubClass_30', 0.00048795928332968306),\n",
       " ('3SsnPorch', 0.00043824518792817766),\n",
       " ('RoofStyle_Mansard', 0.000408318639734125),\n",
       " ('RoofMatl_WdShngl', 0.00035394737470458064),\n",
       " ('WoodDeckSF', 0.00032796756336160387),\n",
       " ('Heating_OthW', 0.0002944766353191793),\n",
       " ('GarageQual_TA', 0.000288937331500162),\n",
       " ('BsmtFinSF2', 0.0002639745972763672),\n",
       " ('Condition1_Norm', 0.00024699178685243646),\n",
       " ('BsmtCond_Gd', 0.00024266173657588373),\n",
       " ('MoSold_7', 0.00018944700774790838),\n",
       " ('MSSubClass_50', 0.00017537235816469262),\n",
       " ('Unnamed: 0.1', 0.0001558734521257033),\n",
       " ('BsmtFinType1_LwQ', 0.00015487687306115595),\n",
       " ('LotConfig_FR3', 0.0001498786762090099),\n",
       " ('PavedDrive_Y', 0.00014594596940602878),\n",
       " ('BedroomAbvGr', 0.00014454382533761885),\n",
       " ('LandContour_Lvl', 0.00014001973265534415),\n",
       " ('SaleCondition_Normal', 0.0001300315477174023),\n",
       " ('EnclosedPorch', 0.00011663605390026878),\n",
       " ('BsmtExposure_None', 0.00010533882531312334),\n",
       " ('YrSold_2008', 0.00010421242132027069),\n",
       " ('Unnamed: 0', 8.533007301333252e-05),\n",
       " ('LotConfig_FR2', 7.967167210904904e-05),\n",
       " ('MSZoning_FV', 7.294084926208968e-05),\n",
       " ('KitchenAbvGr', 7.09836670620094e-05),\n",
       " ('Neighborhood_Edwards', 6.762164536932716e-05),\n",
       " ('BsmtHalfBath', 6.386692038823572e-05),\n",
       " ('LandSlope_Mod', 6.287973899456542e-05),\n",
       " ('FireplaceQu_TA', 6.248150801517377e-05),\n",
       " ('BsmtFinType2_LwQ', 5.194381643772466e-05),\n",
       " ('HeatingQC_TA', 4.5309403758731706e-05),\n",
       " ('LotShape_Reg', 4.440652784718536e-05),\n",
       " ('SaleType_Oth', 4.2680678832745e-05),\n",
       " ('MasVnrType_BrkFace', 3.9838231951989334e-05),\n",
       " ('SaleType_WD ', 3.784607448188006e-05),\n",
       " ('Condition1_PosA', 3.454985404133663e-05),\n",
       " ('MoSold_9', 3.285673716517031e-05),\n",
       " ('BsmtCond_TA', 3.224936091715387e-05),\n",
       " ('LotShape_IR2', 3.116625485749191e-05),\n",
       " ('Fence_None', 3.022852514337689e-05),\n",
       " ('Condition1_RRAe', 2.8907843019154948e-05),\n",
       " ('Neighborhood_SawyerW', 2.8394450129207765e-05),\n",
       " ('Neighborhood_NAmes', 2.586410315570755e-05),\n",
       " ('HouseStyle_SFoyer', 2.2734002541955686e-05),\n",
       " ('MSSubClass_85', 2.169329463489471e-05),\n",
       " ('Fence_MnWw', 1.4120951298312314e-05),\n",
       " ('Exterior1st_Wd Sdng', 1.3871245013316252e-05),\n",
       " ('Fence_GdWo', 1.206341393328881e-05),\n",
       " ('MoSold_3', 1.181581108413782e-05),\n",
       " ('ExterQual_Gd', 9.659259878928476e-06),\n",
       " ('BsmtCond_None', 8.523202475053743e-06),\n",
       " ('Exterior1st_HdBoard', 7.584611857553874e-06),\n",
       " ('BsmtFinType1_None', 5.740587977915588e-06),\n",
       " ('MoSold_5', 5.222781647725387e-06),\n",
       " ('ExterCond_TA', 3.1203840082166963e-06),\n",
       " ('GarageFinish_RFn', 2.7857981551093624e-06),\n",
       " ('Exterior1st_VinylSd', 5.496340981263407e-07),\n",
       " ('Exterior2nd_CmentBd', 4.4520361948233094e-07),\n",
       " ('MasVnrType_None', 3.6963768526055897e-07),\n",
       " ('MoSold_6', 2.924396138315147e-07),\n",
       " ('ExterCond_Gd', 8.983424697053558e-08),\n",
       " ('MSSubClass_150', 0.0),\n",
       " ('MSSubClass_160', 0.0),\n",
       " ('MSSubClass_180', 0.0),\n",
       " ('MSSubClass_190', 0.0),\n",
       " ('MSSubClass_20', 0.0),\n",
       " ('MSSubClass_40', 0.0),\n",
       " ('MSSubClass_45', 0.0),\n",
       " ('MSSubClass_70', 0.0),\n",
       " ('MSSubClass_75', 0.0),\n",
       " ('MSSubClass_80', 0.0),\n",
       " ('MSSubClass_90', 0.0),\n",
       " ('MSZoning_C (all)', 0.0),\n",
       " ('MSZoning_I (all)', 0.0),\n",
       " ('MSZoning_RH', 0.0),\n",
       " ('Street_Pave', 0.0),\n",
       " ('Alley_None', 0.0),\n",
       " ('Alley_Pave', 0.0),\n",
       " ('LotShape_IR3', 0.0),\n",
       " ('LandContour_HLS', 0.0),\n",
       " ('LandContour_Low', 0.0),\n",
       " ('Utilities_NoSewr', 0.0),\n",
       " ('LotConfig_CulDSac', 0.0),\n",
       " ('LotConfig_Inside', 0.0),\n",
       " ('LandSlope_Sev', 0.0),\n",
       " ('Neighborhood_Blueste', 0.0),\n",
       " ('Neighborhood_BrDale', 0.0),\n",
       " ('Neighborhood_BrkSide', 0.0),\n",
       " ('Neighborhood_CollgCr', 0.0),\n",
       " ('Neighborhood_Gilbert', 0.0),\n",
       " ('Neighborhood_Greens', 0.0),\n",
       " ('Neighborhood_IDOTRR', 0.0),\n",
       " ('Neighborhood_Landmrk', 0.0),\n",
       " ('Neighborhood_MeadowV', 0.0),\n",
       " ('Neighborhood_Mitchel', 0.0),\n",
       " ('Neighborhood_NPkVill', 0.0),\n",
       " ('Neighborhood_NWAmes', 0.0),\n",
       " ('Neighborhood_NoRidge', 0.0),\n",
       " ('Neighborhood_NridgHt', 0.0),\n",
       " ('Neighborhood_OldTown', 0.0),\n",
       " ('Neighborhood_SWISU', 0.0),\n",
       " ('Neighborhood_Sawyer', 0.0),\n",
       " ('Neighborhood_Timber', 0.0),\n",
       " ('Neighborhood_Veenker', 0.0),\n",
       " ('Condition1_Feedr', 0.0),\n",
       " ('Condition1_PosN', 0.0),\n",
       " ('Condition1_RRAn', 0.0),\n",
       " ('Condition1_RRNe', 0.0),\n",
       " ('Condition1_RRNn', 0.0),\n",
       " ('Condition2_Feedr', 0.0),\n",
       " ('Condition2_Norm', 0.0),\n",
       " ('Condition2_PosA', 0.0),\n",
       " ('Condition2_PosN', 0.0),\n",
       " ('Condition2_RRAe', 0.0),\n",
       " ('Condition2_RRAn', 0.0),\n",
       " ('Condition2_RRNn', 0.0),\n",
       " ('BldgType_2fmCon', 0.0),\n",
       " ('BldgType_Duplex', 0.0),\n",
       " ('BldgType_Twnhs', 0.0),\n",
       " ('BldgType_TwnhsE', 0.0),\n",
       " ('HouseStyle_1.5Unf', 0.0),\n",
       " ('HouseStyle_1Story', 0.0),\n",
       " ('HouseStyle_2.5Fin', 0.0),\n",
       " ('HouseStyle_2.5Unf', 0.0),\n",
       " ('HouseStyle_2Story', 0.0),\n",
       " ('HouseStyle_SLvl', 0.0),\n",
       " ('RoofStyle_Gable', 0.0),\n",
       " ('RoofStyle_Gambrel', 0.0),\n",
       " ('RoofStyle_Hip', 0.0),\n",
       " ('RoofStyle_Shed', 0.0),\n",
       " ('RoofMatl_Membran', 0.0),\n",
       " ('RoofMatl_Metal', 0.0),\n",
       " ('RoofMatl_Roll', 0.0),\n",
       " ('RoofMatl_Tar&Grv', 0.0),\n",
       " ('RoofMatl_WdShake', 0.0),\n",
       " ('Exterior1st_AsphShn', 0.0),\n",
       " ('Exterior1st_BrkComm', 0.0),\n",
       " ('Exterior1st_CBlock', 0.0),\n",
       " ('Exterior1st_CemntBd', 0.0),\n",
       " ('Exterior1st_ImStucc', 0.0),\n",
       " ('Exterior1st_MetalSd', 0.0),\n",
       " ('Exterior1st_Plywood', 0.0),\n",
       " ('Exterior1st_PreCast', 0.0),\n",
       " ('Exterior1st_Stucco', 0.0),\n",
       " ('Exterior1st_WdShing', 0.0),\n",
       " ('Exterior2nd_AsphShn', 0.0),\n",
       " ('Exterior2nd_Brk Cmn', 0.0),\n",
       " ('Exterior2nd_BrkFace', 0.0),\n",
       " ('Exterior2nd_CBlock', 0.0),\n",
       " ('Exterior2nd_HdBoard', 0.0),\n",
       " ('Exterior2nd_ImStucc', 0.0),\n",
       " ('Exterior2nd_MetalSd', 0.0),\n",
       " ('Exterior2nd_Plywood', 0.0),\n",
       " ('Exterior2nd_PreCast', 0.0),\n",
       " ('Exterior2nd_Stone', 0.0),\n",
       " ('Exterior2nd_Stucco', 0.0),\n",
       " ('Exterior2nd_VinylSd', 0.0),\n",
       " ('Exterior2nd_Wd Sdng', 0.0),\n",
       " ('Exterior2nd_Wd Shng', 0.0),\n",
       " ('MasVnrType_Stone', 0.0),\n",
       " ('ExterQual_Fa', 0.0),\n",
       " ('ExterQual_TA', 0.0),\n",
       " ('ExterCond_Fa', 0.0),\n",
       " ('ExterCond_Po', 0.0),\n",
       " ('Foundation_CBlock', 0.0),\n",
       " ('Foundation_PConc', 0.0),\n",
       " ('Foundation_Slab', 0.0),\n",
       " ('Foundation_Stone', 0.0),\n",
       " ('Foundation_Wood', 0.0),\n",
       " ('BsmtQual_Fa', 0.0),\n",
       " ('BsmtQual_None', 0.0),\n",
       " ('BsmtQual_Po', 0.0),\n",
       " ('BsmtQual_TA', 0.0),\n",
       " ('BsmtCond_Fa', 0.0),\n",
       " ('BsmtCond_Po', 0.0),\n",
       " ('BsmtExposure_Mn', 0.0),\n",
       " ('BsmtExposure_No', 0.0),\n",
       " ('BsmtFinType1_BLQ', 0.0),\n",
       " ('BsmtFinType1_Rec', 0.0),\n",
       " ('BsmtFinType1_Unf', 0.0),\n",
       " ('BsmtFinType2_BLQ', 0.0),\n",
       " ('BsmtFinType2_GLQ', 0.0),\n",
       " ('BsmtFinType2_None', 0.0),\n",
       " ('BsmtFinType2_Rec', 0.0),\n",
       " ('BsmtFinType2_Unf', 0.0),\n",
       " ('Heating_GasA', 0.0),\n",
       " ('Heating_GasW', 0.0),\n",
       " ('Heating_Grav', 0.0),\n",
       " ('Heating_Wall', 0.0),\n",
       " ('HeatingQC_Fa', 0.0),\n",
       " ('HeatingQC_Gd', 0.0),\n",
       " ('HeatingQC_Po', 0.0),\n",
       " ('Electrical_FuseF', 0.0),\n",
       " ('Electrical_FuseP', 0.0),\n",
       " ('Electrical_None', 0.0),\n",
       " ('Electrical_SBrkr', 0.0),\n",
       " ('KitchenQual_Fa', 0.0),\n",
       " ('KitchenQual_Po', 0.0),\n",
       " ('Functional_Maj2', 0.0),\n",
       " ('Functional_Min1', 0.0),\n",
       " ('Functional_Min2', 0.0),\n",
       " ('Functional_Mod', 0.0),\n",
       " ('Functional_Sal', 0.0),\n",
       " ('FireplaceQu_Fa', 0.0),\n",
       " ('FireplaceQu_Gd', 0.0),\n",
       " ('FireplaceQu_Po', 0.0),\n",
       " ('GarageType_Basment', 0.0),\n",
       " ('GarageType_BuiltIn', 0.0),\n",
       " ('GarageType_CarPort', 0.0),\n",
       " ('GarageType_None', 0.0),\n",
       " ('GarageFinish_None', 0.0),\n",
       " ('GarageFinish_Unf', 0.0),\n",
       " ('GarageQual_Fa', 0.0),\n",
       " ('GarageQual_Gd', 0.0),\n",
       " ('GarageQual_None', 0.0),\n",
       " ('GarageQual_Po', 0.0),\n",
       " ('GarageCond_Fa', 0.0),\n",
       " ('GarageCond_Gd', 0.0),\n",
       " ('GarageCond_None', 0.0),\n",
       " ('GarageCond_Po', 0.0),\n",
       " ('GarageCond_TA', 0.0),\n",
       " ('PavedDrive_P', 0.0),\n",
       " ('PoolQC_Fa', 0.0),\n",
       " ('PoolQC_Gd', 0.0),\n",
       " ('PoolQC_None', 0.0),\n",
       " ('PoolQC_TA', 0.0),\n",
       " ('Fence_MnPrv', 0.0),\n",
       " ('MiscFeature_None', 0.0),\n",
       " ('MiscFeature_Othr', 0.0),\n",
       " ('MiscFeature_Shed', 0.0),\n",
       " ('MiscFeature_TenC', 0.0),\n",
       " ('MoSold_10', 0.0),\n",
       " ('MoSold_11', 0.0),\n",
       " ('MoSold_12', 0.0),\n",
       " ('MoSold_2', 0.0),\n",
       " ('MoSold_4', 0.0),\n",
       " ('MoSold_8', 0.0),\n",
       " ('YrSold_2007', 0.0),\n",
       " ('YrSold_2009', 0.0),\n",
       " ('YrSold_2010', 0.0),\n",
       " ('SaleType_CWD', 0.0),\n",
       " ('SaleType_Con', 0.0),\n",
       " ('SaleType_ConLD', 0.0),\n",
       " ('SaleType_ConLI', 0.0),\n",
       " ('SaleType_ConLw', 0.0),\n",
       " ('SaleType_New', 0.0),\n",
       " ('SaleType_VWD', 0.0),\n",
       " ('SaleCondition_AdjLand', 0.0),\n",
       " ('SaleCondition_Alloca', 0.0),\n",
       " ('LowQualFinSF', 0.0),\n",
       " ('PoolArea', 0.0),\n",
       " ('MiscVal', 0.0)]"
      ]
     },
     "execution_count": 46,
     "metadata": {},
     "output_type": "execute_result"
    }
   ],
   "source": [
    "X_cols = base.drop(['SalePrice'], axis=1).columns\n",
    "sorted_importance = sorted(zip(X_cols, gbm.feature_importances_), key=lambda t:t[1], reverse=True)\n",
    "sorted_importance"
   ]
  },
  {
   "cell_type": "code",
   "execution_count": 47,
   "id": "c9d2001c",
   "metadata": {},
   "outputs": [
    {
     "data": {
      "image/png": "[encoded data removed]",
      "text/plain": [
       "<Figure size 432x288 with 1 Axes>"
      ]
     },
     "metadata": {},
     "output_type": "display_data"
    }
   ],
   "source": [
    "a, b = zip(*sorted_importance[0:15]) # this splits the list of tuples into two lists\n",
    "pd.DataFrame({'feature_name':a, 'importance_score':b}).plot.bar(x='feature_name',y='importance_score', legend=None)\n",
    "plt.title('Top 15 Feature Importance Plot of Basic GBM');"
   ]
  },
  {
   "cell_type": "code",
   "execution_count": 48,
   "id": "e57bef4d",
   "metadata": {},
   "outputs": [],
   "source": [
    "predicted_value = gbm.predict(X_test)"
   ]
  },
  {
   "cell_type": "code",
   "execution_count": 49,
   "id": "80ceaf21",
   "metadata": {},
   "outputs": [],
   "source": [
    "true_value = y_test"
   ]
  },
  {
   "cell_type": "code",
   "execution_count": 50,
   "id": "cff34e1b",
   "metadata": {},
   "outputs": [
    {
     "data": {
      "image/png": "[encoded data removed]",
      "text/plain": [
       "<Figure size 720x720 with 1 Axes>"
      ]
     },
     "metadata": {},
     "output_type": "display_data"
    }
   ],
   "source": [
    "plt.figure(figsize=(10,10))\n",
    "plt.scatter(predicted_value, true_value, c='crimson')\n",
    "#plt.yscale('log')\n",
    "#plt.xscale('log')\n",
    "\n",
    "plt.title('Gradient Boosting Regressor Base')\n",
    "p1 = max(max(predicted_value), max(true_value))\n",
    "p2 = min(min(predicted_value), min(true_value))\n",
    "plt.plot([p1, p2], [p1, p2], 'b-')\n",
    "plt.xlabel('Predictions', fontsize=15)\n",
    "plt.ylabel('True Values', fontsize=15)\n",
    "plt.axis('equal')\n",
    "plt.show()"
   ]
  },
  {
   "cell_type": "code",
   "execution_count": null,
   "id": "ad290326",
   "metadata": {},
   "outputs": [],
   "source": []
  },
  {
   "cell_type": "code",
   "execution_count": null,
   "id": "efc32e22",
   "metadata": {},
   "outputs": [],
   "source": []
  },
  {
   "cell_type": "code",
   "execution_count": null,
   "id": "97e1f7e5",
   "metadata": {},
   "outputs": [],
   "source": []
  },
  {
   "cell_type": "code",
   "execution_count": null,
   "id": "011d982d",
   "metadata": {},
   "outputs": [],
   "source": []
  }
 ],
 "metadata": {
  "hide_input": false,
  "kernelspec": {
   "display_name": "Python 3 (ipykernel)",
   "language": "python",
   "name": "python3"
  },
  "language_info": {
   "codemirror_mode": {
    "name": "ipython",
    "version": 3
   },
   "file_extension": ".py",
   "mimetype": "text/x-python",
   "name": "python",
   "nbconvert_exporter": "python",
   "pygments_lexer": "ipython3",
   "version": "3.8.8"
  },
  "varInspector": {
   "cols": {
    "lenName": 16,
    "lenType": 16,
    "lenVar": 40
   },
   "kernels_config": {
    "python": {
     "delete_cmd_postfix": "",
     "delete_cmd_prefix": "del ",
     "library": "var_list.py",
     "varRefreshCmd": "print(var_dic_list())"
    },
    "r": {
     "delete_cmd_postfix": ") ",
     "delete_cmd_prefix": "rm(",
     "library": "var_list.r",
     "varRefreshCmd": "cat(var_dic_list()) "
    }
   },
   "types_to_exclude": [
    "module",
    "function",
    "builtin_function_or_method",
    "instance",
    "_Feature"
   ],
   "window_display": false
  }
 },
 "nbformat": 4,
 "nbformat_minor": 5
}
