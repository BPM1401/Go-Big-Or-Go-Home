{
 "cells": [
  {
   "cell_type": "code",
   "execution_count": 1,
   "id": "14f2fef0",
   "metadata": {},
   "outputs": [],
   "source": [
    "import pandas as pd\n",
    "import numpy as np\n",
    "import matplotlib.pyplot as plt\n",
    "\n",
    "import seaborn as sns\n",
    "sns.set()\n",
    "\n",
    "import scipy as sp\n",
    "from sklearn.linear_model import LinearRegression\n",
    "\n",
    "pd.set_option(\"display.max_columns\", 100)\n",
    "\n",
    "import statsmodels.api as sm\n",
    "import statsmodels.stats.api as sms\n",
    "from scipy import stats"
   ]
  },
  {
   "cell_type": "code",
   "execution_count": 2,
   "id": "e88b04b8",
   "metadata": {},
   "outputs": [
    {
     "data": {
      "text/plain": [
       "(2580, 82)"
      ]
     },
     "execution_count": 2,
     "metadata": {},
     "output_type": "execute_result"
    }
   ],
   "source": [
    "df = pd.read_csv('Ames_HousePrice.csv')\n",
    "df.shape"
   ]
  },
  {
   "cell_type": "code",
   "execution_count": null,
   "id": "14f08a7b",
   "metadata": {},
   "outputs": [],
   "source": []
  },
  {
   "cell_type": "code",
   "execution_count": 3,
   "id": "24d4e58b",
   "metadata": {},
   "outputs": [
    {
     "data": {
      "text/plain": [
       "MSSubClass    0\n",
       "YrSold        0\n",
       "MoSold        0\n",
       "dtype: int64"
      ]
     },
     "execution_count": 3,
     "metadata": {},
     "output_type": "execute_result"
    }
   ],
   "source": [
    "df[['MSSubClass','YrSold','MoSold']].isnull().sum()"
   ]
  },
  {
   "cell_type": "code",
   "execution_count": 4,
   "id": "4e9c2441",
   "metadata": {},
   "outputs": [],
   "source": [
    "df['MSSubClass'] = df['MSSubClass'].apply(str)\n",
    "df['YrSold'] = df['YrSold'].astype(str)\n",
    "df['MoSold'] = df['MoSold'].astype(str)"
   ]
  },
  {
   "cell_type": "code",
   "execution_count": 5,
   "id": "4f1bcc09",
   "metadata": {},
   "outputs": [
    {
     "data": {
      "text/plain": [
       "(2580, 46)"
      ]
     },
     "execution_count": 5,
     "metadata": {},
     "output_type": "execute_result"
    }
   ],
   "source": [
    "c = df.select_dtypes('object')\n",
    "c.shape"
   ]
  },
  {
   "cell_type": "code",
   "execution_count": 7,
   "id": "b9077997",
   "metadata": {},
   "outputs": [
    {
     "data": {
      "text/plain": [
       "0"
      ]
     },
     "execution_count": 7,
     "metadata": {},
     "output_type": "execute_result"
    }
   ],
   "source": [
    "c = c.fillna(\"None\")\n",
    "c.isnull().sum().sum()"
   ]
  },
  {
   "cell_type": "code",
   "execution_count": 8,
   "id": "6b2e655e",
   "metadata": {},
   "outputs": [
    {
     "data": {
      "text/plain": [
       "(2580, 262)"
      ]
     },
     "execution_count": 8,
     "metadata": {},
     "output_type": "execute_result"
    }
   ],
   "source": [
    "c = pd.get_dummies(c, drop_first=True)\n",
    "\n",
    "#c = pd.get_dummies(c)\n",
    "\n",
    "c.shape"
   ]
  },
  {
   "cell_type": "code",
   "execution_count": null,
   "id": "382d3dd4",
   "metadata": {},
   "outputs": [],
   "source": []
  },
  {
   "cell_type": "code",
   "execution_count": 9,
   "id": "7fca3222",
   "metadata": {},
   "outputs": [
    {
     "data": {
      "text/plain": [
       "(2580, 36)"
      ]
     },
     "execution_count": 9,
     "metadata": {},
     "output_type": "execute_result"
    }
   ],
   "source": [
    "n = df.select_dtypes('number')\n",
    "n.shape"
   ]
  },
  {
   "cell_type": "code",
   "execution_count": 10,
   "id": "557b9bce",
   "metadata": {},
   "outputs": [
    {
     "data": {
      "text/plain": [
       "615"
      ]
     },
     "execution_count": 10,
     "metadata": {},
     "output_type": "execute_result"
    }
   ],
   "source": [
    "n.isnull().sum().sum()"
   ]
  },
  {
   "cell_type": "code",
   "execution_count": null,
   "id": "4fec3418",
   "metadata": {},
   "outputs": [],
   "source": []
  },
  {
   "cell_type": "code",
   "execution_count": 11,
   "id": "4257664d",
   "metadata": {},
   "outputs": [
    {
     "data": {
      "text/plain": [
       "(2580, 298)"
      ]
     },
     "execution_count": 11,
     "metadata": {},
     "output_type": "execute_result"
    }
   ],
   "source": [
    "full = pd.concat([c, n], axis=1)\n",
    "full.shape"
   ]
  },
  {
   "cell_type": "code",
   "execution_count": 12,
   "id": "a6e981a1",
   "metadata": {},
   "outputs": [
    {
     "data": {
      "text/plain": [
       "(1988, 298)"
      ]
     },
     "execution_count": 12,
     "metadata": {},
     "output_type": "execute_result"
    }
   ],
   "source": [
    "full = full.dropna()\n",
    "full.shape"
   ]
  },
  {
   "cell_type": "code",
   "execution_count": 13,
   "id": "cbb37871",
   "metadata": {},
   "outputs": [
    {
     "data": {
      "text/plain": [
       "0"
      ]
     },
     "execution_count": 13,
     "metadata": {},
     "output_type": "execute_result"
    }
   ],
   "source": [
    "full.isnull().sum().sum()"
   ]
  },
  {
   "cell_type": "code",
   "execution_count": null,
   "id": "e1b0d4a1",
   "metadata": {},
   "outputs": [],
   "source": []
  },
  {
   "cell_type": "markdown",
   "id": "c74943ef",
   "metadata": {},
   "source": [
    "### MLR With SFS (n=10) ###"
   ]
  },
  {
   "cell_type": "code",
   "execution_count": 14,
   "id": "f56be6c1",
   "metadata": {},
   "outputs": [],
   "source": [
    "from sklearn.feature_selection import SequentialFeatureSelector"
   ]
  },
  {
   "cell_type": "code",
   "execution_count": 15,
   "id": "013788ef",
   "metadata": {},
   "outputs": [],
   "source": [
    "y=full.SalePrice\n",
    "X=full.drop('SalePrice', axis=1)"
   ]
  },
  {
   "cell_type": "code",
   "execution_count": 16,
   "id": "18339eb4",
   "metadata": {},
   "outputs": [
    {
     "data": {
      "text/plain": [
       "LinearRegression()"
      ]
     },
     "execution_count": 16,
     "metadata": {},
     "output_type": "execute_result"
    }
   ],
   "source": [
    "regressor = LinearRegression()\n",
    "regressor.fit(X,y)"
   ]
  },
  {
   "cell_type": "code",
   "execution_count": 17,
   "id": "b397417a",
   "metadata": {},
   "outputs": [
    {
     "data": {
      "text/plain": [
       "0.943375217744169"
      ]
     },
     "execution_count": 17,
     "metadata": {},
     "output_type": "execute_result"
    }
   ],
   "source": [
    "regressor.score(X,y)"
   ]
  },
  {
   "cell_type": "code",
   "execution_count": 18,
   "id": "0e0c2546",
   "metadata": {},
   "outputs": [],
   "source": [
    "from sklearn.model_selection import train_test_split\n",
    "X_train, X_test, y_train, y_test = train_test_split(X,y,test_size=0.30)"
   ]
  },
  {
   "cell_type": "code",
   "execution_count": 19,
   "id": "7befb5d5",
   "metadata": {},
   "outputs": [
    {
     "name": "stdout",
     "output_type": "stream",
     "text": [
      "R^2 for train set: 0.955426\n",
      "--------------------------------------------------\n",
      "R^2 for test  set: 0.829620\n"
     ]
    }
   ],
   "source": [
    "ols = LinearRegression()\n",
    "ols.fit(X_train, y_train)\n",
    "print(\"R^2 for train set: %f\" %ols.score(X_train, y_train))\n",
    "\n",
    "print('-'*50)\n",
    "\n",
    "print(\"R^2 for test  set: %f\" %ols.score(X_test, y_test))"
   ]
  },
  {
   "cell_type": "code",
   "execution_count": null,
   "id": "33fb57a6",
   "metadata": {},
   "outputs": [],
   "source": []
  },
  {
   "cell_type": "code",
   "execution_count": 20,
   "id": "93e456e0",
   "metadata": {},
   "outputs": [],
   "source": [
    "sfs_foreward = SequentialFeatureSelector(\n",
    "    regressor, n_features_to_select=10, direction=\"forward\"\n",
    ").fit(X, y)"
   ]
  },
  {
   "cell_type": "code",
   "execution_count": 21,
   "id": "3e13bae8",
   "metadata": {},
   "outputs": [
    {
     "data": {
      "text/plain": [
       "Index(['MSZoning_RM', 'Neighborhood_NridgHt', 'BsmtExposure_Gd', 'GrLivArea',\n",
       "       'OverallQual', 'YearRemodAdd', 'BsmtFinSF1', 'TotalBsmtSF',\n",
       "       'KitchenAbvGr', 'GarageArea'],\n",
       "      dtype='object')"
      ]
     },
     "execution_count": 21,
     "metadata": {},
     "output_type": "execute_result"
    }
   ],
   "source": [
    "selected = X.columns[sfs_foreward.get_support()]\n",
    "selected"
   ]
  },
  {
   "cell_type": "code",
   "execution_count": 22,
   "id": "a853e88c",
   "metadata": {},
   "outputs": [
    {
     "data": {
      "text/html": [
       "<div>\n",
       "<style scoped>\n",
       "    .dataframe tbody tr th:only-of-type {\n",
       "        vertical-align: middle;\n",
       "    }\n",
       "\n",
       "    .dataframe tbody tr th {\n",
       "        vertical-align: top;\n",
       "    }\n",
       "\n",
       "    .dataframe thead th {\n",
       "        text-align: right;\n",
       "    }\n",
       "</style>\n",
       "<table border=\"1\" class=\"dataframe\">\n",
       "  <thead>\n",
       "    <tr style=\"text-align: right;\">\n",
       "      <th></th>\n",
       "      <th>MSZoning_RM</th>\n",
       "      <th>Neighborhood_NridgHt</th>\n",
       "      <th>BsmtExposure_Gd</th>\n",
       "      <th>GrLivArea</th>\n",
       "      <th>OverallQual</th>\n",
       "      <th>YearRemodAdd</th>\n",
       "      <th>BsmtFinSF1</th>\n",
       "      <th>TotalBsmtSF</th>\n",
       "      <th>KitchenAbvGr</th>\n",
       "      <th>GarageArea</th>\n",
       "    </tr>\n",
       "  </thead>\n",
       "  <tbody>\n",
       "    <tr>\n",
       "      <th>1</th>\n",
       "      <td>0</td>\n",
       "      <td>0</td>\n",
       "      <td>0</td>\n",
       "      <td>1049</td>\n",
       "      <td>5</td>\n",
       "      <td>1984</td>\n",
       "      <td>552.0</td>\n",
       "      <td>1049.0</td>\n",
       "      <td>1</td>\n",
       "      <td>266.0</td>\n",
       "    </tr>\n",
       "    <tr>\n",
       "      <th>2</th>\n",
       "      <td>0</td>\n",
       "      <td>0</td>\n",
       "      <td>0</td>\n",
       "      <td>1001</td>\n",
       "      <td>5</td>\n",
       "      <td>2007</td>\n",
       "      <td>737.0</td>\n",
       "      <td>837.0</td>\n",
       "      <td>1</td>\n",
       "      <td>216.0</td>\n",
       "    </tr>\n",
       "    <tr>\n",
       "      <th>3</th>\n",
       "      <td>0</td>\n",
       "      <td>0</td>\n",
       "      <td>0</td>\n",
       "      <td>1039</td>\n",
       "      <td>4</td>\n",
       "      <td>2003</td>\n",
       "      <td>0.0</td>\n",
       "      <td>405.0</td>\n",
       "      <td>1</td>\n",
       "      <td>281.0</td>\n",
       "    </tr>\n",
       "    <tr>\n",
       "      <th>4</th>\n",
       "      <td>0</td>\n",
       "      <td>0</td>\n",
       "      <td>0</td>\n",
       "      <td>1665</td>\n",
       "      <td>8</td>\n",
       "      <td>2001</td>\n",
       "      <td>643.0</td>\n",
       "      <td>810.0</td>\n",
       "      <td>1</td>\n",
       "      <td>528.0</td>\n",
       "    </tr>\n",
       "    <tr>\n",
       "      <th>5</th>\n",
       "      <td>0</td>\n",
       "      <td>0</td>\n",
       "      <td>0</td>\n",
       "      <td>1922</td>\n",
       "      <td>7</td>\n",
       "      <td>2003</td>\n",
       "      <td>0.0</td>\n",
       "      <td>0.0</td>\n",
       "      <td>1</td>\n",
       "      <td>672.0</td>\n",
       "    </tr>\n",
       "    <tr>\n",
       "      <th>...</th>\n",
       "      <td>...</td>\n",
       "      <td>...</td>\n",
       "      <td>...</td>\n",
       "      <td>...</td>\n",
       "      <td>...</td>\n",
       "      <td>...</td>\n",
       "      <td>...</td>\n",
       "      <td>...</td>\n",
       "      <td>...</td>\n",
       "      <td>...</td>\n",
       "    </tr>\n",
       "    <tr>\n",
       "      <th>2572</th>\n",
       "      <td>0</td>\n",
       "      <td>0</td>\n",
       "      <td>0</td>\n",
       "      <td>1242</td>\n",
       "      <td>4</td>\n",
       "      <td>1950</td>\n",
       "      <td>0.0</td>\n",
       "      <td>484.0</td>\n",
       "      <td>1</td>\n",
       "      <td>336.0</td>\n",
       "    </tr>\n",
       "    <tr>\n",
       "      <th>2573</th>\n",
       "      <td>0</td>\n",
       "      <td>0</td>\n",
       "      <td>0</td>\n",
       "      <td>816</td>\n",
       "      <td>6</td>\n",
       "      <td>1950</td>\n",
       "      <td>574.0</td>\n",
       "      <td>816.0</td>\n",
       "      <td>1</td>\n",
       "      <td>240.0</td>\n",
       "    </tr>\n",
       "    <tr>\n",
       "      <th>2574</th>\n",
       "      <td>0</td>\n",
       "      <td>0</td>\n",
       "      <td>0</td>\n",
       "      <td>1724</td>\n",
       "      <td>7</td>\n",
       "      <td>2004</td>\n",
       "      <td>0.0</td>\n",
       "      <td>796.0</td>\n",
       "      <td>1</td>\n",
       "      <td>616.0</td>\n",
       "    </tr>\n",
       "    <tr>\n",
       "      <th>2577</th>\n",
       "      <td>0</td>\n",
       "      <td>0</td>\n",
       "      <td>0</td>\n",
       "      <td>2002</td>\n",
       "      <td>5</td>\n",
       "      <td>1950</td>\n",
       "      <td>284.0</td>\n",
       "      <td>1001.0</td>\n",
       "      <td>2</td>\n",
       "      <td>871.0</td>\n",
       "    </tr>\n",
       "    <tr>\n",
       "      <th>2579</th>\n",
       "      <td>0</td>\n",
       "      <td>0</td>\n",
       "      <td>0</td>\n",
       "      <td>1911</td>\n",
       "      <td>8</td>\n",
       "      <td>1994</td>\n",
       "      <td>380.0</td>\n",
       "      <td>777.0</td>\n",
       "      <td>1</td>\n",
       "      <td>471.0</td>\n",
       "    </tr>\n",
       "  </tbody>\n",
       "</table>\n",
       "<p>1988 rows × 10 columns</p>\n",
       "</div>"
      ],
      "text/plain": [
       "      MSZoning_RM  Neighborhood_NridgHt  BsmtExposure_Gd  GrLivArea  \\\n",
       "1               0                     0                0       1049   \n",
       "2               0                     0                0       1001   \n",
       "3               0                     0                0       1039   \n",
       "4               0                     0                0       1665   \n",
       "5               0                     0                0       1922   \n",
       "...           ...                   ...              ...        ...   \n",
       "2572            0                     0                0       1242   \n",
       "2573            0                     0                0        816   \n",
       "2574            0                     0                0       1724   \n",
       "2577            0                     0                0       2002   \n",
       "2579            0                     0                0       1911   \n",
       "\n",
       "      OverallQual  YearRemodAdd  BsmtFinSF1  TotalBsmtSF  KitchenAbvGr  \\\n",
       "1               5          1984       552.0       1049.0             1   \n",
       "2               5          2007       737.0        837.0             1   \n",
       "3               4          2003         0.0        405.0             1   \n",
       "4               8          2001       643.0        810.0             1   \n",
       "5               7          2003         0.0          0.0             1   \n",
       "...           ...           ...         ...          ...           ...   \n",
       "2572            4          1950         0.0        484.0             1   \n",
       "2573            6          1950       574.0        816.0             1   \n",
       "2574            7          2004         0.0        796.0             1   \n",
       "2577            5          1950       284.0       1001.0             2   \n",
       "2579            8          1994       380.0        777.0             1   \n",
       "\n",
       "      GarageArea  \n",
       "1          266.0  \n",
       "2          216.0  \n",
       "3          281.0  \n",
       "4          528.0  \n",
       "5          672.0  \n",
       "...          ...  \n",
       "2572       336.0  \n",
       "2573       240.0  \n",
       "2574       616.0  \n",
       "2577       871.0  \n",
       "2579       471.0  \n",
       "\n",
       "[1988 rows x 10 columns]"
      ]
     },
     "execution_count": 22,
     "metadata": {},
     "output_type": "execute_result"
    }
   ],
   "source": [
    "X = full[selected]\n",
    "X"
   ]
  },
  {
   "cell_type": "code",
   "execution_count": null,
   "id": "aff461c2",
   "metadata": {},
   "outputs": [],
   "source": []
  },
  {
   "cell_type": "code",
   "execution_count": 24,
   "id": "69d1bba5",
   "metadata": {},
   "outputs": [],
   "source": [
    "y=full.SalePrice\n",
    "X=full[selected]"
   ]
  },
  {
   "cell_type": "code",
   "execution_count": 25,
   "id": "2c88f02c",
   "metadata": {},
   "outputs": [
    {
     "data": {
      "text/plain": [
       "LinearRegression()"
      ]
     },
     "execution_count": 25,
     "metadata": {},
     "output_type": "execute_result"
    }
   ],
   "source": [
    "regressor2 = LinearRegression()\n",
    "regressor2.fit(X,y)"
   ]
  },
  {
   "cell_type": "code",
   "execution_count": 26,
   "id": "11493404",
   "metadata": {},
   "outputs": [
    {
     "data": {
      "text/plain": [
       "0.8607360105157563"
      ]
     },
     "execution_count": 26,
     "metadata": {},
     "output_type": "execute_result"
    }
   ],
   "source": [
    "regressor2.score(X,y)"
   ]
  },
  {
   "cell_type": "code",
   "execution_count": 27,
   "id": "99e5ae95",
   "metadata": {},
   "outputs": [],
   "source": [
    "from sklearn.model_selection import train_test_split\n",
    "X_train, X_test, y_train, y_test = train_test_split(X,y,test_size=0.30)"
   ]
  },
  {
   "cell_type": "code",
   "execution_count": 28,
   "id": "dd3442f1",
   "metadata": {},
   "outputs": [
    {
     "name": "stdout",
     "output_type": "stream",
     "text": [
      "R^2 for train set: 0.853608\n",
      "--------------------------------------------------\n",
      "R^2 for test  set: 0.878189\n"
     ]
    }
   ],
   "source": [
    "ols = LinearRegression()\n",
    "ols.fit(X_train, y_train)\n",
    "print(\"R^2 for train set: %f\" %ols.score(X_train, y_train))\n",
    "\n",
    "print('-'*50)\n",
    "\n",
    "print(\"R^2 for test  set: %f\" %ols.score(X_test, y_test))"
   ]
  },
  {
   "cell_type": "code",
   "execution_count": null,
   "id": "4729c1e6",
   "metadata": {},
   "outputs": [],
   "source": []
  },
  {
   "cell_type": "markdown",
   "id": "6bd89cab",
   "metadata": {},
   "source": [
    "### Stats for MLR SFS (n=10) ###"
   ]
  },
  {
   "cell_type": "code",
   "execution_count": 29,
   "id": "8a9cf751",
   "metadata": {},
   "outputs": [],
   "source": [
    "# Obtain and set x=input and y=output\n",
    "X0 = full[selected]\n",
    "y0 = full.SalePrice"
   ]
  },
  {
   "cell_type": "code",
   "execution_count": 30,
   "id": "4fe46883",
   "metadata": {},
   "outputs": [],
   "source": [
    "#Setup statsmodels.api, inputs (x, x_constant, and y)\n",
    "x_constant0 = sm.add_constant(X0)"
   ]
  },
  {
   "cell_type": "code",
   "execution_count": 31,
   "id": "bcba3550",
   "metadata": {},
   "outputs": [
    {
     "data": {
      "text/html": [
       "<table class=\"simpletable\">\n",
       "<caption>OLS Regression Results</caption>\n",
       "<tr>\n",
       "  <th>Dep. Variable:</th>        <td>SalePrice</td>    <th>  R-squared:         </th> <td>   0.861</td> \n",
       "</tr>\n",
       "<tr>\n",
       "  <th>Model:</th>                   <td>OLS</td>       <th>  Adj. R-squared:    </th> <td>   0.860</td> \n",
       "</tr>\n",
       "<tr>\n",
       "  <th>Method:</th>             <td>Least Squares</td>  <th>  F-statistic:       </th> <td>   1222.</td> \n",
       "</tr>\n",
       "<tr>\n",
       "  <th>Date:</th>             <td>Tue, 19 Apr 2022</td> <th>  Prob (F-statistic):</th>  <td>  0.00</td>  \n",
       "</tr>\n",
       "<tr>\n",
       "  <th>Time:</th>                 <td>07:18:40</td>     <th>  Log-Likelihood:    </th> <td> -23259.</td> \n",
       "</tr>\n",
       "<tr>\n",
       "  <th>No. Observations:</th>      <td>  1988</td>      <th>  AIC:               </th> <td>4.654e+04</td>\n",
       "</tr>\n",
       "<tr>\n",
       "  <th>Df Residuals:</th>          <td>  1977</td>      <th>  BIC:               </th> <td>4.660e+04</td>\n",
       "</tr>\n",
       "<tr>\n",
       "  <th>Df Model:</th>              <td>    10</td>      <th>                     </th>     <td> </td>    \n",
       "</tr>\n",
       "<tr>\n",
       "  <th>Covariance Type:</th>      <td>nonrobust</td>    <th>                     </th>     <td> </td>    \n",
       "</tr>\n",
       "</table>\n",
       "<table class=\"simpletable\">\n",
       "<tr>\n",
       "            <td></td>              <th>coef</th>     <th>std err</th>      <th>t</th>      <th>P>|t|</th>  <th>[0.025</th>    <th>0.975]</th>  \n",
       "</tr>\n",
       "<tr>\n",
       "  <th>const</th>                <td>-6.955e+05</td> <td> 7.54e+04</td> <td>   -9.219</td> <td> 0.000</td> <td>-8.43e+05</td> <td>-5.48e+05</td>\n",
       "</tr>\n",
       "<tr>\n",
       "  <th>MSZoning_RM</th>          <td>-1.244e+04</td> <td> 1851.158</td> <td>   -6.722</td> <td> 0.000</td> <td>-1.61e+04</td> <td>-8813.746</td>\n",
       "</tr>\n",
       "<tr>\n",
       "  <th>Neighborhood_NridgHt</th> <td> 2.788e+04</td> <td> 3081.607</td> <td>    9.049</td> <td> 0.000</td> <td> 2.18e+04</td> <td> 3.39e+04</td>\n",
       "</tr>\n",
       "<tr>\n",
       "  <th>BsmtExposure_Gd</th>      <td> 2.537e+04</td> <td> 2505.160</td> <td>   10.128</td> <td> 0.000</td> <td> 2.05e+04</td> <td> 3.03e+04</td>\n",
       "</tr>\n",
       "<tr>\n",
       "  <th>GrLivArea</th>            <td>   58.2490</td> <td>    1.782</td> <td>   32.690</td> <td> 0.000</td> <td>   54.755</td> <td>   61.743</td>\n",
       "</tr>\n",
       "<tr>\n",
       "  <th>OverallQual</th>          <td> 1.622e+04</td> <td>  755.115</td> <td>   21.484</td> <td> 0.000</td> <td> 1.47e+04</td> <td> 1.77e+04</td>\n",
       "</tr>\n",
       "<tr>\n",
       "  <th>YearRemodAdd</th>         <td>  333.6790</td> <td>   38.668</td> <td>    8.629</td> <td> 0.000</td> <td>  257.844</td> <td>  409.514</td>\n",
       "</tr>\n",
       "<tr>\n",
       "  <th>BsmtFinSF1</th>           <td>   26.5360</td> <td>    1.845</td> <td>   14.380</td> <td> 0.000</td> <td>   22.917</td> <td>   30.155</td>\n",
       "</tr>\n",
       "<tr>\n",
       "  <th>TotalBsmtSF</th>          <td>   22.4902</td> <td>    2.241</td> <td>   10.037</td> <td> 0.000</td> <td>   18.096</td> <td>   26.884</td>\n",
       "</tr>\n",
       "<tr>\n",
       "  <th>KitchenAbvGr</th>         <td>-3.195e+04</td> <td> 3823.546</td> <td>   -8.356</td> <td> 0.000</td> <td>-3.94e+04</td> <td>-2.45e+04</td>\n",
       "</tr>\n",
       "<tr>\n",
       "  <th>GarageArea</th>           <td>   49.5627</td> <td>    4.599</td> <td>   10.777</td> <td> 0.000</td> <td>   40.543</td> <td>   58.582</td>\n",
       "</tr>\n",
       "</table>\n",
       "<table class=\"simpletable\">\n",
       "<tr>\n",
       "  <th>Omnibus:</th>       <td>540.225</td> <th>  Durbin-Watson:     </th> <td>   2.022</td> \n",
       "</tr>\n",
       "<tr>\n",
       "  <th>Prob(Omnibus):</th> <td> 0.000</td>  <th>  Jarque-Bera (JB):  </th> <td>48003.263</td>\n",
       "</tr>\n",
       "<tr>\n",
       "  <th>Skew:</th>          <td> 0.072</td>  <th>  Prob(JB):          </th> <td>    0.00</td> \n",
       "</tr>\n",
       "<tr>\n",
       "  <th>Kurtosis:</th>      <td>27.073</td>  <th>  Cond. No.          </th> <td>3.22e+05</td> \n",
       "</tr>\n",
       "</table><br/><br/>Notes:<br/>[1] Standard Errors assume that the covariance matrix of the errors is correctly specified.<br/>[2] The condition number is large, 3.22e+05. This might indicate that there are<br/>strong multicollinearity or other numerical problems."
      ],
      "text/plain": [
       "<class 'statsmodels.iolib.summary.Summary'>\n",
       "\"\"\"\n",
       "                            OLS Regression Results                            \n",
       "==============================================================================\n",
       "Dep. Variable:              SalePrice   R-squared:                       0.861\n",
       "Model:                            OLS   Adj. R-squared:                  0.860\n",
       "Method:                 Least Squares   F-statistic:                     1222.\n",
       "Date:                Tue, 19 Apr 2022   Prob (F-statistic):               0.00\n",
       "Time:                        07:18:40   Log-Likelihood:                -23259.\n",
       "No. Observations:                1988   AIC:                         4.654e+04\n",
       "Df Residuals:                    1977   BIC:                         4.660e+04\n",
       "Df Model:                          10                                         \n",
       "Covariance Type:            nonrobust                                         \n",
       "========================================================================================\n",
       "                           coef    std err          t      P>|t|      [0.025      0.975]\n",
       "----------------------------------------------------------------------------------------\n",
       "const                -6.955e+05   7.54e+04     -9.219      0.000   -8.43e+05   -5.48e+05\n",
       "MSZoning_RM          -1.244e+04   1851.158     -6.722      0.000   -1.61e+04   -8813.746\n",
       "Neighborhood_NridgHt  2.788e+04   3081.607      9.049      0.000    2.18e+04    3.39e+04\n",
       "BsmtExposure_Gd       2.537e+04   2505.160     10.128      0.000    2.05e+04    3.03e+04\n",
       "GrLivArea               58.2490      1.782     32.690      0.000      54.755      61.743\n",
       "OverallQual           1.622e+04    755.115     21.484      0.000    1.47e+04    1.77e+04\n",
       "YearRemodAdd           333.6790     38.668      8.629      0.000     257.844     409.514\n",
       "BsmtFinSF1              26.5360      1.845     14.380      0.000      22.917      30.155\n",
       "TotalBsmtSF             22.4902      2.241     10.037      0.000      18.096      26.884\n",
       "KitchenAbvGr         -3.195e+04   3823.546     -8.356      0.000   -3.94e+04   -2.45e+04\n",
       "GarageArea              49.5627      4.599     10.777      0.000      40.543      58.582\n",
       "==============================================================================\n",
       "Omnibus:                      540.225   Durbin-Watson:                   2.022\n",
       "Prob(Omnibus):                  0.000   Jarque-Bera (JB):            48003.263\n",
       "Skew:                           0.072   Prob(JB):                         0.00\n",
       "Kurtosis:                      27.073   Cond. No.                     3.22e+05\n",
       "==============================================================================\n",
       "\n",
       "Notes:\n",
       "[1] Standard Errors assume that the covariance matrix of the errors is correctly specified.\n",
       "[2] The condition number is large, 3.22e+05. This might indicate that there are\n",
       "strong multicollinearity or other numerical problems.\n",
       "\"\"\""
      ]
     },
     "execution_count": 31,
     "metadata": {},
     "output_type": "execute_result"
    }
   ],
   "source": [
    "#Run OLS with statsmodels\n",
    "lin_reg0 = sm.OLS(y0,x_constant0).fit()\n",
    "lin_reg0.summary()"
   ]
  },
  {
   "cell_type": "code",
   "execution_count": null,
   "id": "d35884ef",
   "metadata": {},
   "outputs": [],
   "source": []
  },
  {
   "cell_type": "code",
   "execution_count": null,
   "id": "399c4287",
   "metadata": {},
   "outputs": [],
   "source": []
  }
 ],
 "metadata": {
  "hide_input": false,
  "kernelspec": {
   "display_name": "Python 3 (ipykernel)",
   "language": "python",
   "name": "python3"
  },
  "language_info": {
   "codemirror_mode": {
    "name": "ipython",
    "version": 3
   },
   "file_extension": ".py",
   "mimetype": "text/x-python",
   "name": "python",
   "nbconvert_exporter": "python",
   "pygments_lexer": "ipython3",
   "version": "3.8.8"
  },
  "varInspector": {
   "cols": {
    "lenName": 16,
    "lenType": 16,
    "lenVar": 40
   },
   "kernels_config": {
    "python": {
     "delete_cmd_postfix": "",
     "delete_cmd_prefix": "del ",
     "library": "var_list.py",
     "varRefreshCmd": "print(var_dic_list())"
    },
    "r": {
     "delete_cmd_postfix": ") ",
     "delete_cmd_prefix": "rm(",
     "library": "var_list.r",
     "varRefreshCmd": "cat(var_dic_list()) "
    }
   },
   "types_to_exclude": [
    "module",
    "function",
    "builtin_function_or_method",
    "instance",
    "_Feature"
   ],
   "window_display": false
  }
 },
 "nbformat": 4,
 "nbformat_minor": 5
}
