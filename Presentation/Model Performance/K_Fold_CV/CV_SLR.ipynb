{
 "cells": [
  {
   "cell_type": "code",
   "execution_count": 1,
   "id": "7e248287",
   "metadata": {},
   "outputs": [],
   "source": [
    "import pandas as pd\n",
    "import numpy as np\n",
    "\n",
    "import sklearn \n",
    "\n",
    "from numpy import mean\n",
    "from numpy import std\n",
    "\n",
    "from sklearn.preprocessing import StandardScaler\n",
    "\n",
    "from sklearn import linear_model\n",
    "\n",
    "#from sklearn.linear_model import Ridge\n",
    "#from sklearn.linear_model import Lasso\n",
    "#from sklearn.linear_model import ElasticNet\n",
    "\n",
    "from sklearn.model_selection import cross_val_score, cross_validate\n",
    "from sklearn.model_selection import RepeatedKFold\n",
    "\n",
    "from sklearn.metrics import make_scorer\n",
    "\n",
    "import matplotlib.pyplot as plt\n",
    "import seaborn as sns\n"
   ]
  },
  {
   "cell_type": "code",
   "execution_count": 2,
   "id": "bb4533d1",
   "metadata": {},
   "outputs": [
    {
     "data": {
      "text/plain": [
       "(2580, 299)"
      ]
     },
     "execution_count": 2,
     "metadata": {},
     "output_type": "execute_result"
    }
   ],
   "source": [
    "# Basic Dummified Dataset for Linear Models\n",
    "base = pd.read_csv('../../Data/BaseData.csv')\n",
    "base.shape"
   ]
  },
  {
   "cell_type": "code",
   "execution_count": 3,
   "id": "cae76f5e",
   "metadata": {},
   "outputs": [],
   "source": [
    "X = base['GrLivArea'].values.reshape(-1,1)\n",
    "y = base.SalePrice.values.reshape(-1,1)\n",
    "\n",
    "#scaler = StandardScaler()\n",
    "#X = scaler.fit_transform(X)\n",
    "#y=np.log10(y)"
   ]
  },
  {
   "cell_type": "code",
   "execution_count": 4,
   "id": "bbc3fe7f",
   "metadata": {},
   "outputs": [],
   "source": [
    "simple = linear_model.LinearRegression()"
   ]
  },
  {
   "cell_type": "code",
   "execution_count": 5,
   "id": "748c7620",
   "metadata": {},
   "outputs": [],
   "source": [
    "scoring = {'r2': 'r2',\n",
    "           'neg_mae': 'neg_mean_absolute_error'}"
   ]
  },
  {
   "cell_type": "code",
   "execution_count": 6,
   "id": "ba70621a",
   "metadata": {},
   "outputs": [],
   "source": [
    "# Use cross-validation to evaluate model performance\n",
    "\n",
    "def evaluate_model(model, X, y):\n",
    "    \n",
    "    # define the evaluation procedure\n",
    "    cv = RepeatedKFold(n_splits=5, n_repeats=3, random_state=1)\n",
    "    \n",
    "    # evaluate the model and collect the results\n",
    "    scores = cross_validate(model, X, y, scoring=scoring, cv=cv, n_jobs=-1) \n",
    "    \n",
    "    df = pd.DataFrame(scores)\n",
    "    \n",
    "    return df"
   ]
  },
  {
   "cell_type": "code",
   "execution_count": 21,
   "id": "1ce89a8a",
   "metadata": {},
   "outputs": [
    {
     "data": {
      "text/html": [
       "<div>\n",
       "<style scoped>\n",
       "    .dataframe tbody tr th:only-of-type {\n",
       "        vertical-align: middle;\n",
       "    }\n",
       "\n",
       "    .dataframe tbody tr th {\n",
       "        vertical-align: top;\n",
       "    }\n",
       "\n",
       "    .dataframe thead th {\n",
       "        text-align: right;\n",
       "    }\n",
       "</style>\n",
       "<table border=\"1\" class=\"dataframe\">\n",
       "  <thead>\n",
       "    <tr style=\"text-align: right;\">\n",
       "      <th></th>\n",
       "      <th>fit_time</th>\n",
       "      <th>score_time</th>\n",
       "      <th>test_r2</th>\n",
       "      <th>test_neg_mae</th>\n",
       "    </tr>\n",
       "  </thead>\n",
       "  <tbody>\n",
       "    <tr>\n",
       "      <th>0</th>\n",
       "      <td>0.002175</td>\n",
       "      <td>0.001160</td>\n",
       "      <td>0.492545</td>\n",
       "      <td>-37786.183210</td>\n",
       "    </tr>\n",
       "    <tr>\n",
       "      <th>1</th>\n",
       "      <td>0.002168</td>\n",
       "      <td>0.001093</td>\n",
       "      <td>0.500684</td>\n",
       "      <td>-35402.946111</td>\n",
       "    </tr>\n",
       "    <tr>\n",
       "      <th>2</th>\n",
       "      <td>0.002129</td>\n",
       "      <td>0.001100</td>\n",
       "      <td>0.530382</td>\n",
       "      <td>-34970.842292</td>\n",
       "    </tr>\n",
       "    <tr>\n",
       "      <th>3</th>\n",
       "      <td>0.002126</td>\n",
       "      <td>0.000792</td>\n",
       "      <td>0.553000</td>\n",
       "      <td>-34575.192950</td>\n",
       "    </tr>\n",
       "    <tr>\n",
       "      <th>4</th>\n",
       "      <td>0.001913</td>\n",
       "      <td>0.000956</td>\n",
       "      <td>0.509211</td>\n",
       "      <td>-36853.942966</td>\n",
       "    </tr>\n",
       "    <tr>\n",
       "      <th>5</th>\n",
       "      <td>0.001571</td>\n",
       "      <td>0.000648</td>\n",
       "      <td>0.503816</td>\n",
       "      <td>-37314.133001</td>\n",
       "    </tr>\n",
       "    <tr>\n",
       "      <th>6</th>\n",
       "      <td>0.001231</td>\n",
       "      <td>0.000564</td>\n",
       "      <td>0.569944</td>\n",
       "      <td>-32490.216141</td>\n",
       "    </tr>\n",
       "    <tr>\n",
       "      <th>7</th>\n",
       "      <td>0.001472</td>\n",
       "      <td>0.000637</td>\n",
       "      <td>0.515928</td>\n",
       "      <td>-35952.665336</td>\n",
       "    </tr>\n",
       "    <tr>\n",
       "      <th>8</th>\n",
       "      <td>0.001435</td>\n",
       "      <td>0.000611</td>\n",
       "      <td>0.493042</td>\n",
       "      <td>-35693.252076</td>\n",
       "    </tr>\n",
       "    <tr>\n",
       "      <th>9</th>\n",
       "      <td>0.001350</td>\n",
       "      <td>0.000605</td>\n",
       "      <td>0.505414</td>\n",
       "      <td>-38245.540747</td>\n",
       "    </tr>\n",
       "    <tr>\n",
       "      <th>10</th>\n",
       "      <td>0.001462</td>\n",
       "      <td>0.000564</td>\n",
       "      <td>0.557953</td>\n",
       "      <td>-34612.600203</td>\n",
       "    </tr>\n",
       "    <tr>\n",
       "      <th>11</th>\n",
       "      <td>0.001202</td>\n",
       "      <td>0.000552</td>\n",
       "      <td>0.480105</td>\n",
       "      <td>-40247.172803</td>\n",
       "    </tr>\n",
       "    <tr>\n",
       "      <th>12</th>\n",
       "      <td>0.001311</td>\n",
       "      <td>0.000576</td>\n",
       "      <td>0.428189</td>\n",
       "      <td>-34283.340700</td>\n",
       "    </tr>\n",
       "    <tr>\n",
       "      <th>13</th>\n",
       "      <td>0.001140</td>\n",
       "      <td>0.000483</td>\n",
       "      <td>0.565351</td>\n",
       "      <td>-35400.614775</td>\n",
       "    </tr>\n",
       "    <tr>\n",
       "      <th>14</th>\n",
       "      <td>0.001202</td>\n",
       "      <td>0.000499</td>\n",
       "      <td>0.525359</td>\n",
       "      <td>-35332.625003</td>\n",
       "    </tr>\n",
       "  </tbody>\n",
       "</table>\n",
       "</div>"
      ],
      "text/plain": [
       "    fit_time  score_time   test_r2  test_neg_mae\n",
       "0   0.002175    0.001160  0.492545 -37786.183210\n",
       "1   0.002168    0.001093  0.500684 -35402.946111\n",
       "2   0.002129    0.001100  0.530382 -34970.842292\n",
       "3   0.002126    0.000792  0.553000 -34575.192950\n",
       "4   0.001913    0.000956  0.509211 -36853.942966\n",
       "5   0.001571    0.000648  0.503816 -37314.133001\n",
       "6   0.001231    0.000564  0.569944 -32490.216141\n",
       "7   0.001472    0.000637  0.515928 -35952.665336\n",
       "8   0.001435    0.000611  0.493042 -35693.252076\n",
       "9   0.001350    0.000605  0.505414 -38245.540747\n",
       "10  0.001462    0.000564  0.557953 -34612.600203\n",
       "11  0.001202    0.000552  0.480105 -40247.172803\n",
       "12  0.001311    0.000576  0.428189 -34283.340700\n",
       "13  0.001140    0.000483  0.565351 -35400.614775\n",
       "14  0.001202    0.000499  0.525359 -35332.625003"
      ]
     },
     "execution_count": 21,
     "metadata": {},
     "output_type": "execute_result"
    }
   ],
   "source": [
    "SLR = evaluate_model(simple, X,y)\n",
    "SLR"
   ]
  },
  {
   "cell_type": "code",
   "execution_count": 22,
   "id": "a0b1187a",
   "metadata": {},
   "outputs": [
    {
     "data": {
      "text/html": [
       "<div>\n",
       "<style scoped>\n",
       "    .dataframe tbody tr th:only-of-type {\n",
       "        vertical-align: middle;\n",
       "    }\n",
       "\n",
       "    .dataframe tbody tr th {\n",
       "        vertical-align: top;\n",
       "    }\n",
       "\n",
       "    .dataframe thead th {\n",
       "        text-align: right;\n",
       "    }\n",
       "</style>\n",
       "<table border=\"1\" class=\"dataframe\">\n",
       "  <thead>\n",
       "    <tr style=\"text-align: right;\">\n",
       "      <th></th>\n",
       "      <th>fit_time</th>\n",
       "      <th>score_time</th>\n",
       "      <th>SLR R2 Area</th>\n",
       "      <th>test_neg_mae</th>\n",
       "      <th>SLR MAE Area</th>\n",
       "    </tr>\n",
       "  </thead>\n",
       "  <tbody>\n",
       "    <tr>\n",
       "      <th>0</th>\n",
       "      <td>0.002175</td>\n",
       "      <td>0.001160</td>\n",
       "      <td>0.492545</td>\n",
       "      <td>-37786.183210</td>\n",
       "      <td>37786.183210</td>\n",
       "    </tr>\n",
       "    <tr>\n",
       "      <th>1</th>\n",
       "      <td>0.002168</td>\n",
       "      <td>0.001093</td>\n",
       "      <td>0.500684</td>\n",
       "      <td>-35402.946111</td>\n",
       "      <td>35402.946111</td>\n",
       "    </tr>\n",
       "    <tr>\n",
       "      <th>2</th>\n",
       "      <td>0.002129</td>\n",
       "      <td>0.001100</td>\n",
       "      <td>0.530382</td>\n",
       "      <td>-34970.842292</td>\n",
       "      <td>34970.842292</td>\n",
       "    </tr>\n",
       "    <tr>\n",
       "      <th>3</th>\n",
       "      <td>0.002126</td>\n",
       "      <td>0.000792</td>\n",
       "      <td>0.553000</td>\n",
       "      <td>-34575.192950</td>\n",
       "      <td>34575.192950</td>\n",
       "    </tr>\n",
       "    <tr>\n",
       "      <th>4</th>\n",
       "      <td>0.001913</td>\n",
       "      <td>0.000956</td>\n",
       "      <td>0.509211</td>\n",
       "      <td>-36853.942966</td>\n",
       "      <td>36853.942966</td>\n",
       "    </tr>\n",
       "    <tr>\n",
       "      <th>5</th>\n",
       "      <td>0.001571</td>\n",
       "      <td>0.000648</td>\n",
       "      <td>0.503816</td>\n",
       "      <td>-37314.133001</td>\n",
       "      <td>37314.133001</td>\n",
       "    </tr>\n",
       "    <tr>\n",
       "      <th>6</th>\n",
       "      <td>0.001231</td>\n",
       "      <td>0.000564</td>\n",
       "      <td>0.569944</td>\n",
       "      <td>-32490.216141</td>\n",
       "      <td>32490.216141</td>\n",
       "    </tr>\n",
       "    <tr>\n",
       "      <th>7</th>\n",
       "      <td>0.001472</td>\n",
       "      <td>0.000637</td>\n",
       "      <td>0.515928</td>\n",
       "      <td>-35952.665336</td>\n",
       "      <td>35952.665336</td>\n",
       "    </tr>\n",
       "    <tr>\n",
       "      <th>8</th>\n",
       "      <td>0.001435</td>\n",
       "      <td>0.000611</td>\n",
       "      <td>0.493042</td>\n",
       "      <td>-35693.252076</td>\n",
       "      <td>35693.252076</td>\n",
       "    </tr>\n",
       "    <tr>\n",
       "      <th>9</th>\n",
       "      <td>0.001350</td>\n",
       "      <td>0.000605</td>\n",
       "      <td>0.505414</td>\n",
       "      <td>-38245.540747</td>\n",
       "      <td>38245.540747</td>\n",
       "    </tr>\n",
       "    <tr>\n",
       "      <th>10</th>\n",
       "      <td>0.001462</td>\n",
       "      <td>0.000564</td>\n",
       "      <td>0.557953</td>\n",
       "      <td>-34612.600203</td>\n",
       "      <td>34612.600203</td>\n",
       "    </tr>\n",
       "    <tr>\n",
       "      <th>11</th>\n",
       "      <td>0.001202</td>\n",
       "      <td>0.000552</td>\n",
       "      <td>0.480105</td>\n",
       "      <td>-40247.172803</td>\n",
       "      <td>40247.172803</td>\n",
       "    </tr>\n",
       "    <tr>\n",
       "      <th>12</th>\n",
       "      <td>0.001311</td>\n",
       "      <td>0.000576</td>\n",
       "      <td>0.428189</td>\n",
       "      <td>-34283.340700</td>\n",
       "      <td>34283.340700</td>\n",
       "    </tr>\n",
       "    <tr>\n",
       "      <th>13</th>\n",
       "      <td>0.001140</td>\n",
       "      <td>0.000483</td>\n",
       "      <td>0.565351</td>\n",
       "      <td>-35400.614775</td>\n",
       "      <td>35400.614775</td>\n",
       "    </tr>\n",
       "    <tr>\n",
       "      <th>14</th>\n",
       "      <td>0.001202</td>\n",
       "      <td>0.000499</td>\n",
       "      <td>0.525359</td>\n",
       "      <td>-35332.625003</td>\n",
       "      <td>35332.625003</td>\n",
       "    </tr>\n",
       "  </tbody>\n",
       "</table>\n",
       "</div>"
      ],
      "text/plain": [
       "    fit_time  score_time  SLR R2 Area  test_neg_mae  SLR MAE Area\n",
       "0   0.002175    0.001160     0.492545 -37786.183210  37786.183210\n",
       "1   0.002168    0.001093     0.500684 -35402.946111  35402.946111\n",
       "2   0.002129    0.001100     0.530382 -34970.842292  34970.842292\n",
       "3   0.002126    0.000792     0.553000 -34575.192950  34575.192950\n",
       "4   0.001913    0.000956     0.509211 -36853.942966  36853.942966\n",
       "5   0.001571    0.000648     0.503816 -37314.133001  37314.133001\n",
       "6   0.001231    0.000564     0.569944 -32490.216141  32490.216141\n",
       "7   0.001472    0.000637     0.515928 -35952.665336  35952.665336\n",
       "8   0.001435    0.000611     0.493042 -35693.252076  35693.252076\n",
       "9   0.001350    0.000605     0.505414 -38245.540747  38245.540747\n",
       "10  0.001462    0.000564     0.557953 -34612.600203  34612.600203\n",
       "11  0.001202    0.000552     0.480105 -40247.172803  40247.172803\n",
       "12  0.001311    0.000576     0.428189 -34283.340700  34283.340700\n",
       "13  0.001140    0.000483     0.565351 -35400.614775  35400.614775\n",
       "14  0.001202    0.000499     0.525359 -35332.625003  35332.625003"
      ]
     },
     "execution_count": 22,
     "metadata": {},
     "output_type": "execute_result"
    }
   ],
   "source": [
    "#SLR = SLR[0][['test_r2', 'test_neg_mae']]\n",
    "SLR = SLR.assign(MAE = SLR['test_neg_mae'].abs())\n",
    "SLR = SLR.rename(columns = {'test_r2':'SLR R2 Area', 'MAE':'SLR MAE Area'})\n",
    "SLR"
   ]
  },
  {
   "cell_type": "code",
   "execution_count": 23,
   "id": "0aba393e",
   "metadata": {},
   "outputs": [
    {
     "data": {
      "image/png": "[encoded data removed]",
      "text/plain": [
       "<Figure size 432x288 with 1 Axes>"
      ]
     },
     "metadata": {
      "needs_background": "light"
     },
     "output_type": "display_data"
    }
   ],
   "source": [
    "sns.boxplot(data=SLR['SLR R2 Area'], showmeans=True,\n",
    "           meanprops={\"marker\":\"o\",\n",
    "                       \"markerfacecolor\":\"white\", \n",
    "                       \"markeredgecolor\":\"black\",\n",
    "                      \"markersize\":\"8\"});"
   ]
  },
  {
   "cell_type": "code",
   "execution_count": 24,
   "id": "5750da51",
   "metadata": {},
   "outputs": [
    {
     "data": {
      "text/html": [
       "<div>\n",
       "<style scoped>\n",
       "    .dataframe tbody tr th:only-of-type {\n",
       "        vertical-align: middle;\n",
       "    }\n",
       "\n",
       "    .dataframe tbody tr th {\n",
       "        vertical-align: top;\n",
       "    }\n",
       "\n",
       "    .dataframe thead th {\n",
       "        text-align: right;\n",
       "    }\n",
       "</style>\n",
       "<table border=\"1\" class=\"dataframe\">\n",
       "  <thead>\n",
       "    <tr style=\"text-align: right;\">\n",
       "      <th></th>\n",
       "      <th>fit_time</th>\n",
       "      <th>score_time</th>\n",
       "      <th>SLR R2 Area</th>\n",
       "      <th>test_neg_mae</th>\n",
       "      <th>SLR MAE Area</th>\n",
       "    </tr>\n",
       "  </thead>\n",
       "  <tbody>\n",
       "    <tr>\n",
       "      <th>count</th>\n",
       "      <td>15.000000</td>\n",
       "      <td>15.000000</td>\n",
       "      <td>15.000000</td>\n",
       "      <td>15.000000</td>\n",
       "      <td>15.000000</td>\n",
       "    </tr>\n",
       "    <tr>\n",
       "      <th>mean</th>\n",
       "      <td>0.001592</td>\n",
       "      <td>0.000723</td>\n",
       "      <td>0.515395</td>\n",
       "      <td>-35944.084554</td>\n",
       "      <td>35944.084554</td>\n",
       "    </tr>\n",
       "    <tr>\n",
       "      <th>std</th>\n",
       "      <td>0.000395</td>\n",
       "      <td>0.000236</td>\n",
       "      <td>0.037207</td>\n",
       "      <td>1893.932561</td>\n",
       "      <td>1893.932561</td>\n",
       "    </tr>\n",
       "    <tr>\n",
       "      <th>min</th>\n",
       "      <td>0.001140</td>\n",
       "      <td>0.000483</td>\n",
       "      <td>0.428189</td>\n",
       "      <td>-40247.172803</td>\n",
       "      <td>32490.216141</td>\n",
       "    </tr>\n",
       "    <tr>\n",
       "      <th>25%</th>\n",
       "      <td>0.001271</td>\n",
       "      <td>0.000564</td>\n",
       "      <td>0.496863</td>\n",
       "      <td>-37084.037984</td>\n",
       "      <td>34791.721247</td>\n",
       "    </tr>\n",
       "    <tr>\n",
       "      <th>50%</th>\n",
       "      <td>0.001462</td>\n",
       "      <td>0.000611</td>\n",
       "      <td>0.509211</td>\n",
       "      <td>-35402.946111</td>\n",
       "      <td>35402.946111</td>\n",
       "    </tr>\n",
       "    <tr>\n",
       "      <th>75%</th>\n",
       "      <td>0.002020</td>\n",
       "      <td>0.000874</td>\n",
       "      <td>0.541691</td>\n",
       "      <td>-34791.721247</td>\n",
       "      <td>37084.037984</td>\n",
       "    </tr>\n",
       "    <tr>\n",
       "      <th>max</th>\n",
       "      <td>0.002175</td>\n",
       "      <td>0.001160</td>\n",
       "      <td>0.569944</td>\n",
       "      <td>-32490.216141</td>\n",
       "      <td>40247.172803</td>\n",
       "    </tr>\n",
       "  </tbody>\n",
       "</table>\n",
       "</div>"
      ],
      "text/plain": [
       "        fit_time  score_time  SLR R2 Area  test_neg_mae  SLR MAE Area\n",
       "count  15.000000   15.000000    15.000000     15.000000     15.000000\n",
       "mean    0.001592    0.000723     0.515395 -35944.084554  35944.084554\n",
       "std     0.000395    0.000236     0.037207   1893.932561   1893.932561\n",
       "min     0.001140    0.000483     0.428189 -40247.172803  32490.216141\n",
       "25%     0.001271    0.000564     0.496863 -37084.037984  34791.721247\n",
       "50%     0.001462    0.000611     0.509211 -35402.946111  35402.946111\n",
       "75%     0.002020    0.000874     0.541691 -34791.721247  37084.037984\n",
       "max     0.002175    0.001160     0.569944 -32490.216141  40247.172803"
      ]
     },
     "execution_count": 24,
     "metadata": {},
     "output_type": "execute_result"
    }
   ],
   "source": [
    "SLR.describe()"
   ]
  },
  {
   "cell_type": "code",
   "execution_count": 25,
   "id": "2b0ea0cb",
   "metadata": {},
   "outputs": [],
   "source": [
    "SLR.to_csv('SLR_Area.csv', index=False)"
   ]
  },
  {
   "cell_type": "code",
   "execution_count": null,
   "id": "f02b52ea",
   "metadata": {},
   "outputs": [],
   "source": [
    "#sklearn.metrics.SCORERS.keys()"
   ]
  },
  {
   "cell_type": "code",
   "execution_count": null,
   "id": "220806b4",
   "metadata": {},
   "outputs": [],
   "source": []
  },
  {
   "cell_type": "code",
   "execution_count": null,
   "id": "c8cb0642",
   "metadata": {},
   "outputs": [],
   "source": []
  },
  {
   "cell_type": "code",
   "execution_count": null,
   "id": "58f0d95f",
   "metadata": {},
   "outputs": [],
   "source": [
    "X = base['GrLivArea'].values.reshape(-1,1)\n",
    "y = base.SalePrice.values.reshape(-1,1)\n"
   ]
  },
  {
   "cell_type": "code",
   "execution_count": null,
   "id": "80c323e4",
   "metadata": {},
   "outputs": [],
   "source": [
    "simple.fit(X,y)\n",
    "response = simple.predict(X)\n",
    "r2 = simple.score(X,y)"
   ]
  },
  {
   "cell_type": "code",
   "execution_count": null,
   "id": "28e17b1a",
   "metadata": {},
   "outputs": [],
   "source": [
    "response"
   ]
  },
  {
   "cell_type": "code",
   "execution_count": null,
   "id": "d9cf00b0",
   "metadata": {},
   "outputs": [],
   "source": [
    "r2"
   ]
  },
  {
   "cell_type": "code",
   "execution_count": null,
   "id": "7786a06f",
   "metadata": {},
   "outputs": [],
   "source": [
    "plt.style.use('default')\n",
    "plt.style.use('ggplot')\n",
    "\n",
    "fig, ax = plt.subplots(figsize=(8, 4))\n",
    "\n",
    "ax.plot(X, response, color='blue', label='R-Squared of 0.52')\n",
    "ax.scatter(X, y, edgecolor='k', facecolor='white', alpha=0.8, label='Data')\n",
    "ax.set_ylabel('House Sale Price (US$)', fontsize=14)\n",
    "ax.set_xlabel('Ground Living Area', fontsize=14)\n",
    "#ax.text(0.8, 0.1, 'aegis4048.github.io', fontsize=13, ha='center', va='center',\n",
    "#         transform=ax.transAxes, color='grey', alpha=0.5)\n",
    "ax.legend(facecolor='white', fontsize=11)\n",
    "ax.set_title('Simple Linear Regression (Area vs Price)', fontsize = 18, color='blue')\n",
    "#ax.set_title('$R^2= %.2f$' % r2, fontsize=18)\n",
    "\n",
    "fig.tight_layout()"
   ]
  },
  {
   "cell_type": "code",
   "execution_count": null,
   "id": "3b31ac94",
   "metadata": {},
   "outputs": [],
   "source": []
  },
  {
   "cell_type": "code",
   "execution_count": null,
   "id": "5d958284",
   "metadata": {},
   "outputs": [],
   "source": []
  },
  {
   "cell_type": "code",
   "execution_count": null,
   "id": "fc36019a",
   "metadata": {},
   "outputs": [],
   "source": []
  },
  {
   "cell_type": "code",
   "execution_count": null,
   "id": "5bec70a6",
   "metadata": {},
   "outputs": [],
   "source": [
    "x = base[[\"GrLivArea\"]]\n",
    "y = base.SalePrice"
   ]
  },
  {
   "cell_type": "code",
   "execution_count": null,
   "id": "330661aa",
   "metadata": {},
   "outputs": [],
   "source": [
    "x_constant = sm.add_constant(x)"
   ]
  },
  {
   "cell_type": "code",
   "execution_count": null,
   "id": "ef51822c",
   "metadata": {},
   "outputs": [],
   "source": [
    "#Run OLS with statsmodels\n",
    "lin_reg = sm.OLS(y,x_constant).fit()\n",
    "lin_reg.summary()"
   ]
  },
  {
   "cell_type": "code",
   "execution_count": null,
   "id": "de122445",
   "metadata": {},
   "outputs": [],
   "source": []
  },
  {
   "cell_type": "code",
   "execution_count": null,
   "id": "5e85e1a3",
   "metadata": {},
   "outputs": [],
   "source": [
    "from scipy import stats\n",
    "import statsmodels.api as sm\n",
    "\n",
    "def normality_of_residuals_test(model):\n",
    "    '''\n",
    "    Function for drawing the normal QQ-plot of the residuals and running 4 statistical tests to \n",
    "    investigate the normality of residuals.\n",
    "    \n",
    "    Arg:\n",
    "    * model - fitted OLS models from statsmodels\n",
    "    '''\n",
    "    sm.ProbPlot(model.resid).qqplot(line='s', fmt='k', markeredgecolor='k', markerfacecolor='white', markersize=2, alpha=0.8);\n",
    "    plt.title('Q-Q plot, Simple Linear Regression (Area vs Price)');\n",
    "\n",
    "    jb = stats.jarque_bera(model.resid)\n",
    "    sw = stats.shapiro(model.resid)\n",
    "    ad = stats.anderson(model.resid, dist='norm')\n",
    "    ks = stats.kstest(model.resid, 'norm')\n",
    "    \n",
    "    print(f'Jarque-Bera test ---- statistic: {jb[0]:.4f}, p-value: {jb[1]}')\n",
    "    print(f'Shapiro-Wilk test ---- statistic: {sw[0]:.4f}, p-value: {sw[1]:.4f}')\n",
    "    print(f'Kolmogorov-Smirnov test ---- statistic: {ks.statistic:.4f}, p-value: {ks.pvalue:.4f}')\n",
    "    print(f'Anderson-Darling test ---- statistic: {ad.statistic:.4f}, 5% critical value: {ad.critical_values[2]:.4f}')\n",
    "    print('If the returned AD statistic is larger than the critical value, then for the 5% significance level, the null hypothesis that the data come from the Normal distribution should be rejected. ')\n",
    "    \n",
    "#normality_of_residuals_test(lin_reg)"
   ]
  },
  {
   "cell_type": "code",
   "execution_count": null,
   "id": "4ecf9baf",
   "metadata": {},
   "outputs": [],
   "source": [
    "normality_of_residuals_test(lin_reg)"
   ]
  },
  {
   "cell_type": "code",
   "execution_count": null,
   "id": "e9c61e31",
   "metadata": {},
   "outputs": [],
   "source": []
  },
  {
   "cell_type": "code",
   "execution_count": null,
   "id": "4eef7dce",
   "metadata": {},
   "outputs": [],
   "source": [
    "simple.fit(X,np.log10(y))\n",
    "response = simple.predict(X)\n",
    "r2 = simple.score(X,np.log10(y))"
   ]
  },
  {
   "cell_type": "code",
   "execution_count": null,
   "id": "698b4d66",
   "metadata": {},
   "outputs": [],
   "source": [
    "response"
   ]
  },
  {
   "cell_type": "code",
   "execution_count": null,
   "id": "3a72f614",
   "metadata": {},
   "outputs": [],
   "source": [
    "r2"
   ]
  },
  {
   "cell_type": "code",
   "execution_count": null,
   "id": "d7ec160b",
   "metadata": {},
   "outputs": [],
   "source": [
    "plt.style.use('default')\n",
    "plt.style.use('ggplot')\n",
    "\n",
    "fig, ax = plt.subplots(figsize=(8, 4))\n",
    "\n",
    "ax.plot(X, response, color='k', label='R-Squared of 0.52')\n",
    "ax.scatter(X, np.log10(y), edgecolor='k', facecolor='white', alpha=0.8, label='Data')\n",
    "ax.set_ylabel('House Sale Price (Log Base 10)', fontsize=14)\n",
    "ax.set_xlabel('Ground Living Area', fontsize=14)\n",
    "#ax.text(0.8, 0.1, 'aegis4048.github.io', fontsize=13, ha='center', va='center',\n",
    "#         transform=ax.transAxes, color='grey', alpha=0.5)\n",
    "ax.legend(facecolor='white', fontsize=11)\n",
    "ax.set_title('Simple Linear Regression', fontsize = 18)\n",
    "#ax.set_title('$R^2= %.2f$' % r2, fontsize=18)\n",
    "\n",
    "fig.tight_layout()"
   ]
  },
  {
   "cell_type": "code",
   "execution_count": null,
   "id": "da03e305",
   "metadata": {},
   "outputs": [],
   "source": []
  }
 ],
 "metadata": {
  "hide_input": false,
  "kernelspec": {
   "display_name": "Python 3 (ipykernel)",
   "language": "python",
   "name": "python3"
  },
  "language_info": {
   "codemirror_mode": {
    "name": "ipython",
    "version": 3
   },
   "file_extension": ".py",
   "mimetype": "text/x-python",
   "name": "python",
   "nbconvert_exporter": "python",
   "pygments_lexer": "ipython3",
   "version": "3.8.8"
  },
  "varInspector": {
   "cols": {
    "lenName": 16,
    "lenType": 16,
    "lenVar": 40
   },
   "kernels_config": {
    "python": {
     "delete_cmd_postfix": "",
     "delete_cmd_prefix": "del ",
     "library": "var_list.py",
     "varRefreshCmd": "print(var_dic_list())"
    },
    "r": {
     "delete_cmd_postfix": ") ",
     "delete_cmd_prefix": "rm(",
     "library": "var_list.r",
     "varRefreshCmd": "cat(var_dic_list()) "
    }
   },
   "types_to_exclude": [
    "module",
    "function",
    "builtin_function_or_method",
    "instance",
    "_Feature"
   ],
   "window_display": false
  }
 },
 "nbformat": 4,
 "nbformat_minor": 5
}
