{
 "cells": [
  {
   "cell_type": "code",
   "execution_count": 1,
   "id": "14f2fef0",
   "metadata": {},
   "outputs": [],
   "source": [
    "import pandas as pd\n",
    "import numpy as np\n",
    "import matplotlib.pyplot as plt\n",
    "\n",
    "import seaborn as sns\n",
    "\n",
    "import scipy as sp\n",
    "from sklearn.linear_model import LinearRegression\n",
    "\n",
    "from sklearn.model_selection import cross_val_score, cross_validate\n",
    "from sklearn.model_selection import RepeatedKFold\n",
    "\n",
    "pd.set_option(\"display.max_columns\", 100)\n",
    "\n",
    "import statsmodels.api as sm\n",
    "import statsmodels.stats.api as sms\n",
    "from scipy import stats"
   ]
  },
  {
   "cell_type": "code",
   "execution_count": 2,
   "id": "ec09f4d4",
   "metadata": {},
   "outputs": [
    {
     "data": {
      "text/plain": [
       "(2580, 299)"
      ]
     },
     "execution_count": 2,
     "metadata": {},
     "output_type": "execute_result"
    }
   ],
   "source": [
    "# Basic Dummified Dataset for Linear Models\n",
    "base = pd.read_csv('../../Data/BaseData.csv')\n",
    "base.shape"
   ]
  },
  {
   "cell_type": "code",
   "execution_count": null,
   "id": "febca45c",
   "metadata": {},
   "outputs": [],
   "source": []
  },
  {
   "cell_type": "markdown",
   "id": "c74943ef",
   "metadata": {},
   "source": [
    "### SLR With SFS (n=1) ###"
   ]
  },
  {
   "cell_type": "code",
   "execution_count": 3,
   "id": "f56be6c1",
   "metadata": {},
   "outputs": [],
   "source": [
    "from sklearn.feature_selection import SequentialFeatureSelector"
   ]
  },
  {
   "cell_type": "code",
   "execution_count": 4,
   "id": "013788ef",
   "metadata": {},
   "outputs": [],
   "source": [
    "y=base.SalePrice\n",
    "X=base.drop('SalePrice', axis=1)"
   ]
  },
  {
   "cell_type": "code",
   "execution_count": 5,
   "id": "1fdb58be",
   "metadata": {},
   "outputs": [],
   "source": [
    "simple = LinearRegression()"
   ]
  },
  {
   "cell_type": "code",
   "execution_count": 6,
   "id": "93e456e0",
   "metadata": {},
   "outputs": [],
   "source": [
    "sfs_foreward = SequentialFeatureSelector(\n",
    "    simple, n_features_to_select=1, direction=\"forward\"\n",
    ").fit(X, y)"
   ]
  },
  {
   "cell_type": "code",
   "execution_count": 7,
   "id": "3e13bae8",
   "metadata": {},
   "outputs": [
    {
     "data": {
      "text/plain": [
       "Index(['OverallQual'], dtype='object')"
      ]
     },
     "execution_count": 7,
     "metadata": {},
     "output_type": "execute_result"
    }
   ],
   "source": [
    "selected = X.columns[sfs_foreward.get_support()]\n",
    "selected"
   ]
  },
  {
   "cell_type": "code",
   "execution_count": 8,
   "id": "0a05cf2f",
   "metadata": {},
   "outputs": [
    {
     "data": {
      "text/html": [
       "<div>\n",
       "<style scoped>\n",
       "    .dataframe tbody tr th:only-of-type {\n",
       "        vertical-align: middle;\n",
       "    }\n",
       "\n",
       "    .dataframe tbody tr th {\n",
       "        vertical-align: top;\n",
       "    }\n",
       "\n",
       "    .dataframe thead th {\n",
       "        text-align: right;\n",
       "    }\n",
       "</style>\n",
       "<table border=\"1\" class=\"dataframe\">\n",
       "  <thead>\n",
       "    <tr style=\"text-align: right;\">\n",
       "      <th></th>\n",
       "      <th>OverallQual</th>\n",
       "    </tr>\n",
       "  </thead>\n",
       "  <tbody>\n",
       "    <tr>\n",
       "      <th>0</th>\n",
       "      <td>6</td>\n",
       "    </tr>\n",
       "    <tr>\n",
       "      <th>1</th>\n",
       "      <td>5</td>\n",
       "    </tr>\n",
       "    <tr>\n",
       "      <th>2</th>\n",
       "      <td>5</td>\n",
       "    </tr>\n",
       "  </tbody>\n",
       "</table>\n",
       "</div>"
      ],
      "text/plain": [
       "   OverallQual\n",
       "0            6\n",
       "1            5\n",
       "2            5"
      ]
     },
     "execution_count": 8,
     "metadata": {},
     "output_type": "execute_result"
    }
   ],
   "source": [
    "X = base[selected]\n",
    "X.head(3)"
   ]
  },
  {
   "cell_type": "code",
   "execution_count": 9,
   "id": "aff461c2",
   "metadata": {},
   "outputs": [
    {
     "data": {
      "text/html": [
       "<style>#sk-container-id-1 {color: black;background-color: white;}#sk-container-id-1 pre{padding: 0;}#sk-container-id-1 div.sk-toggleable {background-color: white;}#sk-container-id-1 label.sk-toggleable__label {cursor: pointer;display: block;width: 100%;margin-bottom: 0;padding: 0.3em;box-sizing: border-box;text-align: center;}#sk-container-id-1 label.sk-toggleable__label-arrow:before {content: \"▸\";float: left;margin-right: 0.25em;color: #696969;}#sk-container-id-1 label.sk-toggleable__label-arrow:hover:before {color: black;}#sk-container-id-1 div.sk-estimator:hover label.sk-toggleable__label-arrow:before {color: black;}#sk-container-id-1 div.sk-toggleable__content {max-height: 0;max-width: 0;overflow: hidden;text-align: left;background-color: #f0f8ff;}#sk-container-id-1 div.sk-toggleable__content pre {margin: 0.2em;color: black;border-radius: 0.25em;background-color: #f0f8ff;}#sk-container-id-1 input.sk-toggleable__control:checked~div.sk-toggleable__content {max-height: 200px;max-width: 100%;overflow: auto;}#sk-container-id-1 input.sk-toggleable__control:checked~label.sk-toggleable__label-arrow:before {content: \"▾\";}#sk-container-id-1 div.sk-estimator input.sk-toggleable__control:checked~label.sk-toggleable__label {background-color: #d4ebff;}#sk-container-id-1 div.sk-label input.sk-toggleable__control:checked~label.sk-toggleable__label {background-color: #d4ebff;}#sk-container-id-1 input.sk-hidden--visually {border: 0;clip: rect(1px 1px 1px 1px);clip: rect(1px, 1px, 1px, 1px);height: 1px;margin: -1px;overflow: hidden;padding: 0;position: absolute;width: 1px;}#sk-container-id-1 div.sk-estimator {font-family: monospace;background-color: #f0f8ff;border: 1px dotted black;border-radius: 0.25em;box-sizing: border-box;margin-bottom: 0.5em;}#sk-container-id-1 div.sk-estimator:hover {background-color: #d4ebff;}#sk-container-id-1 div.sk-parallel-item::after {content: \"\";width: 100%;border-bottom: 1px solid gray;flex-grow: 1;}#sk-container-id-1 div.sk-label:hover label.sk-toggleable__label {background-color: #d4ebff;}#sk-container-id-1 div.sk-serial::before {content: \"\";position: absolute;border-left: 1px solid gray;box-sizing: border-box;top: 0;bottom: 0;left: 50%;z-index: 0;}#sk-container-id-1 div.sk-serial {display: flex;flex-direction: column;align-items: center;background-color: white;padding-right: 0.2em;padding-left: 0.2em;position: relative;}#sk-container-id-1 div.sk-item {position: relative;z-index: 1;}#sk-container-id-1 div.sk-parallel {display: flex;align-items: stretch;justify-content: center;background-color: white;position: relative;}#sk-container-id-1 div.sk-item::before, #sk-container-id-1 div.sk-parallel-item::before {content: \"\";position: absolute;border-left: 1px solid gray;box-sizing: border-box;top: 0;bottom: 0;left: 50%;z-index: -1;}#sk-container-id-1 div.sk-parallel-item {display: flex;flex-direction: column;z-index: 1;position: relative;background-color: white;}#sk-container-id-1 div.sk-parallel-item:first-child::after {align-self: flex-end;width: 50%;}#sk-container-id-1 div.sk-parallel-item:last-child::after {align-self: flex-start;width: 50%;}#sk-container-id-1 div.sk-parallel-item:only-child::after {width: 0;}#sk-container-id-1 div.sk-dashed-wrapped {border: 1px dashed gray;margin: 0 0.4em 0.5em 0.4em;box-sizing: border-box;padding-bottom: 0.4em;background-color: white;}#sk-container-id-1 div.sk-label label {font-family: monospace;font-weight: bold;display: inline-block;line-height: 1.2em;}#sk-container-id-1 div.sk-label-container {text-align: center;}#sk-container-id-1 div.sk-container {/* jupyter's `normalize.less` sets `[hidden] { display: none; }` but bootstrap.min.css set `[hidden] { display: none !important; }` so we also need the `!important` here to be able to override the default hidden behavior on the sphinx rendered scikit-learn.org. See: https://github.com/scikit-learn/scikit-learn/issues/21755 */display: inline-block !important;position: relative;}#sk-container-id-1 div.sk-text-repr-fallback {display: none;}</style><div id=\"sk-container-id-1\" class=\"sk-top-container\"><div class=\"sk-text-repr-fallback\"><pre>LinearRegression()</pre><b>In a Jupyter environment, please rerun this cell to show the HTML representation or trust the notebook. <br />On GitHub, the HTML representation is unable to render, please try loading this page with nbviewer.org.</b></div><div class=\"sk-container\" hidden><div class=\"sk-item\"><div class=\"sk-estimator sk-toggleable\"><input class=\"sk-toggleable__control sk-hidden--visually\" id=\"sk-estimator-id-1\" type=\"checkbox\" checked><label for=\"sk-estimator-id-1\" class=\"sk-toggleable__label sk-toggleable__label-arrow\">LinearRegression</label><div class=\"sk-toggleable__content\"><pre>LinearRegression()</pre></div></div></div></div></div>"
      ],
      "text/plain": [
       "LinearRegression()"
      ]
     },
     "execution_count": 9,
     "metadata": {},
     "output_type": "execute_result"
    }
   ],
   "source": [
    "simple.fit(X,y)"
   ]
  },
  {
   "cell_type": "code",
   "execution_count": 10,
   "id": "0b915932",
   "metadata": {},
   "outputs": [
    {
     "data": {
      "text/plain": [
       "0.6248925373371652"
      ]
     },
     "execution_count": 10,
     "metadata": {},
     "output_type": "execute_result"
    }
   ],
   "source": [
    "simple.score(X,y)"
   ]
  },
  {
   "cell_type": "code",
   "execution_count": null,
   "id": "b3dab68c",
   "metadata": {},
   "outputs": [],
   "source": []
  },
  {
   "cell_type": "code",
   "execution_count": 11,
   "id": "d35884ef",
   "metadata": {},
   "outputs": [],
   "source": [
    "X = base[selected].values.reshape(-1,1)\n",
    "y = base.SalePrice.values.reshape(-1,1)"
   ]
  },
  {
   "cell_type": "code",
   "execution_count": 12,
   "id": "399c4287",
   "metadata": {},
   "outputs": [],
   "source": [
    "scoring = {'r2': 'r2',\n",
    "           'neg_mae': 'neg_mean_absolute_error'}"
   ]
  },
  {
   "cell_type": "code",
   "execution_count": 13,
   "id": "eb0f111b",
   "metadata": {},
   "outputs": [],
   "source": [
    "# Use cross-validation to evaluate model performance\n",
    "\n",
    "def evaluate_model(model, X, y):\n",
    "    \n",
    "    # define the evaluation procedure\n",
    "    cv = RepeatedKFold(n_splits=5, n_repeats=3, random_state=1)\n",
    "    \n",
    "    # evaluate the model and collect the results\n",
    "    scores = cross_validate(model, X, y, scoring=scoring, cv=cv, n_jobs=-1) \n",
    "    \n",
    "    df = pd.DataFrame(scores)\n",
    "    \n",
    "    return df"
   ]
  },
  {
   "cell_type": "code",
   "execution_count": 14,
   "id": "cd19af07",
   "metadata": {},
   "outputs": [
    {
     "data": {
      "text/html": [
       "<div>\n",
       "<style scoped>\n",
       "    .dataframe tbody tr th:only-of-type {\n",
       "        vertical-align: middle;\n",
       "    }\n",
       "\n",
       "    .dataframe tbody tr th {\n",
       "        vertical-align: top;\n",
       "    }\n",
       "\n",
       "    .dataframe thead th {\n",
       "        text-align: right;\n",
       "    }\n",
       "</style>\n",
       "<table border=\"1\" class=\"dataframe\">\n",
       "  <thead>\n",
       "    <tr style=\"text-align: right;\">\n",
       "      <th></th>\n",
       "      <th>fit_time</th>\n",
       "      <th>score_time</th>\n",
       "      <th>test_r2</th>\n",
       "      <th>test_neg_mae</th>\n",
       "    </tr>\n",
       "  </thead>\n",
       "  <tbody>\n",
       "    <tr>\n",
       "      <th>0</th>\n",
       "      <td>0.001345</td>\n",
       "      <td>0.000386</td>\n",
       "      <td>0.601363</td>\n",
       "      <td>-34340.886374</td>\n",
       "    </tr>\n",
       "    <tr>\n",
       "      <th>1</th>\n",
       "      <td>0.001486</td>\n",
       "      <td>0.000485</td>\n",
       "      <td>0.604992</td>\n",
       "      <td>-31981.389047</td>\n",
       "    </tr>\n",
       "    <tr>\n",
       "      <th>2</th>\n",
       "      <td>0.001427</td>\n",
       "      <td>0.000427</td>\n",
       "      <td>0.631919</td>\n",
       "      <td>-32759.791911</td>\n",
       "    </tr>\n",
       "    <tr>\n",
       "      <th>3</th>\n",
       "      <td>0.001362</td>\n",
       "      <td>0.000408</td>\n",
       "      <td>0.612772</td>\n",
       "      <td>-31660.319528</td>\n",
       "    </tr>\n",
       "    <tr>\n",
       "      <th>4</th>\n",
       "      <td>0.001386</td>\n",
       "      <td>0.000466</td>\n",
       "      <td>0.664951</td>\n",
       "      <td>-31736.539341</td>\n",
       "    </tr>\n",
       "    <tr>\n",
       "      <th>5</th>\n",
       "      <td>0.001319</td>\n",
       "      <td>0.000402</td>\n",
       "      <td>0.620319</td>\n",
       "      <td>-34492.081338</td>\n",
       "    </tr>\n",
       "    <tr>\n",
       "      <th>6</th>\n",
       "      <td>0.001472</td>\n",
       "      <td>0.000445</td>\n",
       "      <td>0.654626</td>\n",
       "      <td>-29706.637430</td>\n",
       "    </tr>\n",
       "    <tr>\n",
       "      <th>7</th>\n",
       "      <td>0.001226</td>\n",
       "      <td>0.000338</td>\n",
       "      <td>0.612257</td>\n",
       "      <td>-31577.831206</td>\n",
       "    </tr>\n",
       "    <tr>\n",
       "      <th>8</th>\n",
       "      <td>0.000757</td>\n",
       "      <td>0.000329</td>\n",
       "      <td>0.645844</td>\n",
       "      <td>-31812.568471</td>\n",
       "    </tr>\n",
       "    <tr>\n",
       "      <th>9</th>\n",
       "      <td>0.001564</td>\n",
       "      <td>0.000359</td>\n",
       "      <td>0.592861</td>\n",
       "      <td>-34796.586668</td>\n",
       "    </tr>\n",
       "    <tr>\n",
       "      <th>10</th>\n",
       "      <td>0.001525</td>\n",
       "      <td>0.001001</td>\n",
       "      <td>0.636823</td>\n",
       "      <td>-32464.949098</td>\n",
       "    </tr>\n",
       "    <tr>\n",
       "      <th>11</th>\n",
       "      <td>0.002052</td>\n",
       "      <td>0.001107</td>\n",
       "      <td>0.646617</td>\n",
       "      <td>-33099.360387</td>\n",
       "    </tr>\n",
       "    <tr>\n",
       "      <th>12</th>\n",
       "      <td>0.001889</td>\n",
       "      <td>0.000837</td>\n",
       "      <td>0.582898</td>\n",
       "      <td>-32107.545641</td>\n",
       "    </tr>\n",
       "    <tr>\n",
       "      <th>13</th>\n",
       "      <td>0.001832</td>\n",
       "      <td>0.000409</td>\n",
       "      <td>0.628856</td>\n",
       "      <td>-32760.158145</td>\n",
       "    </tr>\n",
       "    <tr>\n",
       "      <th>14</th>\n",
       "      <td>0.000722</td>\n",
       "      <td>0.000326</td>\n",
       "      <td>0.607640</td>\n",
       "      <td>-32042.016109</td>\n",
       "    </tr>\n",
       "  </tbody>\n",
       "</table>\n",
       "</div>"
      ],
      "text/plain": [
       "    fit_time  score_time   test_r2  test_neg_mae\n",
       "0   0.001345    0.000386  0.601363 -34340.886374\n",
       "1   0.001486    0.000485  0.604992 -31981.389047\n",
       "2   0.001427    0.000427  0.631919 -32759.791911\n",
       "3   0.001362    0.000408  0.612772 -31660.319528\n",
       "4   0.001386    0.000466  0.664951 -31736.539341\n",
       "5   0.001319    0.000402  0.620319 -34492.081338\n",
       "6   0.001472    0.000445  0.654626 -29706.637430\n",
       "7   0.001226    0.000338  0.612257 -31577.831206\n",
       "8   0.000757    0.000329  0.645844 -31812.568471\n",
       "9   0.001564    0.000359  0.592861 -34796.586668\n",
       "10  0.001525    0.001001  0.636823 -32464.949098\n",
       "11  0.002052    0.001107  0.646617 -33099.360387\n",
       "12  0.001889    0.000837  0.582898 -32107.545641\n",
       "13  0.001832    0.000409  0.628856 -32760.158145\n",
       "14  0.000722    0.000326  0.607640 -32042.016109"
      ]
     },
     "execution_count": 14,
     "metadata": {},
     "output_type": "execute_result"
    }
   ],
   "source": [
    "SLR = evaluate_model(simple, X,y)\n",
    "SLR"
   ]
  },
  {
   "cell_type": "code",
   "execution_count": 15,
   "id": "eb7016a0",
   "metadata": {},
   "outputs": [
    {
     "data": {
      "text/html": [
       "<div>\n",
       "<style scoped>\n",
       "    .dataframe tbody tr th:only-of-type {\n",
       "        vertical-align: middle;\n",
       "    }\n",
       "\n",
       "    .dataframe tbody tr th {\n",
       "        vertical-align: top;\n",
       "    }\n",
       "\n",
       "    .dataframe thead th {\n",
       "        text-align: right;\n",
       "    }\n",
       "</style>\n",
       "<table border=\"1\" class=\"dataframe\">\n",
       "  <thead>\n",
       "    <tr style=\"text-align: right;\">\n",
       "      <th></th>\n",
       "      <th>fit_time</th>\n",
       "      <th>score_time</th>\n",
       "      <th>SLR R2 Qual</th>\n",
       "      <th>test_neg_mae</th>\n",
       "      <th>SLR MAE Qual</th>\n",
       "    </tr>\n",
       "  </thead>\n",
       "  <tbody>\n",
       "    <tr>\n",
       "      <th>0</th>\n",
       "      <td>0.001345</td>\n",
       "      <td>0.000386</td>\n",
       "      <td>0.601363</td>\n",
       "      <td>-34340.886374</td>\n",
       "      <td>34340.886374</td>\n",
       "    </tr>\n",
       "    <tr>\n",
       "      <th>1</th>\n",
       "      <td>0.001486</td>\n",
       "      <td>0.000485</td>\n",
       "      <td>0.604992</td>\n",
       "      <td>-31981.389047</td>\n",
       "      <td>31981.389047</td>\n",
       "    </tr>\n",
       "    <tr>\n",
       "      <th>2</th>\n",
       "      <td>0.001427</td>\n",
       "      <td>0.000427</td>\n",
       "      <td>0.631919</td>\n",
       "      <td>-32759.791911</td>\n",
       "      <td>32759.791911</td>\n",
       "    </tr>\n",
       "    <tr>\n",
       "      <th>3</th>\n",
       "      <td>0.001362</td>\n",
       "      <td>0.000408</td>\n",
       "      <td>0.612772</td>\n",
       "      <td>-31660.319528</td>\n",
       "      <td>31660.319528</td>\n",
       "    </tr>\n",
       "    <tr>\n",
       "      <th>4</th>\n",
       "      <td>0.001386</td>\n",
       "      <td>0.000466</td>\n",
       "      <td>0.664951</td>\n",
       "      <td>-31736.539341</td>\n",
       "      <td>31736.539341</td>\n",
       "    </tr>\n",
       "    <tr>\n",
       "      <th>5</th>\n",
       "      <td>0.001319</td>\n",
       "      <td>0.000402</td>\n",
       "      <td>0.620319</td>\n",
       "      <td>-34492.081338</td>\n",
       "      <td>34492.081338</td>\n",
       "    </tr>\n",
       "    <tr>\n",
       "      <th>6</th>\n",
       "      <td>0.001472</td>\n",
       "      <td>0.000445</td>\n",
       "      <td>0.654626</td>\n",
       "      <td>-29706.637430</td>\n",
       "      <td>29706.637430</td>\n",
       "    </tr>\n",
       "    <tr>\n",
       "      <th>7</th>\n",
       "      <td>0.001226</td>\n",
       "      <td>0.000338</td>\n",
       "      <td>0.612257</td>\n",
       "      <td>-31577.831206</td>\n",
       "      <td>31577.831206</td>\n",
       "    </tr>\n",
       "    <tr>\n",
       "      <th>8</th>\n",
       "      <td>0.000757</td>\n",
       "      <td>0.000329</td>\n",
       "      <td>0.645844</td>\n",
       "      <td>-31812.568471</td>\n",
       "      <td>31812.568471</td>\n",
       "    </tr>\n",
       "    <tr>\n",
       "      <th>9</th>\n",
       "      <td>0.001564</td>\n",
       "      <td>0.000359</td>\n",
       "      <td>0.592861</td>\n",
       "      <td>-34796.586668</td>\n",
       "      <td>34796.586668</td>\n",
       "    </tr>\n",
       "    <tr>\n",
       "      <th>10</th>\n",
       "      <td>0.001525</td>\n",
       "      <td>0.001001</td>\n",
       "      <td>0.636823</td>\n",
       "      <td>-32464.949098</td>\n",
       "      <td>32464.949098</td>\n",
       "    </tr>\n",
       "    <tr>\n",
       "      <th>11</th>\n",
       "      <td>0.002052</td>\n",
       "      <td>0.001107</td>\n",
       "      <td>0.646617</td>\n",
       "      <td>-33099.360387</td>\n",
       "      <td>33099.360387</td>\n",
       "    </tr>\n",
       "    <tr>\n",
       "      <th>12</th>\n",
       "      <td>0.001889</td>\n",
       "      <td>0.000837</td>\n",
       "      <td>0.582898</td>\n",
       "      <td>-32107.545641</td>\n",
       "      <td>32107.545641</td>\n",
       "    </tr>\n",
       "    <tr>\n",
       "      <th>13</th>\n",
       "      <td>0.001832</td>\n",
       "      <td>0.000409</td>\n",
       "      <td>0.628856</td>\n",
       "      <td>-32760.158145</td>\n",
       "      <td>32760.158145</td>\n",
       "    </tr>\n",
       "    <tr>\n",
       "      <th>14</th>\n",
       "      <td>0.000722</td>\n",
       "      <td>0.000326</td>\n",
       "      <td>0.607640</td>\n",
       "      <td>-32042.016109</td>\n",
       "      <td>32042.016109</td>\n",
       "    </tr>\n",
       "  </tbody>\n",
       "</table>\n",
       "</div>"
      ],
      "text/plain": [
       "    fit_time  score_time  SLR R2 Qual  test_neg_mae  SLR MAE Qual\n",
       "0   0.001345    0.000386     0.601363 -34340.886374  34340.886374\n",
       "1   0.001486    0.000485     0.604992 -31981.389047  31981.389047\n",
       "2   0.001427    0.000427     0.631919 -32759.791911  32759.791911\n",
       "3   0.001362    0.000408     0.612772 -31660.319528  31660.319528\n",
       "4   0.001386    0.000466     0.664951 -31736.539341  31736.539341\n",
       "5   0.001319    0.000402     0.620319 -34492.081338  34492.081338\n",
       "6   0.001472    0.000445     0.654626 -29706.637430  29706.637430\n",
       "7   0.001226    0.000338     0.612257 -31577.831206  31577.831206\n",
       "8   0.000757    0.000329     0.645844 -31812.568471  31812.568471\n",
       "9   0.001564    0.000359     0.592861 -34796.586668  34796.586668\n",
       "10  0.001525    0.001001     0.636823 -32464.949098  32464.949098\n",
       "11  0.002052    0.001107     0.646617 -33099.360387  33099.360387\n",
       "12  0.001889    0.000837     0.582898 -32107.545641  32107.545641\n",
       "13  0.001832    0.000409     0.628856 -32760.158145  32760.158145\n",
       "14  0.000722    0.000326     0.607640 -32042.016109  32042.016109"
      ]
     },
     "execution_count": 15,
     "metadata": {},
     "output_type": "execute_result"
    }
   ],
   "source": [
    "#SLR = SLR[0][['test_r2', 'test_neg_mae']]\n",
    "SLR = SLR.assign(MAE = SLR['test_neg_mae'].abs())\n",
    "SLR = SLR.rename(columns = {'test_r2':'SLR R2 Qual', 'MAE':'SLR MAE Qual'})\n",
    "SLR"
   ]
  },
  {
   "cell_type": "code",
   "execution_count": 16,
   "id": "c58dd655",
   "metadata": {},
   "outputs": [
    {
     "data": {
      "image/png": "[encoded data removed]",
      "text/plain": [
       "<Figure size 432x288 with 1 Axes>"
      ]
     },
     "metadata": {
      "needs_background": "light"
     },
     "output_type": "display_data"
    }
   ],
   "source": [
    "sns.boxplot(data=SLR[['SLR R2 Qual']], showmeans=True,\n",
    "           meanprops={\"marker\":\"o\",\n",
    "                       \"markerfacecolor\":\"white\", \n",
    "                       \"markeredgecolor\":\"black\",\n",
    "                      \"markersize\":\"8\"});"
   ]
  },
  {
   "cell_type": "code",
   "execution_count": 17,
   "id": "a6260e64",
   "metadata": {},
   "outputs": [
    {
     "data": {
      "text/html": [
       "<div>\n",
       "<style scoped>\n",
       "    .dataframe tbody tr th:only-of-type {\n",
       "        vertical-align: middle;\n",
       "    }\n",
       "\n",
       "    .dataframe tbody tr th {\n",
       "        vertical-align: top;\n",
       "    }\n",
       "\n",
       "    .dataframe thead th {\n",
       "        text-align: right;\n",
       "    }\n",
       "</style>\n",
       "<table border=\"1\" class=\"dataframe\">\n",
       "  <thead>\n",
       "    <tr style=\"text-align: right;\">\n",
       "      <th></th>\n",
       "      <th>fit_time</th>\n",
       "      <th>score_time</th>\n",
       "      <th>SLR R2 Qual</th>\n",
       "      <th>test_neg_mae</th>\n",
       "      <th>SLR MAE Qual</th>\n",
       "    </tr>\n",
       "  </thead>\n",
       "  <tbody>\n",
       "    <tr>\n",
       "      <th>count</th>\n",
       "      <td>15.000000</td>\n",
       "      <td>15.000000</td>\n",
       "      <td>15.000000</td>\n",
       "      <td>15.000000</td>\n",
       "      <td>15.000000</td>\n",
       "    </tr>\n",
       "    <tr>\n",
       "      <th>mean</th>\n",
       "      <td>0.001424</td>\n",
       "      <td>0.000515</td>\n",
       "      <td>0.622983</td>\n",
       "      <td>-32489.244046</td>\n",
       "      <td>32489.244046</td>\n",
       "    </tr>\n",
       "    <tr>\n",
       "      <th>std</th>\n",
       "      <td>0.000360</td>\n",
       "      <td>0.000251</td>\n",
       "      <td>0.023780</td>\n",
       "      <td>1313.989441</td>\n",
       "      <td>1313.989441</td>\n",
       "    </tr>\n",
       "    <tr>\n",
       "      <th>min</th>\n",
       "      <td>0.000722</td>\n",
       "      <td>0.000326</td>\n",
       "      <td>0.582898</td>\n",
       "      <td>-34796.586668</td>\n",
       "      <td>29706.637430</td>\n",
       "    </tr>\n",
       "    <tr>\n",
       "      <th>25%</th>\n",
       "      <td>0.001332</td>\n",
       "      <td>0.000372</td>\n",
       "      <td>0.606316</td>\n",
       "      <td>-32929.759266</td>\n",
       "      <td>31774.553906</td>\n",
       "    </tr>\n",
       "    <tr>\n",
       "      <th>50%</th>\n",
       "      <td>0.001427</td>\n",
       "      <td>0.000409</td>\n",
       "      <td>0.620319</td>\n",
       "      <td>-32107.545641</td>\n",
       "      <td>32107.545641</td>\n",
       "    </tr>\n",
       "    <tr>\n",
       "      <th>75%</th>\n",
       "      <td>0.001545</td>\n",
       "      <td>0.000475</td>\n",
       "      <td>0.641334</td>\n",
       "      <td>-31774.553906</td>\n",
       "      <td>32929.759266</td>\n",
       "    </tr>\n",
       "    <tr>\n",
       "      <th>max</th>\n",
       "      <td>0.002052</td>\n",
       "      <td>0.001107</td>\n",
       "      <td>0.664951</td>\n",
       "      <td>-29706.637430</td>\n",
       "      <td>34796.586668</td>\n",
       "    </tr>\n",
       "  </tbody>\n",
       "</table>\n",
       "</div>"
      ],
      "text/plain": [
       "        fit_time  score_time  SLR R2 Qual  test_neg_mae  SLR MAE Qual\n",
       "count  15.000000   15.000000    15.000000     15.000000     15.000000\n",
       "mean    0.001424    0.000515     0.622983 -32489.244046  32489.244046\n",
       "std     0.000360    0.000251     0.023780   1313.989441   1313.989441\n",
       "min     0.000722    0.000326     0.582898 -34796.586668  29706.637430\n",
       "25%     0.001332    0.000372     0.606316 -32929.759266  31774.553906\n",
       "50%     0.001427    0.000409     0.620319 -32107.545641  32107.545641\n",
       "75%     0.001545    0.000475     0.641334 -31774.553906  32929.759266\n",
       "max     0.002052    0.001107     0.664951 -29706.637430  34796.586668"
      ]
     },
     "execution_count": 17,
     "metadata": {},
     "output_type": "execute_result"
    }
   ],
   "source": [
    "SLR.describe()"
   ]
  },
  {
   "cell_type": "code",
   "execution_count": 18,
   "id": "6168f606",
   "metadata": {},
   "outputs": [],
   "source": [
    "SLR.to_csv('SLR_Qual.csv', index=False)"
   ]
  },
  {
   "cell_type": "code",
   "execution_count": null,
   "id": "375e688e",
   "metadata": {},
   "outputs": [],
   "source": []
  },
  {
   "cell_type": "code",
   "execution_count": null,
   "id": "0b4de6e3",
   "metadata": {},
   "outputs": [],
   "source": []
  },
  {
   "cell_type": "code",
   "execution_count": 19,
   "id": "bddc41c0",
   "metadata": {},
   "outputs": [],
   "source": [
    "simple.fit(X,y)\n",
    "response = simple.predict(X)\n",
    "r2 = simple.score(X,y)"
   ]
  },
  {
   "cell_type": "code",
   "execution_count": 20,
   "id": "9a4d17c9",
   "metadata": {},
   "outputs": [
    {
     "data": {
      "text/plain": [
       "0.6248925373371652"
      ]
     },
     "execution_count": 20,
     "metadata": {},
     "output_type": "execute_result"
    }
   ],
   "source": [
    "r2"
   ]
  },
  {
   "cell_type": "code",
   "execution_count": 21,
   "id": "7f021121",
   "metadata": {},
   "outputs": [
    {
     "data": {
      "image/png": "[encoded data removed]",
      "text/plain": [
       "<Figure size 800x400 with 1 Axes>"
      ]
     },
     "metadata": {},
     "output_type": "display_data"
    }
   ],
   "source": [
    "plt.style.use('default')\n",
    "plt.style.use('ggplot')\n",
    "\n",
    "fig, ax = plt.subplots(figsize=(8, 4))\n",
    "\n",
    "ax.plot(X, response, color='blue', label='R-Squared of 0.625')\n",
    "ax.scatter(X, y, edgecolor='k', facecolor='white', alpha=0.8, label='Data')\n",
    "ax.set_ylabel('House Sale Price (US$)', fontsize=14)\n",
    "ax.set_xlabel('Overall Quality', fontsize=14)\n",
    "#ax.text(0.8, 0.1, 'aegis4048.github.io', fontsize=13, ha='center', va='center',\n",
    "#         transform=ax.transAxes, color='grey', alpha=0.5)\n",
    "ax.legend(facecolor='white', fontsize=11)\n",
    "ax.set_title('Simple Linear Regression (Overall Quality vs Price)', fontsize = 18, color='blue')\n",
    "#ax.set_title('$R^2= %.2f$' % r2, fontsize=18)\n",
    "\n",
    "fig.tight_layout()"
   ]
  },
  {
   "cell_type": "code",
   "execution_count": null,
   "id": "bdc56f13",
   "metadata": {},
   "outputs": [],
   "source": []
  },
  {
   "cell_type": "code",
   "execution_count": null,
   "id": "6d61cafa",
   "metadata": {},
   "outputs": [],
   "source": []
  },
  {
   "cell_type": "code",
   "execution_count": null,
   "id": "beddb60b",
   "metadata": {},
   "outputs": [],
   "source": []
  },
  {
   "cell_type": "code",
   "execution_count": null,
   "id": "9105c37e",
   "metadata": {},
   "outputs": [],
   "source": []
  },
  {
   "cell_type": "code",
   "execution_count": null,
   "id": "38c9682f",
   "metadata": {},
   "outputs": [],
   "source": []
  },
  {
   "cell_type": "code",
   "execution_count": null,
   "id": "b7d8f4b8",
   "metadata": {},
   "outputs": [],
   "source": []
  },
  {
   "cell_type": "code",
   "execution_count": null,
   "id": "fcb48d9e",
   "metadata": {},
   "outputs": [],
   "source": []
  }
 ],
 "metadata": {
  "hide_input": false,
  "kernelspec": {
   "display_name": "Python 3 (ipykernel)",
   "language": "python",
   "name": "python3"
  },
  "language_info": {
   "codemirror_mode": {
    "name": "ipython",
    "version": 3
   },
   "file_extension": ".py",
   "mimetype": "text/x-python",
   "name": "python",
   "nbconvert_exporter": "python",
   "pygments_lexer": "ipython3",
   "version": "3.8.8"
  },
  "varInspector": {
   "cols": {
    "lenName": 16,
    "lenType": 16,
    "lenVar": 40
   },
   "kernels_config": {
    "python": {
     "delete_cmd_postfix": "",
     "delete_cmd_prefix": "del ",
     "library": "var_list.py",
     "varRefreshCmd": "print(var_dic_list())"
    },
    "r": {
     "delete_cmd_postfix": ") ",
     "delete_cmd_prefix": "rm(",
     "library": "var_list.r",
     "varRefreshCmd": "cat(var_dic_list()) "
    }
   },
   "types_to_exclude": [
    "module",
    "function",
    "builtin_function_or_method",
    "instance",
    "_Feature"
   ],
   "window_display": false
  }
 },
 "nbformat": 4,
 "nbformat_minor": 5
}
