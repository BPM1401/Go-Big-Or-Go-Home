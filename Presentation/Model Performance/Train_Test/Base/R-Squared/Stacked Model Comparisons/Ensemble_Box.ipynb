{
 "cells": [
  {
   "cell_type": "code",
   "execution_count": 1,
   "id": "915a5e3d",
   "metadata": {},
   "outputs": [],
   "source": [
    "import numpy as np\n",
    "import pandas as pd\n",
    "pd.set_option(\"display.max_columns\", 300)\n",
    "pd.set_option(\"max_colwidth\", 200)\n",
    "\n",
    "from sklearn.linear_model import LinearRegression\n",
    "from sklearn.linear_model import HuberRegressor\n",
    "from sklearn.linear_model import Ridge\n",
    "from sklearn.linear_model import RidgeCV\n",
    "from sklearn.linear_model import Lasso\n",
    "from sklearn.linear_model import LassoCV\n",
    "from sklearn.linear_model import ElasticNet\n",
    "from numpy import arange\n",
    "from sklearn.model_selection import GridSearchCV\n",
    "from sklearn.ensemble import RandomForestRegressor\n",
    "from sklearn.ensemble import GradientBoostingRegressor\n",
    "from xgboost import XGBRegressor\n",
    "\n",
    "from sklearn import preprocessing\n",
    "\n",
    "from sklearn.metrics import mean_squared_error, r2_score\n",
    "from sklearn.feature_selection import SequentialFeatureSelector\n",
    "\n",
    "from sklearn.model_selection import train_test_split\n",
    "from sklearn.model_selection import KFold\n",
    "\n",
    "import matplotlib.pyplot as plt\n",
    "import statistics\n",
    "\n",
    "import seaborn as sns"
   ]
  },
  {
   "cell_type": "code",
   "execution_count": 2,
   "id": "2b2e98e0",
   "metadata": {},
   "outputs": [],
   "source": [
    "BasicBox = pd.read_csv('../Model Comparison/Combo.csv')"
   ]
  },
  {
   "cell_type": "code",
   "execution_count": 3,
   "id": "034b0187",
   "metadata": {},
   "outputs": [
    {
     "data": {
      "text/html": [
       "<div>\n",
       "<style scoped>\n",
       "    .dataframe tbody tr th:only-of-type {\n",
       "        vertical-align: middle;\n",
       "    }\n",
       "\n",
       "    .dataframe tbody tr th {\n",
       "        vertical-align: top;\n",
       "    }\n",
       "\n",
       "    .dataframe thead th {\n",
       "        text-align: right;\n",
       "    }\n",
       "</style>\n",
       "<table border=\"1\" class=\"dataframe\">\n",
       "  <thead>\n",
       "    <tr style=\"text-align: right;\">\n",
       "      <th></th>\n",
       "      <th>MLR</th>\n",
       "      <th>Ridge</th>\n",
       "      <th>Ridge(Alpha)</th>\n",
       "      <th>Lasso</th>\n",
       "      <th>Lasso(Alpha)</th>\n",
       "      <th>ElasticNet(A=1)</th>\n",
       "      <th>RF No Bootstrap</th>\n",
       "      <th>RF With Bootstrap</th>\n",
       "      <th>Gradient Boost</th>\n",
       "      <th>Xtreme Boost</th>\n",
       "    </tr>\n",
       "  </thead>\n",
       "  <tbody>\n",
       "    <tr>\n",
       "      <th>0</th>\n",
       "      <td>0.918063</td>\n",
       "      <td>0.922324</td>\n",
       "      <td>0.872675</td>\n",
       "      <td>0.922000</td>\n",
       "      <td>0.917257</td>\n",
       "      <td>0.900951</td>\n",
       "      <td>0.802505</td>\n",
       "      <td>0.887632</td>\n",
       "      <td>0.887317</td>\n",
       "      <td>0.892172</td>\n",
       "    </tr>\n",
       "    <tr>\n",
       "      <th>1</th>\n",
       "      <td>0.921468</td>\n",
       "      <td>0.904080</td>\n",
       "      <td>0.833784</td>\n",
       "      <td>0.870393</td>\n",
       "      <td>0.918043</td>\n",
       "      <td>0.897153</td>\n",
       "      <td>0.812802</td>\n",
       "      <td>0.887489</td>\n",
       "      <td>0.903090</td>\n",
       "      <td>0.893983</td>\n",
       "    </tr>\n",
       "    <tr>\n",
       "      <th>2</th>\n",
       "      <td>0.917458</td>\n",
       "      <td>0.873341</td>\n",
       "      <td>0.913389</td>\n",
       "      <td>0.904947</td>\n",
       "      <td>0.834550</td>\n",
       "      <td>0.893508</td>\n",
       "      <td>0.804253</td>\n",
       "      <td>0.862341</td>\n",
       "      <td>0.920209</td>\n",
       "      <td>0.876358</td>\n",
       "    </tr>\n",
       "    <tr>\n",
       "      <th>3</th>\n",
       "      <td>0.901348</td>\n",
       "      <td>0.927122</td>\n",
       "      <td>0.915791</td>\n",
       "      <td>0.935329</td>\n",
       "      <td>0.821591</td>\n",
       "      <td>0.858141</td>\n",
       "      <td>0.788075</td>\n",
       "      <td>0.894374</td>\n",
       "      <td>0.918222</td>\n",
       "      <td>0.825427</td>\n",
       "    </tr>\n",
       "    <tr>\n",
       "      <th>4</th>\n",
       "      <td>0.880215</td>\n",
       "      <td>0.927237</td>\n",
       "      <td>0.922588</td>\n",
       "      <td>0.923573</td>\n",
       "      <td>0.924398</td>\n",
       "      <td>0.861584</td>\n",
       "      <td>0.798382</td>\n",
       "      <td>0.875895</td>\n",
       "      <td>0.836273</td>\n",
       "      <td>0.880499</td>\n",
       "    </tr>\n",
       "    <tr>\n",
       "      <th>...</th>\n",
       "      <td>...</td>\n",
       "      <td>...</td>\n",
       "      <td>...</td>\n",
       "      <td>...</td>\n",
       "      <td>...</td>\n",
       "      <td>...</td>\n",
       "      <td>...</td>\n",
       "      <td>...</td>\n",
       "      <td>...</td>\n",
       "      <td>...</td>\n",
       "    </tr>\n",
       "    <tr>\n",
       "      <th>95</th>\n",
       "      <td>NaN</td>\n",
       "      <td>0.925941</td>\n",
       "      <td>0.865711</td>\n",
       "      <td>0.920464</td>\n",
       "      <td>0.894337</td>\n",
       "      <td>0.889731</td>\n",
       "      <td>0.728658</td>\n",
       "      <td>0.898318</td>\n",
       "      <td>0.855921</td>\n",
       "      <td>0.911735</td>\n",
       "    </tr>\n",
       "    <tr>\n",
       "      <th>96</th>\n",
       "      <td>NaN</td>\n",
       "      <td>0.891703</td>\n",
       "      <td>0.825523</td>\n",
       "      <td>0.865681</td>\n",
       "      <td>0.881202</td>\n",
       "      <td>0.904851</td>\n",
       "      <td>0.832974</td>\n",
       "      <td>0.857231</td>\n",
       "      <td>0.927833</td>\n",
       "      <td>0.905428</td>\n",
       "    </tr>\n",
       "    <tr>\n",
       "      <th>97</th>\n",
       "      <td>NaN</td>\n",
       "      <td>0.928015</td>\n",
       "      <td>0.850263</td>\n",
       "      <td>0.921771</td>\n",
       "      <td>0.883672</td>\n",
       "      <td>0.845491</td>\n",
       "      <td>0.722284</td>\n",
       "      <td>0.895881</td>\n",
       "      <td>0.915311</td>\n",
       "      <td>0.914559</td>\n",
       "    </tr>\n",
       "    <tr>\n",
       "      <th>98</th>\n",
       "      <td>NaN</td>\n",
       "      <td>0.908410</td>\n",
       "      <td>0.921203</td>\n",
       "      <td>0.854886</td>\n",
       "      <td>0.923469</td>\n",
       "      <td>0.894342</td>\n",
       "      <td>0.816047</td>\n",
       "      <td>0.861978</td>\n",
       "      <td>0.862950</td>\n",
       "      <td>0.909119</td>\n",
       "    </tr>\n",
       "    <tr>\n",
       "      <th>99</th>\n",
       "      <td>NaN</td>\n",
       "      <td>0.926892</td>\n",
       "      <td>0.869340</td>\n",
       "      <td>0.902907</td>\n",
       "      <td>0.923391</td>\n",
       "      <td>0.882163</td>\n",
       "      <td>0.802454</td>\n",
       "      <td>0.906773</td>\n",
       "      <td>0.907306</td>\n",
       "      <td>0.890376</td>\n",
       "    </tr>\n",
       "  </tbody>\n",
       "</table>\n",
       "<p>100 rows × 10 columns</p>\n",
       "</div>"
      ],
      "text/plain": [
       "         MLR     Ridge  Ridge(Alpha)     Lasso  Lasso(Alpha)  ElasticNet(A=1)  \\\n",
       "0   0.918063  0.922324      0.872675  0.922000      0.917257         0.900951   \n",
       "1   0.921468  0.904080      0.833784  0.870393      0.918043         0.897153   \n",
       "2   0.917458  0.873341      0.913389  0.904947      0.834550         0.893508   \n",
       "3   0.901348  0.927122      0.915791  0.935329      0.821591         0.858141   \n",
       "4   0.880215  0.927237      0.922588  0.923573      0.924398         0.861584   \n",
       "..       ...       ...           ...       ...           ...              ...   \n",
       "95       NaN  0.925941      0.865711  0.920464      0.894337         0.889731   \n",
       "96       NaN  0.891703      0.825523  0.865681      0.881202         0.904851   \n",
       "97       NaN  0.928015      0.850263  0.921771      0.883672         0.845491   \n",
       "98       NaN  0.908410      0.921203  0.854886      0.923469         0.894342   \n",
       "99       NaN  0.926892      0.869340  0.902907      0.923391         0.882163   \n",
       "\n",
       "    RF No Bootstrap  RF With Bootstrap  Gradient Boost  Xtreme Boost  \n",
       "0          0.802505           0.887632        0.887317      0.892172  \n",
       "1          0.812802           0.887489        0.903090      0.893983  \n",
       "2          0.804253           0.862341        0.920209      0.876358  \n",
       "3          0.788075           0.894374        0.918222      0.825427  \n",
       "4          0.798382           0.875895        0.836273      0.880499  \n",
       "..              ...                ...             ...           ...  \n",
       "95         0.728658           0.898318        0.855921      0.911735  \n",
       "96         0.832974           0.857231        0.927833      0.905428  \n",
       "97         0.722284           0.895881        0.915311      0.914559  \n",
       "98         0.816047           0.861978        0.862950      0.909119  \n",
       "99         0.802454           0.906773        0.907306      0.890376  \n",
       "\n",
       "[100 rows x 10 columns]"
      ]
     },
     "execution_count": 3,
     "metadata": {},
     "output_type": "execute_result"
    }
   ],
   "source": [
    "BasicBox"
   ]
  },
  {
   "cell_type": "code",
   "execution_count": 4,
   "id": "d1aa420a",
   "metadata": {},
   "outputs": [],
   "source": [
    "R_GB = pd.read_csv('../Ensemble(R+GB)/Ensemble_R_GB_Scores.csv')"
   ]
  },
  {
   "cell_type": "code",
   "execution_count": 5,
   "id": "6d0e63a7",
   "metadata": {},
   "outputs": [
    {
     "data": {
      "text/html": [
       "<div>\n",
       "<style scoped>\n",
       "    .dataframe tbody tr th:only-of-type {\n",
       "        vertical-align: middle;\n",
       "    }\n",
       "\n",
       "    .dataframe tbody tr th {\n",
       "        vertical-align: top;\n",
       "    }\n",
       "\n",
       "    .dataframe thead th {\n",
       "        text-align: right;\n",
       "    }\n",
       "</style>\n",
       "<table border=\"1\" class=\"dataframe\">\n",
       "  <thead>\n",
       "    <tr style=\"text-align: right;\">\n",
       "      <th></th>\n",
       "      <th>Ensemble: Ridge + GB</th>\n",
       "    </tr>\n",
       "  </thead>\n",
       "  <tbody>\n",
       "    <tr>\n",
       "      <th>0</th>\n",
       "      <td>0.895612</td>\n",
       "    </tr>\n",
       "    <tr>\n",
       "      <th>1</th>\n",
       "      <td>0.912427</td>\n",
       "    </tr>\n",
       "    <tr>\n",
       "      <th>2</th>\n",
       "      <td>0.943619</td>\n",
       "    </tr>\n",
       "    <tr>\n",
       "      <th>3</th>\n",
       "      <td>0.941549</td>\n",
       "    </tr>\n",
       "    <tr>\n",
       "      <th>4</th>\n",
       "      <td>0.901311</td>\n",
       "    </tr>\n",
       "    <tr>\n",
       "      <th>...</th>\n",
       "      <td>...</td>\n",
       "    </tr>\n",
       "    <tr>\n",
       "      <th>95</th>\n",
       "      <td>0.934464</td>\n",
       "    </tr>\n",
       "    <tr>\n",
       "      <th>96</th>\n",
       "      <td>0.951516</td>\n",
       "    </tr>\n",
       "    <tr>\n",
       "      <th>97</th>\n",
       "      <td>0.944414</td>\n",
       "    </tr>\n",
       "    <tr>\n",
       "      <th>98</th>\n",
       "      <td>0.948116</td>\n",
       "    </tr>\n",
       "    <tr>\n",
       "      <th>99</th>\n",
       "      <td>0.911404</td>\n",
       "    </tr>\n",
       "  </tbody>\n",
       "</table>\n",
       "<p>100 rows × 1 columns</p>\n",
       "</div>"
      ],
      "text/plain": [
       "    Ensemble: Ridge + GB\n",
       "0               0.895612\n",
       "1               0.912427\n",
       "2               0.943619\n",
       "3               0.941549\n",
       "4               0.901311\n",
       "..                   ...\n",
       "95              0.934464\n",
       "96              0.951516\n",
       "97              0.944414\n",
       "98              0.948116\n",
       "99              0.911404\n",
       "\n",
       "[100 rows x 1 columns]"
      ]
     },
     "execution_count": 5,
     "metadata": {},
     "output_type": "execute_result"
    }
   ],
   "source": [
    "R_GB"
   ]
  },
  {
   "cell_type": "code",
   "execution_count": 6,
   "id": "a0766538",
   "metadata": {},
   "outputs": [],
   "source": [
    "R_XGB = pd.read_csv('../Ensemble(R+XGB)/Ensemble_R_XGB_Scores.csv')"
   ]
  },
  {
   "cell_type": "code",
   "execution_count": 7,
   "id": "05e52c35",
   "metadata": {},
   "outputs": [
    {
     "data": {
      "text/html": [
       "<div>\n",
       "<style scoped>\n",
       "    .dataframe tbody tr th:only-of-type {\n",
       "        vertical-align: middle;\n",
       "    }\n",
       "\n",
       "    .dataframe tbody tr th {\n",
       "        vertical-align: top;\n",
       "    }\n",
       "\n",
       "    .dataframe thead th {\n",
       "        text-align: right;\n",
       "    }\n",
       "</style>\n",
       "<table border=\"1\" class=\"dataframe\">\n",
       "  <thead>\n",
       "    <tr style=\"text-align: right;\">\n",
       "      <th></th>\n",
       "      <th>Ensemble: Ridge + XGB</th>\n",
       "    </tr>\n",
       "  </thead>\n",
       "  <tbody>\n",
       "    <tr>\n",
       "      <th>0</th>\n",
       "      <td>0.952341</td>\n",
       "    </tr>\n",
       "    <tr>\n",
       "      <th>1</th>\n",
       "      <td>0.938427</td>\n",
       "    </tr>\n",
       "    <tr>\n",
       "      <th>2</th>\n",
       "      <td>0.934531</td>\n",
       "    </tr>\n",
       "    <tr>\n",
       "      <th>3</th>\n",
       "      <td>0.944596</td>\n",
       "    </tr>\n",
       "    <tr>\n",
       "      <th>4</th>\n",
       "      <td>0.939960</td>\n",
       "    </tr>\n",
       "    <tr>\n",
       "      <th>...</th>\n",
       "      <td>...</td>\n",
       "    </tr>\n",
       "    <tr>\n",
       "      <th>95</th>\n",
       "      <td>0.942727</td>\n",
       "    </tr>\n",
       "    <tr>\n",
       "      <th>96</th>\n",
       "      <td>0.936885</td>\n",
       "    </tr>\n",
       "    <tr>\n",
       "      <th>97</th>\n",
       "      <td>0.931192</td>\n",
       "    </tr>\n",
       "    <tr>\n",
       "      <th>98</th>\n",
       "      <td>0.908715</td>\n",
       "    </tr>\n",
       "    <tr>\n",
       "      <th>99</th>\n",
       "      <td>0.940601</td>\n",
       "    </tr>\n",
       "  </tbody>\n",
       "</table>\n",
       "<p>100 rows × 1 columns</p>\n",
       "</div>"
      ],
      "text/plain": [
       "    Ensemble: Ridge + XGB\n",
       "0                0.952341\n",
       "1                0.938427\n",
       "2                0.934531\n",
       "3                0.944596\n",
       "4                0.939960\n",
       "..                    ...\n",
       "95               0.942727\n",
       "96               0.936885\n",
       "97               0.931192\n",
       "98               0.908715\n",
       "99               0.940601\n",
       "\n",
       "[100 rows x 1 columns]"
      ]
     },
     "execution_count": 7,
     "metadata": {},
     "output_type": "execute_result"
    }
   ],
   "source": [
    "R_XGB"
   ]
  },
  {
   "cell_type": "code",
   "execution_count": 8,
   "id": "430a014d",
   "metadata": {},
   "outputs": [],
   "source": [
    "L_GB = pd.read_csv('../Ensemble(L+GB)/Ensemble_L_GB_Scores.csv')"
   ]
  },
  {
   "cell_type": "code",
   "execution_count": 9,
   "id": "919870d5",
   "metadata": {},
   "outputs": [],
   "source": [
    "L_XGB = pd.read_csv('../Ensemble(L+XGB)/Ensemble_L_XGB_Scores.csv')"
   ]
  },
  {
   "cell_type": "code",
   "execution_count": 10,
   "id": "853a2512",
   "metadata": {},
   "outputs": [],
   "source": [
    "E_GB = pd.read_csv('../Ensemble(E+GB)/Ensemble_E_GB_Scores.csv')"
   ]
  },
  {
   "cell_type": "code",
   "execution_count": 11,
   "id": "0a701f60",
   "metadata": {},
   "outputs": [],
   "source": [
    "E_XGB = pd.read_csv('../Ensemble(E+XGB)/Ensemble_E_XGB_Scores.csv')"
   ]
  },
  {
   "cell_type": "code",
   "execution_count": null,
   "id": "cd4b680d",
   "metadata": {},
   "outputs": [],
   "source": []
  },
  {
   "cell_type": "code",
   "execution_count": 12,
   "id": "be234746",
   "metadata": {},
   "outputs": [],
   "source": [
    "ensemble = pd.concat([R_GB, R_XGB, L_GB, L_XGB, E_GB, E_XGB])"
   ]
  },
  {
   "cell_type": "code",
   "execution_count": 13,
   "id": "dd647169",
   "metadata": {},
   "outputs": [
    {
     "data": {
      "image/png": "[encoded data removed]",
      "text/plain": [
       "<Figure size 720x720 with 1 Axes>"
      ]
     },
     "metadata": {
      "needs_background": "light"
     },
     "output_type": "display_data"
    }
   ],
   "source": [
    "plt.figure(figsize=(10,10))\n",
    "plt.title('100 Simulations With Random Train-Test (75/25) Splits', fontsize=20)\n",
    "plt.ylabel('Range of R-Squared on Test Set', fontsize=17)\n",
    "plt.xlabel('Model', fontsize=17)\n",
    "sns.boxplot(data=ensemble)\n",
    "plt.xticks(rotation=25);"
   ]
  },
  {
   "cell_type": "code",
   "execution_count": null,
   "id": "96e72d38",
   "metadata": {},
   "outputs": [],
   "source": []
  },
  {
   "cell_type": "code",
   "execution_count": 14,
   "id": "52266f0e",
   "metadata": {},
   "outputs": [],
   "source": [
    "combo = pd.concat([BasicBox, R_GB, R_XGB, L_GB, L_XGB, E_GB, E_XGB])"
   ]
  },
  {
   "cell_type": "code",
   "execution_count": 15,
   "id": "0d5193f8",
   "metadata": {},
   "outputs": [
    {
     "data": {
      "image/png": "[encoded data removed]",
      "text/plain": [
       "<Figure size 720x720 with 1 Axes>"
      ]
     },
     "metadata": {
      "needs_background": "light"
     },
     "output_type": "display_data"
    }
   ],
   "source": [
    "plt.figure(figsize=(10,10))\n",
    "plt.title('100 Simulations With Random Train-Test (75/25) Splits', fontsize=20)\n",
    "plt.ylabel('Range of R-Squared on Test Set', fontsize=17)\n",
    "plt.xlabel('Model', fontsize=17)\n",
    "sns.boxplot(data=combo)\n",
    "plt.xticks(rotation=25);"
   ]
  },
  {
   "cell_type": "code",
   "execution_count": null,
   "id": "3a88d7c8",
   "metadata": {},
   "outputs": [],
   "source": []
  }
 ],
 "metadata": {
  "hide_input": false,
  "kernelspec": {
   "display_name": "Python 3 (ipykernel)",
   "language": "python",
   "name": "python3"
  },
  "language_info": {
   "codemirror_mode": {
    "name": "ipython",
    "version": 3
   },
   "file_extension": ".py",
   "mimetype": "text/x-python",
   "name": "python",
   "nbconvert_exporter": "python",
   "pygments_lexer": "ipython3",
   "version": "3.8.8"
  },
  "varInspector": {
   "cols": {
    "lenName": 16,
    "lenType": 16,
    "lenVar": 40
   },
   "kernels_config": {
    "python": {
     "delete_cmd_postfix": "",
     "delete_cmd_prefix": "del ",
     "library": "var_list.py",
     "varRefreshCmd": "print(var_dic_list())"
    },
    "r": {
     "delete_cmd_postfix": ") ",
     "delete_cmd_prefix": "rm(",
     "library": "var_list.r",
     "varRefreshCmd": "cat(var_dic_list()) "
    }
   },
   "types_to_exclude": [
    "module",
    "function",
    "builtin_function_or_method",
    "instance",
    "_Feature"
   ],
   "window_display": false
  }
 },
 "nbformat": 4,
 "nbformat_minor": 5
}
