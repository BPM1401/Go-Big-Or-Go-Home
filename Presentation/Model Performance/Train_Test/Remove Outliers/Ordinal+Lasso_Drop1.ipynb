{
 "cells": [
  {
   "cell_type": "code",
   "execution_count": 1,
   "id": "28a94374",
   "metadata": {},
   "outputs": [],
   "source": [
    "import pandas as pd\n",
    "from sklearn.linear_model import Lasso"
   ]
  },
  {
   "cell_type": "code",
   "execution_count": 2,
   "id": "df19ec55",
   "metadata": {},
   "outputs": [
    {
     "data": {
      "text/plain": [
       "(2579, 299)"
      ]
     },
     "execution_count": 2,
     "metadata": {},
     "output_type": "execute_result"
    }
   ],
   "source": [
    "base_drop1 = pd.read_csv('BaseDrop1.csv')\n",
    "base_drop1.shape"
   ]
  },
  {
   "cell_type": "code",
   "execution_count": 3,
   "id": "c139e4fe",
   "metadata": {},
   "outputs": [],
   "source": [
    "Lasso = Lasso()"
   ]
  },
  {
   "cell_type": "code",
   "execution_count": 4,
   "id": "289af1a0",
   "metadata": {},
   "outputs": [],
   "source": [
    "X = base_drop1.drop(['SalePrice'], axis=1).values\n",
    "y = base_drop1.SalePrice.values"
   ]
  },
  {
   "cell_type": "code",
   "execution_count": 5,
   "id": "971683eb",
   "metadata": {},
   "outputs": [
    {
     "name": "stderr",
     "output_type": "stream",
     "text": [
      "/opt/anaconda3/lib/python3.8/site-packages/sklearn/linear_model/_coordinate_descent.py:647: ConvergenceWarning: Objective did not converge. You might want to increase the number of iterations, check the scale of the features or consider increasing regularisation. Duality gap: 3.915e+11, tolerance: 1.452e+09\n",
      "  model = cd_fast.enet_coordinate_descent(\n"
     ]
    },
    {
     "data": {
      "text/plain": [
       "Lasso()"
      ]
     },
     "execution_count": 5,
     "metadata": {},
     "output_type": "execute_result"
    }
   ],
   "source": [
    "Lasso.fit(X,y)"
   ]
  },
  {
   "cell_type": "code",
   "execution_count": 6,
   "id": "54e2b725",
   "metadata": {},
   "outputs": [
    {
     "data": {
      "text/plain": [
       "0.9471020134869589"
      ]
     },
     "execution_count": 6,
     "metadata": {},
     "output_type": "execute_result"
    }
   ],
   "source": [
    "Lasso.score(X,y)"
   ]
  },
  {
   "cell_type": "code",
   "execution_count": 7,
   "id": "43965b9b",
   "metadata": {},
   "outputs": [],
   "source": [
    "Lasso_Results = Lasso.predict(X)"
   ]
  },
  {
   "cell_type": "code",
   "execution_count": 8,
   "id": "381f77a6",
   "metadata": {},
   "outputs": [
    {
     "data": {
      "text/plain": [
       "2579"
      ]
     },
     "execution_count": 8,
     "metadata": {},
     "output_type": "execute_result"
    }
   ],
   "source": [
    "len(Lasso_Results)"
   ]
  },
  {
   "cell_type": "code",
   "execution_count": null,
   "id": "3fd37b6d",
   "metadata": {},
   "outputs": [],
   "source": []
  },
  {
   "cell_type": "code",
   "execution_count": 9,
   "id": "49d17418",
   "metadata": {},
   "outputs": [
    {
     "data": {
      "text/plain": [
       "(2579, 83)"
      ]
     },
     "execution_count": 9,
     "metadata": {},
     "output_type": "execute_result"
    }
   ],
   "source": [
    "ordinal_drop1 = pd.read_csv('OrdinalDrop1.csv')\n",
    "ordinal_drop1.shape"
   ]
  },
  {
   "cell_type": "code",
   "execution_count": 10,
   "id": "630faba3",
   "metadata": {},
   "outputs": [],
   "source": [
    "ordinal_drop1 = ordinal_drop1.assign(Lasso = Lasso_Results)"
   ]
  },
  {
   "cell_type": "code",
   "execution_count": 11,
   "id": "f8428779",
   "metadata": {},
   "outputs": [
    {
     "data": {
      "text/plain": [
       "(2579, 84)"
      ]
     },
     "execution_count": 11,
     "metadata": {},
     "output_type": "execute_result"
    }
   ],
   "source": [
    "ordinal_drop1.shape"
   ]
  },
  {
   "cell_type": "code",
   "execution_count": null,
   "id": "5bd84efa",
   "metadata": {},
   "outputs": [],
   "source": []
  },
  {
   "cell_type": "code",
   "execution_count": 12,
   "id": "22830cae",
   "metadata": {},
   "outputs": [],
   "source": [
    "ordinal_drop1.to_csv('Ordinal+Lasso_Drop1.csv', index=False)"
   ]
  },
  {
   "cell_type": "code",
   "execution_count": null,
   "id": "4212504a",
   "metadata": {},
   "outputs": [],
   "source": []
  }
 ],
 "metadata": {
  "hide_input": false,
  "kernelspec": {
   "display_name": "Python 3 (ipykernel)",
   "language": "python",
   "name": "python3"
  },
  "language_info": {
   "codemirror_mode": {
    "name": "ipython",
    "version": 3
   },
   "file_extension": ".py",
   "mimetype": "text/x-python",
   "name": "python",
   "nbconvert_exporter": "python",
   "pygments_lexer": "ipython3",
   "version": "3.8.8"
  },
  "varInspector": {
   "cols": {
    "lenName": 16,
    "lenType": 16,
    "lenVar": 40
   },
   "kernels_config": {
    "python": {
     "delete_cmd_postfix": "",
     "delete_cmd_prefix": "del ",
     "library": "var_list.py",
     "varRefreshCmd": "print(var_dic_list())"
    },
    "r": {
     "delete_cmd_postfix": ") ",
     "delete_cmd_prefix": "rm(",
     "library": "var_list.r",
     "varRefreshCmd": "cat(var_dic_list()) "
    }
   },
   "types_to_exclude": [
    "module",
    "function",
    "builtin_function_or_method",
    "instance",
    "_Feature"
   ],
   "window_display": false
  }
 },
 "nbformat": 4,
 "nbformat_minor": 5
}
