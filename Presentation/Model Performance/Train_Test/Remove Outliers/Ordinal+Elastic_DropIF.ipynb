{
 "cells": [
  {
   "cell_type": "code",
   "execution_count": 1,
   "id": "f1177d8a",
   "metadata": {},
   "outputs": [],
   "source": [
    "import pandas as pd\n",
    "from sklearn.linear_model import ElasticNet\n",
    "from sklearn import preprocessing"
   ]
  },
  {
   "cell_type": "code",
   "execution_count": 2,
   "id": "be5b3de2",
   "metadata": {},
   "outputs": [
    {
     "data": {
      "text/plain": [
       "(2568, 299)"
      ]
     },
     "execution_count": 2,
     "metadata": {},
     "output_type": "execute_result"
    }
   ],
   "source": [
    "base_dropIF = pd.read_csv('BaseDropIF.csv')\n",
    "base_dropIF.shape"
   ]
  },
  {
   "cell_type": "code",
   "execution_count": 3,
   "id": "021f97f6",
   "metadata": {},
   "outputs": [],
   "source": [
    "elastic = ElasticNet(alpha=1, l1_ratio=0.5)"
   ]
  },
  {
   "cell_type": "code",
   "execution_count": 5,
   "id": "7677db80",
   "metadata": {},
   "outputs": [],
   "source": [
    "X = base_dropIF.drop(['SalePrice'], axis=1).values\n",
    "y = base_dropIF.SalePrice.values"
   ]
  },
  {
   "cell_type": "code",
   "execution_count": 6,
   "id": "928b83b8",
   "metadata": {},
   "outputs": [],
   "source": [
    "scaler = preprocessing.StandardScaler().fit(X)\n",
    "X_scaled = scaler.transform(X)"
   ]
  },
  {
   "cell_type": "code",
   "execution_count": 7,
   "id": "e7471049",
   "metadata": {},
   "outputs": [],
   "source": [
    "elastic.fit(X_scaled,y)\n",
    "Elastic_Score = elastic.score(X_scaled,y)"
   ]
  },
  {
   "cell_type": "code",
   "execution_count": 8,
   "id": "8d94a855",
   "metadata": {},
   "outputs": [
    {
     "data": {
      "text/plain": [
       "0.9215142745161143"
      ]
     },
     "execution_count": 8,
     "metadata": {},
     "output_type": "execute_result"
    }
   ],
   "source": [
    "Elastic_Score"
   ]
  },
  {
   "cell_type": "code",
   "execution_count": 9,
   "id": "8c8108d8",
   "metadata": {},
   "outputs": [
    {
     "data": {
      "text/plain": [
       "2568"
      ]
     },
     "execution_count": 9,
     "metadata": {},
     "output_type": "execute_result"
    }
   ],
   "source": [
    "len(elastic.predict(X_scaled))"
   ]
  },
  {
   "cell_type": "code",
   "execution_count": 10,
   "id": "5ebab612",
   "metadata": {},
   "outputs": [],
   "source": [
    "Elastic_Results = elastic.predict(X_scaled)"
   ]
  },
  {
   "cell_type": "code",
   "execution_count": null,
   "id": "27103ac1",
   "metadata": {},
   "outputs": [],
   "source": []
  },
  {
   "cell_type": "code",
   "execution_count": 11,
   "id": "4567e4c0",
   "metadata": {},
   "outputs": [
    {
     "data": {
      "text/plain": [
       "(2568, 83)"
      ]
     },
     "execution_count": 11,
     "metadata": {},
     "output_type": "execute_result"
    }
   ],
   "source": [
    "ordinal_dropIF = pd.read_csv('OrdinalDropIF.csv')\n",
    "ordinal_dropIF.shape"
   ]
  },
  {
   "cell_type": "code",
   "execution_count": 12,
   "id": "b8293efb",
   "metadata": {},
   "outputs": [
    {
     "data": {
      "text/plain": [
       "(2568, 84)"
      ]
     },
     "execution_count": 12,
     "metadata": {},
     "output_type": "execute_result"
    }
   ],
   "source": [
    "ordinal_dropIF = ordinal_dropIF.assign(Elastic = Elastic_Results)\n",
    "ordinal_dropIF.shape"
   ]
  },
  {
   "cell_type": "code",
   "execution_count": null,
   "id": "4e827c35",
   "metadata": {},
   "outputs": [],
   "source": []
  },
  {
   "cell_type": "code",
   "execution_count": 13,
   "id": "1bf48126",
   "metadata": {},
   "outputs": [],
   "source": [
    "ordinal_dropIF.to_csv('Ordinal+Elastic_DropIF.csv', index=False)"
   ]
  },
  {
   "cell_type": "code",
   "execution_count": null,
   "id": "f9bbe7eb",
   "metadata": {},
   "outputs": [],
   "source": []
  }
 ],
 "metadata": {
  "hide_input": false,
  "kernelspec": {
   "display_name": "Python 3 (ipykernel)",
   "language": "python",
   "name": "python3"
  },
  "language_info": {
   "codemirror_mode": {
    "name": "ipython",
    "version": 3
   },
   "file_extension": ".py",
   "mimetype": "text/x-python",
   "name": "python",
   "nbconvert_exporter": "python",
   "pygments_lexer": "ipython3",
   "version": "3.8.8"
  },
  "varInspector": {
   "cols": {
    "lenName": 16,
    "lenType": 16,
    "lenVar": 40
   },
   "kernels_config": {
    "python": {
     "delete_cmd_postfix": "",
     "delete_cmd_prefix": "del ",
     "library": "var_list.py",
     "varRefreshCmd": "print(var_dic_list())"
    },
    "r": {
     "delete_cmd_postfix": ") ",
     "delete_cmd_prefix": "rm(",
     "library": "var_list.r",
     "varRefreshCmd": "cat(var_dic_list()) "
    }
   },
   "types_to_exclude": [
    "module",
    "function",
    "builtin_function_or_method",
    "instance",
    "_Feature"
   ],
   "window_display": false
  }
 },
 "nbformat": 4,
 "nbformat_minor": 5
}
