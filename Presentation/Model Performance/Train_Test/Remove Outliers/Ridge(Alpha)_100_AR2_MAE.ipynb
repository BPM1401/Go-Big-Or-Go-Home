{
 "cells": [
  {
   "cell_type": "code",
   "execution_count": 1,
   "id": "3ac198de",
   "metadata": {},
   "outputs": [],
   "source": [
    "import numpy as np\n",
    "import pandas as pd\n",
    "pd.set_option(\"display.max_columns\", 300)\n",
    "pd.set_option(\"max_colwidth\", 200)\n",
    "\n",
    "from sklearn.linear_model import LinearRegression\n",
    "from sklearn.linear_model import HuberRegressor\n",
    "from sklearn.linear_model import Ridge\n",
    "from sklearn.linear_model import RidgeCV\n",
    "from sklearn.linear_model import Lasso\n",
    "from sklearn.linear_model import LassoCV\n",
    "from sklearn.linear_model import ElasticNet\n",
    "from numpy import arange\n",
    "from sklearn.model_selection import GridSearchCV\n",
    "from sklearn.ensemble import RandomForestRegressor\n",
    "from sklearn.ensemble import GradientBoostingRegressor\n",
    "from xgboost import XGBRegressor\n",
    "\n",
    "from sklearn import preprocessing\n",
    "\n",
    "from sklearn.metrics import mean_squared_error, r2_score, mean_absolute_error\n",
    "from sklearn.feature_selection import SequentialFeatureSelector\n",
    "\n",
    "from sklearn.model_selection import train_test_split\n",
    "from sklearn.model_selection import KFold\n",
    "\n",
    "import matplotlib.pyplot as plt\n",
    "import statistics\n",
    "\n",
    "import seaborn as sns"
   ]
  },
  {
   "cell_type": "code",
   "execution_count": 2,
   "id": "4a6b7f73",
   "metadata": {},
   "outputs": [],
   "source": [
    "base = pd.read_csv('../../Data/BaseData.csv')"
   ]
  },
  {
   "cell_type": "code",
   "execution_count": 3,
   "id": "f7bf7336",
   "metadata": {},
   "outputs": [],
   "source": [
    "X = base.drop(['SalePrice'], axis=1).values\n",
    "y = base.SalePrice.values"
   ]
  },
  {
   "cell_type": "code",
   "execution_count": 4,
   "id": "2c216ed2",
   "metadata": {},
   "outputs": [
    {
     "data": {
      "text/plain": [
       "2580"
      ]
     },
     "execution_count": 4,
     "metadata": {},
     "output_type": "execute_result"
    }
   ],
   "source": [
    "len(y)"
   ]
  },
  {
   "cell_type": "code",
   "execution_count": 5,
   "id": "1662f3a5",
   "metadata": {},
   "outputs": [
    {
     "data": {
      "text/plain": [
       "(2580, 298)"
      ]
     },
     "execution_count": 5,
     "metadata": {},
     "output_type": "execute_result"
    }
   ],
   "source": [
    "X.shape"
   ]
  },
  {
   "cell_type": "code",
   "execution_count": 6,
   "id": "8f475bf9",
   "metadata": {},
   "outputs": [
    {
     "data": {
      "text/plain": [
       "298"
      ]
     },
     "execution_count": 6,
     "metadata": {},
     "output_type": "execute_result"
    }
   ],
   "source": [
    "X.shape[1]"
   ]
  },
  {
   "cell_type": "code",
   "execution_count": 7,
   "id": "fec85659",
   "metadata": {},
   "outputs": [],
   "source": [
    "AR2_Base = []\n",
    "MAE_Base = []\n",
    "\n",
    "Ridge_Alphas = []\n",
    "alphas = 10**np.linspace(10,-2,100)*0.5\n",
    "\n",
    "for i in range(100):\n",
    "    \n",
    "    X_train, X_test, Y_train, Y_test = train_test_split(X,y,test_size=0.25)\n",
    "    \n",
    "    scaler = preprocessing.StandardScaler().fit(X_train)\n",
    "    X_train_scaled = scaler.transform(X_train)\n",
    "    X_test_scaled = scaler.transform(X_test)\n",
    "    \n",
    "    ridgecv= RidgeCV(alphas=alphas, scoring='neg_mean_squared_error')\n",
    "    ridgecv.fit(X_train_scaled, Y_train)\n",
    "    \n",
    "    ridge_best_alpha = Ridge(alpha=round(ridgecv.alpha_,2))\n",
    "    ridge_best_alpha.fit(X_train_scaled, Y_train)\n",
    "    Ridge_A_Score = ridge_best_alpha.score(X_test_scaled, Y_test)\n",
    "    \n",
    "    pred = ridge_best_alpha.predict(X_test_scaled)\n",
    "    \n",
    "    Adj_r2 = 1 - (1-Ridge_A_Score) * (len(y)-1)/(len(y)-X.shape[1]-1)\n",
    "    AR2_Base.append(Adj_r2)\n",
    "    \n",
    "    Ridge_Alphas.append(ridgecv.alpha_)\n",
    "    \n",
    "    mae = mean_absolute_error(Y_test, pred)\n",
    "    MAE_Base.append(mae)    "
   ]
  },
  {
   "cell_type": "code",
   "execution_count": 8,
   "id": "305181fe",
   "metadata": {},
   "outputs": [
    {
     "data": {
      "text/html": [
       "<div>\n",
       "<style scoped>\n",
       "    .dataframe tbody tr th:only-of-type {\n",
       "        vertical-align: middle;\n",
       "    }\n",
       "\n",
       "    .dataframe tbody tr th {\n",
       "        vertical-align: top;\n",
       "    }\n",
       "\n",
       "    .dataframe thead th {\n",
       "        text-align: right;\n",
       "    }\n",
       "</style>\n",
       "<table border=\"1\" class=\"dataframe\">\n",
       "  <thead>\n",
       "    <tr style=\"text-align: right;\">\n",
       "      <th></th>\n",
       "      <th>AR2_Base</th>\n",
       "      <th>MAE_Base</th>\n",
       "    </tr>\n",
       "  </thead>\n",
       "  <tbody>\n",
       "    <tr>\n",
       "      <th>0</th>\n",
       "      <td>0.903211</td>\n",
       "      <td>14301.173808</td>\n",
       "    </tr>\n",
       "    <tr>\n",
       "      <th>1</th>\n",
       "      <td>0.879348</td>\n",
       "      <td>15349.359553</td>\n",
       "    </tr>\n",
       "    <tr>\n",
       "      <th>2</th>\n",
       "      <td>0.887548</td>\n",
       "      <td>14872.897233</td>\n",
       "    </tr>\n",
       "    <tr>\n",
       "      <th>3</th>\n",
       "      <td>0.849686</td>\n",
       "      <td>14485.407558</td>\n",
       "    </tr>\n",
       "    <tr>\n",
       "      <th>4</th>\n",
       "      <td>0.905693</td>\n",
       "      <td>14608.788220</td>\n",
       "    </tr>\n",
       "    <tr>\n",
       "      <th>...</th>\n",
       "      <td>...</td>\n",
       "      <td>...</td>\n",
       "    </tr>\n",
       "    <tr>\n",
       "      <th>95</th>\n",
       "      <td>0.915039</td>\n",
       "      <td>14421.134210</td>\n",
       "    </tr>\n",
       "    <tr>\n",
       "      <th>96</th>\n",
       "      <td>0.887379</td>\n",
       "      <td>15705.387789</td>\n",
       "    </tr>\n",
       "    <tr>\n",
       "      <th>97</th>\n",
       "      <td>0.895373</td>\n",
       "      <td>14719.680017</td>\n",
       "    </tr>\n",
       "    <tr>\n",
       "      <th>98</th>\n",
       "      <td>0.904588</td>\n",
       "      <td>14402.546409</td>\n",
       "    </tr>\n",
       "    <tr>\n",
       "      <th>99</th>\n",
       "      <td>0.897580</td>\n",
       "      <td>15089.355663</td>\n",
       "    </tr>\n",
       "  </tbody>\n",
       "</table>\n",
       "<p>100 rows × 2 columns</p>\n",
       "</div>"
      ],
      "text/plain": [
       "    AR2_Base      MAE_Base\n",
       "0   0.903211  14301.173808\n",
       "1   0.879348  15349.359553\n",
       "2   0.887548  14872.897233\n",
       "3   0.849686  14485.407558\n",
       "4   0.905693  14608.788220\n",
       "..       ...           ...\n",
       "95  0.915039  14421.134210\n",
       "96  0.887379  15705.387789\n",
       "97  0.895373  14719.680017\n",
       "98  0.904588  14402.546409\n",
       "99  0.897580  15089.355663\n",
       "\n",
       "[100 rows x 2 columns]"
      ]
     },
     "execution_count": 8,
     "metadata": {},
     "output_type": "execute_result"
    }
   ],
   "source": [
    "Base = pd.DataFrame({'AR2_Base': AR2_Base, 'MAE_Base': MAE_Base})\n",
    "Base"
   ]
  },
  {
   "cell_type": "code",
   "execution_count": null,
   "id": "83636547",
   "metadata": {},
   "outputs": [],
   "source": []
  },
  {
   "cell_type": "code",
   "execution_count": 9,
   "id": "f407a3a5",
   "metadata": {},
   "outputs": [],
   "source": [
    "base_drop1 = pd.read_csv('BaseDrop1.csv')"
   ]
  },
  {
   "cell_type": "code",
   "execution_count": 10,
   "id": "642bd8f4",
   "metadata": {},
   "outputs": [
    {
     "data": {
      "text/plain": [
       "(2579, 299)"
      ]
     },
     "execution_count": 10,
     "metadata": {},
     "output_type": "execute_result"
    }
   ],
   "source": [
    "base_drop1.shape"
   ]
  },
  {
   "cell_type": "code",
   "execution_count": 11,
   "id": "48469565",
   "metadata": {},
   "outputs": [],
   "source": [
    "X2 = base_drop1.drop(['SalePrice'], axis=1).values\n",
    "y2 = base_drop1.SalePrice.values"
   ]
  },
  {
   "cell_type": "code",
   "execution_count": 12,
   "id": "a4a8b309",
   "metadata": {},
   "outputs": [
    {
     "data": {
      "text/plain": [
       "2579"
      ]
     },
     "execution_count": 12,
     "metadata": {},
     "output_type": "execute_result"
    }
   ],
   "source": [
    "len(y2)"
   ]
  },
  {
   "cell_type": "code",
   "execution_count": 13,
   "id": "437f1c5e",
   "metadata": {},
   "outputs": [
    {
     "data": {
      "text/plain": [
       "(2579, 298)"
      ]
     },
     "execution_count": 13,
     "metadata": {},
     "output_type": "execute_result"
    }
   ],
   "source": [
    "X2.shape"
   ]
  },
  {
   "cell_type": "code",
   "execution_count": 14,
   "id": "b89b6d4f",
   "metadata": {},
   "outputs": [
    {
     "data": {
      "text/plain": [
       "298"
      ]
     },
     "execution_count": 14,
     "metadata": {},
     "output_type": "execute_result"
    }
   ],
   "source": [
    "X2.shape[1]"
   ]
  },
  {
   "cell_type": "code",
   "execution_count": 15,
   "id": "5b222a21",
   "metadata": {},
   "outputs": [],
   "source": [
    "AR2_Drop1 = []\n",
    "MAE_Drop1 = []\n",
    "\n",
    "Ridge_Alphas = []\n",
    "alphas = 10**np.linspace(10,-2,100)*0.5\n",
    "\n",
    "for i in range(100):\n",
    "    \n",
    "    X_train, X_test, Y_train, Y_test = train_test_split(X2,y2,test_size=0.25)\n",
    "    \n",
    "    scaler = preprocessing.StandardScaler().fit(X_train)\n",
    "    X_train_scaled = scaler.transform(X_train)\n",
    "    X_test_scaled = scaler.transform(X_test)\n",
    "    \n",
    "    ridgecv= RidgeCV(alphas=alphas, scoring='neg_mean_squared_error')\n",
    "    ridgecv.fit(X_train_scaled, Y_train)\n",
    "    \n",
    "    ridge_best_alpha = Ridge(alpha=round(ridgecv.alpha_,2))\n",
    "    ridge_best_alpha.fit(X_train_scaled, Y_train)\n",
    "    Ridge_A_Score = ridge_best_alpha.score(X_test_scaled, Y_test)\n",
    "    \n",
    "    pred = ridge_best_alpha.predict(X_test_scaled)\n",
    "    \n",
    "    Adj_r2 = 1 - (1-Ridge_A_Score) * (len(y)-1)/(len(y)-X.shape[1]-1)\n",
    "    AR2_Drop1.append(Adj_r2)\n",
    "    \n",
    "    Ridge_Alphas.append(ridgecv.alpha_)\n",
    "    \n",
    "    mae = mean_absolute_error(Y_test, pred)\n",
    "    MAE_Drop1.append(mae)    "
   ]
  },
  {
   "cell_type": "code",
   "execution_count": 16,
   "id": "4d361828",
   "metadata": {},
   "outputs": [
    {
     "data": {
      "text/html": [
       "<div>\n",
       "<style scoped>\n",
       "    .dataframe tbody tr th:only-of-type {\n",
       "        vertical-align: middle;\n",
       "    }\n",
       "\n",
       "    .dataframe tbody tr th {\n",
       "        vertical-align: top;\n",
       "    }\n",
       "\n",
       "    .dataframe thead th {\n",
       "        text-align: right;\n",
       "    }\n",
       "</style>\n",
       "<table border=\"1\" class=\"dataframe\">\n",
       "  <thead>\n",
       "    <tr style=\"text-align: right;\">\n",
       "      <th></th>\n",
       "      <th>AR2_Drop1</th>\n",
       "      <th>MAE_Drop1</th>\n",
       "    </tr>\n",
       "  </thead>\n",
       "  <tbody>\n",
       "    <tr>\n",
       "      <th>0</th>\n",
       "      <td>0.915176</td>\n",
       "      <td>14848.850133</td>\n",
       "    </tr>\n",
       "    <tr>\n",
       "      <th>1</th>\n",
       "      <td>0.901937</td>\n",
       "      <td>14256.730677</td>\n",
       "    </tr>\n",
       "    <tr>\n",
       "      <th>2</th>\n",
       "      <td>0.917956</td>\n",
       "      <td>13875.867893</td>\n",
       "    </tr>\n",
       "    <tr>\n",
       "      <th>3</th>\n",
       "      <td>0.919563</td>\n",
       "      <td>13810.631210</td>\n",
       "    </tr>\n",
       "    <tr>\n",
       "      <th>4</th>\n",
       "      <td>0.913382</td>\n",
       "      <td>14515.224904</td>\n",
       "    </tr>\n",
       "    <tr>\n",
       "      <th>...</th>\n",
       "      <td>...</td>\n",
       "      <td>...</td>\n",
       "    </tr>\n",
       "    <tr>\n",
       "      <th>95</th>\n",
       "      <td>0.905352</td>\n",
       "      <td>13778.569623</td>\n",
       "    </tr>\n",
       "    <tr>\n",
       "      <th>96</th>\n",
       "      <td>0.905555</td>\n",
       "      <td>15128.089425</td>\n",
       "    </tr>\n",
       "    <tr>\n",
       "      <th>97</th>\n",
       "      <td>0.904413</td>\n",
       "      <td>13887.377760</td>\n",
       "    </tr>\n",
       "    <tr>\n",
       "      <th>98</th>\n",
       "      <td>0.904374</td>\n",
       "      <td>14454.995229</td>\n",
       "    </tr>\n",
       "    <tr>\n",
       "      <th>99</th>\n",
       "      <td>0.905628</td>\n",
       "      <td>15359.045522</td>\n",
       "    </tr>\n",
       "  </tbody>\n",
       "</table>\n",
       "<p>100 rows × 2 columns</p>\n",
       "</div>"
      ],
      "text/plain": [
       "    AR2_Drop1     MAE_Drop1\n",
       "0    0.915176  14848.850133\n",
       "1    0.901937  14256.730677\n",
       "2    0.917956  13875.867893\n",
       "3    0.919563  13810.631210\n",
       "4    0.913382  14515.224904\n",
       "..        ...           ...\n",
       "95   0.905352  13778.569623\n",
       "96   0.905555  15128.089425\n",
       "97   0.904413  13887.377760\n",
       "98   0.904374  14454.995229\n",
       "99   0.905628  15359.045522\n",
       "\n",
       "[100 rows x 2 columns]"
      ]
     },
     "execution_count": 16,
     "metadata": {},
     "output_type": "execute_result"
    }
   ],
   "source": [
    "BaseDrop1 = pd.DataFrame({'AR2_Drop1': AR2_Drop1, 'MAE_Drop1': MAE_Drop1})\n",
    "BaseDrop1"
   ]
  },
  {
   "cell_type": "code",
   "execution_count": null,
   "id": "d6058f79",
   "metadata": {},
   "outputs": [],
   "source": []
  },
  {
   "cell_type": "code",
   "execution_count": 17,
   "id": "7f852f8e",
   "metadata": {},
   "outputs": [],
   "source": [
    "base_drop_IF = pd.read_csv('BaseDropIF.csv')"
   ]
  },
  {
   "cell_type": "code",
   "execution_count": 18,
   "id": "70154c65",
   "metadata": {},
   "outputs": [
    {
     "data": {
      "text/plain": [
       "(2568, 299)"
      ]
     },
     "execution_count": 18,
     "metadata": {},
     "output_type": "execute_result"
    }
   ],
   "source": [
    "base_drop_IF.shape"
   ]
  },
  {
   "cell_type": "code",
   "execution_count": 19,
   "id": "0558b8e0",
   "metadata": {},
   "outputs": [],
   "source": [
    "X3 = base_drop_IF.drop(['SalePrice'], axis=1).values\n",
    "y3 = base_drop_IF.SalePrice.values"
   ]
  },
  {
   "cell_type": "code",
   "execution_count": 20,
   "id": "f1f926d6",
   "metadata": {},
   "outputs": [],
   "source": [
    "AR2_DropIF = []\n",
    "MAE_DropIF = []\n",
    "\n",
    "Ridge_Alphas = []\n",
    "alphas = 10**np.linspace(10,-2,100)*0.5\n",
    "\n",
    "for i in range(100):\n",
    "    \n",
    "    X_train, X_test, Y_train, Y_test = train_test_split(X3,y3,test_size=0.25)\n",
    "    \n",
    "    scaler = preprocessing.StandardScaler().fit(X_train)\n",
    "    X_train_scaled = scaler.transform(X_train)\n",
    "    X_test_scaled = scaler.transform(X_test)\n",
    "    \n",
    "    ridgecv= RidgeCV(alphas=alphas, scoring='neg_mean_squared_error')\n",
    "    ridgecv.fit(X_train_scaled, Y_train)\n",
    "    \n",
    "    ridge_best_alpha = Ridge(alpha=round(ridgecv.alpha_,2))\n",
    "    ridge_best_alpha.fit(X_train_scaled, Y_train)\n",
    "    Ridge_A_Score = ridge_best_alpha.score(X_test_scaled, Y_test)\n",
    "    \n",
    "    pred = ridge_best_alpha.predict(X_test_scaled)\n",
    "    \n",
    "    Adj_r2 = 1 - (1-Ridge_A_Score) * (len(y)-1)/(len(y)-X.shape[1]-1)\n",
    "    AR2_DropIF.append(Adj_r2)\n",
    "    \n",
    "    Ridge_Alphas.append(ridgecv.alpha_)\n",
    "    \n",
    "    mae = mean_absolute_error(Y_test, pred)\n",
    "    MAE_DropIF.append(mae)    \n"
   ]
  },
  {
   "cell_type": "code",
   "execution_count": 21,
   "id": "20f21cca",
   "metadata": {},
   "outputs": [
    {
     "data": {
      "text/html": [
       "<div>\n",
       "<style scoped>\n",
       "    .dataframe tbody tr th:only-of-type {\n",
       "        vertical-align: middle;\n",
       "    }\n",
       "\n",
       "    .dataframe tbody tr th {\n",
       "        vertical-align: top;\n",
       "    }\n",
       "\n",
       "    .dataframe thead th {\n",
       "        text-align: right;\n",
       "    }\n",
       "</style>\n",
       "<table border=\"1\" class=\"dataframe\">\n",
       "  <thead>\n",
       "    <tr style=\"text-align: right;\">\n",
       "      <th></th>\n",
       "      <th>AR2_DropIF</th>\n",
       "      <th>MAE_DropIF</th>\n",
       "    </tr>\n",
       "  </thead>\n",
       "  <tbody>\n",
       "    <tr>\n",
       "      <th>0</th>\n",
       "      <td>0.910312</td>\n",
       "      <td>13760.464104</td>\n",
       "    </tr>\n",
       "    <tr>\n",
       "      <th>1</th>\n",
       "      <td>0.909085</td>\n",
       "      <td>13968.187262</td>\n",
       "    </tr>\n",
       "    <tr>\n",
       "      <th>2</th>\n",
       "      <td>0.900466</td>\n",
       "      <td>13522.780090</td>\n",
       "    </tr>\n",
       "    <tr>\n",
       "      <th>3</th>\n",
       "      <td>0.918374</td>\n",
       "      <td>13312.664023</td>\n",
       "    </tr>\n",
       "    <tr>\n",
       "      <th>4</th>\n",
       "      <td>0.913396</td>\n",
       "      <td>14211.850539</td>\n",
       "    </tr>\n",
       "    <tr>\n",
       "      <th>...</th>\n",
       "      <td>...</td>\n",
       "      <td>...</td>\n",
       "    </tr>\n",
       "    <tr>\n",
       "      <th>95</th>\n",
       "      <td>0.918113</td>\n",
       "      <td>14090.535303</td>\n",
       "    </tr>\n",
       "    <tr>\n",
       "      <th>96</th>\n",
       "      <td>0.916533</td>\n",
       "      <td>13498.920952</td>\n",
       "    </tr>\n",
       "    <tr>\n",
       "      <th>97</th>\n",
       "      <td>0.915781</td>\n",
       "      <td>14459.213723</td>\n",
       "    </tr>\n",
       "    <tr>\n",
       "      <th>98</th>\n",
       "      <td>0.910221</td>\n",
       "      <td>13935.606290</td>\n",
       "    </tr>\n",
       "    <tr>\n",
       "      <th>99</th>\n",
       "      <td>0.892405</td>\n",
       "      <td>13837.258649</td>\n",
       "    </tr>\n",
       "  </tbody>\n",
       "</table>\n",
       "<p>100 rows × 2 columns</p>\n",
       "</div>"
      ],
      "text/plain": [
       "    AR2_DropIF    MAE_DropIF\n",
       "0     0.910312  13760.464104\n",
       "1     0.909085  13968.187262\n",
       "2     0.900466  13522.780090\n",
       "3     0.918374  13312.664023\n",
       "4     0.913396  14211.850539\n",
       "..         ...           ...\n",
       "95    0.918113  14090.535303\n",
       "96    0.916533  13498.920952\n",
       "97    0.915781  14459.213723\n",
       "98    0.910221  13935.606290\n",
       "99    0.892405  13837.258649\n",
       "\n",
       "[100 rows x 2 columns]"
      ]
     },
     "execution_count": 21,
     "metadata": {},
     "output_type": "execute_result"
    }
   ],
   "source": [
    "BaseDropIF = pd.DataFrame({'AR2_DropIF': AR2_DropIF, 'MAE_DropIF': MAE_DropIF})\n",
    "BaseDropIF"
   ]
  },
  {
   "cell_type": "code",
   "execution_count": null,
   "id": "871cc290",
   "metadata": {},
   "outputs": [],
   "source": []
  },
  {
   "cell_type": "code",
   "execution_count": 22,
   "id": "e60fb2ae",
   "metadata": {},
   "outputs": [
    {
     "data": {
      "text/html": [
       "<div>\n",
       "<style scoped>\n",
       "    .dataframe tbody tr th:only-of-type {\n",
       "        vertical-align: middle;\n",
       "    }\n",
       "\n",
       "    .dataframe tbody tr th {\n",
       "        vertical-align: top;\n",
       "    }\n",
       "\n",
       "    .dataframe thead th {\n",
       "        text-align: right;\n",
       "    }\n",
       "</style>\n",
       "<table border=\"1\" class=\"dataframe\">\n",
       "  <thead>\n",
       "    <tr style=\"text-align: right;\">\n",
       "      <th></th>\n",
       "      <th>AR2_Base</th>\n",
       "      <th>MAE_Base</th>\n",
       "      <th>AR2_Drop1</th>\n",
       "      <th>MAE_Drop1</th>\n",
       "      <th>AR2_DropIF</th>\n",
       "      <th>MAE_DropIF</th>\n",
       "    </tr>\n",
       "  </thead>\n",
       "  <tbody>\n",
       "    <tr>\n",
       "      <th>0</th>\n",
       "      <td>0.903211</td>\n",
       "      <td>14301.173808</td>\n",
       "      <td>0.915176</td>\n",
       "      <td>14848.850133</td>\n",
       "      <td>0.910312</td>\n",
       "      <td>13760.464104</td>\n",
       "    </tr>\n",
       "    <tr>\n",
       "      <th>1</th>\n",
       "      <td>0.879348</td>\n",
       "      <td>15349.359553</td>\n",
       "      <td>0.901937</td>\n",
       "      <td>14256.730677</td>\n",
       "      <td>0.909085</td>\n",
       "      <td>13968.187262</td>\n",
       "    </tr>\n",
       "    <tr>\n",
       "      <th>2</th>\n",
       "      <td>0.887548</td>\n",
       "      <td>14872.897233</td>\n",
       "      <td>0.917956</td>\n",
       "      <td>13875.867893</td>\n",
       "      <td>0.900466</td>\n",
       "      <td>13522.780090</td>\n",
       "    </tr>\n",
       "    <tr>\n",
       "      <th>3</th>\n",
       "      <td>0.849686</td>\n",
       "      <td>14485.407558</td>\n",
       "      <td>0.919563</td>\n",
       "      <td>13810.631210</td>\n",
       "      <td>0.918374</td>\n",
       "      <td>13312.664023</td>\n",
       "    </tr>\n",
       "    <tr>\n",
       "      <th>4</th>\n",
       "      <td>0.905693</td>\n",
       "      <td>14608.788220</td>\n",
       "      <td>0.913382</td>\n",
       "      <td>14515.224904</td>\n",
       "      <td>0.913396</td>\n",
       "      <td>14211.850539</td>\n",
       "    </tr>\n",
       "    <tr>\n",
       "      <th>...</th>\n",
       "      <td>...</td>\n",
       "      <td>...</td>\n",
       "      <td>...</td>\n",
       "      <td>...</td>\n",
       "      <td>...</td>\n",
       "      <td>...</td>\n",
       "    </tr>\n",
       "    <tr>\n",
       "      <th>95</th>\n",
       "      <td>0.915039</td>\n",
       "      <td>14421.134210</td>\n",
       "      <td>0.905352</td>\n",
       "      <td>13778.569623</td>\n",
       "      <td>0.918113</td>\n",
       "      <td>14090.535303</td>\n",
       "    </tr>\n",
       "    <tr>\n",
       "      <th>96</th>\n",
       "      <td>0.887379</td>\n",
       "      <td>15705.387789</td>\n",
       "      <td>0.905555</td>\n",
       "      <td>15128.089425</td>\n",
       "      <td>0.916533</td>\n",
       "      <td>13498.920952</td>\n",
       "    </tr>\n",
       "    <tr>\n",
       "      <th>97</th>\n",
       "      <td>0.895373</td>\n",
       "      <td>14719.680017</td>\n",
       "      <td>0.904413</td>\n",
       "      <td>13887.377760</td>\n",
       "      <td>0.915781</td>\n",
       "      <td>14459.213723</td>\n",
       "    </tr>\n",
       "    <tr>\n",
       "      <th>98</th>\n",
       "      <td>0.904588</td>\n",
       "      <td>14402.546409</td>\n",
       "      <td>0.904374</td>\n",
       "      <td>14454.995229</td>\n",
       "      <td>0.910221</td>\n",
       "      <td>13935.606290</td>\n",
       "    </tr>\n",
       "    <tr>\n",
       "      <th>99</th>\n",
       "      <td>0.897580</td>\n",
       "      <td>15089.355663</td>\n",
       "      <td>0.905628</td>\n",
       "      <td>15359.045522</td>\n",
       "      <td>0.892405</td>\n",
       "      <td>13837.258649</td>\n",
       "    </tr>\n",
       "  </tbody>\n",
       "</table>\n",
       "<p>100 rows × 6 columns</p>\n",
       "</div>"
      ],
      "text/plain": [
       "    AR2_Base      MAE_Base  AR2_Drop1     MAE_Drop1  AR2_DropIF    MAE_DropIF\n",
       "0   0.903211  14301.173808   0.915176  14848.850133    0.910312  13760.464104\n",
       "1   0.879348  15349.359553   0.901937  14256.730677    0.909085  13968.187262\n",
       "2   0.887548  14872.897233   0.917956  13875.867893    0.900466  13522.780090\n",
       "3   0.849686  14485.407558   0.919563  13810.631210    0.918374  13312.664023\n",
       "4   0.905693  14608.788220   0.913382  14515.224904    0.913396  14211.850539\n",
       "..       ...           ...        ...           ...         ...           ...\n",
       "95  0.915039  14421.134210   0.905352  13778.569623    0.918113  14090.535303\n",
       "96  0.887379  15705.387789   0.905555  15128.089425    0.916533  13498.920952\n",
       "97  0.895373  14719.680017   0.904413  13887.377760    0.915781  14459.213723\n",
       "98  0.904588  14402.546409   0.904374  14454.995229    0.910221  13935.606290\n",
       "99  0.897580  15089.355663   0.905628  15359.045522    0.892405  13837.258649\n",
       "\n",
       "[100 rows x 6 columns]"
      ]
     },
     "execution_count": 22,
     "metadata": {},
     "output_type": "execute_result"
    }
   ],
   "source": [
    "box = pd.concat([Base, BaseDrop1, BaseDropIF], axis=1)\n",
    "box"
   ]
  },
  {
   "cell_type": "code",
   "execution_count": 23,
   "id": "acc9fb9d",
   "metadata": {},
   "outputs": [
    {
     "data": {
      "text/html": [
       "<div>\n",
       "<style scoped>\n",
       "    .dataframe tbody tr th:only-of-type {\n",
       "        vertical-align: middle;\n",
       "    }\n",
       "\n",
       "    .dataframe tbody tr th {\n",
       "        vertical-align: top;\n",
       "    }\n",
       "\n",
       "    .dataframe thead th {\n",
       "        text-align: right;\n",
       "    }\n",
       "</style>\n",
       "<table border=\"1\" class=\"dataframe\">\n",
       "  <thead>\n",
       "    <tr style=\"text-align: right;\">\n",
       "      <th></th>\n",
       "      <th>AR2_Base</th>\n",
       "      <th>MAE_Base</th>\n",
       "      <th>AR2_Drop1</th>\n",
       "      <th>MAE_Drop1</th>\n",
       "      <th>AR2_DropIF</th>\n",
       "      <th>MAE_DropIF</th>\n",
       "    </tr>\n",
       "  </thead>\n",
       "  <tbody>\n",
       "    <tr>\n",
       "      <th>count</th>\n",
       "      <td>100.000000</td>\n",
       "      <td>100.000000</td>\n",
       "      <td>100.000000</td>\n",
       "      <td>100.000000</td>\n",
       "      <td>100.000000</td>\n",
       "      <td>100.000000</td>\n",
       "    </tr>\n",
       "    <tr>\n",
       "      <th>mean</th>\n",
       "      <td>0.882930</td>\n",
       "      <td>14821.149434</td>\n",
       "      <td>0.911189</td>\n",
       "      <td>14312.506915</td>\n",
       "      <td>0.913559</td>\n",
       "      <td>14047.190631</td>\n",
       "    </tr>\n",
       "    <tr>\n",
       "      <th>std</th>\n",
       "      <td>0.033713</td>\n",
       "      <td>656.262397</td>\n",
       "      <td>0.008015</td>\n",
       "      <td>517.560714</td>\n",
       "      <td>0.008507</td>\n",
       "      <td>486.052528</td>\n",
       "    </tr>\n",
       "    <tr>\n",
       "      <th>min</th>\n",
       "      <td>0.781577</td>\n",
       "      <td>12978.169891</td>\n",
       "      <td>0.889967</td>\n",
       "      <td>13191.007280</td>\n",
       "      <td>0.892405</td>\n",
       "      <td>12907.943616</td>\n",
       "    </tr>\n",
       "    <tr>\n",
       "      <th>25%</th>\n",
       "      <td>0.857022</td>\n",
       "      <td>14366.610655</td>\n",
       "      <td>0.904876</td>\n",
       "      <td>13973.976525</td>\n",
       "      <td>0.908352</td>\n",
       "      <td>13759.038164</td>\n",
       "    </tr>\n",
       "    <tr>\n",
       "      <th>50%</th>\n",
       "      <td>0.895264</td>\n",
       "      <td>14748.967978</td>\n",
       "      <td>0.911661</td>\n",
       "      <td>14238.373741</td>\n",
       "      <td>0.914017</td>\n",
       "      <td>14089.003156</td>\n",
       "    </tr>\n",
       "    <tr>\n",
       "      <th>75%</th>\n",
       "      <td>0.905602</td>\n",
       "      <td>15278.396322</td>\n",
       "      <td>0.916750</td>\n",
       "      <td>14662.260290</td>\n",
       "      <td>0.918442</td>\n",
       "      <td>14360.985135</td>\n",
       "    </tr>\n",
       "    <tr>\n",
       "      <th>max</th>\n",
       "      <td>0.924818</td>\n",
       "      <td>16323.772689</td>\n",
       "      <td>0.931187</td>\n",
       "      <td>15561.619724</td>\n",
       "      <td>0.936117</td>\n",
       "      <td>15106.016629</td>\n",
       "    </tr>\n",
       "  </tbody>\n",
       "</table>\n",
       "</div>"
      ],
      "text/plain": [
       "         AR2_Base      MAE_Base   AR2_Drop1     MAE_Drop1  AR2_DropIF  \\\n",
       "count  100.000000    100.000000  100.000000    100.000000  100.000000   \n",
       "mean     0.882930  14821.149434    0.911189  14312.506915    0.913559   \n",
       "std      0.033713    656.262397    0.008015    517.560714    0.008507   \n",
       "min      0.781577  12978.169891    0.889967  13191.007280    0.892405   \n",
       "25%      0.857022  14366.610655    0.904876  13973.976525    0.908352   \n",
       "50%      0.895264  14748.967978    0.911661  14238.373741    0.914017   \n",
       "75%      0.905602  15278.396322    0.916750  14662.260290    0.918442   \n",
       "max      0.924818  16323.772689    0.931187  15561.619724    0.936117   \n",
       "\n",
       "         MAE_DropIF  \n",
       "count    100.000000  \n",
       "mean   14047.190631  \n",
       "std      486.052528  \n",
       "min    12907.943616  \n",
       "25%    13759.038164  \n",
       "50%    14089.003156  \n",
       "75%    14360.985135  \n",
       "max    15106.016629  "
      ]
     },
     "execution_count": 23,
     "metadata": {},
     "output_type": "execute_result"
    }
   ],
   "source": [
    "box.describe()"
   ]
  },
  {
   "cell_type": "code",
   "execution_count": 24,
   "id": "ed4329d7",
   "metadata": {},
   "outputs": [
    {
     "data": {
      "image/png": "[encoded data removed]",
      "text/plain": [
       "<Figure size 432x288 with 1 Axes>"
      ]
     },
     "metadata": {
      "needs_background": "light"
     },
     "output_type": "display_data"
    }
   ],
   "source": [
    "sns.boxplot(data=box[['AR2_Base','AR2_Drop1', 'AR2_DropIF']]);"
   ]
  },
  {
   "cell_type": "code",
   "execution_count": 25,
   "id": "458ea0c2",
   "metadata": {},
   "outputs": [
    {
     "data": {
      "image/png": "[encoded data removed]",
      "text/plain": [
       "<Figure size 432x288 with 1 Axes>"
      ]
     },
     "metadata": {
      "needs_background": "light"
     },
     "output_type": "display_data"
    }
   ],
   "source": [
    "sns.boxplot(data=box[['MAE_Base', 'MAE_Drop1', 'MAE_DropIF']]);"
   ]
  },
  {
   "cell_type": "code",
   "execution_count": null,
   "id": "9c2d2a3a",
   "metadata": {},
   "outputs": [],
   "source": []
  }
 ],
 "metadata": {
  "hide_input": false,
  "kernelspec": {
   "display_name": "Python 3 (ipykernel)",
   "language": "python",
   "name": "python3"
  },
  "language_info": {
   "codemirror_mode": {
    "name": "ipython",
    "version": 3
   },
   "file_extension": ".py",
   "mimetype": "text/x-python",
   "name": "python",
   "nbconvert_exporter": "python",
   "pygments_lexer": "ipython3",
   "version": "3.8.8"
  },
  "varInspector": {
   "cols": {
    "lenName": 16,
    "lenType": 16,
    "lenVar": 40
   },
   "kernels_config": {
    "python": {
     "delete_cmd_postfix": "",
     "delete_cmd_prefix": "del ",
     "library": "var_list.py",
     "varRefreshCmd": "print(var_dic_list())"
    },
    "r": {
     "delete_cmd_postfix": ") ",
     "delete_cmd_prefix": "rm(",
     "library": "var_list.r",
     "varRefreshCmd": "cat(var_dic_list()) "
    }
   },
   "types_to_exclude": [
    "module",
    "function",
    "builtin_function_or_method",
    "instance",
    "_Feature"
   ],
   "window_display": false
  }
 },
 "nbformat": 4,
 "nbformat_minor": 5
}
