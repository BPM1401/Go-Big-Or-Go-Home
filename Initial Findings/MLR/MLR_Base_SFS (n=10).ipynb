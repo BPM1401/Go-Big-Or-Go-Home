{
 "cells": [
  {
   "cell_type": "code",
   "execution_count": 1,
   "id": "14f2fef0",
   "metadata": {},
   "outputs": [],
   "source": [
    "import pandas as pd\n",
    "import numpy as np\n",
    "import matplotlib.pyplot as plt\n",
    "\n",
    "import seaborn as sns\n",
    "sns.set()\n",
    "\n",
    "import scipy as sp\n",
    "from sklearn.linear_model import LinearRegression\n",
    "\n",
    "pd.set_option(\"display.max_columns\", 100)\n",
    "\n",
    "import statsmodels.api as sm\n",
    "import statsmodels.stats.api as sms\n",
    "from scipy import stats"
   ]
  },
  {
   "cell_type": "code",
   "execution_count": 2,
   "id": "e88b04b8",
   "metadata": {},
   "outputs": [
    {
     "data": {
      "text/plain": [
       "(2580, 82)"
      ]
     },
     "execution_count": 2,
     "metadata": {},
     "output_type": "execute_result"
    }
   ],
   "source": [
    "df = pd.read_csv('Ames_HousePrice.csv')\n",
    "df.shape"
   ]
  },
  {
   "cell_type": "code",
   "execution_count": null,
   "id": "14f08a7b",
   "metadata": {},
   "outputs": [],
   "source": []
  },
  {
   "cell_type": "code",
   "execution_count": 3,
   "id": "4f1bcc09",
   "metadata": {},
   "outputs": [
    {
     "data": {
      "text/plain": [
       "(2580, 43)"
      ]
     },
     "execution_count": 3,
     "metadata": {},
     "output_type": "execute_result"
    }
   ],
   "source": [
    "c = df.select_dtypes('object')\n",
    "c.shape"
   ]
  },
  {
   "cell_type": "code",
   "execution_count": 4,
   "id": "b9077997",
   "metadata": {},
   "outputs": [
    {
     "data": {
      "text/plain": [
       "0"
      ]
     },
     "execution_count": 4,
     "metadata": {},
     "output_type": "execute_result"
    }
   ],
   "source": [
    "c = c.fillna(\"None\")\n",
    "c.isnull().sum().sum()"
   ]
  },
  {
   "cell_type": "code",
   "execution_count": 5,
   "id": "6b2e655e",
   "metadata": {},
   "outputs": [
    {
     "data": {
      "text/plain": [
       "(2580, 232)"
      ]
     },
     "execution_count": 5,
     "metadata": {},
     "output_type": "execute_result"
    }
   ],
   "source": [
    "c = pd.get_dummies(c, drop_first=True)\n",
    "\n",
    "#c = pd.get_dummies(c)\n",
    "\n",
    "c.shape"
   ]
  },
  {
   "cell_type": "code",
   "execution_count": null,
   "id": "382d3dd4",
   "metadata": {},
   "outputs": [],
   "source": []
  },
  {
   "cell_type": "code",
   "execution_count": 6,
   "id": "7fca3222",
   "metadata": {},
   "outputs": [
    {
     "data": {
      "text/plain": [
       "(2580, 39)"
      ]
     },
     "execution_count": 6,
     "metadata": {},
     "output_type": "execute_result"
    }
   ],
   "source": [
    "n = df.select_dtypes('number')\n",
    "n.shape"
   ]
  },
  {
   "cell_type": "code",
   "execution_count": 7,
   "id": "557b9bce",
   "metadata": {},
   "outputs": [
    {
     "data": {
      "text/plain": [
       "615"
      ]
     },
     "execution_count": 7,
     "metadata": {},
     "output_type": "execute_result"
    }
   ],
   "source": [
    "n.isnull().sum().sum()"
   ]
  },
  {
   "cell_type": "code",
   "execution_count": null,
   "id": "4fec3418",
   "metadata": {},
   "outputs": [],
   "source": []
  },
  {
   "cell_type": "code",
   "execution_count": 8,
   "id": "4257664d",
   "metadata": {},
   "outputs": [
    {
     "data": {
      "text/plain": [
       "(2580, 271)"
      ]
     },
     "execution_count": 8,
     "metadata": {},
     "output_type": "execute_result"
    }
   ],
   "source": [
    "full = pd.concat([c, n], axis=1)\n",
    "full.shape"
   ]
  },
  {
   "cell_type": "code",
   "execution_count": 9,
   "id": "a6e981a1",
   "metadata": {},
   "outputs": [
    {
     "data": {
      "text/plain": [
       "(1988, 271)"
      ]
     },
     "execution_count": 9,
     "metadata": {},
     "output_type": "execute_result"
    }
   ],
   "source": [
    "full = full.dropna()\n",
    "full.shape"
   ]
  },
  {
   "cell_type": "code",
   "execution_count": 10,
   "id": "cbb37871",
   "metadata": {},
   "outputs": [
    {
     "data": {
      "text/plain": [
       "0"
      ]
     },
     "execution_count": 10,
     "metadata": {},
     "output_type": "execute_result"
    }
   ],
   "source": [
    "full.isnull().sum().sum()"
   ]
  },
  {
   "cell_type": "code",
   "execution_count": null,
   "id": "e1b0d4a1",
   "metadata": {},
   "outputs": [],
   "source": []
  },
  {
   "cell_type": "markdown",
   "id": "c74943ef",
   "metadata": {},
   "source": [
    "### MLR With SFS (n=10) ###"
   ]
  },
  {
   "cell_type": "code",
   "execution_count": 11,
   "id": "f56be6c1",
   "metadata": {},
   "outputs": [],
   "source": [
    "from sklearn.feature_selection import SequentialFeatureSelector"
   ]
  },
  {
   "cell_type": "code",
   "execution_count": 12,
   "id": "013788ef",
   "metadata": {},
   "outputs": [],
   "source": [
    "y=full.SalePrice\n",
    "X=full.drop('SalePrice', axis=1)"
   ]
  },
  {
   "cell_type": "code",
   "execution_count": 13,
   "id": "18339eb4",
   "metadata": {},
   "outputs": [
    {
     "data": {
      "text/plain": [
       "LinearRegression()"
      ]
     },
     "execution_count": 13,
     "metadata": {},
     "output_type": "execute_result"
    }
   ],
   "source": [
    "regressor = LinearRegression()\n",
    "regressor.fit(X,y)"
   ]
  },
  {
   "cell_type": "code",
   "execution_count": 14,
   "id": "b397417a",
   "metadata": {},
   "outputs": [
    {
     "data": {
      "text/plain": [
       "0.9421659842747901"
      ]
     },
     "execution_count": 14,
     "metadata": {},
     "output_type": "execute_result"
    }
   ],
   "source": [
    "regressor.score(X,y)"
   ]
  },
  {
   "cell_type": "code",
   "execution_count": 15,
   "id": "0e0c2546",
   "metadata": {},
   "outputs": [],
   "source": [
    "from sklearn.model_selection import train_test_split\n",
    "X_train, X_test, y_train, y_test = train_test_split(X,y,test_size=0.30)"
   ]
  },
  {
   "cell_type": "code",
   "execution_count": 16,
   "id": "7befb5d5",
   "metadata": {},
   "outputs": [
    {
     "name": "stdout",
     "output_type": "stream",
     "text": [
      "R^2 for train set: 0.946307\n",
      "--------------------------------------------------\n",
      "R^2 for test  set: 0.898843\n"
     ]
    }
   ],
   "source": [
    "ols = LinearRegression()\n",
    "ols.fit(X_train, y_train)\n",
    "print(\"R^2 for train set: %f\" %ols.score(X_train, y_train))\n",
    "\n",
    "print('-'*50)\n",
    "\n",
    "print(\"R^2 for test  set: %f\" %ols.score(X_test, y_test))"
   ]
  },
  {
   "cell_type": "code",
   "execution_count": null,
   "id": "33fb57a6",
   "metadata": {},
   "outputs": [],
   "source": []
  },
  {
   "cell_type": "code",
   "execution_count": 17,
   "id": "93e456e0",
   "metadata": {},
   "outputs": [],
   "source": [
    "sfs_foreward = SequentialFeatureSelector(\n",
    "    regressor, n_features_to_select=10, direction=\"forward\"\n",
    ").fit(X, y)"
   ]
  },
  {
   "cell_type": "code",
   "execution_count": 18,
   "id": "3e13bae8",
   "metadata": {},
   "outputs": [
    {
     "data": {
      "text/plain": [
       "Index(['Neighborhood_NridgHt', 'Neighborhood_StoneBr', 'BsmtExposure_Gd',\n",
       "       'GrLivArea', 'MSSubClass', 'OverallQual', 'OverallCond', 'YearBuilt',\n",
       "       'BsmtFinSF1', 'GarageArea'],\n",
       "      dtype='object')"
      ]
     },
     "execution_count": 18,
     "metadata": {},
     "output_type": "execute_result"
    }
   ],
   "source": [
    "selected = X.columns[sfs_foreward.get_support()]\n",
    "selected"
   ]
  },
  {
   "cell_type": "code",
   "execution_count": 19,
   "id": "a853e88c",
   "metadata": {},
   "outputs": [
    {
     "data": {
      "text/html": [
       "<div>\n",
       "<style scoped>\n",
       "    .dataframe tbody tr th:only-of-type {\n",
       "        vertical-align: middle;\n",
       "    }\n",
       "\n",
       "    .dataframe tbody tr th {\n",
       "        vertical-align: top;\n",
       "    }\n",
       "\n",
       "    .dataframe thead th {\n",
       "        text-align: right;\n",
       "    }\n",
       "</style>\n",
       "<table border=\"1\" class=\"dataframe\">\n",
       "  <thead>\n",
       "    <tr style=\"text-align: right;\">\n",
       "      <th></th>\n",
       "      <th>Neighborhood_NridgHt</th>\n",
       "      <th>Neighborhood_StoneBr</th>\n",
       "      <th>BsmtExposure_Gd</th>\n",
       "      <th>GrLivArea</th>\n",
       "      <th>MSSubClass</th>\n",
       "      <th>OverallQual</th>\n",
       "      <th>OverallCond</th>\n",
       "      <th>YearBuilt</th>\n",
       "      <th>BsmtFinSF1</th>\n",
       "      <th>GarageArea</th>\n",
       "    </tr>\n",
       "  </thead>\n",
       "  <tbody>\n",
       "    <tr>\n",
       "      <th>1</th>\n",
       "      <td>0</td>\n",
       "      <td>0</td>\n",
       "      <td>0</td>\n",
       "      <td>1049</td>\n",
       "      <td>120</td>\n",
       "      <td>5</td>\n",
       "      <td>5</td>\n",
       "      <td>1984</td>\n",
       "      <td>552.0</td>\n",
       "      <td>266.0</td>\n",
       "    </tr>\n",
       "    <tr>\n",
       "      <th>2</th>\n",
       "      <td>0</td>\n",
       "      <td>0</td>\n",
       "      <td>0</td>\n",
       "      <td>1001</td>\n",
       "      <td>30</td>\n",
       "      <td>5</td>\n",
       "      <td>9</td>\n",
       "      <td>1930</td>\n",
       "      <td>737.0</td>\n",
       "      <td>216.0</td>\n",
       "    </tr>\n",
       "    <tr>\n",
       "      <th>3</th>\n",
       "      <td>0</td>\n",
       "      <td>0</td>\n",
       "      <td>0</td>\n",
       "      <td>1039</td>\n",
       "      <td>70</td>\n",
       "      <td>4</td>\n",
       "      <td>8</td>\n",
       "      <td>1900</td>\n",
       "      <td>0.0</td>\n",
       "      <td>281.0</td>\n",
       "    </tr>\n",
       "    <tr>\n",
       "      <th>4</th>\n",
       "      <td>0</td>\n",
       "      <td>0</td>\n",
       "      <td>0</td>\n",
       "      <td>1665</td>\n",
       "      <td>60</td>\n",
       "      <td>8</td>\n",
       "      <td>6</td>\n",
       "      <td>2001</td>\n",
       "      <td>643.0</td>\n",
       "      <td>528.0</td>\n",
       "    </tr>\n",
       "    <tr>\n",
       "      <th>5</th>\n",
       "      <td>0</td>\n",
       "      <td>0</td>\n",
       "      <td>0</td>\n",
       "      <td>1922</td>\n",
       "      <td>85</td>\n",
       "      <td>7</td>\n",
       "      <td>5</td>\n",
       "      <td>2003</td>\n",
       "      <td>0.0</td>\n",
       "      <td>672.0</td>\n",
       "    </tr>\n",
       "    <tr>\n",
       "      <th>...</th>\n",
       "      <td>...</td>\n",
       "      <td>...</td>\n",
       "      <td>...</td>\n",
       "      <td>...</td>\n",
       "      <td>...</td>\n",
       "      <td>...</td>\n",
       "      <td>...</td>\n",
       "      <td>...</td>\n",
       "      <td>...</td>\n",
       "      <td>...</td>\n",
       "    </tr>\n",
       "    <tr>\n",
       "      <th>2572</th>\n",
       "      <td>0</td>\n",
       "      <td>0</td>\n",
       "      <td>0</td>\n",
       "      <td>1242</td>\n",
       "      <td>20</td>\n",
       "      <td>4</td>\n",
       "      <td>5</td>\n",
       "      <td>1946</td>\n",
       "      <td>0.0</td>\n",
       "      <td>336.0</td>\n",
       "    </tr>\n",
       "    <tr>\n",
       "      <th>2573</th>\n",
       "      <td>0</td>\n",
       "      <td>0</td>\n",
       "      <td>0</td>\n",
       "      <td>816</td>\n",
       "      <td>30</td>\n",
       "      <td>6</td>\n",
       "      <td>8</td>\n",
       "      <td>1934</td>\n",
       "      <td>574.0</td>\n",
       "      <td>240.0</td>\n",
       "    </tr>\n",
       "    <tr>\n",
       "      <th>2574</th>\n",
       "      <td>0</td>\n",
       "      <td>0</td>\n",
       "      <td>0</td>\n",
       "      <td>1724</td>\n",
       "      <td>60</td>\n",
       "      <td>7</td>\n",
       "      <td>5</td>\n",
       "      <td>2003</td>\n",
       "      <td>0.0</td>\n",
       "      <td>616.0</td>\n",
       "    </tr>\n",
       "    <tr>\n",
       "      <th>2577</th>\n",
       "      <td>0</td>\n",
       "      <td>0</td>\n",
       "      <td>0</td>\n",
       "      <td>2002</td>\n",
       "      <td>90</td>\n",
       "      <td>5</td>\n",
       "      <td>6</td>\n",
       "      <td>1949</td>\n",
       "      <td>284.0</td>\n",
       "      <td>871.0</td>\n",
       "    </tr>\n",
       "    <tr>\n",
       "      <th>2579</th>\n",
       "      <td>0</td>\n",
       "      <td>0</td>\n",
       "      <td>0</td>\n",
       "      <td>1911</td>\n",
       "      <td>60</td>\n",
       "      <td>8</td>\n",
       "      <td>5</td>\n",
       "      <td>1993</td>\n",
       "      <td>380.0</td>\n",
       "      <td>471.0</td>\n",
       "    </tr>\n",
       "  </tbody>\n",
       "</table>\n",
       "<p>1988 rows × 10 columns</p>\n",
       "</div>"
      ],
      "text/plain": [
       "      Neighborhood_NridgHt  Neighborhood_StoneBr  BsmtExposure_Gd  GrLivArea  \\\n",
       "1                        0                     0                0       1049   \n",
       "2                        0                     0                0       1001   \n",
       "3                        0                     0                0       1039   \n",
       "4                        0                     0                0       1665   \n",
       "5                        0                     0                0       1922   \n",
       "...                    ...                   ...              ...        ...   \n",
       "2572                     0                     0                0       1242   \n",
       "2573                     0                     0                0        816   \n",
       "2574                     0                     0                0       1724   \n",
       "2577                     0                     0                0       2002   \n",
       "2579                     0                     0                0       1911   \n",
       "\n",
       "      MSSubClass  OverallQual  OverallCond  YearBuilt  BsmtFinSF1  GarageArea  \n",
       "1            120            5            5       1984       552.0       266.0  \n",
       "2             30            5            9       1930       737.0       216.0  \n",
       "3             70            4            8       1900         0.0       281.0  \n",
       "4             60            8            6       2001       643.0       528.0  \n",
       "5             85            7            5       2003         0.0       672.0  \n",
       "...          ...          ...          ...        ...         ...         ...  \n",
       "2572          20            4            5       1946         0.0       336.0  \n",
       "2573          30            6            8       1934       574.0       240.0  \n",
       "2574          60            7            5       2003         0.0       616.0  \n",
       "2577          90            5            6       1949       284.0       871.0  \n",
       "2579          60            8            5       1993       380.0       471.0  \n",
       "\n",
       "[1988 rows x 10 columns]"
      ]
     },
     "execution_count": 19,
     "metadata": {},
     "output_type": "execute_result"
    }
   ],
   "source": [
    "X = full[selected]\n",
    "X"
   ]
  },
  {
   "cell_type": "code",
   "execution_count": null,
   "id": "aff461c2",
   "metadata": {},
   "outputs": [],
   "source": []
  },
  {
   "cell_type": "code",
   "execution_count": 20,
   "id": "69d1bba5",
   "metadata": {},
   "outputs": [],
   "source": [
    "y=full.SalePrice\n",
    "X=full[selected]"
   ]
  },
  {
   "cell_type": "code",
   "execution_count": 21,
   "id": "2c88f02c",
   "metadata": {},
   "outputs": [
    {
     "data": {
      "text/plain": [
       "LinearRegression()"
      ]
     },
     "execution_count": 21,
     "metadata": {},
     "output_type": "execute_result"
    }
   ],
   "source": [
    "regressor2 = LinearRegression()\n",
    "regressor2.fit(X,y)"
   ]
  },
  {
   "cell_type": "code",
   "execution_count": 22,
   "id": "11493404",
   "metadata": {},
   "outputs": [
    {
     "data": {
      "text/plain": [
       "0.8705364411749056"
      ]
     },
     "execution_count": 22,
     "metadata": {},
     "output_type": "execute_result"
    }
   ],
   "source": [
    "regressor2.score(X,y)"
   ]
  },
  {
   "cell_type": "code",
   "execution_count": 23,
   "id": "99e5ae95",
   "metadata": {},
   "outputs": [],
   "source": [
    "from sklearn.model_selection import train_test_split\n",
    "X_train, X_test, y_train, y_test = train_test_split(X,y,test_size=0.30)"
   ]
  },
  {
   "cell_type": "code",
   "execution_count": 24,
   "id": "dd3442f1",
   "metadata": {},
   "outputs": [
    {
     "name": "stdout",
     "output_type": "stream",
     "text": [
      "R^2 for train set: 0.865488\n",
      "--------------------------------------------------\n",
      "R^2 for test  set: 0.879867\n"
     ]
    }
   ],
   "source": [
    "ols = LinearRegression()\n",
    "ols.fit(X_train, y_train)\n",
    "print(\"R^2 for train set: %f\" %ols.score(X_train, y_train))\n",
    "\n",
    "print('-'*50)\n",
    "\n",
    "print(\"R^2 for test  set: %f\" %ols.score(X_test, y_test))"
   ]
  },
  {
   "cell_type": "code",
   "execution_count": null,
   "id": "4729c1e6",
   "metadata": {},
   "outputs": [],
   "source": []
  },
  {
   "cell_type": "markdown",
   "id": "6bd89cab",
   "metadata": {},
   "source": [
    "### Stats for MLR SFS (n=10) ###"
   ]
  },
  {
   "cell_type": "code",
   "execution_count": 25,
   "id": "8a9cf751",
   "metadata": {},
   "outputs": [],
   "source": [
    "# Obtain and set x=input and y=output\n",
    "X0 = full[selected]\n",
    "y0 = full.SalePrice"
   ]
  },
  {
   "cell_type": "code",
   "execution_count": 26,
   "id": "4fe46883",
   "metadata": {},
   "outputs": [],
   "source": [
    "#Setup statsmodels.api, inputs (x, x_constant, and y)\n",
    "x_constant0 = sm.add_constant(X0)"
   ]
  },
  {
   "cell_type": "code",
   "execution_count": 27,
   "id": "bcba3550",
   "metadata": {},
   "outputs": [
    {
     "data": {
      "text/html": [
       "<table class=\"simpletable\">\n",
       "<caption>OLS Regression Results</caption>\n",
       "<tr>\n",
       "  <th>Dep. Variable:</th>        <td>SalePrice</td>    <th>  R-squared:         </th> <td>   0.871</td> \n",
       "</tr>\n",
       "<tr>\n",
       "  <th>Model:</th>                   <td>OLS</td>       <th>  Adj. R-squared:    </th> <td>   0.870</td> \n",
       "</tr>\n",
       "<tr>\n",
       "  <th>Method:</th>             <td>Least Squares</td>  <th>  F-statistic:       </th> <td>   1329.</td> \n",
       "</tr>\n",
       "<tr>\n",
       "  <th>Date:</th>             <td>Tue, 19 Apr 2022</td> <th>  Prob (F-statistic):</th>  <td>  0.00</td>  \n",
       "</tr>\n",
       "<tr>\n",
       "  <th>Time:</th>                 <td>07:19:25</td>     <th>  Log-Likelihood:    </th> <td> -23186.</td> \n",
       "</tr>\n",
       "<tr>\n",
       "  <th>No. Observations:</th>      <td>  1988</td>      <th>  AIC:               </th> <td>4.639e+04</td>\n",
       "</tr>\n",
       "<tr>\n",
       "  <th>Df Residuals:</th>          <td>  1977</td>      <th>  BIC:               </th> <td>4.646e+04</td>\n",
       "</tr>\n",
       "<tr>\n",
       "  <th>Df Model:</th>              <td>    10</td>      <th>                     </th>     <td> </td>    \n",
       "</tr>\n",
       "<tr>\n",
       "  <th>Covariance Type:</th>      <td>nonrobust</td>    <th>                     </th>     <td> </td>    \n",
       "</tr>\n",
       "</table>\n",
       "<table class=\"simpletable\">\n",
       "<tr>\n",
       "            <td></td>              <th>coef</th>     <th>std err</th>      <th>t</th>      <th>P>|t|</th>  <th>[0.025</th>    <th>0.975]</th>  \n",
       "</tr>\n",
       "<tr>\n",
       "  <th>const</th>                <td>-8.858e+05</td> <td> 6.03e+04</td> <td>  -14.685</td> <td> 0.000</td> <td>   -1e+06</td> <td>-7.67e+05</td>\n",
       "</tr>\n",
       "<tr>\n",
       "  <th>Neighborhood_NridgHt</th> <td> 3.973e+04</td> <td> 2980.350</td> <td>   13.330</td> <td> 0.000</td> <td> 3.39e+04</td> <td> 4.56e+04</td>\n",
       "</tr>\n",
       "<tr>\n",
       "  <th>Neighborhood_StoneBr</th> <td> 5.109e+04</td> <td> 4773.595</td> <td>   10.703</td> <td> 0.000</td> <td> 4.17e+04</td> <td> 6.05e+04</td>\n",
       "</tr>\n",
       "<tr>\n",
       "  <th>BsmtExposure_Gd</th>      <td> 2.592e+04</td> <td> 2408.538</td> <td>   10.760</td> <td> 0.000</td> <td> 2.12e+04</td> <td> 3.06e+04</td>\n",
       "</tr>\n",
       "<tr>\n",
       "  <th>GrLivArea</th>            <td>   64.9303</td> <td>    1.746</td> <td>   37.195</td> <td> 0.000</td> <td>   61.507</td> <td>   68.354</td>\n",
       "</tr>\n",
       "<tr>\n",
       "  <th>MSSubClass</th>           <td> -239.7097</td> <td>   15.329</td> <td>  -15.638</td> <td> 0.000</td> <td> -269.772</td> <td> -209.648</td>\n",
       "</tr>\n",
       "<tr>\n",
       "  <th>OverallQual</th>          <td> 1.675e+04</td> <td>  748.055</td> <td>   22.386</td> <td> 0.000</td> <td> 1.53e+04</td> <td> 1.82e+04</td>\n",
       "</tr>\n",
       "<tr>\n",
       "  <th>OverallCond</th>          <td> 6021.4027</td> <td>  673.520</td> <td>    8.940</td> <td> 0.000</td> <td> 4700.519</td> <td> 7342.287</td>\n",
       "</tr>\n",
       "<tr>\n",
       "  <th>YearBuilt</th>            <td>  408.9691</td> <td>   30.771</td> <td>   13.291</td> <td> 0.000</td> <td>  348.622</td> <td>  469.317</td>\n",
       "</tr>\n",
       "<tr>\n",
       "  <th>BsmtFinSF1</th>           <td>   30.1079</td> <td>    1.641</td> <td>   18.346</td> <td> 0.000</td> <td>   26.889</td> <td>   33.326</td>\n",
       "</tr>\n",
       "<tr>\n",
       "  <th>GarageArea</th>           <td>   45.7064</td> <td>    4.479</td> <td>   10.206</td> <td> 0.000</td> <td>   36.923</td> <td>   54.489</td>\n",
       "</tr>\n",
       "</table>\n",
       "<table class=\"simpletable\">\n",
       "<tr>\n",
       "  <th>Omnibus:</th>       <td>532.419</td> <th>  Durbin-Watson:     </th> <td>   2.039</td> \n",
       "</tr>\n",
       "<tr>\n",
       "  <th>Prob(Omnibus):</th> <td> 0.000</td>  <th>  Jarque-Bera (JB):  </th> <td>42832.103</td>\n",
       "</tr>\n",
       "<tr>\n",
       "  <th>Skew:</th>          <td> 0.130</td>  <th>  Prob(JB):          </th> <td>    0.00</td> \n",
       "</tr>\n",
       "<tr>\n",
       "  <th>Kurtosis:</th>      <td>25.738</td>  <th>  Cond. No.          </th> <td>2.46e+05</td> \n",
       "</tr>\n",
       "</table><br/><br/>Notes:<br/>[1] Standard Errors assume that the covariance matrix of the errors is correctly specified.<br/>[2] The condition number is large, 2.46e+05. This might indicate that there are<br/>strong multicollinearity or other numerical problems."
      ],
      "text/plain": [
       "<class 'statsmodels.iolib.summary.Summary'>\n",
       "\"\"\"\n",
       "                            OLS Regression Results                            \n",
       "==============================================================================\n",
       "Dep. Variable:              SalePrice   R-squared:                       0.871\n",
       "Model:                            OLS   Adj. R-squared:                  0.870\n",
       "Method:                 Least Squares   F-statistic:                     1329.\n",
       "Date:                Tue, 19 Apr 2022   Prob (F-statistic):               0.00\n",
       "Time:                        07:19:25   Log-Likelihood:                -23186.\n",
       "No. Observations:                1988   AIC:                         4.639e+04\n",
       "Df Residuals:                    1977   BIC:                         4.646e+04\n",
       "Df Model:                          10                                         \n",
       "Covariance Type:            nonrobust                                         \n",
       "========================================================================================\n",
       "                           coef    std err          t      P>|t|      [0.025      0.975]\n",
       "----------------------------------------------------------------------------------------\n",
       "const                -8.858e+05   6.03e+04    -14.685      0.000      -1e+06   -7.67e+05\n",
       "Neighborhood_NridgHt  3.973e+04   2980.350     13.330      0.000    3.39e+04    4.56e+04\n",
       "Neighborhood_StoneBr  5.109e+04   4773.595     10.703      0.000    4.17e+04    6.05e+04\n",
       "BsmtExposure_Gd       2.592e+04   2408.538     10.760      0.000    2.12e+04    3.06e+04\n",
       "GrLivArea               64.9303      1.746     37.195      0.000      61.507      68.354\n",
       "MSSubClass            -239.7097     15.329    -15.638      0.000    -269.772    -209.648\n",
       "OverallQual           1.675e+04    748.055     22.386      0.000    1.53e+04    1.82e+04\n",
       "OverallCond           6021.4027    673.520      8.940      0.000    4700.519    7342.287\n",
       "YearBuilt              408.9691     30.771     13.291      0.000     348.622     469.317\n",
       "BsmtFinSF1              30.1079      1.641     18.346      0.000      26.889      33.326\n",
       "GarageArea              45.7064      4.479     10.206      0.000      36.923      54.489\n",
       "==============================================================================\n",
       "Omnibus:                      532.419   Durbin-Watson:                   2.039\n",
       "Prob(Omnibus):                  0.000   Jarque-Bera (JB):            42832.103\n",
       "Skew:                           0.130   Prob(JB):                         0.00\n",
       "Kurtosis:                      25.738   Cond. No.                     2.46e+05\n",
       "==============================================================================\n",
       "\n",
       "Notes:\n",
       "[1] Standard Errors assume that the covariance matrix of the errors is correctly specified.\n",
       "[2] The condition number is large, 2.46e+05. This might indicate that there are\n",
       "strong multicollinearity or other numerical problems.\n",
       "\"\"\""
      ]
     },
     "execution_count": 27,
     "metadata": {},
     "output_type": "execute_result"
    }
   ],
   "source": [
    "#Run OLS with statsmodels\n",
    "lin_reg0 = sm.OLS(y0,x_constant0).fit()\n",
    "lin_reg0.summary()"
   ]
  },
  {
   "cell_type": "code",
   "execution_count": null,
   "id": "d35884ef",
   "metadata": {},
   "outputs": [],
   "source": []
  },
  {
   "cell_type": "code",
   "execution_count": null,
   "id": "399c4287",
   "metadata": {},
   "outputs": [],
   "source": []
  }
 ],
 "metadata": {
  "hide_input": false,
  "kernelspec": {
   "display_name": "Python 3 (ipykernel)",
   "language": "python",
   "name": "python3"
  },
  "language_info": {
   "codemirror_mode": {
    "name": "ipython",
    "version": 3
   },
   "file_extension": ".py",
   "mimetype": "text/x-python",
   "name": "python",
   "nbconvert_exporter": "python",
   "pygments_lexer": "ipython3",
   "version": "3.8.8"
  },
  "varInspector": {
   "cols": {
    "lenName": 16,
    "lenType": 16,
    "lenVar": 40
   },
   "kernels_config": {
    "python": {
     "delete_cmd_postfix": "",
     "delete_cmd_prefix": "del ",
     "library": "var_list.py",
     "varRefreshCmd": "print(var_dic_list())"
    },
    "r": {
     "delete_cmd_postfix": ") ",
     "delete_cmd_prefix": "rm(",
     "library": "var_list.r",
     "varRefreshCmd": "cat(var_dic_list()) "
    }
   },
   "types_to_exclude": [
    "module",
    "function",
    "builtin_function_or_method",
    "instance",
    "_Feature"
   ],
   "window_display": false
  }
 },
 "nbformat": 4,
 "nbformat_minor": 5
}
