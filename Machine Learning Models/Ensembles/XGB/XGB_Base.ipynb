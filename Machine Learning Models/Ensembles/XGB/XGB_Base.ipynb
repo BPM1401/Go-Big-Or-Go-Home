{
 "cells": [
  {
   "cell_type": "code",
   "execution_count": 1,
   "id": "46e60582",
   "metadata": {},
   "outputs": [
    {
     "name": "stdout",
     "output_type": "stream",
     "text": [
      "1.5.0\n"
     ]
    }
   ],
   "source": [
    "import xgboost\n",
    "print(xgboost.__version__)"
   ]
  },
  {
   "cell_type": "code",
   "execution_count": 2,
   "id": "ea339a75",
   "metadata": {},
   "outputs": [],
   "source": [
    "import numpy as np # linear algebra\n",
    "import pandas as pd # data processing, CSV file I/O (e.g. pd.read_csv)"
   ]
  },
  {
   "cell_type": "code",
   "execution_count": 3,
   "id": "5e9210e9",
   "metadata": {},
   "outputs": [],
   "source": [
    "from xgboost import XGBRegressor\n",
    "from sklearn.ensemble import RandomForestRegressor\n",
    "from sklearn.linear_model import Ridge\n",
    "from sklearn.model_selection import train_test_split, cross_val_score, GridSearchCV\n",
    "from sklearn.preprocessing import OrdinalEncoder\n",
    "from sklearn.metrics import mean_squared_log_error, r2_score\n",
    "from statistics import mean, mode, median\n",
    "import statsmodels.api as sma\n",
    "from statsmodels.stats.outliers_influence import variance_inflation_factor\n",
    "from scipy.stats import kurtosis\n",
    "import seaborn as sns \n",
    "import matplotlib.pyplot as plt\n",
    "from matplotlib import ticker\n",
    "from matplotlib import rcParams\n",
    "from sklearn.preprocessing import StandardScaler"
   ]
  },
  {
   "cell_type": "code",
   "execution_count": 4,
   "id": "5ccc7804",
   "metadata": {},
   "outputs": [],
   "source": [
    "base = pd.read_csv('../Data/BaseData.csv')"
   ]
  },
  {
   "cell_type": "code",
   "execution_count": 5,
   "id": "04ad03f0",
   "metadata": {},
   "outputs": [
    {
     "data": {
      "text/plain": [
       "(2580, 299)"
      ]
     },
     "execution_count": 5,
     "metadata": {},
     "output_type": "execute_result"
    }
   ],
   "source": [
    "base.shape"
   ]
  },
  {
   "cell_type": "code",
   "execution_count": 6,
   "id": "d1afd25d",
   "metadata": {},
   "outputs": [],
   "source": [
    "xgb = XGBRegressor()"
   ]
  },
  {
   "cell_type": "code",
   "execution_count": 7,
   "id": "b328d25c",
   "metadata": {},
   "outputs": [],
   "source": [
    "X = base.drop(['SalePrice'], axis=1).values\n",
    "y = base.SalePrice.values"
   ]
  },
  {
   "cell_type": "code",
   "execution_count": 8,
   "id": "72ff8f0b",
   "metadata": {},
   "outputs": [
    {
     "data": {
      "text/plain": [
       "XGBRegressor(base_score=0.5, booster='gbtree', colsample_bylevel=1,\n",
       "             colsample_bynode=1, colsample_bytree=1, enable_categorical=False,\n",
       "             gamma=0, gpu_id=-1, importance_type=None,\n",
       "             interaction_constraints='', learning_rate=0.300000012,\n",
       "             max_delta_step=0, max_depth=6, min_child_weight=1, missing=nan,\n",
       "             monotone_constraints='()', n_estimators=100, n_jobs=8,\n",
       "             num_parallel_tree=1, predictor='auto', random_state=0, reg_alpha=0,\n",
       "             reg_lambda=1, scale_pos_weight=1, subsample=1, tree_method='exact',\n",
       "             validate_parameters=1, verbosity=None)"
      ]
     },
     "execution_count": 8,
     "metadata": {},
     "output_type": "execute_result"
    }
   ],
   "source": [
    "xgb.fit(X,y)"
   ]
  },
  {
   "cell_type": "code",
   "execution_count": 9,
   "id": "d817938c",
   "metadata": {},
   "outputs": [
    {
     "data": {
      "text/plain": [
       "0.9984031075595289"
      ]
     },
     "execution_count": 9,
     "metadata": {},
     "output_type": "execute_result"
    }
   ],
   "source": [
    "xgb.score(X,y)"
   ]
  },
  {
   "cell_type": "code",
   "execution_count": 10,
   "id": "ac607be4",
   "metadata": {},
   "outputs": [
    {
     "data": {
      "text/plain": [
       "[('OverallQual', 0.39715126),\n",
       " ('GarageCars', 0.08532192),\n",
       " ('BsmtCond_Fa', 0.06479055),\n",
       " ('GrLivArea', 0.046799008),\n",
       " ('Neighborhood_Veenker', 0.024265682),\n",
       " ('TotalBsmtSF', 0.023196483),\n",
       " ('CentralAir_Y', 0.018222995),\n",
       " ('MSZoning_RM', 0.017491244),\n",
       " ('FireplaceQu_None', 0.015315327),\n",
       " ('BsmtQual_Gd', 0.012109374),\n",
       " ('1stFlrSF', 0.010599186),\n",
       " ('PavedDrive_Y', 0.009888931),\n",
       " ('YearBuilt', 0.009863658),\n",
       " ('BsmtFinSF1', 0.009328845),\n",
       " ('Neighborhood_Edwards', 0.008787639),\n",
       " ('GarageArea', 0.008685236),\n",
       " ('GarageType_None', 0.008452928),\n",
       " ('KitchenQual_TA', 0.008421155),\n",
       " ('BsmtFinType1_GLQ', 0.0074977945),\n",
       " ('SaleCondition_Family', 0.007019675),\n",
       " ('BsmtFullBath', 0.006679238),\n",
       " ('SaleType_New', 0.006671398),\n",
       " ('BsmtExposure_Gd', 0.0056451303),\n",
       " ('GarageCond_TA', 0.0054668984),\n",
       " ('GarageType_Detchd', 0.004723312),\n",
       " ('YearRemodAdd', 0.004459597),\n",
       " ('SaleCondition_Partial', 0.0043309038),\n",
       " ('MSSubClass_190', 0.0042585935),\n",
       " ('LotArea', 0.0041622836),\n",
       " ('Neighborhood_Crawfor', 0.0041106925),\n",
       " ('Fireplaces', 0.004101872),\n",
       " ('Functional_Min1', 0.0040189223),\n",
       " ('LotShape_IR3', 0.0039591407),\n",
       " ('KitchenAbvGr', 0.0039367513),\n",
       " ('Foundation_Wood', 0.003919406),\n",
       " ('SaleType_WD ', 0.0037641006),\n",
       " ('GarageQual_Po', 0.0034224426),\n",
       " ('OverallCond', 0.003205165),\n",
       " ('FireplaceQu_Po', 0.0030540002),\n",
       " ('Neighborhood_Somerst', 0.003013409),\n",
       " ('Exterior2nd_CmentBd', 0.0028681478),\n",
       " ('BsmtQual_TA', 0.0027796766),\n",
       " ('Neighborhood_ClearCr', 0.0027126616),\n",
       " ('Exterior1st_BrkFace', 0.0026300282),\n",
       " ('MasVnrArea', 0.0025421665),\n",
       " ('HeatingQC_TA', 0.0024686053),\n",
       " ('Electrical_FuseF', 0.002414896),\n",
       " ('HalfBath', 0.002376554),\n",
       " ('Condition1_RRAe', 0.0023363482),\n",
       " ('FullBath', 0.002221867),\n",
       " ('2ndFlrSF', 0.002161404),\n",
       " ('ScreenPorch', 0.0021011867),\n",
       " ('MSZoning_RL', 0.002041685),\n",
       " ('Neighborhood_NWAmes', 0.001970573),\n",
       " ('PavedDrive_P', 0.0018669693),\n",
       " ('TotRmsAbvGrd', 0.0018553105),\n",
       " ('LandContour_HLS', 0.0018494097),\n",
       " ('Exterior1st_HdBoard', 0.0017251555),\n",
       " ('Functional_Typ', 0.0017157425),\n",
       " ('SaleCondition_Normal', 0.0016718021),\n",
       " ('MSSubClass_160', 0.0016052921),\n",
       " ('Neighborhood_GrnHill', 0.0016025105),\n",
       " ('PID', 0.0015508891),\n",
       " ('KitchenQual_Fa', 0.0015092188),\n",
       " ('KitchenQual_Gd', 0.0014434129),\n",
       " ('Alley_None', 0.0014061845),\n",
       " ('Heating_GasW', 0.0013279137),\n",
       " ('Neighborhood_Timber', 0.0013202011),\n",
       " ('GarageFinish_Unf', 0.0012941089),\n",
       " ('BsmtExposure_Mn', 0.0012834269),\n",
       " ('Foundation_PConc', 0.0012122592),\n",
       " ('LotConfig_FR3', 0.0012048584),\n",
       " ('Condition1_Norm', 0.0011776966),\n",
       " ('LotFrontage', 0.0010764076),\n",
       " ('GarageYrBlt', 0.0010688661),\n",
       " ('MSSubClass_40', 0.0010616113),\n",
       " ('MoSold_8', 0.0009842791),\n",
       " ('MasVnrType_Stone', 0.0009543347),\n",
       " ('MSZoning_C (all)', 0.00094695634),\n",
       " ('Neighborhood_StoneBr', 0.0009444013),\n",
       " ('FireplaceQu_Gd', 0.0009237007),\n",
       " ('BsmtCond_Gd', 0.00091838907),\n",
       " ('MoSold_5', 0.0008926264),\n",
       " ('LandSlope_Mod', 0.0008915544),\n",
       " ('SaleType_ConLI', 0.00086651155),\n",
       " ('MoSold_10', 0.0008650175),\n",
       " ('BsmtFinSF2', 0.0008569496),\n",
       " ('ExterCond_Fa', 0.0008502024),\n",
       " ('Exterior1st_BrkComm', 0.00083041115),\n",
       " ('MoSold_4', 0.0008276644),\n",
       " ('BsmtUnfSF', 0.00082652364),\n",
       " ('Exterior1st_VinylSd', 0.0008253355),\n",
       " ('Foundation_Slab', 0.00079938245),\n",
       " ('Neighborhood_SawyerW', 0.00078965275),\n",
       " ('Neighborhood_NAmes', 0.00078625005),\n",
       " ('BsmtFinType1_Rec', 0.0007652876),\n",
       " ('Condition1_PosN', 0.00074697175),\n",
       " ('Exterior1st_Plywood', 0.0007463927),\n",
       " ('ExterCond_Gd', 0.00069956237),\n",
       " ('OpenPorchSF', 0.0006728675),\n",
       " ('BedroomAbvGr', 0.0006666576),\n",
       " ('SaleType_Oth', 0.00063312094),\n",
       " ('YrSold_2007', 0.0006329383),\n",
       " ('WoodDeckSF', 0.0006153656),\n",
       " ('MoSold_9', 0.00058518746),\n",
       " ('BsmtFinType2_LwQ', 0.00057972566),\n",
       " ('3SsnPorch', 0.0005773404),\n",
       " ('MSZoning_FV', 0.00057487865),\n",
       " ('MoSold_3', 0.0005742024),\n",
       " ('GarageType_BuiltIn', 0.00056521734),\n",
       " ('GarageType_Attchd', 0.0005597791),\n",
       " ('LotConfig_CulDSac', 0.0005564953),\n",
       " ('Neighborhood_BrkSide', 0.00054856925),\n",
       " ('MoSold_7', 0.0005460327),\n",
       " ('Neighborhood_CollgCr', 0.0005451079),\n",
       " ('Functional_Maj2', 0.0005442319),\n",
       " ('MoSold_12', 0.0005392623),\n",
       " ('HouseStyle_1Story', 0.0005297811),\n",
       " ('Exterior1st_MetalSd', 0.0005145698),\n",
       " ('Neighborhood_Gilbert', 0.0005136893),\n",
       " ('RoofStyle_Hip', 0.0005094276),\n",
       " ('LowQualFinSF', 0.00050548115),\n",
       " ('Fence_GdWo', 0.00050136296),\n",
       " ('MSSubClass_50', 0.0004921026),\n",
       " ('YrSold_2010', 0.00049084297),\n",
       " ('MSSubClass_85', 0.00048767714),\n",
       " ('BsmtCond_TA', 0.00047755663),\n",
       " ('Unnamed: 0.1', 0.00047099462),\n",
       " ('Fence_MnPrv', 0.00044735018),\n",
       " ('Neighborhood_NoRidge', 0.00042626783),\n",
       " ('MSSubClass_80', 0.00042561913),\n",
       " ('YrSold_2009', 0.00042557833),\n",
       " ('Neighborhood_IDOTRR', 0.00041772408),\n",
       " ('GarageCond_Po', 0.00041521603),\n",
       " ('Condition1_PosA', 0.0004015419),\n",
       " ('BsmtFinType1_BLQ', 0.00039390617),\n",
       " ('BsmtFinType2_BLQ', 0.00038797662),\n",
       " ('BsmtHalfBath', 0.00038510084),\n",
       " ('Condition1_Feedr', 0.0003830394),\n",
       " ('Exterior2nd_Plywood', 0.00038135026),\n",
       " ('GarageFinish_RFn', 0.00038118928),\n",
       " ('MoSold_2', 0.00035961287),\n",
       " ('EnclosedPorch', 0.00035824883),\n",
       " ('RoofMatl_WdShngl', 0.00034146785),\n",
       " ('MSSubClass_30', 0.00034117536),\n",
       " ('Neighborhood_NridgHt', 0.0003338495),\n",
       " ('HouseStyle_SLvl', 0.00032000666),\n",
       " ('HeatingQC_Gd', 0.00031395975),\n",
       " ('Exterior1st_AsphShn', 0.0003094036),\n",
       " ('MasVnrType_BrkFace', 0.0003056674),\n",
       " ('Alley_Pave', 0.00030184278),\n",
       " ('RoofStyle_Gable', 0.00029815413),\n",
       " ('Neighborhood_SWISU', 0.00029143994),\n",
       " ('ExterQual_Gd', 0.00028936454),\n",
       " ('BsmtFinType1_LwQ', 0.00028320862),\n",
       " ('FireplaceQu_TA', 0.000279202),\n",
       " ('BsmtQual_Fa', 0.00027572844),\n",
       " ('MoSold_6', 0.00026859294),\n",
       " ('BsmtExposure_No', 0.0002565589),\n",
       " ('Unnamed: 0', 0.00025305836),\n",
       " ('Functional_Mod', 0.0002494332),\n",
       " ('YrSold_2008', 0.00024759307),\n",
       " ('Neighborhood_Mitchel', 0.00024220766),\n",
       " ('GarageCond_Fa', 0.0002404767),\n",
       " ('Exterior1st_WdShing', 0.00023115416),\n",
       " ('HeatingQC_Fa', 0.00022988478),\n",
       " ('LotConfig_Inside', 0.00022866072),\n",
       " ('Exterior2nd_MetalSd', 0.0002275098),\n",
       " ('GarageType_Basment', 0.00022645986),\n",
       " ('Condition1_RRNn', 0.00022579965),\n",
       " ('Neighborhood_OldTown', 0.00022327968),\n",
       " ('LotShape_Reg', 0.00021819942),\n",
       " ('MiscVal', 0.00021111053),\n",
       " ('GarageCond_Gd', 0.00020345385),\n",
       " ('FireplaceQu_Fa', 0.00020171682),\n",
       " ('LotShape_IR2', 0.00019890525),\n",
       " ('BsmtExposure_None', 0.00019709434),\n",
       " ('MoSold_11', 0.0001722969),\n",
       " ('Neighborhood_Sawyer', 0.00017065552),\n",
       " ('BsmtFinType1_Unf', 0.00016919865),\n",
       " ('Electrical_SBrkr', 0.0001611012),\n",
       " ('Exterior2nd_HdBoard', 0.00015240538),\n",
       " ('MSSubClass_90', 0.00015220129),\n",
       " ('Foundation_CBlock', 0.00014725575),\n",
       " ('ExterQual_TA', 0.00014163001),\n",
       " ('MSSubClass_20', 0.00013972643),\n",
       " ('ExterQual_Fa', 0.0001393087),\n",
       " ('Exterior2nd_VinylSd', 0.00013927954),\n",
       " ('Exterior2nd_Wd Sdng', 0.00013851935),\n",
       " ('Fence_None', 0.00013730615),\n",
       " ('Exterior2nd_ImStucc', 0.00012384141),\n",
       " ('MSZoning_RH', 0.000121938574),\n",
       " ('MSSubClass_45', 0.000121875295),\n",
       " ('MSSubClass_60', 0.00011907526),\n",
       " ('Exterior1st_Wd Sdng', 0.00011613852),\n",
       " ('MasVnrType_None', 0.00010719727),\n",
       " ('LandContour_Low', 0.00010101131),\n",
       " ('MSSubClass_70', 9.333826e-05),\n",
       " ('LotConfig_FR2', 9.226033e-05),\n",
       " ('LandContour_Lvl', 9.192678e-05),\n",
       " ('PoolArea', 9.17151e-05),\n",
       " ('ExterCond_TA', 8.358022e-05),\n",
       " ('Condition1_RRAn', 7.740544e-05),\n",
       " ('MiscFeature_None', 7.6045486e-05),\n",
       " ('GarageQual_TA', 7.297997e-05),\n",
       " ('Exterior1st_CemntBd', 7.086532e-05),\n",
       " ('SaleType_ConLw', 6.781478e-05),\n",
       " ('BldgType_2fmCon', 5.779974e-05),\n",
       " ('BldgType_Twnhs', 5.3844786e-05),\n",
       " ('PoolQC_Gd', 4.990404e-05),\n",
       " ('BldgType_TwnhsE', 4.7850477e-05),\n",
       " ('BsmtFinType2_GLQ', 3.7528513e-05),\n",
       " ('Exterior1st_ImStucc', 3.7480055e-05),\n",
       " ('HouseStyle_2Story', 3.5806945e-05),\n",
       " ('GarageQual_Fa', 2.3046225e-05),\n",
       " ('Exterior2nd_Stucco', 2.057458e-05),\n",
       " ('Condition2_Feedr', 2.0550266e-05),\n",
       " ('Exterior2nd_Wd Shng', 1.9399527e-05),\n",
       " ('BsmtFinType2_Unf', 1.7010669e-05),\n",
       " ('MSSubClass_75', 1.0368446e-05),\n",
       " ('Street_Pave', 5.8971777e-06),\n",
       " ('MSSubClass_180', 1.726035e-06),\n",
       " ('MSSubClass_150', 0.0),\n",
       " ('MSZoning_I (all)', 0.0),\n",
       " ('Utilities_NoSewr', 0.0),\n",
       " ('LandSlope_Sev', 0.0),\n",
       " ('Neighborhood_Blueste', 0.0),\n",
       " ('Neighborhood_BrDale', 0.0),\n",
       " ('Neighborhood_Greens', 0.0),\n",
       " ('Neighborhood_Landmrk', 0.0),\n",
       " ('Neighborhood_MeadowV', 0.0),\n",
       " ('Neighborhood_NPkVill', 0.0),\n",
       " ('Condition1_RRNe', 0.0),\n",
       " ('Condition2_Norm', 0.0),\n",
       " ('Condition2_PosA', 0.0),\n",
       " ('Condition2_PosN', 0.0),\n",
       " ('Condition2_RRAe', 0.0),\n",
       " ('Condition2_RRAn', 0.0),\n",
       " ('Condition2_RRNn', 0.0),\n",
       " ('BldgType_Duplex', 0.0),\n",
       " ('HouseStyle_1.5Unf', 0.0),\n",
       " ('HouseStyle_2.5Fin', 0.0),\n",
       " ('HouseStyle_2.5Unf', 0.0),\n",
       " ('HouseStyle_SFoyer', 0.0),\n",
       " ('RoofStyle_Gambrel', 0.0),\n",
       " ('RoofStyle_Mansard', 0.0),\n",
       " ('RoofStyle_Shed', 0.0),\n",
       " ('RoofMatl_Membran', 0.0),\n",
       " ('RoofMatl_Metal', 0.0),\n",
       " ('RoofMatl_Roll', 0.0),\n",
       " ('RoofMatl_Tar&Grv', 0.0),\n",
       " ('RoofMatl_WdShake', 0.0),\n",
       " ('Exterior1st_CBlock', 0.0),\n",
       " ('Exterior1st_PreCast', 0.0),\n",
       " ('Exterior1st_Stucco', 0.0),\n",
       " ('Exterior2nd_AsphShn', 0.0),\n",
       " ('Exterior2nd_Brk Cmn', 0.0),\n",
       " ('Exterior2nd_BrkFace', 0.0),\n",
       " ('Exterior2nd_CBlock', 0.0),\n",
       " ('Exterior2nd_PreCast', 0.0),\n",
       " ('Exterior2nd_Stone', 0.0),\n",
       " ('ExterCond_Po', 0.0),\n",
       " ('Foundation_Stone', 0.0),\n",
       " ('BsmtQual_None', 0.0),\n",
       " ('BsmtQual_Po', 0.0),\n",
       " ('BsmtCond_None', 0.0),\n",
       " ('BsmtCond_Po', 0.0),\n",
       " ('BsmtFinType1_None', 0.0),\n",
       " ('BsmtFinType2_None', 0.0),\n",
       " ('BsmtFinType2_Rec', 0.0),\n",
       " ('Heating_GasA', 0.0),\n",
       " ('Heating_Grav', 0.0),\n",
       " ('Heating_OthW', 0.0),\n",
       " ('Heating_Wall', 0.0),\n",
       " ('HeatingQC_Po', 0.0),\n",
       " ('Electrical_FuseP', 0.0),\n",
       " ('Electrical_None', 0.0),\n",
       " ('KitchenQual_Po', 0.0),\n",
       " ('Functional_Min2', 0.0),\n",
       " ('Functional_Sal', 0.0),\n",
       " ('GarageType_CarPort', 0.0),\n",
       " ('GarageFinish_None', 0.0),\n",
       " ('GarageQual_Gd', 0.0),\n",
       " ('GarageQual_None', 0.0),\n",
       " ('GarageCond_None', 0.0),\n",
       " ('PoolQC_Fa', 0.0),\n",
       " ('PoolQC_None', 0.0),\n",
       " ('PoolQC_TA', 0.0),\n",
       " ('Fence_MnWw', 0.0),\n",
       " ('MiscFeature_Othr', 0.0),\n",
       " ('MiscFeature_Shed', 0.0),\n",
       " ('MiscFeature_TenC', 0.0),\n",
       " ('SaleType_CWD', 0.0),\n",
       " ('SaleType_Con', 0.0),\n",
       " ('SaleType_ConLD', 0.0),\n",
       " ('SaleType_VWD', 0.0),\n",
       " ('SaleCondition_AdjLand', 0.0),\n",
       " ('SaleCondition_Alloca', 0.0)]"
      ]
     },
     "execution_count": 10,
     "metadata": {},
     "output_type": "execute_result"
    }
   ],
   "source": [
    "X_cols = base.drop(['SalePrice'], axis=1).columns\n",
    "sorted_importance = sorted(zip(X_cols, xgb.feature_importances_), key=lambda t:t[1], reverse=True)\n",
    "sorted_importance"
   ]
  },
  {
   "cell_type": "code",
   "execution_count": 11,
   "id": "c3bcb227",
   "metadata": {},
   "outputs": [
    {
     "data": {
      "image/png": "[encoded data removed]",
      "text/plain": [
       "<Figure size 432x288 with 1 Axes>"
      ]
     },
     "metadata": {
      "needs_background": "light"
     },
     "output_type": "display_data"
    }
   ],
   "source": [
    "a, b = zip(*sorted_importance[0:15]) # this splits the list of tuples into two lists\n",
    "pd.DataFrame({'feature_name':a, 'importance_score':b}).plot.bar(x='feature_name',y='importance_score', legend=None)\n",
    "plt.title('Top 15 Feature Importance Plot of Basic XGB');"
   ]
  },
  {
   "cell_type": "markdown",
   "id": "1d11a3b5",
   "metadata": {},
   "source": [
    "## No Scaling......vs ##"
   ]
  },
  {
   "cell_type": "code",
   "execution_count": 12,
   "id": "8f3c4045",
   "metadata": {},
   "outputs": [],
   "source": [
    "X_train, X_test, y_train, y_test = train_test_split(X, y, train_size=0.7)"
   ]
  },
  {
   "cell_type": "code",
   "execution_count": 13,
   "id": "d898d452",
   "metadata": {},
   "outputs": [
    {
     "data": {
      "text/plain": [
       "XGBRegressor(base_score=0.5, booster='gbtree', colsample_bylevel=1,\n",
       "             colsample_bynode=1, colsample_bytree=1, enable_categorical=False,\n",
       "             gamma=0, gpu_id=-1, importance_type=None,\n",
       "             interaction_constraints='', learning_rate=0.300000012,\n",
       "             max_delta_step=0, max_depth=6, min_child_weight=1, missing=nan,\n",
       "             monotone_constraints='()', n_estimators=100, n_jobs=8,\n",
       "             num_parallel_tree=1, predictor='auto', random_state=0, reg_alpha=0,\n",
       "             reg_lambda=1, scale_pos_weight=1, subsample=1, tree_method='exact',\n",
       "             validate_parameters=1, verbosity=None)"
      ]
     },
     "execution_count": 13,
     "metadata": {},
     "output_type": "execute_result"
    }
   ],
   "source": [
    "xgb.fit(X_train,y_train)"
   ]
  },
  {
   "cell_type": "code",
   "execution_count": 14,
   "id": "9834764a",
   "metadata": {},
   "outputs": [
    {
     "data": {
      "text/plain": [
       "0.9992876177409592"
      ]
     },
     "execution_count": 14,
     "metadata": {},
     "output_type": "execute_result"
    }
   ],
   "source": [
    "xgb.score(X_train, y_train)"
   ]
  },
  {
   "cell_type": "code",
   "execution_count": 15,
   "id": "d3f1d6d6",
   "metadata": {},
   "outputs": [
    {
     "data": {
      "text/plain": [
       "0.9187227594804701"
      ]
     },
     "execution_count": 15,
     "metadata": {},
     "output_type": "execute_result"
    }
   ],
   "source": [
    "xgb.score(X_test, y_test)"
   ]
  },
  {
   "cell_type": "code",
   "execution_count": 16,
   "id": "457da6d3",
   "metadata": {},
   "outputs": [],
   "source": [
    "predicted_value = xgb.predict(X_test)\n",
    "true_value = y_test"
   ]
  },
  {
   "cell_type": "code",
   "execution_count": 17,
   "id": "733f7a2a",
   "metadata": {},
   "outputs": [
    {
     "data": {
      "image/png": "[encoded data removed]",
      "text/plain": [
       "<Figure size 720x720 with 1 Axes>"
      ]
     },
     "metadata": {
      "needs_background": "light"
     },
     "output_type": "display_data"
    }
   ],
   "source": [
    "plt.figure(figsize=(10,10))\n",
    "plt.scatter(predicted_value, true_value, c='crimson')\n",
    "#plt.yscale('log')\n",
    "#plt.xscale('log')\n",
    "\n",
    "plt.title('Gradient Boosting Regressor Base')\n",
    "p1 = max(max(predicted_value), max(true_value))\n",
    "p2 = min(min(predicted_value), min(true_value))\n",
    "plt.plot([p1, p2], [p1, p2], 'b-')\n",
    "plt.xlabel('Predictions', fontsize=15)\n",
    "plt.ylabel('True Values', fontsize=15)\n",
    "plt.axis('equal')\n",
    "plt.show()"
   ]
  },
  {
   "cell_type": "code",
   "execution_count": null,
   "id": "5e96b626",
   "metadata": {},
   "outputs": [],
   "source": []
  },
  {
   "cell_type": "markdown",
   "id": "1ea637d3",
   "metadata": {},
   "source": [
    "## Scaling.... ## "
   ]
  },
  {
   "cell_type": "code",
   "execution_count": 18,
   "id": "3a2ce11c",
   "metadata": {},
   "outputs": [],
   "source": [
    "scaler = StandardScaler()\n",
    "X = scaler.fit_transform(X)"
   ]
  },
  {
   "cell_type": "code",
   "execution_count": 19,
   "id": "afaaee51",
   "metadata": {},
   "outputs": [],
   "source": [
    "X_train, X_test, y_train, y_test = train_test_split(X, y, train_size=0.7)"
   ]
  },
  {
   "cell_type": "code",
   "execution_count": 20,
   "id": "f2f8c080",
   "metadata": {},
   "outputs": [
    {
     "data": {
      "text/plain": [
       "XGBRegressor(base_score=0.5, booster='gbtree', colsample_bylevel=1,\n",
       "             colsample_bynode=1, colsample_bytree=1, enable_categorical=False,\n",
       "             gamma=0, gpu_id=-1, importance_type=None,\n",
       "             interaction_constraints='', learning_rate=0.300000012,\n",
       "             max_delta_step=0, max_depth=6, min_child_weight=1, missing=nan,\n",
       "             monotone_constraints='()', n_estimators=100, n_jobs=8,\n",
       "             num_parallel_tree=1, predictor='auto', random_state=0, reg_alpha=0,\n",
       "             reg_lambda=1, scale_pos_weight=1, subsample=1, tree_method='exact',\n",
       "             validate_parameters=1, verbosity=None)"
      ]
     },
     "execution_count": 20,
     "metadata": {},
     "output_type": "execute_result"
    }
   ],
   "source": [
    "xgb.fit(X_train,y_train)"
   ]
  },
  {
   "cell_type": "code",
   "execution_count": 21,
   "id": "7aca8cd3",
   "metadata": {},
   "outputs": [
    {
     "data": {
      "text/plain": [
       "0.9991972526451972"
      ]
     },
     "execution_count": 21,
     "metadata": {},
     "output_type": "execute_result"
    }
   ],
   "source": [
    "xgb.score(X_train, y_train)"
   ]
  },
  {
   "cell_type": "code",
   "execution_count": 22,
   "id": "940916ab",
   "metadata": {},
   "outputs": [
    {
     "data": {
      "text/plain": [
       "0.8946414278135322"
      ]
     },
     "execution_count": 22,
     "metadata": {},
     "output_type": "execute_result"
    }
   ],
   "source": [
    "xgb.score(X_test, y_test)"
   ]
  },
  {
   "cell_type": "code",
   "execution_count": 23,
   "id": "a85fc698",
   "metadata": {},
   "outputs": [
    {
     "data": {
      "text/plain": [
       "[('OverallQual', 0.4377083),\n",
       " ('GarageCars', 0.07930941),\n",
       " ('GrLivArea', 0.062748946),\n",
       " ('Fireplaces', 0.032013535),\n",
       " ('MSZoning_RM', 0.024434492),\n",
       " ('FireplaceQu_None', 0.01903231),\n",
       " ('1stFlrSF', 0.015089417),\n",
       " ('TotalBsmtSF', 0.01433102),\n",
       " ('BsmtFinType1_GLQ', 0.01211169),\n",
       " ('BsmtFinSF1', 0.011485379),\n",
       " ('Neighborhood_Veenker', 0.011415432),\n",
       " ('GarageCond_TA', 0.010419299),\n",
       " ('Neighborhood_Edwards', 0.01018357),\n",
       " ('Functional_Sal', 0.009562345),\n",
       " ('KitchenQual_TA', 0.009332806),\n",
       " ('GarageArea', 0.008527528),\n",
       " ('GarageType_Detchd', 0.008344959),\n",
       " ('CentralAir_Y', 0.007212607),\n",
       " ('MSSubClass_190', 0.006842276),\n",
       " ('BsmtExposure_Gd', 0.0065357327),\n",
       " ('YearBuilt', 0.0065161227),\n",
       " ('Heating_GasA', 0.006406363),\n",
       " ('Neighborhood_Crawfor', 0.005789697),\n",
       " ('SaleType_New', 0.005774448),\n",
       " ('GarageType_Attchd', 0.0056588296),\n",
       " ('Foundation_Slab', 0.005638416),\n",
       " ('HouseStyle_2Story', 0.005186373),\n",
       " ('Condition1_PosN', 0.00493001),\n",
       " ('Foundation_Wood', 0.0049179075),\n",
       " ('BsmtExposure_No', 0.0048884056),\n",
       " ('BsmtFullBath', 0.0048395903),\n",
       " ('Functional_Min2', 0.0047412184),\n",
       " ('OverallCond', 0.004235286),\n",
       " ('Neighborhood_Somerst', 0.0036205563),\n",
       " ('LandContour_HLS', 0.003431569),\n",
       " ('LotArea', 0.0030785063),\n",
       " ('MasVnrArea', 0.0029723174),\n",
       " ('YearRemodAdd', 0.0028168368),\n",
       " ('ExterQual_TA', 0.0027895425),\n",
       " ('LotShape_Reg', 0.0027710246),\n",
       " ('Condition1_RRNn', 0.0026128127),\n",
       " ('HalfBath', 0.0025798993),\n",
       " ('BldgType_Twnhs', 0.0024945706),\n",
       " ('HouseStyle_2.5Unf', 0.0024925712),\n",
       " ('GarageQual_Po', 0.002471511),\n",
       " ('Exterior1st_BrkFace', 0.0024113706),\n",
       " ('RoofMatl_WdShngl', 0.0023875143),\n",
       " ('Neighborhood_CollgCr', 0.0023531816),\n",
       " ('Exterior1st_HdBoard', 0.002278764),\n",
       " ('KitchenQual_Gd', 0.0020771734),\n",
       " ('SaleType_Oth', 0.0019685794),\n",
       " ('MoSold_12', 0.0019608033),\n",
       " ('Neighborhood_OldTown', 0.0018681078),\n",
       " ('MSZoning_RL', 0.0018675535),\n",
       " ('HouseStyle_SLvl', 0.0018198673),\n",
       " ('ScreenPorch', 0.0017714752),\n",
       " ('Neighborhood_GrnHill', 0.0017660488),\n",
       " ('LotConfig_CulDSac', 0.0016494461),\n",
       " ('LotFrontage', 0.0016307516),\n",
       " ('GarageQual_Fa', 0.0015120289),\n",
       " ('MasVnrType_Stone', 0.0014964385),\n",
       " ('Neighborhood_NWAmes', 0.0014867057),\n",
       " ('BsmtQual_Gd', 0.0014738806),\n",
       " ('SaleCondition_Normal', 0.0014197717),\n",
       " ('FireplaceQu_Fa', 0.0013624324),\n",
       " ('PavedDrive_P', 0.0013578925),\n",
       " ('HeatingQC_TA', 0.0013414264),\n",
       " ('BsmtCond_TA', 0.0013168815),\n",
       " ('Functional_Maj2', 0.0013143662),\n",
       " ('Neighborhood_Sawyer', 0.0012858813),\n",
       " ('FireplaceQu_Gd', 0.0012178458),\n",
       " ('LotConfig_FR2', 0.0012149144),\n",
       " ('Neighborhood_Mitchel', 0.0010960241),\n",
       " ('MSSubClass_80', 0.0010846114),\n",
       " ('Electrical_SBrkr', 0.001082483),\n",
       " ('Functional_Typ', 0.0010362746),\n",
       " ('Condition1_Norm', 0.0010052595),\n",
       " ('Neighborhood_NAmes', 0.0010041752),\n",
       " ('Fence_None', 0.0009746592),\n",
       " ('KitchenQual_Fa', 0.00096659694),\n",
       " ('LotConfig_FR3', 0.0009449799),\n",
       " ('MoSold_10', 0.0009444414),\n",
       " ('SaleCondition_Family', 0.0009350137),\n",
       " ('Foundation_CBlock', 0.0009217986),\n",
       " ('HouseStyle_1Story', 0.0009215825),\n",
       " ('Exterior2nd_HdBoard', 0.00090444746),\n",
       " ('OpenPorchSF', 0.0008999011),\n",
       " ('MSSubClass_40', 0.00088294054),\n",
       " ('PID', 0.0008521385),\n",
       " ('MSZoning_FV', 0.0008510845),\n",
       " ('LandContour_Lvl', 0.00084072415),\n",
       " ('BsmtHalfBath', 0.0008363512),\n",
       " ('EnclosedPorch', 0.0008343285),\n",
       " ('KitchenAbvGr', 0.0008309814),\n",
       " ('Electrical_FuseF', 0.0008283139),\n",
       " ('Neighborhood_SawyerW', 0.000827991),\n",
       " ('GarageFinish_RFn', 0.00080350996),\n",
       " ('Unnamed: 0.1', 0.0007750064),\n",
       " ('2ndFlrSF', 0.00074311753),\n",
       " ('BsmtFinSF2', 0.00072603347),\n",
       " ('Neighborhood_NoRidge', 0.0007242736),\n",
       " ('ExterCond_TA', 0.00069420267),\n",
       " ('FireplaceQu_Po', 0.0006680404),\n",
       " ('BsmtQual_TA', 0.00066349487),\n",
       " ('SaleType_WD ', 0.000632202),\n",
       " ('MSSubClass_60', 0.0006273767),\n",
       " ('MSSubClass_30', 0.0006134314),\n",
       " ('PavedDrive_Y', 0.0005906607),\n",
       " ('FullBath', 0.0005884445),\n",
       " ('MoSold_7', 0.0005860693),\n",
       " ('GarageYrBlt', 0.0005842311),\n",
       " ('Exterior1st_WdShing', 0.0005748835),\n",
       " ('BsmtExposure_Mn', 0.0005677719),\n",
       " ('WoodDeckSF', 0.00053803675),\n",
       " ('Exterior2nd_Wd Shng', 0.0004956168),\n",
       " ('BsmtUnfSF', 0.0004922608),\n",
       " ('YrSold_2007', 0.00047796042),\n",
       " ('YrSold_2009', 0.00047447378),\n",
       " ('ExterCond_Fa', 0.0004637452),\n",
       " ('BedroomAbvGr', 0.00045781527),\n",
       " ('Condition1_RRAe', 0.00044484306),\n",
       " ('MiscFeature_None', 0.00043891018),\n",
       " ('BsmtFinType1_Rec', 0.00043813718),\n",
       " ('3SsnPorch', 0.0004376427),\n",
       " ('Neighborhood_IDOTRR', 0.0004370958),\n",
       " ('ExterCond_Gd', 0.0004367568),\n",
       " ('MoSold_8', 0.00043102115),\n",
       " ('MSSubClass_90', 0.00043051512),\n",
       " ('LandSlope_Mod', 0.0004304326),\n",
       " ('Neighborhood_Blueste', 0.0004257071),\n",
       " ('TotRmsAbvGrd', 0.00036460857),\n",
       " ('Exterior2nd_MetalSd', 0.00036189973),\n",
       " ('Neighborhood_BrkSide', 0.00036015277),\n",
       " ('Exterior2nd_VinylSd', 0.00035365776),\n",
       " ('GarageType_Basment', 0.0003331191),\n",
       " ('LowQualFinSF', 0.00032762482),\n",
       " ('RoofStyle_Hip', 0.00032572413),\n",
       " ('Functional_Mod', 0.0003173188),\n",
       " ('MoSold_5', 0.0003170389),\n",
       " ('Neighborhood_Gilbert', 0.0003104088),\n",
       " ('MoSold_3', 0.00030885744),\n",
       " ('Foundation_PConc', 0.00030546047),\n",
       " ('Neighborhood_Timber', 0.00028391683),\n",
       " ('Neighborhood_StoneBr', 0.00028284267),\n",
       " ('Condition1_Feedr', 0.0002726256),\n",
       " ('HeatingQC_Gd', 0.00026918223),\n",
       " ('MiscVal', 0.00026761054),\n",
       " ('MSSubClass_85', 0.00026413),\n",
       " ('MoSold_6', 0.00025707818),\n",
       " ('BsmtFinType1_BLQ', 0.000249184),\n",
       " ('MoSold_11', 0.00024288268),\n",
       " ('Exterior1st_VinylSd', 0.00023389724),\n",
       " ('MSZoning_RH', 0.00021323605),\n",
       " ('RoofStyle_Gable', 0.00021264321),\n",
       " ('Neighborhood_NridgHt', 0.00021095597),\n",
       " ('MasVnrType_None', 0.0002075865),\n",
       " ('BsmtFinType2_BLQ', 0.0002050656),\n",
       " ('ExterQual_Gd', 0.00020371798),\n",
       " ('Alley_None', 0.000199874),\n",
       " ('LotConfig_Inside', 0.00019213717),\n",
       " ('SaleType_ConLI', 0.00019050756),\n",
       " ('Fence_GdWo', 0.00018941997),\n",
       " ('PoolArea', 0.00018582593),\n",
       " ('BsmtQual_Fa', 0.00018380563),\n",
       " ('BsmtFinType1_LwQ', 0.00017904687),\n",
       " ('Unnamed: 0', 0.00017032938),\n",
       " ('MasVnrType_BrkFace', 0.00016820984),\n",
       " ('MSSubClass_50', 0.00015499229),\n",
       " ('GarageType_None', 0.00015473636),\n",
       " ('YrSold_2010', 0.00015385165),\n",
       " ('FireplaceQu_TA', 0.00015248707),\n",
       " ('Exterior1st_Stucco', 0.00014838685),\n",
       " ('Fence_MnPrv', 0.00014215718),\n",
       " ('BsmtCond_Gd', 0.00013958763),\n",
       " ('Alley_Pave', 0.00013818723),\n",
       " ('MoSold_9', 0.00013278234),\n",
       " ('Exterior2nd_Plywood', 0.00013183775),\n",
       " ('MoSold_4', 0.0001293845),\n",
       " ('MoSold_2', 0.00012581148),\n",
       " ('BsmtFinType1_Unf', 0.00012490722),\n",
       " ('GarageQual_TA', 0.000116049414),\n",
       " ('BsmtCond_Fa', 0.0001109658),\n",
       " ('Exterior2nd_Brk Cmn', 0.00010713615),\n",
       " ('Exterior1st_Plywood', 9.6625576e-05),\n",
       " ('Exterior2nd_Wd Sdng', 9.268095e-05),\n",
       " ('MSSubClass_20', 9.234733e-05),\n",
       " ('GarageFinish_Unf', 8.558724e-05),\n",
       " ('BldgType_TwnhsE', 8.156073e-05),\n",
       " ('YrSold_2008', 7.480884e-05),\n",
       " ('HeatingQC_Fa', 6.43586e-05),\n",
       " ('MSSubClass_180', 5.988989e-05),\n",
       " ('LotShape_IR2', 4.4774635e-05),\n",
       " ('Neighborhood_Greens', 3.9476326e-05),\n",
       " ('Exterior1st_Wd Sdng', 3.921648e-05),\n",
       " ('LandContour_Low', 3.2731543e-05),\n",
       " ('MSSubClass_160', 3.2588978e-05),\n",
       " ('Functional_Min1', 3.2088115e-05),\n",
       " ('Exterior1st_MetalSd', 3.1301304e-05),\n",
       " ('BsmtFinType2_Rec', 3.0117806e-05),\n",
       " ('Neighborhood_SWISU', 2.8630087e-05),\n",
       " ('MSSubClass_70', 2.7412e-05),\n",
       " ('BsmtFinType2_Unf', 2.6685519e-05),\n",
       " ('GarageCond_Gd', 2.4920948e-05),\n",
       " ('SaleType_CWD', 2.3209805e-05),\n",
       " ('Condition2_Feedr', 2.086272e-05),\n",
       " ('Exterior2nd_BrkFace', 2.0738129e-05),\n",
       " ('SaleCondition_Alloca', 1.7235423e-05),\n",
       " ('Exterior1st_BrkComm', 1.6757944e-05),\n",
       " ('BsmtFinType2_LwQ', 1.5441157e-05),\n",
       " ('MSSubClass_75', 1.1973554e-05),\n",
       " ('Neighborhood_BrDale', 9.868588e-06),\n",
       " ('Exterior2nd_Stucco', 5.046213e-06),\n",
       " ('BsmtQual_None', 4.9034606e-06),\n",
       " ('MSSubClass_150', 1.5703674e-06),\n",
       " ('MSSubClass_45', 1.5599367e-06),\n",
       " ('Exterior1st_CemntBd', 8.218597e-07),\n",
       " ('MSZoning_C (all)', 0.0),\n",
       " ('MSZoning_I (all)', 0.0),\n",
       " ('Street_Pave', 0.0),\n",
       " ('LotShape_IR3', 0.0),\n",
       " ('Utilities_NoSewr', 0.0),\n",
       " ('LandSlope_Sev', 0.0),\n",
       " ('Neighborhood_ClearCr', 0.0),\n",
       " ('Neighborhood_Landmrk', 0.0),\n",
       " ('Neighborhood_MeadowV', 0.0),\n",
       " ('Neighborhood_NPkVill', 0.0),\n",
       " ('Condition1_PosA', 0.0),\n",
       " ('Condition1_RRAn', 0.0),\n",
       " ('Condition1_RRNe', 0.0),\n",
       " ('Condition2_Norm', 0.0),\n",
       " ('Condition2_PosA', 0.0),\n",
       " ('Condition2_PosN', 0.0),\n",
       " ('Condition2_RRAe', 0.0),\n",
       " ('Condition2_RRAn', 0.0),\n",
       " ('Condition2_RRNn', 0.0),\n",
       " ('BldgType_2fmCon', 0.0),\n",
       " ('BldgType_Duplex', 0.0),\n",
       " ('HouseStyle_1.5Unf', 0.0),\n",
       " ('HouseStyle_2.5Fin', 0.0),\n",
       " ('HouseStyle_SFoyer', 0.0),\n",
       " ('RoofStyle_Gambrel', 0.0),\n",
       " ('RoofStyle_Mansard', 0.0),\n",
       " ('RoofStyle_Shed', 0.0),\n",
       " ('RoofMatl_Membran', 0.0),\n",
       " ('RoofMatl_Metal', 0.0),\n",
       " ('RoofMatl_Roll', 0.0),\n",
       " ('RoofMatl_Tar&Grv', 0.0),\n",
       " ('RoofMatl_WdShake', 0.0),\n",
       " ('Exterior1st_AsphShn', 0.0),\n",
       " ('Exterior1st_CBlock', 0.0),\n",
       " ('Exterior1st_ImStucc', 0.0),\n",
       " ('Exterior1st_PreCast', 0.0),\n",
       " ('Exterior2nd_AsphShn', 0.0),\n",
       " ('Exterior2nd_CBlock', 0.0),\n",
       " ('Exterior2nd_CmentBd', 0.0),\n",
       " ('Exterior2nd_ImStucc', 0.0),\n",
       " ('Exterior2nd_PreCast', 0.0),\n",
       " ('Exterior2nd_Stone', 0.0),\n",
       " ('ExterQual_Fa', 0.0),\n",
       " ('ExterCond_Po', 0.0),\n",
       " ('Foundation_Stone', 0.0),\n",
       " ('BsmtQual_Po', 0.0),\n",
       " ('BsmtCond_None', 0.0),\n",
       " ('BsmtCond_Po', 0.0),\n",
       " ('BsmtExposure_None', 0.0),\n",
       " ('BsmtFinType1_None', 0.0),\n",
       " ('BsmtFinType2_GLQ', 0.0),\n",
       " ('BsmtFinType2_None', 0.0),\n",
       " ('Heating_GasW', 0.0),\n",
       " ('Heating_Grav', 0.0),\n",
       " ('Heating_OthW', 0.0),\n",
       " ('Heating_Wall', 0.0),\n",
       " ('HeatingQC_Po', 0.0),\n",
       " ('Electrical_FuseP', 0.0),\n",
       " ('Electrical_None', 0.0),\n",
       " ('KitchenQual_Po', 0.0),\n",
       " ('GarageType_BuiltIn', 0.0),\n",
       " ('GarageType_CarPort', 0.0),\n",
       " ('GarageFinish_None', 0.0),\n",
       " ('GarageQual_Gd', 0.0),\n",
       " ('GarageQual_None', 0.0),\n",
       " ('GarageCond_Fa', 0.0),\n",
       " ('GarageCond_None', 0.0),\n",
       " ('GarageCond_Po', 0.0),\n",
       " ('PoolQC_Fa', 0.0),\n",
       " ('PoolQC_Gd', 0.0),\n",
       " ('PoolQC_None', 0.0),\n",
       " ('PoolQC_TA', 0.0),\n",
       " ('Fence_MnWw', 0.0),\n",
       " ('MiscFeature_Othr', 0.0),\n",
       " ('MiscFeature_Shed', 0.0),\n",
       " ('MiscFeature_TenC', 0.0),\n",
       " ('SaleType_Con', 0.0),\n",
       " ('SaleType_ConLD', 0.0),\n",
       " ('SaleType_ConLw', 0.0),\n",
       " ('SaleType_VWD', 0.0),\n",
       " ('SaleCondition_AdjLand', 0.0),\n",
       " ('SaleCondition_Partial', 0.0)]"
      ]
     },
     "execution_count": 23,
     "metadata": {},
     "output_type": "execute_result"
    }
   ],
   "source": [
    "X_cols = base.drop(['SalePrice'], axis=1).columns\n",
    "sorted_importance = sorted(zip(X_cols, xgb.feature_importances_), key=lambda t:t[1], reverse=True)\n",
    "sorted_importance"
   ]
  },
  {
   "cell_type": "code",
   "execution_count": 24,
   "id": "cae10027",
   "metadata": {},
   "outputs": [
    {
     "data": {
      "image/png": "[encoded data removed]",
      "text/plain": [
       "<Figure size 432x288 with 1 Axes>"
      ]
     },
     "metadata": {
      "needs_background": "light"
     },
     "output_type": "display_data"
    }
   ],
   "source": [
    "a, b = zip(*sorted_importance[0:15]) # this splits the list of tuples into two lists\n",
    "pd.DataFrame({'feature_name':a, 'importance_score':b}).plot.bar(x='feature_name',y='importance_score', legend=None)\n",
    "plt.title('Top 15 Feature Importance Plot of Basic GBM');"
   ]
  },
  {
   "cell_type": "code",
   "execution_count": 25,
   "id": "66aa9860",
   "metadata": {},
   "outputs": [],
   "source": [
    "predicted_value = xgb.predict(X_test)"
   ]
  },
  {
   "cell_type": "code",
   "execution_count": 26,
   "id": "f8210efb",
   "metadata": {},
   "outputs": [],
   "source": [
    "true_value = y_test"
   ]
  },
  {
   "cell_type": "code",
   "execution_count": 27,
   "id": "926dc43f",
   "metadata": {},
   "outputs": [
    {
     "data": {
      "image/png": "[encoded data removed]",
      "text/plain": [
       "<Figure size 720x720 with 1 Axes>"
      ]
     },
     "metadata": {
      "needs_background": "light"
     },
     "output_type": "display_data"
    }
   ],
   "source": [
    "plt.figure(figsize=(10,10))\n",
    "plt.scatter(predicted_value, true_value, c='crimson')\n",
    "#plt.yscale('log')\n",
    "#plt.xscale('log')\n",
    "\n",
    "plt.title('Gradient Boosting Regressor Base')\n",
    "p1 = max(max(predicted_value), max(true_value))\n",
    "p2 = min(min(predicted_value), min(true_value))\n",
    "plt.plot([p1, p2], [p1, p2], 'b-')\n",
    "plt.xlabel('Predictions', fontsize=15)\n",
    "plt.ylabel('True Values', fontsize=15)\n",
    "plt.axis('equal')\n",
    "plt.show()"
   ]
  },
  {
   "cell_type": "code",
   "execution_count": null,
   "id": "2b5a1881",
   "metadata": {},
   "outputs": [],
   "source": []
  },
  {
   "cell_type": "code",
   "execution_count": null,
   "id": "47d6517b",
   "metadata": {},
   "outputs": [],
   "source": []
  },
  {
   "cell_type": "code",
   "execution_count": null,
   "id": "d029ae0a",
   "metadata": {},
   "outputs": [],
   "source": []
  }
 ],
 "metadata": {
  "hide_input": false,
  "kernelspec": {
   "display_name": "Python 3 (ipykernel)",
   "language": "python",
   "name": "python3"
  },
  "language_info": {
   "codemirror_mode": {
    "name": "ipython",
    "version": 3
   },
   "file_extension": ".py",
   "mimetype": "text/x-python",
   "name": "python",
   "nbconvert_exporter": "python",
   "pygments_lexer": "ipython3",
   "version": "3.8.8"
  },
  "varInspector": {
   "cols": {
    "lenName": 16,
    "lenType": 16,
    "lenVar": 40
   },
   "kernels_config": {
    "python": {
     "delete_cmd_postfix": "",
     "delete_cmd_prefix": "del ",
     "library": "var_list.py",
     "varRefreshCmd": "print(var_dic_list())"
    },
    "r": {
     "delete_cmd_postfix": ") ",
     "delete_cmd_prefix": "rm(",
     "library": "var_list.r",
     "varRefreshCmd": "cat(var_dic_list()) "
    }
   },
   "types_to_exclude": [
    "module",
    "function",
    "builtin_function_or_method",
    "instance",
    "_Feature"
   ],
   "window_display": false
  }
 },
 "nbformat": 4,
 "nbformat_minor": 5
}
