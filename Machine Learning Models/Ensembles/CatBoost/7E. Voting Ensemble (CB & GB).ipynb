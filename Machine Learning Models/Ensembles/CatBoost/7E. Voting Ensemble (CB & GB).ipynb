{
 "cells": [
  {
   "cell_type": "code",
   "execution_count": 1,
   "id": "2e64f558",
   "metadata": {},
   "outputs": [],
   "source": [
    "import numpy as np\n",
    "import pandas as pd\n",
    "pd.set_option(\"display.max_columns\", 300)\n",
    "pd.set_option(\"display.max_rows\", 100)\n",
    "pd.set_option(\"max_colwidth\", 200)\n",
    "\n",
    "from sklearn import preprocessing\n",
    "\n",
    "from sklearn.ensemble import GradientBoostingRegressor\n",
    "from catboost import CatBoostRegressor\n",
    "from sklearn.ensemble import VotingRegressor\n",
    "\n",
    "from sklearn.model_selection import train_test_split\n",
    "from sklearn.metrics import mean_squared_error, r2_score, mean_absolute_error\n",
    "\n",
    "from sklearn.model_selection import cross_val_score, cross_validate\n",
    "from sklearn.model_selection import RepeatedKFold\n",
    "\n",
    "import seaborn as sns\n",
    "import matplotlib.pyplot as plt"
   ]
  },
  {
   "cell_type": "code",
   "execution_count": 2,
   "id": "ab189fe3",
   "metadata": {},
   "outputs": [
    {
     "data": {
      "text/plain": [
       "(2580, 83)"
      ]
     },
     "execution_count": 2,
     "metadata": {},
     "output_type": "execute_result"
    }
   ],
   "source": [
    "ordinal = pd.read_csv('../../../Data/BaseOrdinal2.csv')\n",
    "ordinal.shape"
   ]
  },
  {
   "cell_type": "code",
   "execution_count": 3,
   "id": "29c4cc5e",
   "metadata": {},
   "outputs": [
    {
     "data": {
      "text/plain": [
       "(2580, 80)"
      ]
     },
     "execution_count": 3,
     "metadata": {},
     "output_type": "execute_result"
    }
   ],
   "source": [
    "ordinal = ordinal.drop(['Unnamed: 0', 'PID', 'Unnamed: 0.1'], axis=1)\n",
    "ordinal.shape"
   ]
  },
  {
   "cell_type": "code",
   "execution_count": 4,
   "id": "f6c05d94",
   "metadata": {},
   "outputs": [],
   "source": [
    "X = ordinal.drop(['SalePrice'], axis=1)\n",
    "y = ordinal.SalePrice"
   ]
  },
  {
   "cell_type": "code",
   "execution_count": 5,
   "id": "a0ad94c4",
   "metadata": {},
   "outputs": [],
   "source": [
    "gb = GradientBoostingRegressor()\n",
    "cb = CatBoostRegressor(verbose=False)"
   ]
  },
  {
   "cell_type": "code",
   "execution_count": 6,
   "id": "1dbcd295",
   "metadata": {},
   "outputs": [],
   "source": [
    "estimators = []\n",
    "model1 = gb; estimators.append((\"GB\", model1))\n",
    "model2 = cb; estimators.append((\"CB\", model2))\n",
    "\n",
    "ensemble = VotingRegressor(estimators)"
   ]
  },
  {
   "cell_type": "code",
   "execution_count": 7,
   "id": "e72a009f",
   "metadata": {},
   "outputs": [
    {
     "data": {
      "text/plain": [
       "[('GB', GradientBoostingRegressor()),\n",
       " ('CB', <catboost.core.CatBoostRegressor at 0x7fe898bb7550>)]"
      ]
     },
     "execution_count": 7,
     "metadata": {},
     "output_type": "execute_result"
    }
   ],
   "source": [
    "estimators"
   ]
  },
  {
   "cell_type": "code",
   "execution_count": 8,
   "id": "5102c260",
   "metadata": {},
   "outputs": [],
   "source": [
    "scoring = {'r2': 'r2',\n",
    "           'neg_mae': 'neg_mean_absolute_error',\n",
    "          }"
   ]
  },
  {
   "cell_type": "code",
   "execution_count": 9,
   "id": "4999043a",
   "metadata": {},
   "outputs": [],
   "source": [
    "# Use cross-validation to evaluate model performance\n",
    "\n",
    "def evaluate_model(model, X, y):\n",
    "    \n",
    "    # define the evaluation procedure\n",
    "    cv = RepeatedKFold(n_splits=5, n_repeats=3, random_state=1)\n",
    "    \n",
    "    # evaluate the model and collect the results\n",
    "    scores = cross_validate(model, X, y, scoring=scoring, \n",
    "                                  cv=cv, n_jobs=-1) \n",
    "    #print(scores)\n",
    "    \n",
    "    df = pd.DataFrame(scores)\n",
    "    \n",
    "    return df"
   ]
  },
  {
   "cell_type": "code",
   "execution_count": 10,
   "id": "afff4d56",
   "metadata": {},
   "outputs": [],
   "source": [
    "dfgb = evaluate_model(gb, X, y)"
   ]
  },
  {
   "cell_type": "code",
   "execution_count": 11,
   "id": "2530c6a4",
   "metadata": {},
   "outputs": [
    {
     "data": {
      "text/html": [
       "<div>\n",
       "<style scoped>\n",
       "    .dataframe tbody tr th:only-of-type {\n",
       "        vertical-align: middle;\n",
       "    }\n",
       "\n",
       "    .dataframe tbody tr th {\n",
       "        vertical-align: top;\n",
       "    }\n",
       "\n",
       "    .dataframe thead th {\n",
       "        text-align: right;\n",
       "    }\n",
       "</style>\n",
       "<table border=\"1\" class=\"dataframe\">\n",
       "  <thead>\n",
       "    <tr style=\"text-align: right;\">\n",
       "      <th></th>\n",
       "      <th>fit_time</th>\n",
       "      <th>score_time</th>\n",
       "      <th>GB R2</th>\n",
       "      <th>test_neg_mae</th>\n",
       "    </tr>\n",
       "  </thead>\n",
       "  <tbody>\n",
       "    <tr>\n",
       "      <th>0</th>\n",
       "      <td>0.977801</td>\n",
       "      <td>0.006290</td>\n",
       "      <td>0.918785</td>\n",
       "      <td>-14196.146679</td>\n",
       "    </tr>\n",
       "    <tr>\n",
       "      <th>1</th>\n",
       "      <td>0.973909</td>\n",
       "      <td>0.005476</td>\n",
       "      <td>0.826486</td>\n",
       "      <td>-14093.304714</td>\n",
       "    </tr>\n",
       "    <tr>\n",
       "      <th>2</th>\n",
       "      <td>0.985480</td>\n",
       "      <td>0.002522</td>\n",
       "      <td>0.915860</td>\n",
       "      <td>-14466.446916</td>\n",
       "    </tr>\n",
       "  </tbody>\n",
       "</table>\n",
       "</div>"
      ],
      "text/plain": [
       "   fit_time  score_time     GB R2  test_neg_mae\n",
       "0  0.977801    0.006290  0.918785 -14196.146679\n",
       "1  0.973909    0.005476  0.826486 -14093.304714\n",
       "2  0.985480    0.002522  0.915860 -14466.446916"
      ]
     },
     "execution_count": 11,
     "metadata": {},
     "output_type": "execute_result"
    }
   ],
   "source": [
    "dfgb = dfgb.rename(columns = {'test_r2':'GB R2'})\n",
    "dfgb.head(3)"
   ]
  },
  {
   "cell_type": "code",
   "execution_count": 12,
   "id": "0f8ac877",
   "metadata": {},
   "outputs": [],
   "source": [
    "dfcb = evaluate_model(cb, X, y)"
   ]
  },
  {
   "cell_type": "code",
   "execution_count": 13,
   "id": "933e8511",
   "metadata": {},
   "outputs": [
    {
     "data": {
      "text/html": [
       "<div>\n",
       "<style scoped>\n",
       "    .dataframe tbody tr th:only-of-type {\n",
       "        vertical-align: middle;\n",
       "    }\n",
       "\n",
       "    .dataframe tbody tr th {\n",
       "        vertical-align: top;\n",
       "    }\n",
       "\n",
       "    .dataframe thead th {\n",
       "        text-align: right;\n",
       "    }\n",
       "</style>\n",
       "<table border=\"1\" class=\"dataframe\">\n",
       "  <thead>\n",
       "    <tr style=\"text-align: right;\">\n",
       "      <th></th>\n",
       "      <th>fit_time</th>\n",
       "      <th>score_time</th>\n",
       "      <th>CB R2</th>\n",
       "      <th>test_neg_mae</th>\n",
       "    </tr>\n",
       "  </thead>\n",
       "  <tbody>\n",
       "    <tr>\n",
       "      <th>0</th>\n",
       "      <td>8.028399</td>\n",
       "      <td>0.007714</td>\n",
       "      <td>0.922817</td>\n",
       "      <td>-12873.361683</td>\n",
       "    </tr>\n",
       "    <tr>\n",
       "      <th>1</th>\n",
       "      <td>5.781944</td>\n",
       "      <td>0.006935</td>\n",
       "      <td>0.894705</td>\n",
       "      <td>-12078.089008</td>\n",
       "    </tr>\n",
       "    <tr>\n",
       "      <th>2</th>\n",
       "      <td>5.708811</td>\n",
       "      <td>0.009702</td>\n",
       "      <td>0.936007</td>\n",
       "      <td>-12260.969764</td>\n",
       "    </tr>\n",
       "  </tbody>\n",
       "</table>\n",
       "</div>"
      ],
      "text/plain": [
       "   fit_time  score_time     CB R2  test_neg_mae\n",
       "0  8.028399    0.007714  0.922817 -12873.361683\n",
       "1  5.781944    0.006935  0.894705 -12078.089008\n",
       "2  5.708811    0.009702  0.936007 -12260.969764"
      ]
     },
     "execution_count": 13,
     "metadata": {},
     "output_type": "execute_result"
    }
   ],
   "source": [
    "dfcb = dfcb.rename(columns = {'test_r2':'CB R2'})\n",
    "dfcb.head(3)"
   ]
  },
  {
   "cell_type": "code",
   "execution_count": 14,
   "id": "7eaeb599",
   "metadata": {},
   "outputs": [],
   "source": [
    "dfvote = evaluate_model(ensemble, X, y)"
   ]
  },
  {
   "cell_type": "code",
   "execution_count": 15,
   "id": "d323d541",
   "metadata": {},
   "outputs": [
    {
     "data": {
      "text/html": [
       "<div>\n",
       "<style scoped>\n",
       "    .dataframe tbody tr th:only-of-type {\n",
       "        vertical-align: middle;\n",
       "    }\n",
       "\n",
       "    .dataframe tbody tr th {\n",
       "        vertical-align: top;\n",
       "    }\n",
       "\n",
       "    .dataframe thead th {\n",
       "        text-align: right;\n",
       "    }\n",
       "</style>\n",
       "<table border=\"1\" class=\"dataframe\">\n",
       "  <thead>\n",
       "    <tr style=\"text-align: right;\">\n",
       "      <th></th>\n",
       "      <th>fit_time</th>\n",
       "      <th>score_time</th>\n",
       "      <th>Voting R2</th>\n",
       "      <th>test_neg_mae</th>\n",
       "    </tr>\n",
       "  </thead>\n",
       "  <tbody>\n",
       "    <tr>\n",
       "      <th>0</th>\n",
       "      <td>7.283524</td>\n",
       "      <td>0.010626</td>\n",
       "      <td>0.923519</td>\n",
       "      <td>-13114.804051</td>\n",
       "    </tr>\n",
       "    <tr>\n",
       "      <th>1</th>\n",
       "      <td>7.111873</td>\n",
       "      <td>0.014390</td>\n",
       "      <td>0.864738</td>\n",
       "      <td>-12676.778743</td>\n",
       "    </tr>\n",
       "    <tr>\n",
       "      <th>2</th>\n",
       "      <td>6.831046</td>\n",
       "      <td>0.009613</td>\n",
       "      <td>0.930731</td>\n",
       "      <td>-12933.916832</td>\n",
       "    </tr>\n",
       "    <tr>\n",
       "      <th>3</th>\n",
       "      <td>6.690489</td>\n",
       "      <td>0.010812</td>\n",
       "      <td>0.915875</td>\n",
       "      <td>-12376.944289</td>\n",
       "    </tr>\n",
       "    <tr>\n",
       "      <th>4</th>\n",
       "      <td>7.462661</td>\n",
       "      <td>0.009755</td>\n",
       "      <td>0.943688</td>\n",
       "      <td>-11911.366553</td>\n",
       "    </tr>\n",
       "    <tr>\n",
       "      <th>5</th>\n",
       "      <td>6.897353</td>\n",
       "      <td>0.015041</td>\n",
       "      <td>0.926040</td>\n",
       "      <td>-13581.745832</td>\n",
       "    </tr>\n",
       "    <tr>\n",
       "      <th>6</th>\n",
       "      <td>6.959349</td>\n",
       "      <td>0.010924</td>\n",
       "      <td>0.936171</td>\n",
       "      <td>-11486.967892</td>\n",
       "    </tr>\n",
       "    <tr>\n",
       "      <th>7</th>\n",
       "      <td>6.780383</td>\n",
       "      <td>0.010106</td>\n",
       "      <td>0.923094</td>\n",
       "      <td>-12332.425654</td>\n",
       "    </tr>\n",
       "    <tr>\n",
       "      <th>8</th>\n",
       "      <td>6.115851</td>\n",
       "      <td>0.010890</td>\n",
       "      <td>0.942816</td>\n",
       "      <td>-11762.814450</td>\n",
       "    </tr>\n",
       "    <tr>\n",
       "      <th>9</th>\n",
       "      <td>6.089700</td>\n",
       "      <td>0.007951</td>\n",
       "      <td>0.873306</td>\n",
       "      <td>-14442.226317</td>\n",
       "    </tr>\n",
       "    <tr>\n",
       "      <th>10</th>\n",
       "      <td>6.648698</td>\n",
       "      <td>0.005213</td>\n",
       "      <td>0.944520</td>\n",
       "      <td>-11861.651226</td>\n",
       "    </tr>\n",
       "    <tr>\n",
       "      <th>11</th>\n",
       "      <td>6.010992</td>\n",
       "      <td>0.007484</td>\n",
       "      <td>0.920368</td>\n",
       "      <td>-13407.086022</td>\n",
       "    </tr>\n",
       "    <tr>\n",
       "      <th>12</th>\n",
       "      <td>5.984371</td>\n",
       "      <td>0.006062</td>\n",
       "      <td>0.844184</td>\n",
       "      <td>-12775.346447</td>\n",
       "    </tr>\n",
       "    <tr>\n",
       "      <th>13</th>\n",
       "      <td>5.811602</td>\n",
       "      <td>0.006372</td>\n",
       "      <td>0.932840</td>\n",
       "      <td>-12189.090468</td>\n",
       "    </tr>\n",
       "    <tr>\n",
       "      <th>14</th>\n",
       "      <td>5.996772</td>\n",
       "      <td>0.005836</td>\n",
       "      <td>0.935645</td>\n",
       "      <td>-12505.703622</td>\n",
       "    </tr>\n",
       "  </tbody>\n",
       "</table>\n",
       "</div>"
      ],
      "text/plain": [
       "    fit_time  score_time  Voting R2  test_neg_mae\n",
       "0   7.283524    0.010626   0.923519 -13114.804051\n",
       "1   7.111873    0.014390   0.864738 -12676.778743\n",
       "2   6.831046    0.009613   0.930731 -12933.916832\n",
       "3   6.690489    0.010812   0.915875 -12376.944289\n",
       "4   7.462661    0.009755   0.943688 -11911.366553\n",
       "5   6.897353    0.015041   0.926040 -13581.745832\n",
       "6   6.959349    0.010924   0.936171 -11486.967892\n",
       "7   6.780383    0.010106   0.923094 -12332.425654\n",
       "8   6.115851    0.010890   0.942816 -11762.814450\n",
       "9   6.089700    0.007951   0.873306 -14442.226317\n",
       "10  6.648698    0.005213   0.944520 -11861.651226\n",
       "11  6.010992    0.007484   0.920368 -13407.086022\n",
       "12  5.984371    0.006062   0.844184 -12775.346447\n",
       "13  5.811602    0.006372   0.932840 -12189.090468\n",
       "14  5.996772    0.005836   0.935645 -12505.703622"
      ]
     },
     "execution_count": 15,
     "metadata": {},
     "output_type": "execute_result"
    }
   ],
   "source": [
    "dfvote = dfvote.rename(columns = {'test_r2':'Voting R2'})\n",
    "dfvote"
   ]
  },
  {
   "cell_type": "code",
   "execution_count": 16,
   "id": "572e7784",
   "metadata": {},
   "outputs": [
    {
     "data": {
      "text/html": [
       "<div>\n",
       "<style scoped>\n",
       "    .dataframe tbody tr th:only-of-type {\n",
       "        vertical-align: middle;\n",
       "    }\n",
       "\n",
       "    .dataframe tbody tr th {\n",
       "        vertical-align: top;\n",
       "    }\n",
       "\n",
       "    .dataframe thead th {\n",
       "        text-align: right;\n",
       "    }\n",
       "</style>\n",
       "<table border=\"1\" class=\"dataframe\">\n",
       "  <thead>\n",
       "    <tr style=\"text-align: right;\">\n",
       "      <th></th>\n",
       "      <th>GB R2</th>\n",
       "      <th>Voting R2</th>\n",
       "      <th>CB R2</th>\n",
       "    </tr>\n",
       "  </thead>\n",
       "  <tbody>\n",
       "    <tr>\n",
       "      <th>count</th>\n",
       "      <td>15.000000</td>\n",
       "      <td>15.000000</td>\n",
       "      <td>15.000000</td>\n",
       "    </tr>\n",
       "    <tr>\n",
       "      <th>mean</th>\n",
       "      <td>0.900513</td>\n",
       "      <td>0.917169</td>\n",
       "      <td>0.926071</td>\n",
       "    </tr>\n",
       "    <tr>\n",
       "      <th>std</th>\n",
       "      <td>0.040623</td>\n",
       "      <td>0.030946</td>\n",
       "      <td>0.023954</td>\n",
       "    </tr>\n",
       "    <tr>\n",
       "      <th>min</th>\n",
       "      <td>0.804937</td>\n",
       "      <td>0.844184</td>\n",
       "      <td>0.867974</td>\n",
       "    </tr>\n",
       "    <tr>\n",
       "      <th>25%</th>\n",
       "      <td>0.904900</td>\n",
       "      <td>0.918121</td>\n",
       "      <td>0.922383</td>\n",
       "    </tr>\n",
       "    <tr>\n",
       "      <th>50%</th>\n",
       "      <td>0.915860</td>\n",
       "      <td>0.926040</td>\n",
       "      <td>0.935921</td>\n",
       "    </tr>\n",
       "    <tr>\n",
       "      <th>75%</th>\n",
       "      <td>0.924085</td>\n",
       "      <td>0.935908</td>\n",
       "      <td>0.940866</td>\n",
       "    </tr>\n",
       "    <tr>\n",
       "      <th>max</th>\n",
       "      <td>0.935886</td>\n",
       "      <td>0.944520</td>\n",
       "      <td>0.949948</td>\n",
       "    </tr>\n",
       "  </tbody>\n",
       "</table>\n",
       "</div>"
      ],
      "text/plain": [
       "           GB R2  Voting R2      CB R2\n",
       "count  15.000000  15.000000  15.000000\n",
       "mean    0.900513   0.917169   0.926071\n",
       "std     0.040623   0.030946   0.023954\n",
       "min     0.804937   0.844184   0.867974\n",
       "25%     0.904900   0.918121   0.922383\n",
       "50%     0.915860   0.926040   0.935921\n",
       "75%     0.924085   0.935908   0.940866\n",
       "max     0.935886   0.944520   0.949948"
      ]
     },
     "execution_count": 16,
     "metadata": {},
     "output_type": "execute_result"
    }
   ],
   "source": [
    "combo = pd.concat([dfgb, dfcb, dfvote], axis=1)\n",
    "combo[['GB R2', 'Voting R2', 'CB R2']].describe()"
   ]
  },
  {
   "cell_type": "code",
   "execution_count": 17,
   "id": "d4eb7d66",
   "metadata": {},
   "outputs": [
    {
     "data": {
      "image/png": "[encoded data removed]",
      "text/plain": [
       "<Figure size 432x288 with 1 Axes>"
      ]
     },
     "metadata": {
      "needs_background": "light"
     },
     "output_type": "display_data"
    }
   ],
   "source": [
    "sns.boxplot(data=combo[['GB R2', 'Voting R2', 'CB R2']]);"
   ]
  },
  {
   "cell_type": "code",
   "execution_count": 19,
   "id": "7eb1bcc7",
   "metadata": {},
   "outputs": [
    {
     "data": {
      "text/html": [
       "<div>\n",
       "<style scoped>\n",
       "    .dataframe tbody tr th:only-of-type {\n",
       "        vertical-align: middle;\n",
       "    }\n",
       "\n",
       "    .dataframe tbody tr th {\n",
       "        vertical-align: top;\n",
       "    }\n",
       "\n",
       "    .dataframe thead th {\n",
       "        text-align: right;\n",
       "    }\n",
       "</style>\n",
       "<table border=\"1\" class=\"dataframe\">\n",
       "  <thead>\n",
       "    <tr style=\"text-align: right;\">\n",
       "      <th></th>\n",
       "      <th>fit_time</th>\n",
       "      <th>score_time</th>\n",
       "      <th>GB R2</th>\n",
       "      <th>test_neg_mae</th>\n",
       "      <th>fit_time</th>\n",
       "      <th>score_time</th>\n",
       "      <th>CB R2</th>\n",
       "      <th>test_neg_mae</th>\n",
       "      <th>fit_time</th>\n",
       "      <th>score_time</th>\n",
       "      <th>Voting R2</th>\n",
       "      <th>test_neg_mae</th>\n",
       "    </tr>\n",
       "  </thead>\n",
       "  <tbody>\n",
       "    <tr>\n",
       "      <th>count</th>\n",
       "      <td>15.000000</td>\n",
       "      <td>15.000000</td>\n",
       "      <td>15.000000</td>\n",
       "      <td>15.000000</td>\n",
       "      <td>15.000000</td>\n",
       "      <td>15.000000</td>\n",
       "      <td>15.000000</td>\n",
       "      <td>15.000000</td>\n",
       "      <td>15.000000</td>\n",
       "      <td>15.000000</td>\n",
       "      <td>15.000000</td>\n",
       "      <td>15.000000</td>\n",
       "    </tr>\n",
       "    <tr>\n",
       "      <th>mean</th>\n",
       "      <td>0.953331</td>\n",
       "      <td>0.003710</td>\n",
       "      <td>0.900513</td>\n",
       "      <td>-13859.586970</td>\n",
       "      <td>5.708228</td>\n",
       "      <td>0.008200</td>\n",
       "      <td>0.926071</td>\n",
       "      <td>-12157.235029</td>\n",
       "      <td>6.578311</td>\n",
       "      <td>0.009405</td>\n",
       "      <td>0.917169</td>\n",
       "      <td>-12623.924560</td>\n",
       "    </tr>\n",
       "    <tr>\n",
       "      <th>std</th>\n",
       "      <td>0.036240</td>\n",
       "      <td>0.002108</td>\n",
       "      <td>0.040623</td>\n",
       "      <td>797.087627</td>\n",
       "      <td>0.784656</td>\n",
       "      <td>0.004634</td>\n",
       "      <td>0.023954</td>\n",
       "      <td>805.073480</td>\n",
       "      <td>0.533624</td>\n",
       "      <td>0.002949</td>\n",
       "      <td>0.030946</td>\n",
       "      <td>787.027553</td>\n",
       "    </tr>\n",
       "    <tr>\n",
       "      <th>min</th>\n",
       "      <td>0.868820</td>\n",
       "      <td>0.002168</td>\n",
       "      <td>0.804937</td>\n",
       "      <td>-15644.900814</td>\n",
       "      <td>4.875887</td>\n",
       "      <td>0.003517</td>\n",
       "      <td>0.867974</td>\n",
       "      <td>-13993.303130</td>\n",
       "      <td>5.811602</td>\n",
       "      <td>0.005213</td>\n",
       "      <td>0.844184</td>\n",
       "      <td>-14442.226317</td>\n",
       "    </tr>\n",
       "    <tr>\n",
       "      <th>25%</th>\n",
       "      <td>0.932006</td>\n",
       "      <td>0.002281</td>\n",
       "      <td>0.904900</td>\n",
       "      <td>-14271.311291</td>\n",
       "      <td>5.072608</td>\n",
       "      <td>0.004894</td>\n",
       "      <td>0.922383</td>\n",
       "      <td>-12608.094096</td>\n",
       "      <td>6.050346</td>\n",
       "      <td>0.006928</td>\n",
       "      <td>0.918121</td>\n",
       "      <td>-13024.360441</td>\n",
       "    </tr>\n",
       "    <tr>\n",
       "      <th>50%</th>\n",
       "      <td>0.968135</td>\n",
       "      <td>0.002457</td>\n",
       "      <td>0.915860</td>\n",
       "      <td>-13658.674416</td>\n",
       "      <td>5.708811</td>\n",
       "      <td>0.007714</td>\n",
       "      <td>0.935921</td>\n",
       "      <td>-12078.089008</td>\n",
       "      <td>6.690489</td>\n",
       "      <td>0.009755</td>\n",
       "      <td>0.926040</td>\n",
       "      <td>-12505.703622</td>\n",
       "    </tr>\n",
       "    <tr>\n",
       "      <th>75%</th>\n",
       "      <td>0.977149</td>\n",
       "      <td>0.005283</td>\n",
       "      <td>0.924085</td>\n",
       "      <td>-13429.042422</td>\n",
       "      <td>5.878972</td>\n",
       "      <td>0.009930</td>\n",
       "      <td>0.940866</td>\n",
       "      <td>-11502.958567</td>\n",
       "      <td>6.928351</td>\n",
       "      <td>0.010851</td>\n",
       "      <td>0.935908</td>\n",
       "      <td>-12050.228510</td>\n",
       "    </tr>\n",
       "    <tr>\n",
       "      <th>max</th>\n",
       "      <td>0.997862</td>\n",
       "      <td>0.008336</td>\n",
       "      <td>0.935886</td>\n",
       "      <td>-12556.929643</td>\n",
       "      <td>8.028399</td>\n",
       "      <td>0.022111</td>\n",
       "      <td>0.949948</td>\n",
       "      <td>-11144.079503</td>\n",
       "      <td>7.462661</td>\n",
       "      <td>0.015041</td>\n",
       "      <td>0.944520</td>\n",
       "      <td>-11486.967892</td>\n",
       "    </tr>\n",
       "  </tbody>\n",
       "</table>\n",
       "</div>"
      ],
      "text/plain": [
       "        fit_time  score_time      GB R2  test_neg_mae   fit_time  score_time  \\\n",
       "count  15.000000   15.000000  15.000000     15.000000  15.000000   15.000000   \n",
       "mean    0.953331    0.003710   0.900513 -13859.586970   5.708228    0.008200   \n",
       "std     0.036240    0.002108   0.040623    797.087627   0.784656    0.004634   \n",
       "min     0.868820    0.002168   0.804937 -15644.900814   4.875887    0.003517   \n",
       "25%     0.932006    0.002281   0.904900 -14271.311291   5.072608    0.004894   \n",
       "50%     0.968135    0.002457   0.915860 -13658.674416   5.708811    0.007714   \n",
       "75%     0.977149    0.005283   0.924085 -13429.042422   5.878972    0.009930   \n",
       "max     0.997862    0.008336   0.935886 -12556.929643   8.028399    0.022111   \n",
       "\n",
       "           CB R2  test_neg_mae   fit_time  score_time  Voting R2  test_neg_mae  \n",
       "count  15.000000     15.000000  15.000000   15.000000  15.000000     15.000000  \n",
       "mean    0.926071 -12157.235029   6.578311    0.009405   0.917169 -12623.924560  \n",
       "std     0.023954    805.073480   0.533624    0.002949   0.030946    787.027553  \n",
       "min     0.867974 -13993.303130   5.811602    0.005213   0.844184 -14442.226317  \n",
       "25%     0.922383 -12608.094096   6.050346    0.006928   0.918121 -13024.360441  \n",
       "50%     0.935921 -12078.089008   6.690489    0.009755   0.926040 -12505.703622  \n",
       "75%     0.940866 -11502.958567   6.928351    0.010851   0.935908 -12050.228510  \n",
       "max     0.949948 -11144.079503   7.462661    0.015041   0.944520 -11486.967892  "
      ]
     },
     "execution_count": 19,
     "metadata": {},
     "output_type": "execute_result"
    }
   ],
   "source": [
    "combo.describe()"
   ]
  }
 ],
 "metadata": {
  "hide_input": false,
  "kernelspec": {
   "display_name": "Python 3 (ipykernel)",
   "language": "python",
   "name": "python3"
  },
  "language_info": {
   "codemirror_mode": {
    "name": "ipython",
    "version": 3
   },
   "file_extension": ".py",
   "mimetype": "text/x-python",
   "name": "python",
   "nbconvert_exporter": "python",
   "pygments_lexer": "ipython3",
   "version": "3.8.8"
  },
  "varInspector": {
   "cols": {
    "lenName": 16,
    "lenType": 16,
    "lenVar": 40
   },
   "kernels_config": {
    "python": {
     "delete_cmd_postfix": "",
     "delete_cmd_prefix": "del ",
     "library": "var_list.py",
     "varRefreshCmd": "print(var_dic_list())"
    },
    "r": {
     "delete_cmd_postfix": ") ",
     "delete_cmd_prefix": "rm(",
     "library": "var_list.r",
     "varRefreshCmd": "cat(var_dic_list()) "
    }
   },
   "types_to_exclude": [
    "module",
    "function",
    "builtin_function_or_method",
    "instance",
    "_Feature"
   ],
   "window_display": false
  }
 },
 "nbformat": 4,
 "nbformat_minor": 5
}
