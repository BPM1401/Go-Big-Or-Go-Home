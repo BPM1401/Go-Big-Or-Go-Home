{
 "cells": [
  {
   "cell_type": "code",
   "execution_count": 1,
   "id": "dcaf862f",
   "metadata": {},
   "outputs": [],
   "source": [
    "import pandas as pd\n",
    "pd.set_option(\"display.max_columns\", 300)\n",
    "pd.set_option(\"display.max_rows\", 100)\n",
    "pd.set_option(\"max_colwidth\", 200)\n",
    "\n",
    "import numpy as np\n",
    "\n",
    "from catboost import CatBoostRegressor\n",
    "from sklearn.model_selection import train_test_split\n",
    "from sklearn.metrics import mean_squared_error\n",
    "from sklearn.metrics import r2_score\n",
    "\n",
    "from sklearn.model_selection import cross_val_score, cross_validate\n",
    "from sklearn.model_selection import RepeatedKFold\n",
    "\n",
    "import matplotlib.pyplot as plt\n",
    "import seaborn as sns\n",
    "\n",
    "import optuna\n",
    "from optuna.samplers import TPESampler"
   ]
  },
  {
   "cell_type": "code",
   "execution_count": 2,
   "id": "dac6ef93",
   "metadata": {},
   "outputs": [
    {
     "data": {
      "text/plain": [
       "(2580, 83)"
      ]
     },
     "execution_count": 2,
     "metadata": {},
     "output_type": "execute_result"
    }
   ],
   "source": [
    "ordinal = pd.read_csv('../../../Data/BaseOrdinal.csv')\n",
    "ordinal.shape"
   ]
  },
  {
   "cell_type": "code",
   "execution_count": 3,
   "id": "c5cab84c",
   "metadata": {},
   "outputs": [
    {
     "data": {
      "text/plain": [
       "(2580, 80)"
      ]
     },
     "execution_count": 3,
     "metadata": {},
     "output_type": "execute_result"
    }
   ],
   "source": [
    "ordinal = ordinal.drop(['Unnamed: 0', 'PID', 'Unnamed: 0.1'], axis=1)\n",
    "ordinal.shape"
   ]
  },
  {
   "cell_type": "code",
   "execution_count": 4,
   "id": "9093db74",
   "metadata": {},
   "outputs": [],
   "source": [
    "#ordinal.head(3)"
   ]
  },
  {
   "cell_type": "code",
   "execution_count": 5,
   "id": "bfef3b55",
   "metadata": {},
   "outputs": [],
   "source": [
    "def objective(trial):\n",
    "    X_train, X_test, y_train, y_test = train_test_split(X, y, test_size=0.25)\n",
    "    param = {\n",
    "        \"loss_function\": trial.suggest_categorical(\"loss_function\", [\"RMSE\", \"MAE\"]),\n",
    "        \"learning_rate\": trial.suggest_loguniform(\"learning_rate\", 1e-5, 1e0),\n",
    "        \"l2_leaf_reg\": trial.suggest_loguniform(\"l2_leaf_reg\", 1e-2, 1e0),\n",
    "        \"colsample_bylevel\": trial.suggest_float(\"colsample_bylevel\", 0.01, 0.1),\n",
    "        \"depth\": trial.suggest_int(\"depth\", 1, 10),\n",
    "        \"boosting_type\": trial.suggest_categorical(\"boosting_type\", [\"Ordered\", \"Plain\"]),\n",
    "        \"bootstrap_type\": trial.suggest_categorical(\"bootstrap_type\", [\"Bayesian\", \"Bernoulli\", \"MVS\"]),\n",
    "        \"min_data_in_leaf\": trial.suggest_int(\"min_data_in_leaf\", 2, 20),\n",
    "        \"one_hot_max_size\": trial.suggest_int(\"one_hot_max_size\", 2, 20),  \n",
    "    }\n",
    "    # Conditional Hyper-Parameters\n",
    "    if param[\"bootstrap_type\"] == \"Bayesian\":\n",
    "        param[\"bagging_temperature\"] = trial.suggest_float(\"bagging_temperature\", 0, 10)\n",
    "    elif param[\"bootstrap_type\"] == \"Bernoulli\":\n",
    "        param[\"subsample\"] = trial.suggest_float(\"subsample\", 0.1, 1)\n",
    "\n",
    "    reg = CatBoostRegressor(**param, cat_features=categorical_features_indices)\n",
    "    reg.fit(X_train, y_train, eval_set=[(X_test, y_test)], verbose=0, early_stopping_rounds=100)\n",
    "    y_pred = reg.predict(X_test)\n",
    "    score = r2_score(y_test, y_pred)\n",
    "    return score"
   ]
  },
  {
   "cell_type": "code",
   "execution_count": null,
   "id": "5e11ca0b",
   "metadata": {},
   "outputs": [],
   "source": []
  },
  {
   "cell_type": "code",
   "execution_count": 10,
   "id": "d8a97eba",
   "metadata": {},
   "outputs": [
    {
     "name": "stderr",
     "output_type": "stream",
     "text": [
      "\u001b[32m[I 2022-05-19 04:45:32,551]\u001b[0m A new study created in memory with name: no-name-d32a47ba-ef75-4b9a-8d3d-8f0dcfdab750\u001b[0m\n",
      "\u001b[32m[I 2022-05-19 04:45:35,771]\u001b[0m Trial 0 finished with value: 0.9145966756568817 and parameters: {'loss_function': 'RMSE', 'learning_rate': 0.03126128881300504, 'l2_leaf_reg': 0.7932093477389193, 'colsample_bylevel': 0.09234292219665938, 'depth': 6, 'boosting_type': 'Ordered', 'bootstrap_type': 'Bernoulli', 'min_data_in_leaf': 18, 'one_hot_max_size': 5, 'subsample': 0.8895765061700885}. Best is trial 0 with value: 0.9145966756568817.\u001b[0m\n",
      "\u001b[32m[I 2022-05-19 04:45:36,735]\u001b[0m Trial 1 finished with value: 0.8779987339866764 and parameters: {'loss_function': 'MAE', 'learning_rate': 0.054614532093053725, 'l2_leaf_reg': 0.011379748151209242, 'colsample_bylevel': 0.0489561689737194, 'depth': 3, 'boosting_type': 'Ordered', 'bootstrap_type': 'Bayesian', 'min_data_in_leaf': 20, 'one_hot_max_size': 13, 'bagging_temperature': 0.051098257571943195}. Best is trial 0 with value: 0.9145966756568817.\u001b[0m\n",
      "\u001b[32m[I 2022-05-19 04:45:38,117]\u001b[0m Trial 2 finished with value: 0.2362461789397553 and parameters: {'loss_function': 'RMSE', 'learning_rate': 0.0002938863189566628, 'l2_leaf_reg': 0.6751712297161877, 'colsample_bylevel': 0.04025242569190319, 'depth': 7, 'boosting_type': 'Plain', 'bootstrap_type': 'Bernoulli', 'min_data_in_leaf': 8, 'one_hot_max_size': 11, 'subsample': 0.6745048127180514}. Best is trial 0 with value: 0.9145966756568817.\u001b[0m\n",
      "\u001b[32m[I 2022-05-19 04:45:40,499]\u001b[0m Trial 3 finished with value: 0.893401458325368 and parameters: {'loss_function': 'RMSE', 'learning_rate': 0.00909691652309771, 'l2_leaf_reg': 0.12266224633474886, 'colsample_bylevel': 0.09036026998723405, 'depth': 6, 'boosting_type': 'Ordered', 'bootstrap_type': 'Bernoulli', 'min_data_in_leaf': 3, 'one_hot_max_size': 14, 'subsample': 0.994290266542299}. Best is trial 0 with value: 0.9145966756568817.\u001b[0m\n",
      "\u001b[32m[I 2022-05-19 04:45:40,811]\u001b[0m Trial 4 finished with value: -0.008213681940496542 and parameters: {'loss_function': 'RMSE', 'learning_rate': 1.2291469357931032e-05, 'l2_leaf_reg': 0.09039227451103155, 'colsample_bylevel': 0.016014668372891623, 'depth': 1, 'boosting_type': 'Plain', 'bootstrap_type': 'MVS', 'min_data_in_leaf': 7, 'one_hot_max_size': 15}. Best is trial 0 with value: 0.9145966756568817.\u001b[0m\n",
      "\u001b[32m[I 2022-05-19 04:45:43,447]\u001b[0m Trial 5 finished with value: 0.5275420718041505 and parameters: {'loss_function': 'MAE', 'learning_rate': 0.0013725726548586053, 'l2_leaf_reg': 0.021382733836793257, 'colsample_bylevel': 0.0637035482812572, 'depth': 7, 'boosting_type': 'Ordered', 'bootstrap_type': 'Bayesian', 'min_data_in_leaf': 9, 'one_hot_max_size': 3, 'bagging_temperature': 8.097567855842348}. Best is trial 0 with value: 0.9145966756568817.\u001b[0m\n",
      "\u001b[32m[I 2022-05-19 04:45:43,889]\u001b[0m Trial 6 finished with value: 0.8029895451161637 and parameters: {'loss_function': 'MAE', 'learning_rate': 0.42838662863633997, 'l2_leaf_reg': 0.06924458739737434, 'colsample_bylevel': 0.010770582340496793, 'depth': 3, 'boosting_type': 'Ordered', 'bootstrap_type': 'Bernoulli', 'min_data_in_leaf': 4, 'one_hot_max_size': 16, 'subsample': 0.975235380671355}. Best is trial 0 with value: 0.9145966756568817.\u001b[0m\n",
      "\u001b[32m[I 2022-05-19 04:45:44,583]\u001b[0m Trial 7 finished with value: 0.8641591267243396 and parameters: {'loss_function': 'MAE', 'learning_rate': 0.21298329065172508, 'l2_leaf_reg': 0.16843514318674516, 'colsample_bylevel': 0.08937670709883715, 'depth': 2, 'boosting_type': 'Plain', 'bootstrap_type': 'Bernoulli', 'min_data_in_leaf': 2, 'one_hot_max_size': 7, 'subsample': 0.18102044547147184}. Best is trial 0 with value: 0.9145966756568817.\u001b[0m\n",
      "\u001b[32m[I 2022-05-19 04:45:48,224]\u001b[0m Trial 8 finished with value: 0.6682460812449369 and parameters: {'loss_function': 'RMSE', 'learning_rate': 0.001568841490821799, 'l2_leaf_reg': 0.6175971270988814, 'colsample_bylevel': 0.07629045086773541, 'depth': 9, 'boosting_type': 'Plain', 'bootstrap_type': 'Bayesian', 'min_data_in_leaf': 11, 'one_hot_max_size': 20, 'bagging_temperature': 0.49498173403601076}. Best is trial 0 with value: 0.9145966756568817.\u001b[0m\n",
      "\u001b[32m[I 2022-05-19 04:45:49,295]\u001b[0m Trial 9 finished with value: 0.8062841631132467 and parameters: {'loss_function': 'MAE', 'learning_rate': 0.013945339085963033, 'l2_leaf_reg': 0.10964317151668065, 'colsample_bylevel': 0.07965789965928899, 'depth': 3, 'boosting_type': 'Plain', 'bootstrap_type': 'Bayesian', 'min_data_in_leaf': 7, 'one_hot_max_size': 8, 'bagging_temperature': 9.94345354009232}. Best is trial 0 with value: 0.9145966756568817.\u001b[0m\n",
      "\u001b[32m[I 2022-05-19 04:45:58,279]\u001b[0m Trial 10 finished with value: 0.07831460701538939 and parameters: {'loss_function': 'RMSE', 'learning_rate': 6.40635539648687e-05, 'l2_leaf_reg': 0.3103564398767555, 'colsample_bylevel': 0.09898656072402122, 'depth': 10, 'boosting_type': 'Ordered', 'bootstrap_type': 'MVS', 'min_data_in_leaf': 18, 'one_hot_max_size': 2}. Best is trial 0 with value: 0.9145966756568817.\u001b[0m\n",
      "\u001b[32m[I 2022-05-19 04:46:00,030]\u001b[0m Trial 11 finished with value: 0.8768359513475595 and parameters: {'loss_function': 'RMSE', 'learning_rate': 0.012797739031914415, 'l2_leaf_reg': 0.031124867019136738, 'colsample_bylevel': 0.0993394095576477, 'depth': 5, 'boosting_type': 'Ordered', 'bootstrap_type': 'Bernoulli', 'min_data_in_leaf': 15, 'one_hot_max_size': 7, 'subsample': 0.9953671341112182}. Best is trial 0 with value: 0.9145966756568817.\u001b[0m\n",
      "\u001b[32m[I 2022-05-19 04:46:02,096]\u001b[0m Trial 12 finished with value: 0.8448747023343768 and parameters: {'loss_function': 'RMSE', 'learning_rate': 0.014397369292111389, 'l2_leaf_reg': 0.9543529791959531, 'colsample_bylevel': 0.06775232769086413, 'depth': 6, 'boosting_type': 'Ordered', 'bootstrap_type': 'Bernoulli', 'min_data_in_leaf': 14, 'one_hot_max_size': 11, 'subsample': 0.735073212746292}. Best is trial 0 with value: 0.9145966756568817.\u001b[0m\n",
      "\u001b[32m[I 2022-05-19 04:46:03,690]\u001b[0m Trial 13 finished with value: 0.9162416150574744 and parameters: {'loss_function': 'RMSE', 'learning_rate': 0.06986199424033243, 'l2_leaf_reg': 0.307251079716921, 'colsample_bylevel': 0.0877144435879279, 'depth': 5, 'boosting_type': 'Ordered', 'bootstrap_type': 'Bernoulli', 'min_data_in_leaf': 15, 'one_hot_max_size': 19, 'subsample': 0.8520289467424107}. Best is trial 13 with value: 0.9162416150574744.\u001b[0m\n",
      "\u001b[32m[I 2022-05-19 04:46:05,231]\u001b[0m Trial 14 finished with value: 0.8716300185591713 and parameters: {'loss_function': 'RMSE', 'learning_rate': 0.08458823293830062, 'l2_leaf_reg': 0.30566468307396827, 'colsample_bylevel': 0.08179773672639695, 'depth': 5, 'boosting_type': 'Ordered', 'bootstrap_type': 'Bernoulli', 'min_data_in_leaf': 16, 'one_hot_max_size': 20, 'subsample': 0.7443921942280657}. Best is trial 13 with value: 0.9162416150574744.\u001b[0m\n",
      "\u001b[32m[I 2022-05-19 04:46:05,725]\u001b[0m Trial 15 finished with value: 0.8317874763945554 and parameters: {'loss_function': 'RMSE', 'learning_rate': 0.623172833391595, 'l2_leaf_reg': 0.36445525327061284, 'colsample_bylevel': 0.03279504653988882, 'depth': 8, 'boosting_type': 'Ordered', 'bootstrap_type': 'Bernoulli', 'min_data_in_leaf': 13, 'one_hot_max_size': 5, 'subsample': 0.3582838401379488}. Best is trial 13 with value: 0.9162416150574744.\u001b[0m\n",
      "\u001b[32m[I 2022-05-19 04:46:06,571]\u001b[0m Trial 16 finished with value: 0.9082711928761444 and parameters: {'loss_function': 'RMSE', 'learning_rate': 0.07076500800766033, 'l2_leaf_reg': 0.21693811907183314, 'colsample_bylevel': 0.06304770742223365, 'depth': 4, 'boosting_type': 'Ordered', 'bootstrap_type': 'MVS', 'min_data_in_leaf': 18, 'one_hot_max_size': 17}. Best is trial 13 with value: 0.9162416150574744.\u001b[0m\n",
      "\u001b[32m[I 2022-05-19 04:46:08,678]\u001b[0m Trial 17 finished with value: 0.8626431842230512 and parameters: {'loss_function': 'RMSE', 'learning_rate': 0.0035967133050096097, 'l2_leaf_reg': 0.5174707691545862, 'colsample_bylevel': 0.07201384661950128, 'depth': 7, 'boosting_type': 'Ordered', 'bootstrap_type': 'Bernoulli', 'min_data_in_leaf': 20, 'one_hot_max_size': 9, 'subsample': 0.5375194792139505}. Best is trial 13 with value: 0.9162416150574744.\u001b[0m\n",
      "\u001b[32m[I 2022-05-19 04:46:09,916]\u001b[0m Trial 18 finished with value: 0.9094109938136922 and parameters: {'loss_function': 'RMSE', 'learning_rate': 0.04557907247218863, 'l2_leaf_reg': 0.05818220822238547, 'colsample_bylevel': 0.08859605230605484, 'depth': 4, 'boosting_type': 'Ordered', 'bootstrap_type': 'Bernoulli', 'min_data_in_leaf': 17, 'one_hot_max_size': 18, 'subsample': 0.8391456521252819}. Best is trial 13 with value: 0.9162416150574744.\u001b[0m\n"
     ]
    },
    {
     "name": "stderr",
     "output_type": "stream",
     "text": [
      "\u001b[32m[I 2022-05-19 04:46:12,609]\u001b[0m Trial 19 finished with value: 0.3813965434890324 and parameters: {'loss_function': 'RMSE', 'learning_rate': 0.00042812177158285555, 'l2_leaf_reg': 0.4476898280463368, 'colsample_bylevel': 0.05726502582690372, 'depth': 8, 'boosting_type': 'Ordered', 'bootstrap_type': 'MVS', 'min_data_in_leaf': 12, 'one_hot_max_size': 5}. Best is trial 13 with value: 0.9162416150574744.\u001b[0m\n",
      "\u001b[32m[I 2022-05-19 04:46:13,023]\u001b[0m Trial 20 finished with value: 0.8203182894207948 and parameters: {'loss_function': 'RMSE', 'learning_rate': 0.9840670551097953, 'l2_leaf_reg': 0.8489502952309688, 'colsample_bylevel': 0.0845355299288916, 'depth': 5, 'boosting_type': 'Ordered', 'bootstrap_type': 'Bernoulli', 'min_data_in_leaf': 16, 'one_hot_max_size': 12, 'subsample': 0.49097298358711194}. Best is trial 13 with value: 0.9162416150574744.\u001b[0m\n",
      "\u001b[32m[I 2022-05-19 04:46:14,297]\u001b[0m Trial 21 finished with value: 0.9093860966809626 and parameters: {'loss_function': 'RMSE', 'learning_rate': 0.04578929790663431, 'l2_leaf_reg': 0.05124872501598147, 'colsample_bylevel': 0.09090175116767193, 'depth': 4, 'boosting_type': 'Ordered', 'bootstrap_type': 'Bernoulli', 'min_data_in_leaf': 18, 'one_hot_max_size': 18, 'subsample': 0.8341803094055159}. Best is trial 13 with value: 0.9162416150574744.\u001b[0m\n",
      "\u001b[32m[I 2022-05-19 04:46:15,650]\u001b[0m Trial 22 finished with value: 0.8767368126776445 and parameters: {'loss_function': 'RMSE', 'learning_rate': 0.16957187433455917, 'l2_leaf_reg': 0.194822539363816, 'colsample_bylevel': 0.09348302318426846, 'depth': 4, 'boosting_type': 'Ordered', 'bootstrap_type': 'Bernoulli', 'min_data_in_leaf': 17, 'one_hot_max_size': 18, 'subsample': 0.8434972353939544}. Best is trial 13 with value: 0.9162416150574744.\u001b[0m\n",
      "\u001b[32m[I 2022-05-19 04:46:18,170]\u001b[0m Trial 23 finished with value: 0.8853645036363439 and parameters: {'loss_function': 'RMSE', 'learning_rate': 0.025415369412229608, 'l2_leaf_reg': 0.06367289137545362, 'colsample_bylevel': 0.08382809147545328, 'depth': 6, 'boosting_type': 'Ordered', 'bootstrap_type': 'Bernoulli', 'min_data_in_leaf': 14, 'one_hot_max_size': 19, 'subsample': 0.8508955143271276}. Best is trial 13 with value: 0.9162416150574744.\u001b[0m\n",
      "\u001b[32m[I 2022-05-19 04:46:19,356]\u001b[0m Trial 24 finished with value: 0.9136797910816088 and parameters: {'loss_function': 'RMSE', 'learning_rate': 0.18639620385156386, 'l2_leaf_reg': 0.039488174329140535, 'colsample_bylevel': 0.07276023794012572, 'depth': 4, 'boosting_type': 'Ordered', 'bootstrap_type': 'Bernoulli', 'min_data_in_leaf': 19, 'one_hot_max_size': 16, 'subsample': 0.6299957125645153}. Best is trial 13 with value: 0.9162416150574744.\u001b[0m\n",
      "\u001b[32m[I 2022-05-19 04:46:19,996]\u001b[0m Trial 25 finished with value: 0.9175337821640855 and parameters: {'loss_function': 'RMSE', 'learning_rate': 0.17699506671838733, 'l2_leaf_reg': 0.033490441356766175, 'colsample_bylevel': 0.07352047338822876, 'depth': 2, 'boosting_type': 'Ordered', 'bootstrap_type': 'Bernoulli', 'min_data_in_leaf': 20, 'one_hot_max_size': 16, 'subsample': 0.6676917929430345}. Best is trial 25 with value: 0.9175337821640855.\u001b[0m\n",
      "\u001b[32m[I 2022-05-19 04:46:20,469]\u001b[0m Trial 26 finished with value: 0.40308420527116096 and parameters: {'loss_function': 'MAE', 'learning_rate': 0.003755723616230364, 'l2_leaf_reg': 0.016958559137166956, 'colsample_bylevel': 0.055054193247554076, 'depth': 1, 'boosting_type': 'Plain', 'bootstrap_type': 'Bernoulli', 'min_data_in_leaf': 20, 'one_hot_max_size': 14, 'subsample': 0.43665771210298765}. Best is trial 25 with value: 0.9175337821640855.\u001b[0m\n",
      "\u001b[32m[I 2022-05-19 04:46:21,118]\u001b[0m Trial 27 finished with value: 0.8886529923805333 and parameters: {'loss_function': 'RMSE', 'learning_rate': 0.25650265090037166, 'l2_leaf_reg': 0.2501393101903355, 'colsample_bylevel': 0.07634011936227453, 'depth': 2, 'boosting_type': 'Ordered', 'bootstrap_type': 'Bernoulli', 'min_data_in_leaf': 16, 'one_hot_max_size': 10, 'subsample': 0.6336408290970805}. Best is trial 25 with value: 0.9175337821640855.\u001b[0m\n",
      "\u001b[32m[I 2022-05-19 04:46:21,959]\u001b[0m Trial 28 finished with value: 0.9040544187900489 and parameters: {'loss_function': 'RMSE', 'learning_rate': 0.10733047340002919, 'l2_leaf_reg': 0.027018879689503447, 'colsample_bylevel': 0.0951320875462901, 'depth': 2, 'boosting_type': 'Ordered', 'bootstrap_type': 'Bayesian', 'min_data_in_leaf': 19, 'one_hot_max_size': 4, 'bagging_temperature': 4.5111104098211126}. Best is trial 25 with value: 0.9175337821640855.\u001b[0m\n",
      "\u001b[32m[I 2022-05-19 04:46:22,935]\u001b[0m Trial 29 finished with value: 0.8730877856379201 and parameters: {'loss_function': 'MAE', 'learning_rate': 0.03166457005750742, 'l2_leaf_reg': 0.011235312011156325, 'colsample_bylevel': 0.04342650272628765, 'depth': 3, 'boosting_type': 'Ordered', 'bootstrap_type': 'MVS', 'min_data_in_leaf': 20, 'one_hot_max_size': 14}. Best is trial 25 with value: 0.9175337821640855.\u001b[0m\n",
      "\u001b[32m[I 2022-05-19 04:46:24,544]\u001b[0m Trial 30 finished with value: 0.865799250300559 and parameters: {'loss_function': 'RMSE', 'learning_rate': 0.46794862740921267, 'l2_leaf_reg': 0.7230801126000057, 'colsample_bylevel': 0.0683113526455648, 'depth': 8, 'boosting_type': 'Ordered', 'bootstrap_type': 'Bayesian', 'min_data_in_leaf': 14, 'one_hot_max_size': 13, 'bagging_temperature': 4.309477741075446}. Best is trial 25 with value: 0.9175337821640855.\u001b[0m\n",
      "\u001b[32m[I 2022-05-19 04:46:25,613]\u001b[0m Trial 31 finished with value: 0.8594948535954428 and parameters: {'loss_function': 'RMSE', 'learning_rate': 0.13735202433519245, 'l2_leaf_reg': 0.044360371373485495, 'colsample_bylevel': 0.07496884493427823, 'depth': 5, 'boosting_type': 'Ordered', 'bootstrap_type': 'Bernoulli', 'min_data_in_leaf': 19, 'one_hot_max_size': 16, 'subsample': 0.6381064723901816}. Best is trial 25 with value: 0.9175337821640855.\u001b[0m\n",
      "\u001b[32m[I 2022-05-19 04:46:26,455]\u001b[0m Trial 32 finished with value: 0.8893400438003862 and parameters: {'loss_function': 'RMSE', 'learning_rate': 0.3042763737100084, 'l2_leaf_reg': 0.03347551253592511, 'colsample_bylevel': 0.08384143471148144, 'depth': 6, 'boosting_type': 'Ordered', 'bootstrap_type': 'Bernoulli', 'min_data_in_leaf': 19, 'one_hot_max_size': 16, 'subsample': 0.7554474860844411}. Best is trial 25 with value: 0.9175337821640855.\u001b[0m\n",
      "\u001b[32m[I 2022-05-19 04:46:27,555]\u001b[0m Trial 33 finished with value: 0.9079774058877107 and parameters: {'loss_function': 'RMSE', 'learning_rate': 0.09537199230390643, 'l2_leaf_reg': 0.019089688553738694, 'colsample_bylevel': 0.06075303107080511, 'depth': 4, 'boosting_type': 'Ordered', 'bootstrap_type': 'Bernoulli', 'min_data_in_leaf': 17, 'one_hot_max_size': 19, 'subsample': 0.8944071889878267}. Best is trial 25 with value: 0.9175337821640855.\u001b[0m\n",
      "\u001b[32m[I 2022-05-19 04:46:29,347]\u001b[0m Trial 34 finished with value: 0.8878178490043462 and parameters: {'loss_function': 'RMSE', 'learning_rate': 0.02352110082850601, 'l2_leaf_reg': 0.14343648678115384, 'colsample_bylevel': 0.07024045032731414, 'depth': 7, 'boosting_type': 'Plain', 'bootstrap_type': 'Bernoulli', 'min_data_in_leaf': 18, 'one_hot_max_size': 17, 'subsample': 0.5741941319874031}. Best is trial 25 with value: 0.9175337821640855.\u001b[0m\n",
      "\u001b[32m[I 2022-05-19 04:46:30,059]\u001b[0m Trial 35 finished with value: 0.9044483123485696 and parameters: {'loss_function': 'RMSE', 'learning_rate': 0.053722716256455, 'l2_leaf_reg': 0.013783042446928217, 'colsample_bylevel': 0.0870975863240447, 'depth': 2, 'boosting_type': 'Ordered', 'bootstrap_type': 'Bernoulli', 'min_data_in_leaf': 19, 'one_hot_max_size': 15, 'subsample': 0.90786397623498}. Best is trial 25 with value: 0.9175337821640855.\u001b[0m\n",
      "\u001b[32m[I 2022-05-19 04:46:30,960]\u001b[0m Trial 36 finished with value: 0.8438693960633622 and parameters: {'loss_function': 'RMSE', 'learning_rate': 0.007133358356194754, 'l2_leaf_reg': 0.10302541362230623, 'colsample_bylevel': 0.026779772497086966, 'depth': 5, 'boosting_type': 'Ordered', 'bootstrap_type': 'Bernoulli', 'min_data_in_leaf': 15, 'one_hot_max_size': 13, 'subsample': 0.7611023342890724}. Best is trial 25 with value: 0.9175337821640855.\u001b[0m\n",
      "\u001b[32m[I 2022-05-19 04:46:31,231]\u001b[0m Trial 37 finished with value: 0.8540739652423512 and parameters: {'loss_function': 'MAE', 'learning_rate': 0.8997272218363755, 'l2_leaf_reg': 0.03639082461605767, 'colsample_bylevel': 0.05090772872574056, 'depth': 1, 'boosting_type': 'Ordered', 'bootstrap_type': 'Bernoulli', 'min_data_in_leaf': 9, 'one_hot_max_size': 15, 'subsample': 0.6768694281896137}. Best is trial 25 with value: 0.9175337821640855.\u001b[0m\n"
     ]
    },
    {
     "name": "stderr",
     "output_type": "stream",
     "text": [
      "\u001b[32m[I 2022-05-19 04:46:31,660]\u001b[0m Trial 38 finished with value: 0.8378869064252266 and parameters: {'loss_function': 'RMSE', 'learning_rate': 0.22695341050943152, 'l2_leaf_reg': 0.024552818786506593, 'colsample_bylevel': 0.07875454199490464, 'depth': 6, 'boosting_type': 'Plain', 'bootstrap_type': 'Bernoulli', 'min_data_in_leaf': 20, 'one_hot_max_size': 12, 'subsample': 0.5961222614539541}. Best is trial 25 with value: 0.9175337821640855.\u001b[0m\n",
      "\u001b[32m[I 2022-05-19 04:46:32,840]\u001b[0m Trial 39 finished with value: 0.7609673018104838 and parameters: {'loss_function': 'MAE', 'learning_rate': 0.006598823990994747, 'l2_leaf_reg': 0.08014932583409815, 'colsample_bylevel': 0.09464653471670936, 'depth': 3, 'boosting_type': 'Ordered', 'bootstrap_type': 'Bayesian', 'min_data_in_leaf': 17, 'one_hot_max_size': 17, 'bagging_temperature': 6.810850392313772}. Best is trial 25 with value: 0.9175337821640855.\u001b[0m\n",
      "\u001b[32m[I 2022-05-19 04:46:33,414]\u001b[0m Trial 40 finished with value: 0.5288408584324572 and parameters: {'loss_function': 'RMSE', 'learning_rate': 0.0011672813600605513, 'l2_leaf_reg': 0.041580975370145164, 'colsample_bylevel': 0.06532961397809713, 'depth': 2, 'boosting_type': 'Plain', 'bootstrap_type': 'MVS', 'min_data_in_leaf': 15, 'one_hot_max_size': 19}. Best is trial 25 with value: 0.9175337821640855.\u001b[0m\n",
      "\u001b[32m[I 2022-05-19 04:46:34,657]\u001b[0m Trial 41 finished with value: 0.9006829987668103 and parameters: {'loss_function': 'RMSE', 'learning_rate': 0.042836427649797025, 'l2_leaf_reg': 0.057265758350882975, 'colsample_bylevel': 0.08776318790464205, 'depth': 4, 'boosting_type': 'Ordered', 'bootstrap_type': 'Bernoulli', 'min_data_in_leaf': 17, 'one_hot_max_size': 18, 'subsample': 0.778519281571411}. Best is trial 25 with value: 0.9175337821640855.\u001b[0m\n",
      "\u001b[32m[I 2022-05-19 04:46:35,941]\u001b[0m Trial 42 finished with value: 0.9073014478545876 and parameters: {'loss_function': 'RMSE', 'learning_rate': 0.14281161761683975, 'l2_leaf_reg': 0.07086039351004603, 'colsample_bylevel': 0.09043034368759723, 'depth': 4, 'boosting_type': 'Ordered', 'bootstrap_type': 'Bernoulli', 'min_data_in_leaf': 5, 'one_hot_max_size': 20, 'subsample': 0.9273119819844984}. Best is trial 25 with value: 0.9175337821640855.\u001b[0m\n",
      "\u001b[32m[I 2022-05-19 04:46:36,340]\u001b[0m Trial 43 finished with value: 0.7900146097817362 and parameters: {'loss_function': 'RMSE', 'learning_rate': 0.3334510493019562, 'l2_leaf_reg': 0.13051508746200916, 'colsample_bylevel': 0.09998879894264595, 'depth': 3, 'boosting_type': 'Ordered', 'bootstrap_type': 'Bernoulli', 'min_data_in_leaf': 18, 'one_hot_max_size': 17, 'subsample': 0.8223144942629478}. Best is trial 25 with value: 0.9175337821640855.\u001b[0m\n",
      "\u001b[32m[I 2022-05-19 04:46:37,772]\u001b[0m Trial 44 finished with value: 0.8955375015710648 and parameters: {'loss_function': 'RMSE', 'learning_rate': 0.020613052199592294, 'l2_leaf_reg': 0.04896083709896993, 'colsample_bylevel': 0.07418582652082789, 'depth': 5, 'boosting_type': 'Ordered', 'bootstrap_type': 'Bernoulli', 'min_data_in_leaf': 19, 'one_hot_max_size': 15, 'subsample': 0.682370500829075}. Best is trial 25 with value: 0.9175337821640855.\u001b[0m\n",
      "\u001b[32m[I 2022-05-19 04:46:40,777]\u001b[0m Trial 45 finished with value: 0.918816207461143 and parameters: {'loss_function': 'RMSE', 'learning_rate': 0.06179324139187105, 'l2_leaf_reg': 0.08520160198760393, 'colsample_bylevel': 0.07978197698942699, 'depth': 6, 'boosting_type': 'Ordered', 'bootstrap_type': 'Bernoulli', 'min_data_in_leaf': 16, 'one_hot_max_size': 7, 'subsample': 0.6993673223759184}. Best is trial 45 with value: 0.918816207461143.\u001b[0m\n",
      "\u001b[32m[I 2022-05-19 04:46:43,537]\u001b[0m Trial 46 finished with value: 0.05478151031448186 and parameters: {'loss_function': 'RMSE', 'learning_rate': 5.151526732107472e-05, 'l2_leaf_reg': 0.09155399742188271, 'colsample_bylevel': 0.07953067221537484, 'depth': 6, 'boosting_type': 'Ordered', 'bootstrap_type': 'Bernoulli', 'min_data_in_leaf': 12, 'one_hot_max_size': 7, 'subsample': 0.7047723519735862}. Best is trial 45 with value: 0.918816207461143.\u001b[0m\n",
      "\u001b[32m[I 2022-05-19 04:46:46,404]\u001b[0m Trial 47 finished with value: 0.9134495734529974 and parameters: {'loss_function': 'RMSE', 'learning_rate': 0.0822037737730122, 'l2_leaf_reg': 0.3705615342394665, 'colsample_bylevel': 0.08038511155669914, 'depth': 7, 'boosting_type': 'Ordered', 'bootstrap_type': 'Bayesian', 'min_data_in_leaf': 16, 'one_hot_max_size': 3, 'bagging_temperature': 3.532277311261712}. Best is trial 45 with value: 0.918816207461143.\u001b[0m\n",
      "\u001b[32m[I 2022-05-19 04:46:46,974]\u001b[0m Trial 48 finished with value: 0.847926120605725 and parameters: {'loss_function': 'MAE', 'learning_rate': 0.4949852921579292, 'l2_leaf_reg': 0.5618129275547393, 'colsample_bylevel': 0.07190305308040036, 'depth': 6, 'boosting_type': 'Plain', 'bootstrap_type': 'Bernoulli', 'min_data_in_leaf': 13, 'one_hot_max_size': 8, 'subsample': 0.5141060744517467}. Best is trial 45 with value: 0.918816207461143.\u001b[0m\n",
      "\u001b[32m[I 2022-05-19 04:46:48,154]\u001b[0m Trial 49 finished with value: 0.8778571541190036 and parameters: {'loss_function': 'RMSE', 'learning_rate': 0.18462732998391507, 'l2_leaf_reg': 0.16432943689417306, 'colsample_bylevel': 0.059903339369153895, 'depth': 7, 'boosting_type': 'Ordered', 'bootstrap_type': 'Bernoulli', 'min_data_in_leaf': 18, 'one_hot_max_size': 5, 'subsample': 0.6259685029109043}. Best is trial 45 with value: 0.918816207461143.\u001b[0m\n",
      "\u001b[32m[I 2022-05-19 04:46:49,805]\u001b[0m Trial 50 finished with value: 0.8887929872745903 and parameters: {'loss_function': 'RMSE', 'learning_rate': 0.011378620622181137, 'l2_leaf_reg': 0.26115913088483816, 'colsample_bylevel': 0.09582219578081137, 'depth': 5, 'boosting_type': 'Ordered', 'bootstrap_type': 'MVS', 'min_data_in_leaf': 10, 'one_hot_max_size': 10}. Best is trial 45 with value: 0.918816207461143.\u001b[0m\n",
      "\u001b[32m[I 2022-05-19 04:46:52,645]\u001b[0m Trial 51 finished with value: 0.8941737136209413 and parameters: {'loss_function': 'RMSE', 'learning_rate': 0.07134297670288327, 'l2_leaf_reg': 0.35790143722891693, 'colsample_bylevel': 0.08040266984654651, 'depth': 7, 'boosting_type': 'Ordered', 'bootstrap_type': 'Bayesian', 'min_data_in_leaf': 16, 'one_hot_max_size': 3, 'bagging_temperature': 2.340197911985517}. Best is trial 45 with value: 0.918816207461143.\u001b[0m\n",
      "\u001b[32m[I 2022-05-19 04:46:56,860]\u001b[0m Trial 52 finished with value: 0.9190488800307046 and parameters: {'loss_function': 'RMSE', 'learning_rate': 0.06872719212364878, 'l2_leaf_reg': 0.4442256457139455, 'colsample_bylevel': 0.08524052528325292, 'depth': 8, 'boosting_type': 'Ordered', 'bootstrap_type': 'Bayesian', 'min_data_in_leaf': 15, 'one_hot_max_size': 2, 'bagging_temperature': 2.7351284743458057}. Best is trial 52 with value: 0.9190488800307046.\u001b[0m\n",
      "\u001b[32m[I 2022-05-19 04:47:02,725]\u001b[0m Trial 53 finished with value: 0.8876753453497073 and parameters: {'loss_function': 'RMSE', 'learning_rate': 0.03479909850286877, 'l2_leaf_reg': 0.7691446995713446, 'colsample_bylevel': 0.08513422478439828, 'depth': 9, 'boosting_type': 'Ordered', 'bootstrap_type': 'Bayesian', 'min_data_in_leaf': 15, 'one_hot_max_size': 2, 'bagging_temperature': 2.412776389317594}. Best is trial 52 with value: 0.9190488800307046.\u001b[0m\n",
      "\u001b[32m[I 2022-05-19 04:47:08,693]\u001b[0m Trial 54 finished with value: 0.8928711902927021 and parameters: {'loss_function': 'RMSE', 'learning_rate': 0.019914045860080748, 'l2_leaf_reg': 0.5207220627671324, 'colsample_bylevel': 0.091846822195591, 'depth': 9, 'boosting_type': 'Ordered', 'bootstrap_type': 'Bayesian', 'min_data_in_leaf': 13, 'one_hot_max_size': 6, 'bagging_temperature': 6.838307724338844}. Best is trial 52 with value: 0.9190488800307046.\u001b[0m\n",
      "\u001b[32m[I 2022-05-19 04:47:13,538]\u001b[0m Trial 55 finished with value: 0.8700847327787146 and parameters: {'loss_function': 'RMSE', 'learning_rate': 0.1289808393140914, 'l2_leaf_reg': 0.6188929655699711, 'colsample_bylevel': 0.07659993378406167, 'depth': 10, 'boosting_type': 'Ordered', 'bootstrap_type': 'Bayesian', 'min_data_in_leaf': 20, 'one_hot_max_size': 4, 'bagging_temperature': 2.0039312041649637}. Best is trial 52 with value: 0.9190488800307046.\u001b[0m\n",
      "\u001b[32m[I 2022-05-19 04:47:17,349]\u001b[0m Trial 56 finished with value: 0.8977359978289856 and parameters: {'loss_function': 'RMSE', 'learning_rate': 0.06641149720125734, 'l2_leaf_reg': 0.43622504337839635, 'colsample_bylevel': 0.08744802874417676, 'depth': 8, 'boosting_type': 'Ordered', 'bootstrap_type': 'Bernoulli', 'min_data_in_leaf': 14, 'one_hot_max_size': 6, 'subsample': 0.9420744952836124}. Best is trial 52 with value: 0.9190488800307046.\u001b[0m\n"
     ]
    },
    {
     "name": "stderr",
     "output_type": "stream",
     "text": [
      "\u001b[32m[I 2022-05-19 04:47:17,697]\u001b[0m Trial 57 finished with value: 0.8363022117040381 and parameters: {'loss_function': 'RMSE', 'learning_rate': 0.6844256739257775, 'l2_leaf_reg': 0.873634327132598, 'colsample_bylevel': 0.06666728129565802, 'depth': 5, 'boosting_type': 'Ordered', 'bootstrap_type': 'Bernoulli', 'min_data_in_leaf': 15, 'one_hot_max_size': 2, 'subsample': 0.8005360167982967}. Best is trial 52 with value: 0.9190488800307046.\u001b[0m\n",
      "\u001b[32m[I 2022-05-19 04:47:20,700]\u001b[0m Trial 58 finished with value: 0.9034788251595698 and parameters: {'loss_function': 'RMSE', 'learning_rate': 0.20888777442964382, 'l2_leaf_reg': 0.44987113273381796, 'colsample_bylevel': 0.08254240118995972, 'depth': 8, 'boosting_type': 'Ordered', 'bootstrap_type': 'Bernoulli', 'min_data_in_leaf': 18, 'one_hot_max_size': 8, 'subsample': 0.22897175057252378}. Best is trial 52 with value: 0.9190488800307046.\u001b[0m\n",
      "\u001b[32m[I 2022-05-19 04:47:24,781]\u001b[0m Trial 59 finished with value: 0.8866667411191523 and parameters: {'loss_function': 'MAE', 'learning_rate': 0.01533921260129585, 'l2_leaf_reg': 0.02483419026875294, 'colsample_bylevel': 0.09626083880769792, 'depth': 6, 'boosting_type': 'Ordered', 'bootstrap_type': 'Bayesian', 'min_data_in_leaf': 17, 'one_hot_max_size': 3, 'bagging_temperature': 5.976197814342723}. Best is trial 52 with value: 0.9190488800307046.\u001b[0m\n",
      "\u001b[32m[I 2022-05-19 04:47:25,067]\u001b[0m Trial 60 finished with value: 0.8969979250113742 and parameters: {'loss_function': 'RMSE', 'learning_rate': 0.35519638853586993, 'l2_leaf_reg': 0.2699900182028155, 'colsample_bylevel': 0.0853582022654952, 'depth': 3, 'boosting_type': 'Plain', 'bootstrap_type': 'MVS', 'min_data_in_leaf': 19, 'one_hot_max_size': 4}. Best is trial 52 with value: 0.9190488800307046.\u001b[0m\n",
      "\u001b[32m[I 2022-05-19 04:47:27,900]\u001b[0m Trial 61 finished with value: 0.8839888464154003 and parameters: {'loss_function': 'RMSE', 'learning_rate': 0.09510629097986223, 'l2_leaf_reg': 0.35800541884565246, 'colsample_bylevel': 0.07819364596665086, 'depth': 7, 'boosting_type': 'Ordered', 'bootstrap_type': 'Bayesian', 'min_data_in_leaf': 16, 'one_hot_max_size': 3, 'bagging_temperature': 3.477085143582367}. Best is trial 52 with value: 0.9190488800307046.\u001b[0m\n",
      "\u001b[32m[I 2022-05-19 04:47:30,627]\u001b[0m Trial 62 finished with value: 0.8924065022179771 and parameters: {'loss_function': 'RMSE', 'learning_rate': 0.06597146663864072, 'l2_leaf_reg': 0.9624286565635197, 'colsample_bylevel': 0.07367744419579952, 'depth': 7, 'boosting_type': 'Ordered', 'bootstrap_type': 'Bayesian', 'min_data_in_leaf': 16, 'one_hot_max_size': 3, 'bagging_temperature': 3.3329235301473403}. Best is trial 52 with value: 0.9190488800307046.\u001b[0m\n",
      "\u001b[32m[I 2022-05-19 04:47:33,483]\u001b[0m Trial 63 finished with value: 0.9070713132856699 and parameters: {'loss_function': 'RMSE', 'learning_rate': 0.03439637744707897, 'l2_leaf_reg': 0.2132733940275406, 'colsample_bylevel': 0.07001426334094929, 'depth': 6, 'boosting_type': 'Ordered', 'bootstrap_type': 'Bayesian', 'min_data_in_leaf': 17, 'one_hot_max_size': 6, 'bagging_temperature': 1.3621847227185366}. Best is trial 52 with value: 0.9190488800307046.\u001b[0m\n",
      "\u001b[32m[I 2022-05-19 04:47:36,694]\u001b[0m Trial 64 finished with value: 0.8657132013518083 and parameters: {'loss_function': 'RMSE', 'learning_rate': 0.09002747018400573, 'l2_leaf_reg': 0.6896177630560429, 'colsample_bylevel': 0.08089631088401998, 'depth': 9, 'boosting_type': 'Ordered', 'bootstrap_type': 'Bayesian', 'min_data_in_leaf': 12, 'one_hot_max_size': 2, 'bagging_temperature': 5.2685464606379675}. Best is trial 52 with value: 0.9190488800307046.\u001b[0m\n",
      "\u001b[32m[I 2022-05-19 04:47:38,792]\u001b[0m Trial 65 finished with value: 0.8585373769648355 and parameters: {'loss_function': 'RMSE', 'learning_rate': 0.05117109317284946, 'l2_leaf_reg': 0.028818115200261365, 'colsample_bylevel': 0.09143639766144271, 'depth': 8, 'boosting_type': 'Ordered', 'bootstrap_type': 'Bayesian', 'min_data_in_leaf': 15, 'one_hot_max_size': 5, 'bagging_temperature': 3.605967676250762}. Best is trial 52 with value: 0.9190488800307046.\u001b[0m\n",
      "\u001b[32m[I 2022-05-19 04:47:39,473]\u001b[0m Trial 66 finished with value: 0.8547505592740928 and parameters: {'loss_function': 'RMSE', 'learning_rate': 0.15818576438412288, 'l2_leaf_reg': 0.42545840557841624, 'colsample_bylevel': 0.08196633310158939, 'depth': 7, 'boosting_type': 'Ordered', 'bootstrap_type': 'Bernoulli', 'min_data_in_leaf': 20, 'one_hot_max_size': 4, 'subsample': 0.4591832105404491}. Best is trial 52 with value: 0.9190488800307046.\u001b[0m\n",
      "\u001b[32m[I 2022-05-19 04:47:41,832]\u001b[0m Trial 67 finished with value: 0.9088473245362647 and parameters: {'loss_function': 'RMSE', 'learning_rate': 0.10990755934866334, 'l2_leaf_reg': 0.17056065041308432, 'colsample_bylevel': 0.0888232019521961, 'depth': 6, 'boosting_type': 'Ordered', 'bootstrap_type': 'Bernoulli', 'min_data_in_leaf': 14, 'one_hot_max_size': 14, 'subsample': 0.7181389569339465}. Best is trial 52 with value: 0.9190488800307046.\u001b[0m\n",
      "\u001b[32m[I 2022-05-19 04:47:43,558]\u001b[0m Trial 68 finished with value: 0.9007310619890199 and parameters: {'loss_function': 'RMSE', 'learning_rate': 0.24709458626888178, 'l2_leaf_reg': 0.29597049687405985, 'colsample_bylevel': 0.09756391135343223, 'depth': 7, 'boosting_type': 'Ordered', 'bootstrap_type': 'Bernoulli', 'min_data_in_leaf': 18, 'one_hot_max_size': 10, 'subsample': 0.8799641738550374}. Best is trial 52 with value: 0.9190488800307046.\u001b[0m\n",
      "\u001b[32m[I 2022-05-19 04:47:45,251]\u001b[0m Trial 69 finished with value: 0.8799670194436275 and parameters: {'loss_function': 'RMSE', 'learning_rate': 0.005358743032581761, 'l2_leaf_reg': 0.11428233076461644, 'colsample_bylevel': 0.09275062186977845, 'depth': 5, 'boosting_type': 'Ordered', 'bootstrap_type': 'Bayesian', 'min_data_in_leaf': 16, 'one_hot_max_size': 19, 'bagging_temperature': 1.1684831964292572}. Best is trial 52 with value: 0.9190488800307046.\u001b[0m\n",
      "\u001b[32m[I 2022-05-19 04:47:45,720]\u001b[0m Trial 70 finished with value: 0.5298071970323535 and parameters: {'loss_function': 'RMSE', 'learning_rate': 0.0019953695095507084, 'l2_leaf_reg': 0.020983133638539014, 'colsample_bylevel': 0.07724018127691175, 'depth': 1, 'boosting_type': 'Ordered', 'bootstrap_type': 'Bernoulli', 'min_data_in_leaf': 19, 'one_hot_max_size': 2, 'subsample': 0.9920667796148751}. Best is trial 52 with value: 0.9190488800307046.\u001b[0m\n",
      "\u001b[32m[I 2022-05-19 04:47:46,971]\u001b[0m Trial 71 finished with value: 0.8946684574728104 and parameters: {'loss_function': 'RMSE', 'learning_rate': 0.04499492893180076, 'l2_leaf_reg': 0.039554265089552655, 'colsample_bylevel': 0.08643609399925314, 'depth': 4, 'boosting_type': 'Ordered', 'bootstrap_type': 'Bernoulli', 'min_data_in_leaf': 17, 'one_hot_max_size': 20, 'subsample': 0.7809548362014831}. Best is trial 52 with value: 0.9190488800307046.\u001b[0m\n",
      "\u001b[32m[I 2022-05-19 04:47:48,258]\u001b[0m Trial 72 finished with value: 0.911668391351906 and parameters: {'loss_function': 'RMSE', 'learning_rate': 0.028927114802019576, 'l2_leaf_reg': 0.06082132456241736, 'colsample_bylevel': 0.08889790118935369, 'depth': 4, 'boosting_type': 'Ordered', 'bootstrap_type': 'Bernoulli', 'min_data_in_leaf': 16, 'one_hot_max_size': 18, 'subsample': 0.8669754472399819}. Best is trial 52 with value: 0.9190488800307046.\u001b[0m\n",
      "\u001b[32m[I 2022-05-19 04:47:49,521]\u001b[0m Trial 73 finished with value: 0.9061967065589251 and parameters: {'loss_function': 'RMSE', 'learning_rate': 0.030578951123046323, 'l2_leaf_reg': 0.058208562179062846, 'colsample_bylevel': 0.08353184523038994, 'depth': 4, 'boosting_type': 'Ordered', 'bootstrap_type': 'Bernoulli', 'min_data_in_leaf': 16, 'one_hot_max_size': 16, 'subsample': 0.9619347867707566}. Best is trial 52 with value: 0.9190488800307046.\u001b[0m\n",
      "\u001b[32m[I 2022-05-19 04:47:51,200]\u001b[0m Trial 74 finished with value: 0.8923833680532286 and parameters: {'loss_function': 'RMSE', 'learning_rate': 0.07896472989767933, 'l2_leaf_reg': 0.07461244117821308, 'colsample_bylevel': 0.09010918749158837, 'depth': 5, 'boosting_type': 'Ordered', 'bootstrap_type': 'Bernoulli', 'min_data_in_leaf': 15, 'one_hot_max_size': 18, 'subsample': 0.8768341125805067}. Best is trial 52 with value: 0.9190488800307046.\u001b[0m\n",
      "\u001b[32m[I 2022-05-19 04:47:53,629]\u001b[0m Trial 75 finished with value: 0.8866052343647122 and parameters: {'loss_function': 'RMSE', 'learning_rate': 0.009433692165052715, 'l2_leaf_reg': 0.09167814295328858, 'colsample_bylevel': 0.07303311287488114, 'depth': 8, 'boosting_type': 'Ordered', 'bootstrap_type': 'Bernoulli', 'min_data_in_leaf': 13, 'one_hot_max_size': 16, 'subsample': 0.5619345937172384}. Best is trial 52 with value: 0.9190488800307046.\u001b[0m\n"
     ]
    },
    {
     "name": "stderr",
     "output_type": "stream",
     "text": [
      "\u001b[32m[I 2022-05-19 04:47:55,900]\u001b[0m Trial 76 finished with value: 0.8580268970390967 and parameters: {'loss_function': 'MAE', 'learning_rate': 0.015831472500676253, 'l2_leaf_reg': 0.03332598706714902, 'colsample_bylevel': 0.06282579490674214, 'depth': 6, 'boosting_type': 'Ordered', 'bootstrap_type': 'Bernoulli', 'min_data_in_leaf': 18, 'one_hot_max_size': 19, 'subsample': 0.7332254857070561}. Best is trial 52 with value: 0.9190488800307046.\u001b[0m\n",
      "\u001b[32m[I 2022-05-19 04:47:56,519]\u001b[0m Trial 77 finished with value: 0.9037768764104257 and parameters: {'loss_function': 'RMSE', 'learning_rate': 0.05581360401635142, 'l2_leaf_reg': 0.08332143159821427, 'colsample_bylevel': 0.0690901313799885, 'depth': 2, 'boosting_type': 'Plain', 'bootstrap_type': 'MVS', 'min_data_in_leaf': 19, 'one_hot_max_size': 17}. Best is trial 52 with value: 0.9190488800307046.\u001b[0m\n",
      "\u001b[32m[I 2022-05-19 04:47:57,036]\u001b[0m Trial 78 finished with value: 0.8545221821931801 and parameters: {'loss_function': 'RMSE', 'learning_rate': 0.026901923670562655, 'l2_leaf_reg': 0.049764941244393894, 'colsample_bylevel': 0.03178446221379484, 'depth': 5, 'boosting_type': 'Ordered', 'bootstrap_type': 'Bernoulli', 'min_data_in_leaf': 17, 'one_hot_max_size': 4, 'subsample': 0.6083583208160317}. Best is trial 52 with value: 0.9190488800307046.\u001b[0m\n",
      "\u001b[32m[I 2022-05-19 04:47:58,336]\u001b[0m Trial 79 finished with value: 0.908436212487508 and parameters: {'loss_function': 'RMSE', 'learning_rate': 0.14031827193042487, 'l2_leaf_reg': 0.5713486417296114, 'colsample_bylevel': 0.09322032743385737, 'depth': 4, 'boosting_type': 'Ordered', 'bootstrap_type': 'Bernoulli', 'min_data_in_leaf': 16, 'one_hot_max_size': 18, 'subsample': 0.6502385448121702}. Best is trial 52 with value: 0.9190488800307046.\u001b[0m\n",
      "\u001b[32m[I 2022-05-19 04:47:58,976]\u001b[0m Trial 80 finished with value: 0.8970142698286764 and parameters: {'loss_function': 'RMSE', 'learning_rate': 0.4064386361135889, 'l2_leaf_reg': 0.04389221443261072, 'colsample_bylevel': 0.07558416778841467, 'depth': 3, 'boosting_type': 'Ordered', 'bootstrap_type': 'Bernoulli', 'min_data_in_leaf': 14, 'one_hot_max_size': 5, 'subsample': 0.8667222405009969}. Best is trial 52 with value: 0.9190488800307046.\u001b[0m\n",
      "\u001b[32m[I 2022-05-19 04:48:00,080]\u001b[0m Trial 81 finished with value: 0.8226586428975239 and parameters: {'loss_function': 'RMSE', 'learning_rate': 0.041056845785982427, 'l2_leaf_reg': 0.06446000737457719, 'colsample_bylevel': 0.08790314123408241, 'depth': 4, 'boosting_type': 'Ordered', 'bootstrap_type': 'Bernoulli', 'min_data_in_leaf': 17, 'one_hot_max_size': 18, 'subsample': 0.9197332305857587}. Best is trial 52 with value: 0.9190488800307046.\u001b[0m\n",
      "\u001b[32m[I 2022-05-19 04:48:01,055]\u001b[0m Trial 82 finished with value: 0.9031112010157253 and parameters: {'loss_function': 'RMSE', 'learning_rate': 0.10484287609882198, 'l2_leaf_reg': 0.037382985824115866, 'colsample_bylevel': 0.08457330513744452, 'depth': 3, 'boosting_type': 'Ordered', 'bootstrap_type': 'Bernoulli', 'min_data_in_leaf': 18, 'one_hot_max_size': 19, 'subsample': 0.8096304940366017}. Best is trial 52 with value: 0.9190488800307046.\u001b[0m\n",
      "\u001b[32m[I 2022-05-19 04:48:02,580]\u001b[0m Trial 83 finished with value: 0.9062439590934628 and parameters: {'loss_function': 'RMSE', 'learning_rate': 0.021186232151301564, 'l2_leaf_reg': 0.061127517654610955, 'colsample_bylevel': 0.08038956413538562, 'depth': 5, 'boosting_type': 'Ordered', 'bootstrap_type': 'Bernoulli', 'min_data_in_leaf': 20, 'one_hot_max_size': 20, 'subsample': 0.8457947573934123}. Best is trial 52 with value: 0.9190488800307046.\u001b[0m\n",
      "\u001b[32m[I 2022-05-19 04:48:03,832]\u001b[0m Trial 84 finished with value: 0.9188680461112482 and parameters: {'loss_function': 'RMSE', 'learning_rate': 0.05607474714308115, 'l2_leaf_reg': 0.05324524426787696, 'colsample_bylevel': 0.0890514793408638, 'depth': 4, 'boosting_type': 'Ordered', 'bootstrap_type': 'Bernoulli', 'min_data_in_leaf': 6, 'one_hot_max_size': 17, 'subsample': 0.6983307318652197}. Best is trial 52 with value: 0.9190488800307046.\u001b[0m\n",
      "\u001b[32m[I 2022-05-19 04:48:05,115]\u001b[0m Trial 85 finished with value: 0.9032013987487736 and parameters: {'loss_function': 'RMSE', 'learning_rate': 0.18859861118098517, 'l2_leaf_reg': 0.05289651511009204, 'colsample_bylevel': 0.08936789727897845, 'depth': 4, 'boosting_type': 'Ordered', 'bootstrap_type': 'Bernoulli', 'min_data_in_leaf': 2, 'one_hot_max_size': 17, 'subsample': 0.6975207343046196}. Best is trial 52 with value: 0.9190488800307046.\u001b[0m\n",
      "\u001b[32m[I 2022-05-19 04:48:05,587]\u001b[0m Trial 86 finished with value: 0.8552851654682004 and parameters: {'loss_function': 'RMSE', 'learning_rate': 0.28426658804099836, 'l2_leaf_reg': 0.32854624313008673, 'colsample_bylevel': 0.010328689469053964, 'depth': 6, 'boosting_type': 'Ordered', 'bootstrap_type': 'Bayesian', 'min_data_in_leaf': 5, 'one_hot_max_size': 15, 'bagging_temperature': 2.9660594150552075}. Best is trial 52 with value: 0.9190488800307046.\u001b[0m\n",
      "\u001b[32m[I 2022-05-19 04:48:06,314]\u001b[0m Trial 87 finished with value: 0.8732373023354606 and parameters: {'loss_function': 'MAE', 'learning_rate': 0.06082618084356156, 'l2_leaf_reg': 0.40042457489752925, 'colsample_bylevel': 0.04426918803334666, 'depth': 2, 'boosting_type': 'Ordered', 'bootstrap_type': 'Bernoulli', 'min_data_in_leaf': 7, 'one_hot_max_size': 16, 'subsample': 0.6537354946094655}. Best is trial 52 with value: 0.9190488800307046.\u001b[0m\n",
      "\u001b[32m[I 2022-05-19 04:48:07,008]\u001b[0m Trial 88 finished with value: 0.8395617733982219 and parameters: {'loss_function': 'RMSE', 'learning_rate': 0.123809155824741, 'l2_leaf_reg': 0.4866451319570065, 'colsample_bylevel': 0.09739126341377184, 'depth': 5, 'boosting_type': 'Plain', 'bootstrap_type': 'Bernoulli', 'min_data_in_leaf': 9, 'one_hot_max_size': 7, 'subsample': 0.591682358554351}. Best is trial 52 with value: 0.9190488800307046.\u001b[0m\n",
      "\u001b[32m[I 2022-05-19 04:48:07,943]\u001b[0m Trial 89 finished with value: 0.9064060677100145 and parameters: {'loss_function': 'RMSE', 'learning_rate': 0.080765317118481, 'l2_leaf_reg': 0.0680270299267008, 'colsample_bylevel': 0.08230425878388006, 'depth': 3, 'boosting_type': 'Ordered', 'bootstrap_type': 'Bernoulli', 'min_data_in_leaf': 4, 'one_hot_max_size': 14, 'subsample': 0.7248587638995135}. Best is trial 52 with value: 0.9190488800307046.\u001b[0m\n",
      "\u001b[32m[I 2022-05-19 04:48:10,492]\u001b[0m Trial 90 finished with value: 0.9076198850671857 and parameters: {'loss_function': 'RMSE', 'learning_rate': 0.036678055451939896, 'l2_leaf_reg': 0.04613438805169298, 'colsample_bylevel': 0.09368680109634896, 'depth': 7, 'boosting_type': 'Ordered', 'bootstrap_type': 'MVS', 'min_data_in_leaf': 11, 'one_hot_max_size': 9}. Best is trial 52 with value: 0.9190488800307046.\u001b[0m\n",
      "\u001b[32m[I 2022-05-19 04:48:11,718]\u001b[0m Trial 91 finished with value: 0.9126806126378963 and parameters: {'loss_function': 'RMSE', 'learning_rate': 0.04945988459879228, 'l2_leaf_reg': 0.05317322766816627, 'colsample_bylevel': 0.08578199602943541, 'depth': 4, 'boosting_type': 'Ordered', 'bootstrap_type': 'Bernoulli', 'min_data_in_leaf': 16, 'one_hot_max_size': 17, 'subsample': 0.7875007256905314}. Best is trial 52 with value: 0.9190488800307046.\u001b[0m\n",
      "\u001b[32m[I 2022-05-19 04:48:12,924]\u001b[0m Trial 92 finished with value: 0.9198679216185126 and parameters: {'loss_function': 'RMSE', 'learning_rate': 0.05146920834345779, 'l2_leaf_reg': 0.03110054557536701, 'colsample_bylevel': 0.07844470919193748, 'depth': 4, 'boosting_type': 'Ordered', 'bootstrap_type': 'Bernoulli', 'min_data_in_leaf': 15, 'one_hot_max_size': 17, 'subsample': 0.7596370741766397}. Best is trial 92 with value: 0.9198679216185126.\u001b[0m\n",
      "\u001b[32m[I 2022-05-19 04:48:14,110]\u001b[0m Trial 93 finished with value: 0.9108842034931642 and parameters: {'loss_function': 'RMSE', 'learning_rate': 0.0543173216920168, 'l2_leaf_reg': 0.030110161553789195, 'colsample_bylevel': 0.07777260197919314, 'depth': 4, 'boosting_type': 'Ordered', 'bootstrap_type': 'Bernoulli', 'min_data_in_leaf': 15, 'one_hot_max_size': 16, 'subsample': 0.7807059240498537}. Best is trial 92 with value: 0.9198679216185126.\u001b[0m\n",
      "\u001b[32m[I 2022-05-19 04:48:14,972]\u001b[0m Trial 94 finished with value: 0.3917402470626066 and parameters: {'loss_function': 'RMSE', 'learning_rate': 0.0006112109029210369, 'l2_leaf_reg': 0.03491802647943671, 'colsample_bylevel': 0.07143668555446607, 'depth': 3, 'boosting_type': 'Ordered', 'bootstrap_type': 'Bernoulli', 'min_data_in_leaf': 14, 'one_hot_max_size': 17, 'subsample': 0.7622834952984902}. Best is trial 92 with value: 0.9198679216185126.\u001b[0m\n"
     ]
    },
    {
     "name": "stderr",
     "output_type": "stream",
     "text": [
      "\u001b[32m[I 2022-05-19 04:48:16,614]\u001b[0m Trial 95 finished with value: 0.020333007077385723 and parameters: {'loss_function': 'RMSE', 'learning_rate': 2.2264770050817168e-05, 'l2_leaf_reg': 0.04108508404451368, 'colsample_bylevel': 0.08609988570219494, 'depth': 5, 'boosting_type': 'Ordered', 'bootstrap_type': 'Bayesian', 'min_data_in_leaf': 8, 'one_hot_max_size': 17, 'bagging_temperature': 5.143127635732114}. Best is trial 92 with value: 0.9198679216185126.\u001b[0m\n",
      "\u001b[32m[I 2022-05-19 04:48:17,868]\u001b[0m Trial 96 finished with value: 0.9171314226457769 and parameters: {'loss_function': 'RMSE', 'learning_rate': 0.16962762942779927, 'l2_leaf_reg': 0.017360413334777395, 'colsample_bylevel': 0.07912793295589213, 'depth': 6, 'boosting_type': 'Ordered', 'bootstrap_type': 'Bernoulli', 'min_data_in_leaf': 3, 'one_hot_max_size': 3, 'subsample': 0.6689779515066692}. Best is trial 92 with value: 0.9198679216185126.\u001b[0m\n",
      "\u001b[32m[I 2022-05-19 04:48:19,911]\u001b[0m Trial 97 finished with value: 0.8844763596426547 and parameters: {'loss_function': 'RMSE', 'learning_rate': 0.1796067708994474, 'l2_leaf_reg': 0.014588147441239211, 'colsample_bylevel': 0.07501414049893255, 'depth': 6, 'boosting_type': 'Ordered', 'bootstrap_type': 'Bernoulli', 'min_data_in_leaf': 6, 'one_hot_max_size': 3, 'subsample': 0.6645298380621897}. Best is trial 92 with value: 0.9198679216185126.\u001b[0m\n",
      "\u001b[32m[I 2022-05-19 04:48:20,740]\u001b[0m Trial 98 finished with value: 0.8692521988245081 and parameters: {'loss_function': 'RMSE', 'learning_rate': 0.5675298061843379, 'l2_leaf_reg': 0.023988831362428804, 'colsample_bylevel': 0.07929819678258698, 'depth': 6, 'boosting_type': 'Ordered', 'bootstrap_type': 'Bernoulli', 'min_data_in_leaf': 2, 'one_hot_max_size': 2, 'subsample': 0.7024184528425524}. Best is trial 92 with value: 0.9198679216185126.\u001b[0m\n",
      "\u001b[32m[I 2022-05-19 04:48:21,963]\u001b[0m Trial 99 finished with value: 0.8887176422706238 and parameters: {'loss_function': 'RMSE', 'learning_rate': 0.24612600568158474, 'l2_leaf_reg': 0.01338737209962561, 'colsample_bylevel': 0.06616714997027665, 'depth': 6, 'boosting_type': 'Ordered', 'bootstrap_type': 'Bayesian', 'min_data_in_leaf': 4, 'one_hot_max_size': 3, 'bagging_temperature': 1.6273438802320268}. Best is trial 92 with value: 0.9198679216185126.\u001b[0m\n"
     ]
    },
    {
     "name": "stdout",
     "output_type": "stream",
     "text": [
      "Number of completed trials: 100\n",
      "Best trial:\n",
      "\tBest Score: 0.9198679216185126\n",
      "\tBest Params: \n",
      "    loss_function: RMSE\n",
      "    learning_rate: 0.05146920834345779\n",
      "    l2_leaf_reg: 0.03110054557536701\n",
      "    colsample_bylevel: 0.07844470919193748\n",
      "    depth: 4\n",
      "    boosting_type: Ordered\n",
      "    bootstrap_type: Bernoulli\n",
      "    min_data_in_leaf: 15\n",
      "    one_hot_max_size: 17\n",
      "    subsample: 0.7596370741766397\n"
     ]
    }
   ],
   "source": [
    "X = ordinal.drop(['SalePrice'], axis=1)\n",
    "y = ordinal['SalePrice']\n",
    "\n",
    "categorical_features_indices = np.where(X.dtypes != np.float)[0]\n",
    "\n",
    "study = optuna.create_study(sampler=TPESampler(), direction=\"maximize\")\n",
    "study.optimize(objective, n_trials=100, timeout=600) # Run for 10 minutes\n",
    "print(\"Number of completed trials: {}\".format(len(study.trials)))\n",
    "print(\"Best trial:\")\n",
    "trial = study.best_trial\n",
    "\n",
    "print(\"\\tBest Score: {}\".format(trial.value))\n",
    "print(\"\\tBest Params: \")\n",
    "for key, value in trial.params.items():\n",
    "    print(\"    {}: {}\".format(key, value))"
   ]
  },
  {
   "cell_type": "code",
   "execution_count": 37,
   "id": "0a261cbc",
   "metadata": {},
   "outputs": [
    {
     "data": {
      "text/plain": [
       "{'loss_function': 'RMSE',\n",
       " 'learning_rate': 0.05146920834345779,\n",
       " 'l2_leaf_reg': 0.03110054557536701,\n",
       " 'colsample_bylevel': 0.07844470919193748,\n",
       " 'depth': 4,\n",
       " 'boosting_type': 'Ordered',\n",
       " 'bootstrap_type': 'Bernoulli',\n",
       " 'min_data_in_leaf': 15,\n",
       " 'one_hot_max_size': 17,\n",
       " 'subsample': 0.7596370741766397}"
      ]
     },
     "execution_count": 37,
     "metadata": {},
     "output_type": "execute_result"
    }
   ],
   "source": [
    "study.best_params"
   ]
  },
  {
   "cell_type": "code",
   "execution_count": 11,
   "id": "82571187",
   "metadata": {},
   "outputs": [
    {
     "data": {
      "application/vnd.plotly.v1+json": {
       "config": {
        "plotlyServerURL": "https://plot.ly"
       },
       "data": [
        {
         "cliponaxis": false,
         "hovertemplate": [
          "boosting_type (CategoricalDistribution): 0.009273295350612177<extra></extra>",
          "l2_leaf_reg (LogUniformDistribution): 0.012195461426047216<extra></extra>",
          "min_data_in_leaf (IntUniformDistribution): 0.013235427224742002<extra></extra>",
          "loss_function (CategoricalDistribution): 0.021005440887531673<extra></extra>",
          "bootstrap_type (CategoricalDistribution): 0.022303356837309576<extra></extra>",
          "colsample_bylevel (UniformDistribution): 0.06172960304238004<extra></extra>",
          "one_hot_max_size (IntUniformDistribution): 0.07131187449691666<extra></extra>",
          "depth (IntUniformDistribution): 0.1456846507944121<extra></extra>",
          "learning_rate (LogUniformDistribution): 0.6432608899400487<extra></extra>"
         ],
         "marker": {
          "color": "rgb(66,146,198)"
         },
         "orientation": "h",
         "text": [
          "0.009273295350612177",
          "0.012195461426047216",
          "0.013235427224742002",
          "0.021005440887531673",
          "0.022303356837309576",
          "0.06172960304238004",
          "0.07131187449691666",
          "0.1456846507944121",
          "0.6432608899400487"
         ],
         "textposition": "outside",
         "texttemplate": "%{text:.2f}",
         "type": "bar",
         "x": [
          0.009273295350612177,
          0.012195461426047216,
          0.013235427224742002,
          0.021005440887531673,
          0.022303356837309576,
          0.06172960304238004,
          0.07131187449691666,
          0.1456846507944121,
          0.6432608899400487
         ],
         "y": [
          "boosting_type",
          "l2_leaf_reg",
          "min_data_in_leaf",
          "loss_function",
          "bootstrap_type",
          "colsample_bylevel",
          "one_hot_max_size",
          "depth",
          "learning_rate"
         ]
        }
       ],
       "layout": {
        "showlegend": false,
        "template": {
         "data": {
          "bar": [
           {
            "error_x": {
             "color": "#2a3f5f"
            },
            "error_y": {
             "color": "#2a3f5f"
            },
            "marker": {
             "line": {
              "color": "#E5ECF6",
              "width": 0.5
             },
             "pattern": {
              "fillmode": "overlay",
              "size": 10,
              "solidity": 0.2
             }
            },
            "type": "bar"
           }
          ],
          "barpolar": [
           {
            "marker": {
             "line": {
              "color": "#E5ECF6",
              "width": 0.5
             },
             "pattern": {
              "fillmode": "overlay",
              "size": 10,
              "solidity": 0.2
             }
            },
            "type": "barpolar"
           }
          ],
          "carpet": [
           {
            "aaxis": {
             "endlinecolor": "#2a3f5f",
             "gridcolor": "white",
             "linecolor": "white",
             "minorgridcolor": "white",
             "startlinecolor": "#2a3f5f"
            },
            "baxis": {
             "endlinecolor": "#2a3f5f",
             "gridcolor": "white",
             "linecolor": "white",
             "minorgridcolor": "white",
             "startlinecolor": "#2a3f5f"
            },
            "type": "carpet"
           }
          ],
          "choropleth": [
           {
            "colorbar": {
             "outlinewidth": 0,
             "ticks": ""
            },
            "type": "choropleth"
           }
          ],
          "contour": [
           {
            "colorbar": {
             "outlinewidth": 0,
             "ticks": ""
            },
            "colorscale": [
             [
              0,
              "#0d0887"
             ],
             [
              0.1111111111111111,
              "#46039f"
             ],
             [
              0.2222222222222222,
              "#7201a8"
             ],
             [
              0.3333333333333333,
              "#9c179e"
             ],
             [
              0.4444444444444444,
              "#bd3786"
             ],
             [
              0.5555555555555556,
              "#d8576b"
             ],
             [
              0.6666666666666666,
              "#ed7953"
             ],
             [
              0.7777777777777778,
              "#fb9f3a"
             ],
             [
              0.8888888888888888,
              "#fdca26"
             ],
             [
              1,
              "#f0f921"
             ]
            ],
            "type": "contour"
           }
          ],
          "contourcarpet": [
           {
            "colorbar": {
             "outlinewidth": 0,
             "ticks": ""
            },
            "type": "contourcarpet"
           }
          ],
          "heatmap": [
           {
            "colorbar": {
             "outlinewidth": 0,
             "ticks": ""
            },
            "colorscale": [
             [
              0,
              "#0d0887"
             ],
             [
              0.1111111111111111,
              "#46039f"
             ],
             [
              0.2222222222222222,
              "#7201a8"
             ],
             [
              0.3333333333333333,
              "#9c179e"
             ],
             [
              0.4444444444444444,
              "#bd3786"
             ],
             [
              0.5555555555555556,
              "#d8576b"
             ],
             [
              0.6666666666666666,
              "#ed7953"
             ],
             [
              0.7777777777777778,
              "#fb9f3a"
             ],
             [
              0.8888888888888888,
              "#fdca26"
             ],
             [
              1,
              "#f0f921"
             ]
            ],
            "type": "heatmap"
           }
          ],
          "heatmapgl": [
           {
            "colorbar": {
             "outlinewidth": 0,
             "ticks": ""
            },
            "colorscale": [
             [
              0,
              "#0d0887"
             ],
             [
              0.1111111111111111,
              "#46039f"
             ],
             [
              0.2222222222222222,
              "#7201a8"
             ],
             [
              0.3333333333333333,
              "#9c179e"
             ],
             [
              0.4444444444444444,
              "#bd3786"
             ],
             [
              0.5555555555555556,
              "#d8576b"
             ],
             [
              0.6666666666666666,
              "#ed7953"
             ],
             [
              0.7777777777777778,
              "#fb9f3a"
             ],
             [
              0.8888888888888888,
              "#fdca26"
             ],
             [
              1,
              "#f0f921"
             ]
            ],
            "type": "heatmapgl"
           }
          ],
          "histogram": [
           {
            "marker": {
             "pattern": {
              "fillmode": "overlay",
              "size": 10,
              "solidity": 0.2
             }
            },
            "type": "histogram"
           }
          ],
          "histogram2d": [
           {
            "colorbar": {
             "outlinewidth": 0,
             "ticks": ""
            },
            "colorscale": [
             [
              0,
              "#0d0887"
             ],
             [
              0.1111111111111111,
              "#46039f"
             ],
             [
              0.2222222222222222,
              "#7201a8"
             ],
             [
              0.3333333333333333,
              "#9c179e"
             ],
             [
              0.4444444444444444,
              "#bd3786"
             ],
             [
              0.5555555555555556,
              "#d8576b"
             ],
             [
              0.6666666666666666,
              "#ed7953"
             ],
             [
              0.7777777777777778,
              "#fb9f3a"
             ],
             [
              0.8888888888888888,
              "#fdca26"
             ],
             [
              1,
              "#f0f921"
             ]
            ],
            "type": "histogram2d"
           }
          ],
          "histogram2dcontour": [
           {
            "colorbar": {
             "outlinewidth": 0,
             "ticks": ""
            },
            "colorscale": [
             [
              0,
              "#0d0887"
             ],
             [
              0.1111111111111111,
              "#46039f"
             ],
             [
              0.2222222222222222,
              "#7201a8"
             ],
             [
              0.3333333333333333,
              "#9c179e"
             ],
             [
              0.4444444444444444,
              "#bd3786"
             ],
             [
              0.5555555555555556,
              "#d8576b"
             ],
             [
              0.6666666666666666,
              "#ed7953"
             ],
             [
              0.7777777777777778,
              "#fb9f3a"
             ],
             [
              0.8888888888888888,
              "#fdca26"
             ],
             [
              1,
              "#f0f921"
             ]
            ],
            "type": "histogram2dcontour"
           }
          ],
          "mesh3d": [
           {
            "colorbar": {
             "outlinewidth": 0,
             "ticks": ""
            },
            "type": "mesh3d"
           }
          ],
          "parcoords": [
           {
            "line": {
             "colorbar": {
              "outlinewidth": 0,
              "ticks": ""
             }
            },
            "type": "parcoords"
           }
          ],
          "pie": [
           {
            "automargin": true,
            "type": "pie"
           }
          ],
          "scatter": [
           {
            "marker": {
             "colorbar": {
              "outlinewidth": 0,
              "ticks": ""
             }
            },
            "type": "scatter"
           }
          ],
          "scatter3d": [
           {
            "line": {
             "colorbar": {
              "outlinewidth": 0,
              "ticks": ""
             }
            },
            "marker": {
             "colorbar": {
              "outlinewidth": 0,
              "ticks": ""
             }
            },
            "type": "scatter3d"
           }
          ],
          "scattercarpet": [
           {
            "marker": {
             "colorbar": {
              "outlinewidth": 0,
              "ticks": ""
             }
            },
            "type": "scattercarpet"
           }
          ],
          "scattergeo": [
           {
            "marker": {
             "colorbar": {
              "outlinewidth": 0,
              "ticks": ""
             }
            },
            "type": "scattergeo"
           }
          ],
          "scattergl": [
           {
            "marker": {
             "colorbar": {
              "outlinewidth": 0,
              "ticks": ""
             }
            },
            "type": "scattergl"
           }
          ],
          "scattermapbox": [
           {
            "marker": {
             "colorbar": {
              "outlinewidth": 0,
              "ticks": ""
             }
            },
            "type": "scattermapbox"
           }
          ],
          "scatterpolar": [
           {
            "marker": {
             "colorbar": {
              "outlinewidth": 0,
              "ticks": ""
             }
            },
            "type": "scatterpolar"
           }
          ],
          "scatterpolargl": [
           {
            "marker": {
             "colorbar": {
              "outlinewidth": 0,
              "ticks": ""
             }
            },
            "type": "scatterpolargl"
           }
          ],
          "scatterternary": [
           {
            "marker": {
             "colorbar": {
              "outlinewidth": 0,
              "ticks": ""
             }
            },
            "type": "scatterternary"
           }
          ],
          "surface": [
           {
            "colorbar": {
             "outlinewidth": 0,
             "ticks": ""
            },
            "colorscale": [
             [
              0,
              "#0d0887"
             ],
             [
              0.1111111111111111,
              "#46039f"
             ],
             [
              0.2222222222222222,
              "#7201a8"
             ],
             [
              0.3333333333333333,
              "#9c179e"
             ],
             [
              0.4444444444444444,
              "#bd3786"
             ],
             [
              0.5555555555555556,
              "#d8576b"
             ],
             [
              0.6666666666666666,
              "#ed7953"
             ],
             [
              0.7777777777777778,
              "#fb9f3a"
             ],
             [
              0.8888888888888888,
              "#fdca26"
             ],
             [
              1,
              "#f0f921"
             ]
            ],
            "type": "surface"
           }
          ],
          "table": [
           {
            "cells": {
             "fill": {
              "color": "#EBF0F8"
             },
             "line": {
              "color": "white"
             }
            },
            "header": {
             "fill": {
              "color": "#C8D4E3"
             },
             "line": {
              "color": "white"
             }
            },
            "type": "table"
           }
          ]
         },
         "layout": {
          "annotationdefaults": {
           "arrowcolor": "#2a3f5f",
           "arrowhead": 0,
           "arrowwidth": 1
          },
          "autotypenumbers": "strict",
          "coloraxis": {
           "colorbar": {
            "outlinewidth": 0,
            "ticks": ""
           }
          },
          "colorscale": {
           "diverging": [
            [
             0,
             "#8e0152"
            ],
            [
             0.1,
             "#c51b7d"
            ],
            [
             0.2,
             "#de77ae"
            ],
            [
             0.3,
             "#f1b6da"
            ],
            [
             0.4,
             "#fde0ef"
            ],
            [
             0.5,
             "#f7f7f7"
            ],
            [
             0.6,
             "#e6f5d0"
            ],
            [
             0.7,
             "#b8e186"
            ],
            [
             0.8,
             "#7fbc41"
            ],
            [
             0.9,
             "#4d9221"
            ],
            [
             1,
             "#276419"
            ]
           ],
           "sequential": [
            [
             0,
             "#0d0887"
            ],
            [
             0.1111111111111111,
             "#46039f"
            ],
            [
             0.2222222222222222,
             "#7201a8"
            ],
            [
             0.3333333333333333,
             "#9c179e"
            ],
            [
             0.4444444444444444,
             "#bd3786"
            ],
            [
             0.5555555555555556,
             "#d8576b"
            ],
            [
             0.6666666666666666,
             "#ed7953"
            ],
            [
             0.7777777777777778,
             "#fb9f3a"
            ],
            [
             0.8888888888888888,
             "#fdca26"
            ],
            [
             1,
             "#f0f921"
            ]
           ],
           "sequentialminus": [
            [
             0,
             "#0d0887"
            ],
            [
             0.1111111111111111,
             "#46039f"
            ],
            [
             0.2222222222222222,
             "#7201a8"
            ],
            [
             0.3333333333333333,
             "#9c179e"
            ],
            [
             0.4444444444444444,
             "#bd3786"
            ],
            [
             0.5555555555555556,
             "#d8576b"
            ],
            [
             0.6666666666666666,
             "#ed7953"
            ],
            [
             0.7777777777777778,
             "#fb9f3a"
            ],
            [
             0.8888888888888888,
             "#fdca26"
            ],
            [
             1,
             "#f0f921"
            ]
           ]
          },
          "colorway": [
           "#636efa",
           "#EF553B",
           "#00cc96",
           "#ab63fa",
           "#FFA15A",
           "#19d3f3",
           "#FF6692",
           "#B6E880",
           "#FF97FF",
           "#FECB52"
          ],
          "font": {
           "color": "#2a3f5f"
          },
          "geo": {
           "bgcolor": "white",
           "lakecolor": "white",
           "landcolor": "#E5ECF6",
           "showlakes": true,
           "showland": true,
           "subunitcolor": "white"
          },
          "hoverlabel": {
           "align": "left"
          },
          "hovermode": "closest",
          "mapbox": {
           "style": "light"
          },
          "paper_bgcolor": "white",
          "plot_bgcolor": "#E5ECF6",
          "polar": {
           "angularaxis": {
            "gridcolor": "white",
            "linecolor": "white",
            "ticks": ""
           },
           "bgcolor": "#E5ECF6",
           "radialaxis": {
            "gridcolor": "white",
            "linecolor": "white",
            "ticks": ""
           }
          },
          "scene": {
           "xaxis": {
            "backgroundcolor": "#E5ECF6",
            "gridcolor": "white",
            "gridwidth": 2,
            "linecolor": "white",
            "showbackground": true,
            "ticks": "",
            "zerolinecolor": "white"
           },
           "yaxis": {
            "backgroundcolor": "#E5ECF6",
            "gridcolor": "white",
            "gridwidth": 2,
            "linecolor": "white",
            "showbackground": true,
            "ticks": "",
            "zerolinecolor": "white"
           },
           "zaxis": {
            "backgroundcolor": "#E5ECF6",
            "gridcolor": "white",
            "gridwidth": 2,
            "linecolor": "white",
            "showbackground": true,
            "ticks": "",
            "zerolinecolor": "white"
           }
          },
          "shapedefaults": {
           "line": {
            "color": "#2a3f5f"
           }
          },
          "ternary": {
           "aaxis": {
            "gridcolor": "white",
            "linecolor": "white",
            "ticks": ""
           },
           "baxis": {
            "gridcolor": "white",
            "linecolor": "white",
            "ticks": ""
           },
           "bgcolor": "#E5ECF6",
           "caxis": {
            "gridcolor": "white",
            "linecolor": "white",
            "ticks": ""
           }
          },
          "title": {
           "x": 0.05
          },
          "xaxis": {
           "automargin": true,
           "gridcolor": "white",
           "linecolor": "white",
           "ticks": "",
           "title": {
            "standoff": 15
           },
           "zerolinecolor": "white",
           "zerolinewidth": 2
          },
          "yaxis": {
           "automargin": true,
           "gridcolor": "white",
           "linecolor": "white",
           "ticks": "",
           "title": {
            "standoff": 15
           },
           "zerolinecolor": "white",
           "zerolinewidth": 2
          }
         }
        },
        "title": {
         "text": "Hyperparameter Importances"
        },
        "xaxis": {
         "title": {
          "text": "Importance for Objective Value"
         }
        },
        "yaxis": {
         "title": {
          "text": "Hyperparameter"
         }
        }
       }
      },
      "text/html": [
       "<div>                            <div id=\"9c25dcbe-fe79-4154-b34f-645e31f8313e\" class=\"plotly-graph-div\" style=\"height:525px; width:100%;\"></div>            <script type=\"text/javascript\">                require([\"plotly\"], function(Plotly) {                    window.PLOTLYENV=window.PLOTLYENV || {};                                    if (document.getElementById(\"9c25dcbe-fe79-4154-b34f-645e31f8313e\")) {                    Plotly.newPlot(                        \"9c25dcbe-fe79-4154-b34f-645e31f8313e\",                        [{\"cliponaxis\":false,\"hovertemplate\":[\"boosting_type (CategoricalDistribution): 0.009273295350612177<extra></extra>\",\"l2_leaf_reg (LogUniformDistribution): 0.012195461426047216<extra></extra>\",\"min_data_in_leaf (IntUniformDistribution): 0.013235427224742002<extra></extra>\",\"loss_function (CategoricalDistribution): 0.021005440887531673<extra></extra>\",\"bootstrap_type (CategoricalDistribution): 0.022303356837309576<extra></extra>\",\"colsample_bylevel (UniformDistribution): 0.06172960304238004<extra></extra>\",\"one_hot_max_size (IntUniformDistribution): 0.07131187449691666<extra></extra>\",\"depth (IntUniformDistribution): 0.1456846507944121<extra></extra>\",\"learning_rate (LogUniformDistribution): 0.6432608899400487<extra></extra>\"],\"marker\":{\"color\":\"rgb(66,146,198)\"},\"orientation\":\"h\",\"text\":[\"0.009273295350612177\",\"0.012195461426047216\",\"0.013235427224742002\",\"0.021005440887531673\",\"0.022303356837309576\",\"0.06172960304238004\",\"0.07131187449691666\",\"0.1456846507944121\",\"0.6432608899400487\"],\"textposition\":\"outside\",\"texttemplate\":\"%{text:.2f}\",\"x\":[0.009273295350612177,0.012195461426047216,0.013235427224742002,0.021005440887531673,0.022303356837309576,0.06172960304238004,0.07131187449691666,0.1456846507944121,0.6432608899400487],\"y\":[\"boosting_type\",\"l2_leaf_reg\",\"min_data_in_leaf\",\"loss_function\",\"bootstrap_type\",\"colsample_bylevel\",\"one_hot_max_size\",\"depth\",\"learning_rate\"],\"type\":\"bar\"}],                        {\"showlegend\":false,\"title\":{\"text\":\"Hyperparameter Importances\"},\"xaxis\":{\"title\":{\"text\":\"Importance for Objective Value\"}},\"yaxis\":{\"title\":{\"text\":\"Hyperparameter\"}},\"template\":{\"data\":{\"bar\":[{\"error_x\":{\"color\":\"#2a3f5f\"},\"error_y\":{\"color\":\"#2a3f5f\"},\"marker\":{\"line\":{\"color\":\"#E5ECF6\",\"width\":0.5},\"pattern\":{\"fillmode\":\"overlay\",\"size\":10,\"solidity\":0.2}},\"type\":\"bar\"}],\"barpolar\":[{\"marker\":{\"line\":{\"color\":\"#E5ECF6\",\"width\":0.5},\"pattern\":{\"fillmode\":\"overlay\",\"size\":10,\"solidity\":0.2}},\"type\":\"barpolar\"}],\"carpet\":[{\"aaxis\":{\"endlinecolor\":\"#2a3f5f\",\"gridcolor\":\"white\",\"linecolor\":\"white\",\"minorgridcolor\":\"white\",\"startlinecolor\":\"#2a3f5f\"},\"baxis\":{\"endlinecolor\":\"#2a3f5f\",\"gridcolor\":\"white\",\"linecolor\":\"white\",\"minorgridcolor\":\"white\",\"startlinecolor\":\"#2a3f5f\"},\"type\":\"carpet\"}],\"choropleth\":[{\"colorbar\":{\"outlinewidth\":0,\"ticks\":\"\"},\"type\":\"choropleth\"}],\"contour\":[{\"colorbar\":{\"outlinewidth\":0,\"ticks\":\"\"},\"colorscale\":[[0.0,\"#0d0887\"],[0.1111111111111111,\"#46039f\"],[0.2222222222222222,\"#7201a8\"],[0.3333333333333333,\"#9c179e\"],[0.4444444444444444,\"#bd3786\"],[0.5555555555555556,\"#d8576b\"],[0.6666666666666666,\"#ed7953\"],[0.7777777777777778,\"#fb9f3a\"],[0.8888888888888888,\"#fdca26\"],[1.0,\"#f0f921\"]],\"type\":\"contour\"}],\"contourcarpet\":[{\"colorbar\":{\"outlinewidth\":0,\"ticks\":\"\"},\"type\":\"contourcarpet\"}],\"heatmap\":[{\"colorbar\":{\"outlinewidth\":0,\"ticks\":\"\"},\"colorscale\":[[0.0,\"#0d0887\"],[0.1111111111111111,\"#46039f\"],[0.2222222222222222,\"#7201a8\"],[0.3333333333333333,\"#9c179e\"],[0.4444444444444444,\"#bd3786\"],[0.5555555555555556,\"#d8576b\"],[0.6666666666666666,\"#ed7953\"],[0.7777777777777778,\"#fb9f3a\"],[0.8888888888888888,\"#fdca26\"],[1.0,\"#f0f921\"]],\"type\":\"heatmap\"}],\"heatmapgl\":[{\"colorbar\":{\"outlinewidth\":0,\"ticks\":\"\"},\"colorscale\":[[0.0,\"#0d0887\"],[0.1111111111111111,\"#46039f\"],[0.2222222222222222,\"#7201a8\"],[0.3333333333333333,\"#9c179e\"],[0.4444444444444444,\"#bd3786\"],[0.5555555555555556,\"#d8576b\"],[0.6666666666666666,\"#ed7953\"],[0.7777777777777778,\"#fb9f3a\"],[0.8888888888888888,\"#fdca26\"],[1.0,\"#f0f921\"]],\"type\":\"heatmapgl\"}],\"histogram\":[{\"marker\":{\"pattern\":{\"fillmode\":\"overlay\",\"size\":10,\"solidity\":0.2}},\"type\":\"histogram\"}],\"histogram2d\":[{\"colorbar\":{\"outlinewidth\":0,\"ticks\":\"\"},\"colorscale\":[[0.0,\"#0d0887\"],[0.1111111111111111,\"#46039f\"],[0.2222222222222222,\"#7201a8\"],[0.3333333333333333,\"#9c179e\"],[0.4444444444444444,\"#bd3786\"],[0.5555555555555556,\"#d8576b\"],[0.6666666666666666,\"#ed7953\"],[0.7777777777777778,\"#fb9f3a\"],[0.8888888888888888,\"#fdca26\"],[1.0,\"#f0f921\"]],\"type\":\"histogram2d\"}],\"histogram2dcontour\":[{\"colorbar\":{\"outlinewidth\":0,\"ticks\":\"\"},\"colorscale\":[[0.0,\"#0d0887\"],[0.1111111111111111,\"#46039f\"],[0.2222222222222222,\"#7201a8\"],[0.3333333333333333,\"#9c179e\"],[0.4444444444444444,\"#bd3786\"],[0.5555555555555556,\"#d8576b\"],[0.6666666666666666,\"#ed7953\"],[0.7777777777777778,\"#fb9f3a\"],[0.8888888888888888,\"#fdca26\"],[1.0,\"#f0f921\"]],\"type\":\"histogram2dcontour\"}],\"mesh3d\":[{\"colorbar\":{\"outlinewidth\":0,\"ticks\":\"\"},\"type\":\"mesh3d\"}],\"parcoords\":[{\"line\":{\"colorbar\":{\"outlinewidth\":0,\"ticks\":\"\"}},\"type\":\"parcoords\"}],\"pie\":[{\"automargin\":true,\"type\":\"pie\"}],\"scatter\":[{\"marker\":{\"colorbar\":{\"outlinewidth\":0,\"ticks\":\"\"}},\"type\":\"scatter\"}],\"scatter3d\":[{\"line\":{\"colorbar\":{\"outlinewidth\":0,\"ticks\":\"\"}},\"marker\":{\"colorbar\":{\"outlinewidth\":0,\"ticks\":\"\"}},\"type\":\"scatter3d\"}],\"scattercarpet\":[{\"marker\":{\"colorbar\":{\"outlinewidth\":0,\"ticks\":\"\"}},\"type\":\"scattercarpet\"}],\"scattergeo\":[{\"marker\":{\"colorbar\":{\"outlinewidth\":0,\"ticks\":\"\"}},\"type\":\"scattergeo\"}],\"scattergl\":[{\"marker\":{\"colorbar\":{\"outlinewidth\":0,\"ticks\":\"\"}},\"type\":\"scattergl\"}],\"scattermapbox\":[{\"marker\":{\"colorbar\":{\"outlinewidth\":0,\"ticks\":\"\"}},\"type\":\"scattermapbox\"}],\"scatterpolar\":[{\"marker\":{\"colorbar\":{\"outlinewidth\":0,\"ticks\":\"\"}},\"type\":\"scatterpolar\"}],\"scatterpolargl\":[{\"marker\":{\"colorbar\":{\"outlinewidth\":0,\"ticks\":\"\"}},\"type\":\"scatterpolargl\"}],\"scatterternary\":[{\"marker\":{\"colorbar\":{\"outlinewidth\":0,\"ticks\":\"\"}},\"type\":\"scatterternary\"}],\"surface\":[{\"colorbar\":{\"outlinewidth\":0,\"ticks\":\"\"},\"colorscale\":[[0.0,\"#0d0887\"],[0.1111111111111111,\"#46039f\"],[0.2222222222222222,\"#7201a8\"],[0.3333333333333333,\"#9c179e\"],[0.4444444444444444,\"#bd3786\"],[0.5555555555555556,\"#d8576b\"],[0.6666666666666666,\"#ed7953\"],[0.7777777777777778,\"#fb9f3a\"],[0.8888888888888888,\"#fdca26\"],[1.0,\"#f0f921\"]],\"type\":\"surface\"}],\"table\":[{\"cells\":{\"fill\":{\"color\":\"#EBF0F8\"},\"line\":{\"color\":\"white\"}},\"header\":{\"fill\":{\"color\":\"#C8D4E3\"},\"line\":{\"color\":\"white\"}},\"type\":\"table\"}]},\"layout\":{\"annotationdefaults\":{\"arrowcolor\":\"#2a3f5f\",\"arrowhead\":0,\"arrowwidth\":1},\"autotypenumbers\":\"strict\",\"coloraxis\":{\"colorbar\":{\"outlinewidth\":0,\"ticks\":\"\"}},\"colorscale\":{\"diverging\":[[0,\"#8e0152\"],[0.1,\"#c51b7d\"],[0.2,\"#de77ae\"],[0.3,\"#f1b6da\"],[0.4,\"#fde0ef\"],[0.5,\"#f7f7f7\"],[0.6,\"#e6f5d0\"],[0.7,\"#b8e186\"],[0.8,\"#7fbc41\"],[0.9,\"#4d9221\"],[1,\"#276419\"]],\"sequential\":[[0.0,\"#0d0887\"],[0.1111111111111111,\"#46039f\"],[0.2222222222222222,\"#7201a8\"],[0.3333333333333333,\"#9c179e\"],[0.4444444444444444,\"#bd3786\"],[0.5555555555555556,\"#d8576b\"],[0.6666666666666666,\"#ed7953\"],[0.7777777777777778,\"#fb9f3a\"],[0.8888888888888888,\"#fdca26\"],[1.0,\"#f0f921\"]],\"sequentialminus\":[[0.0,\"#0d0887\"],[0.1111111111111111,\"#46039f\"],[0.2222222222222222,\"#7201a8\"],[0.3333333333333333,\"#9c179e\"],[0.4444444444444444,\"#bd3786\"],[0.5555555555555556,\"#d8576b\"],[0.6666666666666666,\"#ed7953\"],[0.7777777777777778,\"#fb9f3a\"],[0.8888888888888888,\"#fdca26\"],[1.0,\"#f0f921\"]]},\"colorway\":[\"#636efa\",\"#EF553B\",\"#00cc96\",\"#ab63fa\",\"#FFA15A\",\"#19d3f3\",\"#FF6692\",\"#B6E880\",\"#FF97FF\",\"#FECB52\"],\"font\":{\"color\":\"#2a3f5f\"},\"geo\":{\"bgcolor\":\"white\",\"lakecolor\":\"white\",\"landcolor\":\"#E5ECF6\",\"showlakes\":true,\"showland\":true,\"subunitcolor\":\"white\"},\"hoverlabel\":{\"align\":\"left\"},\"hovermode\":\"closest\",\"mapbox\":{\"style\":\"light\"},\"paper_bgcolor\":\"white\",\"plot_bgcolor\":\"#E5ECF6\",\"polar\":{\"angularaxis\":{\"gridcolor\":\"white\",\"linecolor\":\"white\",\"ticks\":\"\"},\"bgcolor\":\"#E5ECF6\",\"radialaxis\":{\"gridcolor\":\"white\",\"linecolor\":\"white\",\"ticks\":\"\"}},\"scene\":{\"xaxis\":{\"backgroundcolor\":\"#E5ECF6\",\"gridcolor\":\"white\",\"gridwidth\":2,\"linecolor\":\"white\",\"showbackground\":true,\"ticks\":\"\",\"zerolinecolor\":\"white\"},\"yaxis\":{\"backgroundcolor\":\"#E5ECF6\",\"gridcolor\":\"white\",\"gridwidth\":2,\"linecolor\":\"white\",\"showbackground\":true,\"ticks\":\"\",\"zerolinecolor\":\"white\"},\"zaxis\":{\"backgroundcolor\":\"#E5ECF6\",\"gridcolor\":\"white\",\"gridwidth\":2,\"linecolor\":\"white\",\"showbackground\":true,\"ticks\":\"\",\"zerolinecolor\":\"white\"}},\"shapedefaults\":{\"line\":{\"color\":\"#2a3f5f\"}},\"ternary\":{\"aaxis\":{\"gridcolor\":\"white\",\"linecolor\":\"white\",\"ticks\":\"\"},\"baxis\":{\"gridcolor\":\"white\",\"linecolor\":\"white\",\"ticks\":\"\"},\"bgcolor\":\"#E5ECF6\",\"caxis\":{\"gridcolor\":\"white\",\"linecolor\":\"white\",\"ticks\":\"\"}},\"title\":{\"x\":0.05},\"xaxis\":{\"automargin\":true,\"gridcolor\":\"white\",\"linecolor\":\"white\",\"ticks\":\"\",\"title\":{\"standoff\":15},\"zerolinecolor\":\"white\",\"zerolinewidth\":2},\"yaxis\":{\"automargin\":true,\"gridcolor\":\"white\",\"linecolor\":\"white\",\"ticks\":\"\",\"title\":{\"standoff\":15},\"zerolinecolor\":\"white\",\"zerolinewidth\":2}}}},                        {\"responsive\": true}                    ).then(function(){\n",
       "                            \n",
       "var gd = document.getElementById('9c25dcbe-fe79-4154-b34f-645e31f8313e');\n",
       "var x = new MutationObserver(function (mutations, observer) {{\n",
       "        var display = window.getComputedStyle(gd).display;\n",
       "        if (!display || display === 'none') {{\n",
       "            console.log([gd, 'removed!']);\n",
       "            Plotly.purge(gd);\n",
       "            observer.disconnect();\n",
       "        }}\n",
       "}});\n",
       "\n",
       "// Listen for the removal of the full notebook cells\n",
       "var notebookContainer = gd.closest('#notebook-container');\n",
       "if (notebookContainer) {{\n",
       "    x.observe(notebookContainer, {childList: true});\n",
       "}}\n",
       "\n",
       "// Listen for the clearing of the current output cell\n",
       "var outputEl = gd.closest('.output');\n",
       "if (outputEl) {{\n",
       "    x.observe(outputEl, {childList: true});\n",
       "}}\n",
       "\n",
       "                        })                };                });            </script>        </div>"
      ]
     },
     "metadata": {},
     "output_type": "display_data"
    }
   ],
   "source": [
    "optuna.visualization.plot_param_importances(study)"
   ]
  },
  {
   "cell_type": "code",
   "execution_count": 12,
   "id": "23885400",
   "metadata": {},
   "outputs": [
    {
     "data": {
      "application/vnd.plotly.v1+json": {
       "config": {
        "plotlyServerURL": "https://plot.ly"
       },
       "data": [
        {
         "mode": "markers",
         "name": "Objective Value",
         "type": "scatter",
         "x": [
          0,
          1,
          2,
          3,
          4,
          5,
          6,
          7,
          8,
          9,
          10,
          11,
          12,
          13,
          14,
          15,
          16,
          17,
          18,
          19,
          20,
          21,
          22,
          23,
          24,
          25,
          26,
          27,
          28,
          29,
          30,
          31,
          32,
          33,
          34,
          35,
          36,
          37,
          38,
          39,
          40,
          41,
          42,
          43,
          44,
          45,
          46,
          47,
          48,
          49,
          50,
          51,
          52,
          53,
          54,
          55,
          56,
          57,
          58,
          59,
          60,
          61,
          62,
          63,
          64,
          65,
          66,
          67,
          68,
          69,
          70,
          71,
          72,
          73,
          74,
          75,
          76,
          77,
          78,
          79,
          80,
          81,
          82,
          83,
          84,
          85,
          86,
          87,
          88,
          89,
          90,
          91,
          92,
          93,
          94,
          95,
          96,
          97,
          98,
          99
         ],
         "y": [
          0.9145966756568817,
          0.8779987339866764,
          0.2362461789397553,
          0.893401458325368,
          -0.008213681940496542,
          0.5275420718041505,
          0.8029895451161637,
          0.8641591267243396,
          0.6682460812449369,
          0.8062841631132467,
          0.07831460701538939,
          0.8768359513475595,
          0.8448747023343768,
          0.9162416150574744,
          0.8716300185591713,
          0.8317874763945554,
          0.9082711928761444,
          0.8626431842230512,
          0.9094109938136922,
          0.3813965434890324,
          0.8203182894207948,
          0.9093860966809626,
          0.8767368126776445,
          0.8853645036363439,
          0.9136797910816088,
          0.9175337821640855,
          0.40308420527116096,
          0.8886529923805333,
          0.9040544187900489,
          0.8730877856379201,
          0.865799250300559,
          0.8594948535954428,
          0.8893400438003862,
          0.9079774058877107,
          0.8878178490043462,
          0.9044483123485696,
          0.8438693960633622,
          0.8540739652423512,
          0.8378869064252266,
          0.7609673018104838,
          0.5288408584324572,
          0.9006829987668103,
          0.9073014478545876,
          0.7900146097817362,
          0.8955375015710648,
          0.918816207461143,
          0.05478151031448186,
          0.9134495734529974,
          0.847926120605725,
          0.8778571541190036,
          0.8887929872745903,
          0.8941737136209413,
          0.9190488800307046,
          0.8876753453497073,
          0.8928711902927021,
          0.8700847327787146,
          0.8977359978289856,
          0.8363022117040381,
          0.9034788251595698,
          0.8866667411191523,
          0.8969979250113742,
          0.8839888464154003,
          0.8924065022179771,
          0.9070713132856699,
          0.8657132013518083,
          0.8585373769648355,
          0.8547505592740928,
          0.9088473245362647,
          0.9007310619890199,
          0.8799670194436275,
          0.5298071970323535,
          0.8946684574728104,
          0.911668391351906,
          0.9061967065589251,
          0.8923833680532286,
          0.8866052343647122,
          0.8580268970390967,
          0.9037768764104257,
          0.8545221821931801,
          0.908436212487508,
          0.8970142698286764,
          0.8226586428975239,
          0.9031112010157253,
          0.9062439590934628,
          0.9188680461112482,
          0.9032013987487736,
          0.8552851654682004,
          0.8732373023354606,
          0.8395617733982219,
          0.9064060677100145,
          0.9076198850671857,
          0.9126806126378963,
          0.9198679216185126,
          0.9108842034931642,
          0.3917402470626066,
          0.020333007077385723,
          0.9171314226457769,
          0.8844763596426547,
          0.8692521988245081,
          0.8887176422706238
         ]
        },
        {
         "name": "Best Value",
         "type": "scatter",
         "x": [
          0,
          1,
          2,
          3,
          4,
          5,
          6,
          7,
          8,
          9,
          10,
          11,
          12,
          13,
          14,
          15,
          16,
          17,
          18,
          19,
          20,
          21,
          22,
          23,
          24,
          25,
          26,
          27,
          28,
          29,
          30,
          31,
          32,
          33,
          34,
          35,
          36,
          37,
          38,
          39,
          40,
          41,
          42,
          43,
          44,
          45,
          46,
          47,
          48,
          49,
          50,
          51,
          52,
          53,
          54,
          55,
          56,
          57,
          58,
          59,
          60,
          61,
          62,
          63,
          64,
          65,
          66,
          67,
          68,
          69,
          70,
          71,
          72,
          73,
          74,
          75,
          76,
          77,
          78,
          79,
          80,
          81,
          82,
          83,
          84,
          85,
          86,
          87,
          88,
          89,
          90,
          91,
          92,
          93,
          94,
          95,
          96,
          97,
          98,
          99
         ],
         "y": [
          0.9145966756568817,
          0.9145966756568817,
          0.9145966756568817,
          0.9145966756568817,
          0.9145966756568817,
          0.9145966756568817,
          0.9145966756568817,
          0.9145966756568817,
          0.9145966756568817,
          0.9145966756568817,
          0.9145966756568817,
          0.9145966756568817,
          0.9145966756568817,
          0.9162416150574744,
          0.9162416150574744,
          0.9162416150574744,
          0.9162416150574744,
          0.9162416150574744,
          0.9162416150574744,
          0.9162416150574744,
          0.9162416150574744,
          0.9162416150574744,
          0.9162416150574744,
          0.9162416150574744,
          0.9162416150574744,
          0.9175337821640855,
          0.9175337821640855,
          0.9175337821640855,
          0.9175337821640855,
          0.9175337821640855,
          0.9175337821640855,
          0.9175337821640855,
          0.9175337821640855,
          0.9175337821640855,
          0.9175337821640855,
          0.9175337821640855,
          0.9175337821640855,
          0.9175337821640855,
          0.9175337821640855,
          0.9175337821640855,
          0.9175337821640855,
          0.9175337821640855,
          0.9175337821640855,
          0.9175337821640855,
          0.9175337821640855,
          0.918816207461143,
          0.918816207461143,
          0.918816207461143,
          0.918816207461143,
          0.918816207461143,
          0.918816207461143,
          0.918816207461143,
          0.9190488800307046,
          0.9190488800307046,
          0.9190488800307046,
          0.9190488800307046,
          0.9190488800307046,
          0.9190488800307046,
          0.9190488800307046,
          0.9190488800307046,
          0.9190488800307046,
          0.9190488800307046,
          0.9190488800307046,
          0.9190488800307046,
          0.9190488800307046,
          0.9190488800307046,
          0.9190488800307046,
          0.9190488800307046,
          0.9190488800307046,
          0.9190488800307046,
          0.9190488800307046,
          0.9190488800307046,
          0.9190488800307046,
          0.9190488800307046,
          0.9190488800307046,
          0.9190488800307046,
          0.9190488800307046,
          0.9190488800307046,
          0.9190488800307046,
          0.9190488800307046,
          0.9190488800307046,
          0.9190488800307046,
          0.9190488800307046,
          0.9190488800307046,
          0.9190488800307046,
          0.9190488800307046,
          0.9190488800307046,
          0.9190488800307046,
          0.9190488800307046,
          0.9190488800307046,
          0.9190488800307046,
          0.9190488800307046,
          0.9198679216185126,
          0.9198679216185126,
          0.9198679216185126,
          0.9198679216185126,
          0.9198679216185126,
          0.9198679216185126,
          0.9198679216185126,
          0.9198679216185126
         ]
        }
       ],
       "layout": {
        "template": {
         "data": {
          "bar": [
           {
            "error_x": {
             "color": "#2a3f5f"
            },
            "error_y": {
             "color": "#2a3f5f"
            },
            "marker": {
             "line": {
              "color": "#E5ECF6",
              "width": 0.5
             },
             "pattern": {
              "fillmode": "overlay",
              "size": 10,
              "solidity": 0.2
             }
            },
            "type": "bar"
           }
          ],
          "barpolar": [
           {
            "marker": {
             "line": {
              "color": "#E5ECF6",
              "width": 0.5
             },
             "pattern": {
              "fillmode": "overlay",
              "size": 10,
              "solidity": 0.2
             }
            },
            "type": "barpolar"
           }
          ],
          "carpet": [
           {
            "aaxis": {
             "endlinecolor": "#2a3f5f",
             "gridcolor": "white",
             "linecolor": "white",
             "minorgridcolor": "white",
             "startlinecolor": "#2a3f5f"
            },
            "baxis": {
             "endlinecolor": "#2a3f5f",
             "gridcolor": "white",
             "linecolor": "white",
             "minorgridcolor": "white",
             "startlinecolor": "#2a3f5f"
            },
            "type": "carpet"
           }
          ],
          "choropleth": [
           {
            "colorbar": {
             "outlinewidth": 0,
             "ticks": ""
            },
            "type": "choropleth"
           }
          ],
          "contour": [
           {
            "colorbar": {
             "outlinewidth": 0,
             "ticks": ""
            },
            "colorscale": [
             [
              0,
              "#0d0887"
             ],
             [
              0.1111111111111111,
              "#46039f"
             ],
             [
              0.2222222222222222,
              "#7201a8"
             ],
             [
              0.3333333333333333,
              "#9c179e"
             ],
             [
              0.4444444444444444,
              "#bd3786"
             ],
             [
              0.5555555555555556,
              "#d8576b"
             ],
             [
              0.6666666666666666,
              "#ed7953"
             ],
             [
              0.7777777777777778,
              "#fb9f3a"
             ],
             [
              0.8888888888888888,
              "#fdca26"
             ],
             [
              1,
              "#f0f921"
             ]
            ],
            "type": "contour"
           }
          ],
          "contourcarpet": [
           {
            "colorbar": {
             "outlinewidth": 0,
             "ticks": ""
            },
            "type": "contourcarpet"
           }
          ],
          "heatmap": [
           {
            "colorbar": {
             "outlinewidth": 0,
             "ticks": ""
            },
            "colorscale": [
             [
              0,
              "#0d0887"
             ],
             [
              0.1111111111111111,
              "#46039f"
             ],
             [
              0.2222222222222222,
              "#7201a8"
             ],
             [
              0.3333333333333333,
              "#9c179e"
             ],
             [
              0.4444444444444444,
              "#bd3786"
             ],
             [
              0.5555555555555556,
              "#d8576b"
             ],
             [
              0.6666666666666666,
              "#ed7953"
             ],
             [
              0.7777777777777778,
              "#fb9f3a"
             ],
             [
              0.8888888888888888,
              "#fdca26"
             ],
             [
              1,
              "#f0f921"
             ]
            ],
            "type": "heatmap"
           }
          ],
          "heatmapgl": [
           {
            "colorbar": {
             "outlinewidth": 0,
             "ticks": ""
            },
            "colorscale": [
             [
              0,
              "#0d0887"
             ],
             [
              0.1111111111111111,
              "#46039f"
             ],
             [
              0.2222222222222222,
              "#7201a8"
             ],
             [
              0.3333333333333333,
              "#9c179e"
             ],
             [
              0.4444444444444444,
              "#bd3786"
             ],
             [
              0.5555555555555556,
              "#d8576b"
             ],
             [
              0.6666666666666666,
              "#ed7953"
             ],
             [
              0.7777777777777778,
              "#fb9f3a"
             ],
             [
              0.8888888888888888,
              "#fdca26"
             ],
             [
              1,
              "#f0f921"
             ]
            ],
            "type": "heatmapgl"
           }
          ],
          "histogram": [
           {
            "marker": {
             "pattern": {
              "fillmode": "overlay",
              "size": 10,
              "solidity": 0.2
             }
            },
            "type": "histogram"
           }
          ],
          "histogram2d": [
           {
            "colorbar": {
             "outlinewidth": 0,
             "ticks": ""
            },
            "colorscale": [
             [
              0,
              "#0d0887"
             ],
             [
              0.1111111111111111,
              "#46039f"
             ],
             [
              0.2222222222222222,
              "#7201a8"
             ],
             [
              0.3333333333333333,
              "#9c179e"
             ],
             [
              0.4444444444444444,
              "#bd3786"
             ],
             [
              0.5555555555555556,
              "#d8576b"
             ],
             [
              0.6666666666666666,
              "#ed7953"
             ],
             [
              0.7777777777777778,
              "#fb9f3a"
             ],
             [
              0.8888888888888888,
              "#fdca26"
             ],
             [
              1,
              "#f0f921"
             ]
            ],
            "type": "histogram2d"
           }
          ],
          "histogram2dcontour": [
           {
            "colorbar": {
             "outlinewidth": 0,
             "ticks": ""
            },
            "colorscale": [
             [
              0,
              "#0d0887"
             ],
             [
              0.1111111111111111,
              "#46039f"
             ],
             [
              0.2222222222222222,
              "#7201a8"
             ],
             [
              0.3333333333333333,
              "#9c179e"
             ],
             [
              0.4444444444444444,
              "#bd3786"
             ],
             [
              0.5555555555555556,
              "#d8576b"
             ],
             [
              0.6666666666666666,
              "#ed7953"
             ],
             [
              0.7777777777777778,
              "#fb9f3a"
             ],
             [
              0.8888888888888888,
              "#fdca26"
             ],
             [
              1,
              "#f0f921"
             ]
            ],
            "type": "histogram2dcontour"
           }
          ],
          "mesh3d": [
           {
            "colorbar": {
             "outlinewidth": 0,
             "ticks": ""
            },
            "type": "mesh3d"
           }
          ],
          "parcoords": [
           {
            "line": {
             "colorbar": {
              "outlinewidth": 0,
              "ticks": ""
             }
            },
            "type": "parcoords"
           }
          ],
          "pie": [
           {
            "automargin": true,
            "type": "pie"
           }
          ],
          "scatter": [
           {
            "marker": {
             "colorbar": {
              "outlinewidth": 0,
              "ticks": ""
             }
            },
            "type": "scatter"
           }
          ],
          "scatter3d": [
           {
            "line": {
             "colorbar": {
              "outlinewidth": 0,
              "ticks": ""
             }
            },
            "marker": {
             "colorbar": {
              "outlinewidth": 0,
              "ticks": ""
             }
            },
            "type": "scatter3d"
           }
          ],
          "scattercarpet": [
           {
            "marker": {
             "colorbar": {
              "outlinewidth": 0,
              "ticks": ""
             }
            },
            "type": "scattercarpet"
           }
          ],
          "scattergeo": [
           {
            "marker": {
             "colorbar": {
              "outlinewidth": 0,
              "ticks": ""
             }
            },
            "type": "scattergeo"
           }
          ],
          "scattergl": [
           {
            "marker": {
             "colorbar": {
              "outlinewidth": 0,
              "ticks": ""
             }
            },
            "type": "scattergl"
           }
          ],
          "scattermapbox": [
           {
            "marker": {
             "colorbar": {
              "outlinewidth": 0,
              "ticks": ""
             }
            },
            "type": "scattermapbox"
           }
          ],
          "scatterpolar": [
           {
            "marker": {
             "colorbar": {
              "outlinewidth": 0,
              "ticks": ""
             }
            },
            "type": "scatterpolar"
           }
          ],
          "scatterpolargl": [
           {
            "marker": {
             "colorbar": {
              "outlinewidth": 0,
              "ticks": ""
             }
            },
            "type": "scatterpolargl"
           }
          ],
          "scatterternary": [
           {
            "marker": {
             "colorbar": {
              "outlinewidth": 0,
              "ticks": ""
             }
            },
            "type": "scatterternary"
           }
          ],
          "surface": [
           {
            "colorbar": {
             "outlinewidth": 0,
             "ticks": ""
            },
            "colorscale": [
             [
              0,
              "#0d0887"
             ],
             [
              0.1111111111111111,
              "#46039f"
             ],
             [
              0.2222222222222222,
              "#7201a8"
             ],
             [
              0.3333333333333333,
              "#9c179e"
             ],
             [
              0.4444444444444444,
              "#bd3786"
             ],
             [
              0.5555555555555556,
              "#d8576b"
             ],
             [
              0.6666666666666666,
              "#ed7953"
             ],
             [
              0.7777777777777778,
              "#fb9f3a"
             ],
             [
              0.8888888888888888,
              "#fdca26"
             ],
             [
              1,
              "#f0f921"
             ]
            ],
            "type": "surface"
           }
          ],
          "table": [
           {
            "cells": {
             "fill": {
              "color": "#EBF0F8"
             },
             "line": {
              "color": "white"
             }
            },
            "header": {
             "fill": {
              "color": "#C8D4E3"
             },
             "line": {
              "color": "white"
             }
            },
            "type": "table"
           }
          ]
         },
         "layout": {
          "annotationdefaults": {
           "arrowcolor": "#2a3f5f",
           "arrowhead": 0,
           "arrowwidth": 1
          },
          "autotypenumbers": "strict",
          "coloraxis": {
           "colorbar": {
            "outlinewidth": 0,
            "ticks": ""
           }
          },
          "colorscale": {
           "diverging": [
            [
             0,
             "#8e0152"
            ],
            [
             0.1,
             "#c51b7d"
            ],
            [
             0.2,
             "#de77ae"
            ],
            [
             0.3,
             "#f1b6da"
            ],
            [
             0.4,
             "#fde0ef"
            ],
            [
             0.5,
             "#f7f7f7"
            ],
            [
             0.6,
             "#e6f5d0"
            ],
            [
             0.7,
             "#b8e186"
            ],
            [
             0.8,
             "#7fbc41"
            ],
            [
             0.9,
             "#4d9221"
            ],
            [
             1,
             "#276419"
            ]
           ],
           "sequential": [
            [
             0,
             "#0d0887"
            ],
            [
             0.1111111111111111,
             "#46039f"
            ],
            [
             0.2222222222222222,
             "#7201a8"
            ],
            [
             0.3333333333333333,
             "#9c179e"
            ],
            [
             0.4444444444444444,
             "#bd3786"
            ],
            [
             0.5555555555555556,
             "#d8576b"
            ],
            [
             0.6666666666666666,
             "#ed7953"
            ],
            [
             0.7777777777777778,
             "#fb9f3a"
            ],
            [
             0.8888888888888888,
             "#fdca26"
            ],
            [
             1,
             "#f0f921"
            ]
           ],
           "sequentialminus": [
            [
             0,
             "#0d0887"
            ],
            [
             0.1111111111111111,
             "#46039f"
            ],
            [
             0.2222222222222222,
             "#7201a8"
            ],
            [
             0.3333333333333333,
             "#9c179e"
            ],
            [
             0.4444444444444444,
             "#bd3786"
            ],
            [
             0.5555555555555556,
             "#d8576b"
            ],
            [
             0.6666666666666666,
             "#ed7953"
            ],
            [
             0.7777777777777778,
             "#fb9f3a"
            ],
            [
             0.8888888888888888,
             "#fdca26"
            ],
            [
             1,
             "#f0f921"
            ]
           ]
          },
          "colorway": [
           "#636efa",
           "#EF553B",
           "#00cc96",
           "#ab63fa",
           "#FFA15A",
           "#19d3f3",
           "#FF6692",
           "#B6E880",
           "#FF97FF",
           "#FECB52"
          ],
          "font": {
           "color": "#2a3f5f"
          },
          "geo": {
           "bgcolor": "white",
           "lakecolor": "white",
           "landcolor": "#E5ECF6",
           "showlakes": true,
           "showland": true,
           "subunitcolor": "white"
          },
          "hoverlabel": {
           "align": "left"
          },
          "hovermode": "closest",
          "mapbox": {
           "style": "light"
          },
          "paper_bgcolor": "white",
          "plot_bgcolor": "#E5ECF6",
          "polar": {
           "angularaxis": {
            "gridcolor": "white",
            "linecolor": "white",
            "ticks": ""
           },
           "bgcolor": "#E5ECF6",
           "radialaxis": {
            "gridcolor": "white",
            "linecolor": "white",
            "ticks": ""
           }
          },
          "scene": {
           "xaxis": {
            "backgroundcolor": "#E5ECF6",
            "gridcolor": "white",
            "gridwidth": 2,
            "linecolor": "white",
            "showbackground": true,
            "ticks": "",
            "zerolinecolor": "white"
           },
           "yaxis": {
            "backgroundcolor": "#E5ECF6",
            "gridcolor": "white",
            "gridwidth": 2,
            "linecolor": "white",
            "showbackground": true,
            "ticks": "",
            "zerolinecolor": "white"
           },
           "zaxis": {
            "backgroundcolor": "#E5ECF6",
            "gridcolor": "white",
            "gridwidth": 2,
            "linecolor": "white",
            "showbackground": true,
            "ticks": "",
            "zerolinecolor": "white"
           }
          },
          "shapedefaults": {
           "line": {
            "color": "#2a3f5f"
           }
          },
          "ternary": {
           "aaxis": {
            "gridcolor": "white",
            "linecolor": "white",
            "ticks": ""
           },
           "baxis": {
            "gridcolor": "white",
            "linecolor": "white",
            "ticks": ""
           },
           "bgcolor": "#E5ECF6",
           "caxis": {
            "gridcolor": "white",
            "linecolor": "white",
            "ticks": ""
           }
          },
          "title": {
           "x": 0.05
          },
          "xaxis": {
           "automargin": true,
           "gridcolor": "white",
           "linecolor": "white",
           "ticks": "",
           "title": {
            "standoff": 15
           },
           "zerolinecolor": "white",
           "zerolinewidth": 2
          },
          "yaxis": {
           "automargin": true,
           "gridcolor": "white",
           "linecolor": "white",
           "ticks": "",
           "title": {
            "standoff": 15
           },
           "zerolinecolor": "white",
           "zerolinewidth": 2
          }
         }
        },
        "title": {
         "text": "Optimization History Plot"
        },
        "xaxis": {
         "title": {
          "text": "#Trials"
         }
        },
        "yaxis": {
         "title": {
          "text": "Objective Value"
         }
        }
       }
      },
      "text/html": [
       "<div>                            <div id=\"f8b3243f-a31f-4aec-95ce-38c8fd041650\" class=\"plotly-graph-div\" style=\"height:525px; width:100%;\"></div>            <script type=\"text/javascript\">                require([\"plotly\"], function(Plotly) {                    window.PLOTLYENV=window.PLOTLYENV || {};                                    if (document.getElementById(\"f8b3243f-a31f-4aec-95ce-38c8fd041650\")) {                    Plotly.newPlot(                        \"f8b3243f-a31f-4aec-95ce-38c8fd041650\",                        [{\"mode\":\"markers\",\"name\":\"Objective Value\",\"x\":[0,1,2,3,4,5,6,7,8,9,10,11,12,13,14,15,16,17,18,19,20,21,22,23,24,25,26,27,28,29,30,31,32,33,34,35,36,37,38,39,40,41,42,43,44,45,46,47,48,49,50,51,52,53,54,55,56,57,58,59,60,61,62,63,64,65,66,67,68,69,70,71,72,73,74,75,76,77,78,79,80,81,82,83,84,85,86,87,88,89,90,91,92,93,94,95,96,97,98,99],\"y\":[0.9145966756568817,0.8779987339866764,0.2362461789397553,0.893401458325368,-0.008213681940496542,0.5275420718041505,0.8029895451161637,0.8641591267243396,0.6682460812449369,0.8062841631132467,0.07831460701538939,0.8768359513475595,0.8448747023343768,0.9162416150574744,0.8716300185591713,0.8317874763945554,0.9082711928761444,0.8626431842230512,0.9094109938136922,0.3813965434890324,0.8203182894207948,0.9093860966809626,0.8767368126776445,0.8853645036363439,0.9136797910816088,0.9175337821640855,0.40308420527116096,0.8886529923805333,0.9040544187900489,0.8730877856379201,0.865799250300559,0.8594948535954428,0.8893400438003862,0.9079774058877107,0.8878178490043462,0.9044483123485696,0.8438693960633622,0.8540739652423512,0.8378869064252266,0.7609673018104838,0.5288408584324572,0.9006829987668103,0.9073014478545876,0.7900146097817362,0.8955375015710648,0.918816207461143,0.05478151031448186,0.9134495734529974,0.847926120605725,0.8778571541190036,0.8887929872745903,0.8941737136209413,0.9190488800307046,0.8876753453497073,0.8928711902927021,0.8700847327787146,0.8977359978289856,0.8363022117040381,0.9034788251595698,0.8866667411191523,0.8969979250113742,0.8839888464154003,0.8924065022179771,0.9070713132856699,0.8657132013518083,0.8585373769648355,0.8547505592740928,0.9088473245362647,0.9007310619890199,0.8799670194436275,0.5298071970323535,0.8946684574728104,0.911668391351906,0.9061967065589251,0.8923833680532286,0.8866052343647122,0.8580268970390967,0.9037768764104257,0.8545221821931801,0.908436212487508,0.8970142698286764,0.8226586428975239,0.9031112010157253,0.9062439590934628,0.9188680461112482,0.9032013987487736,0.8552851654682004,0.8732373023354606,0.8395617733982219,0.9064060677100145,0.9076198850671857,0.9126806126378963,0.9198679216185126,0.9108842034931642,0.3917402470626066,0.020333007077385723,0.9171314226457769,0.8844763596426547,0.8692521988245081,0.8887176422706238],\"type\":\"scatter\"},{\"name\":\"Best Value\",\"x\":[0,1,2,3,4,5,6,7,8,9,10,11,12,13,14,15,16,17,18,19,20,21,22,23,24,25,26,27,28,29,30,31,32,33,34,35,36,37,38,39,40,41,42,43,44,45,46,47,48,49,50,51,52,53,54,55,56,57,58,59,60,61,62,63,64,65,66,67,68,69,70,71,72,73,74,75,76,77,78,79,80,81,82,83,84,85,86,87,88,89,90,91,92,93,94,95,96,97,98,99],\"y\":[0.9145966756568817,0.9145966756568817,0.9145966756568817,0.9145966756568817,0.9145966756568817,0.9145966756568817,0.9145966756568817,0.9145966756568817,0.9145966756568817,0.9145966756568817,0.9145966756568817,0.9145966756568817,0.9145966756568817,0.9162416150574744,0.9162416150574744,0.9162416150574744,0.9162416150574744,0.9162416150574744,0.9162416150574744,0.9162416150574744,0.9162416150574744,0.9162416150574744,0.9162416150574744,0.9162416150574744,0.9162416150574744,0.9175337821640855,0.9175337821640855,0.9175337821640855,0.9175337821640855,0.9175337821640855,0.9175337821640855,0.9175337821640855,0.9175337821640855,0.9175337821640855,0.9175337821640855,0.9175337821640855,0.9175337821640855,0.9175337821640855,0.9175337821640855,0.9175337821640855,0.9175337821640855,0.9175337821640855,0.9175337821640855,0.9175337821640855,0.9175337821640855,0.918816207461143,0.918816207461143,0.918816207461143,0.918816207461143,0.918816207461143,0.918816207461143,0.918816207461143,0.9190488800307046,0.9190488800307046,0.9190488800307046,0.9190488800307046,0.9190488800307046,0.9190488800307046,0.9190488800307046,0.9190488800307046,0.9190488800307046,0.9190488800307046,0.9190488800307046,0.9190488800307046,0.9190488800307046,0.9190488800307046,0.9190488800307046,0.9190488800307046,0.9190488800307046,0.9190488800307046,0.9190488800307046,0.9190488800307046,0.9190488800307046,0.9190488800307046,0.9190488800307046,0.9190488800307046,0.9190488800307046,0.9190488800307046,0.9190488800307046,0.9190488800307046,0.9190488800307046,0.9190488800307046,0.9190488800307046,0.9190488800307046,0.9190488800307046,0.9190488800307046,0.9190488800307046,0.9190488800307046,0.9190488800307046,0.9190488800307046,0.9190488800307046,0.9190488800307046,0.9198679216185126,0.9198679216185126,0.9198679216185126,0.9198679216185126,0.9198679216185126,0.9198679216185126,0.9198679216185126,0.9198679216185126],\"type\":\"scatter\"}],                        {\"title\":{\"text\":\"Optimization History Plot\"},\"xaxis\":{\"title\":{\"text\":\"#Trials\"}},\"yaxis\":{\"title\":{\"text\":\"Objective Value\"}},\"template\":{\"data\":{\"bar\":[{\"error_x\":{\"color\":\"#2a3f5f\"},\"error_y\":{\"color\":\"#2a3f5f\"},\"marker\":{\"line\":{\"color\":\"#E5ECF6\",\"width\":0.5},\"pattern\":{\"fillmode\":\"overlay\",\"size\":10,\"solidity\":0.2}},\"type\":\"bar\"}],\"barpolar\":[{\"marker\":{\"line\":{\"color\":\"#E5ECF6\",\"width\":0.5},\"pattern\":{\"fillmode\":\"overlay\",\"size\":10,\"solidity\":0.2}},\"type\":\"barpolar\"}],\"carpet\":[{\"aaxis\":{\"endlinecolor\":\"#2a3f5f\",\"gridcolor\":\"white\",\"linecolor\":\"white\",\"minorgridcolor\":\"white\",\"startlinecolor\":\"#2a3f5f\"},\"baxis\":{\"endlinecolor\":\"#2a3f5f\",\"gridcolor\":\"white\",\"linecolor\":\"white\",\"minorgridcolor\":\"white\",\"startlinecolor\":\"#2a3f5f\"},\"type\":\"carpet\"}],\"choropleth\":[{\"colorbar\":{\"outlinewidth\":0,\"ticks\":\"\"},\"type\":\"choropleth\"}],\"contour\":[{\"colorbar\":{\"outlinewidth\":0,\"ticks\":\"\"},\"colorscale\":[[0.0,\"#0d0887\"],[0.1111111111111111,\"#46039f\"],[0.2222222222222222,\"#7201a8\"],[0.3333333333333333,\"#9c179e\"],[0.4444444444444444,\"#bd3786\"],[0.5555555555555556,\"#d8576b\"],[0.6666666666666666,\"#ed7953\"],[0.7777777777777778,\"#fb9f3a\"],[0.8888888888888888,\"#fdca26\"],[1.0,\"#f0f921\"]],\"type\":\"contour\"}],\"contourcarpet\":[{\"colorbar\":{\"outlinewidth\":0,\"ticks\":\"\"},\"type\":\"contourcarpet\"}],\"heatmap\":[{\"colorbar\":{\"outlinewidth\":0,\"ticks\":\"\"},\"colorscale\":[[0.0,\"#0d0887\"],[0.1111111111111111,\"#46039f\"],[0.2222222222222222,\"#7201a8\"],[0.3333333333333333,\"#9c179e\"],[0.4444444444444444,\"#bd3786\"],[0.5555555555555556,\"#d8576b\"],[0.6666666666666666,\"#ed7953\"],[0.7777777777777778,\"#fb9f3a\"],[0.8888888888888888,\"#fdca26\"],[1.0,\"#f0f921\"]],\"type\":\"heatmap\"}],\"heatmapgl\":[{\"colorbar\":{\"outlinewidth\":0,\"ticks\":\"\"},\"colorscale\":[[0.0,\"#0d0887\"],[0.1111111111111111,\"#46039f\"],[0.2222222222222222,\"#7201a8\"],[0.3333333333333333,\"#9c179e\"],[0.4444444444444444,\"#bd3786\"],[0.5555555555555556,\"#d8576b\"],[0.6666666666666666,\"#ed7953\"],[0.7777777777777778,\"#fb9f3a\"],[0.8888888888888888,\"#fdca26\"],[1.0,\"#f0f921\"]],\"type\":\"heatmapgl\"}],\"histogram\":[{\"marker\":{\"pattern\":{\"fillmode\":\"overlay\",\"size\":10,\"solidity\":0.2}},\"type\":\"histogram\"}],\"histogram2d\":[{\"colorbar\":{\"outlinewidth\":0,\"ticks\":\"\"},\"colorscale\":[[0.0,\"#0d0887\"],[0.1111111111111111,\"#46039f\"],[0.2222222222222222,\"#7201a8\"],[0.3333333333333333,\"#9c179e\"],[0.4444444444444444,\"#bd3786\"],[0.5555555555555556,\"#d8576b\"],[0.6666666666666666,\"#ed7953\"],[0.7777777777777778,\"#fb9f3a\"],[0.8888888888888888,\"#fdca26\"],[1.0,\"#f0f921\"]],\"type\":\"histogram2d\"}],\"histogram2dcontour\":[{\"colorbar\":{\"outlinewidth\":0,\"ticks\":\"\"},\"colorscale\":[[0.0,\"#0d0887\"],[0.1111111111111111,\"#46039f\"],[0.2222222222222222,\"#7201a8\"],[0.3333333333333333,\"#9c179e\"],[0.4444444444444444,\"#bd3786\"],[0.5555555555555556,\"#d8576b\"],[0.6666666666666666,\"#ed7953\"],[0.7777777777777778,\"#fb9f3a\"],[0.8888888888888888,\"#fdca26\"],[1.0,\"#f0f921\"]],\"type\":\"histogram2dcontour\"}],\"mesh3d\":[{\"colorbar\":{\"outlinewidth\":0,\"ticks\":\"\"},\"type\":\"mesh3d\"}],\"parcoords\":[{\"line\":{\"colorbar\":{\"outlinewidth\":0,\"ticks\":\"\"}},\"type\":\"parcoords\"}],\"pie\":[{\"automargin\":true,\"type\":\"pie\"}],\"scatter\":[{\"marker\":{\"colorbar\":{\"outlinewidth\":0,\"ticks\":\"\"}},\"type\":\"scatter\"}],\"scatter3d\":[{\"line\":{\"colorbar\":{\"outlinewidth\":0,\"ticks\":\"\"}},\"marker\":{\"colorbar\":{\"outlinewidth\":0,\"ticks\":\"\"}},\"type\":\"scatter3d\"}],\"scattercarpet\":[{\"marker\":{\"colorbar\":{\"outlinewidth\":0,\"ticks\":\"\"}},\"type\":\"scattercarpet\"}],\"scattergeo\":[{\"marker\":{\"colorbar\":{\"outlinewidth\":0,\"ticks\":\"\"}},\"type\":\"scattergeo\"}],\"scattergl\":[{\"marker\":{\"colorbar\":{\"outlinewidth\":0,\"ticks\":\"\"}},\"type\":\"scattergl\"}],\"scattermapbox\":[{\"marker\":{\"colorbar\":{\"outlinewidth\":0,\"ticks\":\"\"}},\"type\":\"scattermapbox\"}],\"scatterpolar\":[{\"marker\":{\"colorbar\":{\"outlinewidth\":0,\"ticks\":\"\"}},\"type\":\"scatterpolar\"}],\"scatterpolargl\":[{\"marker\":{\"colorbar\":{\"outlinewidth\":0,\"ticks\":\"\"}},\"type\":\"scatterpolargl\"}],\"scatterternary\":[{\"marker\":{\"colorbar\":{\"outlinewidth\":0,\"ticks\":\"\"}},\"type\":\"scatterternary\"}],\"surface\":[{\"colorbar\":{\"outlinewidth\":0,\"ticks\":\"\"},\"colorscale\":[[0.0,\"#0d0887\"],[0.1111111111111111,\"#46039f\"],[0.2222222222222222,\"#7201a8\"],[0.3333333333333333,\"#9c179e\"],[0.4444444444444444,\"#bd3786\"],[0.5555555555555556,\"#d8576b\"],[0.6666666666666666,\"#ed7953\"],[0.7777777777777778,\"#fb9f3a\"],[0.8888888888888888,\"#fdca26\"],[1.0,\"#f0f921\"]],\"type\":\"surface\"}],\"table\":[{\"cells\":{\"fill\":{\"color\":\"#EBF0F8\"},\"line\":{\"color\":\"white\"}},\"header\":{\"fill\":{\"color\":\"#C8D4E3\"},\"line\":{\"color\":\"white\"}},\"type\":\"table\"}]},\"layout\":{\"annotationdefaults\":{\"arrowcolor\":\"#2a3f5f\",\"arrowhead\":0,\"arrowwidth\":1},\"autotypenumbers\":\"strict\",\"coloraxis\":{\"colorbar\":{\"outlinewidth\":0,\"ticks\":\"\"}},\"colorscale\":{\"diverging\":[[0,\"#8e0152\"],[0.1,\"#c51b7d\"],[0.2,\"#de77ae\"],[0.3,\"#f1b6da\"],[0.4,\"#fde0ef\"],[0.5,\"#f7f7f7\"],[0.6,\"#e6f5d0\"],[0.7,\"#b8e186\"],[0.8,\"#7fbc41\"],[0.9,\"#4d9221\"],[1,\"#276419\"]],\"sequential\":[[0.0,\"#0d0887\"],[0.1111111111111111,\"#46039f\"],[0.2222222222222222,\"#7201a8\"],[0.3333333333333333,\"#9c179e\"],[0.4444444444444444,\"#bd3786\"],[0.5555555555555556,\"#d8576b\"],[0.6666666666666666,\"#ed7953\"],[0.7777777777777778,\"#fb9f3a\"],[0.8888888888888888,\"#fdca26\"],[1.0,\"#f0f921\"]],\"sequentialminus\":[[0.0,\"#0d0887\"],[0.1111111111111111,\"#46039f\"],[0.2222222222222222,\"#7201a8\"],[0.3333333333333333,\"#9c179e\"],[0.4444444444444444,\"#bd3786\"],[0.5555555555555556,\"#d8576b\"],[0.6666666666666666,\"#ed7953\"],[0.7777777777777778,\"#fb9f3a\"],[0.8888888888888888,\"#fdca26\"],[1.0,\"#f0f921\"]]},\"colorway\":[\"#636efa\",\"#EF553B\",\"#00cc96\",\"#ab63fa\",\"#FFA15A\",\"#19d3f3\",\"#FF6692\",\"#B6E880\",\"#FF97FF\",\"#FECB52\"],\"font\":{\"color\":\"#2a3f5f\"},\"geo\":{\"bgcolor\":\"white\",\"lakecolor\":\"white\",\"landcolor\":\"#E5ECF6\",\"showlakes\":true,\"showland\":true,\"subunitcolor\":\"white\"},\"hoverlabel\":{\"align\":\"left\"},\"hovermode\":\"closest\",\"mapbox\":{\"style\":\"light\"},\"paper_bgcolor\":\"white\",\"plot_bgcolor\":\"#E5ECF6\",\"polar\":{\"angularaxis\":{\"gridcolor\":\"white\",\"linecolor\":\"white\",\"ticks\":\"\"},\"bgcolor\":\"#E5ECF6\",\"radialaxis\":{\"gridcolor\":\"white\",\"linecolor\":\"white\",\"ticks\":\"\"}},\"scene\":{\"xaxis\":{\"backgroundcolor\":\"#E5ECF6\",\"gridcolor\":\"white\",\"gridwidth\":2,\"linecolor\":\"white\",\"showbackground\":true,\"ticks\":\"\",\"zerolinecolor\":\"white\"},\"yaxis\":{\"backgroundcolor\":\"#E5ECF6\",\"gridcolor\":\"white\",\"gridwidth\":2,\"linecolor\":\"white\",\"showbackground\":true,\"ticks\":\"\",\"zerolinecolor\":\"white\"},\"zaxis\":{\"backgroundcolor\":\"#E5ECF6\",\"gridcolor\":\"white\",\"gridwidth\":2,\"linecolor\":\"white\",\"showbackground\":true,\"ticks\":\"\",\"zerolinecolor\":\"white\"}},\"shapedefaults\":{\"line\":{\"color\":\"#2a3f5f\"}},\"ternary\":{\"aaxis\":{\"gridcolor\":\"white\",\"linecolor\":\"white\",\"ticks\":\"\"},\"baxis\":{\"gridcolor\":\"white\",\"linecolor\":\"white\",\"ticks\":\"\"},\"bgcolor\":\"#E5ECF6\",\"caxis\":{\"gridcolor\":\"white\",\"linecolor\":\"white\",\"ticks\":\"\"}},\"title\":{\"x\":0.05},\"xaxis\":{\"automargin\":true,\"gridcolor\":\"white\",\"linecolor\":\"white\",\"ticks\":\"\",\"title\":{\"standoff\":15},\"zerolinecolor\":\"white\",\"zerolinewidth\":2},\"yaxis\":{\"automargin\":true,\"gridcolor\":\"white\",\"linecolor\":\"white\",\"ticks\":\"\",\"title\":{\"standoff\":15},\"zerolinecolor\":\"white\",\"zerolinewidth\":2}}}},                        {\"responsive\": true}                    ).then(function(){\n",
       "                            \n",
       "var gd = document.getElementById('f8b3243f-a31f-4aec-95ce-38c8fd041650');\n",
       "var x = new MutationObserver(function (mutations, observer) {{\n",
       "        var display = window.getComputedStyle(gd).display;\n",
       "        if (!display || display === 'none') {{\n",
       "            console.log([gd, 'removed!']);\n",
       "            Plotly.purge(gd);\n",
       "            observer.disconnect();\n",
       "        }}\n",
       "}});\n",
       "\n",
       "// Listen for the removal of the full notebook cells\n",
       "var notebookContainer = gd.closest('#notebook-container');\n",
       "if (notebookContainer) {{\n",
       "    x.observe(notebookContainer, {childList: true});\n",
       "}}\n",
       "\n",
       "// Listen for the clearing of the current output cell\n",
       "var outputEl = gd.closest('.output');\n",
       "if (outputEl) {{\n",
       "    x.observe(outputEl, {childList: true});\n",
       "}}\n",
       "\n",
       "                        })                };                });            </script>        </div>"
      ]
     },
     "metadata": {},
     "output_type": "display_data"
    }
   ],
   "source": [
    "optuna.visualization.plot_optimization_history(study)"
   ]
  },
  {
   "cell_type": "code",
   "execution_count": 13,
   "id": "5ed414fc",
   "metadata": {},
   "outputs": [
    {
     "data": {
      "application/vnd.plotly.v1+json": {
       "config": {
        "plotlyServerURL": "https://plot.ly"
       },
       "data": [
        {
         "marker": {
          "color": [
           0,
           1,
           2,
           3,
           4,
           5,
           6,
           7,
           8,
           9,
           10,
           11,
           12,
           13,
           14,
           15,
           16,
           17,
           18,
           19,
           20,
           21,
           22,
           23,
           24,
           25,
           26,
           27,
           28,
           29,
           30,
           31,
           32,
           33,
           34,
           35,
           36,
           37,
           38,
           39,
           40,
           41,
           42,
           43,
           44,
           45,
           46,
           47,
           48,
           49,
           50,
           51,
           52,
           53,
           54,
           55,
           56,
           57,
           58,
           59,
           60,
           61,
           62,
           63,
           64,
           65,
           66,
           67,
           68,
           69,
           70,
           71,
           72,
           73,
           74,
           75,
           76,
           77,
           78,
           79,
           80,
           81,
           82,
           83,
           84,
           85,
           86,
           87,
           88,
           89,
           90,
           91,
           92,
           93,
           94,
           95,
           96,
           97,
           98,
           99
          ],
          "colorbar": {
           "title": {
            "text": "#Trials"
           },
           "x": 1,
           "xpad": 40
          },
          "colorscale": [
           [
            0,
            "rgb(247,251,255)"
           ],
           [
            0.125,
            "rgb(222,235,247)"
           ],
           [
            0.25,
            "rgb(198,219,239)"
           ],
           [
            0.375,
            "rgb(158,202,225)"
           ],
           [
            0.5,
            "rgb(107,174,214)"
           ],
           [
            0.625,
            "rgb(66,146,198)"
           ],
           [
            0.75,
            "rgb(33,113,181)"
           ],
           [
            0.875,
            "rgb(8,81,156)"
           ],
           [
            1,
            "rgb(8,48,107)"
           ]
          ],
          "line": {
           "color": "Grey",
           "width": 0.5
          },
          "showscale": true
         },
         "mode": "markers",
         "showlegend": false,
         "type": "scatter",
         "x": [
          "Bernoulli",
          "Bayesian",
          "Bernoulli",
          "Bernoulli",
          "MVS",
          "Bayesian",
          "Bernoulli",
          "Bernoulli",
          "Bayesian",
          "Bayesian",
          "MVS",
          "Bernoulli",
          "Bernoulli",
          "Bernoulli",
          "Bernoulli",
          "Bernoulli",
          "MVS",
          "Bernoulli",
          "Bernoulli",
          "MVS",
          "Bernoulli",
          "Bernoulli",
          "Bernoulli",
          "Bernoulli",
          "Bernoulli",
          "Bernoulli",
          "Bernoulli",
          "Bernoulli",
          "Bayesian",
          "MVS",
          "Bayesian",
          "Bernoulli",
          "Bernoulli",
          "Bernoulli",
          "Bernoulli",
          "Bernoulli",
          "Bernoulli",
          "Bernoulli",
          "Bernoulli",
          "Bayesian",
          "MVS",
          "Bernoulli",
          "Bernoulli",
          "Bernoulli",
          "Bernoulli",
          "Bernoulli",
          "Bernoulli",
          "Bayesian",
          "Bernoulli",
          "Bernoulli",
          "MVS",
          "Bayesian",
          "Bayesian",
          "Bayesian",
          "Bayesian",
          "Bayesian",
          "Bernoulli",
          "Bernoulli",
          "Bernoulli",
          "Bayesian",
          "MVS",
          "Bayesian",
          "Bayesian",
          "Bayesian",
          "Bayesian",
          "Bayesian",
          "Bernoulli",
          "Bernoulli",
          "Bernoulli",
          "Bayesian",
          "Bernoulli",
          "Bernoulli",
          "Bernoulli",
          "Bernoulli",
          "Bernoulli",
          "Bernoulli",
          "Bernoulli",
          "MVS",
          "Bernoulli",
          "Bernoulli",
          "Bernoulli",
          "Bernoulli",
          "Bernoulli",
          "Bernoulli",
          "Bernoulli",
          "Bernoulli",
          "Bayesian",
          "Bernoulli",
          "Bernoulli",
          "Bernoulli",
          "MVS",
          "Bernoulli",
          "Bernoulli",
          "Bernoulli",
          "Bernoulli",
          "Bayesian",
          "Bernoulli",
          "Bernoulli",
          "Bernoulli",
          "Bayesian"
         ],
         "xaxis": "x",
         "y": [
          0.9145966756568817,
          0.8779987339866764,
          0.2362461789397553,
          0.893401458325368,
          -0.008213681940496542,
          0.5275420718041505,
          0.8029895451161637,
          0.8641591267243396,
          0.6682460812449369,
          0.8062841631132467,
          0.07831460701538939,
          0.8768359513475595,
          0.8448747023343768,
          0.9162416150574744,
          0.8716300185591713,
          0.8317874763945554,
          0.9082711928761444,
          0.8626431842230512,
          0.9094109938136922,
          0.3813965434890324,
          0.8203182894207948,
          0.9093860966809626,
          0.8767368126776445,
          0.8853645036363439,
          0.9136797910816088,
          0.9175337821640855,
          0.40308420527116096,
          0.8886529923805333,
          0.9040544187900489,
          0.8730877856379201,
          0.865799250300559,
          0.8594948535954428,
          0.8893400438003862,
          0.9079774058877107,
          0.8878178490043462,
          0.9044483123485696,
          0.8438693960633622,
          0.8540739652423512,
          0.8378869064252266,
          0.7609673018104838,
          0.5288408584324572,
          0.9006829987668103,
          0.9073014478545876,
          0.7900146097817362,
          0.8955375015710648,
          0.918816207461143,
          0.05478151031448186,
          0.9134495734529974,
          0.847926120605725,
          0.8778571541190036,
          0.8887929872745903,
          0.8941737136209413,
          0.9190488800307046,
          0.8876753453497073,
          0.8928711902927021,
          0.8700847327787146,
          0.8977359978289856,
          0.8363022117040381,
          0.9034788251595698,
          0.8866667411191523,
          0.8969979250113742,
          0.8839888464154003,
          0.8924065022179771,
          0.9070713132856699,
          0.8657132013518083,
          0.8585373769648355,
          0.8547505592740928,
          0.9088473245362647,
          0.9007310619890199,
          0.8799670194436275,
          0.5298071970323535,
          0.8946684574728104,
          0.911668391351906,
          0.9061967065589251,
          0.8923833680532286,
          0.8866052343647122,
          0.8580268970390967,
          0.9037768764104257,
          0.8545221821931801,
          0.908436212487508,
          0.8970142698286764,
          0.8226586428975239,
          0.9031112010157253,
          0.9062439590934628,
          0.9188680461112482,
          0.9032013987487736,
          0.8552851654682004,
          0.8732373023354606,
          0.8395617733982219,
          0.9064060677100145,
          0.9076198850671857,
          0.9126806126378963,
          0.9198679216185126,
          0.9108842034931642,
          0.3917402470626066,
          0.020333007077385723,
          0.9171314226457769,
          0.8844763596426547,
          0.8692521988245081,
          0.8887176422706238
         ],
         "yaxis": "y"
        },
        {
         "marker": {
          "color": [
           0,
           1,
           2,
           3,
           4,
           5,
           6,
           7,
           8,
           9,
           10,
           11,
           12,
           13,
           14,
           15,
           16,
           17,
           18,
           19,
           20,
           21,
           22,
           23,
           24,
           25,
           26,
           27,
           28,
           29,
           30,
           31,
           32,
           33,
           34,
           35,
           36,
           37,
           38,
           39,
           40,
           41,
           42,
           43,
           44,
           45,
           46,
           47,
           48,
           49,
           50,
           51,
           52,
           53,
           54,
           55,
           56,
           57,
           58,
           59,
           60,
           61,
           62,
           63,
           64,
           65,
           66,
           67,
           68,
           69,
           70,
           71,
           72,
           73,
           74,
           75,
           76,
           77,
           78,
           79,
           80,
           81,
           82,
           83,
           84,
           85,
           86,
           87,
           88,
           89,
           90,
           91,
           92,
           93,
           94,
           95,
           96,
           97,
           98,
           99
          ],
          "colorbar": {
           "title": {
            "text": "#Trials"
           },
           "x": 1,
           "xpad": 40
          },
          "colorscale": [
           [
            0,
            "rgb(247,251,255)"
           ],
           [
            0.125,
            "rgb(222,235,247)"
           ],
           [
            0.25,
            "rgb(198,219,239)"
           ],
           [
            0.375,
            "rgb(158,202,225)"
           ],
           [
            0.5,
            "rgb(107,174,214)"
           ],
           [
            0.625,
            "rgb(66,146,198)"
           ],
           [
            0.75,
            "rgb(33,113,181)"
           ],
           [
            0.875,
            "rgb(8,81,156)"
           ],
           [
            1,
            "rgb(8,48,107)"
           ]
          ],
          "line": {
           "color": "Grey",
           "width": 0.5
          },
          "showscale": false
         },
         "mode": "markers",
         "showlegend": false,
         "type": "scatter",
         "x": [
          6,
          3,
          7,
          6,
          1,
          7,
          3,
          2,
          9,
          3,
          10,
          5,
          6,
          5,
          5,
          8,
          4,
          7,
          4,
          8,
          5,
          4,
          4,
          6,
          4,
          2,
          1,
          2,
          2,
          3,
          8,
          5,
          6,
          4,
          7,
          2,
          5,
          1,
          6,
          3,
          2,
          4,
          4,
          3,
          5,
          6,
          6,
          7,
          6,
          7,
          5,
          7,
          8,
          9,
          9,
          10,
          8,
          5,
          8,
          6,
          3,
          7,
          7,
          6,
          9,
          8,
          7,
          6,
          7,
          5,
          1,
          4,
          4,
          4,
          5,
          8,
          6,
          2,
          5,
          4,
          3,
          4,
          3,
          5,
          4,
          4,
          6,
          2,
          5,
          3,
          7,
          4,
          4,
          4,
          3,
          5,
          6,
          6,
          6,
          6
         ],
         "xaxis": "x2",
         "y": [
          0.9145966756568817,
          0.8779987339866764,
          0.2362461789397553,
          0.893401458325368,
          -0.008213681940496542,
          0.5275420718041505,
          0.8029895451161637,
          0.8641591267243396,
          0.6682460812449369,
          0.8062841631132467,
          0.07831460701538939,
          0.8768359513475595,
          0.8448747023343768,
          0.9162416150574744,
          0.8716300185591713,
          0.8317874763945554,
          0.9082711928761444,
          0.8626431842230512,
          0.9094109938136922,
          0.3813965434890324,
          0.8203182894207948,
          0.9093860966809626,
          0.8767368126776445,
          0.8853645036363439,
          0.9136797910816088,
          0.9175337821640855,
          0.40308420527116096,
          0.8886529923805333,
          0.9040544187900489,
          0.8730877856379201,
          0.865799250300559,
          0.8594948535954428,
          0.8893400438003862,
          0.9079774058877107,
          0.8878178490043462,
          0.9044483123485696,
          0.8438693960633622,
          0.8540739652423512,
          0.8378869064252266,
          0.7609673018104838,
          0.5288408584324572,
          0.9006829987668103,
          0.9073014478545876,
          0.7900146097817362,
          0.8955375015710648,
          0.918816207461143,
          0.05478151031448186,
          0.9134495734529974,
          0.847926120605725,
          0.8778571541190036,
          0.8887929872745903,
          0.8941737136209413,
          0.9190488800307046,
          0.8876753453497073,
          0.8928711902927021,
          0.8700847327787146,
          0.8977359978289856,
          0.8363022117040381,
          0.9034788251595698,
          0.8866667411191523,
          0.8969979250113742,
          0.8839888464154003,
          0.8924065022179771,
          0.9070713132856699,
          0.8657132013518083,
          0.8585373769648355,
          0.8547505592740928,
          0.9088473245362647,
          0.9007310619890199,
          0.8799670194436275,
          0.5298071970323535,
          0.8946684574728104,
          0.911668391351906,
          0.9061967065589251,
          0.8923833680532286,
          0.8866052343647122,
          0.8580268970390967,
          0.9037768764104257,
          0.8545221821931801,
          0.908436212487508,
          0.8970142698286764,
          0.8226586428975239,
          0.9031112010157253,
          0.9062439590934628,
          0.9188680461112482,
          0.9032013987487736,
          0.8552851654682004,
          0.8732373023354606,
          0.8395617733982219,
          0.9064060677100145,
          0.9076198850671857,
          0.9126806126378963,
          0.9198679216185126,
          0.9108842034931642,
          0.3917402470626066,
          0.020333007077385723,
          0.9171314226457769,
          0.8844763596426547,
          0.8692521988245081,
          0.8887176422706238
         ],
         "yaxis": "y2"
        },
        {
         "marker": {
          "color": [
           0,
           1,
           2,
           3,
           4,
           5,
           6,
           7,
           8,
           9,
           10,
           11,
           12,
           13,
           14,
           15,
           16,
           17,
           18,
           19,
           20,
           21,
           22,
           23,
           24,
           25,
           26,
           27,
           28,
           29,
           30,
           31,
           32,
           33,
           34,
           35,
           36,
           37,
           38,
           39,
           40,
           41,
           42,
           43,
           44,
           45,
           46,
           47,
           48,
           49,
           50,
           51,
           52,
           53,
           54,
           55,
           56,
           57,
           58,
           59,
           60,
           61,
           62,
           63,
           64,
           65,
           66,
           67,
           68,
           69,
           70,
           71,
           72,
           73,
           74,
           75,
           76,
           77,
           78,
           79,
           80,
           81,
           82,
           83,
           84,
           85,
           86,
           87,
           88,
           89,
           90,
           91,
           92,
           93,
           94,
           95,
           96,
           97,
           98,
           99
          ],
          "colorbar": {
           "title": {
            "text": "#Trials"
           },
           "x": 1,
           "xpad": 40
          },
          "colorscale": [
           [
            0,
            "rgb(247,251,255)"
           ],
           [
            0.125,
            "rgb(222,235,247)"
           ],
           [
            0.25,
            "rgb(198,219,239)"
           ],
           [
            0.375,
            "rgb(158,202,225)"
           ],
           [
            0.5,
            "rgb(107,174,214)"
           ],
           [
            0.625,
            "rgb(66,146,198)"
           ],
           [
            0.75,
            "rgb(33,113,181)"
           ],
           [
            0.875,
            "rgb(8,81,156)"
           ],
           [
            1,
            "rgb(8,48,107)"
           ]
          ],
          "line": {
           "color": "Grey",
           "width": 0.5
          },
          "showscale": false
         },
         "mode": "markers",
         "showlegend": false,
         "type": "scatter",
         "x": [
          0.03126128881300504,
          0.054614532093053725,
          0.0002938863189566628,
          0.00909691652309771,
          1.2291469357931032e-05,
          0.0013725726548586053,
          0.42838662863633997,
          0.21298329065172508,
          0.001568841490821799,
          0.013945339085963033,
          6.40635539648687e-05,
          0.012797739031914415,
          0.014397369292111389,
          0.06986199424033243,
          0.08458823293830062,
          0.623172833391595,
          0.07076500800766033,
          0.0035967133050096097,
          0.04557907247218863,
          0.00042812177158285555,
          0.9840670551097953,
          0.04578929790663431,
          0.16957187433455917,
          0.025415369412229608,
          0.18639620385156386,
          0.17699506671838733,
          0.003755723616230364,
          0.25650265090037166,
          0.10733047340002919,
          0.03166457005750742,
          0.46794862740921267,
          0.13735202433519245,
          0.3042763737100084,
          0.09537199230390643,
          0.02352110082850601,
          0.053722716256455,
          0.007133358356194754,
          0.8997272218363755,
          0.22695341050943152,
          0.006598823990994747,
          0.0011672813600605513,
          0.042836427649797025,
          0.14281161761683975,
          0.3334510493019562,
          0.020613052199592294,
          0.06179324139187105,
          5.151526732107472e-05,
          0.0822037737730122,
          0.4949852921579292,
          0.18462732998391507,
          0.011378620622181137,
          0.07134297670288327,
          0.06872719212364878,
          0.03479909850286877,
          0.019914045860080748,
          0.1289808393140914,
          0.06641149720125734,
          0.6844256739257775,
          0.20888777442964382,
          0.01533921260129585,
          0.35519638853586993,
          0.09510629097986223,
          0.06597146663864072,
          0.03439637744707897,
          0.09002747018400573,
          0.05117109317284946,
          0.15818576438412288,
          0.10990755934866334,
          0.24709458626888178,
          0.005358743032581761,
          0.0019953695095507084,
          0.04499492893180076,
          0.028927114802019576,
          0.030578951123046323,
          0.07896472989767933,
          0.009433692165052715,
          0.015831472500676253,
          0.05581360401635142,
          0.026901923670562655,
          0.14031827193042487,
          0.4064386361135889,
          0.041056845785982427,
          0.10484287609882198,
          0.021186232151301564,
          0.05607474714308115,
          0.18859861118098517,
          0.28426658804099836,
          0.06082618084356156,
          0.123809155824741,
          0.080765317118481,
          0.036678055451939896,
          0.04945988459879228,
          0.05146920834345779,
          0.0543173216920168,
          0.0006112109029210369,
          2.2264770050817168e-05,
          0.16962762942779927,
          0.1796067708994474,
          0.5675298061843379,
          0.24612600568158474
         ],
         "xaxis": "x3",
         "y": [
          0.9145966756568817,
          0.8779987339866764,
          0.2362461789397553,
          0.893401458325368,
          -0.008213681940496542,
          0.5275420718041505,
          0.8029895451161637,
          0.8641591267243396,
          0.6682460812449369,
          0.8062841631132467,
          0.07831460701538939,
          0.8768359513475595,
          0.8448747023343768,
          0.9162416150574744,
          0.8716300185591713,
          0.8317874763945554,
          0.9082711928761444,
          0.8626431842230512,
          0.9094109938136922,
          0.3813965434890324,
          0.8203182894207948,
          0.9093860966809626,
          0.8767368126776445,
          0.8853645036363439,
          0.9136797910816088,
          0.9175337821640855,
          0.40308420527116096,
          0.8886529923805333,
          0.9040544187900489,
          0.8730877856379201,
          0.865799250300559,
          0.8594948535954428,
          0.8893400438003862,
          0.9079774058877107,
          0.8878178490043462,
          0.9044483123485696,
          0.8438693960633622,
          0.8540739652423512,
          0.8378869064252266,
          0.7609673018104838,
          0.5288408584324572,
          0.9006829987668103,
          0.9073014478545876,
          0.7900146097817362,
          0.8955375015710648,
          0.918816207461143,
          0.05478151031448186,
          0.9134495734529974,
          0.847926120605725,
          0.8778571541190036,
          0.8887929872745903,
          0.8941737136209413,
          0.9190488800307046,
          0.8876753453497073,
          0.8928711902927021,
          0.8700847327787146,
          0.8977359978289856,
          0.8363022117040381,
          0.9034788251595698,
          0.8866667411191523,
          0.8969979250113742,
          0.8839888464154003,
          0.8924065022179771,
          0.9070713132856699,
          0.8657132013518083,
          0.8585373769648355,
          0.8547505592740928,
          0.9088473245362647,
          0.9007310619890199,
          0.8799670194436275,
          0.5298071970323535,
          0.8946684574728104,
          0.911668391351906,
          0.9061967065589251,
          0.8923833680532286,
          0.8866052343647122,
          0.8580268970390967,
          0.9037768764104257,
          0.8545221821931801,
          0.908436212487508,
          0.8970142698286764,
          0.8226586428975239,
          0.9031112010157253,
          0.9062439590934628,
          0.9188680461112482,
          0.9032013987487736,
          0.8552851654682004,
          0.8732373023354606,
          0.8395617733982219,
          0.9064060677100145,
          0.9076198850671857,
          0.9126806126378963,
          0.9198679216185126,
          0.9108842034931642,
          0.3917402470626066,
          0.020333007077385723,
          0.9171314226457769,
          0.8844763596426547,
          0.8692521988245081,
          0.8887176422706238
         ],
         "yaxis": "y3"
        }
       ],
       "layout": {
        "template": {
         "data": {
          "bar": [
           {
            "error_x": {
             "color": "#2a3f5f"
            },
            "error_y": {
             "color": "#2a3f5f"
            },
            "marker": {
             "line": {
              "color": "#E5ECF6",
              "width": 0.5
             },
             "pattern": {
              "fillmode": "overlay",
              "size": 10,
              "solidity": 0.2
             }
            },
            "type": "bar"
           }
          ],
          "barpolar": [
           {
            "marker": {
             "line": {
              "color": "#E5ECF6",
              "width": 0.5
             },
             "pattern": {
              "fillmode": "overlay",
              "size": 10,
              "solidity": 0.2
             }
            },
            "type": "barpolar"
           }
          ],
          "carpet": [
           {
            "aaxis": {
             "endlinecolor": "#2a3f5f",
             "gridcolor": "white",
             "linecolor": "white",
             "minorgridcolor": "white",
             "startlinecolor": "#2a3f5f"
            },
            "baxis": {
             "endlinecolor": "#2a3f5f",
             "gridcolor": "white",
             "linecolor": "white",
             "minorgridcolor": "white",
             "startlinecolor": "#2a3f5f"
            },
            "type": "carpet"
           }
          ],
          "choropleth": [
           {
            "colorbar": {
             "outlinewidth": 0,
             "ticks": ""
            },
            "type": "choropleth"
           }
          ],
          "contour": [
           {
            "colorbar": {
             "outlinewidth": 0,
             "ticks": ""
            },
            "colorscale": [
             [
              0,
              "#0d0887"
             ],
             [
              0.1111111111111111,
              "#46039f"
             ],
             [
              0.2222222222222222,
              "#7201a8"
             ],
             [
              0.3333333333333333,
              "#9c179e"
             ],
             [
              0.4444444444444444,
              "#bd3786"
             ],
             [
              0.5555555555555556,
              "#d8576b"
             ],
             [
              0.6666666666666666,
              "#ed7953"
             ],
             [
              0.7777777777777778,
              "#fb9f3a"
             ],
             [
              0.8888888888888888,
              "#fdca26"
             ],
             [
              1,
              "#f0f921"
             ]
            ],
            "type": "contour"
           }
          ],
          "contourcarpet": [
           {
            "colorbar": {
             "outlinewidth": 0,
             "ticks": ""
            },
            "type": "contourcarpet"
           }
          ],
          "heatmap": [
           {
            "colorbar": {
             "outlinewidth": 0,
             "ticks": ""
            },
            "colorscale": [
             [
              0,
              "#0d0887"
             ],
             [
              0.1111111111111111,
              "#46039f"
             ],
             [
              0.2222222222222222,
              "#7201a8"
             ],
             [
              0.3333333333333333,
              "#9c179e"
             ],
             [
              0.4444444444444444,
              "#bd3786"
             ],
             [
              0.5555555555555556,
              "#d8576b"
             ],
             [
              0.6666666666666666,
              "#ed7953"
             ],
             [
              0.7777777777777778,
              "#fb9f3a"
             ],
             [
              0.8888888888888888,
              "#fdca26"
             ],
             [
              1,
              "#f0f921"
             ]
            ],
            "type": "heatmap"
           }
          ],
          "heatmapgl": [
           {
            "colorbar": {
             "outlinewidth": 0,
             "ticks": ""
            },
            "colorscale": [
             [
              0,
              "#0d0887"
             ],
             [
              0.1111111111111111,
              "#46039f"
             ],
             [
              0.2222222222222222,
              "#7201a8"
             ],
             [
              0.3333333333333333,
              "#9c179e"
             ],
             [
              0.4444444444444444,
              "#bd3786"
             ],
             [
              0.5555555555555556,
              "#d8576b"
             ],
             [
              0.6666666666666666,
              "#ed7953"
             ],
             [
              0.7777777777777778,
              "#fb9f3a"
             ],
             [
              0.8888888888888888,
              "#fdca26"
             ],
             [
              1,
              "#f0f921"
             ]
            ],
            "type": "heatmapgl"
           }
          ],
          "histogram": [
           {
            "marker": {
             "pattern": {
              "fillmode": "overlay",
              "size": 10,
              "solidity": 0.2
             }
            },
            "type": "histogram"
           }
          ],
          "histogram2d": [
           {
            "colorbar": {
             "outlinewidth": 0,
             "ticks": ""
            },
            "colorscale": [
             [
              0,
              "#0d0887"
             ],
             [
              0.1111111111111111,
              "#46039f"
             ],
             [
              0.2222222222222222,
              "#7201a8"
             ],
             [
              0.3333333333333333,
              "#9c179e"
             ],
             [
              0.4444444444444444,
              "#bd3786"
             ],
             [
              0.5555555555555556,
              "#d8576b"
             ],
             [
              0.6666666666666666,
              "#ed7953"
             ],
             [
              0.7777777777777778,
              "#fb9f3a"
             ],
             [
              0.8888888888888888,
              "#fdca26"
             ],
             [
              1,
              "#f0f921"
             ]
            ],
            "type": "histogram2d"
           }
          ],
          "histogram2dcontour": [
           {
            "colorbar": {
             "outlinewidth": 0,
             "ticks": ""
            },
            "colorscale": [
             [
              0,
              "#0d0887"
             ],
             [
              0.1111111111111111,
              "#46039f"
             ],
             [
              0.2222222222222222,
              "#7201a8"
             ],
             [
              0.3333333333333333,
              "#9c179e"
             ],
             [
              0.4444444444444444,
              "#bd3786"
             ],
             [
              0.5555555555555556,
              "#d8576b"
             ],
             [
              0.6666666666666666,
              "#ed7953"
             ],
             [
              0.7777777777777778,
              "#fb9f3a"
             ],
             [
              0.8888888888888888,
              "#fdca26"
             ],
             [
              1,
              "#f0f921"
             ]
            ],
            "type": "histogram2dcontour"
           }
          ],
          "mesh3d": [
           {
            "colorbar": {
             "outlinewidth": 0,
             "ticks": ""
            },
            "type": "mesh3d"
           }
          ],
          "parcoords": [
           {
            "line": {
             "colorbar": {
              "outlinewidth": 0,
              "ticks": ""
             }
            },
            "type": "parcoords"
           }
          ],
          "pie": [
           {
            "automargin": true,
            "type": "pie"
           }
          ],
          "scatter": [
           {
            "marker": {
             "colorbar": {
              "outlinewidth": 0,
              "ticks": ""
             }
            },
            "type": "scatter"
           }
          ],
          "scatter3d": [
           {
            "line": {
             "colorbar": {
              "outlinewidth": 0,
              "ticks": ""
             }
            },
            "marker": {
             "colorbar": {
              "outlinewidth": 0,
              "ticks": ""
             }
            },
            "type": "scatter3d"
           }
          ],
          "scattercarpet": [
           {
            "marker": {
             "colorbar": {
              "outlinewidth": 0,
              "ticks": ""
             }
            },
            "type": "scattercarpet"
           }
          ],
          "scattergeo": [
           {
            "marker": {
             "colorbar": {
              "outlinewidth": 0,
              "ticks": ""
             }
            },
            "type": "scattergeo"
           }
          ],
          "scattergl": [
           {
            "marker": {
             "colorbar": {
              "outlinewidth": 0,
              "ticks": ""
             }
            },
            "type": "scattergl"
           }
          ],
          "scattermapbox": [
           {
            "marker": {
             "colorbar": {
              "outlinewidth": 0,
              "ticks": ""
             }
            },
            "type": "scattermapbox"
           }
          ],
          "scatterpolar": [
           {
            "marker": {
             "colorbar": {
              "outlinewidth": 0,
              "ticks": ""
             }
            },
            "type": "scatterpolar"
           }
          ],
          "scatterpolargl": [
           {
            "marker": {
             "colorbar": {
              "outlinewidth": 0,
              "ticks": ""
             }
            },
            "type": "scatterpolargl"
           }
          ],
          "scatterternary": [
           {
            "marker": {
             "colorbar": {
              "outlinewidth": 0,
              "ticks": ""
             }
            },
            "type": "scatterternary"
           }
          ],
          "surface": [
           {
            "colorbar": {
             "outlinewidth": 0,
             "ticks": ""
            },
            "colorscale": [
             [
              0,
              "#0d0887"
             ],
             [
              0.1111111111111111,
              "#46039f"
             ],
             [
              0.2222222222222222,
              "#7201a8"
             ],
             [
              0.3333333333333333,
              "#9c179e"
             ],
             [
              0.4444444444444444,
              "#bd3786"
             ],
             [
              0.5555555555555556,
              "#d8576b"
             ],
             [
              0.6666666666666666,
              "#ed7953"
             ],
             [
              0.7777777777777778,
              "#fb9f3a"
             ],
             [
              0.8888888888888888,
              "#fdca26"
             ],
             [
              1,
              "#f0f921"
             ]
            ],
            "type": "surface"
           }
          ],
          "table": [
           {
            "cells": {
             "fill": {
              "color": "#EBF0F8"
             },
             "line": {
              "color": "white"
             }
            },
            "header": {
             "fill": {
              "color": "#C8D4E3"
             },
             "line": {
              "color": "white"
             }
            },
            "type": "table"
           }
          ]
         },
         "layout": {
          "annotationdefaults": {
           "arrowcolor": "#2a3f5f",
           "arrowhead": 0,
           "arrowwidth": 1
          },
          "autotypenumbers": "strict",
          "coloraxis": {
           "colorbar": {
            "outlinewidth": 0,
            "ticks": ""
           }
          },
          "colorscale": {
           "diverging": [
            [
             0,
             "#8e0152"
            ],
            [
             0.1,
             "#c51b7d"
            ],
            [
             0.2,
             "#de77ae"
            ],
            [
             0.3,
             "#f1b6da"
            ],
            [
             0.4,
             "#fde0ef"
            ],
            [
             0.5,
             "#f7f7f7"
            ],
            [
             0.6,
             "#e6f5d0"
            ],
            [
             0.7,
             "#b8e186"
            ],
            [
             0.8,
             "#7fbc41"
            ],
            [
             0.9,
             "#4d9221"
            ],
            [
             1,
             "#276419"
            ]
           ],
           "sequential": [
            [
             0,
             "#0d0887"
            ],
            [
             0.1111111111111111,
             "#46039f"
            ],
            [
             0.2222222222222222,
             "#7201a8"
            ],
            [
             0.3333333333333333,
             "#9c179e"
            ],
            [
             0.4444444444444444,
             "#bd3786"
            ],
            [
             0.5555555555555556,
             "#d8576b"
            ],
            [
             0.6666666666666666,
             "#ed7953"
            ],
            [
             0.7777777777777778,
             "#fb9f3a"
            ],
            [
             0.8888888888888888,
             "#fdca26"
            ],
            [
             1,
             "#f0f921"
            ]
           ],
           "sequentialminus": [
            [
             0,
             "#0d0887"
            ],
            [
             0.1111111111111111,
             "#46039f"
            ],
            [
             0.2222222222222222,
             "#7201a8"
            ],
            [
             0.3333333333333333,
             "#9c179e"
            ],
            [
             0.4444444444444444,
             "#bd3786"
            ],
            [
             0.5555555555555556,
             "#d8576b"
            ],
            [
             0.6666666666666666,
             "#ed7953"
            ],
            [
             0.7777777777777778,
             "#fb9f3a"
            ],
            [
             0.8888888888888888,
             "#fdca26"
            ],
            [
             1,
             "#f0f921"
            ]
           ]
          },
          "colorway": [
           "#636efa",
           "#EF553B",
           "#00cc96",
           "#ab63fa",
           "#FFA15A",
           "#19d3f3",
           "#FF6692",
           "#B6E880",
           "#FF97FF",
           "#FECB52"
          ],
          "font": {
           "color": "#2a3f5f"
          },
          "geo": {
           "bgcolor": "white",
           "lakecolor": "white",
           "landcolor": "#E5ECF6",
           "showlakes": true,
           "showland": true,
           "subunitcolor": "white"
          },
          "hoverlabel": {
           "align": "left"
          },
          "hovermode": "closest",
          "mapbox": {
           "style": "light"
          },
          "paper_bgcolor": "white",
          "plot_bgcolor": "#E5ECF6",
          "polar": {
           "angularaxis": {
            "gridcolor": "white",
            "linecolor": "white",
            "ticks": ""
           },
           "bgcolor": "#E5ECF6",
           "radialaxis": {
            "gridcolor": "white",
            "linecolor": "white",
            "ticks": ""
           }
          },
          "scene": {
           "xaxis": {
            "backgroundcolor": "#E5ECF6",
            "gridcolor": "white",
            "gridwidth": 2,
            "linecolor": "white",
            "showbackground": true,
            "ticks": "",
            "zerolinecolor": "white"
           },
           "yaxis": {
            "backgroundcolor": "#E5ECF6",
            "gridcolor": "white",
            "gridwidth": 2,
            "linecolor": "white",
            "showbackground": true,
            "ticks": "",
            "zerolinecolor": "white"
           },
           "zaxis": {
            "backgroundcolor": "#E5ECF6",
            "gridcolor": "white",
            "gridwidth": 2,
            "linecolor": "white",
            "showbackground": true,
            "ticks": "",
            "zerolinecolor": "white"
           }
          },
          "shapedefaults": {
           "line": {
            "color": "#2a3f5f"
           }
          },
          "ternary": {
           "aaxis": {
            "gridcolor": "white",
            "linecolor": "white",
            "ticks": ""
           },
           "baxis": {
            "gridcolor": "white",
            "linecolor": "white",
            "ticks": ""
           },
           "bgcolor": "#E5ECF6",
           "caxis": {
            "gridcolor": "white",
            "linecolor": "white",
            "ticks": ""
           }
          },
          "title": {
           "x": 0.05
          },
          "xaxis": {
           "automargin": true,
           "gridcolor": "white",
           "linecolor": "white",
           "ticks": "",
           "title": {
            "standoff": 15
           },
           "zerolinecolor": "white",
           "zerolinewidth": 2
          },
          "yaxis": {
           "automargin": true,
           "gridcolor": "white",
           "linecolor": "white",
           "ticks": "",
           "title": {
            "standoff": 15
           },
           "zerolinecolor": "white",
           "zerolinewidth": 2
          }
         }
        },
        "title": {
         "text": "Slice Plot"
        },
        "xaxis": {
         "anchor": "y",
         "domain": [
          0,
          0.2888888888888889
         ],
         "title": {
          "text": "bootstrap_type"
         }
        },
        "xaxis2": {
         "anchor": "y2",
         "domain": [
          0.35555555555555557,
          0.6444444444444445
         ],
         "title": {
          "text": "depth"
         }
        },
        "xaxis3": {
         "anchor": "y3",
         "domain": [
          0.7111111111111111,
          1
         ],
         "title": {
          "text": "learning_rate"
         },
         "type": "log"
        },
        "yaxis": {
         "anchor": "x",
         "domain": [
          0,
          1
         ],
         "title": {
          "text": "Objective Value"
         }
        },
        "yaxis2": {
         "anchor": "x2",
         "domain": [
          0,
          1
         ],
         "matches": "y",
         "showticklabels": false
        },
        "yaxis3": {
         "anchor": "x3",
         "domain": [
          0,
          1
         ],
         "matches": "y",
         "showticklabels": false
        }
       }
      },
      "text/html": [
       "<div>                            <div id=\"8c1ab934-52cd-4764-a1d7-15df9016b6df\" class=\"plotly-graph-div\" style=\"height:525px; width:100%;\"></div>            <script type=\"text/javascript\">                require([\"plotly\"], function(Plotly) {                    window.PLOTLYENV=window.PLOTLYENV || {};                                    if (document.getElementById(\"8c1ab934-52cd-4764-a1d7-15df9016b6df\")) {                    Plotly.newPlot(                        \"8c1ab934-52cd-4764-a1d7-15df9016b6df\",                        [{\"marker\":{\"color\":[0,1,2,3,4,5,6,7,8,9,10,11,12,13,14,15,16,17,18,19,20,21,22,23,24,25,26,27,28,29,30,31,32,33,34,35,36,37,38,39,40,41,42,43,44,45,46,47,48,49,50,51,52,53,54,55,56,57,58,59,60,61,62,63,64,65,66,67,68,69,70,71,72,73,74,75,76,77,78,79,80,81,82,83,84,85,86,87,88,89,90,91,92,93,94,95,96,97,98,99],\"colorbar\":{\"title\":{\"text\":\"#Trials\"},\"x\":1.0,\"xpad\":40},\"colorscale\":[[0.0,\"rgb(247,251,255)\"],[0.125,\"rgb(222,235,247)\"],[0.25,\"rgb(198,219,239)\"],[0.375,\"rgb(158,202,225)\"],[0.5,\"rgb(107,174,214)\"],[0.625,\"rgb(66,146,198)\"],[0.75,\"rgb(33,113,181)\"],[0.875,\"rgb(8,81,156)\"],[1.0,\"rgb(8,48,107)\"]],\"line\":{\"color\":\"Grey\",\"width\":0.5},\"showscale\":true},\"mode\":\"markers\",\"showlegend\":false,\"x\":[\"Bernoulli\",\"Bayesian\",\"Bernoulli\",\"Bernoulli\",\"MVS\",\"Bayesian\",\"Bernoulli\",\"Bernoulli\",\"Bayesian\",\"Bayesian\",\"MVS\",\"Bernoulli\",\"Bernoulli\",\"Bernoulli\",\"Bernoulli\",\"Bernoulli\",\"MVS\",\"Bernoulli\",\"Bernoulli\",\"MVS\",\"Bernoulli\",\"Bernoulli\",\"Bernoulli\",\"Bernoulli\",\"Bernoulli\",\"Bernoulli\",\"Bernoulli\",\"Bernoulli\",\"Bayesian\",\"MVS\",\"Bayesian\",\"Bernoulli\",\"Bernoulli\",\"Bernoulli\",\"Bernoulli\",\"Bernoulli\",\"Bernoulli\",\"Bernoulli\",\"Bernoulli\",\"Bayesian\",\"MVS\",\"Bernoulli\",\"Bernoulli\",\"Bernoulli\",\"Bernoulli\",\"Bernoulli\",\"Bernoulli\",\"Bayesian\",\"Bernoulli\",\"Bernoulli\",\"MVS\",\"Bayesian\",\"Bayesian\",\"Bayesian\",\"Bayesian\",\"Bayesian\",\"Bernoulli\",\"Bernoulli\",\"Bernoulli\",\"Bayesian\",\"MVS\",\"Bayesian\",\"Bayesian\",\"Bayesian\",\"Bayesian\",\"Bayesian\",\"Bernoulli\",\"Bernoulli\",\"Bernoulli\",\"Bayesian\",\"Bernoulli\",\"Bernoulli\",\"Bernoulli\",\"Bernoulli\",\"Bernoulli\",\"Bernoulli\",\"Bernoulli\",\"MVS\",\"Bernoulli\",\"Bernoulli\",\"Bernoulli\",\"Bernoulli\",\"Bernoulli\",\"Bernoulli\",\"Bernoulli\",\"Bernoulli\",\"Bayesian\",\"Bernoulli\",\"Bernoulli\",\"Bernoulli\",\"MVS\",\"Bernoulli\",\"Bernoulli\",\"Bernoulli\",\"Bernoulli\",\"Bayesian\",\"Bernoulli\",\"Bernoulli\",\"Bernoulli\",\"Bayesian\"],\"y\":[0.9145966756568817,0.8779987339866764,0.2362461789397553,0.893401458325368,-0.008213681940496542,0.5275420718041505,0.8029895451161637,0.8641591267243396,0.6682460812449369,0.8062841631132467,0.07831460701538939,0.8768359513475595,0.8448747023343768,0.9162416150574744,0.8716300185591713,0.8317874763945554,0.9082711928761444,0.8626431842230512,0.9094109938136922,0.3813965434890324,0.8203182894207948,0.9093860966809626,0.8767368126776445,0.8853645036363439,0.9136797910816088,0.9175337821640855,0.40308420527116096,0.8886529923805333,0.9040544187900489,0.8730877856379201,0.865799250300559,0.8594948535954428,0.8893400438003862,0.9079774058877107,0.8878178490043462,0.9044483123485696,0.8438693960633622,0.8540739652423512,0.8378869064252266,0.7609673018104838,0.5288408584324572,0.9006829987668103,0.9073014478545876,0.7900146097817362,0.8955375015710648,0.918816207461143,0.05478151031448186,0.9134495734529974,0.847926120605725,0.8778571541190036,0.8887929872745903,0.8941737136209413,0.9190488800307046,0.8876753453497073,0.8928711902927021,0.8700847327787146,0.8977359978289856,0.8363022117040381,0.9034788251595698,0.8866667411191523,0.8969979250113742,0.8839888464154003,0.8924065022179771,0.9070713132856699,0.8657132013518083,0.8585373769648355,0.8547505592740928,0.9088473245362647,0.9007310619890199,0.8799670194436275,0.5298071970323535,0.8946684574728104,0.911668391351906,0.9061967065589251,0.8923833680532286,0.8866052343647122,0.8580268970390967,0.9037768764104257,0.8545221821931801,0.908436212487508,0.8970142698286764,0.8226586428975239,0.9031112010157253,0.9062439590934628,0.9188680461112482,0.9032013987487736,0.8552851654682004,0.8732373023354606,0.8395617733982219,0.9064060677100145,0.9076198850671857,0.9126806126378963,0.9198679216185126,0.9108842034931642,0.3917402470626066,0.020333007077385723,0.9171314226457769,0.8844763596426547,0.8692521988245081,0.8887176422706238],\"type\":\"scatter\",\"xaxis\":\"x\",\"yaxis\":\"y\"},{\"marker\":{\"color\":[0,1,2,3,4,5,6,7,8,9,10,11,12,13,14,15,16,17,18,19,20,21,22,23,24,25,26,27,28,29,30,31,32,33,34,35,36,37,38,39,40,41,42,43,44,45,46,47,48,49,50,51,52,53,54,55,56,57,58,59,60,61,62,63,64,65,66,67,68,69,70,71,72,73,74,75,76,77,78,79,80,81,82,83,84,85,86,87,88,89,90,91,92,93,94,95,96,97,98,99],\"colorbar\":{\"title\":{\"text\":\"#Trials\"},\"x\":1.0,\"xpad\":40},\"colorscale\":[[0.0,\"rgb(247,251,255)\"],[0.125,\"rgb(222,235,247)\"],[0.25,\"rgb(198,219,239)\"],[0.375,\"rgb(158,202,225)\"],[0.5,\"rgb(107,174,214)\"],[0.625,\"rgb(66,146,198)\"],[0.75,\"rgb(33,113,181)\"],[0.875,\"rgb(8,81,156)\"],[1.0,\"rgb(8,48,107)\"]],\"line\":{\"color\":\"Grey\",\"width\":0.5},\"showscale\":false},\"mode\":\"markers\",\"showlegend\":false,\"x\":[6,3,7,6,1,7,3,2,9,3,10,5,6,5,5,8,4,7,4,8,5,4,4,6,4,2,1,2,2,3,8,5,6,4,7,2,5,1,6,3,2,4,4,3,5,6,6,7,6,7,5,7,8,9,9,10,8,5,8,6,3,7,7,6,9,8,7,6,7,5,1,4,4,4,5,8,6,2,5,4,3,4,3,5,4,4,6,2,5,3,7,4,4,4,3,5,6,6,6,6],\"y\":[0.9145966756568817,0.8779987339866764,0.2362461789397553,0.893401458325368,-0.008213681940496542,0.5275420718041505,0.8029895451161637,0.8641591267243396,0.6682460812449369,0.8062841631132467,0.07831460701538939,0.8768359513475595,0.8448747023343768,0.9162416150574744,0.8716300185591713,0.8317874763945554,0.9082711928761444,0.8626431842230512,0.9094109938136922,0.3813965434890324,0.8203182894207948,0.9093860966809626,0.8767368126776445,0.8853645036363439,0.9136797910816088,0.9175337821640855,0.40308420527116096,0.8886529923805333,0.9040544187900489,0.8730877856379201,0.865799250300559,0.8594948535954428,0.8893400438003862,0.9079774058877107,0.8878178490043462,0.9044483123485696,0.8438693960633622,0.8540739652423512,0.8378869064252266,0.7609673018104838,0.5288408584324572,0.9006829987668103,0.9073014478545876,0.7900146097817362,0.8955375015710648,0.918816207461143,0.05478151031448186,0.9134495734529974,0.847926120605725,0.8778571541190036,0.8887929872745903,0.8941737136209413,0.9190488800307046,0.8876753453497073,0.8928711902927021,0.8700847327787146,0.8977359978289856,0.8363022117040381,0.9034788251595698,0.8866667411191523,0.8969979250113742,0.8839888464154003,0.8924065022179771,0.9070713132856699,0.8657132013518083,0.8585373769648355,0.8547505592740928,0.9088473245362647,0.9007310619890199,0.8799670194436275,0.5298071970323535,0.8946684574728104,0.911668391351906,0.9061967065589251,0.8923833680532286,0.8866052343647122,0.8580268970390967,0.9037768764104257,0.8545221821931801,0.908436212487508,0.8970142698286764,0.8226586428975239,0.9031112010157253,0.9062439590934628,0.9188680461112482,0.9032013987487736,0.8552851654682004,0.8732373023354606,0.8395617733982219,0.9064060677100145,0.9076198850671857,0.9126806126378963,0.9198679216185126,0.9108842034931642,0.3917402470626066,0.020333007077385723,0.9171314226457769,0.8844763596426547,0.8692521988245081,0.8887176422706238],\"type\":\"scatter\",\"xaxis\":\"x2\",\"yaxis\":\"y2\"},{\"marker\":{\"color\":[0,1,2,3,4,5,6,7,8,9,10,11,12,13,14,15,16,17,18,19,20,21,22,23,24,25,26,27,28,29,30,31,32,33,34,35,36,37,38,39,40,41,42,43,44,45,46,47,48,49,50,51,52,53,54,55,56,57,58,59,60,61,62,63,64,65,66,67,68,69,70,71,72,73,74,75,76,77,78,79,80,81,82,83,84,85,86,87,88,89,90,91,92,93,94,95,96,97,98,99],\"colorbar\":{\"title\":{\"text\":\"#Trials\"},\"x\":1.0,\"xpad\":40},\"colorscale\":[[0.0,\"rgb(247,251,255)\"],[0.125,\"rgb(222,235,247)\"],[0.25,\"rgb(198,219,239)\"],[0.375,\"rgb(158,202,225)\"],[0.5,\"rgb(107,174,214)\"],[0.625,\"rgb(66,146,198)\"],[0.75,\"rgb(33,113,181)\"],[0.875,\"rgb(8,81,156)\"],[1.0,\"rgb(8,48,107)\"]],\"line\":{\"color\":\"Grey\",\"width\":0.5},\"showscale\":false},\"mode\":\"markers\",\"showlegend\":false,\"x\":[0.03126128881300504,0.054614532093053725,0.0002938863189566628,0.00909691652309771,1.2291469357931032e-05,0.0013725726548586053,0.42838662863633997,0.21298329065172508,0.001568841490821799,0.013945339085963033,6.40635539648687e-05,0.012797739031914415,0.014397369292111389,0.06986199424033243,0.08458823293830062,0.623172833391595,0.07076500800766033,0.0035967133050096097,0.04557907247218863,0.00042812177158285555,0.9840670551097953,0.04578929790663431,0.16957187433455917,0.025415369412229608,0.18639620385156386,0.17699506671838733,0.003755723616230364,0.25650265090037166,0.10733047340002919,0.03166457005750742,0.46794862740921267,0.13735202433519245,0.3042763737100084,0.09537199230390643,0.02352110082850601,0.053722716256455,0.007133358356194754,0.8997272218363755,0.22695341050943152,0.006598823990994747,0.0011672813600605513,0.042836427649797025,0.14281161761683975,0.3334510493019562,0.020613052199592294,0.06179324139187105,5.151526732107472e-05,0.0822037737730122,0.4949852921579292,0.18462732998391507,0.011378620622181137,0.07134297670288327,0.06872719212364878,0.03479909850286877,0.019914045860080748,0.1289808393140914,0.06641149720125734,0.6844256739257775,0.20888777442964382,0.01533921260129585,0.35519638853586993,0.09510629097986223,0.06597146663864072,0.03439637744707897,0.09002747018400573,0.05117109317284946,0.15818576438412288,0.10990755934866334,0.24709458626888178,0.005358743032581761,0.0019953695095507084,0.04499492893180076,0.028927114802019576,0.030578951123046323,0.07896472989767933,0.009433692165052715,0.015831472500676253,0.05581360401635142,0.026901923670562655,0.14031827193042487,0.4064386361135889,0.041056845785982427,0.10484287609882198,0.021186232151301564,0.05607474714308115,0.18859861118098517,0.28426658804099836,0.06082618084356156,0.123809155824741,0.080765317118481,0.036678055451939896,0.04945988459879228,0.05146920834345779,0.0543173216920168,0.0006112109029210369,2.2264770050817168e-05,0.16962762942779927,0.1796067708994474,0.5675298061843379,0.24612600568158474],\"y\":[0.9145966756568817,0.8779987339866764,0.2362461789397553,0.893401458325368,-0.008213681940496542,0.5275420718041505,0.8029895451161637,0.8641591267243396,0.6682460812449369,0.8062841631132467,0.07831460701538939,0.8768359513475595,0.8448747023343768,0.9162416150574744,0.8716300185591713,0.8317874763945554,0.9082711928761444,0.8626431842230512,0.9094109938136922,0.3813965434890324,0.8203182894207948,0.9093860966809626,0.8767368126776445,0.8853645036363439,0.9136797910816088,0.9175337821640855,0.40308420527116096,0.8886529923805333,0.9040544187900489,0.8730877856379201,0.865799250300559,0.8594948535954428,0.8893400438003862,0.9079774058877107,0.8878178490043462,0.9044483123485696,0.8438693960633622,0.8540739652423512,0.8378869064252266,0.7609673018104838,0.5288408584324572,0.9006829987668103,0.9073014478545876,0.7900146097817362,0.8955375015710648,0.918816207461143,0.05478151031448186,0.9134495734529974,0.847926120605725,0.8778571541190036,0.8887929872745903,0.8941737136209413,0.9190488800307046,0.8876753453497073,0.8928711902927021,0.8700847327787146,0.8977359978289856,0.8363022117040381,0.9034788251595698,0.8866667411191523,0.8969979250113742,0.8839888464154003,0.8924065022179771,0.9070713132856699,0.8657132013518083,0.8585373769648355,0.8547505592740928,0.9088473245362647,0.9007310619890199,0.8799670194436275,0.5298071970323535,0.8946684574728104,0.911668391351906,0.9061967065589251,0.8923833680532286,0.8866052343647122,0.8580268970390967,0.9037768764104257,0.8545221821931801,0.908436212487508,0.8970142698286764,0.8226586428975239,0.9031112010157253,0.9062439590934628,0.9188680461112482,0.9032013987487736,0.8552851654682004,0.8732373023354606,0.8395617733982219,0.9064060677100145,0.9076198850671857,0.9126806126378963,0.9198679216185126,0.9108842034931642,0.3917402470626066,0.020333007077385723,0.9171314226457769,0.8844763596426547,0.8692521988245081,0.8887176422706238],\"type\":\"scatter\",\"xaxis\":\"x3\",\"yaxis\":\"y3\"}],                        {\"template\":{\"data\":{\"bar\":[{\"error_x\":{\"color\":\"#2a3f5f\"},\"error_y\":{\"color\":\"#2a3f5f\"},\"marker\":{\"line\":{\"color\":\"#E5ECF6\",\"width\":0.5},\"pattern\":{\"fillmode\":\"overlay\",\"size\":10,\"solidity\":0.2}},\"type\":\"bar\"}],\"barpolar\":[{\"marker\":{\"line\":{\"color\":\"#E5ECF6\",\"width\":0.5},\"pattern\":{\"fillmode\":\"overlay\",\"size\":10,\"solidity\":0.2}},\"type\":\"barpolar\"}],\"carpet\":[{\"aaxis\":{\"endlinecolor\":\"#2a3f5f\",\"gridcolor\":\"white\",\"linecolor\":\"white\",\"minorgridcolor\":\"white\",\"startlinecolor\":\"#2a3f5f\"},\"baxis\":{\"endlinecolor\":\"#2a3f5f\",\"gridcolor\":\"white\",\"linecolor\":\"white\",\"minorgridcolor\":\"white\",\"startlinecolor\":\"#2a3f5f\"},\"type\":\"carpet\"}],\"choropleth\":[{\"colorbar\":{\"outlinewidth\":0,\"ticks\":\"\"},\"type\":\"choropleth\"}],\"contour\":[{\"colorbar\":{\"outlinewidth\":0,\"ticks\":\"\"},\"colorscale\":[[0.0,\"#0d0887\"],[0.1111111111111111,\"#46039f\"],[0.2222222222222222,\"#7201a8\"],[0.3333333333333333,\"#9c179e\"],[0.4444444444444444,\"#bd3786\"],[0.5555555555555556,\"#d8576b\"],[0.6666666666666666,\"#ed7953\"],[0.7777777777777778,\"#fb9f3a\"],[0.8888888888888888,\"#fdca26\"],[1.0,\"#f0f921\"]],\"type\":\"contour\"}],\"contourcarpet\":[{\"colorbar\":{\"outlinewidth\":0,\"ticks\":\"\"},\"type\":\"contourcarpet\"}],\"heatmap\":[{\"colorbar\":{\"outlinewidth\":0,\"ticks\":\"\"},\"colorscale\":[[0.0,\"#0d0887\"],[0.1111111111111111,\"#46039f\"],[0.2222222222222222,\"#7201a8\"],[0.3333333333333333,\"#9c179e\"],[0.4444444444444444,\"#bd3786\"],[0.5555555555555556,\"#d8576b\"],[0.6666666666666666,\"#ed7953\"],[0.7777777777777778,\"#fb9f3a\"],[0.8888888888888888,\"#fdca26\"],[1.0,\"#f0f921\"]],\"type\":\"heatmap\"}],\"heatmapgl\":[{\"colorbar\":{\"outlinewidth\":0,\"ticks\":\"\"},\"colorscale\":[[0.0,\"#0d0887\"],[0.1111111111111111,\"#46039f\"],[0.2222222222222222,\"#7201a8\"],[0.3333333333333333,\"#9c179e\"],[0.4444444444444444,\"#bd3786\"],[0.5555555555555556,\"#d8576b\"],[0.6666666666666666,\"#ed7953\"],[0.7777777777777778,\"#fb9f3a\"],[0.8888888888888888,\"#fdca26\"],[1.0,\"#f0f921\"]],\"type\":\"heatmapgl\"}],\"histogram\":[{\"marker\":{\"pattern\":{\"fillmode\":\"overlay\",\"size\":10,\"solidity\":0.2}},\"type\":\"histogram\"}],\"histogram2d\":[{\"colorbar\":{\"outlinewidth\":0,\"ticks\":\"\"},\"colorscale\":[[0.0,\"#0d0887\"],[0.1111111111111111,\"#46039f\"],[0.2222222222222222,\"#7201a8\"],[0.3333333333333333,\"#9c179e\"],[0.4444444444444444,\"#bd3786\"],[0.5555555555555556,\"#d8576b\"],[0.6666666666666666,\"#ed7953\"],[0.7777777777777778,\"#fb9f3a\"],[0.8888888888888888,\"#fdca26\"],[1.0,\"#f0f921\"]],\"type\":\"histogram2d\"}],\"histogram2dcontour\":[{\"colorbar\":{\"outlinewidth\":0,\"ticks\":\"\"},\"colorscale\":[[0.0,\"#0d0887\"],[0.1111111111111111,\"#46039f\"],[0.2222222222222222,\"#7201a8\"],[0.3333333333333333,\"#9c179e\"],[0.4444444444444444,\"#bd3786\"],[0.5555555555555556,\"#d8576b\"],[0.6666666666666666,\"#ed7953\"],[0.7777777777777778,\"#fb9f3a\"],[0.8888888888888888,\"#fdca26\"],[1.0,\"#f0f921\"]],\"type\":\"histogram2dcontour\"}],\"mesh3d\":[{\"colorbar\":{\"outlinewidth\":0,\"ticks\":\"\"},\"type\":\"mesh3d\"}],\"parcoords\":[{\"line\":{\"colorbar\":{\"outlinewidth\":0,\"ticks\":\"\"}},\"type\":\"parcoords\"}],\"pie\":[{\"automargin\":true,\"type\":\"pie\"}],\"scatter\":[{\"marker\":{\"colorbar\":{\"outlinewidth\":0,\"ticks\":\"\"}},\"type\":\"scatter\"}],\"scatter3d\":[{\"line\":{\"colorbar\":{\"outlinewidth\":0,\"ticks\":\"\"}},\"marker\":{\"colorbar\":{\"outlinewidth\":0,\"ticks\":\"\"}},\"type\":\"scatter3d\"}],\"scattercarpet\":[{\"marker\":{\"colorbar\":{\"outlinewidth\":0,\"ticks\":\"\"}},\"type\":\"scattercarpet\"}],\"scattergeo\":[{\"marker\":{\"colorbar\":{\"outlinewidth\":0,\"ticks\":\"\"}},\"type\":\"scattergeo\"}],\"scattergl\":[{\"marker\":{\"colorbar\":{\"outlinewidth\":0,\"ticks\":\"\"}},\"type\":\"scattergl\"}],\"scattermapbox\":[{\"marker\":{\"colorbar\":{\"outlinewidth\":0,\"ticks\":\"\"}},\"type\":\"scattermapbox\"}],\"scatterpolar\":[{\"marker\":{\"colorbar\":{\"outlinewidth\":0,\"ticks\":\"\"}},\"type\":\"scatterpolar\"}],\"scatterpolargl\":[{\"marker\":{\"colorbar\":{\"outlinewidth\":0,\"ticks\":\"\"}},\"type\":\"scatterpolargl\"}],\"scatterternary\":[{\"marker\":{\"colorbar\":{\"outlinewidth\":0,\"ticks\":\"\"}},\"type\":\"scatterternary\"}],\"surface\":[{\"colorbar\":{\"outlinewidth\":0,\"ticks\":\"\"},\"colorscale\":[[0.0,\"#0d0887\"],[0.1111111111111111,\"#46039f\"],[0.2222222222222222,\"#7201a8\"],[0.3333333333333333,\"#9c179e\"],[0.4444444444444444,\"#bd3786\"],[0.5555555555555556,\"#d8576b\"],[0.6666666666666666,\"#ed7953\"],[0.7777777777777778,\"#fb9f3a\"],[0.8888888888888888,\"#fdca26\"],[1.0,\"#f0f921\"]],\"type\":\"surface\"}],\"table\":[{\"cells\":{\"fill\":{\"color\":\"#EBF0F8\"},\"line\":{\"color\":\"white\"}},\"header\":{\"fill\":{\"color\":\"#C8D4E3\"},\"line\":{\"color\":\"white\"}},\"type\":\"table\"}]},\"layout\":{\"annotationdefaults\":{\"arrowcolor\":\"#2a3f5f\",\"arrowhead\":0,\"arrowwidth\":1},\"autotypenumbers\":\"strict\",\"coloraxis\":{\"colorbar\":{\"outlinewidth\":0,\"ticks\":\"\"}},\"colorscale\":{\"diverging\":[[0,\"#8e0152\"],[0.1,\"#c51b7d\"],[0.2,\"#de77ae\"],[0.3,\"#f1b6da\"],[0.4,\"#fde0ef\"],[0.5,\"#f7f7f7\"],[0.6,\"#e6f5d0\"],[0.7,\"#b8e186\"],[0.8,\"#7fbc41\"],[0.9,\"#4d9221\"],[1,\"#276419\"]],\"sequential\":[[0.0,\"#0d0887\"],[0.1111111111111111,\"#46039f\"],[0.2222222222222222,\"#7201a8\"],[0.3333333333333333,\"#9c179e\"],[0.4444444444444444,\"#bd3786\"],[0.5555555555555556,\"#d8576b\"],[0.6666666666666666,\"#ed7953\"],[0.7777777777777778,\"#fb9f3a\"],[0.8888888888888888,\"#fdca26\"],[1.0,\"#f0f921\"]],\"sequentialminus\":[[0.0,\"#0d0887\"],[0.1111111111111111,\"#46039f\"],[0.2222222222222222,\"#7201a8\"],[0.3333333333333333,\"#9c179e\"],[0.4444444444444444,\"#bd3786\"],[0.5555555555555556,\"#d8576b\"],[0.6666666666666666,\"#ed7953\"],[0.7777777777777778,\"#fb9f3a\"],[0.8888888888888888,\"#fdca26\"],[1.0,\"#f0f921\"]]},\"colorway\":[\"#636efa\",\"#EF553B\",\"#00cc96\",\"#ab63fa\",\"#FFA15A\",\"#19d3f3\",\"#FF6692\",\"#B6E880\",\"#FF97FF\",\"#FECB52\"],\"font\":{\"color\":\"#2a3f5f\"},\"geo\":{\"bgcolor\":\"white\",\"lakecolor\":\"white\",\"landcolor\":\"#E5ECF6\",\"showlakes\":true,\"showland\":true,\"subunitcolor\":\"white\"},\"hoverlabel\":{\"align\":\"left\"},\"hovermode\":\"closest\",\"mapbox\":{\"style\":\"light\"},\"paper_bgcolor\":\"white\",\"plot_bgcolor\":\"#E5ECF6\",\"polar\":{\"angularaxis\":{\"gridcolor\":\"white\",\"linecolor\":\"white\",\"ticks\":\"\"},\"bgcolor\":\"#E5ECF6\",\"radialaxis\":{\"gridcolor\":\"white\",\"linecolor\":\"white\",\"ticks\":\"\"}},\"scene\":{\"xaxis\":{\"backgroundcolor\":\"#E5ECF6\",\"gridcolor\":\"white\",\"gridwidth\":2,\"linecolor\":\"white\",\"showbackground\":true,\"ticks\":\"\",\"zerolinecolor\":\"white\"},\"yaxis\":{\"backgroundcolor\":\"#E5ECF6\",\"gridcolor\":\"white\",\"gridwidth\":2,\"linecolor\":\"white\",\"showbackground\":true,\"ticks\":\"\",\"zerolinecolor\":\"white\"},\"zaxis\":{\"backgroundcolor\":\"#E5ECF6\",\"gridcolor\":\"white\",\"gridwidth\":2,\"linecolor\":\"white\",\"showbackground\":true,\"ticks\":\"\",\"zerolinecolor\":\"white\"}},\"shapedefaults\":{\"line\":{\"color\":\"#2a3f5f\"}},\"ternary\":{\"aaxis\":{\"gridcolor\":\"white\",\"linecolor\":\"white\",\"ticks\":\"\"},\"baxis\":{\"gridcolor\":\"white\",\"linecolor\":\"white\",\"ticks\":\"\"},\"bgcolor\":\"#E5ECF6\",\"caxis\":{\"gridcolor\":\"white\",\"linecolor\":\"white\",\"ticks\":\"\"}},\"title\":{\"x\":0.05},\"xaxis\":{\"automargin\":true,\"gridcolor\":\"white\",\"linecolor\":\"white\",\"ticks\":\"\",\"title\":{\"standoff\":15},\"zerolinecolor\":\"white\",\"zerolinewidth\":2},\"yaxis\":{\"automargin\":true,\"gridcolor\":\"white\",\"linecolor\":\"white\",\"ticks\":\"\",\"title\":{\"standoff\":15},\"zerolinecolor\":\"white\",\"zerolinewidth\":2}}},\"xaxis\":{\"anchor\":\"y\",\"domain\":[0.0,0.2888888888888889],\"title\":{\"text\":\"bootstrap_type\"}},\"yaxis\":{\"anchor\":\"x\",\"domain\":[0.0,1.0],\"title\":{\"text\":\"Objective Value\"}},\"xaxis2\":{\"anchor\":\"y2\",\"domain\":[0.35555555555555557,0.6444444444444445],\"title\":{\"text\":\"depth\"}},\"yaxis2\":{\"anchor\":\"x2\",\"domain\":[0.0,1.0],\"matches\":\"y\",\"showticklabels\":false},\"xaxis3\":{\"anchor\":\"y3\",\"domain\":[0.7111111111111111,1.0],\"title\":{\"text\":\"learning_rate\"},\"type\":\"log\"},\"yaxis3\":{\"anchor\":\"x3\",\"domain\":[0.0,1.0],\"matches\":\"y\",\"showticklabels\":false},\"title\":{\"text\":\"Slice Plot\"}},                        {\"responsive\": true}                    ).then(function(){\n",
       "                            \n",
       "var gd = document.getElementById('8c1ab934-52cd-4764-a1d7-15df9016b6df');\n",
       "var x = new MutationObserver(function (mutations, observer) {{\n",
       "        var display = window.getComputedStyle(gd).display;\n",
       "        if (!display || display === 'none') {{\n",
       "            console.log([gd, 'removed!']);\n",
       "            Plotly.purge(gd);\n",
       "            observer.disconnect();\n",
       "        }}\n",
       "}});\n",
       "\n",
       "// Listen for the removal of the full notebook cells\n",
       "var notebookContainer = gd.closest('#notebook-container');\n",
       "if (notebookContainer) {{\n",
       "    x.observe(notebookContainer, {childList: true});\n",
       "}}\n",
       "\n",
       "// Listen for the clearing of the current output cell\n",
       "var outputEl = gd.closest('.output');\n",
       "if (outputEl) {{\n",
       "    x.observe(outputEl, {childList: true});\n",
       "}}\n",
       "\n",
       "                        })                };                });            </script>        </div>"
      ]
     },
     "metadata": {},
     "output_type": "display_data"
    }
   ],
   "source": [
    "optuna.visualization.plot_slice(study, params=['depth', 'learning_rate', 'bootstrap_type'])"
   ]
  },
  {
   "cell_type": "code",
   "execution_count": null,
   "id": "628cb725",
   "metadata": {},
   "outputs": [],
   "source": []
  },
  {
   "cell_type": "code",
   "execution_count": 38,
   "id": "7f41e5ad",
   "metadata": {},
   "outputs": [],
   "source": [
    "CB = CatBoostRegressor(**study.best_params, verbose=0)"
   ]
  },
  {
   "cell_type": "code",
   "execution_count": 39,
   "id": "632f98a2",
   "metadata": {},
   "outputs": [],
   "source": [
    "scoring = {'r2': 'r2',\n",
    "           'neg_mae': 'neg_mean_absolute_error'\n",
    "          }"
   ]
  },
  {
   "cell_type": "code",
   "execution_count": 40,
   "id": "e0f4e187",
   "metadata": {},
   "outputs": [],
   "source": [
    "# Use cross-validation to evaluate model performance\n",
    "\n",
    "def evaluate_model(model, X, y):\n",
    "    \n",
    "    # define the evaluation procedure\n",
    "    cv = RepeatedKFold(n_splits=5, n_repeats=3, random_state=1)\n",
    "    \n",
    "    # evaluate the model and collect the results\n",
    "    scores = cross_validate(model, X, y, scoring=scoring, \n",
    "                                  cv=cv, n_jobs=-1) \n",
    "    \n",
    "    df = pd.DataFrame(scores)\n",
    "    \n",
    "    return df"
   ]
  },
  {
   "cell_type": "code",
   "execution_count": 42,
   "id": "68ab5e2e",
   "metadata": {},
   "outputs": [
    {
     "data": {
      "text/html": [
       "<div>\n",
       "<style scoped>\n",
       "    .dataframe tbody tr th:only-of-type {\n",
       "        vertical-align: middle;\n",
       "    }\n",
       "\n",
       "    .dataframe tbody tr th {\n",
       "        vertical-align: top;\n",
       "    }\n",
       "\n",
       "    .dataframe thead th {\n",
       "        text-align: right;\n",
       "    }\n",
       "</style>\n",
       "<table border=\"1\" class=\"dataframe\">\n",
       "  <thead>\n",
       "    <tr style=\"text-align: right;\">\n",
       "      <th></th>\n",
       "      <th>fit_time</th>\n",
       "      <th>score_time</th>\n",
       "      <th>test_r2</th>\n",
       "      <th>test_neg_mae</th>\n",
       "    </tr>\n",
       "  </thead>\n",
       "  <tbody>\n",
       "    <tr>\n",
       "      <th>count</th>\n",
       "      <td>15.000000</td>\n",
       "      <td>15.000000</td>\n",
       "      <td>15.000000</td>\n",
       "      <td>15.000000</td>\n",
       "    </tr>\n",
       "    <tr>\n",
       "      <th>mean</th>\n",
       "      <td>1.473067</td>\n",
       "      <td>0.005859</td>\n",
       "      <td>0.917918</td>\n",
       "      <td>-13099.902609</td>\n",
       "    </tr>\n",
       "    <tr>\n",
       "      <th>std</th>\n",
       "      <td>0.083790</td>\n",
       "      <td>0.002311</td>\n",
       "      <td>0.034540</td>\n",
       "      <td>876.125876</td>\n",
       "    </tr>\n",
       "    <tr>\n",
       "      <th>min</th>\n",
       "      <td>1.335535</td>\n",
       "      <td>0.003380</td>\n",
       "      <td>0.823670</td>\n",
       "      <td>-14958.890844</td>\n",
       "    </tr>\n",
       "    <tr>\n",
       "      <th>25%</th>\n",
       "      <td>1.429531</td>\n",
       "      <td>0.004161</td>\n",
       "      <td>0.920659</td>\n",
       "      <td>-13551.430586</td>\n",
       "    </tr>\n",
       "    <tr>\n",
       "      <th>50%</th>\n",
       "      <td>1.450173</td>\n",
       "      <td>0.005084</td>\n",
       "      <td>0.931138</td>\n",
       "      <td>-13253.874796</td>\n",
       "    </tr>\n",
       "    <tr>\n",
       "      <th>75%</th>\n",
       "      <td>1.497899</td>\n",
       "      <td>0.007006</td>\n",
       "      <td>0.935925</td>\n",
       "      <td>-12611.357974</td>\n",
       "    </tr>\n",
       "    <tr>\n",
       "      <th>max</th>\n",
       "      <td>1.647054</td>\n",
       "      <td>0.012165</td>\n",
       "      <td>0.947273</td>\n",
       "      <td>-11604.200231</td>\n",
       "    </tr>\n",
       "  </tbody>\n",
       "</table>\n",
       "</div>"
      ],
      "text/plain": [
       "        fit_time  score_time    test_r2  test_neg_mae\n",
       "count  15.000000   15.000000  15.000000     15.000000\n",
       "mean    1.473067    0.005859   0.917918 -13099.902609\n",
       "std     0.083790    0.002311   0.034540    876.125876\n",
       "min     1.335535    0.003380   0.823670 -14958.890844\n",
       "25%     1.429531    0.004161   0.920659 -13551.430586\n",
       "50%     1.450173    0.005084   0.931138 -13253.874796\n",
       "75%     1.497899    0.007006   0.935925 -12611.357974\n",
       "max     1.647054    0.012165   0.947273 -11604.200231"
      ]
     },
     "execution_count": 42,
     "metadata": {},
     "output_type": "execute_result"
    }
   ],
   "source": [
    "evaluate_model(CB, X, y).describe()"
   ]
  },
  {
   "cell_type": "code",
   "execution_count": null,
   "id": "19098f32",
   "metadata": {},
   "outputs": [],
   "source": []
  },
  {
   "cell_type": "code",
   "execution_count": 45,
   "id": "001f18d8",
   "metadata": {},
   "outputs": [
    {
     "data": {
      "text/plain": [
       "0.928840546114355"
      ]
     },
     "execution_count": 45,
     "metadata": {},
     "output_type": "execute_result"
    }
   ],
   "source": [
    "X_train, X_test, Y_train, Y_test = train_test_split(X,y,test_size=0.25)\n",
    "    \n",
    "CB.fit(X_train, Y_train, verbose=False)\n",
    "y_pred = CB.predict(X_test)\n",
    "\n",
    "CB_Score = r2_score(Y_test, y_pred)\n",
    "CB_Score\n",
    "    "
   ]
  },
  {
   "cell_type": "code",
   "execution_count": 46,
   "id": "820b348e",
   "metadata": {},
   "outputs": [
    {
     "data": {
      "image/png": "[encoded data removed]",
      "text/plain": [
       "<Figure size 864x1800 with 1 Axes>"
      ]
     },
     "metadata": {
      "needs_background": "light"
     },
     "output_type": "display_data"
    }
   ],
   "source": [
    "feature_importance = CB.feature_importances_\n",
    "sorted_idx = np.argsort(feature_importance)\n",
    "\n",
    "fig = plt.figure(figsize=(12, 25))\n",
    "plt.barh(range(len(sorted_idx)), feature_importance[sorted_idx], align='center')\n",
    "plt.yticks(range(len(sorted_idx)), np.array(X_test.columns)[sorted_idx])\n",
    "plt.title('Feature Importance');\n"
   ]
  },
  {
   "cell_type": "code",
   "execution_count": null,
   "id": "052a1458",
   "metadata": {},
   "outputs": [],
   "source": []
  }
 ],
 "metadata": {
  "hide_input": false,
  "kernelspec": {
   "display_name": "Python 3 (ipykernel)",
   "language": "python",
   "name": "python3"
  },
  "language_info": {
   "codemirror_mode": {
    "name": "ipython",
    "version": 3
   },
   "file_extension": ".py",
   "mimetype": "text/x-python",
   "name": "python",
   "nbconvert_exporter": "python",
   "pygments_lexer": "ipython3",
   "version": "3.8.8"
  },
  "varInspector": {
   "cols": {
    "lenName": 16,
    "lenType": 16,
    "lenVar": 40
   },
   "kernels_config": {
    "python": {
     "delete_cmd_postfix": "",
     "delete_cmd_prefix": "del ",
     "library": "var_list.py",
     "varRefreshCmd": "print(var_dic_list())"
    },
    "r": {
     "delete_cmd_postfix": ") ",
     "delete_cmd_prefix": "rm(",
     "library": "var_list.r",
     "varRefreshCmd": "cat(var_dic_list()) "
    }
   },
   "types_to_exclude": [
    "module",
    "function",
    "builtin_function_or_method",
    "instance",
    "_Feature"
   ],
   "window_display": false
  }
 },
 "nbformat": 4,
 "nbformat_minor": 5
}
