{
 "cells": [
  {
   "cell_type": "code",
   "execution_count": 1,
   "id": "14f2fef0",
   "metadata": {},
   "outputs": [],
   "source": [
    "import pandas as pd\n",
    "import numpy as np\n",
    "import matplotlib.pyplot as plt\n",
    "\n",
    "import seaborn as sns\n",
    "sns.set()\n",
    "\n",
    "import scipy as sp\n",
    "from sklearn.linear_model import LinearRegression\n",
    "\n",
    "pd.set_option(\"display.max_columns\", 100)\n",
    "\n",
    "import statsmodels.api as sm\n",
    "import statsmodels.stats.api as sms\n",
    "from scipy import stats"
   ]
  },
  {
   "cell_type": "code",
   "execution_count": 2,
   "id": "e88b04b8",
   "metadata": {},
   "outputs": [
    {
     "data": {
      "text/plain": [
       "(2580, 82)"
      ]
     },
     "execution_count": 2,
     "metadata": {},
     "output_type": "execute_result"
    }
   ],
   "source": [
    "df = pd.read_csv('Ames_HousePrice.csv')\n",
    "df.shape"
   ]
  },
  {
   "cell_type": "code",
   "execution_count": null,
   "id": "14f08a7b",
   "metadata": {},
   "outputs": [],
   "source": []
  },
  {
   "cell_type": "code",
   "execution_count": 3,
   "id": "4f1bcc09",
   "metadata": {},
   "outputs": [
    {
     "data": {
      "text/plain": [
       "(2580, 43)"
      ]
     },
     "execution_count": 3,
     "metadata": {},
     "output_type": "execute_result"
    }
   ],
   "source": [
    "c = df.select_dtypes('object')\n",
    "c.shape"
   ]
  },
  {
   "cell_type": "code",
   "execution_count": 4,
   "id": "b9077997",
   "metadata": {},
   "outputs": [
    {
     "data": {
      "text/plain": [
       "0"
      ]
     },
     "execution_count": 4,
     "metadata": {},
     "output_type": "execute_result"
    }
   ],
   "source": [
    "c = c.fillna(\"None\")\n",
    "c.isnull().sum().sum()"
   ]
  },
  {
   "cell_type": "code",
   "execution_count": 6,
   "id": "6b2e655e",
   "metadata": {},
   "outputs": [
    {
     "data": {
      "text/plain": [
       "(2580, 232)"
      ]
     },
     "execution_count": 6,
     "metadata": {},
     "output_type": "execute_result"
    }
   ],
   "source": [
    "c = pd.get_dummies(c, drop_first=True)\n",
    "c.shape"
   ]
  },
  {
   "cell_type": "code",
   "execution_count": null,
   "id": "382d3dd4",
   "metadata": {},
   "outputs": [],
   "source": []
  },
  {
   "cell_type": "code",
   "execution_count": 7,
   "id": "7fca3222",
   "metadata": {},
   "outputs": [
    {
     "data": {
      "text/plain": [
       "(2580, 39)"
      ]
     },
     "execution_count": 7,
     "metadata": {},
     "output_type": "execute_result"
    }
   ],
   "source": [
    "n = df.select_dtypes('number')\n",
    "n.shape"
   ]
  },
  {
   "cell_type": "code",
   "execution_count": 8,
   "id": "557b9bce",
   "metadata": {},
   "outputs": [
    {
     "data": {
      "text/plain": [
       "615"
      ]
     },
     "execution_count": 8,
     "metadata": {},
     "output_type": "execute_result"
    }
   ],
   "source": [
    "n.isnull().sum().sum()"
   ]
  },
  {
   "cell_type": "code",
   "execution_count": null,
   "id": "4fec3418",
   "metadata": {},
   "outputs": [],
   "source": []
  },
  {
   "cell_type": "code",
   "execution_count": 9,
   "id": "4257664d",
   "metadata": {},
   "outputs": [
    {
     "data": {
      "text/plain": [
       "(2580, 271)"
      ]
     },
     "execution_count": 9,
     "metadata": {},
     "output_type": "execute_result"
    }
   ],
   "source": [
    "full = pd.concat([c, n], axis=1)\n",
    "full.shape"
   ]
  },
  {
   "cell_type": "code",
   "execution_count": 11,
   "id": "a6e981a1",
   "metadata": {},
   "outputs": [
    {
     "data": {
      "text/plain": [
       "(1988, 271)"
      ]
     },
     "execution_count": 11,
     "metadata": {},
     "output_type": "execute_result"
    }
   ],
   "source": [
    "full = full.dropna()\n",
    "full.shape"
   ]
  },
  {
   "cell_type": "code",
   "execution_count": 12,
   "id": "cbb37871",
   "metadata": {},
   "outputs": [
    {
     "data": {
      "text/plain": [
       "0"
      ]
     },
     "execution_count": 12,
     "metadata": {},
     "output_type": "execute_result"
    }
   ],
   "source": [
    "full.isnull().sum().sum()"
   ]
  },
  {
   "cell_type": "code",
   "execution_count": null,
   "id": "e1b0d4a1",
   "metadata": {},
   "outputs": [],
   "source": []
  },
  {
   "cell_type": "markdown",
   "id": "c74943ef",
   "metadata": {},
   "source": [
    "### MLR With SFS (n=5) ###"
   ]
  },
  {
   "cell_type": "code",
   "execution_count": 13,
   "id": "f56be6c1",
   "metadata": {},
   "outputs": [],
   "source": [
    "from sklearn.feature_selection import SequentialFeatureSelector"
   ]
  },
  {
   "cell_type": "code",
   "execution_count": 14,
   "id": "013788ef",
   "metadata": {},
   "outputs": [],
   "source": [
    "y=full.SalePrice\n",
    "X=full.drop('SalePrice', axis=1)"
   ]
  },
  {
   "cell_type": "code",
   "execution_count": 15,
   "id": "18339eb4",
   "metadata": {},
   "outputs": [
    {
     "data": {
      "text/plain": [
       "LinearRegression()"
      ]
     },
     "execution_count": 15,
     "metadata": {},
     "output_type": "execute_result"
    }
   ],
   "source": [
    "regressor = LinearRegression()\n",
    "regressor.fit(X,y)"
   ]
  },
  {
   "cell_type": "code",
   "execution_count": 16,
   "id": "b397417a",
   "metadata": {},
   "outputs": [
    {
     "data": {
      "text/plain": [
       "0.9421659842747901"
      ]
     },
     "execution_count": 16,
     "metadata": {},
     "output_type": "execute_result"
    }
   ],
   "source": [
    "regressor.score(X,y)"
   ]
  },
  {
   "cell_type": "code",
   "execution_count": 17,
   "id": "0e0c2546",
   "metadata": {},
   "outputs": [],
   "source": [
    "from sklearn.model_selection import train_test_split\n",
    "X_train, X_test, y_train, y_test = train_test_split(X,y,test_size=0.30)"
   ]
  },
  {
   "cell_type": "code",
   "execution_count": 18,
   "id": "7befb5d5",
   "metadata": {},
   "outputs": [
    {
     "name": "stdout",
     "output_type": "stream",
     "text": [
      "R^2 for train set: 0.944818\n",
      "--------------------------------------------------\n",
      "R^2 for test  set: 0.913814\n"
     ]
    }
   ],
   "source": [
    "ols = LinearRegression()\n",
    "ols.fit(X_train, y_train)\n",
    "print(\"R^2 for train set: %f\" %ols.score(X_train, y_train))\n",
    "\n",
    "print('-'*50)\n",
    "\n",
    "print(\"R^2 for test  set: %f\" %ols.score(X_test, y_test))"
   ]
  },
  {
   "cell_type": "code",
   "execution_count": null,
   "id": "33fb57a6",
   "metadata": {},
   "outputs": [],
   "source": []
  },
  {
   "cell_type": "code",
   "execution_count": 29,
   "id": "93e456e0",
   "metadata": {},
   "outputs": [],
   "source": [
    "sfs_foreward = SequentialFeatureSelector(\n",
    "    regressor, n_features_to_select=5, direction=\"forward\"\n",
    ").fit(X, y)"
   ]
  },
  {
   "cell_type": "code",
   "execution_count": 33,
   "id": "3e13bae8",
   "metadata": {},
   "outputs": [
    {
     "data": {
      "text/plain": [
       "Index(['GrLivArea', 'MSSubClass', 'OverallQual', 'BsmtFinSF1', 'GarageArea'], dtype='object')"
      ]
     },
     "execution_count": 33,
     "metadata": {},
     "output_type": "execute_result"
    }
   ],
   "source": [
    "selected = X.columns[sfs_foreward.get_support()]\n",
    "selected"
   ]
  },
  {
   "cell_type": "code",
   "execution_count": 38,
   "id": "0a05cf2f",
   "metadata": {},
   "outputs": [
    {
     "data": {
      "text/html": [
       "<div>\n",
       "<style scoped>\n",
       "    .dataframe tbody tr th:only-of-type {\n",
       "        vertical-align: middle;\n",
       "    }\n",
       "\n",
       "    .dataframe tbody tr th {\n",
       "        vertical-align: top;\n",
       "    }\n",
       "\n",
       "    .dataframe thead th {\n",
       "        text-align: right;\n",
       "    }\n",
       "</style>\n",
       "<table border=\"1\" class=\"dataframe\">\n",
       "  <thead>\n",
       "    <tr style=\"text-align: right;\">\n",
       "      <th></th>\n",
       "      <th>GrLivArea</th>\n",
       "      <th>MSSubClass</th>\n",
       "      <th>OverallQual</th>\n",
       "      <th>BsmtFinSF1</th>\n",
       "      <th>GarageArea</th>\n",
       "    </tr>\n",
       "  </thead>\n",
       "  <tbody>\n",
       "    <tr>\n",
       "      <th>1</th>\n",
       "      <td>1049</td>\n",
       "      <td>120</td>\n",
       "      <td>5</td>\n",
       "      <td>552.0</td>\n",
       "      <td>266.0</td>\n",
       "    </tr>\n",
       "    <tr>\n",
       "      <th>2</th>\n",
       "      <td>1001</td>\n",
       "      <td>30</td>\n",
       "      <td>5</td>\n",
       "      <td>737.0</td>\n",
       "      <td>216.0</td>\n",
       "    </tr>\n",
       "    <tr>\n",
       "      <th>3</th>\n",
       "      <td>1039</td>\n",
       "      <td>70</td>\n",
       "      <td>4</td>\n",
       "      <td>0.0</td>\n",
       "      <td>281.0</td>\n",
       "    </tr>\n",
       "    <tr>\n",
       "      <th>4</th>\n",
       "      <td>1665</td>\n",
       "      <td>60</td>\n",
       "      <td>8</td>\n",
       "      <td>643.0</td>\n",
       "      <td>528.0</td>\n",
       "    </tr>\n",
       "    <tr>\n",
       "      <th>5</th>\n",
       "      <td>1922</td>\n",
       "      <td>85</td>\n",
       "      <td>7</td>\n",
       "      <td>0.0</td>\n",
       "      <td>672.0</td>\n",
       "    </tr>\n",
       "    <tr>\n",
       "      <th>...</th>\n",
       "      <td>...</td>\n",
       "      <td>...</td>\n",
       "      <td>...</td>\n",
       "      <td>...</td>\n",
       "      <td>...</td>\n",
       "    </tr>\n",
       "    <tr>\n",
       "      <th>2572</th>\n",
       "      <td>1242</td>\n",
       "      <td>20</td>\n",
       "      <td>4</td>\n",
       "      <td>0.0</td>\n",
       "      <td>336.0</td>\n",
       "    </tr>\n",
       "    <tr>\n",
       "      <th>2573</th>\n",
       "      <td>816</td>\n",
       "      <td>30</td>\n",
       "      <td>6</td>\n",
       "      <td>574.0</td>\n",
       "      <td>240.0</td>\n",
       "    </tr>\n",
       "    <tr>\n",
       "      <th>2574</th>\n",
       "      <td>1724</td>\n",
       "      <td>60</td>\n",
       "      <td>7</td>\n",
       "      <td>0.0</td>\n",
       "      <td>616.0</td>\n",
       "    </tr>\n",
       "    <tr>\n",
       "      <th>2577</th>\n",
       "      <td>2002</td>\n",
       "      <td>90</td>\n",
       "      <td>5</td>\n",
       "      <td>284.0</td>\n",
       "      <td>871.0</td>\n",
       "    </tr>\n",
       "    <tr>\n",
       "      <th>2579</th>\n",
       "      <td>1911</td>\n",
       "      <td>60</td>\n",
       "      <td>8</td>\n",
       "      <td>380.0</td>\n",
       "      <td>471.0</td>\n",
       "    </tr>\n",
       "  </tbody>\n",
       "</table>\n",
       "<p>1988 rows × 5 columns</p>\n",
       "</div>"
      ],
      "text/plain": [
       "      GrLivArea  MSSubClass  OverallQual  BsmtFinSF1  GarageArea\n",
       "1          1049         120            5       552.0       266.0\n",
       "2          1001          30            5       737.0       216.0\n",
       "3          1039          70            4         0.0       281.0\n",
       "4          1665          60            8       643.0       528.0\n",
       "5          1922          85            7         0.0       672.0\n",
       "...         ...         ...          ...         ...         ...\n",
       "2572       1242          20            4         0.0       336.0\n",
       "2573        816          30            6       574.0       240.0\n",
       "2574       1724          60            7         0.0       616.0\n",
       "2577       2002          90            5       284.0       871.0\n",
       "2579       1911          60            8       380.0       471.0\n",
       "\n",
       "[1988 rows x 5 columns]"
      ]
     },
     "execution_count": 38,
     "metadata": {},
     "output_type": "execute_result"
    }
   ],
   "source": [
    "X = full[selected]\n",
    "X"
   ]
  },
  {
   "cell_type": "code",
   "execution_count": null,
   "id": "aff461c2",
   "metadata": {},
   "outputs": [],
   "source": []
  },
  {
   "cell_type": "code",
   "execution_count": 36,
   "id": "69d1bba5",
   "metadata": {},
   "outputs": [],
   "source": [
    "y=full.SalePrice\n",
    "X=full[selected]"
   ]
  },
  {
   "cell_type": "code",
   "execution_count": 39,
   "id": "2c88f02c",
   "metadata": {},
   "outputs": [
    {
     "data": {
      "text/plain": [
       "LinearRegression()"
      ]
     },
     "execution_count": 39,
     "metadata": {},
     "output_type": "execute_result"
    }
   ],
   "source": [
    "regressor2 = LinearRegression()\n",
    "regressor2.fit(X,y)"
   ]
  },
  {
   "cell_type": "code",
   "execution_count": 40,
   "id": "11493404",
   "metadata": {},
   "outputs": [
    {
     "data": {
      "text/plain": [
       "0.8350900851530029"
      ]
     },
     "execution_count": 40,
     "metadata": {},
     "output_type": "execute_result"
    }
   ],
   "source": [
    "regressor2.score(X,y)"
   ]
  },
  {
   "cell_type": "code",
   "execution_count": 41,
   "id": "99e5ae95",
   "metadata": {},
   "outputs": [],
   "source": [
    "from sklearn.model_selection import train_test_split\n",
    "X_train, X_test, y_train, y_test = train_test_split(X,y,test_size=0.30)"
   ]
  },
  {
   "cell_type": "code",
   "execution_count": 42,
   "id": "dd3442f1",
   "metadata": {},
   "outputs": [
    {
     "name": "stdout",
     "output_type": "stream",
     "text": [
      "R^2 for train set: 0.830411\n",
      "--------------------------------------------------\n",
      "R^2 for test  set: 0.843985\n"
     ]
    }
   ],
   "source": [
    "ols = LinearRegression()\n",
    "ols.fit(X_train, y_train)\n",
    "print(\"R^2 for train set: %f\" %ols.score(X_train, y_train))\n",
    "\n",
    "print('-'*50)\n",
    "\n",
    "print(\"R^2 for test  set: %f\" %ols.score(X_test, y_test))"
   ]
  },
  {
   "cell_type": "code",
   "execution_count": null,
   "id": "4729c1e6",
   "metadata": {},
   "outputs": [],
   "source": []
  },
  {
   "cell_type": "markdown",
   "id": "6bd89cab",
   "metadata": {},
   "source": [
    "### Stats for MLR SFS (n=5) ###"
   ]
  },
  {
   "cell_type": "code",
   "execution_count": 43,
   "id": "8a9cf751",
   "metadata": {},
   "outputs": [],
   "source": [
    "# Obtain and set x=input and y=output\n",
    "X0 = full[selected]\n",
    "y0 = full.SalePrice"
   ]
  },
  {
   "cell_type": "code",
   "execution_count": 44,
   "id": "4fe46883",
   "metadata": {},
   "outputs": [],
   "source": [
    "#Setup statsmodels.api, inputs (x, x_constant, and y)\n",
    "x_constant0 = sm.add_constant(X0)"
   ]
  },
  {
   "cell_type": "code",
   "execution_count": 45,
   "id": "bcba3550",
   "metadata": {
    "scrolled": true
   },
   "outputs": [
    {
     "data": {
      "text/html": [
       "<table class=\"simpletable\">\n",
       "<caption>OLS Regression Results</caption>\n",
       "<tr>\n",
       "  <th>Dep. Variable:</th>        <td>SalePrice</td>    <th>  R-squared:         </th> <td>   0.835</td> \n",
       "</tr>\n",
       "<tr>\n",
       "  <th>Model:</th>                   <td>OLS</td>       <th>  Adj. R-squared:    </th> <td>   0.835</td> \n",
       "</tr>\n",
       "<tr>\n",
       "  <th>Method:</th>             <td>Least Squares</td>  <th>  F-statistic:       </th> <td>   2007.</td> \n",
       "</tr>\n",
       "<tr>\n",
       "  <th>Date:</th>             <td>Mon, 18 Apr 2022</td> <th>  Prob (F-statistic):</th>  <td>  0.00</td>  \n",
       "</tr>\n",
       "<tr>\n",
       "  <th>Time:</th>                 <td>16:45:06</td>     <th>  Log-Likelihood:    </th> <td> -23427.</td> \n",
       "</tr>\n",
       "<tr>\n",
       "  <th>No. Observations:</th>      <td>  1988</td>      <th>  AIC:               </th> <td>4.687e+04</td>\n",
       "</tr>\n",
       "<tr>\n",
       "  <th>Df Residuals:</th>          <td>  1982</td>      <th>  BIC:               </th> <td>4.690e+04</td>\n",
       "</tr>\n",
       "<tr>\n",
       "  <th>Df Model:</th>              <td>     5</td>      <th>                     </th>     <td> </td>    \n",
       "</tr>\n",
       "<tr>\n",
       "  <th>Covariance Type:</th>      <td>nonrobust</td>    <th>                     </th>     <td> </td>    \n",
       "</tr>\n",
       "</table>\n",
       "<table class=\"simpletable\">\n",
       "<tr>\n",
       "       <td></td>          <th>coef</th>     <th>std err</th>      <th>t</th>      <th>P>|t|</th>  <th>[0.025</th>    <th>0.975]</th>  \n",
       "</tr>\n",
       "<tr>\n",
       "  <th>const</th>       <td>-1.007e+05</td> <td> 3364.817</td> <td>  -29.934</td> <td> 0.000</td> <td>-1.07e+05</td> <td>-9.41e+04</td>\n",
       "</tr>\n",
       "<tr>\n",
       "  <th>GrLivArea</th>   <td>   56.9266</td> <td>    1.889</td> <td>   30.132</td> <td> 0.000</td> <td>   53.222</td> <td>   60.632</td>\n",
       "</tr>\n",
       "<tr>\n",
       "  <th>MSSubClass</th>  <td> -208.4209</td> <td>   17.084</td> <td>  -12.200</td> <td> 0.000</td> <td> -241.926</td> <td> -174.916</td>\n",
       "</tr>\n",
       "<tr>\n",
       "  <th>OverallQual</th> <td> 2.596e+04</td> <td>  682.893</td> <td>   38.017</td> <td> 0.000</td> <td> 2.46e+04</td> <td> 2.73e+04</td>\n",
       "</tr>\n",
       "<tr>\n",
       "  <th>BsmtFinSF1</th>  <td>   40.5850</td> <td>    1.742</td> <td>   23.298</td> <td> 0.000</td> <td>   37.169</td> <td>   44.001</td>\n",
       "</tr>\n",
       "<tr>\n",
       "  <th>GarageArea</th>  <td>   65.5671</td> <td>    4.788</td> <td>   13.695</td> <td> 0.000</td> <td>   56.177</td> <td>   74.957</td>\n",
       "</tr>\n",
       "</table>\n",
       "<table class=\"simpletable\">\n",
       "<tr>\n",
       "  <th>Omnibus:</th>       <td>477.468</td> <th>  Durbin-Watson:     </th> <td>   2.020</td> \n",
       "</tr>\n",
       "<tr>\n",
       "  <th>Prob(Omnibus):</th> <td> 0.000</td>  <th>  Jarque-Bera (JB):  </th> <td>21395.198</td>\n",
       "</tr>\n",
       "<tr>\n",
       "  <th>Skew:</th>          <td> 0.263</td>  <th>  Prob(JB):          </th> <td>    0.00</td> \n",
       "</tr>\n",
       "<tr>\n",
       "  <th>Kurtosis:</th>      <td>19.063</td>  <th>  Cond. No.          </th> <td>8.10e+03</td> \n",
       "</tr>\n",
       "</table><br/><br/>Notes:<br/>[1] Standard Errors assume that the covariance matrix of the errors is correctly specified.<br/>[2] The condition number is large, 8.1e+03. This might indicate that there are<br/>strong multicollinearity or other numerical problems."
      ],
      "text/plain": [
       "<class 'statsmodels.iolib.summary.Summary'>\n",
       "\"\"\"\n",
       "                            OLS Regression Results                            \n",
       "==============================================================================\n",
       "Dep. Variable:              SalePrice   R-squared:                       0.835\n",
       "Model:                            OLS   Adj. R-squared:                  0.835\n",
       "Method:                 Least Squares   F-statistic:                     2007.\n",
       "Date:                Mon, 18 Apr 2022   Prob (F-statistic):               0.00\n",
       "Time:                        16:45:06   Log-Likelihood:                -23427.\n",
       "No. Observations:                1988   AIC:                         4.687e+04\n",
       "Df Residuals:                    1982   BIC:                         4.690e+04\n",
       "Df Model:                           5                                         \n",
       "Covariance Type:            nonrobust                                         \n",
       "===============================================================================\n",
       "                  coef    std err          t      P>|t|      [0.025      0.975]\n",
       "-------------------------------------------------------------------------------\n",
       "const       -1.007e+05   3364.817    -29.934      0.000   -1.07e+05   -9.41e+04\n",
       "GrLivArea      56.9266      1.889     30.132      0.000      53.222      60.632\n",
       "MSSubClass   -208.4209     17.084    -12.200      0.000    -241.926    -174.916\n",
       "OverallQual  2.596e+04    682.893     38.017      0.000    2.46e+04    2.73e+04\n",
       "BsmtFinSF1     40.5850      1.742     23.298      0.000      37.169      44.001\n",
       "GarageArea     65.5671      4.788     13.695      0.000      56.177      74.957\n",
       "==============================================================================\n",
       "Omnibus:                      477.468   Durbin-Watson:                   2.020\n",
       "Prob(Omnibus):                  0.000   Jarque-Bera (JB):            21395.198\n",
       "Skew:                           0.263   Prob(JB):                         0.00\n",
       "Kurtosis:                      19.063   Cond. No.                     8.10e+03\n",
       "==============================================================================\n",
       "\n",
       "Notes:\n",
       "[1] Standard Errors assume that the covariance matrix of the errors is correctly specified.\n",
       "[2] The condition number is large, 8.1e+03. This might indicate that there are\n",
       "strong multicollinearity or other numerical problems.\n",
       "\"\"\""
      ]
     },
     "execution_count": 45,
     "metadata": {},
     "output_type": "execute_result"
    }
   ],
   "source": [
    "#Run OLS with statsmodels\n",
    "lin_reg0 = sm.OLS(y0,x_constant0).fit()\n",
    "lin_reg0.summary()"
   ]
  },
  {
   "cell_type": "code",
   "execution_count": null,
   "id": "d35884ef",
   "metadata": {},
   "outputs": [],
   "source": []
  },
  {
   "cell_type": "code",
   "execution_count": null,
   "id": "399c4287",
   "metadata": {},
   "outputs": [],
   "source": []
  }
 ],
 "metadata": {
  "hide_input": false,
  "kernelspec": {
   "display_name": "Python 3 (ipykernel)",
   "language": "python",
   "name": "python3"
  },
  "language_info": {
   "codemirror_mode": {
    "name": "ipython",
    "version": 3
   },
   "file_extension": ".py",
   "mimetype": "text/x-python",
   "name": "python",
   "nbconvert_exporter": "python",
   "pygments_lexer": "ipython3",
   "version": "3.8.8"
  },
  "varInspector": {
   "cols": {
    "lenName": 16,
    "lenType": 16,
    "lenVar": 40
   },
   "kernels_config": {
    "python": {
     "delete_cmd_postfix": "",
     "delete_cmd_prefix": "del ",
     "library": "var_list.py",
     "varRefreshCmd": "print(var_dic_list())"
    },
    "r": {
     "delete_cmd_postfix": ") ",
     "delete_cmd_prefix": "rm(",
     "library": "var_list.r",
     "varRefreshCmd": "cat(var_dic_list()) "
    }
   },
   "types_to_exclude": [
    "module",
    "function",
    "builtin_function_or_method",
    "instance",
    "_Feature"
   ],
   "window_display": false
  }
 },
 "nbformat": 4,
 "nbformat_minor": 5
}
