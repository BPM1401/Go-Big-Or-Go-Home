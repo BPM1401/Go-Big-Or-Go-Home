{
 "cells": [
  {
   "cell_type": "code",
   "execution_count": 9,
   "id": "25bb43f9",
   "metadata": {},
   "outputs": [],
   "source": [
    "import numpy as np\n",
    "import matplotlib\n",
    "import matplotlib.pyplot as plt\n",
    "import pandas as pd\n",
    "\n",
    "#from sklearn.datasets import make_regression\n",
    "from sklearn.model_selection import train_test_split\n",
    "from sklearn.linear_model import RidgeCV\n",
    "from sklearn.compose import TransformedTargetRegressor\n",
    "from sklearn.metrics import median_absolute_error, r2_score, mean_absolute_error\n",
    "\n",
    "from sklearn.datasets import fetch_openml\n",
    "from sklearn.preprocessing import QuantileTransformer, quantile_transform\n",
    "\n",
    "#from sklearn.utils.fixes import parse_version\n",
    "\n",
    "#ames = fetch_openml(name=\"house_prices\", as_frame=True)\n",
    "# Keep only numeric columns\n",
    "#X = ames.data.select_dtypes(np.number)\n",
    "# Remove columns with NaN or Inf values\n",
    "#X = X.drop(columns=[\"LotFrontage\", \"GarageYrBlt\", \"MasVnrArea\"])\n",
    "#y = ames.target\n",
    "#y_trans = quantile_transform(\n",
    "#    y.to_frame(), n_quantiles=900, output_distribution=\"normal\", copy=True\n",
    "#).squeeze()"
   ]
  },
  {
   "cell_type": "code",
   "execution_count": 10,
   "id": "0abdbf84",
   "metadata": {},
   "outputs": [],
   "source": [
    "base = pd.read_csv('../../../Data/BaseData.csv')"
   ]
  },
  {
   "cell_type": "code",
   "execution_count": 11,
   "id": "7eed83dd",
   "metadata": {},
   "outputs": [],
   "source": [
    "X = base.drop(['SalePrice'], axis=1).values\n",
    "y = base.SalePrice.values"
   ]
  },
  {
   "cell_type": "code",
   "execution_count": 12,
   "id": "95389aa8",
   "metadata": {},
   "outputs": [
    {
     "data": {
      "text/plain": [
       "array([[0.000e+00, 0.000e+00, 0.000e+00, ..., 1.660e+02, 0.000e+00,\n",
       "        0.000e+00],\n",
       "       [1.000e+00, 0.000e+00, 0.000e+00, ..., 0.000e+00, 0.000e+00,\n",
       "        0.000e+00],\n",
       "       [2.000e+00, 0.000e+00, 0.000e+00, ..., 0.000e+00, 0.000e+00,\n",
       "        0.000e+00],\n",
       "       ...,\n",
       "       [2.577e+03, 0.000e+00, 0.000e+00, ..., 0.000e+00, 0.000e+00,\n",
       "        0.000e+00],\n",
       "       [2.578e+03, 0.000e+00, 0.000e+00, ..., 0.000e+00, 0.000e+00,\n",
       "        0.000e+00],\n",
       "       [2.579e+03, 0.000e+00, 0.000e+00, ..., 0.000e+00, 0.000e+00,\n",
       "        0.000e+00]])"
      ]
     },
     "execution_count": 12,
     "metadata": {},
     "output_type": "execute_result"
    }
   ],
   "source": [
    "X"
   ]
  },
  {
   "cell_type": "code",
   "execution_count": 13,
   "id": "0e3f48e5",
   "metadata": {},
   "outputs": [],
   "source": [
    "y = y.reshape(-1,1)"
   ]
  },
  {
   "cell_type": "code",
   "execution_count": 14,
   "id": "1b99a529",
   "metadata": {},
   "outputs": [
    {
     "data": {
      "text/plain": [
       "array([[126000],\n",
       "       [139500],\n",
       "       [124900],\n",
       "       ...,\n",
       "       [145000],\n",
       "       [217500],\n",
       "       [215000]])"
      ]
     },
     "execution_count": 14,
     "metadata": {},
     "output_type": "execute_result"
    }
   ],
   "source": [
    "y"
   ]
  },
  {
   "cell_type": "code",
   "execution_count": 15,
   "id": "62183ecd",
   "metadata": {},
   "outputs": [],
   "source": [
    "y_trans = quantile_transform(y, n_quantiles=900, \n",
    "                             output_distribution=\"normal\", copy=True)"
   ]
  },
  {
   "cell_type": "code",
   "execution_count": 16,
   "id": "3ca0d039",
   "metadata": {},
   "outputs": [
    {
     "data": {
      "text/plain": [
       "array([[-0.79792059],\n",
       "       [-0.41750782],\n",
       "       [-0.84145751],\n",
       "       ...,\n",
       "       [-0.27673971],\n",
       "       [ 0.7751268 ],\n",
       "       [ 0.74903253]])"
      ]
     },
     "execution_count": 16,
     "metadata": {},
     "output_type": "execute_result"
    }
   ],
   "source": [
    "y_trans"
   ]
  },
  {
   "cell_type": "code",
   "execution_count": null,
   "id": "22c11ab8",
   "metadata": {},
   "outputs": [],
   "source": []
  },
  {
   "cell_type": "code",
   "execution_count": 17,
   "id": "ab7dc5f0",
   "metadata": {},
   "outputs": [
    {
     "data": {
      "image/png": "[encoded data removed]",
      "text/plain": [
       "<Figure size 432x288 with 2 Axes>"
      ]
     },
     "metadata": {
      "needs_background": "light"
     },
     "output_type": "display_data"
    }
   ],
   "source": [
    "f, (ax0, ax1) = plt.subplots(1, 2)\n",
    "\n",
    "ax0.hist(y, bins=100, density=True)\n",
    "ax0.set_ylabel(\"Probability\")\n",
    "ax0.set_xlabel(\"Target\")\n",
    "ax0.text(s=\"Target distribution\", x=3e4, y=11.8e-6, fontsize=12)\n",
    "ax0.ticklabel_format(axis=\"both\", style=\"sci\", scilimits=(0, 0))\n",
    "\n",
    "ax1.hist(y_trans, bins=100, density=True)\n",
    "ax1.set_ylabel(\"Probability\")\n",
    "ax1.set_xlabel(\"Target\")\n",
    "ax1.text(s=\"Transformed target distribution\", x=-6.8, y=0.479, fontsize=12)\n",
    "\n",
    "f.suptitle(\"Ames housing data: selling price\", y=0.04)\n",
    "f.tight_layout(rect=[0.05, 0.05, 0.95, 0.95])\n",
    "\n",
    "X_train, X_test, y_train, y_test = train_test_split(X, y)"
   ]
  },
  {
   "cell_type": "code",
   "execution_count": 18,
   "id": "fe7a174d",
   "metadata": {},
   "outputs": [
    {
     "data": {
      "image/png": "[encoded data removed]",
      "text/plain": [
       "<Figure size 468x576 with 4 Axes>"
      ]
     },
     "metadata": {
      "needs_background": "light"
     },
     "output_type": "display_data"
    }
   ],
   "source": [
    "f, (ax0, ax1) = plt.subplots(2, 2, sharey=\"row\", figsize=(6.5, 8))\n",
    "\n",
    "regr = RidgeCV()\n",
    "regr.fit(X_train, y_train)\n",
    "y_pred = regr.predict(X_test)\n",
    "\n",
    "ax0[0].scatter(y_pred, y_test, s=8)\n",
    "ax0[0].plot([0, 7e5], [0, 7e5], \"--k\")\n",
    "ax0[0].set_ylabel(\"True target\")\n",
    "ax0[0].set_xlabel(\"Predicted target\")\n",
    "ax0[0].text(\n",
    "    s=\"Ridge regression \\n without target transformation\",\n",
    "    x=-5e4,\n",
    "    y=8e5,\n",
    "    fontsize=12,\n",
    "    multialignment=\"center\",\n",
    ")\n",
    "ax0[0].text(\n",
    "    3e4,\n",
    "    64e4,\n",
    "    r\"$R^2$=%.2f, MAE=%.2f\"\n",
    "    % (r2_score(y_test, y_pred), median_absolute_error(y_test, y_pred)),\n",
    ")\n",
    "ax0[0].set_xlim([0, 7e5])\n",
    "ax0[0].set_ylim([0, 7e5])\n",
    "ax0[0].ticklabel_format(axis=\"both\", style=\"sci\", scilimits=(0, 0))\n",
    "\n",
    "ax1[0].scatter(y_pred, (y_pred - y_test), s=8)\n",
    "ax1[0].set_ylabel(\"Residual\")\n",
    "ax1[0].set_xlabel(\"Predicted target\")\n",
    "ax1[0].ticklabel_format(axis=\"both\", style=\"sci\", scilimits=(0, 0))\n",
    "\n",
    "regr_trans = TransformedTargetRegressor(\n",
    "    regressor=RidgeCV(),\n",
    "    transformer=QuantileTransformer(n_quantiles=900, output_distribution=\"normal\"),\n",
    ")\n",
    "regr_trans.fit(X_train, y_train)\n",
    "y_pred = regr_trans.predict(X_test)\n",
    "\n",
    "ax0[1].scatter(y_pred, y_test, s=8)\n",
    "ax0[1].plot([0, 7e5], [0, 7e5], \"--k\")\n",
    "ax0[1].set_ylabel(\"True target\")\n",
    "ax0[1].set_xlabel(\"Predicted target\")\n",
    "ax0[1].text(\n",
    "    s=\"Ridge regression \\n with target transformation\",\n",
    "    x=-5e4,\n",
    "    y=8e5,\n",
    "    fontsize=12,\n",
    "    multialignment=\"center\",\n",
    ")\n",
    "ax0[1].text(\n",
    "    3e4,\n",
    "    64e4,\n",
    "    r\"$R^2$=%.2f, MAE=%.2f\"\n",
    "    % (r2_score(y_test, y_pred), median_absolute_error(y_test, y_pred)),\n",
    ")\n",
    "ax0[1].set_xlim([0, 7e5])\n",
    "ax0[1].set_ylim([0, 7e5])\n",
    "ax0[1].ticklabel_format(axis=\"both\", style=\"sci\", scilimits=(0, 0))\n",
    "\n",
    "ax1[1].scatter(y_pred, (y_pred - y_test), s=8)\n",
    "ax1[1].set_ylabel(\"Residual\")\n",
    "ax1[1].set_xlabel(\"Predicted target\")\n",
    "ax1[1].ticklabel_format(axis=\"both\", style=\"sci\", scilimits=(0, 0))\n",
    "\n",
    "f.suptitle(\"Ames housing data: selling price\", y=0.035)\n",
    "\n",
    "plt.show()"
   ]
  },
  {
   "cell_type": "code",
   "execution_count": null,
   "id": "344bfc88",
   "metadata": {},
   "outputs": [],
   "source": []
  }
 ],
 "metadata": {
  "hide_input": false,
  "kernelspec": {
   "display_name": "Python 3 (ipykernel)",
   "language": "python",
   "name": "python3"
  },
  "language_info": {
   "codemirror_mode": {
    "name": "ipython",
    "version": 3
   },
   "file_extension": ".py",
   "mimetype": "text/x-python",
   "name": "python",
   "nbconvert_exporter": "python",
   "pygments_lexer": "ipython3",
   "version": "3.8.8"
  },
  "varInspector": {
   "cols": {
    "lenName": 16,
    "lenType": 16,
    "lenVar": 40
   },
   "kernels_config": {
    "python": {
     "delete_cmd_postfix": "",
     "delete_cmd_prefix": "del ",
     "library": "var_list.py",
     "varRefreshCmd": "print(var_dic_list())"
    },
    "r": {
     "delete_cmd_postfix": ") ",
     "delete_cmd_prefix": "rm(",
     "library": "var_list.r",
     "varRefreshCmd": "cat(var_dic_list()) "
    }
   },
   "types_to_exclude": [
    "module",
    "function",
    "builtin_function_or_method",
    "instance",
    "_Feature"
   ],
   "window_display": false
  }
 },
 "nbformat": 4,
 "nbformat_minor": 5
}
