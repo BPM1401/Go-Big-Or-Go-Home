{
 "cells": [
  {
   "cell_type": "code",
   "execution_count": 23,
   "id": "ddec2fa1",
   "metadata": {},
   "outputs": [],
   "source": [
    "import numpy as np\n",
    "import pandas as pd\n",
    "pd.set_option(\"display.max_columns\", 300)\n",
    "pd.set_option(\"max_colwidth\", 200)\n",
    "\n",
    "from sklearn.linear_model import LinearRegression\n",
    "from sklearn.linear_model import HuberRegressor\n",
    "from sklearn.linear_model import Ridge\n",
    "from sklearn.linear_model import RidgeCV\n",
    "from sklearn.linear_model import Lasso\n",
    "from sklearn.linear_model import LassoCV\n",
    "from sklearn.linear_model import ElasticNet\n",
    "from numpy import arange\n",
    "from sklearn.model_selection import GridSearchCV\n",
    "from sklearn.ensemble import RandomForestRegressor\n",
    "from sklearn.ensemble import GradientBoostingRegressor\n",
    "from xgboost import XGBRegressor\n",
    "\n",
    "from sklearn import preprocessing\n",
    "\n",
    "from sklearn.metrics import mean_squared_error, r2_score\n",
    "from sklearn.feature_selection import SequentialFeatureSelector\n",
    "\n",
    "from sklearn.model_selection import train_test_split\n",
    "from sklearn.model_selection import KFold\n",
    "\n",
    "import matplotlib.pyplot as plt\n",
    "import statistics\n",
    "\n",
    "import seaborn as sns"
   ]
  },
  {
   "cell_type": "code",
   "execution_count": 3,
   "id": "da6e63e5",
   "metadata": {},
   "outputs": [],
   "source": [
    "base = pd.read_csv('../../Data/BaseData.csv')"
   ]
  },
  {
   "cell_type": "code",
   "execution_count": 4,
   "id": "501a2613",
   "metadata": {},
   "outputs": [
    {
     "data": {
      "text/plain": [
       "(2580, 299)"
      ]
     },
     "execution_count": 4,
     "metadata": {},
     "output_type": "execute_result"
    }
   ],
   "source": [
    "base.shape"
   ]
  },
  {
   "cell_type": "code",
   "execution_count": 5,
   "id": "bfa30bbf",
   "metadata": {},
   "outputs": [],
   "source": [
    "MLR = LinearRegression()"
   ]
  },
  {
   "cell_type": "code",
   "execution_count": 6,
   "id": "4455e2a4",
   "metadata": {},
   "outputs": [],
   "source": [
    "X = base.drop(['SalePrice'], axis=1).values\n",
    "y = base.SalePrice.values"
   ]
  },
  {
   "cell_type": "code",
   "execution_count": 7,
   "id": "3b0765fa",
   "metadata": {},
   "outputs": [
    {
     "data": {
      "text/plain": [
       "2580"
      ]
     },
     "execution_count": 7,
     "metadata": {},
     "output_type": "execute_result"
    }
   ],
   "source": [
    "len(y)"
   ]
  },
  {
   "cell_type": "code",
   "execution_count": 8,
   "id": "858459bb",
   "metadata": {},
   "outputs": [
    {
     "data": {
      "text/plain": [
       "(2580, 298)"
      ]
     },
     "execution_count": 8,
     "metadata": {},
     "output_type": "execute_result"
    }
   ],
   "source": [
    "X.shape"
   ]
  },
  {
   "cell_type": "code",
   "execution_count": 9,
   "id": "7be716df",
   "metadata": {},
   "outputs": [
    {
     "data": {
      "text/plain": [
       "298"
      ]
     },
     "execution_count": 9,
     "metadata": {},
     "output_type": "execute_result"
    }
   ],
   "source": [
    "X.shape[1]"
   ]
  },
  {
   "cell_type": "code",
   "execution_count": 10,
   "id": "1751f3dd",
   "metadata": {},
   "outputs": [],
   "source": [
    "Scores = []\n",
    "AdjR2 = []\n",
    "\n",
    "for i in range(100):\n",
    "    X_train, X_test, y_train, y_test = train_test_split(X,y,test_size=0.25)\n",
    "    MLR.fit(X_train, y_train)\n",
    "    pred = MLR.predict(X_test)\n",
    "    Score = r2_score(y_test, pred)\n",
    "    Scores.append(Score)\n",
    "    \n",
    "    Adj_r2 = 1 - (1-r2_score(y_test, pred)) * (len(y)-1)/(len(y)-X.shape[1]-1)\n",
    "    AdjR2.append(Adj_r2)"
   ]
  },
  {
   "cell_type": "code",
   "execution_count": 11,
   "id": "e946a90b",
   "metadata": {},
   "outputs": [],
   "source": [
    "PositiveR2 = []\n",
    "NegativeR2 = []\n",
    "\n",
    "for i in Scores:\n",
    "    if i < 0:\n",
    "        NegativeR2.append(i)\n",
    "    else:\n",
    "        PositiveR2.append(i)"
   ]
  },
  {
   "cell_type": "code",
   "execution_count": 12,
   "id": "61890929",
   "metadata": {},
   "outputs": [],
   "source": [
    "PositiveAR2 = []\n",
    "NegativeAR2 = []\n",
    "\n",
    "for i in AdjR2:\n",
    "    if i < 0:\n",
    "        NegativeAR2.append(i)\n",
    "    else:\n",
    "        PositiveAR2.append(i)"
   ]
  },
  {
   "cell_type": "code",
   "execution_count": 20,
   "id": "1c683c60",
   "metadata": {},
   "outputs": [],
   "source": [
    "R2 = pd.DataFrame(PositiveR2, columns=['R_Squared'])"
   ]
  },
  {
   "cell_type": "code",
   "execution_count": 21,
   "id": "08bcb813",
   "metadata": {},
   "outputs": [],
   "source": [
    "AR2 = pd.DataFrame(PositiveAR2, columns=['Adjusted_R2'])"
   ]
  },
  {
   "cell_type": "code",
   "execution_count": 22,
   "id": "37997721",
   "metadata": {},
   "outputs": [],
   "source": [
    "R2vAR2 = pd.concat([R2, AR2], axis=1)"
   ]
  },
  {
   "cell_type": "code",
   "execution_count": 24,
   "id": "60928721",
   "metadata": {},
   "outputs": [
    {
     "data": {
      "text/html": [
       "<div>\n",
       "<style scoped>\n",
       "    .dataframe tbody tr th:only-of-type {\n",
       "        vertical-align: middle;\n",
       "    }\n",
       "\n",
       "    .dataframe tbody tr th {\n",
       "        vertical-align: top;\n",
       "    }\n",
       "\n",
       "    .dataframe thead th {\n",
       "        text-align: right;\n",
       "    }\n",
       "</style>\n",
       "<table border=\"1\" class=\"dataframe\">\n",
       "  <thead>\n",
       "    <tr style=\"text-align: right;\">\n",
       "      <th></th>\n",
       "      <th>R_Squared</th>\n",
       "      <th>Adjusted_R2</th>\n",
       "    </tr>\n",
       "  </thead>\n",
       "  <tbody>\n",
       "    <tr>\n",
       "      <th>0</th>\n",
       "      <td>0.917601</td>\n",
       "      <td>0.906836</td>\n",
       "    </tr>\n",
       "    <tr>\n",
       "      <th>1</th>\n",
       "      <td>0.872014</td>\n",
       "      <td>0.855294</td>\n",
       "    </tr>\n",
       "    <tr>\n",
       "      <th>2</th>\n",
       "      <td>0.882604</td>\n",
       "      <td>0.867266</td>\n",
       "    </tr>\n",
       "    <tr>\n",
       "      <th>3</th>\n",
       "      <td>0.869004</td>\n",
       "      <td>0.851891</td>\n",
       "    </tr>\n",
       "    <tr>\n",
       "      <th>4</th>\n",
       "      <td>0.915148</td>\n",
       "      <td>0.904062</td>\n",
       "    </tr>\n",
       "    <tr>\n",
       "      <th>...</th>\n",
       "      <td>...</td>\n",
       "      <td>...</td>\n",
       "    </tr>\n",
       "    <tr>\n",
       "      <th>79</th>\n",
       "      <td>0.860418</td>\n",
       "      <td>0.842182</td>\n",
       "    </tr>\n",
       "    <tr>\n",
       "      <th>80</th>\n",
       "      <td>0.920704</td>\n",
       "      <td>0.910344</td>\n",
       "    </tr>\n",
       "    <tr>\n",
       "      <th>81</th>\n",
       "      <td>0.907738</td>\n",
       "      <td>0.895685</td>\n",
       "    </tr>\n",
       "    <tr>\n",
       "      <th>82</th>\n",
       "      <td>0.851816</td>\n",
       "      <td>0.832456</td>\n",
       "    </tr>\n",
       "    <tr>\n",
       "      <th>83</th>\n",
       "      <td>0.915605</td>\n",
       "      <td>0.904579</td>\n",
       "    </tr>\n",
       "  </tbody>\n",
       "</table>\n",
       "<p>84 rows × 2 columns</p>\n",
       "</div>"
      ],
      "text/plain": [
       "    R_Squared  Adjusted_R2\n",
       "0    0.917601     0.906836\n",
       "1    0.872014     0.855294\n",
       "2    0.882604     0.867266\n",
       "3    0.869004     0.851891\n",
       "4    0.915148     0.904062\n",
       "..        ...          ...\n",
       "79   0.860418     0.842182\n",
       "80   0.920704     0.910344\n",
       "81   0.907738     0.895685\n",
       "82   0.851816     0.832456\n",
       "83   0.915605     0.904579\n",
       "\n",
       "[84 rows x 2 columns]"
      ]
     },
     "execution_count": 24,
     "metadata": {},
     "output_type": "execute_result"
    }
   ],
   "source": [
    "R2vAR2"
   ]
  },
  {
   "cell_type": "code",
   "execution_count": null,
   "id": "d1722489",
   "metadata": {},
   "outputs": [],
   "source": []
  },
  {
   "cell_type": "code",
   "execution_count": 25,
   "id": "eeba39d2",
   "metadata": {},
   "outputs": [
    {
     "data": {
      "image/png": "[encoded data removed]",
      "text/plain": [
       "<Figure size 720x720 with 1 Axes>"
      ]
     },
     "metadata": {
      "needs_background": "light"
     },
     "output_type": "display_data"
    }
   ],
   "source": [
    "plt.figure(figsize=(10,10))\n",
    "plt.title('R-Squared vs Adjusted R-Squared, 100xMLR (75/25 splits)', fontsize=20)\n",
    "plt.ylabel('Range of AdjustedR2 & R-Squared on Test Set', fontsize=17)\n",
    "plt.xlabel('Model', fontsize=17)\n",
    "sns.boxplot(data=R2vAR2)\n",
    "plt.xticks(rotation=25);"
   ]
  },
  {
   "cell_type": "code",
   "execution_count": null,
   "id": "ec3fa2be",
   "metadata": {},
   "outputs": [],
   "source": []
  },
  {
   "cell_type": "code",
   "execution_count": 26,
   "id": "39323844",
   "metadata": {},
   "outputs": [
    {
     "name": "stdout",
     "output_type": "stream",
     "text": [
      "Number of times results produced Negative R2: 16\n",
      "Number of times results produced Negative Adjusted R2: 16\n"
     ]
    }
   ],
   "source": [
    "print(\"Number of times results produced Negative R2: \" + str((len(NegativeR2))))\n",
    "print(\"Number of times results produced Negative Adjusted R2: \" + str((len(NegativeAR2))))"
   ]
  },
  {
   "cell_type": "code",
   "execution_count": 14,
   "id": "7b4666b3",
   "metadata": {},
   "outputs": [
    {
     "data": {
      "text/plain": [
       "[-34523.14201714882,\n",
       " -41354.91544887651,\n",
       " -104105335.33976942,\n",
       " -1996856.2524710367,\n",
       " -48830.15774435334,\n",
       " -27705.78987130878,\n",
       " -4722406.90574028,\n",
       " -45529.67213262052,\n",
       " -4127.654700950276,\n",
       " -165841.99611613614,\n",
       " -248617.41292241323,\n",
       " -8673298.77830421,\n",
       " -6887571.239916954,\n",
       " -13097875.56681814,\n",
       " -19759.772530783284,\n",
       " -732.8977957779484]"
      ]
     },
     "execution_count": 14,
     "metadata": {},
     "output_type": "execute_result"
    }
   ],
   "source": [
    "NegativeR2"
   ]
  },
  {
   "cell_type": "code",
   "execution_count": 15,
   "id": "89e588b3",
   "metadata": {},
   "outputs": [
    {
     "data": {
      "text/plain": [
       "[-39033.52970724542,\n",
       " -46757.836450088784,\n",
       " -117706120.1838077,\n",
       " -2257734.578308989,\n",
       " -55209.677695171966,\n",
       " -31325.528311313174,\n",
       " -5339363.30903296,\n",
       " -51478.00194214307,\n",
       " -4667.040540881526,\n",
       " -187508.46382442574,\n",
       " -281098.0297794405,\n",
       " -9806417.293838913,\n",
       " -7787394.355872787,\n",
       " -14809040.501895653,\n",
       " -22341.40787237619,\n",
       " -828.7774727362249]"
      ]
     },
     "execution_count": 15,
     "metadata": {},
     "output_type": "execute_result"
    }
   ],
   "source": [
    "NegativeAR2"
   ]
  },
  {
   "cell_type": "code",
   "execution_count": 16,
   "id": "2c603ee5",
   "metadata": {},
   "outputs": [
    {
     "data": {
      "text/plain": [
       "0"
      ]
     },
     "execution_count": 16,
     "metadata": {},
     "output_type": "execute_result"
    }
   ],
   "source": [
    "len(NegativeR2) - len(NegativeAR2)"
   ]
  },
  {
   "cell_type": "code",
   "execution_count": 27,
   "id": "1bb02761",
   "metadata": {},
   "outputs": [],
   "source": [
    "#df = pd.DataFrame(Positive, columns=['MLR'])\n",
    "R2vAR2.to_csv('MLR_R2vAR2.csv', index=False)"
   ]
  },
  {
   "cell_type": "code",
   "execution_count": 12,
   "id": "0c4babf3",
   "metadata": {},
   "outputs": [],
   "source": [
    "#df_negative = pd.DataFrame(Negative, columns=['MLR Negative R2'])\n",
    "#df_negative.to_csv('MLR_Negative_R2.csv', index=False)"
   ]
  },
  {
   "cell_type": "code",
   "execution_count": null,
   "id": "1d968f06",
   "metadata": {},
   "outputs": [],
   "source": []
  },
  {
   "cell_type": "code",
   "execution_count": 28,
   "id": "0043f06a",
   "metadata": {},
   "outputs": [],
   "source": [
    "R2vAR2['Difference'] = R2vAR2['R_Squared'] - R2vAR2['Adjusted_R2']"
   ]
  },
  {
   "cell_type": "code",
   "execution_count": 29,
   "id": "b926d66f",
   "metadata": {},
   "outputs": [
    {
     "data": {
      "text/html": [
       "<div>\n",
       "<style scoped>\n",
       "    .dataframe tbody tr th:only-of-type {\n",
       "        vertical-align: middle;\n",
       "    }\n",
       "\n",
       "    .dataframe tbody tr th {\n",
       "        vertical-align: top;\n",
       "    }\n",
       "\n",
       "    .dataframe thead th {\n",
       "        text-align: right;\n",
       "    }\n",
       "</style>\n",
       "<table border=\"1\" class=\"dataframe\">\n",
       "  <thead>\n",
       "    <tr style=\"text-align: right;\">\n",
       "      <th></th>\n",
       "      <th>R_Squared</th>\n",
       "      <th>Adjusted_R2</th>\n",
       "      <th>Difference</th>\n",
       "    </tr>\n",
       "  </thead>\n",
       "  <tbody>\n",
       "    <tr>\n",
       "      <th>0</th>\n",
       "      <td>0.917601</td>\n",
       "      <td>0.906836</td>\n",
       "      <td>0.010765</td>\n",
       "    </tr>\n",
       "    <tr>\n",
       "      <th>1</th>\n",
       "      <td>0.872014</td>\n",
       "      <td>0.855294</td>\n",
       "      <td>0.016721</td>\n",
       "    </tr>\n",
       "    <tr>\n",
       "      <th>2</th>\n",
       "      <td>0.882604</td>\n",
       "      <td>0.867266</td>\n",
       "      <td>0.015337</td>\n",
       "    </tr>\n",
       "    <tr>\n",
       "      <th>3</th>\n",
       "      <td>0.869004</td>\n",
       "      <td>0.851891</td>\n",
       "      <td>0.017114</td>\n",
       "    </tr>\n",
       "    <tr>\n",
       "      <th>4</th>\n",
       "      <td>0.915148</td>\n",
       "      <td>0.904062</td>\n",
       "      <td>0.011085</td>\n",
       "    </tr>\n",
       "    <tr>\n",
       "      <th>...</th>\n",
       "      <td>...</td>\n",
       "      <td>...</td>\n",
       "      <td>...</td>\n",
       "    </tr>\n",
       "    <tr>\n",
       "      <th>79</th>\n",
       "      <td>0.860418</td>\n",
       "      <td>0.842182</td>\n",
       "      <td>0.018236</td>\n",
       "    </tr>\n",
       "    <tr>\n",
       "      <th>80</th>\n",
       "      <td>0.920704</td>\n",
       "      <td>0.910344</td>\n",
       "      <td>0.010360</td>\n",
       "    </tr>\n",
       "    <tr>\n",
       "      <th>81</th>\n",
       "      <td>0.907738</td>\n",
       "      <td>0.895685</td>\n",
       "      <td>0.012054</td>\n",
       "    </tr>\n",
       "    <tr>\n",
       "      <th>82</th>\n",
       "      <td>0.851816</td>\n",
       "      <td>0.832456</td>\n",
       "      <td>0.019359</td>\n",
       "    </tr>\n",
       "    <tr>\n",
       "      <th>83</th>\n",
       "      <td>0.915605</td>\n",
       "      <td>0.904579</td>\n",
       "      <td>0.011026</td>\n",
       "    </tr>\n",
       "  </tbody>\n",
       "</table>\n",
       "<p>84 rows × 3 columns</p>\n",
       "</div>"
      ],
      "text/plain": [
       "    R_Squared  Adjusted_R2  Difference\n",
       "0    0.917601     0.906836    0.010765\n",
       "1    0.872014     0.855294    0.016721\n",
       "2    0.882604     0.867266    0.015337\n",
       "3    0.869004     0.851891    0.017114\n",
       "4    0.915148     0.904062    0.011085\n",
       "..        ...          ...         ...\n",
       "79   0.860418     0.842182    0.018236\n",
       "80   0.920704     0.910344    0.010360\n",
       "81   0.907738     0.895685    0.012054\n",
       "82   0.851816     0.832456    0.019359\n",
       "83   0.915605     0.904579    0.011026\n",
       "\n",
       "[84 rows x 3 columns]"
      ]
     },
     "execution_count": 29,
     "metadata": {},
     "output_type": "execute_result"
    }
   ],
   "source": [
    "R2vAR2"
   ]
  },
  {
   "cell_type": "code",
   "execution_count": 30,
   "id": "ad0cfc35",
   "metadata": {},
   "outputs": [
    {
     "data": {
      "text/plain": [
       "0.01371613399298922"
      ]
     },
     "execution_count": 30,
     "metadata": {},
     "output_type": "execute_result"
    }
   ],
   "source": [
    "R2vAR2.Difference.mean()"
   ]
  }
 ],
 "metadata": {
  "hide_input": false,
  "kernelspec": {
   "display_name": "Python 3 (ipykernel)",
   "language": "python",
   "name": "python3"
  },
  "language_info": {
   "codemirror_mode": {
    "name": "ipython",
    "version": 3
   },
   "file_extension": ".py",
   "mimetype": "text/x-python",
   "name": "python",
   "nbconvert_exporter": "python",
   "pygments_lexer": "ipython3",
   "version": "3.8.8"
  },
  "varInspector": {
   "cols": {
    "lenName": 16,
    "lenType": 16,
    "lenVar": 40
   },
   "kernels_config": {
    "python": {
     "delete_cmd_postfix": "",
     "delete_cmd_prefix": "del ",
     "library": "var_list.py",
     "varRefreshCmd": "print(var_dic_list())"
    },
    "r": {
     "delete_cmd_postfix": ") ",
     "delete_cmd_prefix": "rm(",
     "library": "var_list.r",
     "varRefreshCmd": "cat(var_dic_list()) "
    }
   },
   "types_to_exclude": [
    "module",
    "function",
    "builtin_function_or_method",
    "instance",
    "_Feature"
   ],
   "window_display": false
  }
 },
 "nbformat": 4,
 "nbformat_minor": 5
}
