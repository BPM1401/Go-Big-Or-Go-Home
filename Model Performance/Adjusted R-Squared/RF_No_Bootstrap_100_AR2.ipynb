{
 "cells": [
  {
   "cell_type": "code",
   "execution_count": 1,
   "id": "57157628",
   "metadata": {},
   "outputs": [],
   "source": [
    "import numpy as np\n",
    "import pandas as pd\n",
    "pd.set_option(\"display.max_columns\", 300)\n",
    "pd.set_option(\"max_colwidth\", 200)\n",
    "\n",
    "from sklearn.linear_model import LinearRegression\n",
    "from sklearn.linear_model import HuberRegressor\n",
    "from sklearn.linear_model import Ridge\n",
    "from sklearn.linear_model import RidgeCV\n",
    "from sklearn.linear_model import Lasso\n",
    "from sklearn.linear_model import LassoCV\n",
    "from sklearn.linear_model import ElasticNet\n",
    "from numpy import arange\n",
    "from sklearn.model_selection import GridSearchCV\n",
    "from sklearn.ensemble import RandomForestRegressor\n",
    "from sklearn.ensemble import GradientBoostingRegressor\n",
    "from xgboost import XGBRegressor\n",
    "\n",
    "from sklearn import preprocessing\n",
    "\n",
    "from sklearn.metrics import mean_squared_error, r2_score\n",
    "from sklearn.feature_selection import SequentialFeatureSelector\n",
    "\n",
    "from sklearn.model_selection import train_test_split\n",
    "from sklearn.model_selection import KFold\n",
    "\n",
    "import matplotlib.pyplot as plt\n",
    "import statistics\n",
    "\n",
    "import seaborn as sns"
   ]
  },
  {
   "cell_type": "code",
   "execution_count": 2,
   "id": "d2a8d6c6",
   "metadata": {},
   "outputs": [],
   "source": [
    "base_ordinal = pd.read_csv('../../Data/BaseOrdinal.csv')"
   ]
  },
  {
   "cell_type": "code",
   "execution_count": 3,
   "id": "54844c7a",
   "metadata": {},
   "outputs": [],
   "source": [
    "X = base_ordinal.drop(['SalePrice'], axis=1).values\n",
    "y = base_ordinal.SalePrice.values"
   ]
  },
  {
   "cell_type": "code",
   "execution_count": 15,
   "id": "ba595188",
   "metadata": {},
   "outputs": [
    {
     "data": {
      "text/plain": [
       "2580"
      ]
     },
     "execution_count": 15,
     "metadata": {},
     "output_type": "execute_result"
    }
   ],
   "source": [
    "len(y)"
   ]
  },
  {
   "cell_type": "code",
   "execution_count": 16,
   "id": "102f02d4",
   "metadata": {},
   "outputs": [
    {
     "data": {
      "text/plain": [
       "(2580, 82)"
      ]
     },
     "execution_count": 16,
     "metadata": {},
     "output_type": "execute_result"
    }
   ],
   "source": [
    "X.shape"
   ]
  },
  {
   "cell_type": "code",
   "execution_count": 17,
   "id": "602fdda8",
   "metadata": {},
   "outputs": [
    {
     "data": {
      "text/plain": [
       "82"
      ]
     },
     "execution_count": 17,
     "metadata": {},
     "output_type": "execute_result"
    }
   ],
   "source": [
    "X.shape[1]"
   ]
  },
  {
   "cell_type": "code",
   "execution_count": null,
   "id": "2feee8fe",
   "metadata": {},
   "outputs": [],
   "source": []
  },
  {
   "cell_type": "code",
   "execution_count": 4,
   "id": "8c099c76",
   "metadata": {},
   "outputs": [],
   "source": [
    "Scores = []\n",
    "AdjR2 = []\n",
    "\n",
    "for i in range(100):\n",
    "    \n",
    "    X_train, X_test, Y_train, Y_test = train_test_split(X,y,test_size=0.25)\n",
    "    \n",
    "    scaler = preprocessing.StandardScaler().fit(X_train)\n",
    "    X_train_scaled = scaler.transform(X_train)\n",
    "    X_test_scaled = scaler.transform(X_test)\n",
    "    \n",
    "    RF_No_Bootstrap = RandomForestRegressor(n_estimators=100, criterion='squared_error', \n",
    "                                            bootstrap=False)\n",
    "    RF_No_Bootstrap.fit(X_train_scaled, Y_train)\n",
    "    RF_No_Bootstrap_Score = RF_No_Bootstrap.score(X_test_scaled, Y_test)\n",
    "    \n",
    "    Scores.append(RF_No_Bootstrap_Score)\n",
    "    \n",
    "    Adj_r2 = 1 - (1 - RF_No_Bootstrap_Score) * (len(y)-1)/(len(y)-X.shape[1]-1)\n",
    "    AdjR2.append(Adj_r2)\n",
    "    "
   ]
  },
  {
   "cell_type": "code",
   "execution_count": 5,
   "id": "f311e128",
   "metadata": {},
   "outputs": [],
   "source": [
    "PositiveR2 = []\n",
    "NegativeR2 = []\n",
    "\n",
    "for i in Scores:\n",
    "    if i < 0:\n",
    "        NegativeR2.append(i)\n",
    "    else:\n",
    "        PositiveR2.append(i)"
   ]
  },
  {
   "cell_type": "code",
   "execution_count": 6,
   "id": "05a59bc1",
   "metadata": {},
   "outputs": [],
   "source": [
    "PositiveAR2 = []\n",
    "NegativeAR2 = []\n",
    "\n",
    "for i in AdjR2:\n",
    "    if i < 0:\n",
    "        NegativeAR2.append(i)\n",
    "    else:\n",
    "        PositiveAR2.append(i)"
   ]
  },
  {
   "cell_type": "code",
   "execution_count": 7,
   "id": "94b598b3",
   "metadata": {},
   "outputs": [
    {
     "data": {
      "text/html": [
       "<div>\n",
       "<style scoped>\n",
       "    .dataframe tbody tr th:only-of-type {\n",
       "        vertical-align: middle;\n",
       "    }\n",
       "\n",
       "    .dataframe tbody tr th {\n",
       "        vertical-align: top;\n",
       "    }\n",
       "\n",
       "    .dataframe thead th {\n",
       "        text-align: right;\n",
       "    }\n",
       "</style>\n",
       "<table border=\"1\" class=\"dataframe\">\n",
       "  <thead>\n",
       "    <tr style=\"text-align: right;\">\n",
       "      <th></th>\n",
       "      <th>R_Squared</th>\n",
       "      <th>Adjusted_R2</th>\n",
       "    </tr>\n",
       "  </thead>\n",
       "  <tbody>\n",
       "    <tr>\n",
       "      <th>0</th>\n",
       "      <td>0.731755</td>\n",
       "      <td>0.722946</td>\n",
       "    </tr>\n",
       "    <tr>\n",
       "      <th>1</th>\n",
       "      <td>0.806488</td>\n",
       "      <td>0.800133</td>\n",
       "    </tr>\n",
       "    <tr>\n",
       "      <th>2</th>\n",
       "      <td>0.829454</td>\n",
       "      <td>0.823853</td>\n",
       "    </tr>\n",
       "    <tr>\n",
       "      <th>3</th>\n",
       "      <td>0.800150</td>\n",
       "      <td>0.793587</td>\n",
       "    </tr>\n",
       "    <tr>\n",
       "      <th>4</th>\n",
       "      <td>0.782843</td>\n",
       "      <td>0.775712</td>\n",
       "    </tr>\n",
       "    <tr>\n",
       "      <th>...</th>\n",
       "      <td>...</td>\n",
       "      <td>...</td>\n",
       "    </tr>\n",
       "    <tr>\n",
       "      <th>95</th>\n",
       "      <td>0.746874</td>\n",
       "      <td>0.738561</td>\n",
       "    </tr>\n",
       "    <tr>\n",
       "      <th>96</th>\n",
       "      <td>0.779073</td>\n",
       "      <td>0.771818</td>\n",
       "    </tr>\n",
       "    <tr>\n",
       "      <th>97</th>\n",
       "      <td>0.792164</td>\n",
       "      <td>0.785338</td>\n",
       "    </tr>\n",
       "    <tr>\n",
       "      <th>98</th>\n",
       "      <td>0.763078</td>\n",
       "      <td>0.755298</td>\n",
       "    </tr>\n",
       "    <tr>\n",
       "      <th>99</th>\n",
       "      <td>0.777356</td>\n",
       "      <td>0.770045</td>\n",
       "    </tr>\n",
       "  </tbody>\n",
       "</table>\n",
       "<p>100 rows × 2 columns</p>\n",
       "</div>"
      ],
      "text/plain": [
       "    R_Squared  Adjusted_R2\n",
       "0    0.731755     0.722946\n",
       "1    0.806488     0.800133\n",
       "2    0.829454     0.823853\n",
       "3    0.800150     0.793587\n",
       "4    0.782843     0.775712\n",
       "..        ...          ...\n",
       "95   0.746874     0.738561\n",
       "96   0.779073     0.771818\n",
       "97   0.792164     0.785338\n",
       "98   0.763078     0.755298\n",
       "99   0.777356     0.770045\n",
       "\n",
       "[100 rows x 2 columns]"
      ]
     },
     "execution_count": 7,
     "metadata": {},
     "output_type": "execute_result"
    }
   ],
   "source": [
    "R2 = pd.DataFrame(PositiveR2, columns=['R_Squared'])\n",
    "AR2 = pd.DataFrame(PositiveAR2, columns=['Adjusted_R2'])\n",
    "R2vAR2 = pd.concat([R2, AR2], axis=1)\n",
    "R2vAR2"
   ]
  },
  {
   "cell_type": "code",
   "execution_count": null,
   "id": "2afcc4b5",
   "metadata": {},
   "outputs": [],
   "source": []
  },
  {
   "cell_type": "code",
   "execution_count": 8,
   "id": "d27bd0a0",
   "metadata": {},
   "outputs": [
    {
     "data": {
      "image/png": "[encoded data removed]",
      "text/plain": [
       "<Figure size 720x720 with 1 Axes>"
      ]
     },
     "metadata": {
      "needs_background": "light"
     },
     "output_type": "display_data"
    }
   ],
   "source": [
    "plt.figure(figsize=(10,10))\n",
    "plt.title('R-Squared vs Adjusted R-Squared, 100xRF_NO_BS (75/25 splits)', fontsize=20)\n",
    "plt.ylabel('Range of AdjustedR2 & R-Squared on Test Set', fontsize=17)\n",
    "plt.xlabel('Model', fontsize=17)\n",
    "sns.boxplot(data=R2vAR2)\n",
    "plt.xticks(rotation=25);"
   ]
  },
  {
   "cell_type": "code",
   "execution_count": null,
   "id": "9e2c5a75",
   "metadata": {},
   "outputs": [],
   "source": []
  },
  {
   "cell_type": "code",
   "execution_count": 9,
   "id": "bef551bd",
   "metadata": {},
   "outputs": [
    {
     "name": "stdout",
     "output_type": "stream",
     "text": [
      "Number of times results produced Negative R2: 0\n",
      "Number of times results produced Negative Adjusted R2: 0\n"
     ]
    }
   ],
   "source": [
    "print(\"Number of times results produced Negative R2: \" + str((len(NegativeR2))))\n",
    "print(\"Number of times results produced Negative Adjusted R2: \" + str((len(NegativeAR2))))"
   ]
  },
  {
   "cell_type": "code",
   "execution_count": null,
   "id": "d52b20d0",
   "metadata": {},
   "outputs": [],
   "source": []
  },
  {
   "cell_type": "code",
   "execution_count": 10,
   "id": "87385177",
   "metadata": {},
   "outputs": [],
   "source": [
    "#df = pd.DataFrame(Positive, columns=['RF No Bootstrap'])\n",
    "R2vAR2.to_csv('RF_NO_BS_R2vAR2.csv', index=False)"
   ]
  },
  {
   "cell_type": "code",
   "execution_count": null,
   "id": "b183dde5",
   "metadata": {},
   "outputs": [],
   "source": []
  },
  {
   "cell_type": "code",
   "execution_count": 11,
   "id": "c625a0db",
   "metadata": {},
   "outputs": [],
   "source": [
    "R2vAR2['Difference'] = R2vAR2['R_Squared'] - R2vAR2['Adjusted_R2']"
   ]
  },
  {
   "cell_type": "code",
   "execution_count": 12,
   "id": "9d9f387e",
   "metadata": {},
   "outputs": [
    {
     "data": {
      "text/html": [
       "<div>\n",
       "<style scoped>\n",
       "    .dataframe tbody tr th:only-of-type {\n",
       "        vertical-align: middle;\n",
       "    }\n",
       "\n",
       "    .dataframe tbody tr th {\n",
       "        vertical-align: top;\n",
       "    }\n",
       "\n",
       "    .dataframe thead th {\n",
       "        text-align: right;\n",
       "    }\n",
       "</style>\n",
       "<table border=\"1\" class=\"dataframe\">\n",
       "  <thead>\n",
       "    <tr style=\"text-align: right;\">\n",
       "      <th></th>\n",
       "      <th>R_Squared</th>\n",
       "      <th>Adjusted_R2</th>\n",
       "      <th>Difference</th>\n",
       "    </tr>\n",
       "  </thead>\n",
       "  <tbody>\n",
       "    <tr>\n",
       "      <th>0</th>\n",
       "      <td>0.731755</td>\n",
       "      <td>0.722946</td>\n",
       "      <td>0.008809</td>\n",
       "    </tr>\n",
       "    <tr>\n",
       "      <th>1</th>\n",
       "      <td>0.806488</td>\n",
       "      <td>0.800133</td>\n",
       "      <td>0.006355</td>\n",
       "    </tr>\n",
       "    <tr>\n",
       "      <th>2</th>\n",
       "      <td>0.829454</td>\n",
       "      <td>0.823853</td>\n",
       "      <td>0.005601</td>\n",
       "    </tr>\n",
       "    <tr>\n",
       "      <th>3</th>\n",
       "      <td>0.800150</td>\n",
       "      <td>0.793587</td>\n",
       "      <td>0.006563</td>\n",
       "    </tr>\n",
       "    <tr>\n",
       "      <th>4</th>\n",
       "      <td>0.782843</td>\n",
       "      <td>0.775712</td>\n",
       "      <td>0.007131</td>\n",
       "    </tr>\n",
       "    <tr>\n",
       "      <th>...</th>\n",
       "      <td>...</td>\n",
       "      <td>...</td>\n",
       "      <td>...</td>\n",
       "    </tr>\n",
       "    <tr>\n",
       "      <th>95</th>\n",
       "      <td>0.746874</td>\n",
       "      <td>0.738561</td>\n",
       "      <td>0.008313</td>\n",
       "    </tr>\n",
       "    <tr>\n",
       "      <th>96</th>\n",
       "      <td>0.779073</td>\n",
       "      <td>0.771818</td>\n",
       "      <td>0.007255</td>\n",
       "    </tr>\n",
       "    <tr>\n",
       "      <th>97</th>\n",
       "      <td>0.792164</td>\n",
       "      <td>0.785338</td>\n",
       "      <td>0.006825</td>\n",
       "    </tr>\n",
       "    <tr>\n",
       "      <th>98</th>\n",
       "      <td>0.763078</td>\n",
       "      <td>0.755298</td>\n",
       "      <td>0.007780</td>\n",
       "    </tr>\n",
       "    <tr>\n",
       "      <th>99</th>\n",
       "      <td>0.777356</td>\n",
       "      <td>0.770045</td>\n",
       "      <td>0.007311</td>\n",
       "    </tr>\n",
       "  </tbody>\n",
       "</table>\n",
       "<p>100 rows × 3 columns</p>\n",
       "</div>"
      ],
      "text/plain": [
       "    R_Squared  Adjusted_R2  Difference\n",
       "0    0.731755     0.722946    0.008809\n",
       "1    0.806488     0.800133    0.006355\n",
       "2    0.829454     0.823853    0.005601\n",
       "3    0.800150     0.793587    0.006563\n",
       "4    0.782843     0.775712    0.007131\n",
       "..        ...          ...         ...\n",
       "95   0.746874     0.738561    0.008313\n",
       "96   0.779073     0.771818    0.007255\n",
       "97   0.792164     0.785338    0.006825\n",
       "98   0.763078     0.755298    0.007780\n",
       "99   0.777356     0.770045    0.007311\n",
       "\n",
       "[100 rows x 3 columns]"
      ]
     },
     "execution_count": 12,
     "metadata": {},
     "output_type": "execute_result"
    }
   ],
   "source": [
    "R2vAR2"
   ]
  },
  {
   "cell_type": "code",
   "execution_count": 13,
   "id": "898ed525",
   "metadata": {},
   "outputs": [
    {
     "data": {
      "text/plain": [
       "0.007076574641537678"
      ]
     },
     "execution_count": 13,
     "metadata": {},
     "output_type": "execute_result"
    }
   ],
   "source": [
    "R2vAR2.Difference.mean()"
   ]
  },
  {
   "cell_type": "code",
   "execution_count": null,
   "id": "4f95dde6",
   "metadata": {},
   "outputs": [],
   "source": []
  },
  {
   "cell_type": "code",
   "execution_count": 14,
   "id": "4776e4d1",
   "metadata": {},
   "outputs": [
    {
     "data": {
      "text/html": [
       "<div>\n",
       "<style scoped>\n",
       "    .dataframe tbody tr th:only-of-type {\n",
       "        vertical-align: middle;\n",
       "    }\n",
       "\n",
       "    .dataframe tbody tr th {\n",
       "        vertical-align: top;\n",
       "    }\n",
       "\n",
       "    .dataframe thead th {\n",
       "        text-align: right;\n",
       "    }\n",
       "</style>\n",
       "<table border=\"1\" class=\"dataframe\">\n",
       "  <thead>\n",
       "    <tr style=\"text-align: right;\">\n",
       "      <th></th>\n",
       "      <th>R_Squared</th>\n",
       "      <th>Adjusted_R2</th>\n",
       "      <th>Difference</th>\n",
       "    </tr>\n",
       "  </thead>\n",
       "  <tbody>\n",
       "    <tr>\n",
       "      <th>count</th>\n",
       "      <td>100.000000</td>\n",
       "      <td>100.000000</td>\n",
       "      <td>100.000000</td>\n",
       "    </tr>\n",
       "    <tr>\n",
       "      <th>mean</th>\n",
       "      <td>0.784510</td>\n",
       "      <td>0.777433</td>\n",
       "      <td>0.007077</td>\n",
       "    </tr>\n",
       "    <tr>\n",
       "      <th>std</th>\n",
       "      <td>0.033129</td>\n",
       "      <td>0.034217</td>\n",
       "      <td>0.001088</td>\n",
       "    </tr>\n",
       "    <tr>\n",
       "      <th>min</th>\n",
       "      <td>0.685163</td>\n",
       "      <td>0.674824</td>\n",
       "      <td>0.005057</td>\n",
       "    </tr>\n",
       "    <tr>\n",
       "      <th>25%</th>\n",
       "      <td>0.770332</td>\n",
       "      <td>0.762790</td>\n",
       "      <td>0.006290</td>\n",
       "    </tr>\n",
       "    <tr>\n",
       "      <th>50%</th>\n",
       "      <td>0.791401</td>\n",
       "      <td>0.784550</td>\n",
       "      <td>0.006850</td>\n",
       "    </tr>\n",
       "    <tr>\n",
       "      <th>75%</th>\n",
       "      <td>0.808458</td>\n",
       "      <td>0.802168</td>\n",
       "      <td>0.007542</td>\n",
       "    </tr>\n",
       "    <tr>\n",
       "      <th>max</th>\n",
       "      <td>0.846013</td>\n",
       "      <td>0.840956</td>\n",
       "      <td>0.010339</td>\n",
       "    </tr>\n",
       "  </tbody>\n",
       "</table>\n",
       "</div>"
      ],
      "text/plain": [
       "        R_Squared  Adjusted_R2  Difference\n",
       "count  100.000000   100.000000  100.000000\n",
       "mean     0.784510     0.777433    0.007077\n",
       "std      0.033129     0.034217    0.001088\n",
       "min      0.685163     0.674824    0.005057\n",
       "25%      0.770332     0.762790    0.006290\n",
       "50%      0.791401     0.784550    0.006850\n",
       "75%      0.808458     0.802168    0.007542\n",
       "max      0.846013     0.840956    0.010339"
      ]
     },
     "execution_count": 14,
     "metadata": {},
     "output_type": "execute_result"
    }
   ],
   "source": [
    "R2vAR2.describe()"
   ]
  },
  {
   "cell_type": "code",
   "execution_count": null,
   "id": "79330187",
   "metadata": {},
   "outputs": [],
   "source": []
  }
 ],
 "metadata": {
  "hide_input": false,
  "kernelspec": {
   "display_name": "Python 3 (ipykernel)",
   "language": "python",
   "name": "python3"
  },
  "language_info": {
   "codemirror_mode": {
    "name": "ipython",
    "version": 3
   },
   "file_extension": ".py",
   "mimetype": "text/x-python",
   "name": "python",
   "nbconvert_exporter": "python",
   "pygments_lexer": "ipython3",
   "version": "3.8.8"
  },
  "varInspector": {
   "cols": {
    "lenName": 16,
    "lenType": 16,
    "lenVar": 40
   },
   "kernels_config": {
    "python": {
     "delete_cmd_postfix": "",
     "delete_cmd_prefix": "del ",
     "library": "var_list.py",
     "varRefreshCmd": "print(var_dic_list())"
    },
    "r": {
     "delete_cmd_postfix": ") ",
     "delete_cmd_prefix": "rm(",
     "library": "var_list.r",
     "varRefreshCmd": "cat(var_dic_list()) "
    }
   },
   "types_to_exclude": [
    "module",
    "function",
    "builtin_function_or_method",
    "instance",
    "_Feature"
   ],
   "window_display": false
  }
 },
 "nbformat": 4,
 "nbformat_minor": 5
}
