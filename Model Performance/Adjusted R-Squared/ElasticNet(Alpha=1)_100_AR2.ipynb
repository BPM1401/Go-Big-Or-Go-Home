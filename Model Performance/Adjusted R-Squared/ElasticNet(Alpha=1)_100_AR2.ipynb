{
 "cells": [
  {
   "cell_type": "code",
   "execution_count": 2,
   "id": "0736e78d",
   "metadata": {},
   "outputs": [],
   "source": [
    "import numpy as np\n",
    "import pandas as pd\n",
    "pd.set_option(\"display.max_columns\", 300)\n",
    "pd.set_option(\"max_colwidth\", 200)\n",
    "\n",
    "from sklearn.linear_model import LinearRegression\n",
    "from sklearn.linear_model import HuberRegressor\n",
    "from sklearn.linear_model import Ridge\n",
    "from sklearn.linear_model import RidgeCV\n",
    "from sklearn.linear_model import Lasso\n",
    "from sklearn.linear_model import LassoCV\n",
    "from sklearn.linear_model import ElasticNet\n",
    "from numpy import arange\n",
    "from sklearn.model_selection import GridSearchCV\n",
    "from sklearn.ensemble import RandomForestRegressor\n",
    "from sklearn.ensemble import GradientBoostingRegressor\n",
    "from xgboost import XGBRegressor\n",
    "\n",
    "from sklearn import preprocessing\n",
    "\n",
    "from sklearn.metrics import mean_squared_error, r2_score\n",
    "from sklearn.feature_selection import SequentialFeatureSelector\n",
    "\n",
    "from sklearn.model_selection import train_test_split\n",
    "from sklearn.model_selection import KFold\n",
    "\n",
    "import matplotlib.pyplot as plt\n",
    "import statistics\n",
    "\n",
    "import seaborn as sns"
   ]
  },
  {
   "cell_type": "code",
   "execution_count": 3,
   "id": "ed83dd6c",
   "metadata": {},
   "outputs": [],
   "source": [
    "base = pd.read_csv('../../Data/BaseData.csv')"
   ]
  },
  {
   "cell_type": "code",
   "execution_count": 4,
   "id": "4254071b",
   "metadata": {},
   "outputs": [],
   "source": [
    "X = base.drop(['SalePrice'], axis=1).values\n",
    "y = base.SalePrice.values"
   ]
  },
  {
   "cell_type": "code",
   "execution_count": 5,
   "id": "bad86837",
   "metadata": {},
   "outputs": [
    {
     "data": {
      "text/plain": [
       "2580"
      ]
     },
     "execution_count": 5,
     "metadata": {},
     "output_type": "execute_result"
    }
   ],
   "source": [
    "len(y)"
   ]
  },
  {
   "cell_type": "code",
   "execution_count": 6,
   "id": "c615a51b",
   "metadata": {},
   "outputs": [
    {
     "data": {
      "text/plain": [
       "(2580, 298)"
      ]
     },
     "execution_count": 6,
     "metadata": {},
     "output_type": "execute_result"
    }
   ],
   "source": [
    "X.shape"
   ]
  },
  {
   "cell_type": "code",
   "execution_count": 7,
   "id": "69608f38",
   "metadata": {},
   "outputs": [
    {
     "data": {
      "text/plain": [
       "298"
      ]
     },
     "execution_count": 7,
     "metadata": {},
     "output_type": "execute_result"
    }
   ],
   "source": [
    "X.shape[1]"
   ]
  },
  {
   "cell_type": "code",
   "execution_count": null,
   "id": "06fb1d72",
   "metadata": {},
   "outputs": [],
   "source": []
  },
  {
   "cell_type": "code",
   "execution_count": 8,
   "id": "c032c757",
   "metadata": {},
   "outputs": [],
   "source": [
    "Scores = []\n",
    "AdjR2 = []\n",
    "\n",
    "for i in range(100):\n",
    "    \n",
    "    X_train, X_test, Y_train, Y_test = train_test_split(X,y,test_size=0.25)\n",
    "    \n",
    "    scaler = preprocessing.StandardScaler().fit(X_train)\n",
    "    X_train_scaled = scaler.transform(X_train)\n",
    "    X_test_scaled = scaler.transform(X_test)\n",
    "\n",
    "    elastic = ElasticNet(alpha=1, l1_ratio=0.5)\n",
    "    elastic.fit(X_train_scaled,Y_train)\n",
    "    Elastic_Score = elastic.score(X_test_scaled, Y_test)\n",
    "    \n",
    "    Scores.append(Elastic_Score)\n",
    "    \n",
    "    Adj_r2 = 1 - (1-Elastic_Score) * (len(y)-1)/(len(y)-X.shape[1]-1)\n",
    "    AdjR2.append(Adj_r2)\n",
    "    "
   ]
  },
  {
   "cell_type": "code",
   "execution_count": 9,
   "id": "97be51e8",
   "metadata": {},
   "outputs": [],
   "source": [
    "PositiveR2 = []\n",
    "NegativeR2 = []\n",
    "\n",
    "for i in Scores:\n",
    "    if i < 0:\n",
    "        NegativeR2.append(i)\n",
    "    else:\n",
    "        PositiveR2.append(i)"
   ]
  },
  {
   "cell_type": "code",
   "execution_count": 10,
   "id": "d329e1ce",
   "metadata": {},
   "outputs": [],
   "source": [
    "PositiveAR2 = []\n",
    "NegativeAR2 = []\n",
    "\n",
    "for i in AdjR2:\n",
    "    if i < 0:\n",
    "        NegativeAR2.append(i)\n",
    "    else:\n",
    "        PositiveAR2.append(i)"
   ]
  },
  {
   "cell_type": "code",
   "execution_count": 11,
   "id": "77a10d49",
   "metadata": {},
   "outputs": [],
   "source": [
    "R2 = pd.DataFrame(PositiveR2, columns=['R_Squared'])\n",
    "AR2 = pd.DataFrame(PositiveAR2, columns=['Adjusted_R2'])\n",
    "R2vAR2 = pd.concat([R2, AR2], axis=1)"
   ]
  },
  {
   "cell_type": "code",
   "execution_count": 12,
   "id": "196fff60",
   "metadata": {},
   "outputs": [
    {
     "data": {
      "text/html": [
       "<div>\n",
       "<style scoped>\n",
       "    .dataframe tbody tr th:only-of-type {\n",
       "        vertical-align: middle;\n",
       "    }\n",
       "\n",
       "    .dataframe tbody tr th {\n",
       "        vertical-align: top;\n",
       "    }\n",
       "\n",
       "    .dataframe thead th {\n",
       "        text-align: right;\n",
       "    }\n",
       "</style>\n",
       "<table border=\"1\" class=\"dataframe\">\n",
       "  <thead>\n",
       "    <tr style=\"text-align: right;\">\n",
       "      <th></th>\n",
       "      <th>R_Squared</th>\n",
       "      <th>Adjusted_R2</th>\n",
       "    </tr>\n",
       "  </thead>\n",
       "  <tbody>\n",
       "    <tr>\n",
       "      <th>0</th>\n",
       "      <td>0.897096</td>\n",
       "      <td>0.883652</td>\n",
       "    </tr>\n",
       "    <tr>\n",
       "      <th>1</th>\n",
       "      <td>0.878239</td>\n",
       "      <td>0.862332</td>\n",
       "    </tr>\n",
       "    <tr>\n",
       "      <th>2</th>\n",
       "      <td>0.863603</td>\n",
       "      <td>0.845784</td>\n",
       "    </tr>\n",
       "    <tr>\n",
       "      <th>3</th>\n",
       "      <td>0.862325</td>\n",
       "      <td>0.844339</td>\n",
       "    </tr>\n",
       "    <tr>\n",
       "      <th>4</th>\n",
       "      <td>0.904136</td>\n",
       "      <td>0.891612</td>\n",
       "    </tr>\n",
       "    <tr>\n",
       "      <th>...</th>\n",
       "      <td>...</td>\n",
       "      <td>...</td>\n",
       "    </tr>\n",
       "    <tr>\n",
       "      <th>95</th>\n",
       "      <td>0.869381</td>\n",
       "      <td>0.852316</td>\n",
       "    </tr>\n",
       "    <tr>\n",
       "      <th>96</th>\n",
       "      <td>0.896538</td>\n",
       "      <td>0.883021</td>\n",
       "    </tr>\n",
       "    <tr>\n",
       "      <th>97</th>\n",
       "      <td>0.922960</td>\n",
       "      <td>0.912895</td>\n",
       "    </tr>\n",
       "    <tr>\n",
       "      <th>98</th>\n",
       "      <td>0.896311</td>\n",
       "      <td>0.882765</td>\n",
       "    </tr>\n",
       "    <tr>\n",
       "      <th>99</th>\n",
       "      <td>0.908655</td>\n",
       "      <td>0.896721</td>\n",
       "    </tr>\n",
       "  </tbody>\n",
       "</table>\n",
       "<p>100 rows × 2 columns</p>\n",
       "</div>"
      ],
      "text/plain": [
       "    R_Squared  Adjusted_R2\n",
       "0    0.897096     0.883652\n",
       "1    0.878239     0.862332\n",
       "2    0.863603     0.845784\n",
       "3    0.862325     0.844339\n",
       "4    0.904136     0.891612\n",
       "..        ...          ...\n",
       "95   0.869381     0.852316\n",
       "96   0.896538     0.883021\n",
       "97   0.922960     0.912895\n",
       "98   0.896311     0.882765\n",
       "99   0.908655     0.896721\n",
       "\n",
       "[100 rows x 2 columns]"
      ]
     },
     "execution_count": 12,
     "metadata": {},
     "output_type": "execute_result"
    }
   ],
   "source": [
    "R2vAR2"
   ]
  },
  {
   "cell_type": "code",
   "execution_count": null,
   "id": "39a16c32",
   "metadata": {},
   "outputs": [],
   "source": []
  },
  {
   "cell_type": "code",
   "execution_count": 13,
   "id": "dac3cc25",
   "metadata": {},
   "outputs": [
    {
     "data": {
      "image/png": "[encoded data removed]",
      "text/plain": [
       "<Figure size 720x720 with 1 Axes>"
      ]
     },
     "metadata": {
      "needs_background": "light"
     },
     "output_type": "display_data"
    }
   ],
   "source": [
    "plt.figure(figsize=(10,10))\n",
    "plt.title('R-Squared vs Adjusted R-Squared, 100xElastic(Alpha=1) (75/25 splits)', fontsize=20)\n",
    "plt.ylabel('Range of AdjustedR2 & R-Squared on Test Set', fontsize=17)\n",
    "plt.xlabel('Model', fontsize=17)\n",
    "sns.boxplot(data=R2vAR2)\n",
    "plt.xticks(rotation=25);"
   ]
  },
  {
   "cell_type": "code",
   "execution_count": null,
   "id": "cb2836ef",
   "metadata": {},
   "outputs": [],
   "source": []
  },
  {
   "cell_type": "code",
   "execution_count": 14,
   "id": "f5e0bad2",
   "metadata": {},
   "outputs": [
    {
     "name": "stdout",
     "output_type": "stream",
     "text": [
      "Number of times results produced Negative R2: 0\n",
      "Number of times results produced Negative Adjusted R2: 0\n"
     ]
    }
   ],
   "source": [
    "print(\"Number of times results produced Negative R2: \" + str((len(NegativeR2))))\n",
    "print(\"Number of times results produced Negative Adjusted R2: \" + str((len(NegativeAR2))))"
   ]
  },
  {
   "cell_type": "code",
   "execution_count": null,
   "id": "7a69232b",
   "metadata": {},
   "outputs": [],
   "source": []
  },
  {
   "cell_type": "code",
   "execution_count": 16,
   "id": "f0f096fd",
   "metadata": {},
   "outputs": [],
   "source": [
    "#df = pd.DataFrame(Positive, columns=['ElasticNet(A=1)'])\n",
    "R2vAR2.to_csv('EN_R2vAR2.csv', index=False)"
   ]
  },
  {
   "cell_type": "code",
   "execution_count": null,
   "id": "beee0bae",
   "metadata": {},
   "outputs": [],
   "source": []
  },
  {
   "cell_type": "code",
   "execution_count": 17,
   "id": "712cda60",
   "metadata": {},
   "outputs": [],
   "source": [
    "R2vAR2['Difference'] = R2vAR2['R_Squared'] - R2vAR2['Adjusted_R2']"
   ]
  },
  {
   "cell_type": "code",
   "execution_count": 18,
   "id": "26b3b1cc",
   "metadata": {},
   "outputs": [
    {
     "data": {
      "text/html": [
       "<div>\n",
       "<style scoped>\n",
       "    .dataframe tbody tr th:only-of-type {\n",
       "        vertical-align: middle;\n",
       "    }\n",
       "\n",
       "    .dataframe tbody tr th {\n",
       "        vertical-align: top;\n",
       "    }\n",
       "\n",
       "    .dataframe thead th {\n",
       "        text-align: right;\n",
       "    }\n",
       "</style>\n",
       "<table border=\"1\" class=\"dataframe\">\n",
       "  <thead>\n",
       "    <tr style=\"text-align: right;\">\n",
       "      <th></th>\n",
       "      <th>R_Squared</th>\n",
       "      <th>Adjusted_R2</th>\n",
       "      <th>Difference</th>\n",
       "    </tr>\n",
       "  </thead>\n",
       "  <tbody>\n",
       "    <tr>\n",
       "      <th>0</th>\n",
       "      <td>0.897096</td>\n",
       "      <td>0.883652</td>\n",
       "      <td>0.013444</td>\n",
       "    </tr>\n",
       "    <tr>\n",
       "      <th>1</th>\n",
       "      <td>0.878239</td>\n",
       "      <td>0.862332</td>\n",
       "      <td>0.015907</td>\n",
       "    </tr>\n",
       "    <tr>\n",
       "      <th>2</th>\n",
       "      <td>0.863603</td>\n",
       "      <td>0.845784</td>\n",
       "      <td>0.017819</td>\n",
       "    </tr>\n",
       "    <tr>\n",
       "      <th>3</th>\n",
       "      <td>0.862325</td>\n",
       "      <td>0.844339</td>\n",
       "      <td>0.017986</td>\n",
       "    </tr>\n",
       "    <tr>\n",
       "      <th>4</th>\n",
       "      <td>0.904136</td>\n",
       "      <td>0.891612</td>\n",
       "      <td>0.012524</td>\n",
       "    </tr>\n",
       "    <tr>\n",
       "      <th>...</th>\n",
       "      <td>...</td>\n",
       "      <td>...</td>\n",
       "      <td>...</td>\n",
       "    </tr>\n",
       "    <tr>\n",
       "      <th>95</th>\n",
       "      <td>0.869381</td>\n",
       "      <td>0.852316</td>\n",
       "      <td>0.017065</td>\n",
       "    </tr>\n",
       "    <tr>\n",
       "      <th>96</th>\n",
       "      <td>0.896538</td>\n",
       "      <td>0.883021</td>\n",
       "      <td>0.013517</td>\n",
       "    </tr>\n",
       "    <tr>\n",
       "      <th>97</th>\n",
       "      <td>0.922960</td>\n",
       "      <td>0.912895</td>\n",
       "      <td>0.010065</td>\n",
       "    </tr>\n",
       "    <tr>\n",
       "      <th>98</th>\n",
       "      <td>0.896311</td>\n",
       "      <td>0.882765</td>\n",
       "      <td>0.013546</td>\n",
       "    </tr>\n",
       "    <tr>\n",
       "      <th>99</th>\n",
       "      <td>0.908655</td>\n",
       "      <td>0.896721</td>\n",
       "      <td>0.011934</td>\n",
       "    </tr>\n",
       "  </tbody>\n",
       "</table>\n",
       "<p>100 rows × 3 columns</p>\n",
       "</div>"
      ],
      "text/plain": [
       "    R_Squared  Adjusted_R2  Difference\n",
       "0    0.897096     0.883652    0.013444\n",
       "1    0.878239     0.862332    0.015907\n",
       "2    0.863603     0.845784    0.017819\n",
       "3    0.862325     0.844339    0.017986\n",
       "4    0.904136     0.891612    0.012524\n",
       "..        ...          ...         ...\n",
       "95   0.869381     0.852316    0.017065\n",
       "96   0.896538     0.883021    0.013517\n",
       "97   0.922960     0.912895    0.010065\n",
       "98   0.896311     0.882765    0.013546\n",
       "99   0.908655     0.896721    0.011934\n",
       "\n",
       "[100 rows x 3 columns]"
      ]
     },
     "execution_count": 18,
     "metadata": {},
     "output_type": "execute_result"
    }
   ],
   "source": [
    "R2vAR2"
   ]
  },
  {
   "cell_type": "code",
   "execution_count": 19,
   "id": "56848c23",
   "metadata": {},
   "outputs": [
    {
     "data": {
      "text/plain": [
       "0.014869163718736271"
      ]
     },
     "execution_count": 19,
     "metadata": {},
     "output_type": "execute_result"
    }
   ],
   "source": [
    "R2vAR2.Difference.mean()"
   ]
  },
  {
   "cell_type": "code",
   "execution_count": null,
   "id": "38353825",
   "metadata": {},
   "outputs": [],
   "source": []
  },
  {
   "cell_type": "code",
   "execution_count": 20,
   "id": "45cb6614",
   "metadata": {},
   "outputs": [
    {
     "data": {
      "text/html": [
       "<div>\n",
       "<style scoped>\n",
       "    .dataframe tbody tr th:only-of-type {\n",
       "        vertical-align: middle;\n",
       "    }\n",
       "\n",
       "    .dataframe tbody tr th {\n",
       "        vertical-align: top;\n",
       "    }\n",
       "\n",
       "    .dataframe thead th {\n",
       "        text-align: right;\n",
       "    }\n",
       "</style>\n",
       "<table border=\"1\" class=\"dataframe\">\n",
       "  <thead>\n",
       "    <tr style=\"text-align: right;\">\n",
       "      <th></th>\n",
       "      <th>R_Squared</th>\n",
       "      <th>Adjusted_R2</th>\n",
       "      <th>Difference</th>\n",
       "    </tr>\n",
       "  </thead>\n",
       "  <tbody>\n",
       "    <tr>\n",
       "      <th>count</th>\n",
       "      <td>100.000000</td>\n",
       "      <td>100.000000</td>\n",
       "      <td>100.000000</td>\n",
       "    </tr>\n",
       "    <tr>\n",
       "      <th>mean</th>\n",
       "      <td>0.886186</td>\n",
       "      <td>0.871317</td>\n",
       "      <td>0.014869</td>\n",
       "    </tr>\n",
       "    <tr>\n",
       "      <th>std</th>\n",
       "      <td>0.021925</td>\n",
       "      <td>0.024790</td>\n",
       "      <td>0.002864</td>\n",
       "    </tr>\n",
       "    <tr>\n",
       "      <th>min</th>\n",
       "      <td>0.838790</td>\n",
       "      <td>0.817729</td>\n",
       "      <td>0.009666</td>\n",
       "    </tr>\n",
       "    <tr>\n",
       "      <th>25%</th>\n",
       "      <td>0.867408</td>\n",
       "      <td>0.850086</td>\n",
       "      <td>0.012498</td>\n",
       "    </tr>\n",
       "    <tr>\n",
       "      <th>50%</th>\n",
       "      <td>0.892104</td>\n",
       "      <td>0.878008</td>\n",
       "      <td>0.014096</td>\n",
       "    </tr>\n",
       "    <tr>\n",
       "      <th>75%</th>\n",
       "      <td>0.904339</td>\n",
       "      <td>0.891841</td>\n",
       "      <td>0.017322</td>\n",
       "    </tr>\n",
       "    <tr>\n",
       "      <th>max</th>\n",
       "      <td>0.926016</td>\n",
       "      <td>0.916351</td>\n",
       "      <td>0.021061</td>\n",
       "    </tr>\n",
       "  </tbody>\n",
       "</table>\n",
       "</div>"
      ],
      "text/plain": [
       "        R_Squared  Adjusted_R2  Difference\n",
       "count  100.000000   100.000000  100.000000\n",
       "mean     0.886186     0.871317    0.014869\n",
       "std      0.021925     0.024790    0.002864\n",
       "min      0.838790     0.817729    0.009666\n",
       "25%      0.867408     0.850086    0.012498\n",
       "50%      0.892104     0.878008    0.014096\n",
       "75%      0.904339     0.891841    0.017322\n",
       "max      0.926016     0.916351    0.021061"
      ]
     },
     "execution_count": 20,
     "metadata": {},
     "output_type": "execute_result"
    }
   ],
   "source": [
    "R2vAR2.describe()"
   ]
  }
 ],
 "metadata": {
  "hide_input": false,
  "kernelspec": {
   "display_name": "Python 3 (ipykernel)",
   "language": "python",
   "name": "python3"
  },
  "language_info": {
   "codemirror_mode": {
    "name": "ipython",
    "version": 3
   },
   "file_extension": ".py",
   "mimetype": "text/x-python",
   "name": "python",
   "nbconvert_exporter": "python",
   "pygments_lexer": "ipython3",
   "version": "3.8.8"
  },
  "varInspector": {
   "cols": {
    "lenName": 16,
    "lenType": 16,
    "lenVar": 40
   },
   "kernels_config": {
    "python": {
     "delete_cmd_postfix": "",
     "delete_cmd_prefix": "del ",
     "library": "var_list.py",
     "varRefreshCmd": "print(var_dic_list())"
    },
    "r": {
     "delete_cmd_postfix": ") ",
     "delete_cmd_prefix": "rm(",
     "library": "var_list.r",
     "varRefreshCmd": "cat(var_dic_list()) "
    }
   },
   "types_to_exclude": [
    "module",
    "function",
    "builtin_function_or_method",
    "instance",
    "_Feature"
   ],
   "window_display": false
  }
 },
 "nbformat": 4,
 "nbformat_minor": 5
}
