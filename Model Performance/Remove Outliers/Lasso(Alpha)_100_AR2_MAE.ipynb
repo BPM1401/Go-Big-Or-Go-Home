{
 "cells": [
  {
   "cell_type": "code",
   "execution_count": 1,
   "id": "74c718ad",
   "metadata": {},
   "outputs": [],
   "source": [
    "import numpy as np\n",
    "import pandas as pd\n",
    "pd.set_option(\"display.max_columns\", 300)\n",
    "pd.set_option(\"max_colwidth\", 200)\n",
    "\n",
    "from sklearn.linear_model import LinearRegression\n",
    "from sklearn.linear_model import HuberRegressor\n",
    "from sklearn.linear_model import Ridge\n",
    "from sklearn.linear_model import RidgeCV\n",
    "from sklearn.linear_model import Lasso\n",
    "from sklearn.linear_model import LassoCV\n",
    "from sklearn.linear_model import ElasticNet\n",
    "from numpy import arange\n",
    "from sklearn.model_selection import GridSearchCV\n",
    "from sklearn.ensemble import RandomForestRegressor\n",
    "from sklearn.ensemble import GradientBoostingRegressor\n",
    "from xgboost import XGBRegressor\n",
    "\n",
    "from sklearn import preprocessing\n",
    "\n",
    "from sklearn.metrics import mean_squared_error, r2_score, mean_absolute_error\n",
    "from sklearn.feature_selection import SequentialFeatureSelector\n",
    "\n",
    "from sklearn.model_selection import train_test_split\n",
    "from sklearn.model_selection import KFold\n",
    "\n",
    "import matplotlib.pyplot as plt\n",
    "import statistics\n",
    "\n",
    "import seaborn as sns"
   ]
  },
  {
   "cell_type": "code",
   "execution_count": 2,
   "id": "84457454",
   "metadata": {},
   "outputs": [],
   "source": [
    "base = pd.read_csv('../../Data/BaseData.csv')"
   ]
  },
  {
   "cell_type": "code",
   "execution_count": 3,
   "id": "31961d27",
   "metadata": {},
   "outputs": [],
   "source": [
    "X = base.drop(['SalePrice'], axis=1).values\n",
    "y = base.SalePrice.values"
   ]
  },
  {
   "cell_type": "code",
   "execution_count": 4,
   "id": "f33127fa",
   "metadata": {},
   "outputs": [
    {
     "data": {
      "text/plain": [
       "2580"
      ]
     },
     "execution_count": 4,
     "metadata": {},
     "output_type": "execute_result"
    }
   ],
   "source": [
    "len(y)"
   ]
  },
  {
   "cell_type": "code",
   "execution_count": 5,
   "id": "d2fd337f",
   "metadata": {},
   "outputs": [
    {
     "data": {
      "text/plain": [
       "(2580, 298)"
      ]
     },
     "execution_count": 5,
     "metadata": {},
     "output_type": "execute_result"
    }
   ],
   "source": [
    "X.shape"
   ]
  },
  {
   "cell_type": "code",
   "execution_count": 6,
   "id": "2c0407d3",
   "metadata": {},
   "outputs": [
    {
     "data": {
      "text/plain": [
       "298"
      ]
     },
     "execution_count": 6,
     "metadata": {},
     "output_type": "execute_result"
    }
   ],
   "source": [
    "X.shape[1]"
   ]
  },
  {
   "cell_type": "code",
   "execution_count": 8,
   "id": "d6e834d4",
   "metadata": {},
   "outputs": [],
   "source": [
    "AR2_Base = []\n",
    "MAE_Base = []\n",
    "\n",
    "Lasso_Alphas = []\n",
    "alphas = 10**np.linspace(10,-2,100)*0.5\n",
    "\n",
    "for i in range(100):\n",
    "    \n",
    "    X_train, X_test, Y_train, Y_test = train_test_split(X,y,test_size=0.25)\n",
    "    \n",
    "    scaler = preprocessing.StandardScaler().fit(X_train)\n",
    "    X_train_scaled = scaler.transform(X_train)\n",
    "    X_test_scaled = scaler.transform(X_test)\n",
    "    \n",
    "    lassocv= LassoCV(alphas=alphas, cv=2, max_iter=100000)\n",
    "    lassocv.fit(X_train_scaled, Y_train)\n",
    "    \n",
    "    lasso_best_alpha = Lasso(alpha=round(lassocv.alpha_,2))\n",
    "    lasso_best_alpha.fit(X_train_scaled, Y_train)\n",
    "    Lasso_A_Score = lasso_best_alpha.score(X_test_scaled, Y_test)\n",
    "    \n",
    "    pred = lasso_best_alpha.predict(X_test_scaled)\n",
    "    \n",
    "    Adj_r2 = 1 - (1-Lasso_A_Score) * (len(y)-1)/(len(y)-X.shape[1]-1)\n",
    "    AR2_Base.append(Adj_r2)\n",
    "    \n",
    "    Lasso_Alphas.append(lassocv.alpha_)\n",
    "    \n",
    "    mae = mean_absolute_error(Y_test, pred)\n",
    "    MAE_Base.append(mae)    "
   ]
  },
  {
   "cell_type": "code",
   "execution_count": 9,
   "id": "49c0205b",
   "metadata": {},
   "outputs": [
    {
     "data": {
      "text/html": [
       "<div>\n",
       "<style scoped>\n",
       "    .dataframe tbody tr th:only-of-type {\n",
       "        vertical-align: middle;\n",
       "    }\n",
       "\n",
       "    .dataframe tbody tr th {\n",
       "        vertical-align: top;\n",
       "    }\n",
       "\n",
       "    .dataframe thead th {\n",
       "        text-align: right;\n",
       "    }\n",
       "</style>\n",
       "<table border=\"1\" class=\"dataframe\">\n",
       "  <thead>\n",
       "    <tr style=\"text-align: right;\">\n",
       "      <th></th>\n",
       "      <th>AR2_Base</th>\n",
       "      <th>MAE_Base</th>\n",
       "    </tr>\n",
       "  </thead>\n",
       "  <tbody>\n",
       "    <tr>\n",
       "      <th>0</th>\n",
       "      <td>0.901874</td>\n",
       "      <td>13868.371424</td>\n",
       "    </tr>\n",
       "    <tr>\n",
       "      <th>1</th>\n",
       "      <td>0.857328</td>\n",
       "      <td>14614.531508</td>\n",
       "    </tr>\n",
       "    <tr>\n",
       "      <th>2</th>\n",
       "      <td>0.867419</td>\n",
       "      <td>14555.501774</td>\n",
       "    </tr>\n",
       "    <tr>\n",
       "      <th>3</th>\n",
       "      <td>0.914986</td>\n",
       "      <td>13985.764532</td>\n",
       "    </tr>\n",
       "    <tr>\n",
       "      <th>4</th>\n",
       "      <td>0.788610</td>\n",
       "      <td>14897.708055</td>\n",
       "    </tr>\n",
       "    <tr>\n",
       "      <th>...</th>\n",
       "      <td>...</td>\n",
       "      <td>...</td>\n",
       "    </tr>\n",
       "    <tr>\n",
       "      <th>95</th>\n",
       "      <td>0.904494</td>\n",
       "      <td>14218.512637</td>\n",
       "    </tr>\n",
       "    <tr>\n",
       "      <th>96</th>\n",
       "      <td>0.850400</td>\n",
       "      <td>14469.145918</td>\n",
       "    </tr>\n",
       "    <tr>\n",
       "      <th>97</th>\n",
       "      <td>0.916918</td>\n",
       "      <td>13537.202422</td>\n",
       "    </tr>\n",
       "    <tr>\n",
       "      <th>98</th>\n",
       "      <td>0.885929</td>\n",
       "      <td>15165.781314</td>\n",
       "    </tr>\n",
       "    <tr>\n",
       "      <th>99</th>\n",
       "      <td>0.917909</td>\n",
       "      <td>13713.413749</td>\n",
       "    </tr>\n",
       "  </tbody>\n",
       "</table>\n",
       "<p>100 rows × 2 columns</p>\n",
       "</div>"
      ],
      "text/plain": [
       "    AR2_Base      MAE_Base\n",
       "0   0.901874  13868.371424\n",
       "1   0.857328  14614.531508\n",
       "2   0.867419  14555.501774\n",
       "3   0.914986  13985.764532\n",
       "4   0.788610  14897.708055\n",
       "..       ...           ...\n",
       "95  0.904494  14218.512637\n",
       "96  0.850400  14469.145918\n",
       "97  0.916918  13537.202422\n",
       "98  0.885929  15165.781314\n",
       "99  0.917909  13713.413749\n",
       "\n",
       "[100 rows x 2 columns]"
      ]
     },
     "execution_count": 9,
     "metadata": {},
     "output_type": "execute_result"
    }
   ],
   "source": [
    "Base = pd.DataFrame({'AR2_Base': AR2_Base, 'MAE_Base': MAE_Base})\n",
    "Base"
   ]
  },
  {
   "cell_type": "code",
   "execution_count": null,
   "id": "e277eb49",
   "metadata": {},
   "outputs": [],
   "source": []
  },
  {
   "cell_type": "code",
   "execution_count": 10,
   "id": "3d063412",
   "metadata": {},
   "outputs": [],
   "source": [
    "base_drop1 = pd.read_csv('BaseDrop1.csv')"
   ]
  },
  {
   "cell_type": "code",
   "execution_count": 11,
   "id": "3bdab448",
   "metadata": {},
   "outputs": [
    {
     "data": {
      "text/plain": [
       "(2579, 300)"
      ]
     },
     "execution_count": 11,
     "metadata": {},
     "output_type": "execute_result"
    }
   ],
   "source": [
    "base_drop1.shape"
   ]
  },
  {
   "cell_type": "code",
   "execution_count": 12,
   "id": "7093a28a",
   "metadata": {},
   "outputs": [],
   "source": [
    "X2 = base_drop1.drop(['SalePrice'], axis=1).values\n",
    "y2 = base_drop1.SalePrice.values"
   ]
  },
  {
   "cell_type": "code",
   "execution_count": 13,
   "id": "2bb826b8",
   "metadata": {},
   "outputs": [
    {
     "data": {
      "text/plain": [
       "2579"
      ]
     },
     "execution_count": 13,
     "metadata": {},
     "output_type": "execute_result"
    }
   ],
   "source": [
    "len(y2)"
   ]
  },
  {
   "cell_type": "code",
   "execution_count": 14,
   "id": "2cc1e0a0",
   "metadata": {},
   "outputs": [
    {
     "data": {
      "text/plain": [
       "(2579, 299)"
      ]
     },
     "execution_count": 14,
     "metadata": {},
     "output_type": "execute_result"
    }
   ],
   "source": [
    "X2.shape"
   ]
  },
  {
   "cell_type": "code",
   "execution_count": 15,
   "id": "9c937fde",
   "metadata": {},
   "outputs": [
    {
     "data": {
      "text/plain": [
       "299"
      ]
     },
     "execution_count": 15,
     "metadata": {},
     "output_type": "execute_result"
    }
   ],
   "source": [
    "X2.shape[1]"
   ]
  },
  {
   "cell_type": "code",
   "execution_count": 18,
   "id": "2e488cc4",
   "metadata": {},
   "outputs": [],
   "source": [
    "AR2_Drop1 = []\n",
    "MAE_Drop1 = []\n",
    "\n",
    "Lasso_Alphas = []\n",
    "alphas = 10**np.linspace(10,-2,100)*0.5\n",
    "\n",
    "for i in range(100):\n",
    "    \n",
    "    X_train, X_test, Y_train, Y_test = train_test_split(X2,y2,test_size=0.25)\n",
    "    \n",
    "    scaler = preprocessing.StandardScaler().fit(X_train)\n",
    "    X_train_scaled = scaler.transform(X_train)\n",
    "    X_test_scaled = scaler.transform(X_test)\n",
    "    \n",
    "    lassocv= LassoCV(alphas=alphas, cv=2, max_iter=100000)\n",
    "    lassocv.fit(X_train_scaled, Y_train)\n",
    "    \n",
    "    lasso_best_alpha = Lasso(alpha=round(lassocv.alpha_,2))\n",
    "    lasso_best_alpha.fit(X_train_scaled, Y_train)\n",
    "    Lasso_A_Score = lasso_best_alpha.score(X_test_scaled, Y_test)\n",
    "    \n",
    "    pred = lasso_best_alpha.predict(X_test_scaled)\n",
    "    \n",
    "    Adj_r2 = 1 - (1-Lasso_A_Score) * (len(y)-1)/(len(y)-X.shape[1]-1)\n",
    "    AR2_Drop1.append(Adj_r2)\n",
    "    \n",
    "    Lasso_Alphas.append(lassocv.alpha_)\n",
    "    \n",
    "    mae = mean_absolute_error(Y_test, pred)\n",
    "    MAE_Drop1.append(mae)"
   ]
  },
  {
   "cell_type": "code",
   "execution_count": 19,
   "id": "9436095b",
   "metadata": {},
   "outputs": [
    {
     "data": {
      "text/html": [
       "<div>\n",
       "<style scoped>\n",
       "    .dataframe tbody tr th:only-of-type {\n",
       "        vertical-align: middle;\n",
       "    }\n",
       "\n",
       "    .dataframe tbody tr th {\n",
       "        vertical-align: top;\n",
       "    }\n",
       "\n",
       "    .dataframe thead th {\n",
       "        text-align: right;\n",
       "    }\n",
       "</style>\n",
       "<table border=\"1\" class=\"dataframe\">\n",
       "  <thead>\n",
       "    <tr style=\"text-align: right;\">\n",
       "      <th></th>\n",
       "      <th>AR2_Drop1</th>\n",
       "      <th>MAE_Drop1</th>\n",
       "    </tr>\n",
       "  </thead>\n",
       "  <tbody>\n",
       "    <tr>\n",
       "      <th>0</th>\n",
       "      <td>0.914215</td>\n",
       "      <td>14420.958359</td>\n",
       "    </tr>\n",
       "    <tr>\n",
       "      <th>1</th>\n",
       "      <td>0.900376</td>\n",
       "      <td>14761.403818</td>\n",
       "    </tr>\n",
       "    <tr>\n",
       "      <th>2</th>\n",
       "      <td>0.903634</td>\n",
       "      <td>13977.604613</td>\n",
       "    </tr>\n",
       "    <tr>\n",
       "      <th>3</th>\n",
       "      <td>0.919274</td>\n",
       "      <td>13372.394085</td>\n",
       "    </tr>\n",
       "    <tr>\n",
       "      <th>4</th>\n",
       "      <td>0.899017</td>\n",
       "      <td>14613.696243</td>\n",
       "    </tr>\n",
       "    <tr>\n",
       "      <th>...</th>\n",
       "      <td>...</td>\n",
       "      <td>...</td>\n",
       "    </tr>\n",
       "    <tr>\n",
       "      <th>95</th>\n",
       "      <td>0.922946</td>\n",
       "      <td>13963.753443</td>\n",
       "    </tr>\n",
       "    <tr>\n",
       "      <th>96</th>\n",
       "      <td>0.919089</td>\n",
       "      <td>13015.297781</td>\n",
       "    </tr>\n",
       "    <tr>\n",
       "      <th>97</th>\n",
       "      <td>0.913042</td>\n",
       "      <td>14288.709495</td>\n",
       "    </tr>\n",
       "    <tr>\n",
       "      <th>98</th>\n",
       "      <td>0.913066</td>\n",
       "      <td>14030.113859</td>\n",
       "    </tr>\n",
       "    <tr>\n",
       "      <th>99</th>\n",
       "      <td>0.928358</td>\n",
       "      <td>13186.336714</td>\n",
       "    </tr>\n",
       "  </tbody>\n",
       "</table>\n",
       "<p>100 rows × 2 columns</p>\n",
       "</div>"
      ],
      "text/plain": [
       "    AR2_Drop1     MAE_Drop1\n",
       "0    0.914215  14420.958359\n",
       "1    0.900376  14761.403818\n",
       "2    0.903634  13977.604613\n",
       "3    0.919274  13372.394085\n",
       "4    0.899017  14613.696243\n",
       "..        ...           ...\n",
       "95   0.922946  13963.753443\n",
       "96   0.919089  13015.297781\n",
       "97   0.913042  14288.709495\n",
       "98   0.913066  14030.113859\n",
       "99   0.928358  13186.336714\n",
       "\n",
       "[100 rows x 2 columns]"
      ]
     },
     "execution_count": 19,
     "metadata": {},
     "output_type": "execute_result"
    }
   ],
   "source": [
    "BaseDrop1 = pd.DataFrame({'AR2_Drop1': AR2_Drop1, 'MAE_Drop1': MAE_Drop1})\n",
    "BaseDrop1"
   ]
  },
  {
   "cell_type": "code",
   "execution_count": null,
   "id": "9ddc0ab1",
   "metadata": {},
   "outputs": [],
   "source": []
  },
  {
   "cell_type": "code",
   "execution_count": 20,
   "id": "8031725b",
   "metadata": {},
   "outputs": [],
   "source": [
    "base_drop_IF = pd.read_csv('BaseDropIF.csv')"
   ]
  },
  {
   "cell_type": "code",
   "execution_count": 21,
   "id": "a0fdae44",
   "metadata": {},
   "outputs": [
    {
     "data": {
      "text/plain": [
       "(2567, 299)"
      ]
     },
     "execution_count": 21,
     "metadata": {},
     "output_type": "execute_result"
    }
   ],
   "source": [
    "base_drop_IF.shape"
   ]
  },
  {
   "cell_type": "code",
   "execution_count": 22,
   "id": "87ee1957",
   "metadata": {},
   "outputs": [],
   "source": [
    "X3 = base_drop_IF.drop(['SalePrice'], axis=1).values\n",
    "y3 = base_drop_IF.SalePrice.values"
   ]
  },
  {
   "cell_type": "code",
   "execution_count": 23,
   "id": "ce81647d",
   "metadata": {},
   "outputs": [],
   "source": [
    "AR2_DropIF = []\n",
    "MAE_DropIF = []\n",
    "\n",
    "Lasso_Alphas = []\n",
    "alphas = 10**np.linspace(10,-2,100)*0.5\n",
    "\n",
    "for i in range(100):\n",
    "    \n",
    "    X_train, X_test, Y_train, Y_test = train_test_split(X3,y3,test_size=0.25)\n",
    "    \n",
    "    scaler = preprocessing.StandardScaler().fit(X_train)\n",
    "    X_train_scaled = scaler.transform(X_train)\n",
    "    X_test_scaled = scaler.transform(X_test)\n",
    "    \n",
    "    lassocv= LassoCV(alphas=alphas, cv=2, max_iter=100000)\n",
    "    lassocv.fit(X_train_scaled, Y_train)\n",
    "    \n",
    "    lasso_best_alpha = Lasso(alpha=round(lassocv.alpha_,2))\n",
    "    lasso_best_alpha.fit(X_train_scaled, Y_train)\n",
    "    Lasso_A_Score = lasso_best_alpha.score(X_test_scaled, Y_test)\n",
    "    \n",
    "    pred = lasso_best_alpha.predict(X_test_scaled)\n",
    "    \n",
    "    Adj_r2 = 1 - (1-Lasso_A_Score) * (len(y)-1)/(len(y)-X.shape[1]-1)\n",
    "    AR2_DropIF.append(Adj_r2)\n",
    "    \n",
    "    Lasso_Alphas.append(lassocv.alpha_)\n",
    "    \n",
    "    mae = mean_absolute_error(Y_test, pred)\n",
    "    MAE_DropIF.append(mae)"
   ]
  },
  {
   "cell_type": "code",
   "execution_count": 24,
   "id": "bbf6de8d",
   "metadata": {},
   "outputs": [
    {
     "data": {
      "text/html": [
       "<div>\n",
       "<style scoped>\n",
       "    .dataframe tbody tr th:only-of-type {\n",
       "        vertical-align: middle;\n",
       "    }\n",
       "\n",
       "    .dataframe tbody tr th {\n",
       "        vertical-align: top;\n",
       "    }\n",
       "\n",
       "    .dataframe thead th {\n",
       "        text-align: right;\n",
       "    }\n",
       "</style>\n",
       "<table border=\"1\" class=\"dataframe\">\n",
       "  <thead>\n",
       "    <tr style=\"text-align: right;\">\n",
       "      <th></th>\n",
       "      <th>AR2_DropIF</th>\n",
       "      <th>MAE_DropIF</th>\n",
       "    </tr>\n",
       "  </thead>\n",
       "  <tbody>\n",
       "    <tr>\n",
       "      <th>0</th>\n",
       "      <td>0.924447</td>\n",
       "      <td>12687.714515</td>\n",
       "    </tr>\n",
       "    <tr>\n",
       "      <th>1</th>\n",
       "      <td>0.904134</td>\n",
       "      <td>14890.341096</td>\n",
       "    </tr>\n",
       "    <tr>\n",
       "      <th>2</th>\n",
       "      <td>0.926487</td>\n",
       "      <td>13020.475103</td>\n",
       "    </tr>\n",
       "    <tr>\n",
       "      <th>3</th>\n",
       "      <td>0.900886</td>\n",
       "      <td>13634.444821</td>\n",
       "    </tr>\n",
       "    <tr>\n",
       "      <th>4</th>\n",
       "      <td>0.890103</td>\n",
       "      <td>14749.647349</td>\n",
       "    </tr>\n",
       "    <tr>\n",
       "      <th>...</th>\n",
       "      <td>...</td>\n",
       "      <td>...</td>\n",
       "    </tr>\n",
       "    <tr>\n",
       "      <th>95</th>\n",
       "      <td>0.906774</td>\n",
       "      <td>14537.756483</td>\n",
       "    </tr>\n",
       "    <tr>\n",
       "      <th>96</th>\n",
       "      <td>0.902099</td>\n",
       "      <td>13746.098425</td>\n",
       "    </tr>\n",
       "    <tr>\n",
       "      <th>97</th>\n",
       "      <td>0.906401</td>\n",
       "      <td>13524.768809</td>\n",
       "    </tr>\n",
       "    <tr>\n",
       "      <th>98</th>\n",
       "      <td>0.936427</td>\n",
       "      <td>12936.901402</td>\n",
       "    </tr>\n",
       "    <tr>\n",
       "      <th>99</th>\n",
       "      <td>0.915286</td>\n",
       "      <td>13769.035460</td>\n",
       "    </tr>\n",
       "  </tbody>\n",
       "</table>\n",
       "<p>100 rows × 2 columns</p>\n",
       "</div>"
      ],
      "text/plain": [
       "    AR2_DropIF    MAE_DropIF\n",
       "0     0.924447  12687.714515\n",
       "1     0.904134  14890.341096\n",
       "2     0.926487  13020.475103\n",
       "3     0.900886  13634.444821\n",
       "4     0.890103  14749.647349\n",
       "..         ...           ...\n",
       "95    0.906774  14537.756483\n",
       "96    0.902099  13746.098425\n",
       "97    0.906401  13524.768809\n",
       "98    0.936427  12936.901402\n",
       "99    0.915286  13769.035460\n",
       "\n",
       "[100 rows x 2 columns]"
      ]
     },
     "execution_count": 24,
     "metadata": {},
     "output_type": "execute_result"
    }
   ],
   "source": [
    "BaseDropIF = pd.DataFrame({'AR2_DropIF': AR2_DropIF, 'MAE_DropIF': MAE_DropIF})\n",
    "BaseDropIF"
   ]
  },
  {
   "cell_type": "code",
   "execution_count": null,
   "id": "08b6da7c",
   "metadata": {},
   "outputs": [],
   "source": []
  },
  {
   "cell_type": "code",
   "execution_count": 25,
   "id": "4de2cae0",
   "metadata": {},
   "outputs": [
    {
     "data": {
      "text/html": [
       "<div>\n",
       "<style scoped>\n",
       "    .dataframe tbody tr th:only-of-type {\n",
       "        vertical-align: middle;\n",
       "    }\n",
       "\n",
       "    .dataframe tbody tr th {\n",
       "        vertical-align: top;\n",
       "    }\n",
       "\n",
       "    .dataframe thead th {\n",
       "        text-align: right;\n",
       "    }\n",
       "</style>\n",
       "<table border=\"1\" class=\"dataframe\">\n",
       "  <thead>\n",
       "    <tr style=\"text-align: right;\">\n",
       "      <th></th>\n",
       "      <th>AR2_Base</th>\n",
       "      <th>MAE_Base</th>\n",
       "      <th>AR2_Drop1</th>\n",
       "      <th>MAE_Drop1</th>\n",
       "      <th>AR2_DropIF</th>\n",
       "      <th>MAE_DropIF</th>\n",
       "    </tr>\n",
       "  </thead>\n",
       "  <tbody>\n",
       "    <tr>\n",
       "      <th>0</th>\n",
       "      <td>0.901874</td>\n",
       "      <td>13868.371424</td>\n",
       "      <td>0.914215</td>\n",
       "      <td>14420.958359</td>\n",
       "      <td>0.924447</td>\n",
       "      <td>12687.714515</td>\n",
       "    </tr>\n",
       "    <tr>\n",
       "      <th>1</th>\n",
       "      <td>0.857328</td>\n",
       "      <td>14614.531508</td>\n",
       "      <td>0.900376</td>\n",
       "      <td>14761.403818</td>\n",
       "      <td>0.904134</td>\n",
       "      <td>14890.341096</td>\n",
       "    </tr>\n",
       "    <tr>\n",
       "      <th>2</th>\n",
       "      <td>0.867419</td>\n",
       "      <td>14555.501774</td>\n",
       "      <td>0.903634</td>\n",
       "      <td>13977.604613</td>\n",
       "      <td>0.926487</td>\n",
       "      <td>13020.475103</td>\n",
       "    </tr>\n",
       "    <tr>\n",
       "      <th>3</th>\n",
       "      <td>0.914986</td>\n",
       "      <td>13985.764532</td>\n",
       "      <td>0.919274</td>\n",
       "      <td>13372.394085</td>\n",
       "      <td>0.900886</td>\n",
       "      <td>13634.444821</td>\n",
       "    </tr>\n",
       "    <tr>\n",
       "      <th>4</th>\n",
       "      <td>0.788610</td>\n",
       "      <td>14897.708055</td>\n",
       "      <td>0.899017</td>\n",
       "      <td>14613.696243</td>\n",
       "      <td>0.890103</td>\n",
       "      <td>14749.647349</td>\n",
       "    </tr>\n",
       "    <tr>\n",
       "      <th>...</th>\n",
       "      <td>...</td>\n",
       "      <td>...</td>\n",
       "      <td>...</td>\n",
       "      <td>...</td>\n",
       "      <td>...</td>\n",
       "      <td>...</td>\n",
       "    </tr>\n",
       "    <tr>\n",
       "      <th>95</th>\n",
       "      <td>0.904494</td>\n",
       "      <td>14218.512637</td>\n",
       "      <td>0.922946</td>\n",
       "      <td>13963.753443</td>\n",
       "      <td>0.906774</td>\n",
       "      <td>14537.756483</td>\n",
       "    </tr>\n",
       "    <tr>\n",
       "      <th>96</th>\n",
       "      <td>0.850400</td>\n",
       "      <td>14469.145918</td>\n",
       "      <td>0.919089</td>\n",
       "      <td>13015.297781</td>\n",
       "      <td>0.902099</td>\n",
       "      <td>13746.098425</td>\n",
       "    </tr>\n",
       "    <tr>\n",
       "      <th>97</th>\n",
       "      <td>0.916918</td>\n",
       "      <td>13537.202422</td>\n",
       "      <td>0.913042</td>\n",
       "      <td>14288.709495</td>\n",
       "      <td>0.906401</td>\n",
       "      <td>13524.768809</td>\n",
       "    </tr>\n",
       "    <tr>\n",
       "      <th>98</th>\n",
       "      <td>0.885929</td>\n",
       "      <td>15165.781314</td>\n",
       "      <td>0.913066</td>\n",
       "      <td>14030.113859</td>\n",
       "      <td>0.936427</td>\n",
       "      <td>12936.901402</td>\n",
       "    </tr>\n",
       "    <tr>\n",
       "      <th>99</th>\n",
       "      <td>0.917909</td>\n",
       "      <td>13713.413749</td>\n",
       "      <td>0.928358</td>\n",
       "      <td>13186.336714</td>\n",
       "      <td>0.915286</td>\n",
       "      <td>13769.035460</td>\n",
       "    </tr>\n",
       "  </tbody>\n",
       "</table>\n",
       "<p>100 rows × 6 columns</p>\n",
       "</div>"
      ],
      "text/plain": [
       "    AR2_Base      MAE_Base  AR2_Drop1     MAE_Drop1  AR2_DropIF    MAE_DropIF\n",
       "0   0.901874  13868.371424   0.914215  14420.958359    0.924447  12687.714515\n",
       "1   0.857328  14614.531508   0.900376  14761.403818    0.904134  14890.341096\n",
       "2   0.867419  14555.501774   0.903634  13977.604613    0.926487  13020.475103\n",
       "3   0.914986  13985.764532   0.919274  13372.394085    0.900886  13634.444821\n",
       "4   0.788610  14897.708055   0.899017  14613.696243    0.890103  14749.647349\n",
       "..       ...           ...        ...           ...         ...           ...\n",
       "95  0.904494  14218.512637   0.922946  13963.753443    0.906774  14537.756483\n",
       "96  0.850400  14469.145918   0.919089  13015.297781    0.902099  13746.098425\n",
       "97  0.916918  13537.202422   0.913042  14288.709495    0.906401  13524.768809\n",
       "98  0.885929  15165.781314   0.913066  14030.113859    0.936427  12936.901402\n",
       "99  0.917909  13713.413749   0.928358  13186.336714    0.915286  13769.035460\n",
       "\n",
       "[100 rows x 6 columns]"
      ]
     },
     "execution_count": 25,
     "metadata": {},
     "output_type": "execute_result"
    }
   ],
   "source": [
    "box = pd.concat([Base, BaseDrop1, BaseDropIF], axis=1)\n",
    "box"
   ]
  },
  {
   "cell_type": "code",
   "execution_count": 26,
   "id": "c4712222",
   "metadata": {},
   "outputs": [
    {
     "data": {
      "text/html": [
       "<div>\n",
       "<style scoped>\n",
       "    .dataframe tbody tr th:only-of-type {\n",
       "        vertical-align: middle;\n",
       "    }\n",
       "\n",
       "    .dataframe tbody tr th {\n",
       "        vertical-align: top;\n",
       "    }\n",
       "\n",
       "    .dataframe thead th {\n",
       "        text-align: right;\n",
       "    }\n",
       "</style>\n",
       "<table border=\"1\" class=\"dataframe\">\n",
       "  <thead>\n",
       "    <tr style=\"text-align: right;\">\n",
       "      <th></th>\n",
       "      <th>AR2_Base</th>\n",
       "      <th>MAE_Base</th>\n",
       "      <th>AR2_Drop1</th>\n",
       "      <th>MAE_Drop1</th>\n",
       "      <th>AR2_DropIF</th>\n",
       "      <th>MAE_DropIF</th>\n",
       "    </tr>\n",
       "  </thead>\n",
       "  <tbody>\n",
       "    <tr>\n",
       "      <th>count</th>\n",
       "      <td>100.000000</td>\n",
       "      <td>100.000000</td>\n",
       "      <td>100.000000</td>\n",
       "      <td>100.000000</td>\n",
       "      <td>100.000000</td>\n",
       "      <td>100.000000</td>\n",
       "    </tr>\n",
       "    <tr>\n",
       "      <th>mean</th>\n",
       "      <td>0.888949</td>\n",
       "      <td>14305.523832</td>\n",
       "      <td>0.910952</td>\n",
       "      <td>14028.481063</td>\n",
       "      <td>0.915792</td>\n",
       "      <td>13653.864220</td>\n",
       "    </tr>\n",
       "    <tr>\n",
       "      <th>std</th>\n",
       "      <td>0.028562</td>\n",
       "      <td>638.430031</td>\n",
       "      <td>0.008180</td>\n",
       "      <td>549.928125</td>\n",
       "      <td>0.009245</td>\n",
       "      <td>530.653962</td>\n",
       "    </tr>\n",
       "    <tr>\n",
       "      <th>min</th>\n",
       "      <td>0.788610</td>\n",
       "      <td>12745.254017</td>\n",
       "      <td>0.892161</td>\n",
       "      <td>12618.711680</td>\n",
       "      <td>0.890103</td>\n",
       "      <td>12165.397074</td>\n",
       "    </tr>\n",
       "    <tr>\n",
       "      <th>25%</th>\n",
       "      <td>0.866084</td>\n",
       "      <td>13958.969416</td>\n",
       "      <td>0.904424</td>\n",
       "      <td>13600.384873</td>\n",
       "      <td>0.910020</td>\n",
       "      <td>13277.225674</td>\n",
       "    </tr>\n",
       "    <tr>\n",
       "      <th>50%</th>\n",
       "      <td>0.900060</td>\n",
       "      <td>14262.294739</td>\n",
       "      <td>0.912782</td>\n",
       "      <td>14041.031169</td>\n",
       "      <td>0.916019</td>\n",
       "      <td>13626.832115</td>\n",
       "    </tr>\n",
       "    <tr>\n",
       "      <th>75%</th>\n",
       "      <td>0.910457</td>\n",
       "      <td>14725.200651</td>\n",
       "      <td>0.915816</td>\n",
       "      <td>14413.121250</td>\n",
       "      <td>0.921963</td>\n",
       "      <td>13984.000457</td>\n",
       "    </tr>\n",
       "    <tr>\n",
       "      <th>max</th>\n",
       "      <td>0.924920</td>\n",
       "      <td>16876.482620</td>\n",
       "      <td>0.928358</td>\n",
       "      <td>15285.199943</td>\n",
       "      <td>0.936427</td>\n",
       "      <td>15210.303742</td>\n",
       "    </tr>\n",
       "  </tbody>\n",
       "</table>\n",
       "</div>"
      ],
      "text/plain": [
       "         AR2_Base      MAE_Base   AR2_Drop1     MAE_Drop1  AR2_DropIF  \\\n",
       "count  100.000000    100.000000  100.000000    100.000000  100.000000   \n",
       "mean     0.888949  14305.523832    0.910952  14028.481063    0.915792   \n",
       "std      0.028562    638.430031    0.008180    549.928125    0.009245   \n",
       "min      0.788610  12745.254017    0.892161  12618.711680    0.890103   \n",
       "25%      0.866084  13958.969416    0.904424  13600.384873    0.910020   \n",
       "50%      0.900060  14262.294739    0.912782  14041.031169    0.916019   \n",
       "75%      0.910457  14725.200651    0.915816  14413.121250    0.921963   \n",
       "max      0.924920  16876.482620    0.928358  15285.199943    0.936427   \n",
       "\n",
       "         MAE_DropIF  \n",
       "count    100.000000  \n",
       "mean   13653.864220  \n",
       "std      530.653962  \n",
       "min    12165.397074  \n",
       "25%    13277.225674  \n",
       "50%    13626.832115  \n",
       "75%    13984.000457  \n",
       "max    15210.303742  "
      ]
     },
     "execution_count": 26,
     "metadata": {},
     "output_type": "execute_result"
    }
   ],
   "source": [
    "box.describe()"
   ]
  },
  {
   "cell_type": "code",
   "execution_count": 27,
   "id": "f2551593",
   "metadata": {},
   "outputs": [
    {
     "data": {
      "image/png": "[encoded data removed]",
      "text/plain": [
       "<Figure size 432x288 with 1 Axes>"
      ]
     },
     "metadata": {
      "needs_background": "light"
     },
     "output_type": "display_data"
    }
   ],
   "source": [
    "sns.boxplot(data=box[['AR2_Base','AR2_Drop1', 'AR2_DropIF']]);"
   ]
  },
  {
   "cell_type": "code",
   "execution_count": 28,
   "id": "51a15f0d",
   "metadata": {},
   "outputs": [
    {
     "data": {
      "image/png": "[encoded data removed]",
      "text/plain": [
       "<Figure size 432x288 with 1 Axes>"
      ]
     },
     "metadata": {
      "needs_background": "light"
     },
     "output_type": "display_data"
    }
   ],
   "source": [
    "sns.boxplot(data=box[['MAE_Base', 'MAE_Drop1', 'MAE_DropIF']]);"
   ]
  },
  {
   "cell_type": "code",
   "execution_count": null,
   "id": "a0cac0be",
   "metadata": {},
   "outputs": [],
   "source": []
  },
  {
   "cell_type": "code",
   "execution_count": null,
   "id": "d9a9ffe1",
   "metadata": {},
   "outputs": [],
   "source": []
  }
 ],
 "metadata": {
  "hide_input": false,
  "kernelspec": {
   "display_name": "Python 3 (ipykernel)",
   "language": "python",
   "name": "python3"
  },
  "language_info": {
   "codemirror_mode": {
    "name": "ipython",
    "version": 3
   },
   "file_extension": ".py",
   "mimetype": "text/x-python",
   "name": "python",
   "nbconvert_exporter": "python",
   "pygments_lexer": "ipython3",
   "version": "3.8.8"
  },
  "varInspector": {
   "cols": {
    "lenName": 16,
    "lenType": 16,
    "lenVar": 40
   },
   "kernels_config": {
    "python": {
     "delete_cmd_postfix": "",
     "delete_cmd_prefix": "del ",
     "library": "var_list.py",
     "varRefreshCmd": "print(var_dic_list())"
    },
    "r": {
     "delete_cmd_postfix": ") ",
     "delete_cmd_prefix": "rm(",
     "library": "var_list.r",
     "varRefreshCmd": "cat(var_dic_list()) "
    }
   },
   "types_to_exclude": [
    "module",
    "function",
    "builtin_function_or_method",
    "instance",
    "_Feature"
   ],
   "window_display": false
  }
 },
 "nbformat": 4,
 "nbformat_minor": 5
}
