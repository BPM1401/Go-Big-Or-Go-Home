{
 "cells": [
  {
   "cell_type": "code",
   "execution_count": 1,
   "id": "3ac198de",
   "metadata": {},
   "outputs": [],
   "source": [
    "import numpy as np\n",
    "import pandas as pd\n",
    "pd.set_option(\"display.max_columns\", 300)\n",
    "pd.set_option(\"max_colwidth\", 200)\n",
    "\n",
    "from sklearn.linear_model import LinearRegression\n",
    "from sklearn.linear_model import HuberRegressor\n",
    "from sklearn.linear_model import Ridge\n",
    "from sklearn.linear_model import RidgeCV\n",
    "from sklearn.linear_model import Lasso\n",
    "from sklearn.linear_model import LassoCV\n",
    "from sklearn.linear_model import ElasticNet\n",
    "from numpy import arange\n",
    "from sklearn.model_selection import GridSearchCV\n",
    "from sklearn.ensemble import RandomForestRegressor\n",
    "from sklearn.ensemble import GradientBoostingRegressor\n",
    "from xgboost import XGBRegressor\n",
    "\n",
    "from sklearn import preprocessing\n",
    "\n",
    "from sklearn.metrics import mean_squared_error, r2_score, mean_absolute_error\n",
    "from sklearn.feature_selection import SequentialFeatureSelector\n",
    "\n",
    "from sklearn.model_selection import train_test_split\n",
    "from sklearn.model_selection import KFold\n",
    "\n",
    "import matplotlib.pyplot as plt\n",
    "import statistics\n",
    "\n",
    "import seaborn as sns"
   ]
  },
  {
   "cell_type": "code",
   "execution_count": 2,
   "id": "4a6b7f73",
   "metadata": {},
   "outputs": [],
   "source": [
    "base = pd.read_csv('../../Data/BaseData.csv')"
   ]
  },
  {
   "cell_type": "code",
   "execution_count": 3,
   "id": "f7bf7336",
   "metadata": {},
   "outputs": [],
   "source": [
    "X = base.drop(['SalePrice'], axis=1).values\n",
    "y = base.SalePrice.values"
   ]
  },
  {
   "cell_type": "code",
   "execution_count": 4,
   "id": "2c216ed2",
   "metadata": {},
   "outputs": [
    {
     "data": {
      "text/plain": [
       "2580"
      ]
     },
     "execution_count": 4,
     "metadata": {},
     "output_type": "execute_result"
    }
   ],
   "source": [
    "len(y)"
   ]
  },
  {
   "cell_type": "code",
   "execution_count": 5,
   "id": "1662f3a5",
   "metadata": {},
   "outputs": [
    {
     "data": {
      "text/plain": [
       "(2580, 298)"
      ]
     },
     "execution_count": 5,
     "metadata": {},
     "output_type": "execute_result"
    }
   ],
   "source": [
    "X.shape"
   ]
  },
  {
   "cell_type": "code",
   "execution_count": 6,
   "id": "8f475bf9",
   "metadata": {},
   "outputs": [
    {
     "data": {
      "text/plain": [
       "298"
      ]
     },
     "execution_count": 6,
     "metadata": {},
     "output_type": "execute_result"
    }
   ],
   "source": [
    "X.shape[1]"
   ]
  },
  {
   "cell_type": "code",
   "execution_count": 8,
   "id": "fec85659",
   "metadata": {},
   "outputs": [],
   "source": [
    "AR2_Base = []\n",
    "MAE_Base = []\n",
    "\n",
    "Ridge_Alphas = []\n",
    "alphas = 10**np.linspace(10,-2,100)*0.5\n",
    "\n",
    "for i in range(100):\n",
    "    \n",
    "    X_train, X_test, Y_train, Y_test = train_test_split(X,y,test_size=0.25)\n",
    "    \n",
    "    scaler = preprocessing.StandardScaler().fit(X_train)\n",
    "    X_train_scaled = scaler.transform(X_train)\n",
    "    X_test_scaled = scaler.transform(X_test)\n",
    "    \n",
    "    ridgecv= RidgeCV(alphas=alphas, scoring='neg_mean_squared_error')\n",
    "    ridgecv.fit(X_train_scaled, Y_train)\n",
    "    \n",
    "    ridge_best_alpha = Ridge(alpha=round(ridgecv.alpha_,2))\n",
    "    ridge_best_alpha.fit(X_train_scaled, Y_train)\n",
    "    Ridge_A_Score = ridge_best_alpha.score(X_test_scaled, Y_test)\n",
    "    \n",
    "    pred = ridge_best_alpha.predict(X_test_scaled)\n",
    "    \n",
    "    Adj_r2 = 1 - (1-Ridge_A_Score) * (len(y)-1)/(len(y)-X.shape[1]-1)\n",
    "    AR2_Base.append(Adj_r2)\n",
    "    \n",
    "    Ridge_Alphas.append(ridgecv.alpha_)\n",
    "    \n",
    "    mae = mean_absolute_error(Y_test, pred)\n",
    "    MAE_Base.append(mae)    "
   ]
  },
  {
   "cell_type": "code",
   "execution_count": 9,
   "id": "305181fe",
   "metadata": {},
   "outputs": [
    {
     "data": {
      "text/html": [
       "<div>\n",
       "<style scoped>\n",
       "    .dataframe tbody tr th:only-of-type {\n",
       "        vertical-align: middle;\n",
       "    }\n",
       "\n",
       "    .dataframe tbody tr th {\n",
       "        vertical-align: top;\n",
       "    }\n",
       "\n",
       "    .dataframe thead th {\n",
       "        text-align: right;\n",
       "    }\n",
       "</style>\n",
       "<table border=\"1\" class=\"dataframe\">\n",
       "  <thead>\n",
       "    <tr style=\"text-align: right;\">\n",
       "      <th></th>\n",
       "      <th>AR2_Base</th>\n",
       "      <th>MAE_Base</th>\n",
       "    </tr>\n",
       "  </thead>\n",
       "  <tbody>\n",
       "    <tr>\n",
       "      <th>0</th>\n",
       "      <td>0.848071</td>\n",
       "      <td>13699.116341</td>\n",
       "    </tr>\n",
       "    <tr>\n",
       "      <th>1</th>\n",
       "      <td>0.894607</td>\n",
       "      <td>14998.985271</td>\n",
       "    </tr>\n",
       "    <tr>\n",
       "      <th>2</th>\n",
       "      <td>0.856472</td>\n",
       "      <td>15115.594527</td>\n",
       "    </tr>\n",
       "    <tr>\n",
       "      <th>3</th>\n",
       "      <td>0.904695</td>\n",
       "      <td>14408.701612</td>\n",
       "    </tr>\n",
       "    <tr>\n",
       "      <th>4</th>\n",
       "      <td>0.888762</td>\n",
       "      <td>15077.349305</td>\n",
       "    </tr>\n",
       "    <tr>\n",
       "      <th>...</th>\n",
       "      <td>...</td>\n",
       "      <td>...</td>\n",
       "    </tr>\n",
       "    <tr>\n",
       "      <th>95</th>\n",
       "      <td>0.904888</td>\n",
       "      <td>14597.231830</td>\n",
       "    </tr>\n",
       "    <tr>\n",
       "      <th>96</th>\n",
       "      <td>0.842385</td>\n",
       "      <td>14599.232916</td>\n",
       "    </tr>\n",
       "    <tr>\n",
       "      <th>97</th>\n",
       "      <td>0.906417</td>\n",
       "      <td>14789.569521</td>\n",
       "    </tr>\n",
       "    <tr>\n",
       "      <th>98</th>\n",
       "      <td>0.898325</td>\n",
       "      <td>13753.324761</td>\n",
       "    </tr>\n",
       "    <tr>\n",
       "      <th>99</th>\n",
       "      <td>0.910724</td>\n",
       "      <td>13207.896841</td>\n",
       "    </tr>\n",
       "  </tbody>\n",
       "</table>\n",
       "<p>100 rows × 2 columns</p>\n",
       "</div>"
      ],
      "text/plain": [
       "    AR2_Base      MAE_Base\n",
       "0   0.848071  13699.116341\n",
       "1   0.894607  14998.985271\n",
       "2   0.856472  15115.594527\n",
       "3   0.904695  14408.701612\n",
       "4   0.888762  15077.349305\n",
       "..       ...           ...\n",
       "95  0.904888  14597.231830\n",
       "96  0.842385  14599.232916\n",
       "97  0.906417  14789.569521\n",
       "98  0.898325  13753.324761\n",
       "99  0.910724  13207.896841\n",
       "\n",
       "[100 rows x 2 columns]"
      ]
     },
     "execution_count": 9,
     "metadata": {},
     "output_type": "execute_result"
    }
   ],
   "source": [
    "Base = pd.DataFrame({'AR2_Base': AR2_Base, 'MAE_Base': MAE_Base})\n",
    "Base"
   ]
  },
  {
   "cell_type": "code",
   "execution_count": null,
   "id": "83636547",
   "metadata": {},
   "outputs": [],
   "source": []
  },
  {
   "cell_type": "code",
   "execution_count": 10,
   "id": "f407a3a5",
   "metadata": {},
   "outputs": [],
   "source": [
    "base_drop1 = pd.read_csv('BaseDrop1.csv')"
   ]
  },
  {
   "cell_type": "code",
   "execution_count": 11,
   "id": "642bd8f4",
   "metadata": {},
   "outputs": [
    {
     "data": {
      "text/plain": [
       "(2579, 300)"
      ]
     },
     "execution_count": 11,
     "metadata": {},
     "output_type": "execute_result"
    }
   ],
   "source": [
    "base_drop1.shape"
   ]
  },
  {
   "cell_type": "code",
   "execution_count": 12,
   "id": "48469565",
   "metadata": {},
   "outputs": [],
   "source": [
    "X2 = base_drop1.drop(['SalePrice'], axis=1).values\n",
    "y2 = base_drop1.SalePrice.values"
   ]
  },
  {
   "cell_type": "code",
   "execution_count": 13,
   "id": "a4a8b309",
   "metadata": {},
   "outputs": [
    {
     "data": {
      "text/plain": [
       "2579"
      ]
     },
     "execution_count": 13,
     "metadata": {},
     "output_type": "execute_result"
    }
   ],
   "source": [
    "len(y2)"
   ]
  },
  {
   "cell_type": "code",
   "execution_count": 14,
   "id": "437f1c5e",
   "metadata": {},
   "outputs": [
    {
     "data": {
      "text/plain": [
       "(2579, 299)"
      ]
     },
     "execution_count": 14,
     "metadata": {},
     "output_type": "execute_result"
    }
   ],
   "source": [
    "X2.shape"
   ]
  },
  {
   "cell_type": "code",
   "execution_count": 15,
   "id": "b89b6d4f",
   "metadata": {},
   "outputs": [
    {
     "data": {
      "text/plain": [
       "299"
      ]
     },
     "execution_count": 15,
     "metadata": {},
     "output_type": "execute_result"
    }
   ],
   "source": [
    "X2.shape[1]"
   ]
  },
  {
   "cell_type": "code",
   "execution_count": 16,
   "id": "5b222a21",
   "metadata": {},
   "outputs": [],
   "source": [
    "AR2_Drop1 = []\n",
    "MAE_Drop1 = []\n",
    "\n",
    "Ridge_Alphas = []\n",
    "alphas = 10**np.linspace(10,-2,100)*0.5\n",
    "\n",
    "for i in range(100):\n",
    "    \n",
    "    X_train, X_test, Y_train, Y_test = train_test_split(X2,y2,test_size=0.25)\n",
    "    \n",
    "    scaler = preprocessing.StandardScaler().fit(X_train)\n",
    "    X_train_scaled = scaler.transform(X_train)\n",
    "    X_test_scaled = scaler.transform(X_test)\n",
    "    \n",
    "    ridgecv= RidgeCV(alphas=alphas, scoring='neg_mean_squared_error')\n",
    "    ridgecv.fit(X_train_scaled, Y_train)\n",
    "    \n",
    "    ridge_best_alpha = Ridge(alpha=round(ridgecv.alpha_,2))\n",
    "    ridge_best_alpha.fit(X_train_scaled, Y_train)\n",
    "    Ridge_A_Score = ridge_best_alpha.score(X_test_scaled, Y_test)\n",
    "    \n",
    "    pred = ridge_best_alpha.predict(X_test_scaled)\n",
    "    \n",
    "    Adj_r2 = 1 - (1-Ridge_A_Score) * (len(y)-1)/(len(y)-X.shape[1]-1)\n",
    "    AR2_Drop1.append(Adj_r2)\n",
    "    \n",
    "    Ridge_Alphas.append(ridgecv.alpha_)\n",
    "    \n",
    "    mae = mean_absolute_error(Y_test, pred)\n",
    "    MAE_Drop1.append(mae)    "
   ]
  },
  {
   "cell_type": "code",
   "execution_count": 17,
   "id": "4d361828",
   "metadata": {},
   "outputs": [
    {
     "data": {
      "text/html": [
       "<div>\n",
       "<style scoped>\n",
       "    .dataframe tbody tr th:only-of-type {\n",
       "        vertical-align: middle;\n",
       "    }\n",
       "\n",
       "    .dataframe tbody tr th {\n",
       "        vertical-align: top;\n",
       "    }\n",
       "\n",
       "    .dataframe thead th {\n",
       "        text-align: right;\n",
       "    }\n",
       "</style>\n",
       "<table border=\"1\" class=\"dataframe\">\n",
       "  <thead>\n",
       "    <tr style=\"text-align: right;\">\n",
       "      <th></th>\n",
       "      <th>AR2_Drop1</th>\n",
       "      <th>MAE_Drop1</th>\n",
       "    </tr>\n",
       "  </thead>\n",
       "  <tbody>\n",
       "    <tr>\n",
       "      <th>0</th>\n",
       "      <td>0.929502</td>\n",
       "      <td>13253.850847</td>\n",
       "    </tr>\n",
       "    <tr>\n",
       "      <th>1</th>\n",
       "      <td>0.911997</td>\n",
       "      <td>14402.361645</td>\n",
       "    </tr>\n",
       "    <tr>\n",
       "      <th>2</th>\n",
       "      <td>0.901982</td>\n",
       "      <td>14379.479187</td>\n",
       "    </tr>\n",
       "    <tr>\n",
       "      <th>3</th>\n",
       "      <td>0.909549</td>\n",
       "      <td>14381.584262</td>\n",
       "    </tr>\n",
       "    <tr>\n",
       "      <th>4</th>\n",
       "      <td>0.917299</td>\n",
       "      <td>13498.922990</td>\n",
       "    </tr>\n",
       "    <tr>\n",
       "      <th>...</th>\n",
       "      <td>...</td>\n",
       "      <td>...</td>\n",
       "    </tr>\n",
       "    <tr>\n",
       "      <th>95</th>\n",
       "      <td>0.907363</td>\n",
       "      <td>13915.476407</td>\n",
       "    </tr>\n",
       "    <tr>\n",
       "      <th>96</th>\n",
       "      <td>0.911387</td>\n",
       "      <td>14326.523849</td>\n",
       "    </tr>\n",
       "    <tr>\n",
       "      <th>97</th>\n",
       "      <td>0.903709</td>\n",
       "      <td>15186.075902</td>\n",
       "    </tr>\n",
       "    <tr>\n",
       "      <th>98</th>\n",
       "      <td>0.901421</td>\n",
       "      <td>15133.585785</td>\n",
       "    </tr>\n",
       "    <tr>\n",
       "      <th>99</th>\n",
       "      <td>0.925239</td>\n",
       "      <td>13512.251269</td>\n",
       "    </tr>\n",
       "  </tbody>\n",
       "</table>\n",
       "<p>100 rows × 2 columns</p>\n",
       "</div>"
      ],
      "text/plain": [
       "    AR2_Drop1     MAE_Drop1\n",
       "0    0.929502  13253.850847\n",
       "1    0.911997  14402.361645\n",
       "2    0.901982  14379.479187\n",
       "3    0.909549  14381.584262\n",
       "4    0.917299  13498.922990\n",
       "..        ...           ...\n",
       "95   0.907363  13915.476407\n",
       "96   0.911387  14326.523849\n",
       "97   0.903709  15186.075902\n",
       "98   0.901421  15133.585785\n",
       "99   0.925239  13512.251269\n",
       "\n",
       "[100 rows x 2 columns]"
      ]
     },
     "execution_count": 17,
     "metadata": {},
     "output_type": "execute_result"
    }
   ],
   "source": [
    "BaseDrop1 = pd.DataFrame({'AR2_Drop1': AR2_Drop1, 'MAE_Drop1': MAE_Drop1})\n",
    "BaseDrop1"
   ]
  },
  {
   "cell_type": "code",
   "execution_count": null,
   "id": "d6058f79",
   "metadata": {},
   "outputs": [],
   "source": []
  },
  {
   "cell_type": "code",
   "execution_count": 20,
   "id": "7f852f8e",
   "metadata": {},
   "outputs": [],
   "source": [
    "base_drop_IF = pd.read_csv('BaseDropIF.csv')"
   ]
  },
  {
   "cell_type": "code",
   "execution_count": 21,
   "id": "70154c65",
   "metadata": {},
   "outputs": [
    {
     "data": {
      "text/plain": [
       "(2567, 299)"
      ]
     },
     "execution_count": 21,
     "metadata": {},
     "output_type": "execute_result"
    }
   ],
   "source": [
    "base_drop_IF.shape"
   ]
  },
  {
   "cell_type": "code",
   "execution_count": 22,
   "id": "0558b8e0",
   "metadata": {},
   "outputs": [],
   "source": [
    "X3 = base_drop_IF.drop(['SalePrice'], axis=1).values\n",
    "y3 = base_drop_IF.SalePrice.values"
   ]
  },
  {
   "cell_type": "code",
   "execution_count": 23,
   "id": "f1f926d6",
   "metadata": {},
   "outputs": [],
   "source": [
    "AR2_DropIF = []\n",
    "MAE_DropIF = []\n",
    "\n",
    "Ridge_Alphas = []\n",
    "alphas = 10**np.linspace(10,-2,100)*0.5\n",
    "\n",
    "for i in range(100):\n",
    "    \n",
    "    X_train, X_test, Y_train, Y_test = train_test_split(X3,y3,test_size=0.25)\n",
    "    \n",
    "    scaler = preprocessing.StandardScaler().fit(X_train)\n",
    "    X_train_scaled = scaler.transform(X_train)\n",
    "    X_test_scaled = scaler.transform(X_test)\n",
    "    \n",
    "    ridgecv= RidgeCV(alphas=alphas, scoring='neg_mean_squared_error')\n",
    "    ridgecv.fit(X_train_scaled, Y_train)\n",
    "    \n",
    "    ridge_best_alpha = Ridge(alpha=round(ridgecv.alpha_,2))\n",
    "    ridge_best_alpha.fit(X_train_scaled, Y_train)\n",
    "    Ridge_A_Score = ridge_best_alpha.score(X_test_scaled, Y_test)\n",
    "    \n",
    "    pred = ridge_best_alpha.predict(X_test_scaled)\n",
    "    \n",
    "    Adj_r2 = 1 - (1-Ridge_A_Score) * (len(y)-1)/(len(y)-X.shape[1]-1)\n",
    "    AR2_DropIF.append(Adj_r2)\n",
    "    \n",
    "    Ridge_Alphas.append(ridgecv.alpha_)\n",
    "    \n",
    "    mae = mean_absolute_error(Y_test, pred)\n",
    "    MAE_DropIF.append(mae)    \n"
   ]
  },
  {
   "cell_type": "code",
   "execution_count": 24,
   "id": "20f21cca",
   "metadata": {},
   "outputs": [
    {
     "data": {
      "text/html": [
       "<div>\n",
       "<style scoped>\n",
       "    .dataframe tbody tr th:only-of-type {\n",
       "        vertical-align: middle;\n",
       "    }\n",
       "\n",
       "    .dataframe tbody tr th {\n",
       "        vertical-align: top;\n",
       "    }\n",
       "\n",
       "    .dataframe thead th {\n",
       "        text-align: right;\n",
       "    }\n",
       "</style>\n",
       "<table border=\"1\" class=\"dataframe\">\n",
       "  <thead>\n",
       "    <tr style=\"text-align: right;\">\n",
       "      <th></th>\n",
       "      <th>AR2_DropIF</th>\n",
       "      <th>MAE_DropIF</th>\n",
       "    </tr>\n",
       "  </thead>\n",
       "  <tbody>\n",
       "    <tr>\n",
       "      <th>0</th>\n",
       "      <td>0.909171</td>\n",
       "      <td>13883.267910</td>\n",
       "    </tr>\n",
       "    <tr>\n",
       "      <th>1</th>\n",
       "      <td>0.912387</td>\n",
       "      <td>13398.081751</td>\n",
       "    </tr>\n",
       "    <tr>\n",
       "      <th>2</th>\n",
       "      <td>0.919894</td>\n",
       "      <td>14323.320257</td>\n",
       "    </tr>\n",
       "    <tr>\n",
       "      <th>3</th>\n",
       "      <td>0.922587</td>\n",
       "      <td>13325.447639</td>\n",
       "    </tr>\n",
       "    <tr>\n",
       "      <th>4</th>\n",
       "      <td>0.891706</td>\n",
       "      <td>15124.496874</td>\n",
       "    </tr>\n",
       "    <tr>\n",
       "      <th>...</th>\n",
       "      <td>...</td>\n",
       "      <td>...</td>\n",
       "    </tr>\n",
       "    <tr>\n",
       "      <th>95</th>\n",
       "      <td>0.893619</td>\n",
       "      <td>15290.425828</td>\n",
       "    </tr>\n",
       "    <tr>\n",
       "      <th>96</th>\n",
       "      <td>0.913866</td>\n",
       "      <td>13732.648380</td>\n",
       "    </tr>\n",
       "    <tr>\n",
       "      <th>97</th>\n",
       "      <td>0.913939</td>\n",
       "      <td>14189.358423</td>\n",
       "    </tr>\n",
       "    <tr>\n",
       "      <th>98</th>\n",
       "      <td>0.913543</td>\n",
       "      <td>14083.110798</td>\n",
       "    </tr>\n",
       "    <tr>\n",
       "      <th>99</th>\n",
       "      <td>0.923263</td>\n",
       "      <td>14422.170830</td>\n",
       "    </tr>\n",
       "  </tbody>\n",
       "</table>\n",
       "<p>100 rows × 2 columns</p>\n",
       "</div>"
      ],
      "text/plain": [
       "    AR2_DropIF    MAE_DropIF\n",
       "0     0.909171  13883.267910\n",
       "1     0.912387  13398.081751\n",
       "2     0.919894  14323.320257\n",
       "3     0.922587  13325.447639\n",
       "4     0.891706  15124.496874\n",
       "..         ...           ...\n",
       "95    0.893619  15290.425828\n",
       "96    0.913866  13732.648380\n",
       "97    0.913939  14189.358423\n",
       "98    0.913543  14083.110798\n",
       "99    0.923263  14422.170830\n",
       "\n",
       "[100 rows x 2 columns]"
      ]
     },
     "execution_count": 24,
     "metadata": {},
     "output_type": "execute_result"
    }
   ],
   "source": [
    "BaseDropIF = pd.DataFrame({'AR2_DropIF': AR2_DropIF, 'MAE_DropIF': MAE_DropIF})\n",
    "BaseDropIF"
   ]
  },
  {
   "cell_type": "code",
   "execution_count": null,
   "id": "871cc290",
   "metadata": {},
   "outputs": [],
   "source": []
  },
  {
   "cell_type": "code",
   "execution_count": 25,
   "id": "e60fb2ae",
   "metadata": {},
   "outputs": [
    {
     "data": {
      "text/html": [
       "<div>\n",
       "<style scoped>\n",
       "    .dataframe tbody tr th:only-of-type {\n",
       "        vertical-align: middle;\n",
       "    }\n",
       "\n",
       "    .dataframe tbody tr th {\n",
       "        vertical-align: top;\n",
       "    }\n",
       "\n",
       "    .dataframe thead th {\n",
       "        text-align: right;\n",
       "    }\n",
       "</style>\n",
       "<table border=\"1\" class=\"dataframe\">\n",
       "  <thead>\n",
       "    <tr style=\"text-align: right;\">\n",
       "      <th></th>\n",
       "      <th>AR2_Base</th>\n",
       "      <th>MAE_Base</th>\n",
       "      <th>AR2_Drop1</th>\n",
       "      <th>MAE_Drop1</th>\n",
       "      <th>AR2_DropIF</th>\n",
       "      <th>MAE_DropIF</th>\n",
       "    </tr>\n",
       "  </thead>\n",
       "  <tbody>\n",
       "    <tr>\n",
       "      <th>0</th>\n",
       "      <td>0.848071</td>\n",
       "      <td>13699.116341</td>\n",
       "      <td>0.929502</td>\n",
       "      <td>13253.850847</td>\n",
       "      <td>0.909171</td>\n",
       "      <td>13883.267910</td>\n",
       "    </tr>\n",
       "    <tr>\n",
       "      <th>1</th>\n",
       "      <td>0.894607</td>\n",
       "      <td>14998.985271</td>\n",
       "      <td>0.911997</td>\n",
       "      <td>14402.361645</td>\n",
       "      <td>0.912387</td>\n",
       "      <td>13398.081751</td>\n",
       "    </tr>\n",
       "    <tr>\n",
       "      <th>2</th>\n",
       "      <td>0.856472</td>\n",
       "      <td>15115.594527</td>\n",
       "      <td>0.901982</td>\n",
       "      <td>14379.479187</td>\n",
       "      <td>0.919894</td>\n",
       "      <td>14323.320257</td>\n",
       "    </tr>\n",
       "    <tr>\n",
       "      <th>3</th>\n",
       "      <td>0.904695</td>\n",
       "      <td>14408.701612</td>\n",
       "      <td>0.909549</td>\n",
       "      <td>14381.584262</td>\n",
       "      <td>0.922587</td>\n",
       "      <td>13325.447639</td>\n",
       "    </tr>\n",
       "    <tr>\n",
       "      <th>4</th>\n",
       "      <td>0.888762</td>\n",
       "      <td>15077.349305</td>\n",
       "      <td>0.917299</td>\n",
       "      <td>13498.922990</td>\n",
       "      <td>0.891706</td>\n",
       "      <td>15124.496874</td>\n",
       "    </tr>\n",
       "    <tr>\n",
       "      <th>...</th>\n",
       "      <td>...</td>\n",
       "      <td>...</td>\n",
       "      <td>...</td>\n",
       "      <td>...</td>\n",
       "      <td>...</td>\n",
       "      <td>...</td>\n",
       "    </tr>\n",
       "    <tr>\n",
       "      <th>95</th>\n",
       "      <td>0.904888</td>\n",
       "      <td>14597.231830</td>\n",
       "      <td>0.907363</td>\n",
       "      <td>13915.476407</td>\n",
       "      <td>0.893619</td>\n",
       "      <td>15290.425828</td>\n",
       "    </tr>\n",
       "    <tr>\n",
       "      <th>96</th>\n",
       "      <td>0.842385</td>\n",
       "      <td>14599.232916</td>\n",
       "      <td>0.911387</td>\n",
       "      <td>14326.523849</td>\n",
       "      <td>0.913866</td>\n",
       "      <td>13732.648380</td>\n",
       "    </tr>\n",
       "    <tr>\n",
       "      <th>97</th>\n",
       "      <td>0.906417</td>\n",
       "      <td>14789.569521</td>\n",
       "      <td>0.903709</td>\n",
       "      <td>15186.075902</td>\n",
       "      <td>0.913939</td>\n",
       "      <td>14189.358423</td>\n",
       "    </tr>\n",
       "    <tr>\n",
       "      <th>98</th>\n",
       "      <td>0.898325</td>\n",
       "      <td>13753.324761</td>\n",
       "      <td>0.901421</td>\n",
       "      <td>15133.585785</td>\n",
       "      <td>0.913543</td>\n",
       "      <td>14083.110798</td>\n",
       "    </tr>\n",
       "    <tr>\n",
       "      <th>99</th>\n",
       "      <td>0.910724</td>\n",
       "      <td>13207.896841</td>\n",
       "      <td>0.925239</td>\n",
       "      <td>13512.251269</td>\n",
       "      <td>0.923263</td>\n",
       "      <td>14422.170830</td>\n",
       "    </tr>\n",
       "  </tbody>\n",
       "</table>\n",
       "<p>100 rows × 6 columns</p>\n",
       "</div>"
      ],
      "text/plain": [
       "    AR2_Base      MAE_Base  AR2_Drop1     MAE_Drop1  AR2_DropIF    MAE_DropIF\n",
       "0   0.848071  13699.116341   0.929502  13253.850847    0.909171  13883.267910\n",
       "1   0.894607  14998.985271   0.911997  14402.361645    0.912387  13398.081751\n",
       "2   0.856472  15115.594527   0.901982  14379.479187    0.919894  14323.320257\n",
       "3   0.904695  14408.701612   0.909549  14381.584262    0.922587  13325.447639\n",
       "4   0.888762  15077.349305   0.917299  13498.922990    0.891706  15124.496874\n",
       "..       ...           ...        ...           ...         ...           ...\n",
       "95  0.904888  14597.231830   0.907363  13915.476407    0.893619  15290.425828\n",
       "96  0.842385  14599.232916   0.911387  14326.523849    0.913866  13732.648380\n",
       "97  0.906417  14789.569521   0.903709  15186.075902    0.913939  14189.358423\n",
       "98  0.898325  13753.324761   0.901421  15133.585785    0.913543  14083.110798\n",
       "99  0.910724  13207.896841   0.925239  13512.251269    0.923263  14422.170830\n",
       "\n",
       "[100 rows x 6 columns]"
      ]
     },
     "execution_count": 25,
     "metadata": {},
     "output_type": "execute_result"
    }
   ],
   "source": [
    "box = pd.concat([Base, BaseDrop1, BaseDropIF], axis=1)\n",
    "box"
   ]
  },
  {
   "cell_type": "code",
   "execution_count": 26,
   "id": "acc9fb9d",
   "metadata": {},
   "outputs": [
    {
     "data": {
      "text/html": [
       "<div>\n",
       "<style scoped>\n",
       "    .dataframe tbody tr th:only-of-type {\n",
       "        vertical-align: middle;\n",
       "    }\n",
       "\n",
       "    .dataframe tbody tr th {\n",
       "        vertical-align: top;\n",
       "    }\n",
       "\n",
       "    .dataframe thead th {\n",
       "        text-align: right;\n",
       "    }\n",
       "</style>\n",
       "<table border=\"1\" class=\"dataframe\">\n",
       "  <thead>\n",
       "    <tr style=\"text-align: right;\">\n",
       "      <th></th>\n",
       "      <th>AR2_Base</th>\n",
       "      <th>MAE_Base</th>\n",
       "      <th>AR2_Drop1</th>\n",
       "      <th>MAE_Drop1</th>\n",
       "      <th>AR2_DropIF</th>\n",
       "      <th>MAE_DropIF</th>\n",
       "    </tr>\n",
       "  </thead>\n",
       "  <tbody>\n",
       "    <tr>\n",
       "      <th>count</th>\n",
       "      <td>100.000000</td>\n",
       "      <td>100.000000</td>\n",
       "      <td>100.000000</td>\n",
       "      <td>100.000000</td>\n",
       "      <td>100.000000</td>\n",
       "      <td>100.000000</td>\n",
       "    </tr>\n",
       "    <tr>\n",
       "      <th>mean</th>\n",
       "      <td>0.881119</td>\n",
       "      <td>14689.983643</td>\n",
       "      <td>0.909639</td>\n",
       "      <td>14318.678669</td>\n",
       "      <td>0.913002</td>\n",
       "      <td>14103.816548</td>\n",
       "    </tr>\n",
       "    <tr>\n",
       "      <th>std</th>\n",
       "      <td>0.031831</td>\n",
       "      <td>660.915687</td>\n",
       "      <td>0.009632</td>\n",
       "      <td>510.435462</td>\n",
       "      <td>0.009412</td>\n",
       "      <td>548.229166</td>\n",
       "    </tr>\n",
       "    <tr>\n",
       "      <th>min</th>\n",
       "      <td>0.792888</td>\n",
       "      <td>12601.173241</td>\n",
       "      <td>0.885913</td>\n",
       "      <td>12985.763637</td>\n",
       "      <td>0.884764</td>\n",
       "      <td>12851.440892</td>\n",
       "    </tr>\n",
       "    <tr>\n",
       "      <th>25%</th>\n",
       "      <td>0.854410</td>\n",
       "      <td>14240.930627</td>\n",
       "      <td>0.903666</td>\n",
       "      <td>13959.218819</td>\n",
       "      <td>0.905990</td>\n",
       "      <td>13751.350050</td>\n",
       "    </tr>\n",
       "    <tr>\n",
       "      <th>50%</th>\n",
       "      <td>0.892133</td>\n",
       "      <td>14745.089293</td>\n",
       "      <td>0.910788</td>\n",
       "      <td>14317.276252</td>\n",
       "      <td>0.914166</td>\n",
       "      <td>14044.588930</td>\n",
       "    </tr>\n",
       "    <tr>\n",
       "      <th>75%</th>\n",
       "      <td>0.906960</td>\n",
       "      <td>15126.774219</td>\n",
       "      <td>0.916363</td>\n",
       "      <td>14627.736237</td>\n",
       "      <td>0.920048</td>\n",
       "      <td>14427.330048</td>\n",
       "    </tr>\n",
       "    <tr>\n",
       "      <th>max</th>\n",
       "      <td>0.927755</td>\n",
       "      <td>16202.992663</td>\n",
       "      <td>0.931375</td>\n",
       "      <td>15575.986177</td>\n",
       "      <td>0.929689</td>\n",
       "      <td>15544.439104</td>\n",
       "    </tr>\n",
       "  </tbody>\n",
       "</table>\n",
       "</div>"
      ],
      "text/plain": [
       "         AR2_Base      MAE_Base   AR2_Drop1     MAE_Drop1  AR2_DropIF  \\\n",
       "count  100.000000    100.000000  100.000000    100.000000  100.000000   \n",
       "mean     0.881119  14689.983643    0.909639  14318.678669    0.913002   \n",
       "std      0.031831    660.915687    0.009632    510.435462    0.009412   \n",
       "min      0.792888  12601.173241    0.885913  12985.763637    0.884764   \n",
       "25%      0.854410  14240.930627    0.903666  13959.218819    0.905990   \n",
       "50%      0.892133  14745.089293    0.910788  14317.276252    0.914166   \n",
       "75%      0.906960  15126.774219    0.916363  14627.736237    0.920048   \n",
       "max      0.927755  16202.992663    0.931375  15575.986177    0.929689   \n",
       "\n",
       "         MAE_DropIF  \n",
       "count    100.000000  \n",
       "mean   14103.816548  \n",
       "std      548.229166  \n",
       "min    12851.440892  \n",
       "25%    13751.350050  \n",
       "50%    14044.588930  \n",
       "75%    14427.330048  \n",
       "max    15544.439104  "
      ]
     },
     "execution_count": 26,
     "metadata": {},
     "output_type": "execute_result"
    }
   ],
   "source": [
    "box.describe()"
   ]
  },
  {
   "cell_type": "code",
   "execution_count": 27,
   "id": "ed4329d7",
   "metadata": {},
   "outputs": [
    {
     "data": {
      "image/png": "[encoded data removed]",
      "text/plain": [
       "<Figure size 432x288 with 1 Axes>"
      ]
     },
     "metadata": {
      "needs_background": "light"
     },
     "output_type": "display_data"
    }
   ],
   "source": [
    "sns.boxplot(data=box[['AR2_Base','AR2_Drop1', 'AR2_DropIF']]);"
   ]
  },
  {
   "cell_type": "code",
   "execution_count": 28,
   "id": "458ea0c2",
   "metadata": {},
   "outputs": [
    {
     "data": {
      "image/png": "[encoded data removed]",
      "text/plain": [
       "<Figure size 432x288 with 1 Axes>"
      ]
     },
     "metadata": {
      "needs_background": "light"
     },
     "output_type": "display_data"
    }
   ],
   "source": [
    "sns.boxplot(data=box[['MAE_Base', 'MAE_Drop1', 'MAE_DropIF']]);"
   ]
  },
  {
   "cell_type": "code",
   "execution_count": null,
   "id": "9c2d2a3a",
   "metadata": {},
   "outputs": [],
   "source": []
  }
 ],
 "metadata": {
  "hide_input": false,
  "kernelspec": {
   "display_name": "Python 3 (ipykernel)",
   "language": "python",
   "name": "python3"
  },
  "language_info": {
   "codemirror_mode": {
    "name": "ipython",
    "version": 3
   },
   "file_extension": ".py",
   "mimetype": "text/x-python",
   "name": "python",
   "nbconvert_exporter": "python",
   "pygments_lexer": "ipython3",
   "version": "3.8.8"
  },
  "varInspector": {
   "cols": {
    "lenName": 16,
    "lenType": 16,
    "lenVar": 40
   },
   "kernels_config": {
    "python": {
     "delete_cmd_postfix": "",
     "delete_cmd_prefix": "del ",
     "library": "var_list.py",
     "varRefreshCmd": "print(var_dic_list())"
    },
    "r": {
     "delete_cmd_postfix": ") ",
     "delete_cmd_prefix": "rm(",
     "library": "var_list.r",
     "varRefreshCmd": "cat(var_dic_list()) "
    }
   },
   "types_to_exclude": [
    "module",
    "function",
    "builtin_function_or_method",
    "instance",
    "_Feature"
   ],
   "window_display": false
  }
 },
 "nbformat": 4,
 "nbformat_minor": 5
}
