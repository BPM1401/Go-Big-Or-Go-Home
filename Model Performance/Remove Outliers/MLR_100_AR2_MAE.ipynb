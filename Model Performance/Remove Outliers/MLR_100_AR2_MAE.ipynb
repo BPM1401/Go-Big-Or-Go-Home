{
 "cells": [
  {
   "cell_type": "code",
   "execution_count": 1,
   "id": "ddec2fa1",
   "metadata": {},
   "outputs": [],
   "source": [
    "import numpy as np\n",
    "import pandas as pd\n",
    "pd.set_option(\"display.max_columns\", 300)\n",
    "pd.set_option(\"max_colwidth\", 200)\n",
    "\n",
    "from sklearn.linear_model import LinearRegression\n",
    "from sklearn.linear_model import HuberRegressor\n",
    "from sklearn.linear_model import Ridge\n",
    "from sklearn.linear_model import RidgeCV\n",
    "from sklearn.linear_model import Lasso\n",
    "from sklearn.linear_model import LassoCV\n",
    "from sklearn.linear_model import ElasticNet\n",
    "from numpy import arange\n",
    "from sklearn.model_selection import GridSearchCV\n",
    "from sklearn.ensemble import RandomForestRegressor\n",
    "from sklearn.ensemble import GradientBoostingRegressor\n",
    "from xgboost import XGBRegressor\n",
    "\n",
    "from sklearn import preprocessing\n",
    "\n",
    "from sklearn.metrics import mean_squared_error, r2_score, mean_absolute_error\n",
    "from sklearn.feature_selection import SequentialFeatureSelector\n",
    "\n",
    "from sklearn.model_selection import train_test_split\n",
    "from sklearn.model_selection import KFold\n",
    "\n",
    "import matplotlib.pyplot as plt\n",
    "import statistics\n",
    "\n",
    "import seaborn as sns"
   ]
  },
  {
   "cell_type": "code",
   "execution_count": 2,
   "id": "23df9a9c",
   "metadata": {},
   "outputs": [],
   "source": [
    "MLR = LinearRegression()"
   ]
  },
  {
   "cell_type": "code",
   "execution_count": 3,
   "id": "c75ad7fe",
   "metadata": {},
   "outputs": [],
   "source": [
    "base = pd.read_csv('../../Data/BaseData.csv')"
   ]
  },
  {
   "cell_type": "code",
   "execution_count": 4,
   "id": "0151bce4",
   "metadata": {},
   "outputs": [],
   "source": [
    "X = base.drop(['SalePrice'], axis=1).values\n",
    "y = base.SalePrice.values"
   ]
  },
  {
   "cell_type": "code",
   "execution_count": 5,
   "id": "6f4f6893",
   "metadata": {},
   "outputs": [
    {
     "data": {
      "text/plain": [
       "2580"
      ]
     },
     "execution_count": 5,
     "metadata": {},
     "output_type": "execute_result"
    }
   ],
   "source": [
    "len(y)"
   ]
  },
  {
   "cell_type": "code",
   "execution_count": 6,
   "id": "65b04172",
   "metadata": {},
   "outputs": [
    {
     "data": {
      "text/plain": [
       "(2580, 298)"
      ]
     },
     "execution_count": 6,
     "metadata": {},
     "output_type": "execute_result"
    }
   ],
   "source": [
    "X.shape"
   ]
  },
  {
   "cell_type": "code",
   "execution_count": 7,
   "id": "2e5cc97d",
   "metadata": {},
   "outputs": [
    {
     "data": {
      "text/plain": [
       "298"
      ]
     },
     "execution_count": 7,
     "metadata": {},
     "output_type": "execute_result"
    }
   ],
   "source": [
    "X.shape[1]"
   ]
  },
  {
   "cell_type": "code",
   "execution_count": 8,
   "id": "cbb78e8e",
   "metadata": {},
   "outputs": [],
   "source": [
    "AR2_Base = []\n",
    "MAE_Base = []\n",
    "\n",
    "for i in range(100):\n",
    "    X_train, X_test, y_train, y_test = train_test_split(X,y,test_size=0.25)\n",
    "    MLR.fit(X_train, y_train)\n",
    "    pred = MLR.predict(X_test)\n",
    "    \n",
    "    Adj_r2 = 1 - (1-r2_score(y_test, pred)) * (len(y)-1)/(len(y)-X.shape[1]-1)\n",
    "    AR2_Base.append(Adj_r2)\n",
    "    \n",
    "    mae = mean_absolute_error(y_test, pred)\n",
    "    MAE_Base.append(mae)"
   ]
  },
  {
   "cell_type": "code",
   "execution_count": 9,
   "id": "c885a30c",
   "metadata": {},
   "outputs": [],
   "source": [
    "PositiveAR2 = []\n",
    "NegativeAR2 = []\n",
    "\n",
    "for i in AR2_Base:\n",
    "    if i < 0:\n",
    "        NegativeAR2.append(i)\n",
    "    else:\n",
    "        PositiveAR2.append(i)"
   ]
  },
  {
   "cell_type": "code",
   "execution_count": null,
   "id": "ceae6447",
   "metadata": {},
   "outputs": [],
   "source": []
  },
  {
   "cell_type": "code",
   "execution_count": 10,
   "id": "91411705",
   "metadata": {},
   "outputs": [],
   "source": [
    "Base = pd.DataFrame({'AR2_Base': AR2_Base, 'MAE_Base': MAE_Base})"
   ]
  },
  {
   "cell_type": "code",
   "execution_count": 11,
   "id": "44fac7f8",
   "metadata": {},
   "outputs": [
    {
     "data": {
      "text/html": [
       "<div>\n",
       "<style scoped>\n",
       "    .dataframe tbody tr th:only-of-type {\n",
       "        vertical-align: middle;\n",
       "    }\n",
       "\n",
       "    .dataframe tbody tr th {\n",
       "        vertical-align: top;\n",
       "    }\n",
       "\n",
       "    .dataframe thead th {\n",
       "        text-align: right;\n",
       "    }\n",
       "</style>\n",
       "<table border=\"1\" class=\"dataframe\">\n",
       "  <thead>\n",
       "    <tr style=\"text-align: right;\">\n",
       "      <th></th>\n",
       "      <th>AR2_Base</th>\n",
       "      <th>MAE_Base</th>\n",
       "    </tr>\n",
       "  </thead>\n",
       "  <tbody>\n",
       "    <tr>\n",
       "      <th>0</th>\n",
       "      <td>-8.534797e+05</td>\n",
       "      <td>2.625782e+06</td>\n",
       "    </tr>\n",
       "    <tr>\n",
       "      <th>1</th>\n",
       "      <td>-5.175965e+04</td>\n",
       "      <td>6.479588e+05</td>\n",
       "    </tr>\n",
       "    <tr>\n",
       "      <th>2</th>\n",
       "      <td>9.037409e-01</td>\n",
       "      <td>1.456224e+04</td>\n",
       "    </tr>\n",
       "    <tr>\n",
       "      <th>3</th>\n",
       "      <td>8.452027e-01</td>\n",
       "      <td>1.499799e+04</td>\n",
       "    </tr>\n",
       "    <tr>\n",
       "      <th>4</th>\n",
       "      <td>8.596291e-01</td>\n",
       "      <td>1.570855e+04</td>\n",
       "    </tr>\n",
       "    <tr>\n",
       "      <th>...</th>\n",
       "      <td>...</td>\n",
       "      <td>...</td>\n",
       "    </tr>\n",
       "    <tr>\n",
       "      <th>95</th>\n",
       "      <td>-1.615332e+07</td>\n",
       "      <td>1.146723e+07</td>\n",
       "    </tr>\n",
       "    <tr>\n",
       "      <th>96</th>\n",
       "      <td>9.070319e-01</td>\n",
       "      <td>1.494734e+04</td>\n",
       "    </tr>\n",
       "    <tr>\n",
       "      <th>97</th>\n",
       "      <td>8.449961e-01</td>\n",
       "      <td>1.536473e+04</td>\n",
       "    </tr>\n",
       "    <tr>\n",
       "      <th>98</th>\n",
       "      <td>9.013963e-01</td>\n",
       "      <td>1.519879e+04</td>\n",
       "    </tr>\n",
       "    <tr>\n",
       "      <th>99</th>\n",
       "      <td>9.068614e-01</td>\n",
       "      <td>1.516903e+04</td>\n",
       "    </tr>\n",
       "  </tbody>\n",
       "</table>\n",
       "<p>100 rows × 2 columns</p>\n",
       "</div>"
      ],
      "text/plain": [
       "        AR2_Base      MAE_Base\n",
       "0  -8.534797e+05  2.625782e+06\n",
       "1  -5.175965e+04  6.479588e+05\n",
       "2   9.037409e-01  1.456224e+04\n",
       "3   8.452027e-01  1.499799e+04\n",
       "4   8.596291e-01  1.570855e+04\n",
       "..           ...           ...\n",
       "95 -1.615332e+07  1.146723e+07\n",
       "96  9.070319e-01  1.494734e+04\n",
       "97  8.449961e-01  1.536473e+04\n",
       "98  9.013963e-01  1.519879e+04\n",
       "99  9.068614e-01  1.516903e+04\n",
       "\n",
       "[100 rows x 2 columns]"
      ]
     },
     "execution_count": 11,
     "metadata": {},
     "output_type": "execute_result"
    }
   ],
   "source": [
    "Base"
   ]
  },
  {
   "cell_type": "code",
   "execution_count": 12,
   "id": "d581f2f0",
   "metadata": {},
   "outputs": [
    {
     "data": {
      "text/html": [
       "<div>\n",
       "<style scoped>\n",
       "    .dataframe tbody tr th:only-of-type {\n",
       "        vertical-align: middle;\n",
       "    }\n",
       "\n",
       "    .dataframe tbody tr th {\n",
       "        vertical-align: top;\n",
       "    }\n",
       "\n",
       "    .dataframe thead th {\n",
       "        text-align: right;\n",
       "    }\n",
       "</style>\n",
       "<table border=\"1\" class=\"dataframe\">\n",
       "  <thead>\n",
       "    <tr style=\"text-align: right;\">\n",
       "      <th></th>\n",
       "      <th>AR2_Base</th>\n",
       "      <th>MAE_Base</th>\n",
       "    </tr>\n",
       "  </thead>\n",
       "  <tbody>\n",
       "    <tr>\n",
       "      <th>2</th>\n",
       "      <td>0.903741</td>\n",
       "      <td>14562.244921</td>\n",
       "    </tr>\n",
       "    <tr>\n",
       "      <th>3</th>\n",
       "      <td>0.845203</td>\n",
       "      <td>14997.992436</td>\n",
       "    </tr>\n",
       "    <tr>\n",
       "      <th>4</th>\n",
       "      <td>0.859629</td>\n",
       "      <td>15708.554162</td>\n",
       "    </tr>\n",
       "    <tr>\n",
       "      <th>5</th>\n",
       "      <td>0.900190</td>\n",
       "      <td>15058.701352</td>\n",
       "    </tr>\n",
       "    <tr>\n",
       "      <th>6</th>\n",
       "      <td>0.887281</td>\n",
       "      <td>14761.904769</td>\n",
       "    </tr>\n",
       "    <tr>\n",
       "      <th>...</th>\n",
       "      <td>...</td>\n",
       "      <td>...</td>\n",
       "    </tr>\n",
       "    <tr>\n",
       "      <th>94</th>\n",
       "      <td>0.881848</td>\n",
       "      <td>14956.209868</td>\n",
       "    </tr>\n",
       "    <tr>\n",
       "      <th>96</th>\n",
       "      <td>0.907032</td>\n",
       "      <td>14947.338542</td>\n",
       "    </tr>\n",
       "    <tr>\n",
       "      <th>97</th>\n",
       "      <td>0.844996</td>\n",
       "      <td>15364.734135</td>\n",
       "    </tr>\n",
       "    <tr>\n",
       "      <th>98</th>\n",
       "      <td>0.901396</td>\n",
       "      <td>15198.791947</td>\n",
       "    </tr>\n",
       "    <tr>\n",
       "      <th>99</th>\n",
       "      <td>0.906861</td>\n",
       "      <td>15169.025769</td>\n",
       "    </tr>\n",
       "  </tbody>\n",
       "</table>\n",
       "<p>81 rows × 2 columns</p>\n",
       "</div>"
      ],
      "text/plain": [
       "    AR2_Base      MAE_Base\n",
       "2   0.903741  14562.244921\n",
       "3   0.845203  14997.992436\n",
       "4   0.859629  15708.554162\n",
       "5   0.900190  15058.701352\n",
       "6   0.887281  14761.904769\n",
       "..       ...           ...\n",
       "94  0.881848  14956.209868\n",
       "96  0.907032  14947.338542\n",
       "97  0.844996  15364.734135\n",
       "98  0.901396  15198.791947\n",
       "99  0.906861  15169.025769\n",
       "\n",
       "[81 rows x 2 columns]"
      ]
     },
     "execution_count": 12,
     "metadata": {},
     "output_type": "execute_result"
    }
   ],
   "source": [
    "Base = Base[Base.AR2_Base > 0]\n",
    "Base"
   ]
  },
  {
   "cell_type": "code",
   "execution_count": null,
   "id": "ca77e014",
   "metadata": {},
   "outputs": [],
   "source": []
  },
  {
   "cell_type": "code",
   "execution_count": 13,
   "id": "da6e63e5",
   "metadata": {},
   "outputs": [],
   "source": [
    "base_drop1 = pd.read_csv('BaseDrop1.csv')"
   ]
  },
  {
   "cell_type": "code",
   "execution_count": 14,
   "id": "501a2613",
   "metadata": {},
   "outputs": [
    {
     "data": {
      "text/plain": [
       "(2579, 300)"
      ]
     },
     "execution_count": 14,
     "metadata": {},
     "output_type": "execute_result"
    }
   ],
   "source": [
    "base_drop1.shape"
   ]
  },
  {
   "cell_type": "code",
   "execution_count": 15,
   "id": "4455e2a4",
   "metadata": {},
   "outputs": [],
   "source": [
    "X2 = base_drop1.drop(['SalePrice'], axis=1).values\n",
    "y2 = base_drop1.SalePrice.values"
   ]
  },
  {
   "cell_type": "code",
   "execution_count": 16,
   "id": "3b0765fa",
   "metadata": {},
   "outputs": [
    {
     "data": {
      "text/plain": [
       "2579"
      ]
     },
     "execution_count": 16,
     "metadata": {},
     "output_type": "execute_result"
    }
   ],
   "source": [
    "len(y2)"
   ]
  },
  {
   "cell_type": "code",
   "execution_count": 17,
   "id": "858459bb",
   "metadata": {},
   "outputs": [
    {
     "data": {
      "text/plain": [
       "(2579, 299)"
      ]
     },
     "execution_count": 17,
     "metadata": {},
     "output_type": "execute_result"
    }
   ],
   "source": [
    "X2.shape"
   ]
  },
  {
   "cell_type": "code",
   "execution_count": 18,
   "id": "7be716df",
   "metadata": {},
   "outputs": [
    {
     "data": {
      "text/plain": [
       "299"
      ]
     },
     "execution_count": 18,
     "metadata": {},
     "output_type": "execute_result"
    }
   ],
   "source": [
    "X2.shape[1]"
   ]
  },
  {
   "cell_type": "code",
   "execution_count": 19,
   "id": "1751f3dd",
   "metadata": {},
   "outputs": [],
   "source": [
    "AR2_Drop1 = []\n",
    "MAE_Drop1 = []\n",
    "\n",
    "for i in range(100):\n",
    "    X_train, X_test, y_train, y_test = train_test_split(X2,y2,test_size=0.25)\n",
    "    MLR.fit(X_train, y_train)\n",
    "    pred = MLR.predict(X_test)\n",
    "    \n",
    "    Adj_r2 = 1 - (1-r2_score(y_test, pred)) * (len(y)-1)/(len(y)-X.shape[1]-1)\n",
    "    AR2_Drop1.append(Adj_r2)\n",
    "    \n",
    "    mae = mean_absolute_error(y_test, pred)\n",
    "    MAE_Drop1.append(mae)"
   ]
  },
  {
   "cell_type": "code",
   "execution_count": 20,
   "id": "e61b6e40",
   "metadata": {},
   "outputs": [],
   "source": [
    "BaseDrop1 = pd.DataFrame({'AR2_Drop1': AR2_Drop1, 'MAE_Drop1': MAE_Drop1})"
   ]
  },
  {
   "cell_type": "code",
   "execution_count": 21,
   "id": "0af4946b",
   "metadata": {},
   "outputs": [
    {
     "data": {
      "text/html": [
       "<div>\n",
       "<style scoped>\n",
       "    .dataframe tbody tr th:only-of-type {\n",
       "        vertical-align: middle;\n",
       "    }\n",
       "\n",
       "    .dataframe tbody tr th {\n",
       "        vertical-align: top;\n",
       "    }\n",
       "\n",
       "    .dataframe thead th {\n",
       "        text-align: right;\n",
       "    }\n",
       "</style>\n",
       "<table border=\"1\" class=\"dataframe\">\n",
       "  <thead>\n",
       "    <tr style=\"text-align: right;\">\n",
       "      <th></th>\n",
       "      <th>AR2_Drop1</th>\n",
       "      <th>MAE_Drop1</th>\n",
       "    </tr>\n",
       "  </thead>\n",
       "  <tbody>\n",
       "    <tr>\n",
       "      <th>0</th>\n",
       "      <td>-302864.347628</td>\n",
       "      <td>1.581699e+06</td>\n",
       "    </tr>\n",
       "    <tr>\n",
       "      <th>1</th>\n",
       "      <td>-103907.201740</td>\n",
       "      <td>9.698099e+05</td>\n",
       "    </tr>\n",
       "    <tr>\n",
       "      <th>2</th>\n",
       "      <td>0.911570</td>\n",
       "      <td>1.393235e+04</td>\n",
       "    </tr>\n",
       "    <tr>\n",
       "      <th>3</th>\n",
       "      <td>-117114.786671</td>\n",
       "      <td>1.039703e+06</td>\n",
       "    </tr>\n",
       "    <tr>\n",
       "      <th>4</th>\n",
       "      <td>0.904123</td>\n",
       "      <td>1.538196e+04</td>\n",
       "    </tr>\n",
       "    <tr>\n",
       "      <th>...</th>\n",
       "      <td>...</td>\n",
       "      <td>...</td>\n",
       "    </tr>\n",
       "    <tr>\n",
       "      <th>95</th>\n",
       "      <td>0.911688</td>\n",
       "      <td>1.509429e+04</td>\n",
       "    </tr>\n",
       "    <tr>\n",
       "      <th>96</th>\n",
       "      <td>0.922054</td>\n",
       "      <td>1.398703e+04</td>\n",
       "    </tr>\n",
       "    <tr>\n",
       "      <th>97</th>\n",
       "      <td>0.898604</td>\n",
       "      <td>1.422945e+04</td>\n",
       "    </tr>\n",
       "    <tr>\n",
       "      <th>98</th>\n",
       "      <td>0.896679</td>\n",
       "      <td>1.569358e+04</td>\n",
       "    </tr>\n",
       "    <tr>\n",
       "      <th>99</th>\n",
       "      <td>0.892940</td>\n",
       "      <td>1.518196e+04</td>\n",
       "    </tr>\n",
       "  </tbody>\n",
       "</table>\n",
       "<p>100 rows × 2 columns</p>\n",
       "</div>"
      ],
      "text/plain": [
       "        AR2_Drop1     MAE_Drop1\n",
       "0  -302864.347628  1.581699e+06\n",
       "1  -103907.201740  9.698099e+05\n",
       "2        0.911570  1.393235e+04\n",
       "3  -117114.786671  1.039703e+06\n",
       "4        0.904123  1.538196e+04\n",
       "..            ...           ...\n",
       "95       0.911688  1.509429e+04\n",
       "96       0.922054  1.398703e+04\n",
       "97       0.898604  1.422945e+04\n",
       "98       0.896679  1.569358e+04\n",
       "99       0.892940  1.518196e+04\n",
       "\n",
       "[100 rows x 2 columns]"
      ]
     },
     "execution_count": 21,
     "metadata": {},
     "output_type": "execute_result"
    }
   ],
   "source": [
    "BaseDrop1"
   ]
  },
  {
   "cell_type": "code",
   "execution_count": 22,
   "id": "7f44e38c",
   "metadata": {},
   "outputs": [
    {
     "data": {
      "text/html": [
       "<div>\n",
       "<style scoped>\n",
       "    .dataframe tbody tr th:only-of-type {\n",
       "        vertical-align: middle;\n",
       "    }\n",
       "\n",
       "    .dataframe tbody tr th {\n",
       "        vertical-align: top;\n",
       "    }\n",
       "\n",
       "    .dataframe thead th {\n",
       "        text-align: right;\n",
       "    }\n",
       "</style>\n",
       "<table border=\"1\" class=\"dataframe\">\n",
       "  <thead>\n",
       "    <tr style=\"text-align: right;\">\n",
       "      <th></th>\n",
       "      <th>AR2_Drop1</th>\n",
       "      <th>MAE_Drop1</th>\n",
       "    </tr>\n",
       "  </thead>\n",
       "  <tbody>\n",
       "    <tr>\n",
       "      <th>2</th>\n",
       "      <td>0.911570</td>\n",
       "      <td>13932.352735</td>\n",
       "    </tr>\n",
       "    <tr>\n",
       "      <th>4</th>\n",
       "      <td>0.904123</td>\n",
       "      <td>15381.955857</td>\n",
       "    </tr>\n",
       "    <tr>\n",
       "      <th>5</th>\n",
       "      <td>0.905195</td>\n",
       "      <td>15247.583078</td>\n",
       "    </tr>\n",
       "    <tr>\n",
       "      <th>6</th>\n",
       "      <td>0.913103</td>\n",
       "      <td>14411.544391</td>\n",
       "    </tr>\n",
       "    <tr>\n",
       "      <th>7</th>\n",
       "      <td>0.904199</td>\n",
       "      <td>13903.364653</td>\n",
       "    </tr>\n",
       "    <tr>\n",
       "      <th>...</th>\n",
       "      <td>...</td>\n",
       "      <td>...</td>\n",
       "    </tr>\n",
       "    <tr>\n",
       "      <th>95</th>\n",
       "      <td>0.911688</td>\n",
       "      <td>15094.293038</td>\n",
       "    </tr>\n",
       "    <tr>\n",
       "      <th>96</th>\n",
       "      <td>0.922054</td>\n",
       "      <td>13987.031822</td>\n",
       "    </tr>\n",
       "    <tr>\n",
       "      <th>97</th>\n",
       "      <td>0.898604</td>\n",
       "      <td>14229.448980</td>\n",
       "    </tr>\n",
       "    <tr>\n",
       "      <th>98</th>\n",
       "      <td>0.896679</td>\n",
       "      <td>15693.583129</td>\n",
       "    </tr>\n",
       "    <tr>\n",
       "      <th>99</th>\n",
       "      <td>0.892940</td>\n",
       "      <td>15181.958517</td>\n",
       "    </tr>\n",
       "  </tbody>\n",
       "</table>\n",
       "<p>76 rows × 2 columns</p>\n",
       "</div>"
      ],
      "text/plain": [
       "    AR2_Drop1     MAE_Drop1\n",
       "2    0.911570  13932.352735\n",
       "4    0.904123  15381.955857\n",
       "5    0.905195  15247.583078\n",
       "6    0.913103  14411.544391\n",
       "7    0.904199  13903.364653\n",
       "..        ...           ...\n",
       "95   0.911688  15094.293038\n",
       "96   0.922054  13987.031822\n",
       "97   0.898604  14229.448980\n",
       "98   0.896679  15693.583129\n",
       "99   0.892940  15181.958517\n",
       "\n",
       "[76 rows x 2 columns]"
      ]
     },
     "execution_count": 22,
     "metadata": {},
     "output_type": "execute_result"
    }
   ],
   "source": [
    "BaseDrop1 = BaseDrop1[BaseDrop1.AR2_Drop1 > 0]\n",
    "BaseDrop1"
   ]
  },
  {
   "cell_type": "code",
   "execution_count": null,
   "id": "06c47345",
   "metadata": {},
   "outputs": [],
   "source": []
  },
  {
   "cell_type": "code",
   "execution_count": 23,
   "id": "eb3944af",
   "metadata": {},
   "outputs": [
    {
     "data": {
      "text/html": [
       "<div>\n",
       "<style scoped>\n",
       "    .dataframe tbody tr th:only-of-type {\n",
       "        vertical-align: middle;\n",
       "    }\n",
       "\n",
       "    .dataframe tbody tr th {\n",
       "        vertical-align: top;\n",
       "    }\n",
       "\n",
       "    .dataframe thead th {\n",
       "        text-align: right;\n",
       "    }\n",
       "</style>\n",
       "<table border=\"1\" class=\"dataframe\">\n",
       "  <thead>\n",
       "    <tr style=\"text-align: right;\">\n",
       "      <th></th>\n",
       "      <th>AR2_Base</th>\n",
       "      <th>MAE_Base</th>\n",
       "      <th>AR2_Drop1</th>\n",
       "      <th>MAE_Drop1</th>\n",
       "    </tr>\n",
       "  </thead>\n",
       "  <tbody>\n",
       "    <tr>\n",
       "      <th>2</th>\n",
       "      <td>0.903741</td>\n",
       "      <td>14562.244921</td>\n",
       "      <td>0.911570</td>\n",
       "      <td>13932.352735</td>\n",
       "    </tr>\n",
       "    <tr>\n",
       "      <th>3</th>\n",
       "      <td>0.845203</td>\n",
       "      <td>14997.992436</td>\n",
       "      <td>NaN</td>\n",
       "      <td>NaN</td>\n",
       "    </tr>\n",
       "    <tr>\n",
       "      <th>4</th>\n",
       "      <td>0.859629</td>\n",
       "      <td>15708.554162</td>\n",
       "      <td>0.904123</td>\n",
       "      <td>15381.955857</td>\n",
       "    </tr>\n",
       "    <tr>\n",
       "      <th>5</th>\n",
       "      <td>0.900190</td>\n",
       "      <td>15058.701352</td>\n",
       "      <td>0.905195</td>\n",
       "      <td>15247.583078</td>\n",
       "    </tr>\n",
       "    <tr>\n",
       "      <th>6</th>\n",
       "      <td>0.887281</td>\n",
       "      <td>14761.904769</td>\n",
       "      <td>0.913103</td>\n",
       "      <td>14411.544391</td>\n",
       "    </tr>\n",
       "    <tr>\n",
       "      <th>...</th>\n",
       "      <td>...</td>\n",
       "      <td>...</td>\n",
       "      <td>...</td>\n",
       "      <td>...</td>\n",
       "    </tr>\n",
       "    <tr>\n",
       "      <th>95</th>\n",
       "      <td>NaN</td>\n",
       "      <td>NaN</td>\n",
       "      <td>0.911688</td>\n",
       "      <td>15094.293038</td>\n",
       "    </tr>\n",
       "    <tr>\n",
       "      <th>96</th>\n",
       "      <td>0.907032</td>\n",
       "      <td>14947.338542</td>\n",
       "      <td>0.922054</td>\n",
       "      <td>13987.031822</td>\n",
       "    </tr>\n",
       "    <tr>\n",
       "      <th>97</th>\n",
       "      <td>0.844996</td>\n",
       "      <td>15364.734135</td>\n",
       "      <td>0.898604</td>\n",
       "      <td>14229.448980</td>\n",
       "    </tr>\n",
       "    <tr>\n",
       "      <th>98</th>\n",
       "      <td>0.901396</td>\n",
       "      <td>15198.791947</td>\n",
       "      <td>0.896679</td>\n",
       "      <td>15693.583129</td>\n",
       "    </tr>\n",
       "    <tr>\n",
       "      <th>99</th>\n",
       "      <td>0.906861</td>\n",
       "      <td>15169.025769</td>\n",
       "      <td>0.892940</td>\n",
       "      <td>15181.958517</td>\n",
       "    </tr>\n",
       "  </tbody>\n",
       "</table>\n",
       "<p>94 rows × 4 columns</p>\n",
       "</div>"
      ],
      "text/plain": [
       "    AR2_Base      MAE_Base  AR2_Drop1     MAE_Drop1\n",
       "2   0.903741  14562.244921   0.911570  13932.352735\n",
       "3   0.845203  14997.992436        NaN           NaN\n",
       "4   0.859629  15708.554162   0.904123  15381.955857\n",
       "5   0.900190  15058.701352   0.905195  15247.583078\n",
       "6   0.887281  14761.904769   0.913103  14411.544391\n",
       "..       ...           ...        ...           ...\n",
       "95       NaN           NaN   0.911688  15094.293038\n",
       "96  0.907032  14947.338542   0.922054  13987.031822\n",
       "97  0.844996  15364.734135   0.898604  14229.448980\n",
       "98  0.901396  15198.791947   0.896679  15693.583129\n",
       "99  0.906861  15169.025769   0.892940  15181.958517\n",
       "\n",
       "[94 rows x 4 columns]"
      ]
     },
     "execution_count": 23,
     "metadata": {},
     "output_type": "execute_result"
    }
   ],
   "source": [
    "box = pd.concat([Base, BaseDrop1], axis=1)\n",
    "box"
   ]
  },
  {
   "cell_type": "code",
   "execution_count": 24,
   "id": "2c8bce8e",
   "metadata": {},
   "outputs": [
    {
     "data": {
      "text/html": [
       "<div>\n",
       "<style scoped>\n",
       "    .dataframe tbody tr th:only-of-type {\n",
       "        vertical-align: middle;\n",
       "    }\n",
       "\n",
       "    .dataframe tbody tr th {\n",
       "        vertical-align: top;\n",
       "    }\n",
       "\n",
       "    .dataframe thead th {\n",
       "        text-align: right;\n",
       "    }\n",
       "</style>\n",
       "<table border=\"1\" class=\"dataframe\">\n",
       "  <thead>\n",
       "    <tr style=\"text-align: right;\">\n",
       "      <th></th>\n",
       "      <th>AR2_Base</th>\n",
       "      <th>MAE_Base</th>\n",
       "      <th>AR2_Drop1</th>\n",
       "      <th>MAE_Drop1</th>\n",
       "    </tr>\n",
       "  </thead>\n",
       "  <tbody>\n",
       "    <tr>\n",
       "      <th>count</th>\n",
       "      <td>81.000000</td>\n",
       "      <td>81.000000</td>\n",
       "      <td>76.000000</td>\n",
       "      <td>76.000000</td>\n",
       "    </tr>\n",
       "    <tr>\n",
       "      <th>mean</th>\n",
       "      <td>0.884714</td>\n",
       "      <td>14982.467958</td>\n",
       "      <td>0.903198</td>\n",
       "      <td>14727.288328</td>\n",
       "    </tr>\n",
       "    <tr>\n",
       "      <th>std</th>\n",
       "      <td>0.036129</td>\n",
       "      <td>599.487200</td>\n",
       "      <td>0.015947</td>\n",
       "      <td>761.299488</td>\n",
       "    </tr>\n",
       "    <tr>\n",
       "      <th>min</th>\n",
       "      <td>0.723978</td>\n",
       "      <td>13874.263154</td>\n",
       "      <td>0.846662</td>\n",
       "      <td>13563.144308</td>\n",
       "    </tr>\n",
       "    <tr>\n",
       "      <th>25%</th>\n",
       "      <td>0.866773</td>\n",
       "      <td>14562.244921</td>\n",
       "      <td>0.896254</td>\n",
       "      <td>14262.889082</td>\n",
       "    </tr>\n",
       "    <tr>\n",
       "      <th>50%</th>\n",
       "      <td>0.898155</td>\n",
       "      <td>14956.209868</td>\n",
       "      <td>0.906875</td>\n",
       "      <td>14586.211531</td>\n",
       "    </tr>\n",
       "    <tr>\n",
       "      <th>75%</th>\n",
       "      <td>0.908028</td>\n",
       "      <td>15303.552479</td>\n",
       "      <td>0.914338</td>\n",
       "      <td>15096.746242</td>\n",
       "    </tr>\n",
       "    <tr>\n",
       "      <th>max</th>\n",
       "      <td>0.922780</td>\n",
       "      <td>16612.501822</td>\n",
       "      <td>0.922097</td>\n",
       "      <td>18097.116753</td>\n",
       "    </tr>\n",
       "  </tbody>\n",
       "</table>\n",
       "</div>"
      ],
      "text/plain": [
       "        AR2_Base      MAE_Base  AR2_Drop1     MAE_Drop1\n",
       "count  81.000000     81.000000  76.000000     76.000000\n",
       "mean    0.884714  14982.467958   0.903198  14727.288328\n",
       "std     0.036129    599.487200   0.015947    761.299488\n",
       "min     0.723978  13874.263154   0.846662  13563.144308\n",
       "25%     0.866773  14562.244921   0.896254  14262.889082\n",
       "50%     0.898155  14956.209868   0.906875  14586.211531\n",
       "75%     0.908028  15303.552479   0.914338  15096.746242\n",
       "max     0.922780  16612.501822   0.922097  18097.116753"
      ]
     },
     "execution_count": 24,
     "metadata": {},
     "output_type": "execute_result"
    }
   ],
   "source": [
    "box.describe()"
   ]
  },
  {
   "cell_type": "code",
   "execution_count": 25,
   "id": "c3f87e80",
   "metadata": {},
   "outputs": [
    {
     "data": {
      "image/png": "[encoded data removed]",
      "text/plain": [
       "<Figure size 432x288 with 1 Axes>"
      ]
     },
     "metadata": {
      "needs_background": "light"
     },
     "output_type": "display_data"
    }
   ],
   "source": [
    "sns.boxplot(data=box[['AR2_Base','AR2_Drop1']]);"
   ]
  },
  {
   "cell_type": "code",
   "execution_count": 26,
   "id": "4abbd80c",
   "metadata": {},
   "outputs": [
    {
     "data": {
      "image/png": "[encoded data removed]",
      "text/plain": [
       "<Figure size 432x288 with 1 Axes>"
      ]
     },
     "metadata": {
      "needs_background": "light"
     },
     "output_type": "display_data"
    }
   ],
   "source": [
    "sns.boxplot(data=box[['MAE_Base', 'MAE_Drop1']]);"
   ]
  },
  {
   "cell_type": "code",
   "execution_count": null,
   "id": "6d44565f",
   "metadata": {},
   "outputs": [],
   "source": []
  },
  {
   "cell_type": "code",
   "execution_count": null,
   "id": "55e05966",
   "metadata": {},
   "outputs": [],
   "source": []
  }
 ],
 "metadata": {
  "hide_input": false,
  "kernelspec": {
   "display_name": "Python 3 (ipykernel)",
   "language": "python",
   "name": "python3"
  },
  "language_info": {
   "codemirror_mode": {
    "name": "ipython",
    "version": 3
   },
   "file_extension": ".py",
   "mimetype": "text/x-python",
   "name": "python",
   "nbconvert_exporter": "python",
   "pygments_lexer": "ipython3",
   "version": "3.8.8"
  },
  "varInspector": {
   "cols": {
    "lenName": 16,
    "lenType": 16,
    "lenVar": 40
   },
   "kernels_config": {
    "python": {
     "delete_cmd_postfix": "",
     "delete_cmd_prefix": "del ",
     "library": "var_list.py",
     "varRefreshCmd": "print(var_dic_list())"
    },
    "r": {
     "delete_cmd_postfix": ") ",
     "delete_cmd_prefix": "rm(",
     "library": "var_list.r",
     "varRefreshCmd": "cat(var_dic_list()) "
    }
   },
   "types_to_exclude": [
    "module",
    "function",
    "builtin_function_or_method",
    "instance",
    "_Feature"
   ],
   "window_display": false
  }
 },
 "nbformat": 4,
 "nbformat_minor": 5
}
