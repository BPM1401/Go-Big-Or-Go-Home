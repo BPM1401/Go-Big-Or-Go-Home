{
 "cells": [
  {
   "cell_type": "code",
   "execution_count": 1,
   "id": "ddec2fa1",
   "metadata": {},
   "outputs": [],
   "source": [
    "import numpy as np\n",
    "import pandas as pd\n",
    "pd.set_option(\"display.max_columns\", 300)\n",
    "pd.set_option(\"max_colwidth\", 200)\n",
    "\n",
    "from sklearn.linear_model import LinearRegression\n",
    "from sklearn.linear_model import HuberRegressor\n",
    "from sklearn.linear_model import Ridge\n",
    "from sklearn.linear_model import RidgeCV\n",
    "from sklearn.linear_model import Lasso\n",
    "from sklearn.linear_model import LassoCV\n",
    "from sklearn.linear_model import ElasticNet\n",
    "from numpy import arange\n",
    "from sklearn.model_selection import GridSearchCV\n",
    "from sklearn.ensemble import RandomForestRegressor\n",
    "from sklearn.ensemble import GradientBoostingRegressor\n",
    "from xgboost import XGBRegressor\n",
    "\n",
    "from sklearn import preprocessing\n",
    "\n",
    "from sklearn.metrics import mean_squared_error, r2_score, mean_absolute_error\n",
    "from sklearn.feature_selection import SequentialFeatureSelector\n",
    "\n",
    "from sklearn.model_selection import train_test_split\n",
    "from sklearn.model_selection import KFold\n",
    "\n",
    "import matplotlib.pyplot as plt\n",
    "import statistics\n",
    "\n",
    "import seaborn as sns"
   ]
  },
  {
   "cell_type": "code",
   "execution_count": 2,
   "id": "23df9a9c",
   "metadata": {},
   "outputs": [],
   "source": [
    "MLR = LinearRegression()"
   ]
  },
  {
   "cell_type": "code",
   "execution_count": 3,
   "id": "c75ad7fe",
   "metadata": {},
   "outputs": [],
   "source": [
    "base = pd.read_csv('../../Data/BaseData.csv')"
   ]
  },
  {
   "cell_type": "code",
   "execution_count": 4,
   "id": "0151bce4",
   "metadata": {},
   "outputs": [],
   "source": [
    "X = base.drop(['SalePrice'], axis=1).values\n",
    "y = base.SalePrice.values"
   ]
  },
  {
   "cell_type": "code",
   "execution_count": 5,
   "id": "6f4f6893",
   "metadata": {},
   "outputs": [
    {
     "data": {
      "text/plain": [
       "2580"
      ]
     },
     "execution_count": 5,
     "metadata": {},
     "output_type": "execute_result"
    }
   ],
   "source": [
    "len(y)"
   ]
  },
  {
   "cell_type": "code",
   "execution_count": 6,
   "id": "65b04172",
   "metadata": {},
   "outputs": [
    {
     "data": {
      "text/plain": [
       "(2580, 298)"
      ]
     },
     "execution_count": 6,
     "metadata": {},
     "output_type": "execute_result"
    }
   ],
   "source": [
    "X.shape"
   ]
  },
  {
   "cell_type": "code",
   "execution_count": 7,
   "id": "2e5cc97d",
   "metadata": {},
   "outputs": [
    {
     "data": {
      "text/plain": [
       "298"
      ]
     },
     "execution_count": 7,
     "metadata": {},
     "output_type": "execute_result"
    }
   ],
   "source": [
    "X.shape[1]"
   ]
  },
  {
   "cell_type": "code",
   "execution_count": 8,
   "id": "cbb78e8e",
   "metadata": {},
   "outputs": [],
   "source": [
    "AR2_Base = []\n",
    "MAE_Base = []\n",
    "\n",
    "for i in range(100):\n",
    "    X_train, X_test, y_train, y_test = train_test_split(X,y,test_size=0.25)\n",
    "    MLR.fit(X_train, y_train)\n",
    "    pred = MLR.predict(X_test)\n",
    "    \n",
    "    Adj_r2 = 1 - (1-r2_score(y_test, pred)) * (len(y)-1)/(len(y)-X.shape[1]-1)\n",
    "    AR2_Base.append(Adj_r2)\n",
    "    \n",
    "    mae = mean_absolute_error(y_test, pred)\n",
    "    MAE_Base.append(mae)"
   ]
  },
  {
   "cell_type": "code",
   "execution_count": 9,
   "id": "c885a30c",
   "metadata": {},
   "outputs": [],
   "source": [
    "PositiveAR2 = []\n",
    "NegativeAR2 = []\n",
    "\n",
    "for i in AR2_Base:\n",
    "    if i < 0:\n",
    "        NegativeAR2.append(i)\n",
    "    else:\n",
    "        PositiveAR2.append(i)"
   ]
  },
  {
   "cell_type": "code",
   "execution_count": null,
   "id": "ceae6447",
   "metadata": {},
   "outputs": [],
   "source": []
  },
  {
   "cell_type": "code",
   "execution_count": 10,
   "id": "7d679e48",
   "metadata": {},
   "outputs": [
    {
     "data": {
      "text/plain": [
       "12"
      ]
     },
     "execution_count": 10,
     "metadata": {},
     "output_type": "execute_result"
    }
   ],
   "source": [
    "len(NegativeAR2)"
   ]
  },
  {
   "cell_type": "code",
   "execution_count": null,
   "id": "54d3ac29",
   "metadata": {},
   "outputs": [],
   "source": []
  },
  {
   "cell_type": "code",
   "execution_count": 11,
   "id": "91411705",
   "metadata": {},
   "outputs": [],
   "source": [
    "Base = pd.DataFrame({'AR2_Base': AR2_Base, 'MAE_Base': MAE_Base})"
   ]
  },
  {
   "cell_type": "code",
   "execution_count": 12,
   "id": "44fac7f8",
   "metadata": {},
   "outputs": [
    {
     "data": {
      "text/html": [
       "<div>\n",
       "<style scoped>\n",
       "    .dataframe tbody tr th:only-of-type {\n",
       "        vertical-align: middle;\n",
       "    }\n",
       "\n",
       "    .dataframe tbody tr th {\n",
       "        vertical-align: top;\n",
       "    }\n",
       "\n",
       "    .dataframe thead th {\n",
       "        text-align: right;\n",
       "    }\n",
       "</style>\n",
       "<table border=\"1\" class=\"dataframe\">\n",
       "  <thead>\n",
       "    <tr style=\"text-align: right;\">\n",
       "      <th></th>\n",
       "      <th>AR2_Base</th>\n",
       "      <th>MAE_Base</th>\n",
       "    </tr>\n",
       "  </thead>\n",
       "  <tbody>\n",
       "    <tr>\n",
       "      <th>0</th>\n",
       "      <td>0.912001</td>\n",
       "      <td>1.438730e+04</td>\n",
       "    </tr>\n",
       "    <tr>\n",
       "      <th>1</th>\n",
       "      <td>-12359.592216</td>\n",
       "      <td>3.344799e+05</td>\n",
       "    </tr>\n",
       "    <tr>\n",
       "      <th>2</th>\n",
       "      <td>0.823876</td>\n",
       "      <td>1.583486e+04</td>\n",
       "    </tr>\n",
       "    <tr>\n",
       "      <th>3</th>\n",
       "      <td>0.814466</td>\n",
       "      <td>1.583649e+04</td>\n",
       "    </tr>\n",
       "    <tr>\n",
       "      <th>4</th>\n",
       "      <td>0.898520</td>\n",
       "      <td>1.494276e+04</td>\n",
       "    </tr>\n",
       "    <tr>\n",
       "      <th>...</th>\n",
       "      <td>...</td>\n",
       "      <td>...</td>\n",
       "    </tr>\n",
       "    <tr>\n",
       "      <th>95</th>\n",
       "      <td>0.908097</td>\n",
       "      <td>1.483899e+04</td>\n",
       "    </tr>\n",
       "    <tr>\n",
       "      <th>96</th>\n",
       "      <td>0.846905</td>\n",
       "      <td>1.546044e+04</td>\n",
       "    </tr>\n",
       "    <tr>\n",
       "      <th>97</th>\n",
       "      <td>-342898.690100</td>\n",
       "      <td>1.649640e+06</td>\n",
       "    </tr>\n",
       "    <tr>\n",
       "      <th>98</th>\n",
       "      <td>0.908505</td>\n",
       "      <td>1.451078e+04</td>\n",
       "    </tr>\n",
       "    <tr>\n",
       "      <th>99</th>\n",
       "      <td>0.909817</td>\n",
       "      <td>1.471146e+04</td>\n",
       "    </tr>\n",
       "  </tbody>\n",
       "</table>\n",
       "<p>100 rows × 2 columns</p>\n",
       "</div>"
      ],
      "text/plain": [
       "         AR2_Base      MAE_Base\n",
       "0        0.912001  1.438730e+04\n",
       "1   -12359.592216  3.344799e+05\n",
       "2        0.823876  1.583486e+04\n",
       "3        0.814466  1.583649e+04\n",
       "4        0.898520  1.494276e+04\n",
       "..            ...           ...\n",
       "95       0.908097  1.483899e+04\n",
       "96       0.846905  1.546044e+04\n",
       "97 -342898.690100  1.649640e+06\n",
       "98       0.908505  1.451078e+04\n",
       "99       0.909817  1.471146e+04\n",
       "\n",
       "[100 rows x 2 columns]"
      ]
     },
     "execution_count": 12,
     "metadata": {},
     "output_type": "execute_result"
    }
   ],
   "source": [
    "Base"
   ]
  },
  {
   "cell_type": "code",
   "execution_count": 13,
   "id": "d581f2f0",
   "metadata": {},
   "outputs": [
    {
     "data": {
      "text/html": [
       "<div>\n",
       "<style scoped>\n",
       "    .dataframe tbody tr th:only-of-type {\n",
       "        vertical-align: middle;\n",
       "    }\n",
       "\n",
       "    .dataframe tbody tr th {\n",
       "        vertical-align: top;\n",
       "    }\n",
       "\n",
       "    .dataframe thead th {\n",
       "        text-align: right;\n",
       "    }\n",
       "</style>\n",
       "<table border=\"1\" class=\"dataframe\">\n",
       "  <thead>\n",
       "    <tr style=\"text-align: right;\">\n",
       "      <th></th>\n",
       "      <th>AR2_Base</th>\n",
       "      <th>MAE_Base</th>\n",
       "    </tr>\n",
       "  </thead>\n",
       "  <tbody>\n",
       "    <tr>\n",
       "      <th>0</th>\n",
       "      <td>0.912001</td>\n",
       "      <td>14387.300831</td>\n",
       "    </tr>\n",
       "    <tr>\n",
       "      <th>2</th>\n",
       "      <td>0.823876</td>\n",
       "      <td>15834.864817</td>\n",
       "    </tr>\n",
       "    <tr>\n",
       "      <th>3</th>\n",
       "      <td>0.814466</td>\n",
       "      <td>15836.489103</td>\n",
       "    </tr>\n",
       "    <tr>\n",
       "      <th>4</th>\n",
       "      <td>0.898520</td>\n",
       "      <td>14942.756598</td>\n",
       "    </tr>\n",
       "    <tr>\n",
       "      <th>5</th>\n",
       "      <td>0.897354</td>\n",
       "      <td>13730.387144</td>\n",
       "    </tr>\n",
       "    <tr>\n",
       "      <th>...</th>\n",
       "      <td>...</td>\n",
       "      <td>...</td>\n",
       "    </tr>\n",
       "    <tr>\n",
       "      <th>94</th>\n",
       "      <td>0.854590</td>\n",
       "      <td>15610.859998</td>\n",
       "    </tr>\n",
       "    <tr>\n",
       "      <th>95</th>\n",
       "      <td>0.908097</td>\n",
       "      <td>14838.991404</td>\n",
       "    </tr>\n",
       "    <tr>\n",
       "      <th>96</th>\n",
       "      <td>0.846905</td>\n",
       "      <td>15460.436361</td>\n",
       "    </tr>\n",
       "    <tr>\n",
       "      <th>98</th>\n",
       "      <td>0.908505</td>\n",
       "      <td>14510.784536</td>\n",
       "    </tr>\n",
       "    <tr>\n",
       "      <th>99</th>\n",
       "      <td>0.909817</td>\n",
       "      <td>14711.463444</td>\n",
       "    </tr>\n",
       "  </tbody>\n",
       "</table>\n",
       "<p>88 rows × 2 columns</p>\n",
       "</div>"
      ],
      "text/plain": [
       "    AR2_Base      MAE_Base\n",
       "0   0.912001  14387.300831\n",
       "2   0.823876  15834.864817\n",
       "3   0.814466  15836.489103\n",
       "4   0.898520  14942.756598\n",
       "5   0.897354  13730.387144\n",
       "..       ...           ...\n",
       "94  0.854590  15610.859998\n",
       "95  0.908097  14838.991404\n",
       "96  0.846905  15460.436361\n",
       "98  0.908505  14510.784536\n",
       "99  0.909817  14711.463444\n",
       "\n",
       "[88 rows x 2 columns]"
      ]
     },
     "execution_count": 13,
     "metadata": {},
     "output_type": "execute_result"
    }
   ],
   "source": [
    "Base = Base[Base.AR2_Base > 0]\n",
    "Base"
   ]
  },
  {
   "cell_type": "code",
   "execution_count": null,
   "id": "ca77e014",
   "metadata": {},
   "outputs": [],
   "source": []
  },
  {
   "cell_type": "code",
   "execution_count": 14,
   "id": "da6e63e5",
   "metadata": {},
   "outputs": [],
   "source": [
    "base_drop1 = pd.read_csv('BaseDrop1.csv')"
   ]
  },
  {
   "cell_type": "code",
   "execution_count": 15,
   "id": "501a2613",
   "metadata": {},
   "outputs": [
    {
     "data": {
      "text/plain": [
       "(2579, 300)"
      ]
     },
     "execution_count": 15,
     "metadata": {},
     "output_type": "execute_result"
    }
   ],
   "source": [
    "base_drop1.shape"
   ]
  },
  {
   "cell_type": "code",
   "execution_count": 16,
   "id": "4455e2a4",
   "metadata": {},
   "outputs": [],
   "source": [
    "X2 = base_drop1.drop(['SalePrice'], axis=1).values\n",
    "y2 = base_drop1.SalePrice.values"
   ]
  },
  {
   "cell_type": "code",
   "execution_count": 17,
   "id": "3b0765fa",
   "metadata": {},
   "outputs": [
    {
     "data": {
      "text/plain": [
       "2579"
      ]
     },
     "execution_count": 17,
     "metadata": {},
     "output_type": "execute_result"
    }
   ],
   "source": [
    "len(y2)"
   ]
  },
  {
   "cell_type": "code",
   "execution_count": 18,
   "id": "858459bb",
   "metadata": {},
   "outputs": [
    {
     "data": {
      "text/plain": [
       "(2579, 299)"
      ]
     },
     "execution_count": 18,
     "metadata": {},
     "output_type": "execute_result"
    }
   ],
   "source": [
    "X2.shape"
   ]
  },
  {
   "cell_type": "code",
   "execution_count": 19,
   "id": "7be716df",
   "metadata": {},
   "outputs": [
    {
     "data": {
      "text/plain": [
       "299"
      ]
     },
     "execution_count": 19,
     "metadata": {},
     "output_type": "execute_result"
    }
   ],
   "source": [
    "X2.shape[1]"
   ]
  },
  {
   "cell_type": "code",
   "execution_count": 20,
   "id": "1751f3dd",
   "metadata": {},
   "outputs": [],
   "source": [
    "AR2_Drop1 = []\n",
    "MAE_Drop1 = []\n",
    "\n",
    "for i in range(100):\n",
    "    X_train, X_test, y_train, y_test = train_test_split(X2,y2,test_size=0.25)\n",
    "    MLR.fit(X_train, y_train)\n",
    "    pred = MLR.predict(X_test)\n",
    "    \n",
    "    Adj_r2 = 1 - (1-r2_score(y_test, pred)) * (len(y)-1)/(len(y)-X.shape[1]-1)\n",
    "    AR2_Drop1.append(Adj_r2)\n",
    "    \n",
    "    mae = mean_absolute_error(y_test, pred)\n",
    "    MAE_Drop1.append(mae)"
   ]
  },
  {
   "cell_type": "code",
   "execution_count": 21,
   "id": "e61b6e40",
   "metadata": {},
   "outputs": [],
   "source": [
    "BaseDrop1 = pd.DataFrame({'AR2_Drop1': AR2_Drop1, 'MAE_Drop1': MAE_Drop1})"
   ]
  },
  {
   "cell_type": "code",
   "execution_count": 22,
   "id": "0af4946b",
   "metadata": {},
   "outputs": [
    {
     "data": {
      "text/html": [
       "<div>\n",
       "<style scoped>\n",
       "    .dataframe tbody tr th:only-of-type {\n",
       "        vertical-align: middle;\n",
       "    }\n",
       "\n",
       "    .dataframe tbody tr th {\n",
       "        vertical-align: top;\n",
       "    }\n",
       "\n",
       "    .dataframe thead th {\n",
       "        text-align: right;\n",
       "    }\n",
       "</style>\n",
       "<table border=\"1\" class=\"dataframe\">\n",
       "  <thead>\n",
       "    <tr style=\"text-align: right;\">\n",
       "      <th></th>\n",
       "      <th>AR2_Drop1</th>\n",
       "      <th>MAE_Drop1</th>\n",
       "    </tr>\n",
       "  </thead>\n",
       "  <tbody>\n",
       "    <tr>\n",
       "      <th>0</th>\n",
       "      <td>0.916732</td>\n",
       "      <td>15110.472291</td>\n",
       "    </tr>\n",
       "    <tr>\n",
       "      <th>1</th>\n",
       "      <td>0.905957</td>\n",
       "      <td>14974.058329</td>\n",
       "    </tr>\n",
       "    <tr>\n",
       "      <th>2</th>\n",
       "      <td>0.903057</td>\n",
       "      <td>14712.791971</td>\n",
       "    </tr>\n",
       "    <tr>\n",
       "      <th>3</th>\n",
       "      <td>0.882087</td>\n",
       "      <td>14655.371435</td>\n",
       "    </tr>\n",
       "    <tr>\n",
       "      <th>4</th>\n",
       "      <td>0.928528</td>\n",
       "      <td>13639.156713</td>\n",
       "    </tr>\n",
       "    <tr>\n",
       "      <th>...</th>\n",
       "      <td>...</td>\n",
       "      <td>...</td>\n",
       "    </tr>\n",
       "    <tr>\n",
       "      <th>95</th>\n",
       "      <td>0.871560</td>\n",
       "      <td>15751.389909</td>\n",
       "    </tr>\n",
       "    <tr>\n",
       "      <th>96</th>\n",
       "      <td>0.902176</td>\n",
       "      <td>14074.784935</td>\n",
       "    </tr>\n",
       "    <tr>\n",
       "      <th>97</th>\n",
       "      <td>0.890160</td>\n",
       "      <td>15900.143750</td>\n",
       "    </tr>\n",
       "    <tr>\n",
       "      <th>98</th>\n",
       "      <td>0.895952</td>\n",
       "      <td>16421.780336</td>\n",
       "    </tr>\n",
       "    <tr>\n",
       "      <th>99</th>\n",
       "      <td>0.905875</td>\n",
       "      <td>14787.654016</td>\n",
       "    </tr>\n",
       "  </tbody>\n",
       "</table>\n",
       "<p>100 rows × 2 columns</p>\n",
       "</div>"
      ],
      "text/plain": [
       "    AR2_Drop1     MAE_Drop1\n",
       "0    0.916732  15110.472291\n",
       "1    0.905957  14974.058329\n",
       "2    0.903057  14712.791971\n",
       "3    0.882087  14655.371435\n",
       "4    0.928528  13639.156713\n",
       "..        ...           ...\n",
       "95   0.871560  15751.389909\n",
       "96   0.902176  14074.784935\n",
       "97   0.890160  15900.143750\n",
       "98   0.895952  16421.780336\n",
       "99   0.905875  14787.654016\n",
       "\n",
       "[100 rows x 2 columns]"
      ]
     },
     "execution_count": 22,
     "metadata": {},
     "output_type": "execute_result"
    }
   ],
   "source": [
    "BaseDrop1"
   ]
  },
  {
   "cell_type": "code",
   "execution_count": 23,
   "id": "7f44e38c",
   "metadata": {},
   "outputs": [
    {
     "data": {
      "text/html": [
       "<div>\n",
       "<style scoped>\n",
       "    .dataframe tbody tr th:only-of-type {\n",
       "        vertical-align: middle;\n",
       "    }\n",
       "\n",
       "    .dataframe tbody tr th {\n",
       "        vertical-align: top;\n",
       "    }\n",
       "\n",
       "    .dataframe thead th {\n",
       "        text-align: right;\n",
       "    }\n",
       "</style>\n",
       "<table border=\"1\" class=\"dataframe\">\n",
       "  <thead>\n",
       "    <tr style=\"text-align: right;\">\n",
       "      <th></th>\n",
       "      <th>AR2_Drop1</th>\n",
       "      <th>MAE_Drop1</th>\n",
       "    </tr>\n",
       "  </thead>\n",
       "  <tbody>\n",
       "    <tr>\n",
       "      <th>0</th>\n",
       "      <td>0.916732</td>\n",
       "      <td>15110.472291</td>\n",
       "    </tr>\n",
       "    <tr>\n",
       "      <th>1</th>\n",
       "      <td>0.905957</td>\n",
       "      <td>14974.058329</td>\n",
       "    </tr>\n",
       "    <tr>\n",
       "      <th>2</th>\n",
       "      <td>0.903057</td>\n",
       "      <td>14712.791971</td>\n",
       "    </tr>\n",
       "    <tr>\n",
       "      <th>3</th>\n",
       "      <td>0.882087</td>\n",
       "      <td>14655.371435</td>\n",
       "    </tr>\n",
       "    <tr>\n",
       "      <th>4</th>\n",
       "      <td>0.928528</td>\n",
       "      <td>13639.156713</td>\n",
       "    </tr>\n",
       "    <tr>\n",
       "      <th>...</th>\n",
       "      <td>...</td>\n",
       "      <td>...</td>\n",
       "    </tr>\n",
       "    <tr>\n",
       "      <th>95</th>\n",
       "      <td>0.871560</td>\n",
       "      <td>15751.389909</td>\n",
       "    </tr>\n",
       "    <tr>\n",
       "      <th>96</th>\n",
       "      <td>0.902176</td>\n",
       "      <td>14074.784935</td>\n",
       "    </tr>\n",
       "    <tr>\n",
       "      <th>97</th>\n",
       "      <td>0.890160</td>\n",
       "      <td>15900.143750</td>\n",
       "    </tr>\n",
       "    <tr>\n",
       "      <th>98</th>\n",
       "      <td>0.895952</td>\n",
       "      <td>16421.780336</td>\n",
       "    </tr>\n",
       "    <tr>\n",
       "      <th>99</th>\n",
       "      <td>0.905875</td>\n",
       "      <td>14787.654016</td>\n",
       "    </tr>\n",
       "  </tbody>\n",
       "</table>\n",
       "<p>80 rows × 2 columns</p>\n",
       "</div>"
      ],
      "text/plain": [
       "    AR2_Drop1     MAE_Drop1\n",
       "0    0.916732  15110.472291\n",
       "1    0.905957  14974.058329\n",
       "2    0.903057  14712.791971\n",
       "3    0.882087  14655.371435\n",
       "4    0.928528  13639.156713\n",
       "..        ...           ...\n",
       "95   0.871560  15751.389909\n",
       "96   0.902176  14074.784935\n",
       "97   0.890160  15900.143750\n",
       "98   0.895952  16421.780336\n",
       "99   0.905875  14787.654016\n",
       "\n",
       "[80 rows x 2 columns]"
      ]
     },
     "execution_count": 23,
     "metadata": {},
     "output_type": "execute_result"
    }
   ],
   "source": [
    "BaseDrop1 = BaseDrop1[BaseDrop1.AR2_Drop1 > 0]\n",
    "BaseDrop1"
   ]
  },
  {
   "cell_type": "code",
   "execution_count": null,
   "id": "06c47345",
   "metadata": {},
   "outputs": [],
   "source": []
  },
  {
   "cell_type": "code",
   "execution_count": 30,
   "id": "280ab171",
   "metadata": {},
   "outputs": [
    {
     "data": {
      "text/plain": [
       "(2567, 299)"
      ]
     },
     "execution_count": 30,
     "metadata": {},
     "output_type": "execute_result"
    }
   ],
   "source": [
    "base_drop_IF = pd.read_csv('BaseDropIF.csv')\n",
    "base_drop_IF.shape"
   ]
  },
  {
   "cell_type": "code",
   "execution_count": 31,
   "id": "ec0b9874",
   "metadata": {},
   "outputs": [],
   "source": [
    "X3 = base_drop_IF.drop(['SalePrice'], axis=1).values\n",
    "y3 = base_drop_IF.SalePrice.values"
   ]
  },
  {
   "cell_type": "code",
   "execution_count": 32,
   "id": "743a962d",
   "metadata": {},
   "outputs": [],
   "source": [
    "AR2_DropIF = []\n",
    "MAE_DropIF = []\n",
    "\n",
    "for i in range(100):\n",
    "    X_train, X_test, y_train, y_test = train_test_split(X3,y3,test_size=0.25)\n",
    "    MLR.fit(X_train, y_train)\n",
    "    pred = MLR.predict(X_test)\n",
    "    \n",
    "    Adj_r2 = 1 - (1-r2_score(y_test, pred)) * (len(y)-1)/(len(y)-X.shape[1]-1)\n",
    "    AR2_DropIF.append(Adj_r2)\n",
    "    \n",
    "    mae = mean_absolute_error(y_test, pred)\n",
    "    MAE_DropIF.append(mae)"
   ]
  },
  {
   "cell_type": "code",
   "execution_count": 33,
   "id": "a9585797",
   "metadata": {},
   "outputs": [
    {
     "data": {
      "text/html": [
       "<div>\n",
       "<style scoped>\n",
       "    .dataframe tbody tr th:only-of-type {\n",
       "        vertical-align: middle;\n",
       "    }\n",
       "\n",
       "    .dataframe tbody tr th {\n",
       "        vertical-align: top;\n",
       "    }\n",
       "\n",
       "    .dataframe thead th {\n",
       "        text-align: right;\n",
       "    }\n",
       "</style>\n",
       "<table border=\"1\" class=\"dataframe\">\n",
       "  <thead>\n",
       "    <tr style=\"text-align: right;\">\n",
       "      <th></th>\n",
       "      <th>AR2_DropIF</th>\n",
       "      <th>MAE_DropIF</th>\n",
       "    </tr>\n",
       "  </thead>\n",
       "  <tbody>\n",
       "    <tr>\n",
       "      <th>0</th>\n",
       "      <td>0.898389</td>\n",
       "      <td>1.501480e+04</td>\n",
       "    </tr>\n",
       "    <tr>\n",
       "      <th>1</th>\n",
       "      <td>0.914920</td>\n",
       "      <td>1.416328e+04</td>\n",
       "    </tr>\n",
       "    <tr>\n",
       "      <th>2</th>\n",
       "      <td>0.880362</td>\n",
       "      <td>1.449980e+04</td>\n",
       "    </tr>\n",
       "    <tr>\n",
       "      <th>3</th>\n",
       "      <td>-153.814067</td>\n",
       "      <td>4.484600e+04</td>\n",
       "    </tr>\n",
       "    <tr>\n",
       "      <th>4</th>\n",
       "      <td>0.924566</td>\n",
       "      <td>1.344480e+04</td>\n",
       "    </tr>\n",
       "    <tr>\n",
       "      <th>...</th>\n",
       "      <td>...</td>\n",
       "      <td>...</td>\n",
       "    </tr>\n",
       "    <tr>\n",
       "      <th>95</th>\n",
       "      <td>-211830.479994</td>\n",
       "      <td>1.330679e+06</td>\n",
       "    </tr>\n",
       "    <tr>\n",
       "      <th>96</th>\n",
       "      <td>0.911859</td>\n",
       "      <td>1.336492e+04</td>\n",
       "    </tr>\n",
       "    <tr>\n",
       "      <th>97</th>\n",
       "      <td>0.907772</td>\n",
       "      <td>1.490669e+04</td>\n",
       "    </tr>\n",
       "    <tr>\n",
       "      <th>98</th>\n",
       "      <td>0.916486</td>\n",
       "      <td>1.393906e+04</td>\n",
       "    </tr>\n",
       "    <tr>\n",
       "      <th>99</th>\n",
       "      <td>0.902199</td>\n",
       "      <td>1.417433e+04</td>\n",
       "    </tr>\n",
       "  </tbody>\n",
       "</table>\n",
       "<p>100 rows × 2 columns</p>\n",
       "</div>"
      ],
      "text/plain": [
       "       AR2_DropIF    MAE_DropIF\n",
       "0        0.898389  1.501480e+04\n",
       "1        0.914920  1.416328e+04\n",
       "2        0.880362  1.449980e+04\n",
       "3     -153.814067  4.484600e+04\n",
       "4        0.924566  1.344480e+04\n",
       "..            ...           ...\n",
       "95 -211830.479994  1.330679e+06\n",
       "96       0.911859  1.336492e+04\n",
       "97       0.907772  1.490669e+04\n",
       "98       0.916486  1.393906e+04\n",
       "99       0.902199  1.417433e+04\n",
       "\n",
       "[100 rows x 2 columns]"
      ]
     },
     "execution_count": 33,
     "metadata": {},
     "output_type": "execute_result"
    }
   ],
   "source": [
    "BaseDropIF = pd.DataFrame({'AR2_DropIF': AR2_DropIF, 'MAE_DropIF': MAE_DropIF})\n",
    "BaseDropIF"
   ]
  },
  {
   "cell_type": "code",
   "execution_count": 35,
   "id": "96158606",
   "metadata": {},
   "outputs": [
    {
     "data": {
      "text/html": [
       "<div>\n",
       "<style scoped>\n",
       "    .dataframe tbody tr th:only-of-type {\n",
       "        vertical-align: middle;\n",
       "    }\n",
       "\n",
       "    .dataframe tbody tr th {\n",
       "        vertical-align: top;\n",
       "    }\n",
       "\n",
       "    .dataframe thead th {\n",
       "        text-align: right;\n",
       "    }\n",
       "</style>\n",
       "<table border=\"1\" class=\"dataframe\">\n",
       "  <thead>\n",
       "    <tr style=\"text-align: right;\">\n",
       "      <th></th>\n",
       "      <th>AR2_DropIF</th>\n",
       "      <th>MAE_DropIF</th>\n",
       "    </tr>\n",
       "  </thead>\n",
       "  <tbody>\n",
       "    <tr>\n",
       "      <th>0</th>\n",
       "      <td>0.898389</td>\n",
       "      <td>15014.802006</td>\n",
       "    </tr>\n",
       "    <tr>\n",
       "      <th>1</th>\n",
       "      <td>0.914920</td>\n",
       "      <td>14163.280755</td>\n",
       "    </tr>\n",
       "    <tr>\n",
       "      <th>2</th>\n",
       "      <td>0.880362</td>\n",
       "      <td>14499.797618</td>\n",
       "    </tr>\n",
       "    <tr>\n",
       "      <th>4</th>\n",
       "      <td>0.924566</td>\n",
       "      <td>13444.804511</td>\n",
       "    </tr>\n",
       "    <tr>\n",
       "      <th>5</th>\n",
       "      <td>0.920624</td>\n",
       "      <td>13640.834080</td>\n",
       "    </tr>\n",
       "    <tr>\n",
       "      <th>...</th>\n",
       "      <td>...</td>\n",
       "      <td>...</td>\n",
       "    </tr>\n",
       "    <tr>\n",
       "      <th>94</th>\n",
       "      <td>0.922558</td>\n",
       "      <td>13628.796654</td>\n",
       "    </tr>\n",
       "    <tr>\n",
       "      <th>96</th>\n",
       "      <td>0.911859</td>\n",
       "      <td>13364.916225</td>\n",
       "    </tr>\n",
       "    <tr>\n",
       "      <th>97</th>\n",
       "      <td>0.907772</td>\n",
       "      <td>14906.687364</td>\n",
       "    </tr>\n",
       "    <tr>\n",
       "      <th>98</th>\n",
       "      <td>0.916486</td>\n",
       "      <td>13939.058061</td>\n",
       "    </tr>\n",
       "    <tr>\n",
       "      <th>99</th>\n",
       "      <td>0.902199</td>\n",
       "      <td>14174.326219</td>\n",
       "    </tr>\n",
       "  </tbody>\n",
       "</table>\n",
       "<p>80 rows × 2 columns</p>\n",
       "</div>"
      ],
      "text/plain": [
       "    AR2_DropIF    MAE_DropIF\n",
       "0     0.898389  15014.802006\n",
       "1     0.914920  14163.280755\n",
       "2     0.880362  14499.797618\n",
       "4     0.924566  13444.804511\n",
       "5     0.920624  13640.834080\n",
       "..         ...           ...\n",
       "94    0.922558  13628.796654\n",
       "96    0.911859  13364.916225\n",
       "97    0.907772  14906.687364\n",
       "98    0.916486  13939.058061\n",
       "99    0.902199  14174.326219\n",
       "\n",
       "[80 rows x 2 columns]"
      ]
     },
     "execution_count": 35,
     "metadata": {},
     "output_type": "execute_result"
    }
   ],
   "source": [
    "BaseDropIF = BaseDropIF[BaseDropIF.AR2_DropIF > 0]\n",
    "BaseDropIF"
   ]
  },
  {
   "cell_type": "code",
   "execution_count": null,
   "id": "239fbc50",
   "metadata": {},
   "outputs": [],
   "source": []
  },
  {
   "cell_type": "code",
   "execution_count": 36,
   "id": "c70fcba1",
   "metadata": {},
   "outputs": [
    {
     "data": {
      "text/html": [
       "<div>\n",
       "<style scoped>\n",
       "    .dataframe tbody tr th:only-of-type {\n",
       "        vertical-align: middle;\n",
       "    }\n",
       "\n",
       "    .dataframe tbody tr th {\n",
       "        vertical-align: top;\n",
       "    }\n",
       "\n",
       "    .dataframe thead th {\n",
       "        text-align: right;\n",
       "    }\n",
       "</style>\n",
       "<table border=\"1\" class=\"dataframe\">\n",
       "  <thead>\n",
       "    <tr style=\"text-align: right;\">\n",
       "      <th></th>\n",
       "      <th>AR2_Base</th>\n",
       "      <th>MAE_Base</th>\n",
       "      <th>AR2_Drop1</th>\n",
       "      <th>MAE_Drop1</th>\n",
       "      <th>AR2_DropIF</th>\n",
       "      <th>MAE_DropIF</th>\n",
       "    </tr>\n",
       "  </thead>\n",
       "  <tbody>\n",
       "    <tr>\n",
       "      <th>0</th>\n",
       "      <td>0.912001</td>\n",
       "      <td>14387.300831</td>\n",
       "      <td>0.916732</td>\n",
       "      <td>15110.472291</td>\n",
       "      <td>0.898389</td>\n",
       "      <td>15014.802006</td>\n",
       "    </tr>\n",
       "    <tr>\n",
       "      <th>1</th>\n",
       "      <td>NaN</td>\n",
       "      <td>NaN</td>\n",
       "      <td>0.905957</td>\n",
       "      <td>14974.058329</td>\n",
       "      <td>0.914920</td>\n",
       "      <td>14163.280755</td>\n",
       "    </tr>\n",
       "    <tr>\n",
       "      <th>2</th>\n",
       "      <td>0.823876</td>\n",
       "      <td>15834.864817</td>\n",
       "      <td>0.903057</td>\n",
       "      <td>14712.791971</td>\n",
       "      <td>0.880362</td>\n",
       "      <td>14499.797618</td>\n",
       "    </tr>\n",
       "    <tr>\n",
       "      <th>3</th>\n",
       "      <td>0.814466</td>\n",
       "      <td>15836.489103</td>\n",
       "      <td>0.882087</td>\n",
       "      <td>14655.371435</td>\n",
       "      <td>NaN</td>\n",
       "      <td>NaN</td>\n",
       "    </tr>\n",
       "    <tr>\n",
       "      <th>4</th>\n",
       "      <td>0.898520</td>\n",
       "      <td>14942.756598</td>\n",
       "      <td>0.928528</td>\n",
       "      <td>13639.156713</td>\n",
       "      <td>0.924566</td>\n",
       "      <td>13444.804511</td>\n",
       "    </tr>\n",
       "    <tr>\n",
       "      <th>...</th>\n",
       "      <td>...</td>\n",
       "      <td>...</td>\n",
       "      <td>...</td>\n",
       "      <td>...</td>\n",
       "      <td>...</td>\n",
       "      <td>...</td>\n",
       "    </tr>\n",
       "    <tr>\n",
       "      <th>95</th>\n",
       "      <td>0.908097</td>\n",
       "      <td>14838.991404</td>\n",
       "      <td>0.871560</td>\n",
       "      <td>15751.389909</td>\n",
       "      <td>NaN</td>\n",
       "      <td>NaN</td>\n",
       "    </tr>\n",
       "    <tr>\n",
       "      <th>96</th>\n",
       "      <td>0.846905</td>\n",
       "      <td>15460.436361</td>\n",
       "      <td>0.902176</td>\n",
       "      <td>14074.784935</td>\n",
       "      <td>0.911859</td>\n",
       "      <td>13364.916225</td>\n",
       "    </tr>\n",
       "    <tr>\n",
       "      <th>97</th>\n",
       "      <td>NaN</td>\n",
       "      <td>NaN</td>\n",
       "      <td>0.890160</td>\n",
       "      <td>15900.143750</td>\n",
       "      <td>0.907772</td>\n",
       "      <td>14906.687364</td>\n",
       "    </tr>\n",
       "    <tr>\n",
       "      <th>98</th>\n",
       "      <td>0.908505</td>\n",
       "      <td>14510.784536</td>\n",
       "      <td>0.895952</td>\n",
       "      <td>16421.780336</td>\n",
       "      <td>0.916486</td>\n",
       "      <td>13939.058061</td>\n",
       "    </tr>\n",
       "    <tr>\n",
       "      <th>99</th>\n",
       "      <td>0.909817</td>\n",
       "      <td>14711.463444</td>\n",
       "      <td>0.905875</td>\n",
       "      <td>14787.654016</td>\n",
       "      <td>0.902199</td>\n",
       "      <td>14174.326219</td>\n",
       "    </tr>\n",
       "  </tbody>\n",
       "</table>\n",
       "<p>99 rows × 6 columns</p>\n",
       "</div>"
      ],
      "text/plain": [
       "    AR2_Base      MAE_Base  AR2_Drop1     MAE_Drop1  AR2_DropIF    MAE_DropIF\n",
       "0   0.912001  14387.300831   0.916732  15110.472291    0.898389  15014.802006\n",
       "1        NaN           NaN   0.905957  14974.058329    0.914920  14163.280755\n",
       "2   0.823876  15834.864817   0.903057  14712.791971    0.880362  14499.797618\n",
       "3   0.814466  15836.489103   0.882087  14655.371435         NaN           NaN\n",
       "4   0.898520  14942.756598   0.928528  13639.156713    0.924566  13444.804511\n",
       "..       ...           ...        ...           ...         ...           ...\n",
       "95  0.908097  14838.991404   0.871560  15751.389909         NaN           NaN\n",
       "96  0.846905  15460.436361   0.902176  14074.784935    0.911859  13364.916225\n",
       "97       NaN           NaN   0.890160  15900.143750    0.907772  14906.687364\n",
       "98  0.908505  14510.784536   0.895952  16421.780336    0.916486  13939.058061\n",
       "99  0.909817  14711.463444   0.905875  14787.654016    0.902199  14174.326219\n",
       "\n",
       "[99 rows x 6 columns]"
      ]
     },
     "execution_count": 36,
     "metadata": {},
     "output_type": "execute_result"
    }
   ],
   "source": [
    "box = pd.concat([Base, BaseDrop1, BaseDropIF], axis=1)\n",
    "box"
   ]
  },
  {
   "cell_type": "code",
   "execution_count": 37,
   "id": "e535a642",
   "metadata": {},
   "outputs": [
    {
     "data": {
      "text/html": [
       "<div>\n",
       "<style scoped>\n",
       "    .dataframe tbody tr th:only-of-type {\n",
       "        vertical-align: middle;\n",
       "    }\n",
       "\n",
       "    .dataframe tbody tr th {\n",
       "        vertical-align: top;\n",
       "    }\n",
       "\n",
       "    .dataframe thead th {\n",
       "        text-align: right;\n",
       "    }\n",
       "</style>\n",
       "<table border=\"1\" class=\"dataframe\">\n",
       "  <thead>\n",
       "    <tr style=\"text-align: right;\">\n",
       "      <th></th>\n",
       "      <th>AR2_Base</th>\n",
       "      <th>MAE_Base</th>\n",
       "      <th>AR2_Drop1</th>\n",
       "      <th>MAE_Drop1</th>\n",
       "      <th>AR2_DropIF</th>\n",
       "      <th>MAE_DropIF</th>\n",
       "    </tr>\n",
       "  </thead>\n",
       "  <tbody>\n",
       "    <tr>\n",
       "      <th>count</th>\n",
       "      <td>88.000000</td>\n",
       "      <td>88.000000</td>\n",
       "      <td>80.000000</td>\n",
       "      <td>80.000000</td>\n",
       "      <td>80.000000</td>\n",
       "      <td>80.000000</td>\n",
       "    </tr>\n",
       "    <tr>\n",
       "      <th>mean</th>\n",
       "      <td>0.883286</td>\n",
       "      <td>14918.053679</td>\n",
       "      <td>0.903384</td>\n",
       "      <td>14735.638675</td>\n",
       "      <td>0.904051</td>\n",
       "      <td>14352.126580</td>\n",
       "    </tr>\n",
       "    <tr>\n",
       "      <th>std</th>\n",
       "      <td>0.032788</td>\n",
       "      <td>702.154261</td>\n",
       "      <td>0.015220</td>\n",
       "      <td>873.519313</td>\n",
       "      <td>0.016785</td>\n",
       "      <td>558.805783</td>\n",
       "    </tr>\n",
       "    <tr>\n",
       "      <th>min</th>\n",
       "      <td>0.731573</td>\n",
       "      <td>13529.538414</td>\n",
       "      <td>0.856127</td>\n",
       "      <td>13009.573856</td>\n",
       "      <td>0.849621</td>\n",
       "      <td>13364.916225</td>\n",
       "    </tr>\n",
       "    <tr>\n",
       "      <th>25%</th>\n",
       "      <td>0.862292</td>\n",
       "      <td>14418.110559</td>\n",
       "      <td>0.897246</td>\n",
       "      <td>14183.763175</td>\n",
       "      <td>0.899601</td>\n",
       "      <td>13959.048364</td>\n",
       "    </tr>\n",
       "    <tr>\n",
       "      <th>50%</th>\n",
       "      <td>0.895957</td>\n",
       "      <td>14873.089799</td>\n",
       "      <td>0.906075</td>\n",
       "      <td>14626.085026</td>\n",
       "      <td>0.909720</td>\n",
       "      <td>14222.916311</td>\n",
       "    </tr>\n",
       "    <tr>\n",
       "      <th>75%</th>\n",
       "      <td>0.904946</td>\n",
       "      <td>15355.025160</td>\n",
       "      <td>0.913685</td>\n",
       "      <td>15114.915282</td>\n",
       "      <td>0.914922</td>\n",
       "      <td>14708.169614</td>\n",
       "    </tr>\n",
       "    <tr>\n",
       "      <th>max</th>\n",
       "      <td>0.919525</td>\n",
       "      <td>17680.246510</td>\n",
       "      <td>0.928528</td>\n",
       "      <td>19444.912410</td>\n",
       "      <td>0.929638</td>\n",
       "      <td>15966.362104</td>\n",
       "    </tr>\n",
       "  </tbody>\n",
       "</table>\n",
       "</div>"
      ],
      "text/plain": [
       "        AR2_Base      MAE_Base  AR2_Drop1     MAE_Drop1  AR2_DropIF  \\\n",
       "count  88.000000     88.000000  80.000000     80.000000   80.000000   \n",
       "mean    0.883286  14918.053679   0.903384  14735.638675    0.904051   \n",
       "std     0.032788    702.154261   0.015220    873.519313    0.016785   \n",
       "min     0.731573  13529.538414   0.856127  13009.573856    0.849621   \n",
       "25%     0.862292  14418.110559   0.897246  14183.763175    0.899601   \n",
       "50%     0.895957  14873.089799   0.906075  14626.085026    0.909720   \n",
       "75%     0.904946  15355.025160   0.913685  15114.915282    0.914922   \n",
       "max     0.919525  17680.246510   0.928528  19444.912410    0.929638   \n",
       "\n",
       "         MAE_DropIF  \n",
       "count     80.000000  \n",
       "mean   14352.126580  \n",
       "std      558.805783  \n",
       "min    13364.916225  \n",
       "25%    13959.048364  \n",
       "50%    14222.916311  \n",
       "75%    14708.169614  \n",
       "max    15966.362104  "
      ]
     },
     "execution_count": 37,
     "metadata": {},
     "output_type": "execute_result"
    }
   ],
   "source": [
    "box.describe()"
   ]
  },
  {
   "cell_type": "code",
   "execution_count": 38,
   "id": "86f6fa55",
   "metadata": {},
   "outputs": [
    {
     "data": {
      "image/png": "[encoded data removed]",
      "text/plain": [
       "<Figure size 432x288 with 1 Axes>"
      ]
     },
     "metadata": {
      "needs_background": "light"
     },
     "output_type": "display_data"
    }
   ],
   "source": [
    "sns.boxplot(data=box[['AR2_Base','AR2_Drop1', 'AR2_DropIF']]);"
   ]
  },
  {
   "cell_type": "code",
   "execution_count": 39,
   "id": "160c3c78",
   "metadata": {},
   "outputs": [
    {
     "data": {
      "image/png": "[encoded data removed]",
      "text/plain": [
       "<Figure size 432x288 with 1 Axes>"
      ]
     },
     "metadata": {
      "needs_background": "light"
     },
     "output_type": "display_data"
    }
   ],
   "source": [
    "sns.boxplot(data=box[['MAE_Base', 'MAE_Drop1', 'MAE_DropIF']]);"
   ]
  },
  {
   "cell_type": "code",
   "execution_count": null,
   "id": "6d44565f",
   "metadata": {},
   "outputs": [],
   "source": []
  },
  {
   "cell_type": "code",
   "execution_count": null,
   "id": "55e05966",
   "metadata": {},
   "outputs": [],
   "source": []
  }
 ],
 "metadata": {
  "hide_input": false,
  "kernelspec": {
   "display_name": "Python 3 (ipykernel)",
   "language": "python",
   "name": "python3"
  },
  "language_info": {
   "codemirror_mode": {
    "name": "ipython",
    "version": 3
   },
   "file_extension": ".py",
   "mimetype": "text/x-python",
   "name": "python",
   "nbconvert_exporter": "python",
   "pygments_lexer": "ipython3",
   "version": "3.8.8"
  },
  "varInspector": {
   "cols": {
    "lenName": 16,
    "lenType": 16,
    "lenVar": 40
   },
   "kernels_config": {
    "python": {
     "delete_cmd_postfix": "",
     "delete_cmd_prefix": "del ",
     "library": "var_list.py",
     "varRefreshCmd": "print(var_dic_list())"
    },
    "r": {
     "delete_cmd_postfix": ") ",
     "delete_cmd_prefix": "rm(",
     "library": "var_list.r",
     "varRefreshCmd": "cat(var_dic_list()) "
    }
   },
   "types_to_exclude": [
    "module",
    "function",
    "builtin_function_or_method",
    "instance",
    "_Feature"
   ],
   "window_display": false
  }
 },
 "nbformat": 4,
 "nbformat_minor": 5
}
