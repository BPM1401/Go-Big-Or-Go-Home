{
 "cells": [
  {
   "cell_type": "code",
   "execution_count": 1,
   "id": "8cb5beed",
   "metadata": {},
   "outputs": [],
   "source": [
    "import pandas as pd\n",
    "from sklearn.linear_model import Lasso"
   ]
  },
  {
   "cell_type": "code",
   "execution_count": 2,
   "id": "dabb44eb",
   "metadata": {},
   "outputs": [
    {
     "data": {
      "text/plain": [
       "(2568, 299)"
      ]
     },
     "execution_count": 2,
     "metadata": {},
     "output_type": "execute_result"
    }
   ],
   "source": [
    "base_dropIF = pd.read_csv('BaseDropIF.csv')\n",
    "base_dropIF.shape"
   ]
  },
  {
   "cell_type": "code",
   "execution_count": 3,
   "id": "0b135b6d",
   "metadata": {},
   "outputs": [],
   "source": [
    "Lasso = Lasso()"
   ]
  },
  {
   "cell_type": "code",
   "execution_count": 4,
   "id": "d020c423",
   "metadata": {},
   "outputs": [],
   "source": [
    "X = base_dropIF.drop(['SalePrice'], axis=1).values\n",
    "y = base_dropIF.SalePrice.values"
   ]
  },
  {
   "cell_type": "code",
   "execution_count": 5,
   "id": "a18358db",
   "metadata": {},
   "outputs": [
    {
     "name": "stderr",
     "output_type": "stream",
     "text": [
      "/opt/anaconda3/lib/python3.8/site-packages/sklearn/linear_model/_coordinate_descent.py:647: ConvergenceWarning: Objective did not converge. You might want to increase the number of iterations, check the scale of the features or consider increasing regularisation. Duality gap: 3.764e+11, tolerance: 1.390e+09\n",
      "  model = cd_fast.enet_coordinate_descent(\n"
     ]
    },
    {
     "data": {
      "text/plain": [
       "Lasso()"
      ]
     },
     "execution_count": 5,
     "metadata": {},
     "output_type": "execute_result"
    }
   ],
   "source": [
    "Lasso.fit(X,y)"
   ]
  },
  {
   "cell_type": "code",
   "execution_count": 6,
   "id": "0ad7f185",
   "metadata": {},
   "outputs": [
    {
     "data": {
      "text/plain": [
       "0.9467686358991944"
      ]
     },
     "execution_count": 6,
     "metadata": {},
     "output_type": "execute_result"
    }
   ],
   "source": [
    "Lasso.score(X,y)"
   ]
  },
  {
   "cell_type": "code",
   "execution_count": 7,
   "id": "8f2ed493",
   "metadata": {},
   "outputs": [],
   "source": [
    "Lasso_Results = Lasso.predict(X)"
   ]
  },
  {
   "cell_type": "code",
   "execution_count": 8,
   "id": "173be70e",
   "metadata": {},
   "outputs": [
    {
     "data": {
      "text/plain": [
       "2568"
      ]
     },
     "execution_count": 8,
     "metadata": {},
     "output_type": "execute_result"
    }
   ],
   "source": [
    "len(Lasso_Results)"
   ]
  },
  {
   "cell_type": "code",
   "execution_count": null,
   "id": "e0ce6825",
   "metadata": {},
   "outputs": [],
   "source": []
  },
  {
   "cell_type": "code",
   "execution_count": 9,
   "id": "39be4806",
   "metadata": {},
   "outputs": [
    {
     "data": {
      "text/plain": [
       "(2568, 83)"
      ]
     },
     "execution_count": 9,
     "metadata": {},
     "output_type": "execute_result"
    }
   ],
   "source": [
    "ordinal_dropIF = pd.read_csv('OrdinalDropIF.csv')\n",
    "ordinal_dropIF.shape"
   ]
  },
  {
   "cell_type": "code",
   "execution_count": 10,
   "id": "12d33ab8",
   "metadata": {},
   "outputs": [
    {
     "data": {
      "text/plain": [
       "(2568, 84)"
      ]
     },
     "execution_count": 10,
     "metadata": {},
     "output_type": "execute_result"
    }
   ],
   "source": [
    "ordinal_dropIF = ordinal_dropIF.assign(Lasso = Lasso_Results)\n",
    "ordinal_dropIF.shape"
   ]
  },
  {
   "cell_type": "code",
   "execution_count": null,
   "id": "401415b1",
   "metadata": {},
   "outputs": [],
   "source": []
  },
  {
   "cell_type": "code",
   "execution_count": 11,
   "id": "17ba608d",
   "metadata": {},
   "outputs": [],
   "source": [
    "ordinal_dropIF.to_csv('Ordinal+Lasso_DropIF.csv', index=False)"
   ]
  },
  {
   "cell_type": "code",
   "execution_count": null,
   "id": "f531bd90",
   "metadata": {},
   "outputs": [],
   "source": []
  }
 ],
 "metadata": {
  "hide_input": false,
  "kernelspec": {
   "display_name": "Python 3 (ipykernel)",
   "language": "python",
   "name": "python3"
  },
  "language_info": {
   "codemirror_mode": {
    "name": "ipython",
    "version": 3
   },
   "file_extension": ".py",
   "mimetype": "text/x-python",
   "name": "python",
   "nbconvert_exporter": "python",
   "pygments_lexer": "ipython3",
   "version": "3.8.8"
  },
  "varInspector": {
   "cols": {
    "lenName": 16,
    "lenType": 16,
    "lenVar": 40
   },
   "kernels_config": {
    "python": {
     "delete_cmd_postfix": "",
     "delete_cmd_prefix": "del ",
     "library": "var_list.py",
     "varRefreshCmd": "print(var_dic_list())"
    },
    "r": {
     "delete_cmd_postfix": ") ",
     "delete_cmd_prefix": "rm(",
     "library": "var_list.r",
     "varRefreshCmd": "cat(var_dic_list()) "
    }
   },
   "types_to_exclude": [
    "module",
    "function",
    "builtin_function_or_method",
    "instance",
    "_Feature"
   ],
   "window_display": false
  }
 },
 "nbformat": 4,
 "nbformat_minor": 5
}
