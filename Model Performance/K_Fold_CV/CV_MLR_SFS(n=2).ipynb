{
 "cells": [
  {
   "cell_type": "code",
   "execution_count": 64,
   "id": "14f2fef0",
   "metadata": {},
   "outputs": [],
   "source": [
    "import pandas as pd\n",
    "import numpy as np\n",
    "import matplotlib.pyplot as plt\n",
    "\n",
    "import seaborn as sns\n",
    "\n",
    "import scipy as sp\n",
    "from sklearn.linear_model import LinearRegression\n",
    "\n",
    "from sklearn.model_selection import cross_val_score, cross_validate\n",
    "from sklearn.model_selection import RepeatedKFold\n",
    "\n",
    "pd.set_option(\"display.max_columns\", 100)\n",
    "\n",
    "import statsmodels.api as sm\n",
    "import statsmodels.stats.api as sms\n",
    "from scipy import stats"
   ]
  },
  {
   "cell_type": "code",
   "execution_count": 65,
   "id": "ec09f4d4",
   "metadata": {},
   "outputs": [
    {
     "data": {
      "text/plain": [
       "(2580, 299)"
      ]
     },
     "execution_count": 65,
     "metadata": {},
     "output_type": "execute_result"
    }
   ],
   "source": [
    "# Basic Dummified Dataset for Linear Models\n",
    "base = pd.read_csv('../../Data/BaseData.csv')\n",
    "base.shape"
   ]
  },
  {
   "cell_type": "code",
   "execution_count": null,
   "id": "febca45c",
   "metadata": {},
   "outputs": [],
   "source": []
  },
  {
   "cell_type": "markdown",
   "id": "c74943ef",
   "metadata": {},
   "source": [
    "### MLR With SFS (n=2) ###"
   ]
  },
  {
   "cell_type": "code",
   "execution_count": 66,
   "id": "f56be6c1",
   "metadata": {},
   "outputs": [],
   "source": [
    "from sklearn.feature_selection import SequentialFeatureSelector"
   ]
  },
  {
   "cell_type": "code",
   "execution_count": 67,
   "id": "013788ef",
   "metadata": {},
   "outputs": [],
   "source": [
    "y=base.SalePrice\n",
    "X=base.drop('SalePrice', axis=1)"
   ]
  },
  {
   "cell_type": "code",
   "execution_count": 68,
   "id": "1fdb58be",
   "metadata": {},
   "outputs": [],
   "source": [
    "multiple = LinearRegression()"
   ]
  },
  {
   "cell_type": "code",
   "execution_count": 69,
   "id": "93e456e0",
   "metadata": {},
   "outputs": [],
   "source": [
    "sfs_foreward = SequentialFeatureSelector(\n",
    "    multiple, n_features_to_select=2, direction=\"forward\"\n",
    ").fit(X, y)"
   ]
  },
  {
   "cell_type": "code",
   "execution_count": 70,
   "id": "3e13bae8",
   "metadata": {},
   "outputs": [
    {
     "data": {
      "text/plain": [
       "Index(['GrLivArea', 'OverallQual'], dtype='object')"
      ]
     },
     "execution_count": 70,
     "metadata": {},
     "output_type": "execute_result"
    }
   ],
   "source": [
    "selected = X.columns[sfs_foreward.get_support()]\n",
    "selected"
   ]
  },
  {
   "cell_type": "code",
   "execution_count": 71,
   "id": "0a05cf2f",
   "metadata": {},
   "outputs": [
    {
     "data": {
      "text/html": [
       "<div>\n",
       "<style scoped>\n",
       "    .dataframe tbody tr th:only-of-type {\n",
       "        vertical-align: middle;\n",
       "    }\n",
       "\n",
       "    .dataframe tbody tr th {\n",
       "        vertical-align: top;\n",
       "    }\n",
       "\n",
       "    .dataframe thead th {\n",
       "        text-align: right;\n",
       "    }\n",
       "</style>\n",
       "<table border=\"1\" class=\"dataframe\">\n",
       "  <thead>\n",
       "    <tr style=\"text-align: right;\">\n",
       "      <th></th>\n",
       "      <th>GrLivArea</th>\n",
       "      <th>OverallQual</th>\n",
       "    </tr>\n",
       "  </thead>\n",
       "  <tbody>\n",
       "    <tr>\n",
       "      <th>0</th>\n",
       "      <td>856</td>\n",
       "      <td>6</td>\n",
       "    </tr>\n",
       "    <tr>\n",
       "      <th>1</th>\n",
       "      <td>1049</td>\n",
       "      <td>5</td>\n",
       "    </tr>\n",
       "    <tr>\n",
       "      <th>2</th>\n",
       "      <td>1001</td>\n",
       "      <td>5</td>\n",
       "    </tr>\n",
       "  </tbody>\n",
       "</table>\n",
       "</div>"
      ],
      "text/plain": [
       "   GrLivArea  OverallQual\n",
       "0        856            6\n",
       "1       1049            5\n",
       "2       1001            5"
      ]
     },
     "execution_count": 71,
     "metadata": {},
     "output_type": "execute_result"
    }
   ],
   "source": [
    "X = base[selected]\n",
    "X.head(3)"
   ]
  },
  {
   "cell_type": "code",
   "execution_count": 72,
   "id": "aff461c2",
   "metadata": {},
   "outputs": [
    {
     "data": {
      "text/html": [
       "<style>#sk-container-id-4 {color: black;background-color: white;}#sk-container-id-4 pre{padding: 0;}#sk-container-id-4 div.sk-toggleable {background-color: white;}#sk-container-id-4 label.sk-toggleable__label {cursor: pointer;display: block;width: 100%;margin-bottom: 0;padding: 0.3em;box-sizing: border-box;text-align: center;}#sk-container-id-4 label.sk-toggleable__label-arrow:before {content: \"▸\";float: left;margin-right: 0.25em;color: #696969;}#sk-container-id-4 label.sk-toggleable__label-arrow:hover:before {color: black;}#sk-container-id-4 div.sk-estimator:hover label.sk-toggleable__label-arrow:before {color: black;}#sk-container-id-4 div.sk-toggleable__content {max-height: 0;max-width: 0;overflow: hidden;text-align: left;background-color: #f0f8ff;}#sk-container-id-4 div.sk-toggleable__content pre {margin: 0.2em;color: black;border-radius: 0.25em;background-color: #f0f8ff;}#sk-container-id-4 input.sk-toggleable__control:checked~div.sk-toggleable__content {max-height: 200px;max-width: 100%;overflow: auto;}#sk-container-id-4 input.sk-toggleable__control:checked~label.sk-toggleable__label-arrow:before {content: \"▾\";}#sk-container-id-4 div.sk-estimator input.sk-toggleable__control:checked~label.sk-toggleable__label {background-color: #d4ebff;}#sk-container-id-4 div.sk-label input.sk-toggleable__control:checked~label.sk-toggleable__label {background-color: #d4ebff;}#sk-container-id-4 input.sk-hidden--visually {border: 0;clip: rect(1px 1px 1px 1px);clip: rect(1px, 1px, 1px, 1px);height: 1px;margin: -1px;overflow: hidden;padding: 0;position: absolute;width: 1px;}#sk-container-id-4 div.sk-estimator {font-family: monospace;background-color: #f0f8ff;border: 1px dotted black;border-radius: 0.25em;box-sizing: border-box;margin-bottom: 0.5em;}#sk-container-id-4 div.sk-estimator:hover {background-color: #d4ebff;}#sk-container-id-4 div.sk-parallel-item::after {content: \"\";width: 100%;border-bottom: 1px solid gray;flex-grow: 1;}#sk-container-id-4 div.sk-label:hover label.sk-toggleable__label {background-color: #d4ebff;}#sk-container-id-4 div.sk-serial::before {content: \"\";position: absolute;border-left: 1px solid gray;box-sizing: border-box;top: 0;bottom: 0;left: 50%;z-index: 0;}#sk-container-id-4 div.sk-serial {display: flex;flex-direction: column;align-items: center;background-color: white;padding-right: 0.2em;padding-left: 0.2em;position: relative;}#sk-container-id-4 div.sk-item {position: relative;z-index: 1;}#sk-container-id-4 div.sk-parallel {display: flex;align-items: stretch;justify-content: center;background-color: white;position: relative;}#sk-container-id-4 div.sk-item::before, #sk-container-id-4 div.sk-parallel-item::before {content: \"\";position: absolute;border-left: 1px solid gray;box-sizing: border-box;top: 0;bottom: 0;left: 50%;z-index: -1;}#sk-container-id-4 div.sk-parallel-item {display: flex;flex-direction: column;z-index: 1;position: relative;background-color: white;}#sk-container-id-4 div.sk-parallel-item:first-child::after {align-self: flex-end;width: 50%;}#sk-container-id-4 div.sk-parallel-item:last-child::after {align-self: flex-start;width: 50%;}#sk-container-id-4 div.sk-parallel-item:only-child::after {width: 0;}#sk-container-id-4 div.sk-dashed-wrapped {border: 1px dashed gray;margin: 0 0.4em 0.5em 0.4em;box-sizing: border-box;padding-bottom: 0.4em;background-color: white;}#sk-container-id-4 div.sk-label label {font-family: monospace;font-weight: bold;display: inline-block;line-height: 1.2em;}#sk-container-id-4 div.sk-label-container {text-align: center;}#sk-container-id-4 div.sk-container {/* jupyter's `normalize.less` sets `[hidden] { display: none; }` but bootstrap.min.css set `[hidden] { display: none !important; }` so we also need the `!important` here to be able to override the default hidden behavior on the sphinx rendered scikit-learn.org. See: https://github.com/scikit-learn/scikit-learn/issues/21755 */display: inline-block !important;position: relative;}#sk-container-id-4 div.sk-text-repr-fallback {display: none;}</style><div id=\"sk-container-id-4\" class=\"sk-top-container\"><div class=\"sk-text-repr-fallback\"><pre>LinearRegression()</pre><b>In a Jupyter environment, please rerun this cell to show the HTML representation or trust the notebook. <br />On GitHub, the HTML representation is unable to render, please try loading this page with nbviewer.org.</b></div><div class=\"sk-container\" hidden><div class=\"sk-item\"><div class=\"sk-estimator sk-toggleable\"><input class=\"sk-toggleable__control sk-hidden--visually\" id=\"sk-estimator-id-4\" type=\"checkbox\" checked><label for=\"sk-estimator-id-4\" class=\"sk-toggleable__label sk-toggleable__label-arrow\">LinearRegression</label><div class=\"sk-toggleable__content\"><pre>LinearRegression()</pre></div></div></div></div></div>"
      ],
      "text/plain": [
       "LinearRegression()"
      ]
     },
     "execution_count": 72,
     "metadata": {},
     "output_type": "execute_result"
    }
   ],
   "source": [
    "multiple.fit(X,y)"
   ]
  },
  {
   "cell_type": "code",
   "execution_count": 73,
   "id": "0b915932",
   "metadata": {},
   "outputs": [
    {
     "data": {
      "text/plain": [
       "0.7369669374053521"
      ]
     },
     "execution_count": 73,
     "metadata": {},
     "output_type": "execute_result"
    }
   ],
   "source": [
    "multiple.score(X,y)"
   ]
  },
  {
   "cell_type": "code",
   "execution_count": 74,
   "id": "b3dab68c",
   "metadata": {},
   "outputs": [
    {
     "data": {
      "text/plain": [
       "array([   62.03992318, 30958.43366053])"
      ]
     },
     "execution_count": 74,
     "metadata": {},
     "output_type": "execute_result"
    }
   ],
   "source": [
    "multiple.coef_"
   ]
  },
  {
   "cell_type": "code",
   "execution_count": null,
   "id": "d3963185",
   "metadata": {},
   "outputs": [],
   "source": []
  },
  {
   "cell_type": "code",
   "execution_count": 75,
   "id": "d35884ef",
   "metadata": {},
   "outputs": [],
   "source": [
    "X = base[selected]\n",
    "y = base.SalePrice.values.reshape(-1,1)"
   ]
  },
  {
   "cell_type": "code",
   "execution_count": 76,
   "id": "399c4287",
   "metadata": {},
   "outputs": [],
   "source": [
    "scoring = {'r2': 'r2',\n",
    "           'neg_mae': 'neg_mean_absolute_error'}"
   ]
  },
  {
   "cell_type": "code",
   "execution_count": 77,
   "id": "eb0f111b",
   "metadata": {},
   "outputs": [],
   "source": [
    "# Use cross-validation to evaluate model performance\n",
    "\n",
    "def evaluate_model(model, X, y):\n",
    "    \n",
    "    # define the evaluation procedure\n",
    "    cv = RepeatedKFold(n_splits=5, n_repeats=3, random_state=1)\n",
    "    \n",
    "    # evaluate the model and collect the results\n",
    "    scores = cross_validate(model, X, y, scoring=scoring, cv=cv, n_jobs=-1) \n",
    "    \n",
    "    df = pd.DataFrame(scores)\n",
    "    \n",
    "    return df"
   ]
  },
  {
   "cell_type": "code",
   "execution_count": 78,
   "id": "cd19af07",
   "metadata": {},
   "outputs": [
    {
     "data": {
      "text/html": [
       "<div>\n",
       "<style scoped>\n",
       "    .dataframe tbody tr th:only-of-type {\n",
       "        vertical-align: middle;\n",
       "    }\n",
       "\n",
       "    .dataframe tbody tr th {\n",
       "        vertical-align: top;\n",
       "    }\n",
       "\n",
       "    .dataframe thead th {\n",
       "        text-align: right;\n",
       "    }\n",
       "</style>\n",
       "<table border=\"1\" class=\"dataframe\">\n",
       "  <thead>\n",
       "    <tr style=\"text-align: right;\">\n",
       "      <th></th>\n",
       "      <th>fit_time</th>\n",
       "      <th>score_time</th>\n",
       "      <th>test_r2</th>\n",
       "      <th>test_neg_mae</th>\n",
       "    </tr>\n",
       "  </thead>\n",
       "  <tbody>\n",
       "    <tr>\n",
       "      <th>0</th>\n",
       "      <td>0.001899</td>\n",
       "      <td>0.000848</td>\n",
       "      <td>0.721532</td>\n",
       "      <td>-28164.878506</td>\n",
       "    </tr>\n",
       "    <tr>\n",
       "      <th>1</th>\n",
       "      <td>0.002329</td>\n",
       "      <td>0.000858</td>\n",
       "      <td>0.714287</td>\n",
       "      <td>-27049.224160</td>\n",
       "    </tr>\n",
       "    <tr>\n",
       "      <th>2</th>\n",
       "      <td>0.003041</td>\n",
       "      <td>0.000832</td>\n",
       "      <td>0.736684</td>\n",
       "      <td>-27698.322385</td>\n",
       "    </tr>\n",
       "    <tr>\n",
       "      <th>3</th>\n",
       "      <td>0.001688</td>\n",
       "      <td>0.000786</td>\n",
       "      <td>0.755845</td>\n",
       "      <td>-26511.236741</td>\n",
       "    </tr>\n",
       "    <tr>\n",
       "      <th>4</th>\n",
       "      <td>0.001658</td>\n",
       "      <td>0.000771</td>\n",
       "      <td>0.751330</td>\n",
       "      <td>-27340.893252</td>\n",
       "    </tr>\n",
       "    <tr>\n",
       "      <th>5</th>\n",
       "      <td>0.002649</td>\n",
       "      <td>0.000836</td>\n",
       "      <td>0.724462</td>\n",
       "      <td>-28806.026900</td>\n",
       "    </tr>\n",
       "    <tr>\n",
       "      <th>6</th>\n",
       "      <td>0.002155</td>\n",
       "      <td>0.000848</td>\n",
       "      <td>0.782182</td>\n",
       "      <td>-24750.067055</td>\n",
       "    </tr>\n",
       "    <tr>\n",
       "      <th>7</th>\n",
       "      <td>0.002213</td>\n",
       "      <td>0.000812</td>\n",
       "      <td>0.724543</td>\n",
       "      <td>-27617.820371</td>\n",
       "    </tr>\n",
       "    <tr>\n",
       "      <th>8</th>\n",
       "      <td>0.003349</td>\n",
       "      <td>0.000917</td>\n",
       "      <td>0.747638</td>\n",
       "      <td>-26896.146585</td>\n",
       "    </tr>\n",
       "    <tr>\n",
       "      <th>9</th>\n",
       "      <td>0.001840</td>\n",
       "      <td>0.000844</td>\n",
       "      <td>0.708893</td>\n",
       "      <td>-28626.371665</td>\n",
       "    </tr>\n",
       "    <tr>\n",
       "      <th>10</th>\n",
       "      <td>0.002687</td>\n",
       "      <td>0.000895</td>\n",
       "      <td>0.764368</td>\n",
       "      <td>-26411.774331</td>\n",
       "    </tr>\n",
       "    <tr>\n",
       "      <th>11</th>\n",
       "      <td>0.005280</td>\n",
       "      <td>0.000964</td>\n",
       "      <td>0.720255</td>\n",
       "      <td>-30425.541337</td>\n",
       "    </tr>\n",
       "    <tr>\n",
       "      <th>12</th>\n",
       "      <td>0.001969</td>\n",
       "      <td>0.000860</td>\n",
       "      <td>0.654818</td>\n",
       "      <td>-28342.920553</td>\n",
       "    </tr>\n",
       "    <tr>\n",
       "      <th>13</th>\n",
       "      <td>0.002464</td>\n",
       "      <td>0.002097</td>\n",
       "      <td>0.766435</td>\n",
       "      <td>-26360.227249</td>\n",
       "    </tr>\n",
       "    <tr>\n",
       "      <th>14</th>\n",
       "      <td>0.002023</td>\n",
       "      <td>0.000865</td>\n",
       "      <td>0.745547</td>\n",
       "      <td>-25655.917295</td>\n",
       "    </tr>\n",
       "  </tbody>\n",
       "</table>\n",
       "</div>"
      ],
      "text/plain": [
       "    fit_time  score_time   test_r2  test_neg_mae\n",
       "0   0.001899    0.000848  0.721532 -28164.878506\n",
       "1   0.002329    0.000858  0.714287 -27049.224160\n",
       "2   0.003041    0.000832  0.736684 -27698.322385\n",
       "3   0.001688    0.000786  0.755845 -26511.236741\n",
       "4   0.001658    0.000771  0.751330 -27340.893252\n",
       "5   0.002649    0.000836  0.724462 -28806.026900\n",
       "6   0.002155    0.000848  0.782182 -24750.067055\n",
       "7   0.002213    0.000812  0.724543 -27617.820371\n",
       "8   0.003349    0.000917  0.747638 -26896.146585\n",
       "9   0.001840    0.000844  0.708893 -28626.371665\n",
       "10  0.002687    0.000895  0.764368 -26411.774331\n",
       "11  0.005280    0.000964  0.720255 -30425.541337\n",
       "12  0.001969    0.000860  0.654818 -28342.920553\n",
       "13  0.002464    0.002097  0.766435 -26360.227249\n",
       "14  0.002023    0.000865  0.745547 -25655.917295"
      ]
     },
     "execution_count": 78,
     "metadata": {},
     "output_type": "execute_result"
    }
   ],
   "source": [
    "MLR2 = evaluate_model(multiple, X,y)\n",
    "MLR2"
   ]
  },
  {
   "cell_type": "code",
   "execution_count": 79,
   "id": "eb7016a0",
   "metadata": {},
   "outputs": [
    {
     "data": {
      "text/html": [
       "<div>\n",
       "<style scoped>\n",
       "    .dataframe tbody tr th:only-of-type {\n",
       "        vertical-align: middle;\n",
       "    }\n",
       "\n",
       "    .dataframe tbody tr th {\n",
       "        vertical-align: top;\n",
       "    }\n",
       "\n",
       "    .dataframe thead th {\n",
       "        text-align: right;\n",
       "    }\n",
       "</style>\n",
       "<table border=\"1\" class=\"dataframe\">\n",
       "  <thead>\n",
       "    <tr style=\"text-align: right;\">\n",
       "      <th></th>\n",
       "      <th>fit_time</th>\n",
       "      <th>score_time</th>\n",
       "      <th>MLR Area+Qual</th>\n",
       "      <th>test_neg_mae</th>\n",
       "      <th>MLR MAE Area+Qual</th>\n",
       "    </tr>\n",
       "  </thead>\n",
       "  <tbody>\n",
       "    <tr>\n",
       "      <th>0</th>\n",
       "      <td>0.001899</td>\n",
       "      <td>0.000848</td>\n",
       "      <td>0.721532</td>\n",
       "      <td>-28164.878506</td>\n",
       "      <td>28164.878506</td>\n",
       "    </tr>\n",
       "    <tr>\n",
       "      <th>1</th>\n",
       "      <td>0.002329</td>\n",
       "      <td>0.000858</td>\n",
       "      <td>0.714287</td>\n",
       "      <td>-27049.224160</td>\n",
       "      <td>27049.224160</td>\n",
       "    </tr>\n",
       "    <tr>\n",
       "      <th>2</th>\n",
       "      <td>0.003041</td>\n",
       "      <td>0.000832</td>\n",
       "      <td>0.736684</td>\n",
       "      <td>-27698.322385</td>\n",
       "      <td>27698.322385</td>\n",
       "    </tr>\n",
       "    <tr>\n",
       "      <th>3</th>\n",
       "      <td>0.001688</td>\n",
       "      <td>0.000786</td>\n",
       "      <td>0.755845</td>\n",
       "      <td>-26511.236741</td>\n",
       "      <td>26511.236741</td>\n",
       "    </tr>\n",
       "    <tr>\n",
       "      <th>4</th>\n",
       "      <td>0.001658</td>\n",
       "      <td>0.000771</td>\n",
       "      <td>0.751330</td>\n",
       "      <td>-27340.893252</td>\n",
       "      <td>27340.893252</td>\n",
       "    </tr>\n",
       "    <tr>\n",
       "      <th>5</th>\n",
       "      <td>0.002649</td>\n",
       "      <td>0.000836</td>\n",
       "      <td>0.724462</td>\n",
       "      <td>-28806.026900</td>\n",
       "      <td>28806.026900</td>\n",
       "    </tr>\n",
       "    <tr>\n",
       "      <th>6</th>\n",
       "      <td>0.002155</td>\n",
       "      <td>0.000848</td>\n",
       "      <td>0.782182</td>\n",
       "      <td>-24750.067055</td>\n",
       "      <td>24750.067055</td>\n",
       "    </tr>\n",
       "    <tr>\n",
       "      <th>7</th>\n",
       "      <td>0.002213</td>\n",
       "      <td>0.000812</td>\n",
       "      <td>0.724543</td>\n",
       "      <td>-27617.820371</td>\n",
       "      <td>27617.820371</td>\n",
       "    </tr>\n",
       "    <tr>\n",
       "      <th>8</th>\n",
       "      <td>0.003349</td>\n",
       "      <td>0.000917</td>\n",
       "      <td>0.747638</td>\n",
       "      <td>-26896.146585</td>\n",
       "      <td>26896.146585</td>\n",
       "    </tr>\n",
       "    <tr>\n",
       "      <th>9</th>\n",
       "      <td>0.001840</td>\n",
       "      <td>0.000844</td>\n",
       "      <td>0.708893</td>\n",
       "      <td>-28626.371665</td>\n",
       "      <td>28626.371665</td>\n",
       "    </tr>\n",
       "    <tr>\n",
       "      <th>10</th>\n",
       "      <td>0.002687</td>\n",
       "      <td>0.000895</td>\n",
       "      <td>0.764368</td>\n",
       "      <td>-26411.774331</td>\n",
       "      <td>26411.774331</td>\n",
       "    </tr>\n",
       "    <tr>\n",
       "      <th>11</th>\n",
       "      <td>0.005280</td>\n",
       "      <td>0.000964</td>\n",
       "      <td>0.720255</td>\n",
       "      <td>-30425.541337</td>\n",
       "      <td>30425.541337</td>\n",
       "    </tr>\n",
       "    <tr>\n",
       "      <th>12</th>\n",
       "      <td>0.001969</td>\n",
       "      <td>0.000860</td>\n",
       "      <td>0.654818</td>\n",
       "      <td>-28342.920553</td>\n",
       "      <td>28342.920553</td>\n",
       "    </tr>\n",
       "    <tr>\n",
       "      <th>13</th>\n",
       "      <td>0.002464</td>\n",
       "      <td>0.002097</td>\n",
       "      <td>0.766435</td>\n",
       "      <td>-26360.227249</td>\n",
       "      <td>26360.227249</td>\n",
       "    </tr>\n",
       "    <tr>\n",
       "      <th>14</th>\n",
       "      <td>0.002023</td>\n",
       "      <td>0.000865</td>\n",
       "      <td>0.745547</td>\n",
       "      <td>-25655.917295</td>\n",
       "      <td>25655.917295</td>\n",
       "    </tr>\n",
       "  </tbody>\n",
       "</table>\n",
       "</div>"
      ],
      "text/plain": [
       "    fit_time  score_time  MLR Area+Qual  test_neg_mae  MLR MAE Area+Qual\n",
       "0   0.001899    0.000848       0.721532 -28164.878506       28164.878506\n",
       "1   0.002329    0.000858       0.714287 -27049.224160       27049.224160\n",
       "2   0.003041    0.000832       0.736684 -27698.322385       27698.322385\n",
       "3   0.001688    0.000786       0.755845 -26511.236741       26511.236741\n",
       "4   0.001658    0.000771       0.751330 -27340.893252       27340.893252\n",
       "5   0.002649    0.000836       0.724462 -28806.026900       28806.026900\n",
       "6   0.002155    0.000848       0.782182 -24750.067055       24750.067055\n",
       "7   0.002213    0.000812       0.724543 -27617.820371       27617.820371\n",
       "8   0.003349    0.000917       0.747638 -26896.146585       26896.146585\n",
       "9   0.001840    0.000844       0.708893 -28626.371665       28626.371665\n",
       "10  0.002687    0.000895       0.764368 -26411.774331       26411.774331\n",
       "11  0.005280    0.000964       0.720255 -30425.541337       30425.541337\n",
       "12  0.001969    0.000860       0.654818 -28342.920553       28342.920553\n",
       "13  0.002464    0.002097       0.766435 -26360.227249       26360.227249\n",
       "14  0.002023    0.000865       0.745547 -25655.917295       25655.917295"
      ]
     },
     "execution_count": 79,
     "metadata": {},
     "output_type": "execute_result"
    }
   ],
   "source": [
    "MLR2 = MLR2.assign(MAE = MLR2['test_neg_mae'].abs())\n",
    "MLR2 = MLR2.rename(columns = {'test_r2':'MLR Area+Qual', 'MAE':'MLR MAE Area+Qual'})\n",
    "MLR2"
   ]
  },
  {
   "cell_type": "code",
   "execution_count": 80,
   "id": "c58dd655",
   "metadata": {},
   "outputs": [
    {
     "data": {
      "image/png": "[encoded data removed]",
      "text/plain": [
       "<Figure size 432x288 with 1 Axes>"
      ]
     },
     "metadata": {
      "needs_background": "light"
     },
     "output_type": "display_data"
    }
   ],
   "source": [
    "sns.boxplot(data=MLR2[['MLR Area+Qual']], showmeans=True,\n",
    "           meanprops={\"marker\":\"o\",\n",
    "                       \"markerfacecolor\":\"white\", \n",
    "                       \"markeredgecolor\":\"black\",\n",
    "                      \"markersize\":\"8\"});"
   ]
  },
  {
   "cell_type": "code",
   "execution_count": 81,
   "id": "a6260e64",
   "metadata": {},
   "outputs": [
    {
     "data": {
      "text/html": [
       "<div>\n",
       "<style scoped>\n",
       "    .dataframe tbody tr th:only-of-type {\n",
       "        vertical-align: middle;\n",
       "    }\n",
       "\n",
       "    .dataframe tbody tr th {\n",
       "        vertical-align: top;\n",
       "    }\n",
       "\n",
       "    .dataframe thead th {\n",
       "        text-align: right;\n",
       "    }\n",
       "</style>\n",
       "<table border=\"1\" class=\"dataframe\">\n",
       "  <thead>\n",
       "    <tr style=\"text-align: right;\">\n",
       "      <th></th>\n",
       "      <th>fit_time</th>\n",
       "      <th>score_time</th>\n",
       "      <th>MLR Area+Qual</th>\n",
       "      <th>test_neg_mae</th>\n",
       "      <th>MLR MAE Area+Qual</th>\n",
       "    </tr>\n",
       "  </thead>\n",
       "  <tbody>\n",
       "    <tr>\n",
       "      <th>count</th>\n",
       "      <td>15.000000</td>\n",
       "      <td>15.000000</td>\n",
       "      <td>15.000000</td>\n",
       "      <td>15.000000</td>\n",
       "      <td>15.000000</td>\n",
       "    </tr>\n",
       "    <tr>\n",
       "      <th>mean</th>\n",
       "      <td>0.002483</td>\n",
       "      <td>0.000936</td>\n",
       "      <td>0.734588</td>\n",
       "      <td>-27377.157892</td>\n",
       "      <td>27377.157892</td>\n",
       "    </tr>\n",
       "    <tr>\n",
       "      <th>std</th>\n",
       "      <td>0.000914</td>\n",
       "      <td>0.000325</td>\n",
       "      <td>0.030715</td>\n",
       "      <td>1402.282462</td>\n",
       "      <td>1402.282462</td>\n",
       "    </tr>\n",
       "    <tr>\n",
       "      <th>min</th>\n",
       "      <td>0.001658</td>\n",
       "      <td>0.000771</td>\n",
       "      <td>0.654818</td>\n",
       "      <td>-30425.541337</td>\n",
       "      <td>24750.067055</td>\n",
       "    </tr>\n",
       "    <tr>\n",
       "      <th>25%</th>\n",
       "      <td>0.001934</td>\n",
       "      <td>0.000834</td>\n",
       "      <td>0.720893</td>\n",
       "      <td>-28253.899529</td>\n",
       "      <td>26461.505536</td>\n",
       "    </tr>\n",
       "    <tr>\n",
       "      <th>50%</th>\n",
       "      <td>0.002213</td>\n",
       "      <td>0.000848</td>\n",
       "      <td>0.736684</td>\n",
       "      <td>-27340.893252</td>\n",
       "      <td>27340.893252</td>\n",
       "    </tr>\n",
       "    <tr>\n",
       "      <th>75%</th>\n",
       "      <td>0.002668</td>\n",
       "      <td>0.000880</td>\n",
       "      <td>0.753587</td>\n",
       "      <td>-26461.505536</td>\n",
       "      <td>28253.899529</td>\n",
       "    </tr>\n",
       "    <tr>\n",
       "      <th>max</th>\n",
       "      <td>0.005280</td>\n",
       "      <td>0.002097</td>\n",
       "      <td>0.782182</td>\n",
       "      <td>-24750.067055</td>\n",
       "      <td>30425.541337</td>\n",
       "    </tr>\n",
       "  </tbody>\n",
       "</table>\n",
       "</div>"
      ],
      "text/plain": [
       "        fit_time  score_time  MLR Area+Qual  test_neg_mae  MLR MAE Area+Qual\n",
       "count  15.000000   15.000000      15.000000     15.000000          15.000000\n",
       "mean    0.002483    0.000936       0.734588 -27377.157892       27377.157892\n",
       "std     0.000914    0.000325       0.030715   1402.282462        1402.282462\n",
       "min     0.001658    0.000771       0.654818 -30425.541337       24750.067055\n",
       "25%     0.001934    0.000834       0.720893 -28253.899529       26461.505536\n",
       "50%     0.002213    0.000848       0.736684 -27340.893252       27340.893252\n",
       "75%     0.002668    0.000880       0.753587 -26461.505536       28253.899529\n",
       "max     0.005280    0.002097       0.782182 -24750.067055       30425.541337"
      ]
     },
     "execution_count": 81,
     "metadata": {},
     "output_type": "execute_result"
    }
   ],
   "source": [
    "MLR2.describe()"
   ]
  },
  {
   "cell_type": "code",
   "execution_count": 82,
   "id": "6168f606",
   "metadata": {},
   "outputs": [],
   "source": [
    "MLR2.to_csv('MLR2.csv', index=False)"
   ]
  },
  {
   "cell_type": "code",
   "execution_count": null,
   "id": "375e688e",
   "metadata": {},
   "outputs": [],
   "source": []
  },
  {
   "cell_type": "code",
   "execution_count": null,
   "id": "0b4de6e3",
   "metadata": {},
   "outputs": [],
   "source": []
  },
  {
   "cell_type": "code",
   "execution_count": 63,
   "id": "bddc41c0",
   "metadata": {},
   "outputs": [
    {
     "ename": "NameError",
     "evalue": "name 'simple' is not defined",
     "output_type": "error",
     "traceback": [
      "\u001b[0;31m---------------------------------------------------------------------------\u001b[0m",
      "\u001b[0;31mNameError\u001b[0m                                 Traceback (most recent call last)",
      "\u001b[0;32m/var/folders/kl/4xt5tydd0xb8yvwkgnx2mnc00000gn/T/ipykernel_2367/792310773.py\u001b[0m in \u001b[0;36m<module>\u001b[0;34m\u001b[0m\n\u001b[0;32m----> 1\u001b[0;31m \u001b[0msimple\u001b[0m\u001b[0;34m.\u001b[0m\u001b[0mfit\u001b[0m\u001b[0;34m(\u001b[0m\u001b[0mX\u001b[0m\u001b[0;34m,\u001b[0m\u001b[0my\u001b[0m\u001b[0;34m)\u001b[0m\u001b[0;34m\u001b[0m\u001b[0;34m\u001b[0m\u001b[0m\n\u001b[0m\u001b[1;32m      2\u001b[0m \u001b[0mresponse\u001b[0m \u001b[0;34m=\u001b[0m \u001b[0msimple\u001b[0m\u001b[0;34m.\u001b[0m\u001b[0mpredict\u001b[0m\u001b[0;34m(\u001b[0m\u001b[0mX\u001b[0m\u001b[0;34m)\u001b[0m\u001b[0;34m\u001b[0m\u001b[0;34m\u001b[0m\u001b[0m\n\u001b[1;32m      3\u001b[0m \u001b[0mr2\u001b[0m \u001b[0;34m=\u001b[0m \u001b[0msimple\u001b[0m\u001b[0;34m.\u001b[0m\u001b[0mscore\u001b[0m\u001b[0;34m(\u001b[0m\u001b[0mX\u001b[0m\u001b[0;34m,\u001b[0m\u001b[0my\u001b[0m\u001b[0;34m)\u001b[0m\u001b[0;34m\u001b[0m\u001b[0;34m\u001b[0m\u001b[0m\n",
      "\u001b[0;31mNameError\u001b[0m: name 'simple' is not defined"
     ]
    }
   ],
   "source": [
    "simple.fit(X,y)\n",
    "response = simple.predict(X)\n",
    "r2 = simple.score(X,y)"
   ]
  },
  {
   "cell_type": "code",
   "execution_count": null,
   "id": "9a4d17c9",
   "metadata": {},
   "outputs": [],
   "source": [
    "r2"
   ]
  },
  {
   "cell_type": "code",
   "execution_count": null,
   "id": "7f021121",
   "metadata": {},
   "outputs": [],
   "source": [
    "plt.style.use('default')\n",
    "plt.style.use('ggplot')\n",
    "\n",
    "fig, ax = plt.subplots(figsize=(8, 4))\n",
    "\n",
    "ax.plot(X, response, color='blue', label='R-Squared of 0.625')\n",
    "ax.scatter(X, y, edgecolor='k', facecolor='white', alpha=0.8, label='Data')\n",
    "ax.set_ylabel('House Sale Price (US$)', fontsize=14)\n",
    "ax.set_xlabel('Overall Quality', fontsize=14)\n",
    "#ax.text(0.8, 0.1, 'aegis4048.github.io', fontsize=13, ha='center', va='center',\n",
    "#         transform=ax.transAxes, color='grey', alpha=0.5)\n",
    "ax.legend(facecolor='white', fontsize=11)\n",
    "ax.set_title('Simple Linear Regression (Overall Quality vs Price)', fontsize = 18, color='blue')\n",
    "#ax.set_title('$R^2= %.2f$' % r2, fontsize=18)\n",
    "\n",
    "fig.tight_layout()"
   ]
  },
  {
   "cell_type": "code",
   "execution_count": null,
   "id": "bdc56f13",
   "metadata": {},
   "outputs": [],
   "source": []
  },
  {
   "cell_type": "code",
   "execution_count": null,
   "id": "6d61cafa",
   "metadata": {},
   "outputs": [],
   "source": []
  },
  {
   "cell_type": "code",
   "execution_count": null,
   "id": "beddb60b",
   "metadata": {},
   "outputs": [],
   "source": []
  },
  {
   "cell_type": "code",
   "execution_count": null,
   "id": "9105c37e",
   "metadata": {},
   "outputs": [],
   "source": []
  },
  {
   "cell_type": "code",
   "execution_count": null,
   "id": "38c9682f",
   "metadata": {},
   "outputs": [],
   "source": []
  },
  {
   "cell_type": "code",
   "execution_count": null,
   "id": "b7d8f4b8",
   "metadata": {},
   "outputs": [],
   "source": []
  },
  {
   "cell_type": "code",
   "execution_count": null,
   "id": "fcb48d9e",
   "metadata": {},
   "outputs": [],
   "source": []
  }
 ],
 "metadata": {
  "hide_input": false,
  "kernelspec": {
   "display_name": "Python 3 (ipykernel)",
   "language": "python",
   "name": "python3"
  },
  "language_info": {
   "codemirror_mode": {
    "name": "ipython",
    "version": 3
   },
   "file_extension": ".py",
   "mimetype": "text/x-python",
   "name": "python",
   "nbconvert_exporter": "python",
   "pygments_lexer": "ipython3",
   "version": "3.8.8"
  },
  "varInspector": {
   "cols": {
    "lenName": 16,
    "lenType": 16,
    "lenVar": 40
   },
   "kernels_config": {
    "python": {
     "delete_cmd_postfix": "",
     "delete_cmd_prefix": "del ",
     "library": "var_list.py",
     "varRefreshCmd": "print(var_dic_list())"
    },
    "r": {
     "delete_cmd_postfix": ") ",
     "delete_cmd_prefix": "rm(",
     "library": "var_list.r",
     "varRefreshCmd": "cat(var_dic_list()) "
    }
   },
   "types_to_exclude": [
    "module",
    "function",
    "builtin_function_or_method",
    "instance",
    "_Feature"
   ],
   "window_display": false
  }
 },
 "nbformat": 4,
 "nbformat_minor": 5
}
