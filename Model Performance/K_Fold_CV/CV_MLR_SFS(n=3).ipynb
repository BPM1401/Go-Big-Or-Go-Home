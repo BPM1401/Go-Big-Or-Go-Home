{
 "cells": [
  {
   "cell_type": "code",
   "execution_count": 1,
   "id": "14f2fef0",
   "metadata": {},
   "outputs": [],
   "source": [
    "import pandas as pd\n",
    "import numpy as np\n",
    "import matplotlib.pyplot as plt\n",
    "\n",
    "import seaborn as sns\n",
    "\n",
    "import scipy as sp\n",
    "from sklearn.linear_model import LinearRegression\n",
    "\n",
    "from sklearn.model_selection import cross_val_score, cross_validate\n",
    "from sklearn.model_selection import RepeatedKFold\n",
    "\n",
    "pd.set_option(\"display.max_columns\", 100)\n",
    "\n",
    "import statsmodels.api as sm\n",
    "import statsmodels.stats.api as sms\n",
    "from scipy import stats"
   ]
  },
  {
   "cell_type": "code",
   "execution_count": 2,
   "id": "ec09f4d4",
   "metadata": {},
   "outputs": [
    {
     "data": {
      "text/plain": [
       "(2580, 299)"
      ]
     },
     "execution_count": 2,
     "metadata": {},
     "output_type": "execute_result"
    }
   ],
   "source": [
    "# Basic Dummified Dataset for Linear Models\n",
    "base = pd.read_csv('../../Data/BaseData.csv')\n",
    "base.shape"
   ]
  },
  {
   "cell_type": "code",
   "execution_count": null,
   "id": "febca45c",
   "metadata": {},
   "outputs": [],
   "source": []
  },
  {
   "cell_type": "markdown",
   "id": "c74943ef",
   "metadata": {},
   "source": [
    "### MLR With SFS (n=3) ###"
   ]
  },
  {
   "cell_type": "code",
   "execution_count": 3,
   "id": "f56be6c1",
   "metadata": {},
   "outputs": [],
   "source": [
    "from sklearn.feature_selection import SequentialFeatureSelector"
   ]
  },
  {
   "cell_type": "code",
   "execution_count": 4,
   "id": "013788ef",
   "metadata": {},
   "outputs": [],
   "source": [
    "y=base.SalePrice\n",
    "X=base.drop('SalePrice', axis=1)"
   ]
  },
  {
   "cell_type": "code",
   "execution_count": 5,
   "id": "1fdb58be",
   "metadata": {},
   "outputs": [],
   "source": [
    "multiple = LinearRegression()"
   ]
  },
  {
   "cell_type": "code",
   "execution_count": 6,
   "id": "93e456e0",
   "metadata": {},
   "outputs": [],
   "source": [
    "sfs_foreward = SequentialFeatureSelector(\n",
    "    multiple, n_features_to_select=3, direction=\"forward\"\n",
    ").fit(X, y)"
   ]
  },
  {
   "cell_type": "code",
   "execution_count": 7,
   "id": "3e13bae8",
   "metadata": {},
   "outputs": [
    {
     "data": {
      "text/plain": [
       "Index(['GrLivArea', 'OverallQual', 'BsmtFinSF1'], dtype='object')"
      ]
     },
     "execution_count": 7,
     "metadata": {},
     "output_type": "execute_result"
    }
   ],
   "source": [
    "selected = X.columns[sfs_foreward.get_support()]\n",
    "selected"
   ]
  },
  {
   "cell_type": "code",
   "execution_count": 8,
   "id": "0a05cf2f",
   "metadata": {},
   "outputs": [
    {
     "data": {
      "text/html": [
       "<div>\n",
       "<style scoped>\n",
       "    .dataframe tbody tr th:only-of-type {\n",
       "        vertical-align: middle;\n",
       "    }\n",
       "\n",
       "    .dataframe tbody tr th {\n",
       "        vertical-align: top;\n",
       "    }\n",
       "\n",
       "    .dataframe thead th {\n",
       "        text-align: right;\n",
       "    }\n",
       "</style>\n",
       "<table border=\"1\" class=\"dataframe\">\n",
       "  <thead>\n",
       "    <tr style=\"text-align: right;\">\n",
       "      <th></th>\n",
       "      <th>GrLivArea</th>\n",
       "      <th>OverallQual</th>\n",
       "      <th>BsmtFinSF1</th>\n",
       "    </tr>\n",
       "  </thead>\n",
       "  <tbody>\n",
       "    <tr>\n",
       "      <th>0</th>\n",
       "      <td>856</td>\n",
       "      <td>6</td>\n",
       "      <td>238.0</td>\n",
       "    </tr>\n",
       "    <tr>\n",
       "      <th>1</th>\n",
       "      <td>1049</td>\n",
       "      <td>5</td>\n",
       "      <td>552.0</td>\n",
       "    </tr>\n",
       "    <tr>\n",
       "      <th>2</th>\n",
       "      <td>1001</td>\n",
       "      <td>5</td>\n",
       "      <td>737.0</td>\n",
       "    </tr>\n",
       "  </tbody>\n",
       "</table>\n",
       "</div>"
      ],
      "text/plain": [
       "   GrLivArea  OverallQual  BsmtFinSF1\n",
       "0        856            6       238.0\n",
       "1       1049            5       552.0\n",
       "2       1001            5       737.0"
      ]
     },
     "execution_count": 8,
     "metadata": {},
     "output_type": "execute_result"
    }
   ],
   "source": [
    "X = base[selected]\n",
    "X.head(3)"
   ]
  },
  {
   "cell_type": "code",
   "execution_count": 9,
   "id": "aff461c2",
   "metadata": {},
   "outputs": [
    {
     "data": {
      "text/html": [
       "<style>#sk-container-id-1 {color: black;background-color: white;}#sk-container-id-1 pre{padding: 0;}#sk-container-id-1 div.sk-toggleable {background-color: white;}#sk-container-id-1 label.sk-toggleable__label {cursor: pointer;display: block;width: 100%;margin-bottom: 0;padding: 0.3em;box-sizing: border-box;text-align: center;}#sk-container-id-1 label.sk-toggleable__label-arrow:before {content: \"▸\";float: left;margin-right: 0.25em;color: #696969;}#sk-container-id-1 label.sk-toggleable__label-arrow:hover:before {color: black;}#sk-container-id-1 div.sk-estimator:hover label.sk-toggleable__label-arrow:before {color: black;}#sk-container-id-1 div.sk-toggleable__content {max-height: 0;max-width: 0;overflow: hidden;text-align: left;background-color: #f0f8ff;}#sk-container-id-1 div.sk-toggleable__content pre {margin: 0.2em;color: black;border-radius: 0.25em;background-color: #f0f8ff;}#sk-container-id-1 input.sk-toggleable__control:checked~div.sk-toggleable__content {max-height: 200px;max-width: 100%;overflow: auto;}#sk-container-id-1 input.sk-toggleable__control:checked~label.sk-toggleable__label-arrow:before {content: \"▾\";}#sk-container-id-1 div.sk-estimator input.sk-toggleable__control:checked~label.sk-toggleable__label {background-color: #d4ebff;}#sk-container-id-1 div.sk-label input.sk-toggleable__control:checked~label.sk-toggleable__label {background-color: #d4ebff;}#sk-container-id-1 input.sk-hidden--visually {border: 0;clip: rect(1px 1px 1px 1px);clip: rect(1px, 1px, 1px, 1px);height: 1px;margin: -1px;overflow: hidden;padding: 0;position: absolute;width: 1px;}#sk-container-id-1 div.sk-estimator {font-family: monospace;background-color: #f0f8ff;border: 1px dotted black;border-radius: 0.25em;box-sizing: border-box;margin-bottom: 0.5em;}#sk-container-id-1 div.sk-estimator:hover {background-color: #d4ebff;}#sk-container-id-1 div.sk-parallel-item::after {content: \"\";width: 100%;border-bottom: 1px solid gray;flex-grow: 1;}#sk-container-id-1 div.sk-label:hover label.sk-toggleable__label {background-color: #d4ebff;}#sk-container-id-1 div.sk-serial::before {content: \"\";position: absolute;border-left: 1px solid gray;box-sizing: border-box;top: 0;bottom: 0;left: 50%;z-index: 0;}#sk-container-id-1 div.sk-serial {display: flex;flex-direction: column;align-items: center;background-color: white;padding-right: 0.2em;padding-left: 0.2em;position: relative;}#sk-container-id-1 div.sk-item {position: relative;z-index: 1;}#sk-container-id-1 div.sk-parallel {display: flex;align-items: stretch;justify-content: center;background-color: white;position: relative;}#sk-container-id-1 div.sk-item::before, #sk-container-id-1 div.sk-parallel-item::before {content: \"\";position: absolute;border-left: 1px solid gray;box-sizing: border-box;top: 0;bottom: 0;left: 50%;z-index: -1;}#sk-container-id-1 div.sk-parallel-item {display: flex;flex-direction: column;z-index: 1;position: relative;background-color: white;}#sk-container-id-1 div.sk-parallel-item:first-child::after {align-self: flex-end;width: 50%;}#sk-container-id-1 div.sk-parallel-item:last-child::after {align-self: flex-start;width: 50%;}#sk-container-id-1 div.sk-parallel-item:only-child::after {width: 0;}#sk-container-id-1 div.sk-dashed-wrapped {border: 1px dashed gray;margin: 0 0.4em 0.5em 0.4em;box-sizing: border-box;padding-bottom: 0.4em;background-color: white;}#sk-container-id-1 div.sk-label label {font-family: monospace;font-weight: bold;display: inline-block;line-height: 1.2em;}#sk-container-id-1 div.sk-label-container {text-align: center;}#sk-container-id-1 div.sk-container {/* jupyter's `normalize.less` sets `[hidden] { display: none; }` but bootstrap.min.css set `[hidden] { display: none !important; }` so we also need the `!important` here to be able to override the default hidden behavior on the sphinx rendered scikit-learn.org. See: https://github.com/scikit-learn/scikit-learn/issues/21755 */display: inline-block !important;position: relative;}#sk-container-id-1 div.sk-text-repr-fallback {display: none;}</style><div id=\"sk-container-id-1\" class=\"sk-top-container\"><div class=\"sk-text-repr-fallback\"><pre>LinearRegression()</pre><b>In a Jupyter environment, please rerun this cell to show the HTML representation or trust the notebook. <br />On GitHub, the HTML representation is unable to render, please try loading this page with nbviewer.org.</b></div><div class=\"sk-container\" hidden><div class=\"sk-item\"><div class=\"sk-estimator sk-toggleable\"><input class=\"sk-toggleable__control sk-hidden--visually\" id=\"sk-estimator-id-1\" type=\"checkbox\" checked><label for=\"sk-estimator-id-1\" class=\"sk-toggleable__label sk-toggleable__label-arrow\">LinearRegression</label><div class=\"sk-toggleable__content\"><pre>LinearRegression()</pre></div></div></div></div></div>"
      ],
      "text/plain": [
       "LinearRegression()"
      ]
     },
     "execution_count": 9,
     "metadata": {},
     "output_type": "execute_result"
    }
   ],
   "source": [
    "multiple.fit(X,y)"
   ]
  },
  {
   "cell_type": "code",
   "execution_count": 10,
   "id": "0b915932",
   "metadata": {},
   "outputs": [
    {
     "data": {
      "text/plain": [
       "0.799003771440033"
      ]
     },
     "execution_count": 10,
     "metadata": {},
     "output_type": "execute_result"
    }
   ],
   "source": [
    "multiple.score(X,y)"
   ]
  },
  {
   "cell_type": "code",
   "execution_count": 19,
   "id": "b3dab68c",
   "metadata": {},
   "outputs": [
    {
     "data": {
      "text/plain": [
       "array([   61.37071314, 27201.76655691,    45.27108839])"
      ]
     },
     "execution_count": 19,
     "metadata": {},
     "output_type": "execute_result"
    }
   ],
   "source": [
    "multiple.coef_"
   ]
  },
  {
   "cell_type": "code",
   "execution_count": null,
   "id": "522e5510",
   "metadata": {},
   "outputs": [],
   "source": []
  },
  {
   "cell_type": "code",
   "execution_count": 11,
   "id": "d35884ef",
   "metadata": {},
   "outputs": [],
   "source": [
    "X = base[selected]\n",
    "y = base.SalePrice.values.reshape(-1,1)"
   ]
  },
  {
   "cell_type": "code",
   "execution_count": 12,
   "id": "399c4287",
   "metadata": {},
   "outputs": [],
   "source": [
    "scoring = {'r2': 'r2',\n",
    "           'neg_mae': 'neg_mean_absolute_error'}"
   ]
  },
  {
   "cell_type": "code",
   "execution_count": 13,
   "id": "eb0f111b",
   "metadata": {},
   "outputs": [],
   "source": [
    "# Use cross-validation to evaluate model performance\n",
    "\n",
    "def evaluate_model(model, X, y):\n",
    "    \n",
    "    # define the evaluation procedure\n",
    "    cv = RepeatedKFold(n_splits=5, n_repeats=3, random_state=1)\n",
    "    \n",
    "    # evaluate the model and collect the results\n",
    "    scores = cross_validate(model, X, y, scoring=scoring, cv=cv, n_jobs=-1) \n",
    "    \n",
    "    df = pd.DataFrame(scores)\n",
    "    \n",
    "    return df"
   ]
  },
  {
   "cell_type": "code",
   "execution_count": 14,
   "id": "cd19af07",
   "metadata": {},
   "outputs": [
    {
     "data": {
      "text/html": [
       "<div>\n",
       "<style scoped>\n",
       "    .dataframe tbody tr th:only-of-type {\n",
       "        vertical-align: middle;\n",
       "    }\n",
       "\n",
       "    .dataframe tbody tr th {\n",
       "        vertical-align: top;\n",
       "    }\n",
       "\n",
       "    .dataframe thead th {\n",
       "        text-align: right;\n",
       "    }\n",
       "</style>\n",
       "<table border=\"1\" class=\"dataframe\">\n",
       "  <thead>\n",
       "    <tr style=\"text-align: right;\">\n",
       "      <th></th>\n",
       "      <th>fit_time</th>\n",
       "      <th>score_time</th>\n",
       "      <th>test_r2</th>\n",
       "      <th>test_neg_mae</th>\n",
       "    </tr>\n",
       "  </thead>\n",
       "  <tbody>\n",
       "    <tr>\n",
       "      <th>0</th>\n",
       "      <td>0.011586</td>\n",
       "      <td>0.003672</td>\n",
       "      <td>0.788923</td>\n",
       "      <td>-24591.073190</td>\n",
       "    </tr>\n",
       "    <tr>\n",
       "      <th>1</th>\n",
       "      <td>0.003553</td>\n",
       "      <td>0.001082</td>\n",
       "      <td>0.770726</td>\n",
       "      <td>-23266.878826</td>\n",
       "    </tr>\n",
       "    <tr>\n",
       "      <th>2</th>\n",
       "      <td>0.008137</td>\n",
       "      <td>0.001333</td>\n",
       "      <td>0.798058</td>\n",
       "      <td>-23693.414321</td>\n",
       "    </tr>\n",
       "    <tr>\n",
       "      <th>3</th>\n",
       "      <td>0.003533</td>\n",
       "      <td>0.001262</td>\n",
       "      <td>0.803587</td>\n",
       "      <td>-23045.244618</td>\n",
       "    </tr>\n",
       "    <tr>\n",
       "      <th>4</th>\n",
       "      <td>0.007543</td>\n",
       "      <td>0.001348</td>\n",
       "      <td>0.825722</td>\n",
       "      <td>-22969.414066</td>\n",
       "    </tr>\n",
       "    <tr>\n",
       "      <th>5</th>\n",
       "      <td>0.004246</td>\n",
       "      <td>0.001281</td>\n",
       "      <td>0.793776</td>\n",
       "      <td>-25015.789837</td>\n",
       "    </tr>\n",
       "    <tr>\n",
       "      <th>6</th>\n",
       "      <td>0.003640</td>\n",
       "      <td>0.001176</td>\n",
       "      <td>0.832232</td>\n",
       "      <td>-21900.209103</td>\n",
       "    </tr>\n",
       "    <tr>\n",
       "      <th>7</th>\n",
       "      <td>0.002942</td>\n",
       "      <td>0.000847</td>\n",
       "      <td>0.794146</td>\n",
       "      <td>-23548.826345</td>\n",
       "    </tr>\n",
       "    <tr>\n",
       "      <th>8</th>\n",
       "      <td>0.006943</td>\n",
       "      <td>0.002853</td>\n",
       "      <td>0.809997</td>\n",
       "      <td>-23406.779269</td>\n",
       "    </tr>\n",
       "    <tr>\n",
       "      <th>9</th>\n",
       "      <td>0.002706</td>\n",
       "      <td>0.001092</td>\n",
       "      <td>0.768348</td>\n",
       "      <td>-23705.689598</td>\n",
       "    </tr>\n",
       "    <tr>\n",
       "      <th>10</th>\n",
       "      <td>0.006752</td>\n",
       "      <td>0.003789</td>\n",
       "      <td>0.818035</td>\n",
       "      <td>-22770.249781</td>\n",
       "    </tr>\n",
       "    <tr>\n",
       "      <th>11</th>\n",
       "      <td>0.002559</td>\n",
       "      <td>0.001210</td>\n",
       "      <td>0.799815</td>\n",
       "      <td>-25147.224707</td>\n",
       "    </tr>\n",
       "    <tr>\n",
       "      <th>12</th>\n",
       "      <td>0.006769</td>\n",
       "      <td>0.003211</td>\n",
       "      <td>0.716231</td>\n",
       "      <td>-24536.517671</td>\n",
       "    </tr>\n",
       "    <tr>\n",
       "      <th>13</th>\n",
       "      <td>0.006236</td>\n",
       "      <td>0.002989</td>\n",
       "      <td>0.819723</td>\n",
       "      <td>-23160.329625</td>\n",
       "    </tr>\n",
       "    <tr>\n",
       "      <th>14</th>\n",
       "      <td>0.005984</td>\n",
       "      <td>0.003276</td>\n",
       "      <td>0.805586</td>\n",
       "      <td>-22427.935385</td>\n",
       "    </tr>\n",
       "  </tbody>\n",
       "</table>\n",
       "</div>"
      ],
      "text/plain": [
       "    fit_time  score_time   test_r2  test_neg_mae\n",
       "0   0.011586    0.003672  0.788923 -24591.073190\n",
       "1   0.003553    0.001082  0.770726 -23266.878826\n",
       "2   0.008137    0.001333  0.798058 -23693.414321\n",
       "3   0.003533    0.001262  0.803587 -23045.244618\n",
       "4   0.007543    0.001348  0.825722 -22969.414066\n",
       "5   0.004246    0.001281  0.793776 -25015.789837\n",
       "6   0.003640    0.001176  0.832232 -21900.209103\n",
       "7   0.002942    0.000847  0.794146 -23548.826345\n",
       "8   0.006943    0.002853  0.809997 -23406.779269\n",
       "9   0.002706    0.001092  0.768348 -23705.689598\n",
       "10  0.006752    0.003789  0.818035 -22770.249781\n",
       "11  0.002559    0.001210  0.799815 -25147.224707\n",
       "12  0.006769    0.003211  0.716231 -24536.517671\n",
       "13  0.006236    0.002989  0.819723 -23160.329625\n",
       "14  0.005984    0.003276  0.805586 -22427.935385"
      ]
     },
     "execution_count": 14,
     "metadata": {},
     "output_type": "execute_result"
    }
   ],
   "source": [
    "MLR3 = evaluate_model(multiple, X,y)\n",
    "MLR3"
   ]
  },
  {
   "cell_type": "code",
   "execution_count": 15,
   "id": "eb7016a0",
   "metadata": {},
   "outputs": [
    {
     "data": {
      "text/html": [
       "<div>\n",
       "<style scoped>\n",
       "    .dataframe tbody tr th:only-of-type {\n",
       "        vertical-align: middle;\n",
       "    }\n",
       "\n",
       "    .dataframe tbody tr th {\n",
       "        vertical-align: top;\n",
       "    }\n",
       "\n",
       "    .dataframe thead th {\n",
       "        text-align: right;\n",
       "    }\n",
       "</style>\n",
       "<table border=\"1\" class=\"dataframe\">\n",
       "  <thead>\n",
       "    <tr style=\"text-align: right;\">\n",
       "      <th></th>\n",
       "      <th>fit_time</th>\n",
       "      <th>score_time</th>\n",
       "      <th>MLR3 R2</th>\n",
       "      <th>test_neg_mae</th>\n",
       "      <th>MLR3 MAE</th>\n",
       "    </tr>\n",
       "  </thead>\n",
       "  <tbody>\n",
       "    <tr>\n",
       "      <th>0</th>\n",
       "      <td>0.011586</td>\n",
       "      <td>0.003672</td>\n",
       "      <td>0.788923</td>\n",
       "      <td>-24591.073190</td>\n",
       "      <td>24591.073190</td>\n",
       "    </tr>\n",
       "    <tr>\n",
       "      <th>1</th>\n",
       "      <td>0.003553</td>\n",
       "      <td>0.001082</td>\n",
       "      <td>0.770726</td>\n",
       "      <td>-23266.878826</td>\n",
       "      <td>23266.878826</td>\n",
       "    </tr>\n",
       "    <tr>\n",
       "      <th>2</th>\n",
       "      <td>0.008137</td>\n",
       "      <td>0.001333</td>\n",
       "      <td>0.798058</td>\n",
       "      <td>-23693.414321</td>\n",
       "      <td>23693.414321</td>\n",
       "    </tr>\n",
       "    <tr>\n",
       "      <th>3</th>\n",
       "      <td>0.003533</td>\n",
       "      <td>0.001262</td>\n",
       "      <td>0.803587</td>\n",
       "      <td>-23045.244618</td>\n",
       "      <td>23045.244618</td>\n",
       "    </tr>\n",
       "    <tr>\n",
       "      <th>4</th>\n",
       "      <td>0.007543</td>\n",
       "      <td>0.001348</td>\n",
       "      <td>0.825722</td>\n",
       "      <td>-22969.414066</td>\n",
       "      <td>22969.414066</td>\n",
       "    </tr>\n",
       "    <tr>\n",
       "      <th>5</th>\n",
       "      <td>0.004246</td>\n",
       "      <td>0.001281</td>\n",
       "      <td>0.793776</td>\n",
       "      <td>-25015.789837</td>\n",
       "      <td>25015.789837</td>\n",
       "    </tr>\n",
       "    <tr>\n",
       "      <th>6</th>\n",
       "      <td>0.003640</td>\n",
       "      <td>0.001176</td>\n",
       "      <td>0.832232</td>\n",
       "      <td>-21900.209103</td>\n",
       "      <td>21900.209103</td>\n",
       "    </tr>\n",
       "    <tr>\n",
       "      <th>7</th>\n",
       "      <td>0.002942</td>\n",
       "      <td>0.000847</td>\n",
       "      <td>0.794146</td>\n",
       "      <td>-23548.826345</td>\n",
       "      <td>23548.826345</td>\n",
       "    </tr>\n",
       "    <tr>\n",
       "      <th>8</th>\n",
       "      <td>0.006943</td>\n",
       "      <td>0.002853</td>\n",
       "      <td>0.809997</td>\n",
       "      <td>-23406.779269</td>\n",
       "      <td>23406.779269</td>\n",
       "    </tr>\n",
       "    <tr>\n",
       "      <th>9</th>\n",
       "      <td>0.002706</td>\n",
       "      <td>0.001092</td>\n",
       "      <td>0.768348</td>\n",
       "      <td>-23705.689598</td>\n",
       "      <td>23705.689598</td>\n",
       "    </tr>\n",
       "    <tr>\n",
       "      <th>10</th>\n",
       "      <td>0.006752</td>\n",
       "      <td>0.003789</td>\n",
       "      <td>0.818035</td>\n",
       "      <td>-22770.249781</td>\n",
       "      <td>22770.249781</td>\n",
       "    </tr>\n",
       "    <tr>\n",
       "      <th>11</th>\n",
       "      <td>0.002559</td>\n",
       "      <td>0.001210</td>\n",
       "      <td>0.799815</td>\n",
       "      <td>-25147.224707</td>\n",
       "      <td>25147.224707</td>\n",
       "    </tr>\n",
       "    <tr>\n",
       "      <th>12</th>\n",
       "      <td>0.006769</td>\n",
       "      <td>0.003211</td>\n",
       "      <td>0.716231</td>\n",
       "      <td>-24536.517671</td>\n",
       "      <td>24536.517671</td>\n",
       "    </tr>\n",
       "    <tr>\n",
       "      <th>13</th>\n",
       "      <td>0.006236</td>\n",
       "      <td>0.002989</td>\n",
       "      <td>0.819723</td>\n",
       "      <td>-23160.329625</td>\n",
       "      <td>23160.329625</td>\n",
       "    </tr>\n",
       "    <tr>\n",
       "      <th>14</th>\n",
       "      <td>0.005984</td>\n",
       "      <td>0.003276</td>\n",
       "      <td>0.805586</td>\n",
       "      <td>-22427.935385</td>\n",
       "      <td>22427.935385</td>\n",
       "    </tr>\n",
       "  </tbody>\n",
       "</table>\n",
       "</div>"
      ],
      "text/plain": [
       "    fit_time  score_time   MLR3 R2  test_neg_mae      MLR3 MAE\n",
       "0   0.011586    0.003672  0.788923 -24591.073190  24591.073190\n",
       "1   0.003553    0.001082  0.770726 -23266.878826  23266.878826\n",
       "2   0.008137    0.001333  0.798058 -23693.414321  23693.414321\n",
       "3   0.003533    0.001262  0.803587 -23045.244618  23045.244618\n",
       "4   0.007543    0.001348  0.825722 -22969.414066  22969.414066\n",
       "5   0.004246    0.001281  0.793776 -25015.789837  25015.789837\n",
       "6   0.003640    0.001176  0.832232 -21900.209103  21900.209103\n",
       "7   0.002942    0.000847  0.794146 -23548.826345  23548.826345\n",
       "8   0.006943    0.002853  0.809997 -23406.779269  23406.779269\n",
       "9   0.002706    0.001092  0.768348 -23705.689598  23705.689598\n",
       "10  0.006752    0.003789  0.818035 -22770.249781  22770.249781\n",
       "11  0.002559    0.001210  0.799815 -25147.224707  25147.224707\n",
       "12  0.006769    0.003211  0.716231 -24536.517671  24536.517671\n",
       "13  0.006236    0.002989  0.819723 -23160.329625  23160.329625\n",
       "14  0.005984    0.003276  0.805586 -22427.935385  22427.935385"
      ]
     },
     "execution_count": 15,
     "metadata": {},
     "output_type": "execute_result"
    }
   ],
   "source": [
    "MLR3 = MLR3.assign(MAE = MLR3['test_neg_mae'].abs())\n",
    "MLR3 = MLR3.rename(columns = {'test_r2':'MLR3 R2', 'MAE':'MLR3 MAE'})\n",
    "MLR3"
   ]
  },
  {
   "cell_type": "code",
   "execution_count": 16,
   "id": "c58dd655",
   "metadata": {},
   "outputs": [
    {
     "data": {
      "image/png": "[encoded data removed]",
      "text/plain": [
       "<Figure size 432x288 with 1 Axes>"
      ]
     },
     "metadata": {
      "needs_background": "light"
     },
     "output_type": "display_data"
    }
   ],
   "source": [
    "sns.boxplot(data=MLR3[['MLR3 R2']], showmeans=True,\n",
    "           meanprops={\"marker\":\"o\",\n",
    "                       \"markerfacecolor\":\"white\", \n",
    "                       \"markeredgecolor\":\"black\",\n",
    "                      \"markersize\":\"8\"});"
   ]
  },
  {
   "cell_type": "code",
   "execution_count": 17,
   "id": "a6260e64",
   "metadata": {},
   "outputs": [
    {
     "data": {
      "text/html": [
       "<div>\n",
       "<style scoped>\n",
       "    .dataframe tbody tr th:only-of-type {\n",
       "        vertical-align: middle;\n",
       "    }\n",
       "\n",
       "    .dataframe tbody tr th {\n",
       "        vertical-align: top;\n",
       "    }\n",
       "\n",
       "    .dataframe thead th {\n",
       "        text-align: right;\n",
       "    }\n",
       "</style>\n",
       "<table border=\"1\" class=\"dataframe\">\n",
       "  <thead>\n",
       "    <tr style=\"text-align: right;\">\n",
       "      <th></th>\n",
       "      <th>fit_time</th>\n",
       "      <th>score_time</th>\n",
       "      <th>MLR3 R2</th>\n",
       "      <th>test_neg_mae</th>\n",
       "      <th>MLR3 MAE</th>\n",
       "    </tr>\n",
       "  </thead>\n",
       "  <tbody>\n",
       "    <tr>\n",
       "      <th>count</th>\n",
       "      <td>15.000000</td>\n",
       "      <td>15.000000</td>\n",
       "      <td>15.000000</td>\n",
       "      <td>15.000000</td>\n",
       "      <td>15.000000</td>\n",
       "    </tr>\n",
       "    <tr>\n",
       "      <th>mean</th>\n",
       "      <td>0.005542</td>\n",
       "      <td>0.002028</td>\n",
       "      <td>0.796327</td>\n",
       "      <td>-23545.705089</td>\n",
       "      <td>23545.705089</td>\n",
       "    </tr>\n",
       "    <tr>\n",
       "      <th>std</th>\n",
       "      <td>0.002534</td>\n",
       "      <td>0.001102</td>\n",
       "      <td>0.028576</td>\n",
       "      <td>934.821179</td>\n",
       "      <td>934.821179</td>\n",
       "    </tr>\n",
       "    <tr>\n",
       "      <th>min</th>\n",
       "      <td>0.002559</td>\n",
       "      <td>0.000847</td>\n",
       "      <td>0.716231</td>\n",
       "      <td>-25147.224707</td>\n",
       "      <td>21900.209103</td>\n",
       "    </tr>\n",
       "    <tr>\n",
       "      <th>25%</th>\n",
       "      <td>0.003543</td>\n",
       "      <td>0.001193</td>\n",
       "      <td>0.791349</td>\n",
       "      <td>-24121.103635</td>\n",
       "      <td>23007.329342</td>\n",
       "    </tr>\n",
       "    <tr>\n",
       "      <th>50%</th>\n",
       "      <td>0.005984</td>\n",
       "      <td>0.001333</td>\n",
       "      <td>0.799815</td>\n",
       "      <td>-23406.779269</td>\n",
       "      <td>23406.779269</td>\n",
       "    </tr>\n",
       "    <tr>\n",
       "      <th>75%</th>\n",
       "      <td>0.006856</td>\n",
       "      <td>0.003100</td>\n",
       "      <td>0.814016</td>\n",
       "      <td>-23007.329342</td>\n",
       "      <td>24121.103635</td>\n",
       "    </tr>\n",
       "    <tr>\n",
       "      <th>max</th>\n",
       "      <td>0.011586</td>\n",
       "      <td>0.003789</td>\n",
       "      <td>0.832232</td>\n",
       "      <td>-21900.209103</td>\n",
       "      <td>25147.224707</td>\n",
       "    </tr>\n",
       "  </tbody>\n",
       "</table>\n",
       "</div>"
      ],
      "text/plain": [
       "        fit_time  score_time    MLR3 R2  test_neg_mae      MLR3 MAE\n",
       "count  15.000000   15.000000  15.000000     15.000000     15.000000\n",
       "mean    0.005542    0.002028   0.796327 -23545.705089  23545.705089\n",
       "std     0.002534    0.001102   0.028576    934.821179    934.821179\n",
       "min     0.002559    0.000847   0.716231 -25147.224707  21900.209103\n",
       "25%     0.003543    0.001193   0.791349 -24121.103635  23007.329342\n",
       "50%     0.005984    0.001333   0.799815 -23406.779269  23406.779269\n",
       "75%     0.006856    0.003100   0.814016 -23007.329342  24121.103635\n",
       "max     0.011586    0.003789   0.832232 -21900.209103  25147.224707"
      ]
     },
     "execution_count": 17,
     "metadata": {},
     "output_type": "execute_result"
    }
   ],
   "source": [
    "MLR3.describe()"
   ]
  },
  {
   "cell_type": "code",
   "execution_count": 20,
   "id": "6168f606",
   "metadata": {},
   "outputs": [],
   "source": [
    "MLR3.to_csv('MLR3.csv', index=False)"
   ]
  },
  {
   "cell_type": "code",
   "execution_count": null,
   "id": "375e688e",
   "metadata": {},
   "outputs": [],
   "source": []
  },
  {
   "cell_type": "code",
   "execution_count": null,
   "id": "0b4de6e3",
   "metadata": {},
   "outputs": [],
   "source": []
  },
  {
   "cell_type": "code",
   "execution_count": null,
   "id": "bddc41c0",
   "metadata": {},
   "outputs": [],
   "source": [
    "simple.fit(X,y)\n",
    "response = simple.predict(X)\n",
    "r2 = simple.score(X,y)"
   ]
  },
  {
   "cell_type": "code",
   "execution_count": null,
   "id": "9a4d17c9",
   "metadata": {},
   "outputs": [],
   "source": [
    "r2"
   ]
  },
  {
   "cell_type": "code",
   "execution_count": null,
   "id": "7f021121",
   "metadata": {},
   "outputs": [],
   "source": [
    "plt.style.use('default')\n",
    "plt.style.use('ggplot')\n",
    "\n",
    "fig, ax = plt.subplots(figsize=(8, 4))\n",
    "\n",
    "ax.plot(X, response, color='blue', label='R-Squared of 0.625')\n",
    "ax.scatter(X, y, edgecolor='k', facecolor='white', alpha=0.8, label='Data')\n",
    "ax.set_ylabel('House Sale Price (US$)', fontsize=14)\n",
    "ax.set_xlabel('Overall Quality', fontsize=14)\n",
    "#ax.text(0.8, 0.1, 'aegis4048.github.io', fontsize=13, ha='center', va='center',\n",
    "#         transform=ax.transAxes, color='grey', alpha=0.5)\n",
    "ax.legend(facecolor='white', fontsize=11)\n",
    "ax.set_title('Simple Linear Regression (Overall Quality vs Price)', fontsize = 18, color='blue')\n",
    "#ax.set_title('$R^2= %.2f$' % r2, fontsize=18)\n",
    "\n",
    "fig.tight_layout()"
   ]
  },
  {
   "cell_type": "code",
   "execution_count": null,
   "id": "bdc56f13",
   "metadata": {},
   "outputs": [],
   "source": []
  },
  {
   "cell_type": "code",
   "execution_count": null,
   "id": "6d61cafa",
   "metadata": {},
   "outputs": [],
   "source": []
  },
  {
   "cell_type": "code",
   "execution_count": null,
   "id": "beddb60b",
   "metadata": {},
   "outputs": [],
   "source": []
  },
  {
   "cell_type": "code",
   "execution_count": null,
   "id": "9105c37e",
   "metadata": {},
   "outputs": [],
   "source": []
  },
  {
   "cell_type": "code",
   "execution_count": null,
   "id": "38c9682f",
   "metadata": {},
   "outputs": [],
   "source": []
  },
  {
   "cell_type": "code",
   "execution_count": null,
   "id": "b7d8f4b8",
   "metadata": {},
   "outputs": [],
   "source": []
  },
  {
   "cell_type": "code",
   "execution_count": null,
   "id": "fcb48d9e",
   "metadata": {},
   "outputs": [],
   "source": []
  }
 ],
 "metadata": {
  "hide_input": false,
  "kernelspec": {
   "display_name": "Python 3 (ipykernel)",
   "language": "python",
   "name": "python3"
  },
  "language_info": {
   "codemirror_mode": {
    "name": "ipython",
    "version": 3
   },
   "file_extension": ".py",
   "mimetype": "text/x-python",
   "name": "python",
   "nbconvert_exporter": "python",
   "pygments_lexer": "ipython3",
   "version": "3.8.8"
  },
  "varInspector": {
   "cols": {
    "lenName": 16,
    "lenType": 16,
    "lenVar": 40
   },
   "kernels_config": {
    "python": {
     "delete_cmd_postfix": "",
     "delete_cmd_prefix": "del ",
     "library": "var_list.py",
     "varRefreshCmd": "print(var_dic_list())"
    },
    "r": {
     "delete_cmd_postfix": ") ",
     "delete_cmd_prefix": "rm(",
     "library": "var_list.r",
     "varRefreshCmd": "cat(var_dic_list()) "
    }
   },
   "types_to_exclude": [
    "module",
    "function",
    "builtin_function_or_method",
    "instance",
    "_Feature"
   ],
   "window_display": false
  }
 },
 "nbformat": 4,
 "nbformat_minor": 5
}
