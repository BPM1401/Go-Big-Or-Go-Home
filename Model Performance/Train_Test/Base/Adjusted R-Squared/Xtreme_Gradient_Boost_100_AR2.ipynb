{
 "cells": [
  {
   "cell_type": "code",
   "execution_count": 3,
   "id": "fe78dee4",
   "metadata": {},
   "outputs": [],
   "source": [
    "import numpy as np\n",
    "import pandas as pd\n",
    "pd.set_option(\"display.max_columns\", 300)\n",
    "pd.set_option(\"max_colwidth\", 200)\n",
    "\n",
    "from sklearn.linear_model import LinearRegression\n",
    "from sklearn.linear_model import HuberRegressor\n",
    "from sklearn.linear_model import Ridge\n",
    "from sklearn.linear_model import RidgeCV\n",
    "from sklearn.linear_model import Lasso\n",
    "from sklearn.linear_model import LassoCV\n",
    "from sklearn.linear_model import ElasticNet\n",
    "from numpy import arange\n",
    "from sklearn.model_selection import GridSearchCV\n",
    "from sklearn.ensemble import RandomForestRegressor\n",
    "from sklearn.ensemble import GradientBoostingRegressor\n",
    "from xgboost import XGBRegressor\n",
    "\n",
    "from sklearn import preprocessing\n",
    "\n",
    "from sklearn.metrics import mean_squared_error, r2_score\n",
    "from sklearn.feature_selection import SequentialFeatureSelector\n",
    "\n",
    "from sklearn.model_selection import train_test_split\n",
    "from sklearn.model_selection import KFold\n",
    "\n",
    "import matplotlib.pyplot as plt\n",
    "import statistics\n",
    "\n",
    "import seaborn as sns"
   ]
  },
  {
   "cell_type": "code",
   "execution_count": 4,
   "id": "1f6b62a7",
   "metadata": {},
   "outputs": [],
   "source": [
    "base_ordinal = pd.read_csv('../../Data/BaseOrdinal.csv')"
   ]
  },
  {
   "cell_type": "code",
   "execution_count": 5,
   "id": "42245417",
   "metadata": {},
   "outputs": [],
   "source": [
    "X = base_ordinal.drop(['SalePrice'], axis=1).values\n",
    "y = base_ordinal.SalePrice.values"
   ]
  },
  {
   "cell_type": "code",
   "execution_count": 6,
   "id": "e66a8ec6",
   "metadata": {},
   "outputs": [
    {
     "data": {
      "text/plain": [
       "2580"
      ]
     },
     "execution_count": 6,
     "metadata": {},
     "output_type": "execute_result"
    }
   ],
   "source": [
    "len(y)"
   ]
  },
  {
   "cell_type": "code",
   "execution_count": 7,
   "id": "11b95a12",
   "metadata": {},
   "outputs": [
    {
     "data": {
      "text/plain": [
       "(2580, 82)"
      ]
     },
     "execution_count": 7,
     "metadata": {},
     "output_type": "execute_result"
    }
   ],
   "source": [
    "X.shape"
   ]
  },
  {
   "cell_type": "code",
   "execution_count": 8,
   "id": "dfd319c4",
   "metadata": {},
   "outputs": [
    {
     "data": {
      "text/plain": [
       "82"
      ]
     },
     "execution_count": 8,
     "metadata": {},
     "output_type": "execute_result"
    }
   ],
   "source": [
    "X.shape[1]"
   ]
  },
  {
   "cell_type": "code",
   "execution_count": null,
   "id": "7c539558",
   "metadata": {},
   "outputs": [],
   "source": []
  },
  {
   "cell_type": "code",
   "execution_count": 9,
   "id": "56450e92",
   "metadata": {},
   "outputs": [],
   "source": [
    "Scores = []\n",
    "AdjR2 = []\n",
    "\n",
    "for i in range(100):\n",
    "    \n",
    "    X_train, X_test, Y_train, Y_test = train_test_split(X,y,test_size=0.25)\n",
    "    \n",
    "    scaler = preprocessing.StandardScaler().fit(X_train)\n",
    "    X_train_scaled = scaler.transform(X_train)\n",
    "    X_test_scaled = scaler.transform(X_test)\n",
    "    \n",
    "    xgb = XGBRegressor()\n",
    "    xgb.fit(X_train_scaled, Y_train)\n",
    "    XGB_Score = xgb.score(X_test_scaled, Y_test)\n",
    "    \n",
    "    Scores.append(XGB_Score)\n",
    "    \n",
    "    Adj_r2 = 1 - (1 - XGB_Score) * (len(y)-1)/(len(y)-X.shape[1]-1)\n",
    "    AdjR2.append(Adj_r2)\n",
    "    "
   ]
  },
  {
   "cell_type": "code",
   "execution_count": 10,
   "id": "0db870b5",
   "metadata": {},
   "outputs": [],
   "source": [
    "PositiveR2 = []\n",
    "NegativeR2 = []\n",
    "\n",
    "for i in Scores:\n",
    "    if i < 0:\n",
    "        NegativeR2.append(i)\n",
    "    else:\n",
    "        PositiveR2.append(i)"
   ]
  },
  {
   "cell_type": "code",
   "execution_count": 11,
   "id": "243f41ff",
   "metadata": {},
   "outputs": [],
   "source": [
    "PositiveAR2 = []\n",
    "NegativeAR2 = []\n",
    "\n",
    "for i in AdjR2:\n",
    "    if i < 0:\n",
    "        NegativeAR2.append(i)\n",
    "    else:\n",
    "        PositiveAR2.append(i)"
   ]
  },
  {
   "cell_type": "code",
   "execution_count": 12,
   "id": "2dee080d",
   "metadata": {},
   "outputs": [
    {
     "data": {
      "text/html": [
       "<div>\n",
       "<style scoped>\n",
       "    .dataframe tbody tr th:only-of-type {\n",
       "        vertical-align: middle;\n",
       "    }\n",
       "\n",
       "    .dataframe tbody tr th {\n",
       "        vertical-align: top;\n",
       "    }\n",
       "\n",
       "    .dataframe thead th {\n",
       "        text-align: right;\n",
       "    }\n",
       "</style>\n",
       "<table border=\"1\" class=\"dataframe\">\n",
       "  <thead>\n",
       "    <tr style=\"text-align: right;\">\n",
       "      <th></th>\n",
       "      <th>R_Squared</th>\n",
       "      <th>Adjusted_R2</th>\n",
       "    </tr>\n",
       "  </thead>\n",
       "  <tbody>\n",
       "    <tr>\n",
       "      <th>0</th>\n",
       "      <td>0.909824</td>\n",
       "      <td>0.906863</td>\n",
       "    </tr>\n",
       "    <tr>\n",
       "      <th>1</th>\n",
       "      <td>0.918775</td>\n",
       "      <td>0.916108</td>\n",
       "    </tr>\n",
       "    <tr>\n",
       "      <th>2</th>\n",
       "      <td>0.836837</td>\n",
       "      <td>0.831479</td>\n",
       "    </tr>\n",
       "    <tr>\n",
       "      <th>3</th>\n",
       "      <td>0.916445</td>\n",
       "      <td>0.913701</td>\n",
       "    </tr>\n",
       "    <tr>\n",
       "      <th>4</th>\n",
       "      <td>0.881912</td>\n",
       "      <td>0.878034</td>\n",
       "    </tr>\n",
       "    <tr>\n",
       "      <th>...</th>\n",
       "      <td>...</td>\n",
       "      <td>...</td>\n",
       "    </tr>\n",
       "    <tr>\n",
       "      <th>95</th>\n",
       "      <td>0.851444</td>\n",
       "      <td>0.846565</td>\n",
       "    </tr>\n",
       "    <tr>\n",
       "      <th>96</th>\n",
       "      <td>0.903103</td>\n",
       "      <td>0.899921</td>\n",
       "    </tr>\n",
       "    <tr>\n",
       "      <th>97</th>\n",
       "      <td>0.900913</td>\n",
       "      <td>0.897659</td>\n",
       "    </tr>\n",
       "    <tr>\n",
       "      <th>98</th>\n",
       "      <td>0.870256</td>\n",
       "      <td>0.865995</td>\n",
       "    </tr>\n",
       "    <tr>\n",
       "      <th>99</th>\n",
       "      <td>0.923725</td>\n",
       "      <td>0.921220</td>\n",
       "    </tr>\n",
       "  </tbody>\n",
       "</table>\n",
       "<p>100 rows × 2 columns</p>\n",
       "</div>"
      ],
      "text/plain": [
       "    R_Squared  Adjusted_R2\n",
       "0    0.909824     0.906863\n",
       "1    0.918775     0.916108\n",
       "2    0.836837     0.831479\n",
       "3    0.916445     0.913701\n",
       "4    0.881912     0.878034\n",
       "..        ...          ...\n",
       "95   0.851444     0.846565\n",
       "96   0.903103     0.899921\n",
       "97   0.900913     0.897659\n",
       "98   0.870256     0.865995\n",
       "99   0.923725     0.921220\n",
       "\n",
       "[100 rows x 2 columns]"
      ]
     },
     "execution_count": 12,
     "metadata": {},
     "output_type": "execute_result"
    }
   ],
   "source": [
    "R2 = pd.DataFrame(PositiveR2, columns=['R_Squared'])\n",
    "AR2 = pd.DataFrame(PositiveAR2, columns=['Adjusted_R2'])\n",
    "R2vAR2 = pd.concat([R2, AR2], axis=1)\n",
    "R2vAR2"
   ]
  },
  {
   "cell_type": "code",
   "execution_count": 13,
   "id": "69c0ca7d",
   "metadata": {},
   "outputs": [
    {
     "data": {
      "image/png": "[encoded data removed]",
      "text/plain": [
       "<Figure size 720x720 with 1 Axes>"
      ]
     },
     "metadata": {
      "needs_background": "light"
     },
     "output_type": "display_data"
    }
   ],
   "source": [
    "plt.figure(figsize=(10,10))\n",
    "plt.title('R-Squared vs Adjusted R-Squared, 100xXGB (75/25 splits)', fontsize=20)\n",
    "plt.ylabel('Range of AdjustedR2 & R-Squared on Test Set', fontsize=17)\n",
    "plt.xlabel('Model', fontsize=17)\n",
    "sns.boxplot(data=R2vAR2)\n",
    "plt.xticks(rotation=25);"
   ]
  },
  {
   "cell_type": "code",
   "execution_count": null,
   "id": "753e24c0",
   "metadata": {},
   "outputs": [],
   "source": []
  },
  {
   "cell_type": "code",
   "execution_count": 14,
   "id": "0bb29f9c",
   "metadata": {},
   "outputs": [
    {
     "name": "stdout",
     "output_type": "stream",
     "text": [
      "Number of times results produced Negative R2: 0\n",
      "Number of times results produced Negative Adjusted R2: 0\n"
     ]
    }
   ],
   "source": [
    "print(\"Number of times results produced Negative R2: \" + str((len(NegativeR2))))\n",
    "print(\"Number of times results produced Negative Adjusted R2: \" + str((len(NegativeAR2))))"
   ]
  },
  {
   "cell_type": "code",
   "execution_count": 15,
   "id": "0a891012",
   "metadata": {},
   "outputs": [],
   "source": [
    "#df = pd.DataFrame(Positive, columns=['Xtreme Boost'])\n",
    "R2vAR2.to_csv('XGB_R2vAR2.csv', index=False)"
   ]
  },
  {
   "cell_type": "code",
   "execution_count": null,
   "id": "669fda86",
   "metadata": {},
   "outputs": [],
   "source": []
  },
  {
   "cell_type": "code",
   "execution_count": 16,
   "id": "0e3c9d60",
   "metadata": {},
   "outputs": [],
   "source": [
    "R2vAR2['Difference'] = R2vAR2['R_Squared'] - R2vAR2['Adjusted_R2']"
   ]
  },
  {
   "cell_type": "code",
   "execution_count": 17,
   "id": "afbfcd86",
   "metadata": {},
   "outputs": [
    {
     "data": {
      "text/html": [
       "<div>\n",
       "<style scoped>\n",
       "    .dataframe tbody tr th:only-of-type {\n",
       "        vertical-align: middle;\n",
       "    }\n",
       "\n",
       "    .dataframe tbody tr th {\n",
       "        vertical-align: top;\n",
       "    }\n",
       "\n",
       "    .dataframe thead th {\n",
       "        text-align: right;\n",
       "    }\n",
       "</style>\n",
       "<table border=\"1\" class=\"dataframe\">\n",
       "  <thead>\n",
       "    <tr style=\"text-align: right;\">\n",
       "      <th></th>\n",
       "      <th>R_Squared</th>\n",
       "      <th>Adjusted_R2</th>\n",
       "      <th>Difference</th>\n",
       "    </tr>\n",
       "  </thead>\n",
       "  <tbody>\n",
       "    <tr>\n",
       "      <th>0</th>\n",
       "      <td>0.909824</td>\n",
       "      <td>0.906863</td>\n",
       "      <td>0.002961</td>\n",
       "    </tr>\n",
       "    <tr>\n",
       "      <th>1</th>\n",
       "      <td>0.918775</td>\n",
       "      <td>0.916108</td>\n",
       "      <td>0.002667</td>\n",
       "    </tr>\n",
       "    <tr>\n",
       "      <th>2</th>\n",
       "      <td>0.836837</td>\n",
       "      <td>0.831479</td>\n",
       "      <td>0.005358</td>\n",
       "    </tr>\n",
       "    <tr>\n",
       "      <th>3</th>\n",
       "      <td>0.916445</td>\n",
       "      <td>0.913701</td>\n",
       "      <td>0.002744</td>\n",
       "    </tr>\n",
       "    <tr>\n",
       "      <th>4</th>\n",
       "      <td>0.881912</td>\n",
       "      <td>0.878034</td>\n",
       "      <td>0.003878</td>\n",
       "    </tr>\n",
       "    <tr>\n",
       "      <th>...</th>\n",
       "      <td>...</td>\n",
       "      <td>...</td>\n",
       "      <td>...</td>\n",
       "    </tr>\n",
       "    <tr>\n",
       "      <th>95</th>\n",
       "      <td>0.851444</td>\n",
       "      <td>0.846565</td>\n",
       "      <td>0.004879</td>\n",
       "    </tr>\n",
       "    <tr>\n",
       "      <th>96</th>\n",
       "      <td>0.903103</td>\n",
       "      <td>0.899921</td>\n",
       "      <td>0.003182</td>\n",
       "    </tr>\n",
       "    <tr>\n",
       "      <th>97</th>\n",
       "      <td>0.900913</td>\n",
       "      <td>0.897659</td>\n",
       "      <td>0.003254</td>\n",
       "    </tr>\n",
       "    <tr>\n",
       "      <th>98</th>\n",
       "      <td>0.870256</td>\n",
       "      <td>0.865995</td>\n",
       "      <td>0.004261</td>\n",
       "    </tr>\n",
       "    <tr>\n",
       "      <th>99</th>\n",
       "      <td>0.923725</td>\n",
       "      <td>0.921220</td>\n",
       "      <td>0.002505</td>\n",
       "    </tr>\n",
       "  </tbody>\n",
       "</table>\n",
       "<p>100 rows × 3 columns</p>\n",
       "</div>"
      ],
      "text/plain": [
       "    R_Squared  Adjusted_R2  Difference\n",
       "0    0.909824     0.906863    0.002961\n",
       "1    0.918775     0.916108    0.002667\n",
       "2    0.836837     0.831479    0.005358\n",
       "3    0.916445     0.913701    0.002744\n",
       "4    0.881912     0.878034    0.003878\n",
       "..        ...          ...         ...\n",
       "95   0.851444     0.846565    0.004879\n",
       "96   0.903103     0.899921    0.003182\n",
       "97   0.900913     0.897659    0.003254\n",
       "98   0.870256     0.865995    0.004261\n",
       "99   0.923725     0.921220    0.002505\n",
       "\n",
       "[100 rows x 3 columns]"
      ]
     },
     "execution_count": 17,
     "metadata": {},
     "output_type": "execute_result"
    }
   ],
   "source": [
    "R2vAR2"
   ]
  },
  {
   "cell_type": "code",
   "execution_count": 18,
   "id": "91d70e71",
   "metadata": {},
   "outputs": [
    {
     "data": {
      "text/plain": [
       "0.003487667969229952"
      ]
     },
     "execution_count": 18,
     "metadata": {},
     "output_type": "execute_result"
    }
   ],
   "source": [
    "R2vAR2.Difference.mean()"
   ]
  },
  {
   "cell_type": "code",
   "execution_count": 19,
   "id": "e0764868",
   "metadata": {},
   "outputs": [
    {
     "data": {
      "text/html": [
       "<div>\n",
       "<style scoped>\n",
       "    .dataframe tbody tr th:only-of-type {\n",
       "        vertical-align: middle;\n",
       "    }\n",
       "\n",
       "    .dataframe tbody tr th {\n",
       "        vertical-align: top;\n",
       "    }\n",
       "\n",
       "    .dataframe thead th {\n",
       "        text-align: right;\n",
       "    }\n",
       "</style>\n",
       "<table border=\"1\" class=\"dataframe\">\n",
       "  <thead>\n",
       "    <tr style=\"text-align: right;\">\n",
       "      <th></th>\n",
       "      <th>R_Squared</th>\n",
       "      <th>Adjusted_R2</th>\n",
       "      <th>Difference</th>\n",
       "    </tr>\n",
       "  </thead>\n",
       "  <tbody>\n",
       "    <tr>\n",
       "      <th>count</th>\n",
       "      <td>100.000000</td>\n",
       "      <td>100.000000</td>\n",
       "      <td>100.000000</td>\n",
       "    </tr>\n",
       "    <tr>\n",
       "      <th>mean</th>\n",
       "      <td>0.893796</td>\n",
       "      <td>0.890309</td>\n",
       "      <td>0.003488</td>\n",
       "    </tr>\n",
       "    <tr>\n",
       "      <th>std</th>\n",
       "      <td>0.025622</td>\n",
       "      <td>0.026463</td>\n",
       "      <td>0.000841</td>\n",
       "    </tr>\n",
       "    <tr>\n",
       "      <th>min</th>\n",
       "      <td>0.824617</td>\n",
       "      <td>0.818857</td>\n",
       "      <td>0.002309</td>\n",
       "    </tr>\n",
       "    <tr>\n",
       "      <th>25%</th>\n",
       "      <td>0.882255</td>\n",
       "      <td>0.878388</td>\n",
       "      <td>0.002939</td>\n",
       "    </tr>\n",
       "    <tr>\n",
       "      <th>50%</th>\n",
       "      <td>0.903235</td>\n",
       "      <td>0.900057</td>\n",
       "      <td>0.003178</td>\n",
       "    </tr>\n",
       "    <tr>\n",
       "      <th>75%</th>\n",
       "      <td>0.910506</td>\n",
       "      <td>0.907567</td>\n",
       "      <td>0.003867</td>\n",
       "    </tr>\n",
       "    <tr>\n",
       "      <th>max</th>\n",
       "      <td>0.929690</td>\n",
       "      <td>0.927381</td>\n",
       "      <td>0.005759</td>\n",
       "    </tr>\n",
       "  </tbody>\n",
       "</table>\n",
       "</div>"
      ],
      "text/plain": [
       "        R_Squared  Adjusted_R2  Difference\n",
       "count  100.000000   100.000000  100.000000\n",
       "mean     0.893796     0.890309    0.003488\n",
       "std      0.025622     0.026463    0.000841\n",
       "min      0.824617     0.818857    0.002309\n",
       "25%      0.882255     0.878388    0.002939\n",
       "50%      0.903235     0.900057    0.003178\n",
       "75%      0.910506     0.907567    0.003867\n",
       "max      0.929690     0.927381    0.005759"
      ]
     },
     "execution_count": 19,
     "metadata": {},
     "output_type": "execute_result"
    }
   ],
   "source": [
    "R2vAR2.describe()"
   ]
  },
  {
   "cell_type": "code",
   "execution_count": null,
   "id": "c141ca46",
   "metadata": {},
   "outputs": [],
   "source": []
  },
  {
   "cell_type": "code",
   "execution_count": null,
   "id": "e9d7b523",
   "metadata": {},
   "outputs": [],
   "source": []
  },
  {
   "cell_type": "code",
   "execution_count": null,
   "id": "2f43a003",
   "metadata": {},
   "outputs": [],
   "source": []
  }
 ],
 "metadata": {
  "hide_input": false,
  "kernelspec": {
   "display_name": "Python 3 (ipykernel)",
   "language": "python",
   "name": "python3"
  },
  "language_info": {
   "codemirror_mode": {
    "name": "ipython",
    "version": 3
   },
   "file_extension": ".py",
   "mimetype": "text/x-python",
   "name": "python",
   "nbconvert_exporter": "python",
   "pygments_lexer": "ipython3",
   "version": "3.8.8"
  },
  "varInspector": {
   "cols": {
    "lenName": 16,
    "lenType": 16,
    "lenVar": 40
   },
   "kernels_config": {
    "python": {
     "delete_cmd_postfix": "",
     "delete_cmd_prefix": "del ",
     "library": "var_list.py",
     "varRefreshCmd": "print(var_dic_list())"
    },
    "r": {
     "delete_cmd_postfix": ") ",
     "delete_cmd_prefix": "rm(",
     "library": "var_list.r",
     "varRefreshCmd": "cat(var_dic_list()) "
    }
   },
   "types_to_exclude": [
    "module",
    "function",
    "builtin_function_or_method",
    "instance",
    "_Feature"
   ],
   "window_display": false
  }
 },
 "nbformat": 4,
 "nbformat_minor": 5
}
