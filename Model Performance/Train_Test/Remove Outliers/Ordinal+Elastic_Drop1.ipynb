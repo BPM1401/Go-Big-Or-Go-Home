{
 "cells": [
  {
   "cell_type": "code",
   "execution_count": 1,
   "id": "f1177d8a",
   "metadata": {},
   "outputs": [],
   "source": [
    "import pandas as pd\n",
    "from sklearn.linear_model import ElasticNet\n",
    "from sklearn import preprocessing"
   ]
  },
  {
   "cell_type": "code",
   "execution_count": 2,
   "id": "a2a8d4a6",
   "metadata": {},
   "outputs": [
    {
     "data": {
      "text/plain": [
       "(2579, 299)"
      ]
     },
     "execution_count": 2,
     "metadata": {},
     "output_type": "execute_result"
    }
   ],
   "source": [
    "base_drop1 = pd.read_csv('BaseDrop1.csv')\n",
    "base_drop1.shape"
   ]
  },
  {
   "cell_type": "code",
   "execution_count": 3,
   "id": "021f97f6",
   "metadata": {},
   "outputs": [],
   "source": [
    "elastic = ElasticNet(alpha=1, l1_ratio=0.5)"
   ]
  },
  {
   "cell_type": "code",
   "execution_count": 4,
   "id": "7677db80",
   "metadata": {},
   "outputs": [],
   "source": [
    "X = base_drop1.drop(['SalePrice'], axis=1).values\n",
    "y = base_drop1.SalePrice.values"
   ]
  },
  {
   "cell_type": "code",
   "execution_count": 5,
   "id": "928b83b8",
   "metadata": {},
   "outputs": [],
   "source": [
    "scaler = preprocessing.StandardScaler().fit(X)\n",
    "X_scaled = scaler.transform(X)"
   ]
  },
  {
   "cell_type": "code",
   "execution_count": 6,
   "id": "e7471049",
   "metadata": {},
   "outputs": [],
   "source": [
    "elastic.fit(X_scaled,y)\n",
    "Elastic_Score = elastic.score(X_scaled,y)"
   ]
  },
  {
   "cell_type": "code",
   "execution_count": 7,
   "id": "8d94a855",
   "metadata": {},
   "outputs": [
    {
     "data": {
      "text/plain": [
       "0.9200342677842512"
      ]
     },
     "execution_count": 7,
     "metadata": {},
     "output_type": "execute_result"
    }
   ],
   "source": [
    "Elastic_Score"
   ]
  },
  {
   "cell_type": "code",
   "execution_count": null,
   "id": "8c8108d8",
   "metadata": {},
   "outputs": [],
   "source": [
    "len(elastic.predict(X_scaled))"
   ]
  },
  {
   "cell_type": "code",
   "execution_count": null,
   "id": "5ebab612",
   "metadata": {},
   "outputs": [],
   "source": [
    "Elastic_Results = elastic.predict(X_scaled)"
   ]
  },
  {
   "cell_type": "code",
   "execution_count": null,
   "id": "27103ac1",
   "metadata": {},
   "outputs": [],
   "source": []
  },
  {
   "cell_type": "code",
   "execution_count": null,
   "id": "f587564a",
   "metadata": {},
   "outputs": [],
   "source": [
    "ordinal_drop1 = pd.read_csv('OrdinalDrop1.csv')\n",
    "ordinal_drop1.shape"
   ]
  },
  {
   "cell_type": "code",
   "execution_count": null,
   "id": "d964f34d",
   "metadata": {},
   "outputs": [],
   "source": [
    "ordinal_drop1 = ordinal_drop1.assign(Elastic = Elastic_Results)"
   ]
  },
  {
   "cell_type": "code",
   "execution_count": null,
   "id": "89f28f1b",
   "metadata": {},
   "outputs": [],
   "source": [
    "ordinal_drop1.shape"
   ]
  },
  {
   "cell_type": "code",
   "execution_count": null,
   "id": "4e827c35",
   "metadata": {},
   "outputs": [],
   "source": []
  },
  {
   "cell_type": "code",
   "execution_count": null,
   "id": "1bf48126",
   "metadata": {},
   "outputs": [],
   "source": [
    "ordinal_drop1.to_csv('Ordinal+Elastic_Drop1.csv', index=False)"
   ]
  },
  {
   "cell_type": "code",
   "execution_count": null,
   "id": "f9bbe7eb",
   "metadata": {},
   "outputs": [],
   "source": []
  }
 ],
 "metadata": {
  "hide_input": false,
  "kernelspec": {
   "display_name": "Python 3 (ipykernel)",
   "language": "python",
   "name": "python3"
  },
  "language_info": {
   "codemirror_mode": {
    "name": "ipython",
    "version": 3
   },
   "file_extension": ".py",
   "mimetype": "text/x-python",
   "name": "python",
   "nbconvert_exporter": "python",
   "pygments_lexer": "ipython3",
   "version": "3.8.8"
  },
  "varInspector": {
   "cols": {
    "lenName": 16,
    "lenType": 16,
    "lenVar": 40
   },
   "kernels_config": {
    "python": {
     "delete_cmd_postfix": "",
     "delete_cmd_prefix": "del ",
     "library": "var_list.py",
     "varRefreshCmd": "print(var_dic_list())"
    },
    "r": {
     "delete_cmd_postfix": ") ",
     "delete_cmd_prefix": "rm(",
     "library": "var_list.r",
     "varRefreshCmd": "cat(var_dic_list()) "
    }
   },
   "types_to_exclude": [
    "module",
    "function",
    "builtin_function_or_method",
    "instance",
    "_Feature"
   ],
   "window_display": false
  }
 },
 "nbformat": 4,
 "nbformat_minor": 5
}
