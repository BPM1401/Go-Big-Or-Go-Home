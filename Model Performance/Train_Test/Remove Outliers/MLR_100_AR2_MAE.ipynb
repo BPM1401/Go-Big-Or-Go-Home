{
 "cells": [
  {
   "cell_type": "code",
   "execution_count": 1,
   "id": "ddec2fa1",
   "metadata": {},
   "outputs": [],
   "source": [
    "import numpy as np\n",
    "import pandas as pd\n",
    "pd.set_option(\"display.max_columns\", 300)\n",
    "pd.set_option(\"max_colwidth\", 200)\n",
    "\n",
    "from sklearn.linear_model import LinearRegression\n",
    "from sklearn.linear_model import HuberRegressor\n",
    "from sklearn.linear_model import Ridge\n",
    "from sklearn.linear_model import RidgeCV\n",
    "from sklearn.linear_model import Lasso\n",
    "from sklearn.linear_model import LassoCV\n",
    "from sklearn.linear_model import ElasticNet\n",
    "from numpy import arange\n",
    "from sklearn.model_selection import GridSearchCV\n",
    "from sklearn.ensemble import RandomForestRegressor\n",
    "from sklearn.ensemble import GradientBoostingRegressor\n",
    "from xgboost import XGBRegressor\n",
    "\n",
    "from sklearn import preprocessing\n",
    "\n",
    "from sklearn.metrics import mean_squared_error, r2_score, mean_absolute_error\n",
    "from sklearn.feature_selection import SequentialFeatureSelector\n",
    "\n",
    "from sklearn.model_selection import train_test_split\n",
    "from sklearn.model_selection import KFold\n",
    "\n",
    "import matplotlib.pyplot as plt\n",
    "import statistics\n",
    "\n",
    "import seaborn as sns"
   ]
  },
  {
   "cell_type": "code",
   "execution_count": 2,
   "id": "23df9a9c",
   "metadata": {},
   "outputs": [],
   "source": [
    "MLR = LinearRegression()"
   ]
  },
  {
   "cell_type": "code",
   "execution_count": 3,
   "id": "c75ad7fe",
   "metadata": {},
   "outputs": [],
   "source": [
    "base = pd.read_csv('../../Data/BaseData.csv')"
   ]
  },
  {
   "cell_type": "code",
   "execution_count": 4,
   "id": "0151bce4",
   "metadata": {},
   "outputs": [],
   "source": [
    "X = base.drop(['SalePrice'], axis=1).values\n",
    "y = base.SalePrice.values"
   ]
  },
  {
   "cell_type": "code",
   "execution_count": 5,
   "id": "6f4f6893",
   "metadata": {},
   "outputs": [
    {
     "data": {
      "text/plain": [
       "2580"
      ]
     },
     "execution_count": 5,
     "metadata": {},
     "output_type": "execute_result"
    }
   ],
   "source": [
    "len(y)"
   ]
  },
  {
   "cell_type": "code",
   "execution_count": 6,
   "id": "65b04172",
   "metadata": {},
   "outputs": [
    {
     "data": {
      "text/plain": [
       "(2580, 298)"
      ]
     },
     "execution_count": 6,
     "metadata": {},
     "output_type": "execute_result"
    }
   ],
   "source": [
    "X.shape"
   ]
  },
  {
   "cell_type": "code",
   "execution_count": 7,
   "id": "2e5cc97d",
   "metadata": {},
   "outputs": [
    {
     "data": {
      "text/plain": [
       "298"
      ]
     },
     "execution_count": 7,
     "metadata": {},
     "output_type": "execute_result"
    }
   ],
   "source": [
    "X.shape[1]"
   ]
  },
  {
   "cell_type": "code",
   "execution_count": 8,
   "id": "cbb78e8e",
   "metadata": {},
   "outputs": [],
   "source": [
    "AR2_Base = []\n",
    "MAE_Base = []\n",
    "\n",
    "for i in range(100):\n",
    "    X_train, X_test, y_train, y_test = train_test_split(X,y,test_size=0.25)\n",
    "    MLR.fit(X_train, y_train)\n",
    "    pred = MLR.predict(X_test)\n",
    "    \n",
    "    Adj_r2 = 1 - (1-r2_score(y_test, pred)) * (len(y)-1)/(len(y)-X.shape[1]-1)\n",
    "    AR2_Base.append(Adj_r2)\n",
    "    \n",
    "    mae = mean_absolute_error(y_test, pred)\n",
    "    MAE_Base.append(mae)"
   ]
  },
  {
   "cell_type": "code",
   "execution_count": 9,
   "id": "c885a30c",
   "metadata": {},
   "outputs": [],
   "source": [
    "PositiveAR2 = []\n",
    "NegativeAR2 = []\n",
    "\n",
    "for i in AR2_Base:\n",
    "    if i < 0:\n",
    "        NegativeAR2.append(i)\n",
    "    else:\n",
    "        PositiveAR2.append(i)"
   ]
  },
  {
   "cell_type": "code",
   "execution_count": null,
   "id": "ceae6447",
   "metadata": {},
   "outputs": [],
   "source": []
  },
  {
   "cell_type": "code",
   "execution_count": 10,
   "id": "7d679e48",
   "metadata": {},
   "outputs": [
    {
     "data": {
      "text/plain": [
       "16"
      ]
     },
     "execution_count": 10,
     "metadata": {},
     "output_type": "execute_result"
    }
   ],
   "source": [
    "len(NegativeAR2)"
   ]
  },
  {
   "cell_type": "code",
   "execution_count": null,
   "id": "54d3ac29",
   "metadata": {},
   "outputs": [],
   "source": []
  },
  {
   "cell_type": "code",
   "execution_count": 11,
   "id": "91411705",
   "metadata": {},
   "outputs": [],
   "source": [
    "Base = pd.DataFrame({'AR2_Base': AR2_Base, 'MAE_Base': MAE_Base})"
   ]
  },
  {
   "cell_type": "code",
   "execution_count": 12,
   "id": "44fac7f8",
   "metadata": {},
   "outputs": [
    {
     "data": {
      "text/html": [
       "<div>\n",
       "<style scoped>\n",
       "    .dataframe tbody tr th:only-of-type {\n",
       "        vertical-align: middle;\n",
       "    }\n",
       "\n",
       "    .dataframe tbody tr th {\n",
       "        vertical-align: top;\n",
       "    }\n",
       "\n",
       "    .dataframe thead th {\n",
       "        text-align: right;\n",
       "    }\n",
       "</style>\n",
       "<table border=\"1\" class=\"dataframe\">\n",
       "  <thead>\n",
       "    <tr style=\"text-align: right;\">\n",
       "      <th></th>\n",
       "      <th>AR2_Base</th>\n",
       "      <th>MAE_Base</th>\n",
       "    </tr>\n",
       "  </thead>\n",
       "  <tbody>\n",
       "    <tr>\n",
       "      <th>0</th>\n",
       "      <td>9.201519e-01</td>\n",
       "      <td>1.345523e+04</td>\n",
       "    </tr>\n",
       "    <tr>\n",
       "      <th>1</th>\n",
       "      <td>9.019816e-01</td>\n",
       "      <td>1.456102e+04</td>\n",
       "    </tr>\n",
       "    <tr>\n",
       "      <th>2</th>\n",
       "      <td>8.805261e-01</td>\n",
       "      <td>1.471371e+04</td>\n",
       "    </tr>\n",
       "    <tr>\n",
       "      <th>3</th>\n",
       "      <td>9.136521e-01</td>\n",
       "      <td>1.385539e+04</td>\n",
       "    </tr>\n",
       "    <tr>\n",
       "      <th>4</th>\n",
       "      <td>-2.509746e+07</td>\n",
       "      <td>1.319546e+07</td>\n",
       "    </tr>\n",
       "    <tr>\n",
       "      <th>...</th>\n",
       "      <td>...</td>\n",
       "      <td>...</td>\n",
       "    </tr>\n",
       "    <tr>\n",
       "      <th>95</th>\n",
       "      <td>8.240067e-01</td>\n",
       "      <td>1.578435e+04</td>\n",
       "    </tr>\n",
       "    <tr>\n",
       "      <th>96</th>\n",
       "      <td>8.576802e-01</td>\n",
       "      <td>1.548012e+04</td>\n",
       "    </tr>\n",
       "    <tr>\n",
       "      <th>97</th>\n",
       "      <td>8.834353e-01</td>\n",
       "      <td>1.525980e+04</td>\n",
       "    </tr>\n",
       "    <tr>\n",
       "      <th>98</th>\n",
       "      <td>8.425331e-01</td>\n",
       "      <td>1.460366e+04</td>\n",
       "    </tr>\n",
       "    <tr>\n",
       "      <th>99</th>\n",
       "      <td>9.160959e-01</td>\n",
       "      <td>1.386625e+04</td>\n",
       "    </tr>\n",
       "  </tbody>\n",
       "</table>\n",
       "<p>100 rows × 2 columns</p>\n",
       "</div>"
      ],
      "text/plain": [
       "        AR2_Base      MAE_Base\n",
       "0   9.201519e-01  1.345523e+04\n",
       "1   9.019816e-01  1.456102e+04\n",
       "2   8.805261e-01  1.471371e+04\n",
       "3   9.136521e-01  1.385539e+04\n",
       "4  -2.509746e+07  1.319546e+07\n",
       "..           ...           ...\n",
       "95  8.240067e-01  1.578435e+04\n",
       "96  8.576802e-01  1.548012e+04\n",
       "97  8.834353e-01  1.525980e+04\n",
       "98  8.425331e-01  1.460366e+04\n",
       "99  9.160959e-01  1.386625e+04\n",
       "\n",
       "[100 rows x 2 columns]"
      ]
     },
     "execution_count": 12,
     "metadata": {},
     "output_type": "execute_result"
    }
   ],
   "source": [
    "Base"
   ]
  },
  {
   "cell_type": "code",
   "execution_count": 13,
   "id": "d581f2f0",
   "metadata": {},
   "outputs": [
    {
     "data": {
      "text/html": [
       "<div>\n",
       "<style scoped>\n",
       "    .dataframe tbody tr th:only-of-type {\n",
       "        vertical-align: middle;\n",
       "    }\n",
       "\n",
       "    .dataframe tbody tr th {\n",
       "        vertical-align: top;\n",
       "    }\n",
       "\n",
       "    .dataframe thead th {\n",
       "        text-align: right;\n",
       "    }\n",
       "</style>\n",
       "<table border=\"1\" class=\"dataframe\">\n",
       "  <thead>\n",
       "    <tr style=\"text-align: right;\">\n",
       "      <th></th>\n",
       "      <th>AR2_Base</th>\n",
       "      <th>MAE_Base</th>\n",
       "    </tr>\n",
       "  </thead>\n",
       "  <tbody>\n",
       "    <tr>\n",
       "      <th>0</th>\n",
       "      <td>0.920152</td>\n",
       "      <td>13455.227044</td>\n",
       "    </tr>\n",
       "    <tr>\n",
       "      <th>1</th>\n",
       "      <td>0.901982</td>\n",
       "      <td>14561.022975</td>\n",
       "    </tr>\n",
       "    <tr>\n",
       "      <th>2</th>\n",
       "      <td>0.880526</td>\n",
       "      <td>14713.706727</td>\n",
       "    </tr>\n",
       "    <tr>\n",
       "      <th>3</th>\n",
       "      <td>0.913652</td>\n",
       "      <td>13855.391262</td>\n",
       "    </tr>\n",
       "    <tr>\n",
       "      <th>6</th>\n",
       "      <td>0.852769</td>\n",
       "      <td>15091.498584</td>\n",
       "    </tr>\n",
       "    <tr>\n",
       "      <th>...</th>\n",
       "      <td>...</td>\n",
       "      <td>...</td>\n",
       "    </tr>\n",
       "    <tr>\n",
       "      <th>95</th>\n",
       "      <td>0.824007</td>\n",
       "      <td>15784.354816</td>\n",
       "    </tr>\n",
       "    <tr>\n",
       "      <th>96</th>\n",
       "      <td>0.857680</td>\n",
       "      <td>15480.117571</td>\n",
       "    </tr>\n",
       "    <tr>\n",
       "      <th>97</th>\n",
       "      <td>0.883435</td>\n",
       "      <td>15259.799793</td>\n",
       "    </tr>\n",
       "    <tr>\n",
       "      <th>98</th>\n",
       "      <td>0.842533</td>\n",
       "      <td>14603.659524</td>\n",
       "    </tr>\n",
       "    <tr>\n",
       "      <th>99</th>\n",
       "      <td>0.916096</td>\n",
       "      <td>13866.245339</td>\n",
       "    </tr>\n",
       "  </tbody>\n",
       "</table>\n",
       "<p>84 rows × 2 columns</p>\n",
       "</div>"
      ],
      "text/plain": [
       "    AR2_Base      MAE_Base\n",
       "0   0.920152  13455.227044\n",
       "1   0.901982  14561.022975\n",
       "2   0.880526  14713.706727\n",
       "3   0.913652  13855.391262\n",
       "6   0.852769  15091.498584\n",
       "..       ...           ...\n",
       "95  0.824007  15784.354816\n",
       "96  0.857680  15480.117571\n",
       "97  0.883435  15259.799793\n",
       "98  0.842533  14603.659524\n",
       "99  0.916096  13866.245339\n",
       "\n",
       "[84 rows x 2 columns]"
      ]
     },
     "execution_count": 13,
     "metadata": {},
     "output_type": "execute_result"
    }
   ],
   "source": [
    "Base = Base[Base.AR2_Base > 0]\n",
    "Base"
   ]
  },
  {
   "cell_type": "code",
   "execution_count": null,
   "id": "ca77e014",
   "metadata": {},
   "outputs": [],
   "source": []
  },
  {
   "cell_type": "code",
   "execution_count": 14,
   "id": "da6e63e5",
   "metadata": {},
   "outputs": [],
   "source": [
    "base_drop1 = pd.read_csv('BaseDrop1.csv')"
   ]
  },
  {
   "cell_type": "code",
   "execution_count": 15,
   "id": "501a2613",
   "metadata": {},
   "outputs": [
    {
     "data": {
      "text/plain": [
       "(2579, 299)"
      ]
     },
     "execution_count": 15,
     "metadata": {},
     "output_type": "execute_result"
    }
   ],
   "source": [
    "base_drop1.shape"
   ]
  },
  {
   "cell_type": "code",
   "execution_count": 16,
   "id": "4455e2a4",
   "metadata": {},
   "outputs": [],
   "source": [
    "X2 = base_drop1.drop(['SalePrice'], axis=1).values\n",
    "y2 = base_drop1.SalePrice.values"
   ]
  },
  {
   "cell_type": "code",
   "execution_count": 17,
   "id": "3b0765fa",
   "metadata": {},
   "outputs": [
    {
     "data": {
      "text/plain": [
       "2579"
      ]
     },
     "execution_count": 17,
     "metadata": {},
     "output_type": "execute_result"
    }
   ],
   "source": [
    "len(y2)"
   ]
  },
  {
   "cell_type": "code",
   "execution_count": 18,
   "id": "858459bb",
   "metadata": {},
   "outputs": [
    {
     "data": {
      "text/plain": [
       "(2579, 298)"
      ]
     },
     "execution_count": 18,
     "metadata": {},
     "output_type": "execute_result"
    }
   ],
   "source": [
    "X2.shape"
   ]
  },
  {
   "cell_type": "code",
   "execution_count": 19,
   "id": "7be716df",
   "metadata": {},
   "outputs": [
    {
     "data": {
      "text/plain": [
       "298"
      ]
     },
     "execution_count": 19,
     "metadata": {},
     "output_type": "execute_result"
    }
   ],
   "source": [
    "X2.shape[1]"
   ]
  },
  {
   "cell_type": "code",
   "execution_count": 20,
   "id": "1751f3dd",
   "metadata": {},
   "outputs": [],
   "source": [
    "AR2_Drop1 = []\n",
    "MAE_Drop1 = []\n",
    "\n",
    "for i in range(100):\n",
    "    X_train, X_test, y_train, y_test = train_test_split(X2,y2,test_size=0.25)\n",
    "    MLR.fit(X_train, y_train)\n",
    "    pred = MLR.predict(X_test)\n",
    "    \n",
    "    Adj_r2 = 1 - (1-r2_score(y_test, pred)) * (len(y)-1)/(len(y)-X.shape[1]-1)\n",
    "    AR2_Drop1.append(Adj_r2)\n",
    "    \n",
    "    mae = mean_absolute_error(y_test, pred)\n",
    "    MAE_Drop1.append(mae)"
   ]
  },
  {
   "cell_type": "code",
   "execution_count": 21,
   "id": "e61b6e40",
   "metadata": {},
   "outputs": [],
   "source": [
    "BaseDrop1 = pd.DataFrame({'AR2_Drop1': AR2_Drop1, 'MAE_Drop1': MAE_Drop1})"
   ]
  },
  {
   "cell_type": "code",
   "execution_count": 22,
   "id": "0af4946b",
   "metadata": {},
   "outputs": [
    {
     "data": {
      "text/html": [
       "<div>\n",
       "<style scoped>\n",
       "    .dataframe tbody tr th:only-of-type {\n",
       "        vertical-align: middle;\n",
       "    }\n",
       "\n",
       "    .dataframe tbody tr th {\n",
       "        vertical-align: top;\n",
       "    }\n",
       "\n",
       "    .dataframe thead th {\n",
       "        text-align: right;\n",
       "    }\n",
       "</style>\n",
       "<table border=\"1\" class=\"dataframe\">\n",
       "  <thead>\n",
       "    <tr style=\"text-align: right;\">\n",
       "      <th></th>\n",
       "      <th>AR2_Drop1</th>\n",
       "      <th>MAE_Drop1</th>\n",
       "    </tr>\n",
       "  </thead>\n",
       "  <tbody>\n",
       "    <tr>\n",
       "      <th>0</th>\n",
       "      <td>9.030700e-01</td>\n",
       "      <td>1.479184e+04</td>\n",
       "    </tr>\n",
       "    <tr>\n",
       "      <th>1</th>\n",
       "      <td>9.141881e-01</td>\n",
       "      <td>1.414109e+04</td>\n",
       "    </tr>\n",
       "    <tr>\n",
       "      <th>2</th>\n",
       "      <td>9.187674e-01</td>\n",
       "      <td>1.362107e+04</td>\n",
       "    </tr>\n",
       "    <tr>\n",
       "      <th>3</th>\n",
       "      <td>9.120741e-01</td>\n",
       "      <td>1.486638e+04</td>\n",
       "    </tr>\n",
       "    <tr>\n",
       "      <th>4</th>\n",
       "      <td>9.122875e-01</td>\n",
       "      <td>1.416408e+04</td>\n",
       "    </tr>\n",
       "    <tr>\n",
       "      <th>...</th>\n",
       "      <td>...</td>\n",
       "      <td>...</td>\n",
       "    </tr>\n",
       "    <tr>\n",
       "      <th>95</th>\n",
       "      <td>9.096001e-01</td>\n",
       "      <td>1.411787e+04</td>\n",
       "    </tr>\n",
       "    <tr>\n",
       "      <th>96</th>\n",
       "      <td>8.450432e-01</td>\n",
       "      <td>1.543359e+04</td>\n",
       "    </tr>\n",
       "    <tr>\n",
       "      <th>97</th>\n",
       "      <td>9.097918e-01</td>\n",
       "      <td>1.475587e+04</td>\n",
       "    </tr>\n",
       "    <tr>\n",
       "      <th>98</th>\n",
       "      <td>-9.384276e+06</td>\n",
       "      <td>8.503759e+06</td>\n",
       "    </tr>\n",
       "    <tr>\n",
       "      <th>99</th>\n",
       "      <td>9.117251e-01</td>\n",
       "      <td>1.423252e+04</td>\n",
       "    </tr>\n",
       "  </tbody>\n",
       "</table>\n",
       "<p>100 rows × 2 columns</p>\n",
       "</div>"
      ],
      "text/plain": [
       "       AR2_Drop1     MAE_Drop1\n",
       "0   9.030700e-01  1.479184e+04\n",
       "1   9.141881e-01  1.414109e+04\n",
       "2   9.187674e-01  1.362107e+04\n",
       "3   9.120741e-01  1.486638e+04\n",
       "4   9.122875e-01  1.416408e+04\n",
       "..           ...           ...\n",
       "95  9.096001e-01  1.411787e+04\n",
       "96  8.450432e-01  1.543359e+04\n",
       "97  9.097918e-01  1.475587e+04\n",
       "98 -9.384276e+06  8.503759e+06\n",
       "99  9.117251e-01  1.423252e+04\n",
       "\n",
       "[100 rows x 2 columns]"
      ]
     },
     "execution_count": 22,
     "metadata": {},
     "output_type": "execute_result"
    }
   ],
   "source": [
    "BaseDrop1"
   ]
  },
  {
   "cell_type": "code",
   "execution_count": 23,
   "id": "7f44e38c",
   "metadata": {},
   "outputs": [
    {
     "data": {
      "text/html": [
       "<div>\n",
       "<style scoped>\n",
       "    .dataframe tbody tr th:only-of-type {\n",
       "        vertical-align: middle;\n",
       "    }\n",
       "\n",
       "    .dataframe tbody tr th {\n",
       "        vertical-align: top;\n",
       "    }\n",
       "\n",
       "    .dataframe thead th {\n",
       "        text-align: right;\n",
       "    }\n",
       "</style>\n",
       "<table border=\"1\" class=\"dataframe\">\n",
       "  <thead>\n",
       "    <tr style=\"text-align: right;\">\n",
       "      <th></th>\n",
       "      <th>AR2_Drop1</th>\n",
       "      <th>MAE_Drop1</th>\n",
       "    </tr>\n",
       "  </thead>\n",
       "  <tbody>\n",
       "    <tr>\n",
       "      <th>0</th>\n",
       "      <td>0.903070</td>\n",
       "      <td>14791.839117</td>\n",
       "    </tr>\n",
       "    <tr>\n",
       "      <th>1</th>\n",
       "      <td>0.914188</td>\n",
       "      <td>14141.093036</td>\n",
       "    </tr>\n",
       "    <tr>\n",
       "      <th>2</th>\n",
       "      <td>0.918767</td>\n",
       "      <td>13621.066272</td>\n",
       "    </tr>\n",
       "    <tr>\n",
       "      <th>3</th>\n",
       "      <td>0.912074</td>\n",
       "      <td>14866.375424</td>\n",
       "    </tr>\n",
       "    <tr>\n",
       "      <th>4</th>\n",
       "      <td>0.912288</td>\n",
       "      <td>14164.075129</td>\n",
       "    </tr>\n",
       "    <tr>\n",
       "      <th>...</th>\n",
       "      <td>...</td>\n",
       "      <td>...</td>\n",
       "    </tr>\n",
       "    <tr>\n",
       "      <th>94</th>\n",
       "      <td>0.919477</td>\n",
       "      <td>13977.835490</td>\n",
       "    </tr>\n",
       "    <tr>\n",
       "      <th>95</th>\n",
       "      <td>0.909600</td>\n",
       "      <td>14117.867131</td>\n",
       "    </tr>\n",
       "    <tr>\n",
       "      <th>96</th>\n",
       "      <td>0.845043</td>\n",
       "      <td>15433.585924</td>\n",
       "    </tr>\n",
       "    <tr>\n",
       "      <th>97</th>\n",
       "      <td>0.909792</td>\n",
       "      <td>14755.866279</td>\n",
       "    </tr>\n",
       "    <tr>\n",
       "      <th>99</th>\n",
       "      <td>0.911725</td>\n",
       "      <td>14232.523694</td>\n",
       "    </tr>\n",
       "  </tbody>\n",
       "</table>\n",
       "<p>84 rows × 2 columns</p>\n",
       "</div>"
      ],
      "text/plain": [
       "    AR2_Drop1     MAE_Drop1\n",
       "0    0.903070  14791.839117\n",
       "1    0.914188  14141.093036\n",
       "2    0.918767  13621.066272\n",
       "3    0.912074  14866.375424\n",
       "4    0.912288  14164.075129\n",
       "..        ...           ...\n",
       "94   0.919477  13977.835490\n",
       "95   0.909600  14117.867131\n",
       "96   0.845043  15433.585924\n",
       "97   0.909792  14755.866279\n",
       "99   0.911725  14232.523694\n",
       "\n",
       "[84 rows x 2 columns]"
      ]
     },
     "execution_count": 23,
     "metadata": {},
     "output_type": "execute_result"
    }
   ],
   "source": [
    "BaseDrop1 = BaseDrop1[BaseDrop1.AR2_Drop1 > 0]\n",
    "BaseDrop1"
   ]
  },
  {
   "cell_type": "code",
   "execution_count": null,
   "id": "06c47345",
   "metadata": {},
   "outputs": [],
   "source": []
  },
  {
   "cell_type": "code",
   "execution_count": 24,
   "id": "280ab171",
   "metadata": {},
   "outputs": [
    {
     "data": {
      "text/plain": [
       "(2568, 299)"
      ]
     },
     "execution_count": 24,
     "metadata": {},
     "output_type": "execute_result"
    }
   ],
   "source": [
    "base_drop_IF = pd.read_csv('BaseDropIF.csv')\n",
    "base_drop_IF.shape"
   ]
  },
  {
   "cell_type": "code",
   "execution_count": 25,
   "id": "ec0b9874",
   "metadata": {},
   "outputs": [],
   "source": [
    "X3 = base_drop_IF.drop(['SalePrice'], axis=1).values\n",
    "y3 = base_drop_IF.SalePrice.values"
   ]
  },
  {
   "cell_type": "code",
   "execution_count": 26,
   "id": "743a962d",
   "metadata": {},
   "outputs": [],
   "source": [
    "AR2_DropIF = []\n",
    "MAE_DropIF = []\n",
    "\n",
    "for i in range(100):\n",
    "    X_train, X_test, y_train, y_test = train_test_split(X3,y3,test_size=0.25)\n",
    "    MLR.fit(X_train, y_train)\n",
    "    pred = MLR.predict(X_test)\n",
    "    \n",
    "    Adj_r2 = 1 - (1-r2_score(y_test, pred)) * (len(y)-1)/(len(y)-X.shape[1]-1)\n",
    "    AR2_DropIF.append(Adj_r2)\n",
    "    \n",
    "    mae = mean_absolute_error(y_test, pred)\n",
    "    MAE_DropIF.append(mae)"
   ]
  },
  {
   "cell_type": "code",
   "execution_count": 27,
   "id": "a9585797",
   "metadata": {},
   "outputs": [
    {
     "data": {
      "text/html": [
       "<div>\n",
       "<style scoped>\n",
       "    .dataframe tbody tr th:only-of-type {\n",
       "        vertical-align: middle;\n",
       "    }\n",
       "\n",
       "    .dataframe tbody tr th {\n",
       "        vertical-align: top;\n",
       "    }\n",
       "\n",
       "    .dataframe thead th {\n",
       "        text-align: right;\n",
       "    }\n",
       "</style>\n",
       "<table border=\"1\" class=\"dataframe\">\n",
       "  <thead>\n",
       "    <tr style=\"text-align: right;\">\n",
       "      <th></th>\n",
       "      <th>AR2_DropIF</th>\n",
       "      <th>MAE_DropIF</th>\n",
       "    </tr>\n",
       "  </thead>\n",
       "  <tbody>\n",
       "    <tr>\n",
       "      <th>0</th>\n",
       "      <td>8.967654e-01</td>\n",
       "      <td>1.442996e+04</td>\n",
       "    </tr>\n",
       "    <tr>\n",
       "      <th>1</th>\n",
       "      <td>-1.272156e+05</td>\n",
       "      <td>9.458717e+05</td>\n",
       "    </tr>\n",
       "    <tr>\n",
       "      <th>2</th>\n",
       "      <td>8.907753e-01</td>\n",
       "      <td>1.482928e+04</td>\n",
       "    </tr>\n",
       "    <tr>\n",
       "      <th>3</th>\n",
       "      <td>-2.066443e+07</td>\n",
       "      <td>1.253451e+07</td>\n",
       "    </tr>\n",
       "    <tr>\n",
       "      <th>4</th>\n",
       "      <td>9.163188e-01</td>\n",
       "      <td>1.415705e+04</td>\n",
       "    </tr>\n",
       "    <tr>\n",
       "      <th>...</th>\n",
       "      <td>...</td>\n",
       "      <td>...</td>\n",
       "    </tr>\n",
       "    <tr>\n",
       "      <th>95</th>\n",
       "      <td>8.848501e-01</td>\n",
       "      <td>1.533293e+04</td>\n",
       "    </tr>\n",
       "    <tr>\n",
       "      <th>96</th>\n",
       "      <td>8.964696e-01</td>\n",
       "      <td>1.445394e+04</td>\n",
       "    </tr>\n",
       "    <tr>\n",
       "      <th>97</th>\n",
       "      <td>9.002782e-01</td>\n",
       "      <td>1.371966e+04</td>\n",
       "    </tr>\n",
       "    <tr>\n",
       "      <th>98</th>\n",
       "      <td>9.144088e-01</td>\n",
       "      <td>1.394308e+04</td>\n",
       "    </tr>\n",
       "    <tr>\n",
       "      <th>99</th>\n",
       "      <td>9.024359e-01</td>\n",
       "      <td>1.482778e+04</td>\n",
       "    </tr>\n",
       "  </tbody>\n",
       "</table>\n",
       "<p>100 rows × 2 columns</p>\n",
       "</div>"
      ],
      "text/plain": [
       "      AR2_DropIF    MAE_DropIF\n",
       "0   8.967654e-01  1.442996e+04\n",
       "1  -1.272156e+05  9.458717e+05\n",
       "2   8.907753e-01  1.482928e+04\n",
       "3  -2.066443e+07  1.253451e+07\n",
       "4   9.163188e-01  1.415705e+04\n",
       "..           ...           ...\n",
       "95  8.848501e-01  1.533293e+04\n",
       "96  8.964696e-01  1.445394e+04\n",
       "97  9.002782e-01  1.371966e+04\n",
       "98  9.144088e-01  1.394308e+04\n",
       "99  9.024359e-01  1.482778e+04\n",
       "\n",
       "[100 rows x 2 columns]"
      ]
     },
     "execution_count": 27,
     "metadata": {},
     "output_type": "execute_result"
    }
   ],
   "source": [
    "BaseDropIF = pd.DataFrame({'AR2_DropIF': AR2_DropIF, 'MAE_DropIF': MAE_DropIF})\n",
    "BaseDropIF"
   ]
  },
  {
   "cell_type": "code",
   "execution_count": 28,
   "id": "96158606",
   "metadata": {},
   "outputs": [
    {
     "data": {
      "text/html": [
       "<div>\n",
       "<style scoped>\n",
       "    .dataframe tbody tr th:only-of-type {\n",
       "        vertical-align: middle;\n",
       "    }\n",
       "\n",
       "    .dataframe tbody tr th {\n",
       "        vertical-align: top;\n",
       "    }\n",
       "\n",
       "    .dataframe thead th {\n",
       "        text-align: right;\n",
       "    }\n",
       "</style>\n",
       "<table border=\"1\" class=\"dataframe\">\n",
       "  <thead>\n",
       "    <tr style=\"text-align: right;\">\n",
       "      <th></th>\n",
       "      <th>AR2_DropIF</th>\n",
       "      <th>MAE_DropIF</th>\n",
       "    </tr>\n",
       "  </thead>\n",
       "  <tbody>\n",
       "    <tr>\n",
       "      <th>0</th>\n",
       "      <td>0.896765</td>\n",
       "      <td>14429.957287</td>\n",
       "    </tr>\n",
       "    <tr>\n",
       "      <th>2</th>\n",
       "      <td>0.890775</td>\n",
       "      <td>14829.284481</td>\n",
       "    </tr>\n",
       "    <tr>\n",
       "      <th>4</th>\n",
       "      <td>0.916319</td>\n",
       "      <td>14157.051847</td>\n",
       "    </tr>\n",
       "    <tr>\n",
       "      <th>5</th>\n",
       "      <td>0.905197</td>\n",
       "      <td>13794.803455</td>\n",
       "    </tr>\n",
       "    <tr>\n",
       "      <th>6</th>\n",
       "      <td>0.919257</td>\n",
       "      <td>13763.865115</td>\n",
       "    </tr>\n",
       "    <tr>\n",
       "      <th>...</th>\n",
       "      <td>...</td>\n",
       "      <td>...</td>\n",
       "    </tr>\n",
       "    <tr>\n",
       "      <th>95</th>\n",
       "      <td>0.884850</td>\n",
       "      <td>15332.933145</td>\n",
       "    </tr>\n",
       "    <tr>\n",
       "      <th>96</th>\n",
       "      <td>0.896470</td>\n",
       "      <td>14453.939648</td>\n",
       "    </tr>\n",
       "    <tr>\n",
       "      <th>97</th>\n",
       "      <td>0.900278</td>\n",
       "      <td>13719.661135</td>\n",
       "    </tr>\n",
       "    <tr>\n",
       "      <th>98</th>\n",
       "      <td>0.914409</td>\n",
       "      <td>13943.084030</td>\n",
       "    </tr>\n",
       "    <tr>\n",
       "      <th>99</th>\n",
       "      <td>0.902436</td>\n",
       "      <td>14827.781977</td>\n",
       "    </tr>\n",
       "  </tbody>\n",
       "</table>\n",
       "<p>80 rows × 2 columns</p>\n",
       "</div>"
      ],
      "text/plain": [
       "    AR2_DropIF    MAE_DropIF\n",
       "0     0.896765  14429.957287\n",
       "2     0.890775  14829.284481\n",
       "4     0.916319  14157.051847\n",
       "5     0.905197  13794.803455\n",
       "6     0.919257  13763.865115\n",
       "..         ...           ...\n",
       "95    0.884850  15332.933145\n",
       "96    0.896470  14453.939648\n",
       "97    0.900278  13719.661135\n",
       "98    0.914409  13943.084030\n",
       "99    0.902436  14827.781977\n",
       "\n",
       "[80 rows x 2 columns]"
      ]
     },
     "execution_count": 28,
     "metadata": {},
     "output_type": "execute_result"
    }
   ],
   "source": [
    "BaseDropIF = BaseDropIF[BaseDropIF.AR2_DropIF > 0]\n",
    "BaseDropIF"
   ]
  },
  {
   "cell_type": "code",
   "execution_count": null,
   "id": "239fbc50",
   "metadata": {},
   "outputs": [],
   "source": []
  },
  {
   "cell_type": "code",
   "execution_count": 29,
   "id": "c70fcba1",
   "metadata": {},
   "outputs": [
    {
     "data": {
      "text/html": [
       "<div>\n",
       "<style scoped>\n",
       "    .dataframe tbody tr th:only-of-type {\n",
       "        vertical-align: middle;\n",
       "    }\n",
       "\n",
       "    .dataframe tbody tr th {\n",
       "        vertical-align: top;\n",
       "    }\n",
       "\n",
       "    .dataframe thead th {\n",
       "        text-align: right;\n",
       "    }\n",
       "</style>\n",
       "<table border=\"1\" class=\"dataframe\">\n",
       "  <thead>\n",
       "    <tr style=\"text-align: right;\">\n",
       "      <th></th>\n",
       "      <th>AR2_Base</th>\n",
       "      <th>MAE_Base</th>\n",
       "      <th>AR2_Drop1</th>\n",
       "      <th>MAE_Drop1</th>\n",
       "      <th>AR2_DropIF</th>\n",
       "      <th>MAE_DropIF</th>\n",
       "    </tr>\n",
       "  </thead>\n",
       "  <tbody>\n",
       "    <tr>\n",
       "      <th>0</th>\n",
       "      <td>0.920152</td>\n",
       "      <td>13455.227044</td>\n",
       "      <td>0.903070</td>\n",
       "      <td>14791.839117</td>\n",
       "      <td>0.896765</td>\n",
       "      <td>14429.957287</td>\n",
       "    </tr>\n",
       "    <tr>\n",
       "      <th>1</th>\n",
       "      <td>0.901982</td>\n",
       "      <td>14561.022975</td>\n",
       "      <td>0.914188</td>\n",
       "      <td>14141.093036</td>\n",
       "      <td>NaN</td>\n",
       "      <td>NaN</td>\n",
       "    </tr>\n",
       "    <tr>\n",
       "      <th>2</th>\n",
       "      <td>0.880526</td>\n",
       "      <td>14713.706727</td>\n",
       "      <td>0.918767</td>\n",
       "      <td>13621.066272</td>\n",
       "      <td>0.890775</td>\n",
       "      <td>14829.284481</td>\n",
       "    </tr>\n",
       "    <tr>\n",
       "      <th>3</th>\n",
       "      <td>0.913652</td>\n",
       "      <td>13855.391262</td>\n",
       "      <td>0.912074</td>\n",
       "      <td>14866.375424</td>\n",
       "      <td>NaN</td>\n",
       "      <td>NaN</td>\n",
       "    </tr>\n",
       "    <tr>\n",
       "      <th>4</th>\n",
       "      <td>NaN</td>\n",
       "      <td>NaN</td>\n",
       "      <td>0.912288</td>\n",
       "      <td>14164.075129</td>\n",
       "      <td>0.916319</td>\n",
       "      <td>14157.051847</td>\n",
       "    </tr>\n",
       "    <tr>\n",
       "      <th>...</th>\n",
       "      <td>...</td>\n",
       "      <td>...</td>\n",
       "      <td>...</td>\n",
       "      <td>...</td>\n",
       "      <td>...</td>\n",
       "      <td>...</td>\n",
       "    </tr>\n",
       "    <tr>\n",
       "      <th>95</th>\n",
       "      <td>0.824007</td>\n",
       "      <td>15784.354816</td>\n",
       "      <td>0.909600</td>\n",
       "      <td>14117.867131</td>\n",
       "      <td>0.884850</td>\n",
       "      <td>15332.933145</td>\n",
       "    </tr>\n",
       "    <tr>\n",
       "      <th>96</th>\n",
       "      <td>0.857680</td>\n",
       "      <td>15480.117571</td>\n",
       "      <td>0.845043</td>\n",
       "      <td>15433.585924</td>\n",
       "      <td>0.896470</td>\n",
       "      <td>14453.939648</td>\n",
       "    </tr>\n",
       "    <tr>\n",
       "      <th>97</th>\n",
       "      <td>0.883435</td>\n",
       "      <td>15259.799793</td>\n",
       "      <td>0.909792</td>\n",
       "      <td>14755.866279</td>\n",
       "      <td>0.900278</td>\n",
       "      <td>13719.661135</td>\n",
       "    </tr>\n",
       "    <tr>\n",
       "      <th>98</th>\n",
       "      <td>0.842533</td>\n",
       "      <td>14603.659524</td>\n",
       "      <td>NaN</td>\n",
       "      <td>NaN</td>\n",
       "      <td>0.914409</td>\n",
       "      <td>13943.084030</td>\n",
       "    </tr>\n",
       "    <tr>\n",
       "      <th>99</th>\n",
       "      <td>0.916096</td>\n",
       "      <td>13866.245339</td>\n",
       "      <td>0.911725</td>\n",
       "      <td>14232.523694</td>\n",
       "      <td>0.902436</td>\n",
       "      <td>14827.781977</td>\n",
       "    </tr>\n",
       "  </tbody>\n",
       "</table>\n",
       "<p>100 rows × 6 columns</p>\n",
       "</div>"
      ],
      "text/plain": [
       "    AR2_Base      MAE_Base  AR2_Drop1     MAE_Drop1  AR2_DropIF    MAE_DropIF\n",
       "0   0.920152  13455.227044   0.903070  14791.839117    0.896765  14429.957287\n",
       "1   0.901982  14561.022975   0.914188  14141.093036         NaN           NaN\n",
       "2   0.880526  14713.706727   0.918767  13621.066272    0.890775  14829.284481\n",
       "3   0.913652  13855.391262   0.912074  14866.375424         NaN           NaN\n",
       "4        NaN           NaN   0.912288  14164.075129    0.916319  14157.051847\n",
       "..       ...           ...        ...           ...         ...           ...\n",
       "95  0.824007  15784.354816   0.909600  14117.867131    0.884850  15332.933145\n",
       "96  0.857680  15480.117571   0.845043  15433.585924    0.896470  14453.939648\n",
       "97  0.883435  15259.799793   0.909792  14755.866279    0.900278  13719.661135\n",
       "98  0.842533  14603.659524        NaN           NaN    0.914409  13943.084030\n",
       "99  0.916096  13866.245339   0.911725  14232.523694    0.902436  14827.781977\n",
       "\n",
       "[100 rows x 6 columns]"
      ]
     },
     "execution_count": 29,
     "metadata": {},
     "output_type": "execute_result"
    }
   ],
   "source": [
    "box = pd.concat([Base, BaseDrop1, BaseDropIF], axis=1)\n",
    "box"
   ]
  },
  {
   "cell_type": "code",
   "execution_count": 30,
   "id": "e535a642",
   "metadata": {},
   "outputs": [
    {
     "data": {
      "text/html": [
       "<div>\n",
       "<style scoped>\n",
       "    .dataframe tbody tr th:only-of-type {\n",
       "        vertical-align: middle;\n",
       "    }\n",
       "\n",
       "    .dataframe tbody tr th {\n",
       "        vertical-align: top;\n",
       "    }\n",
       "\n",
       "    .dataframe thead th {\n",
       "        text-align: right;\n",
       "    }\n",
       "</style>\n",
       "<table border=\"1\" class=\"dataframe\">\n",
       "  <thead>\n",
       "    <tr style=\"text-align: right;\">\n",
       "      <th></th>\n",
       "      <th>AR2_Base</th>\n",
       "      <th>MAE_Base</th>\n",
       "      <th>AR2_Drop1</th>\n",
       "      <th>MAE_Drop1</th>\n",
       "      <th>AR2_DropIF</th>\n",
       "      <th>MAE_DropIF</th>\n",
       "    </tr>\n",
       "  </thead>\n",
       "  <tbody>\n",
       "    <tr>\n",
       "      <th>count</th>\n",
       "      <td>84.000000</td>\n",
       "      <td>84.000000</td>\n",
       "      <td>84.000000</td>\n",
       "      <td>84.000000</td>\n",
       "      <td>80.000000</td>\n",
       "      <td>80.000000</td>\n",
       "    </tr>\n",
       "    <tr>\n",
       "      <th>mean</th>\n",
       "      <td>0.875751</td>\n",
       "      <td>14880.884720</td>\n",
       "      <td>0.904858</td>\n",
       "      <td>14466.796527</td>\n",
       "      <td>0.900871</td>\n",
       "      <td>14454.383146</td>\n",
       "    </tr>\n",
       "    <tr>\n",
       "      <th>std</th>\n",
       "      <td>0.042945</td>\n",
       "      <td>755.284642</td>\n",
       "      <td>0.020578</td>\n",
       "      <td>626.505548</td>\n",
       "      <td>0.019078</td>\n",
       "      <td>552.124986</td>\n",
       "    </tr>\n",
       "    <tr>\n",
       "      <th>min</th>\n",
       "      <td>0.702361</td>\n",
       "      <td>13413.523582</td>\n",
       "      <td>0.783395</td>\n",
       "      <td>13305.678307</td>\n",
       "      <td>0.829249</td>\n",
       "      <td>13481.812152</td>\n",
       "    </tr>\n",
       "    <tr>\n",
       "      <th>25%</th>\n",
       "      <td>0.847253</td>\n",
       "      <td>14335.392182</td>\n",
       "      <td>0.902562</td>\n",
       "      <td>14046.148498</td>\n",
       "      <td>0.895879</td>\n",
       "      <td>14002.852548</td>\n",
       "    </tr>\n",
       "    <tr>\n",
       "      <th>50%</th>\n",
       "      <td>0.894020</td>\n",
       "      <td>14788.555355</td>\n",
       "      <td>0.910323</td>\n",
       "      <td>14265.731521</td>\n",
       "      <td>0.905194</td>\n",
       "      <td>14435.289060</td>\n",
       "    </tr>\n",
       "    <tr>\n",
       "      <th>75%</th>\n",
       "      <td>0.907311</td>\n",
       "      <td>15424.895536</td>\n",
       "      <td>0.915818</td>\n",
       "      <td>14877.386922</td>\n",
       "      <td>0.912923</td>\n",
       "      <td>14833.774946</td>\n",
       "    </tr>\n",
       "    <tr>\n",
       "      <th>max</th>\n",
       "      <td>0.924690</td>\n",
       "      <td>16798.625850</td>\n",
       "      <td>0.923745</td>\n",
       "      <td>16654.312884</td>\n",
       "      <td>0.923558</td>\n",
       "      <td>15769.271266</td>\n",
       "    </tr>\n",
       "  </tbody>\n",
       "</table>\n",
       "</div>"
      ],
      "text/plain": [
       "        AR2_Base      MAE_Base  AR2_Drop1     MAE_Drop1  AR2_DropIF  \\\n",
       "count  84.000000     84.000000  84.000000     84.000000   80.000000   \n",
       "mean    0.875751  14880.884720   0.904858  14466.796527    0.900871   \n",
       "std     0.042945    755.284642   0.020578    626.505548    0.019078   \n",
       "min     0.702361  13413.523582   0.783395  13305.678307    0.829249   \n",
       "25%     0.847253  14335.392182   0.902562  14046.148498    0.895879   \n",
       "50%     0.894020  14788.555355   0.910323  14265.731521    0.905194   \n",
       "75%     0.907311  15424.895536   0.915818  14877.386922    0.912923   \n",
       "max     0.924690  16798.625850   0.923745  16654.312884    0.923558   \n",
       "\n",
       "         MAE_DropIF  \n",
       "count     80.000000  \n",
       "mean   14454.383146  \n",
       "std      552.124986  \n",
       "min    13481.812152  \n",
       "25%    14002.852548  \n",
       "50%    14435.289060  \n",
       "75%    14833.774946  \n",
       "max    15769.271266  "
      ]
     },
     "execution_count": 30,
     "metadata": {},
     "output_type": "execute_result"
    }
   ],
   "source": [
    "box.describe()"
   ]
  },
  {
   "cell_type": "code",
   "execution_count": 31,
   "id": "86f6fa55",
   "metadata": {},
   "outputs": [
    {
     "data": {
      "image/png": "[encoded data removed]",
      "text/plain": [
       "<Figure size 432x288 with 1 Axes>"
      ]
     },
     "metadata": {
      "needs_background": "light"
     },
     "output_type": "display_data"
    }
   ],
   "source": [
    "sns.boxplot(data=box[['AR2_Base','AR2_Drop1', 'AR2_DropIF']]);"
   ]
  },
  {
   "cell_type": "code",
   "execution_count": 32,
   "id": "160c3c78",
   "metadata": {},
   "outputs": [
    {
     "data": {
      "image/png": "[encoded data removed]",
      "text/plain": [
       "<Figure size 432x288 with 1 Axes>"
      ]
     },
     "metadata": {
      "needs_background": "light"
     },
     "output_type": "display_data"
    }
   ],
   "source": [
    "sns.boxplot(data=box[['MAE_Base', 'MAE_Drop1', 'MAE_DropIF']]);"
   ]
  },
  {
   "cell_type": "code",
   "execution_count": null,
   "id": "6d44565f",
   "metadata": {},
   "outputs": [],
   "source": []
  },
  {
   "cell_type": "code",
   "execution_count": null,
   "id": "55e05966",
   "metadata": {},
   "outputs": [],
   "source": []
  }
 ],
 "metadata": {
  "hide_input": false,
  "kernelspec": {
   "display_name": "Python 3 (ipykernel)",
   "language": "python",
   "name": "python3"
  },
  "language_info": {
   "codemirror_mode": {
    "name": "ipython",
    "version": 3
   },
   "file_extension": ".py",
   "mimetype": "text/x-python",
   "name": "python",
   "nbconvert_exporter": "python",
   "pygments_lexer": "ipython3",
   "version": "3.8.8"
  },
  "varInspector": {
   "cols": {
    "lenName": 16,
    "lenType": 16,
    "lenVar": 40
   },
   "kernels_config": {
    "python": {
     "delete_cmd_postfix": "",
     "delete_cmd_prefix": "del ",
     "library": "var_list.py",
     "varRefreshCmd": "print(var_dic_list())"
    },
    "r": {
     "delete_cmd_postfix": ") ",
     "delete_cmd_prefix": "rm(",
     "library": "var_list.r",
     "varRefreshCmd": "cat(var_dic_list()) "
    }
   },
   "types_to_exclude": [
    "module",
    "function",
    "builtin_function_or_method",
    "instance",
    "_Feature"
   ],
   "window_display": false
  }
 },
 "nbformat": 4,
 "nbformat_minor": 5
}
