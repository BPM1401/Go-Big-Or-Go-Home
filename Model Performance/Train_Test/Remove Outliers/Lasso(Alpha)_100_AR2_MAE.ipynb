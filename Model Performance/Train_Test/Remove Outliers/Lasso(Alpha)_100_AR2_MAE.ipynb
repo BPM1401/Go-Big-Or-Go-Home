{
 "cells": [
  {
   "cell_type": "code",
   "execution_count": 1,
   "id": "74c718ad",
   "metadata": {},
   "outputs": [],
   "source": [
    "import numpy as np\n",
    "import pandas as pd\n",
    "pd.set_option(\"display.max_columns\", 300)\n",
    "pd.set_option(\"max_colwidth\", 200)\n",
    "\n",
    "from sklearn.linear_model import LinearRegression\n",
    "from sklearn.linear_model import HuberRegressor\n",
    "from sklearn.linear_model import Ridge\n",
    "from sklearn.linear_model import RidgeCV\n",
    "from sklearn.linear_model import Lasso\n",
    "from sklearn.linear_model import LassoCV\n",
    "from sklearn.linear_model import ElasticNet\n",
    "from numpy import arange\n",
    "from sklearn.model_selection import GridSearchCV\n",
    "from sklearn.ensemble import RandomForestRegressor\n",
    "from sklearn.ensemble import GradientBoostingRegressor\n",
    "from xgboost import XGBRegressor\n",
    "\n",
    "from sklearn import preprocessing\n",
    "\n",
    "from sklearn.metrics import mean_squared_error, r2_score, mean_absolute_error\n",
    "from sklearn.feature_selection import SequentialFeatureSelector\n",
    "\n",
    "from sklearn.model_selection import train_test_split\n",
    "from sklearn.model_selection import KFold\n",
    "\n",
    "import matplotlib.pyplot as plt\n",
    "import statistics\n",
    "\n",
    "import seaborn as sns"
   ]
  },
  {
   "cell_type": "code",
   "execution_count": 2,
   "id": "84457454",
   "metadata": {},
   "outputs": [],
   "source": [
    "base = pd.read_csv('../../Data/BaseData.csv')"
   ]
  },
  {
   "cell_type": "code",
   "execution_count": 3,
   "id": "31961d27",
   "metadata": {},
   "outputs": [],
   "source": [
    "X = base.drop(['SalePrice'], axis=1).values\n",
    "y = base.SalePrice.values"
   ]
  },
  {
   "cell_type": "code",
   "execution_count": 4,
   "id": "f33127fa",
   "metadata": {},
   "outputs": [
    {
     "data": {
      "text/plain": [
       "2580"
      ]
     },
     "execution_count": 4,
     "metadata": {},
     "output_type": "execute_result"
    }
   ],
   "source": [
    "len(y)"
   ]
  },
  {
   "cell_type": "code",
   "execution_count": 5,
   "id": "d2fd337f",
   "metadata": {},
   "outputs": [
    {
     "data": {
      "text/plain": [
       "(2580, 298)"
      ]
     },
     "execution_count": 5,
     "metadata": {},
     "output_type": "execute_result"
    }
   ],
   "source": [
    "X.shape"
   ]
  },
  {
   "cell_type": "code",
   "execution_count": 6,
   "id": "2c0407d3",
   "metadata": {},
   "outputs": [
    {
     "data": {
      "text/plain": [
       "298"
      ]
     },
     "execution_count": 6,
     "metadata": {},
     "output_type": "execute_result"
    }
   ],
   "source": [
    "X.shape[1]"
   ]
  },
  {
   "cell_type": "code",
   "execution_count": 7,
   "id": "d6e834d4",
   "metadata": {},
   "outputs": [],
   "source": [
    "AR2_Base = []\n",
    "MAE_Base = []\n",
    "\n",
    "Lasso_Alphas = []\n",
    "alphas = 10**np.linspace(10,-2,100)*0.5\n",
    "\n",
    "for i in range(100):\n",
    "    \n",
    "    X_train, X_test, Y_train, Y_test = train_test_split(X,y,test_size=0.25)\n",
    "    \n",
    "    scaler = preprocessing.StandardScaler().fit(X_train)\n",
    "    X_train_scaled = scaler.transform(X_train)\n",
    "    X_test_scaled = scaler.transform(X_test)\n",
    "    \n",
    "    lassocv= LassoCV(alphas=alphas, cv=2, max_iter=100000)\n",
    "    lassocv.fit(X_train_scaled, Y_train)\n",
    "    \n",
    "    lasso_best_alpha = Lasso(alpha=round(lassocv.alpha_,2))\n",
    "    lasso_best_alpha.fit(X_train_scaled, Y_train)\n",
    "    Lasso_A_Score = lasso_best_alpha.score(X_test_scaled, Y_test)\n",
    "    \n",
    "    pred = lasso_best_alpha.predict(X_test_scaled)\n",
    "    \n",
    "    Adj_r2 = 1 - (1-Lasso_A_Score) * (len(y)-1)/(len(y)-X.shape[1]-1)\n",
    "    AR2_Base.append(Adj_r2)\n",
    "    \n",
    "    Lasso_Alphas.append(lassocv.alpha_)\n",
    "    \n",
    "    mae = mean_absolute_error(Y_test, pred)\n",
    "    MAE_Base.append(mae)    "
   ]
  },
  {
   "cell_type": "code",
   "execution_count": 8,
   "id": "49c0205b",
   "metadata": {},
   "outputs": [
    {
     "data": {
      "text/html": [
       "<div>\n",
       "<style scoped>\n",
       "    .dataframe tbody tr th:only-of-type {\n",
       "        vertical-align: middle;\n",
       "    }\n",
       "\n",
       "    .dataframe tbody tr th {\n",
       "        vertical-align: top;\n",
       "    }\n",
       "\n",
       "    .dataframe thead th {\n",
       "        text-align: right;\n",
       "    }\n",
       "</style>\n",
       "<table border=\"1\" class=\"dataframe\">\n",
       "  <thead>\n",
       "    <tr style=\"text-align: right;\">\n",
       "      <th></th>\n",
       "      <th>AR2_Base</th>\n",
       "      <th>MAE_Base</th>\n",
       "    </tr>\n",
       "  </thead>\n",
       "  <tbody>\n",
       "    <tr>\n",
       "      <th>0</th>\n",
       "      <td>0.807526</td>\n",
       "      <td>15716.597993</td>\n",
       "    </tr>\n",
       "    <tr>\n",
       "      <th>1</th>\n",
       "      <td>0.863895</td>\n",
       "      <td>14597.539455</td>\n",
       "    </tr>\n",
       "    <tr>\n",
       "      <th>2</th>\n",
       "      <td>0.793657</td>\n",
       "      <td>15289.251147</td>\n",
       "    </tr>\n",
       "    <tr>\n",
       "      <th>3</th>\n",
       "      <td>0.906853</td>\n",
       "      <td>14491.916096</td>\n",
       "    </tr>\n",
       "    <tr>\n",
       "      <th>4</th>\n",
       "      <td>0.914372</td>\n",
       "      <td>13577.563616</td>\n",
       "    </tr>\n",
       "    <tr>\n",
       "      <th>...</th>\n",
       "      <td>...</td>\n",
       "      <td>...</td>\n",
       "    </tr>\n",
       "    <tr>\n",
       "      <th>95</th>\n",
       "      <td>0.916038</td>\n",
       "      <td>13574.966223</td>\n",
       "    </tr>\n",
       "    <tr>\n",
       "      <th>96</th>\n",
       "      <td>0.898161</td>\n",
       "      <td>14518.101423</td>\n",
       "    </tr>\n",
       "    <tr>\n",
       "      <th>97</th>\n",
       "      <td>0.904075</td>\n",
       "      <td>13468.807629</td>\n",
       "    </tr>\n",
       "    <tr>\n",
       "      <th>98</th>\n",
       "      <td>0.858369</td>\n",
       "      <td>14649.604215</td>\n",
       "    </tr>\n",
       "    <tr>\n",
       "      <th>99</th>\n",
       "      <td>0.916197</td>\n",
       "      <td>14514.966343</td>\n",
       "    </tr>\n",
       "  </tbody>\n",
       "</table>\n",
       "<p>100 rows × 2 columns</p>\n",
       "</div>"
      ],
      "text/plain": [
       "    AR2_Base      MAE_Base\n",
       "0   0.807526  15716.597993\n",
       "1   0.863895  14597.539455\n",
       "2   0.793657  15289.251147\n",
       "3   0.906853  14491.916096\n",
       "4   0.914372  13577.563616\n",
       "..       ...           ...\n",
       "95  0.916038  13574.966223\n",
       "96  0.898161  14518.101423\n",
       "97  0.904075  13468.807629\n",
       "98  0.858369  14649.604215\n",
       "99  0.916197  14514.966343\n",
       "\n",
       "[100 rows x 2 columns]"
      ]
     },
     "execution_count": 8,
     "metadata": {},
     "output_type": "execute_result"
    }
   ],
   "source": [
    "Base = pd.DataFrame({'AR2_Base': AR2_Base, 'MAE_Base': MAE_Base})\n",
    "Base"
   ]
  },
  {
   "cell_type": "code",
   "execution_count": null,
   "id": "e277eb49",
   "metadata": {},
   "outputs": [],
   "source": []
  },
  {
   "cell_type": "code",
   "execution_count": 9,
   "id": "3d063412",
   "metadata": {},
   "outputs": [],
   "source": [
    "base_drop1 = pd.read_csv('BaseDrop1.csv')"
   ]
  },
  {
   "cell_type": "code",
   "execution_count": 10,
   "id": "3bdab448",
   "metadata": {},
   "outputs": [
    {
     "data": {
      "text/plain": [
       "(2579, 299)"
      ]
     },
     "execution_count": 10,
     "metadata": {},
     "output_type": "execute_result"
    }
   ],
   "source": [
    "base_drop1.shape"
   ]
  },
  {
   "cell_type": "code",
   "execution_count": 11,
   "id": "7093a28a",
   "metadata": {},
   "outputs": [],
   "source": [
    "X2 = base_drop1.drop(['SalePrice'], axis=1).values\n",
    "y2 = base_drop1.SalePrice.values"
   ]
  },
  {
   "cell_type": "code",
   "execution_count": 12,
   "id": "2bb826b8",
   "metadata": {},
   "outputs": [
    {
     "data": {
      "text/plain": [
       "2579"
      ]
     },
     "execution_count": 12,
     "metadata": {},
     "output_type": "execute_result"
    }
   ],
   "source": [
    "len(y2)"
   ]
  },
  {
   "cell_type": "code",
   "execution_count": 13,
   "id": "2cc1e0a0",
   "metadata": {},
   "outputs": [
    {
     "data": {
      "text/plain": [
       "(2579, 298)"
      ]
     },
     "execution_count": 13,
     "metadata": {},
     "output_type": "execute_result"
    }
   ],
   "source": [
    "X2.shape"
   ]
  },
  {
   "cell_type": "code",
   "execution_count": 14,
   "id": "9c937fde",
   "metadata": {},
   "outputs": [
    {
     "data": {
      "text/plain": [
       "298"
      ]
     },
     "execution_count": 14,
     "metadata": {},
     "output_type": "execute_result"
    }
   ],
   "source": [
    "X2.shape[1]"
   ]
  },
  {
   "cell_type": "code",
   "execution_count": 15,
   "id": "2e488cc4",
   "metadata": {},
   "outputs": [],
   "source": [
    "AR2_Drop1 = []\n",
    "MAE_Drop1 = []\n",
    "\n",
    "Lasso_Alphas = []\n",
    "alphas = 10**np.linspace(10,-2,100)*0.5\n",
    "\n",
    "for i in range(100):\n",
    "    \n",
    "    X_train, X_test, Y_train, Y_test = train_test_split(X2,y2,test_size=0.25)\n",
    "    \n",
    "    scaler = preprocessing.StandardScaler().fit(X_train)\n",
    "    X_train_scaled = scaler.transform(X_train)\n",
    "    X_test_scaled = scaler.transform(X_test)\n",
    "    \n",
    "    lassocv= LassoCV(alphas=alphas, cv=2, max_iter=100000)\n",
    "    lassocv.fit(X_train_scaled, Y_train)\n",
    "    \n",
    "    lasso_best_alpha = Lasso(alpha=round(lassocv.alpha_,2))\n",
    "    lasso_best_alpha.fit(X_train_scaled, Y_train)\n",
    "    Lasso_A_Score = lasso_best_alpha.score(X_test_scaled, Y_test)\n",
    "    \n",
    "    pred = lasso_best_alpha.predict(X_test_scaled)\n",
    "    \n",
    "    Adj_r2 = 1 - (1-Lasso_A_Score) * (len(y)-1)/(len(y)-X.shape[1]-1)\n",
    "    AR2_Drop1.append(Adj_r2)\n",
    "    \n",
    "    Lasso_Alphas.append(lassocv.alpha_)\n",
    "    \n",
    "    mae = mean_absolute_error(Y_test, pred)\n",
    "    MAE_Drop1.append(mae)"
   ]
  },
  {
   "cell_type": "code",
   "execution_count": 16,
   "id": "9436095b",
   "metadata": {},
   "outputs": [
    {
     "data": {
      "text/html": [
       "<div>\n",
       "<style scoped>\n",
       "    .dataframe tbody tr th:only-of-type {\n",
       "        vertical-align: middle;\n",
       "    }\n",
       "\n",
       "    .dataframe tbody tr th {\n",
       "        vertical-align: top;\n",
       "    }\n",
       "\n",
       "    .dataframe thead th {\n",
       "        text-align: right;\n",
       "    }\n",
       "</style>\n",
       "<table border=\"1\" class=\"dataframe\">\n",
       "  <thead>\n",
       "    <tr style=\"text-align: right;\">\n",
       "      <th></th>\n",
       "      <th>AR2_Drop1</th>\n",
       "      <th>MAE_Drop1</th>\n",
       "    </tr>\n",
       "  </thead>\n",
       "  <tbody>\n",
       "    <tr>\n",
       "      <th>0</th>\n",
       "      <td>0.908491</td>\n",
       "      <td>13707.421976</td>\n",
       "    </tr>\n",
       "    <tr>\n",
       "      <th>1</th>\n",
       "      <td>0.904135</td>\n",
       "      <td>15238.515083</td>\n",
       "    </tr>\n",
       "    <tr>\n",
       "      <th>2</th>\n",
       "      <td>0.918752</td>\n",
       "      <td>13731.985540</td>\n",
       "    </tr>\n",
       "    <tr>\n",
       "      <th>3</th>\n",
       "      <td>0.914385</td>\n",
       "      <td>14560.106148</td>\n",
       "    </tr>\n",
       "    <tr>\n",
       "      <th>4</th>\n",
       "      <td>0.919747</td>\n",
       "      <td>13559.890302</td>\n",
       "    </tr>\n",
       "    <tr>\n",
       "      <th>...</th>\n",
       "      <td>...</td>\n",
       "      <td>...</td>\n",
       "    </tr>\n",
       "    <tr>\n",
       "      <th>95</th>\n",
       "      <td>0.915920</td>\n",
       "      <td>14538.487884</td>\n",
       "    </tr>\n",
       "    <tr>\n",
       "      <th>96</th>\n",
       "      <td>0.906134</td>\n",
       "      <td>14265.588823</td>\n",
       "    </tr>\n",
       "    <tr>\n",
       "      <th>97</th>\n",
       "      <td>0.899770</td>\n",
       "      <td>14570.459070</td>\n",
       "    </tr>\n",
       "    <tr>\n",
       "      <th>98</th>\n",
       "      <td>0.914397</td>\n",
       "      <td>13605.626074</td>\n",
       "    </tr>\n",
       "    <tr>\n",
       "      <th>99</th>\n",
       "      <td>0.919204</td>\n",
       "      <td>13327.091658</td>\n",
       "    </tr>\n",
       "  </tbody>\n",
       "</table>\n",
       "<p>100 rows × 2 columns</p>\n",
       "</div>"
      ],
      "text/plain": [
       "    AR2_Drop1     MAE_Drop1\n",
       "0    0.908491  13707.421976\n",
       "1    0.904135  15238.515083\n",
       "2    0.918752  13731.985540\n",
       "3    0.914385  14560.106148\n",
       "4    0.919747  13559.890302\n",
       "..        ...           ...\n",
       "95   0.915920  14538.487884\n",
       "96   0.906134  14265.588823\n",
       "97   0.899770  14570.459070\n",
       "98   0.914397  13605.626074\n",
       "99   0.919204  13327.091658\n",
       "\n",
       "[100 rows x 2 columns]"
      ]
     },
     "execution_count": 16,
     "metadata": {},
     "output_type": "execute_result"
    }
   ],
   "source": [
    "BaseDrop1 = pd.DataFrame({'AR2_Drop1': AR2_Drop1, 'MAE_Drop1': MAE_Drop1})\n",
    "BaseDrop1"
   ]
  },
  {
   "cell_type": "code",
   "execution_count": null,
   "id": "9ddc0ab1",
   "metadata": {},
   "outputs": [],
   "source": []
  },
  {
   "cell_type": "code",
   "execution_count": 17,
   "id": "8031725b",
   "metadata": {},
   "outputs": [],
   "source": [
    "base_drop_IF = pd.read_csv('BaseDropIF.csv')"
   ]
  },
  {
   "cell_type": "code",
   "execution_count": 18,
   "id": "a0fdae44",
   "metadata": {},
   "outputs": [
    {
     "data": {
      "text/plain": [
       "(2568, 299)"
      ]
     },
     "execution_count": 18,
     "metadata": {},
     "output_type": "execute_result"
    }
   ],
   "source": [
    "base_drop_IF.shape"
   ]
  },
  {
   "cell_type": "code",
   "execution_count": 19,
   "id": "87ee1957",
   "metadata": {},
   "outputs": [],
   "source": [
    "X3 = base_drop_IF.drop(['SalePrice'], axis=1).values\n",
    "y3 = base_drop_IF.SalePrice.values"
   ]
  },
  {
   "cell_type": "code",
   "execution_count": 20,
   "id": "ce81647d",
   "metadata": {},
   "outputs": [],
   "source": [
    "AR2_DropIF = []\n",
    "MAE_DropIF = []\n",
    "\n",
    "Lasso_Alphas = []\n",
    "alphas = 10**np.linspace(10,-2,100)*0.5\n",
    "\n",
    "for i in range(100):\n",
    "    \n",
    "    X_train, X_test, Y_train, Y_test = train_test_split(X3,y3,test_size=0.25)\n",
    "    \n",
    "    scaler = preprocessing.StandardScaler().fit(X_train)\n",
    "    X_train_scaled = scaler.transform(X_train)\n",
    "    X_test_scaled = scaler.transform(X_test)\n",
    "    \n",
    "    lassocv= LassoCV(alphas=alphas, cv=2, max_iter=100000)\n",
    "    lassocv.fit(X_train_scaled, Y_train)\n",
    "    \n",
    "    lasso_best_alpha = Lasso(alpha=round(lassocv.alpha_,2))\n",
    "    lasso_best_alpha.fit(X_train_scaled, Y_train)\n",
    "    Lasso_A_Score = lasso_best_alpha.score(X_test_scaled, Y_test)\n",
    "    \n",
    "    pred = lasso_best_alpha.predict(X_test_scaled)\n",
    "    \n",
    "    Adj_r2 = 1 - (1-Lasso_A_Score) * (len(y)-1)/(len(y)-X.shape[1]-1)\n",
    "    AR2_DropIF.append(Adj_r2)\n",
    "    \n",
    "    Lasso_Alphas.append(lassocv.alpha_)\n",
    "    \n",
    "    mae = mean_absolute_error(Y_test, pred)\n",
    "    MAE_DropIF.append(mae)"
   ]
  },
  {
   "cell_type": "code",
   "execution_count": 21,
   "id": "bbf6de8d",
   "metadata": {},
   "outputs": [
    {
     "data": {
      "text/html": [
       "<div>\n",
       "<style scoped>\n",
       "    .dataframe tbody tr th:only-of-type {\n",
       "        vertical-align: middle;\n",
       "    }\n",
       "\n",
       "    .dataframe tbody tr th {\n",
       "        vertical-align: top;\n",
       "    }\n",
       "\n",
       "    .dataframe thead th {\n",
       "        text-align: right;\n",
       "    }\n",
       "</style>\n",
       "<table border=\"1\" class=\"dataframe\">\n",
       "  <thead>\n",
       "    <tr style=\"text-align: right;\">\n",
       "      <th></th>\n",
       "      <th>AR2_DropIF</th>\n",
       "      <th>MAE_DropIF</th>\n",
       "    </tr>\n",
       "  </thead>\n",
       "  <tbody>\n",
       "    <tr>\n",
       "      <th>0</th>\n",
       "      <td>0.924256</td>\n",
       "      <td>13541.557120</td>\n",
       "    </tr>\n",
       "    <tr>\n",
       "      <th>1</th>\n",
       "      <td>0.924957</td>\n",
       "      <td>13578.172796</td>\n",
       "    </tr>\n",
       "    <tr>\n",
       "      <th>2</th>\n",
       "      <td>0.909520</td>\n",
       "      <td>13895.534904</td>\n",
       "    </tr>\n",
       "    <tr>\n",
       "      <th>3</th>\n",
       "      <td>0.915728</td>\n",
       "      <td>14340.090968</td>\n",
       "    </tr>\n",
       "    <tr>\n",
       "      <th>4</th>\n",
       "      <td>0.918621</td>\n",
       "      <td>14070.860922</td>\n",
       "    </tr>\n",
       "    <tr>\n",
       "      <th>...</th>\n",
       "      <td>...</td>\n",
       "      <td>...</td>\n",
       "    </tr>\n",
       "    <tr>\n",
       "      <th>95</th>\n",
       "      <td>0.925438</td>\n",
       "      <td>12766.924467</td>\n",
       "    </tr>\n",
       "    <tr>\n",
       "      <th>96</th>\n",
       "      <td>0.921991</td>\n",
       "      <td>13351.374465</td>\n",
       "    </tr>\n",
       "    <tr>\n",
       "      <th>97</th>\n",
       "      <td>0.906890</td>\n",
       "      <td>13479.758613</td>\n",
       "    </tr>\n",
       "    <tr>\n",
       "      <th>98</th>\n",
       "      <td>0.908501</td>\n",
       "      <td>14402.956702</td>\n",
       "    </tr>\n",
       "    <tr>\n",
       "      <th>99</th>\n",
       "      <td>0.920807</td>\n",
       "      <td>13614.026989</td>\n",
       "    </tr>\n",
       "  </tbody>\n",
       "</table>\n",
       "<p>100 rows × 2 columns</p>\n",
       "</div>"
      ],
      "text/plain": [
       "    AR2_DropIF    MAE_DropIF\n",
       "0     0.924256  13541.557120\n",
       "1     0.924957  13578.172796\n",
       "2     0.909520  13895.534904\n",
       "3     0.915728  14340.090968\n",
       "4     0.918621  14070.860922\n",
       "..         ...           ...\n",
       "95    0.925438  12766.924467\n",
       "96    0.921991  13351.374465\n",
       "97    0.906890  13479.758613\n",
       "98    0.908501  14402.956702\n",
       "99    0.920807  13614.026989\n",
       "\n",
       "[100 rows x 2 columns]"
      ]
     },
     "execution_count": 21,
     "metadata": {},
     "output_type": "execute_result"
    }
   ],
   "source": [
    "BaseDropIF = pd.DataFrame({'AR2_DropIF': AR2_DropIF, 'MAE_DropIF': MAE_DropIF})\n",
    "BaseDropIF"
   ]
  },
  {
   "cell_type": "code",
   "execution_count": null,
   "id": "08b6da7c",
   "metadata": {},
   "outputs": [],
   "source": []
  },
  {
   "cell_type": "code",
   "execution_count": 22,
   "id": "4de2cae0",
   "metadata": {},
   "outputs": [
    {
     "data": {
      "text/html": [
       "<div>\n",
       "<style scoped>\n",
       "    .dataframe tbody tr th:only-of-type {\n",
       "        vertical-align: middle;\n",
       "    }\n",
       "\n",
       "    .dataframe tbody tr th {\n",
       "        vertical-align: top;\n",
       "    }\n",
       "\n",
       "    .dataframe thead th {\n",
       "        text-align: right;\n",
       "    }\n",
       "</style>\n",
       "<table border=\"1\" class=\"dataframe\">\n",
       "  <thead>\n",
       "    <tr style=\"text-align: right;\">\n",
       "      <th></th>\n",
       "      <th>AR2_Base</th>\n",
       "      <th>MAE_Base</th>\n",
       "      <th>AR2_Drop1</th>\n",
       "      <th>MAE_Drop1</th>\n",
       "      <th>AR2_DropIF</th>\n",
       "      <th>MAE_DropIF</th>\n",
       "    </tr>\n",
       "  </thead>\n",
       "  <tbody>\n",
       "    <tr>\n",
       "      <th>0</th>\n",
       "      <td>0.807526</td>\n",
       "      <td>15716.597993</td>\n",
       "      <td>0.908491</td>\n",
       "      <td>13707.421976</td>\n",
       "      <td>0.924256</td>\n",
       "      <td>13541.557120</td>\n",
       "    </tr>\n",
       "    <tr>\n",
       "      <th>1</th>\n",
       "      <td>0.863895</td>\n",
       "      <td>14597.539455</td>\n",
       "      <td>0.904135</td>\n",
       "      <td>15238.515083</td>\n",
       "      <td>0.924957</td>\n",
       "      <td>13578.172796</td>\n",
       "    </tr>\n",
       "    <tr>\n",
       "      <th>2</th>\n",
       "      <td>0.793657</td>\n",
       "      <td>15289.251147</td>\n",
       "      <td>0.918752</td>\n",
       "      <td>13731.985540</td>\n",
       "      <td>0.909520</td>\n",
       "      <td>13895.534904</td>\n",
       "    </tr>\n",
       "    <tr>\n",
       "      <th>3</th>\n",
       "      <td>0.906853</td>\n",
       "      <td>14491.916096</td>\n",
       "      <td>0.914385</td>\n",
       "      <td>14560.106148</td>\n",
       "      <td>0.915728</td>\n",
       "      <td>14340.090968</td>\n",
       "    </tr>\n",
       "    <tr>\n",
       "      <th>4</th>\n",
       "      <td>0.914372</td>\n",
       "      <td>13577.563616</td>\n",
       "      <td>0.919747</td>\n",
       "      <td>13559.890302</td>\n",
       "      <td>0.918621</td>\n",
       "      <td>14070.860922</td>\n",
       "    </tr>\n",
       "    <tr>\n",
       "      <th>...</th>\n",
       "      <td>...</td>\n",
       "      <td>...</td>\n",
       "      <td>...</td>\n",
       "      <td>...</td>\n",
       "      <td>...</td>\n",
       "      <td>...</td>\n",
       "    </tr>\n",
       "    <tr>\n",
       "      <th>95</th>\n",
       "      <td>0.916038</td>\n",
       "      <td>13574.966223</td>\n",
       "      <td>0.915920</td>\n",
       "      <td>14538.487884</td>\n",
       "      <td>0.925438</td>\n",
       "      <td>12766.924467</td>\n",
       "    </tr>\n",
       "    <tr>\n",
       "      <th>96</th>\n",
       "      <td>0.898161</td>\n",
       "      <td>14518.101423</td>\n",
       "      <td>0.906134</td>\n",
       "      <td>14265.588823</td>\n",
       "      <td>0.921991</td>\n",
       "      <td>13351.374465</td>\n",
       "    </tr>\n",
       "    <tr>\n",
       "      <th>97</th>\n",
       "      <td>0.904075</td>\n",
       "      <td>13468.807629</td>\n",
       "      <td>0.899770</td>\n",
       "      <td>14570.459070</td>\n",
       "      <td>0.906890</td>\n",
       "      <td>13479.758613</td>\n",
       "    </tr>\n",
       "    <tr>\n",
       "      <th>98</th>\n",
       "      <td>0.858369</td>\n",
       "      <td>14649.604215</td>\n",
       "      <td>0.914397</td>\n",
       "      <td>13605.626074</td>\n",
       "      <td>0.908501</td>\n",
       "      <td>14402.956702</td>\n",
       "    </tr>\n",
       "    <tr>\n",
       "      <th>99</th>\n",
       "      <td>0.916197</td>\n",
       "      <td>14514.966343</td>\n",
       "      <td>0.919204</td>\n",
       "      <td>13327.091658</td>\n",
       "      <td>0.920807</td>\n",
       "      <td>13614.026989</td>\n",
       "    </tr>\n",
       "  </tbody>\n",
       "</table>\n",
       "<p>100 rows × 6 columns</p>\n",
       "</div>"
      ],
      "text/plain": [
       "    AR2_Base      MAE_Base  AR2_Drop1     MAE_Drop1  AR2_DropIF    MAE_DropIF\n",
       "0   0.807526  15716.597993   0.908491  13707.421976    0.924256  13541.557120\n",
       "1   0.863895  14597.539455   0.904135  15238.515083    0.924957  13578.172796\n",
       "2   0.793657  15289.251147   0.918752  13731.985540    0.909520  13895.534904\n",
       "3   0.906853  14491.916096   0.914385  14560.106148    0.915728  14340.090968\n",
       "4   0.914372  13577.563616   0.919747  13559.890302    0.918621  14070.860922\n",
       "..       ...           ...        ...           ...         ...           ...\n",
       "95  0.916038  13574.966223   0.915920  14538.487884    0.925438  12766.924467\n",
       "96  0.898161  14518.101423   0.906134  14265.588823    0.921991  13351.374465\n",
       "97  0.904075  13468.807629   0.899770  14570.459070    0.906890  13479.758613\n",
       "98  0.858369  14649.604215   0.914397  13605.626074    0.908501  14402.956702\n",
       "99  0.916197  14514.966343   0.919204  13327.091658    0.920807  13614.026989\n",
       "\n",
       "[100 rows x 6 columns]"
      ]
     },
     "execution_count": 22,
     "metadata": {},
     "output_type": "execute_result"
    }
   ],
   "source": [
    "box = pd.concat([Base, BaseDrop1, BaseDropIF], axis=1)\n",
    "box"
   ]
  },
  {
   "cell_type": "code",
   "execution_count": 23,
   "id": "c4712222",
   "metadata": {},
   "outputs": [
    {
     "data": {
      "text/html": [
       "<div>\n",
       "<style scoped>\n",
       "    .dataframe tbody tr th:only-of-type {\n",
       "        vertical-align: middle;\n",
       "    }\n",
       "\n",
       "    .dataframe tbody tr th {\n",
       "        vertical-align: top;\n",
       "    }\n",
       "\n",
       "    .dataframe thead th {\n",
       "        text-align: right;\n",
       "    }\n",
       "</style>\n",
       "<table border=\"1\" class=\"dataframe\">\n",
       "  <thead>\n",
       "    <tr style=\"text-align: right;\">\n",
       "      <th></th>\n",
       "      <th>AR2_Base</th>\n",
       "      <th>MAE_Base</th>\n",
       "      <th>AR2_Drop1</th>\n",
       "      <th>MAE_Drop1</th>\n",
       "      <th>AR2_DropIF</th>\n",
       "      <th>MAE_DropIF</th>\n",
       "    </tr>\n",
       "  </thead>\n",
       "  <tbody>\n",
       "    <tr>\n",
       "      <th>count</th>\n",
       "      <td>100.000000</td>\n",
       "      <td>100.000000</td>\n",
       "      <td>100.000000</td>\n",
       "      <td>100.000000</td>\n",
       "      <td>100.000000</td>\n",
       "      <td>100.000000</td>\n",
       "    </tr>\n",
       "    <tr>\n",
       "      <th>mean</th>\n",
       "      <td>0.880016</td>\n",
       "      <td>14385.278068</td>\n",
       "      <td>0.912378</td>\n",
       "      <td>14032.517853</td>\n",
       "      <td>0.915007</td>\n",
       "      <td>13709.293555</td>\n",
       "    </tr>\n",
       "    <tr>\n",
       "      <th>std</th>\n",
       "      <td>0.035206</td>\n",
       "      <td>685.434016</td>\n",
       "      <td>0.008741</td>\n",
       "      <td>541.915987</td>\n",
       "      <td>0.007612</td>\n",
       "      <td>523.765688</td>\n",
       "    </tr>\n",
       "    <tr>\n",
       "      <th>min</th>\n",
       "      <td>0.765144</td>\n",
       "      <td>12770.742708</td>\n",
       "      <td>0.878991</td>\n",
       "      <td>12632.911672</td>\n",
       "      <td>0.888737</td>\n",
       "      <td>12596.748527</td>\n",
       "    </tr>\n",
       "    <tr>\n",
       "      <th>25%</th>\n",
       "      <td>0.853733</td>\n",
       "      <td>13931.789862</td>\n",
       "      <td>0.907659</td>\n",
       "      <td>13668.038422</td>\n",
       "      <td>0.909063</td>\n",
       "      <td>13347.869338</td>\n",
       "    </tr>\n",
       "    <tr>\n",
       "      <th>50%</th>\n",
       "      <td>0.891674</td>\n",
       "      <td>14433.064032</td>\n",
       "      <td>0.913181</td>\n",
       "      <td>14043.329905</td>\n",
       "      <td>0.915708</td>\n",
       "      <td>13715.892397</td>\n",
       "    </tr>\n",
       "    <tr>\n",
       "      <th>75%</th>\n",
       "      <td>0.907869</td>\n",
       "      <td>14770.521489</td>\n",
       "      <td>0.918190</td>\n",
       "      <td>14382.746251</td>\n",
       "      <td>0.919883</td>\n",
       "      <td>14123.251611</td>\n",
       "    </tr>\n",
       "    <tr>\n",
       "      <th>max</th>\n",
       "      <td>0.924012</td>\n",
       "      <td>16247.652736</td>\n",
       "      <td>0.933401</td>\n",
       "      <td>15238.515083</td>\n",
       "      <td>0.931261</td>\n",
       "      <td>14961.114619</td>\n",
       "    </tr>\n",
       "  </tbody>\n",
       "</table>\n",
       "</div>"
      ],
      "text/plain": [
       "         AR2_Base      MAE_Base   AR2_Drop1     MAE_Drop1  AR2_DropIF  \\\n",
       "count  100.000000    100.000000  100.000000    100.000000  100.000000   \n",
       "mean     0.880016  14385.278068    0.912378  14032.517853    0.915007   \n",
       "std      0.035206    685.434016    0.008741    541.915987    0.007612   \n",
       "min      0.765144  12770.742708    0.878991  12632.911672    0.888737   \n",
       "25%      0.853733  13931.789862    0.907659  13668.038422    0.909063   \n",
       "50%      0.891674  14433.064032    0.913181  14043.329905    0.915708   \n",
       "75%      0.907869  14770.521489    0.918190  14382.746251    0.919883   \n",
       "max      0.924012  16247.652736    0.933401  15238.515083    0.931261   \n",
       "\n",
       "         MAE_DropIF  \n",
       "count    100.000000  \n",
       "mean   13709.293555  \n",
       "std      523.765688  \n",
       "min    12596.748527  \n",
       "25%    13347.869338  \n",
       "50%    13715.892397  \n",
       "75%    14123.251611  \n",
       "max    14961.114619  "
      ]
     },
     "execution_count": 23,
     "metadata": {},
     "output_type": "execute_result"
    }
   ],
   "source": [
    "box.describe()"
   ]
  },
  {
   "cell_type": "code",
   "execution_count": 24,
   "id": "f2551593",
   "metadata": {},
   "outputs": [
    {
     "data": {
      "image/png": "[encoded data removed]",
      "text/plain": [
       "<Figure size 432x288 with 1 Axes>"
      ]
     },
     "metadata": {
      "needs_background": "light"
     },
     "output_type": "display_data"
    }
   ],
   "source": [
    "sns.boxplot(data=box[['AR2_Base','AR2_Drop1', 'AR2_DropIF']]);"
   ]
  },
  {
   "cell_type": "code",
   "execution_count": 25,
   "id": "51a15f0d",
   "metadata": {},
   "outputs": [
    {
     "data": {
      "image/png": "[encoded data removed]",
      "text/plain": [
       "<Figure size 432x288 with 1 Axes>"
      ]
     },
     "metadata": {
      "needs_background": "light"
     },
     "output_type": "display_data"
    }
   ],
   "source": [
    "sns.boxplot(data=box[['MAE_Base', 'MAE_Drop1', 'MAE_DropIF']]);"
   ]
  },
  {
   "cell_type": "code",
   "execution_count": null,
   "id": "a0cac0be",
   "metadata": {},
   "outputs": [],
   "source": []
  },
  {
   "cell_type": "code",
   "execution_count": null,
   "id": "d9a9ffe1",
   "metadata": {},
   "outputs": [],
   "source": []
  }
 ],
 "metadata": {
  "hide_input": false,
  "kernelspec": {
   "display_name": "Python 3 (ipykernel)",
   "language": "python",
   "name": "python3"
  },
  "language_info": {
   "codemirror_mode": {
    "name": "ipython",
    "version": 3
   },
   "file_extension": ".py",
   "mimetype": "text/x-python",
   "name": "python",
   "nbconvert_exporter": "python",
   "pygments_lexer": "ipython3",
   "version": "3.8.8"
  },
  "varInspector": {
   "cols": {
    "lenName": 16,
    "lenType": 16,
    "lenVar": 40
   },
   "kernels_config": {
    "python": {
     "delete_cmd_postfix": "",
     "delete_cmd_prefix": "del ",
     "library": "var_list.py",
     "varRefreshCmd": "print(var_dic_list())"
    },
    "r": {
     "delete_cmd_postfix": ") ",
     "delete_cmd_prefix": "rm(",
     "library": "var_list.r",
     "varRefreshCmd": "cat(var_dic_list()) "
    }
   },
   "types_to_exclude": [
    "module",
    "function",
    "builtin_function_or_method",
    "instance",
    "_Feature"
   ],
   "window_display": false
  }
 },
 "nbformat": 4,
 "nbformat_minor": 5
}
