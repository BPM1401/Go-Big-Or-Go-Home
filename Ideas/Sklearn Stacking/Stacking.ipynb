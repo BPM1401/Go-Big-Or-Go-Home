{
 "cells": [
  {
   "cell_type": "code",
   "execution_count": 21,
   "id": "7475b10b",
   "metadata": {},
   "outputs": [],
   "source": [
    "import pandas as pd\n",
    "import numpy as np\n",
    "\n",
    "import sklearn \n",
    "\n",
    "from numpy import mean\n",
    "from numpy import std\n",
    "\n",
    "from sklearn.preprocessing import StandardScaler\n",
    "\n",
    "from sklearn.linear_model import Ridge\n",
    "#from sklearn.linear_model import Lasso\n",
    "#from sklearn.linear_model import ElasticNet\n",
    "#from sklearn.ensemble import RandomForestRegressor\n",
    "from sklearn.ensemble import GradientBoostingRegressor\n",
    "#from xgboost import XGBRegressor\n",
    "#from sklearn.svm import SVR\n",
    "\n",
    "from sklearn.ensemble import StackingRegressor\n",
    "\n",
    "from sklearn.model_selection import cross_val_score, cross_validate\n",
    "from sklearn.model_selection import RepeatedKFold\n",
    "\n",
    "#from sklearn.metrics import make_scorer\n",
    "\n",
    "from matplotlib import pyplot\n",
    "import seaborn as sns"
   ]
  },
  {
   "cell_type": "code",
   "execution_count": null,
   "id": "a280e257",
   "metadata": {},
   "outputs": [],
   "source": []
  },
  {
   "cell_type": "code",
   "execution_count": 22,
   "id": "70cdd078",
   "metadata": {},
   "outputs": [],
   "source": [
    "# Basic Ordinal Encoded Dataset for Non-Linear Models\n",
    "ordinal = pd.read_csv('../Data/BaseOrdinal.csv')\n",
    "\n",
    "X_o = ordinal.drop(['SalePrice'], axis=1).values\n",
    "y_o = ordinal.SalePrice.values\n",
    "\n",
    "scaler_o = StandardScaler()\n",
    "X_o = scaler_o.fit_transform(X_o)"
   ]
  },
  {
   "cell_type": "code",
   "execution_count": 23,
   "id": "40571c14",
   "metadata": {},
   "outputs": [],
   "source": [
    "# Basic Dummified Dataset for Linear Models\n",
    "base = pd.read_csv('../Data/BaseData.csv')\n",
    "\n",
    "X_b = base.drop(['SalePrice'], axis=1).values\n",
    "y_b = base.SalePrice.values\n",
    "\n",
    "scaler_b = StandardScaler()\n",
    "X_b = scaler_b.fit_transform(X_b)"
   ]
  },
  {
   "cell_type": "code",
   "execution_count": null,
   "id": "61dbb784",
   "metadata": {},
   "outputs": [],
   "source": []
  },
  {
   "cell_type": "code",
   "execution_count": null,
   "id": "75058ce7",
   "metadata": {},
   "outputs": [],
   "source": []
  },
  {
   "cell_type": "code",
   "execution_count": 24,
   "id": "3c4aafc6",
   "metadata": {},
   "outputs": [],
   "source": [
    "# get a stacking ensemble of models\n",
    "def get_stacking():\n",
    "    # define the base models\n",
    "    level0 = list()\n",
    "    level0.append(('ridge', Ridge()))\n",
    "    #level0.append(('cart', DecisionTreeRegressor()))\n",
    "    #level0.append(('svm', SVR()))\n",
    "    # define meta learner model\n",
    "    level1 = GradientBoostingRegressor()\n",
    "    # define the stacking ensemble\n",
    "    model = StackingRegressor(estimators=level0, final_estimator=level1, cv=5) \n",
    "    return model"
   ]
  },
  {
   "cell_type": "code",
   "execution_count": 25,
   "id": "e9da83ac",
   "metadata": {},
   "outputs": [],
   "source": [
    "def get_models():\n",
    "    models = dict()\n",
    "    models['ridge'] = Ridge() \n",
    "    models['gradient boost'] = GradientBoostingRegressor() \n",
    "    models['stacking'] = get_stacking() \n",
    "    return models"
   ]
  },
  {
   "cell_type": "code",
   "execution_count": 26,
   "id": "04a6f87b",
   "metadata": {},
   "outputs": [],
   "source": [
    "scoring = {'r2': 'r2',\n",
    "           'neg_mae': 'neg_mean_absolute_error'}"
   ]
  },
  {
   "cell_type": "code",
   "execution_count": 27,
   "id": "08c69df4",
   "metadata": {},
   "outputs": [],
   "source": [
    "def evaluate_model(model, X, y):\n",
    "    \n",
    "    # define the evaluation procedure\n",
    "    cv = RepeatedKFold(n_splits=5, n_repeats=1, random_state=1)\n",
    "    \n",
    "    # evaluate the model and collect the results\n",
    "    scores = cross_validate(model, X, y, scoring=scoring, cv=cv, n_jobs=-1) \n",
    "    \n",
    "    df = pd.DataFrame(scores)\n",
    "    \n",
    "    return df"
   ]
  },
  {
   "cell_type": "code",
   "execution_count": 28,
   "id": "53ebaa29",
   "metadata": {},
   "outputs": [],
   "source": [
    "df_ridge = evaluate_model(Ridge(), X_b, y_b)"
   ]
  },
  {
   "cell_type": "code",
   "execution_count": 29,
   "id": "822d7ea7",
   "metadata": {},
   "outputs": [
    {
     "data": {
      "text/html": [
       "<div>\n",
       "<style scoped>\n",
       "    .dataframe tbody tr th:only-of-type {\n",
       "        vertical-align: middle;\n",
       "    }\n",
       "\n",
       "    .dataframe tbody tr th {\n",
       "        vertical-align: top;\n",
       "    }\n",
       "\n",
       "    .dataframe thead th {\n",
       "        text-align: right;\n",
       "    }\n",
       "</style>\n",
       "<table border=\"1\" class=\"dataframe\">\n",
       "  <thead>\n",
       "    <tr style=\"text-align: right;\">\n",
       "      <th></th>\n",
       "      <th>fit_time</th>\n",
       "      <th>score_time</th>\n",
       "      <th>test_r2</th>\n",
       "      <th>test_neg_mae</th>\n",
       "    </tr>\n",
       "  </thead>\n",
       "  <tbody>\n",
       "    <tr>\n",
       "      <th>0</th>\n",
       "      <td>0.020833</td>\n",
       "      <td>0.000744</td>\n",
       "      <td>0.906156</td>\n",
       "      <td>-15376.607522</td>\n",
       "    </tr>\n",
       "    <tr>\n",
       "      <th>1</th>\n",
       "      <td>0.020825</td>\n",
       "      <td>0.000748</td>\n",
       "      <td>0.858142</td>\n",
       "      <td>-14672.309750</td>\n",
       "    </tr>\n",
       "    <tr>\n",
       "      <th>2</th>\n",
       "      <td>0.020866</td>\n",
       "      <td>0.000743</td>\n",
       "      <td>0.776891</td>\n",
       "      <td>-17184.203865</td>\n",
       "    </tr>\n",
       "    <tr>\n",
       "      <th>3</th>\n",
       "      <td>0.029019</td>\n",
       "      <td>0.000591</td>\n",
       "      <td>0.921214</td>\n",
       "      <td>-14480.647001</td>\n",
       "    </tr>\n",
       "    <tr>\n",
       "      <th>4</th>\n",
       "      <td>0.020927</td>\n",
       "      <td>0.000766</td>\n",
       "      <td>0.943580</td>\n",
       "      <td>-12824.545009</td>\n",
       "    </tr>\n",
       "  </tbody>\n",
       "</table>\n",
       "</div>"
      ],
      "text/plain": [
       "   fit_time  score_time   test_r2  test_neg_mae\n",
       "0  0.020833    0.000744  0.906156 -15376.607522\n",
       "1  0.020825    0.000748  0.858142 -14672.309750\n",
       "2  0.020866    0.000743  0.776891 -17184.203865\n",
       "3  0.029019    0.000591  0.921214 -14480.647001\n",
       "4  0.020927    0.000766  0.943580 -12824.545009"
      ]
     },
     "execution_count": 29,
     "metadata": {},
     "output_type": "execute_result"
    }
   ],
   "source": [
    "df_ridge"
   ]
  },
  {
   "cell_type": "code",
   "execution_count": 30,
   "id": "5e43fb5e",
   "metadata": {},
   "outputs": [],
   "source": [
    "df_gbm = evaluate_model(GradientBoostingRegressor(), X_o, y_o)"
   ]
  },
  {
   "cell_type": "code",
   "execution_count": 31,
   "id": "4cf4d5bc",
   "metadata": {},
   "outputs": [
    {
     "data": {
      "text/html": [
       "<div>\n",
       "<style scoped>\n",
       "    .dataframe tbody tr th:only-of-type {\n",
       "        vertical-align: middle;\n",
       "    }\n",
       "\n",
       "    .dataframe tbody tr th {\n",
       "        vertical-align: top;\n",
       "    }\n",
       "\n",
       "    .dataframe thead th {\n",
       "        text-align: right;\n",
       "    }\n",
       "</style>\n",
       "<table border=\"1\" class=\"dataframe\">\n",
       "  <thead>\n",
       "    <tr style=\"text-align: right;\">\n",
       "      <th></th>\n",
       "      <th>fit_time</th>\n",
       "      <th>score_time</th>\n",
       "      <th>test_r2</th>\n",
       "      <th>test_neg_mae</th>\n",
       "    </tr>\n",
       "  </thead>\n",
       "  <tbody>\n",
       "    <tr>\n",
       "      <th>0</th>\n",
       "      <td>0.938929</td>\n",
       "      <td>0.001829</td>\n",
       "      <td>0.920065</td>\n",
       "      <td>-14220.223546</td>\n",
       "    </tr>\n",
       "    <tr>\n",
       "      <th>1</th>\n",
       "      <td>0.934201</td>\n",
       "      <td>0.001217</td>\n",
       "      <td>0.832747</td>\n",
       "      <td>-13944.887391</td>\n",
       "    </tr>\n",
       "    <tr>\n",
       "      <th>2</th>\n",
       "      <td>0.930317</td>\n",
       "      <td>0.001482</td>\n",
       "      <td>0.919828</td>\n",
       "      <td>-14131.875073</td>\n",
       "    </tr>\n",
       "    <tr>\n",
       "      <th>3</th>\n",
       "      <td>0.984928</td>\n",
       "      <td>0.001204</td>\n",
       "      <td>0.904726</td>\n",
       "      <td>-13581.528823</td>\n",
       "    </tr>\n",
       "    <tr>\n",
       "      <th>4</th>\n",
       "      <td>0.934038</td>\n",
       "      <td>0.001589</td>\n",
       "      <td>0.927049</td>\n",
       "      <td>-13472.457807</td>\n",
       "    </tr>\n",
       "  </tbody>\n",
       "</table>\n",
       "</div>"
      ],
      "text/plain": [
       "   fit_time  score_time   test_r2  test_neg_mae\n",
       "0  0.938929    0.001829  0.920065 -14220.223546\n",
       "1  0.934201    0.001217  0.832747 -13944.887391\n",
       "2  0.930317    0.001482  0.919828 -14131.875073\n",
       "3  0.984928    0.001204  0.904726 -13581.528823\n",
       "4  0.934038    0.001589  0.927049 -13472.457807"
      ]
     },
     "execution_count": 31,
     "metadata": {},
     "output_type": "execute_result"
    }
   ],
   "source": [
    "df_gbm"
   ]
  },
  {
   "cell_type": "code",
   "execution_count": 32,
   "id": "45729b5d",
   "metadata": {},
   "outputs": [],
   "source": [
    "df_stack = evaluate_model(get_stacking(), X_b, y_b)"
   ]
  },
  {
   "cell_type": "code",
   "execution_count": 34,
   "id": "9cc694b8",
   "metadata": {},
   "outputs": [
    {
     "data": {
      "text/html": [
       "<div>\n",
       "<style scoped>\n",
       "    .dataframe tbody tr th:only-of-type {\n",
       "        vertical-align: middle;\n",
       "    }\n",
       "\n",
       "    .dataframe tbody tr th {\n",
       "        vertical-align: top;\n",
       "    }\n",
       "\n",
       "    .dataframe thead th {\n",
       "        text-align: right;\n",
       "    }\n",
       "</style>\n",
       "<table border=\"1\" class=\"dataframe\">\n",
       "  <thead>\n",
       "    <tr style=\"text-align: right;\">\n",
       "      <th></th>\n",
       "      <th>fit_time</th>\n",
       "      <th>score_time</th>\n",
       "      <th>test_r2</th>\n",
       "      <th>test_neg_mae</th>\n",
       "    </tr>\n",
       "  </thead>\n",
       "  <tbody>\n",
       "    <tr>\n",
       "      <th>count</th>\n",
       "      <td>5.000000</td>\n",
       "      <td>5.000000</td>\n",
       "      <td>5.000000</td>\n",
       "      <td>5.000000</td>\n",
       "    </tr>\n",
       "    <tr>\n",
       "      <th>mean</th>\n",
       "      <td>0.160006</td>\n",
       "      <td>0.001001</td>\n",
       "      <td>0.857099</td>\n",
       "      <td>-15031.881584</td>\n",
       "    </tr>\n",
       "    <tr>\n",
       "      <th>std</th>\n",
       "      <td>0.007975</td>\n",
       "      <td>0.000033</td>\n",
       "      <td>0.059020</td>\n",
       "      <td>1404.486334</td>\n",
       "    </tr>\n",
       "    <tr>\n",
       "      <th>min</th>\n",
       "      <td>0.151917</td>\n",
       "      <td>0.000974</td>\n",
       "      <td>0.810959</td>\n",
       "      <td>-16724.340916</td>\n",
       "    </tr>\n",
       "    <tr>\n",
       "      <th>25%</th>\n",
       "      <td>0.152628</td>\n",
       "      <td>0.000977</td>\n",
       "      <td>0.814665</td>\n",
       "      <td>-15649.305784</td>\n",
       "    </tr>\n",
       "    <tr>\n",
       "      <th>50%</th>\n",
       "      <td>0.159188</td>\n",
       "      <td>0.000980</td>\n",
       "      <td>0.818523</td>\n",
       "      <td>-15193.775571</td>\n",
       "    </tr>\n",
       "    <tr>\n",
       "      <th>75%</th>\n",
       "      <td>0.167346</td>\n",
       "      <td>0.001030</td>\n",
       "      <td>0.905973</td>\n",
       "      <td>-14680.199955</td>\n",
       "    </tr>\n",
       "    <tr>\n",
       "      <th>max</th>\n",
       "      <td>0.168949</td>\n",
       "      <td>0.001044</td>\n",
       "      <td>0.935374</td>\n",
       "      <td>-12911.785692</td>\n",
       "    </tr>\n",
       "  </tbody>\n",
       "</table>\n",
       "</div>"
      ],
      "text/plain": [
       "       fit_time  score_time   test_r2  test_neg_mae\n",
       "count  5.000000    5.000000  5.000000      5.000000\n",
       "mean   0.160006    0.001001  0.857099 -15031.881584\n",
       "std    0.007975    0.000033  0.059020   1404.486334\n",
       "min    0.151917    0.000974  0.810959 -16724.340916\n",
       "25%    0.152628    0.000977  0.814665 -15649.305784\n",
       "50%    0.159188    0.000980  0.818523 -15193.775571\n",
       "75%    0.167346    0.001030  0.905973 -14680.199955\n",
       "max    0.168949    0.001044  0.935374 -12911.785692"
      ]
     },
     "execution_count": 34,
     "metadata": {},
     "output_type": "execute_result"
    }
   ],
   "source": [
    "df_stack.describe()"
   ]
  },
  {
   "cell_type": "code",
   "execution_count": 35,
   "id": "afd28027",
   "metadata": {},
   "outputs": [
    {
     "data": {
      "image/png": "[encoded data removed]",
      "text/plain": [
       "<Figure size 432x288 with 1 Axes>"
      ]
     },
     "metadata": {
      "needs_background": "light"
     },
     "output_type": "display_data"
    }
   ],
   "source": [
    "sns.boxplot(data=df_stack[['test_r2']], showmeans=True,\n",
    "           meanprops={\"marker\":\"o\",\n",
    "                       \"markerfacecolor\":\"white\", \n",
    "                       \"markeredgecolor\":\"black\",\n",
    "                      \"markersize\":\"8\"});"
   ]
  }
 ],
 "metadata": {
  "hide_input": false,
  "kernelspec": {
   "display_name": "Python 3 (ipykernel)",
   "language": "python",
   "name": "python3"
  },
  "language_info": {
   "codemirror_mode": {
    "name": "ipython",
    "version": 3
   },
   "file_extension": ".py",
   "mimetype": "text/x-python",
   "name": "python",
   "nbconvert_exporter": "python",
   "pygments_lexer": "ipython3",
   "version": "3.8.8"
  },
  "varInspector": {
   "cols": {
    "lenName": 16,
    "lenType": 16,
    "lenVar": 40
   },
   "kernels_config": {
    "python": {
     "delete_cmd_postfix": "",
     "delete_cmd_prefix": "del ",
     "library": "var_list.py",
     "varRefreshCmd": "print(var_dic_list())"
    },
    "r": {
     "delete_cmd_postfix": ") ",
     "delete_cmd_prefix": "rm(",
     "library": "var_list.r",
     "varRefreshCmd": "cat(var_dic_list()) "
    }
   },
   "types_to_exclude": [
    "module",
    "function",
    "builtin_function_or_method",
    "instance",
    "_Feature"
   ],
   "window_display": false
  }
 },
 "nbformat": 4,
 "nbformat_minor": 5
}
